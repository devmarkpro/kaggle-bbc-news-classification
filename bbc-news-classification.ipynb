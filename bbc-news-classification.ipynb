{
 "cells": [
  {
   "cell_type": "code",
   "execution_count": 1,
   "id": "e3f165d4",
   "metadata": {},
   "outputs": [],
   "source": [
    "import numpy as np\n",
    "import pandas as pd\n",
    "from plotly.subplots import make_subplots\n",
    "import plotly.graph_objects as go\n",
    "import plotly.express as px\n",
    "from gensim.downloader import load\n",
    "import nltk\n",
    "from nltk.tokenize import word_tokenize\n",
    "import re\n",
    "from sklearn.decomposition import PCA\n",
    "from sklearn.decomposition import TruncatedSVD"
   ]
  },
  {
   "cell_type": "markdown",
   "id": "fa0928a8",
   "metadata": {},
   "source": [
    "## GloVe\n",
    "GloVe (Global Vectors for Word Representation) is an unsupervised learning algorithm for obtaining vector representations for words. It is based on the idea that the meaning of a word can be inferred from the context in which it appears. GloVe constructs a word vector space such that the dot product of two word vectors equals the logarithm of the probability of their co-occurrence.\n",
    "\n",
    "For example, if two words like economic and finance are not appeared together in a document, algorithms like tf-idf will assign them a low similarity score, while GloVe will assign them a high similarity score based on their co-occurrence in the corpus.\n",
    "\n",
    "For more information, you can refer to the [GloVe Website](https://nlp.stanford.edu/projects/glove/)."
   ]
  },
  {
   "cell_type": "code",
   "execution_count": 2,
   "id": "de0f55bc",
   "metadata": {},
   "outputs": [],
   "source": [
    "glove_model = load(\"glove-wiki-gigaword-100\")"
   ]
  },
  {
   "cell_type": "markdown",
   "id": "2fee1eff",
   "metadata": {},
   "source": [
    "## Natural Language Toolkit (NLTK)\n",
    "\n",
    "The Natural Language Toolkit (NLTK) is a set of libraries and programs for symbolic and NLP for the Python programming language. It provides easy-to-use interfaces to over 50 corpora and lexical resources, along with a suite of text processing libraries for classification, tokenization, stemming, tagging, parsing, and semantic reasoning.\n",
    "\n",
    "In this assignment, we will use NLTK to preprocess the news articles. This includes only tokenization, however, NLTK provides many other functionalities that can be useful for NLP tasks like stemming, lemmatization, and part-of-speech tagging.\n",
    "\n",
    "### Tokenization\n",
    "Tokenization is the process of splitting a text into individual words or tokens. NLTK provides a simple way to tokenize text using the `word_tokenize` function. This function splits the text into words and punctuation, returning a list of tokens."
   ]
  },
  {
   "cell_type": "code",
   "execution_count": 2,
   "id": "334b4de1",
   "metadata": {},
   "outputs": [
    {
     "name": "stderr",
     "output_type": "stream",
     "text": [
      "[nltk_data] Downloading package punkt to /Users/mark/nltk_data...\n",
      "[nltk_data]   Package punkt is already up-to-date!\n",
      "[nltk_data] Downloading package punkt_tab to /Users/mark/nltk_data...\n",
      "[nltk_data]   Package punkt_tab is already up-to-date!\n"
     ]
    },
    {
     "data": {
      "text/plain": [
       "True"
      ]
     },
     "execution_count": 2,
     "metadata": {},
     "output_type": "execute_result"
    }
   ],
   "source": [
    "nltk.download('punkt')\n",
    "nltk.download('punkt_tab')"
   ]
  },
  {
   "cell_type": "code",
   "execution_count": 3,
   "id": "6244b883",
   "metadata": {},
   "outputs": [],
   "source": [
    "CONFIG = {\n",
    "    \"train_path\": \"./learn-ai-bbc/BBC_News_Train.csv\",\n",
    "    \"test_path\": \"./learn-ai-bbc/BBC_News_Test.csv\",\n",
    "    \"sample_solution_path\": \"./learn-ai-bbc/BBC_News_Sample_Solution.csv\",\n",
    "    \"RANDOM_STATE\": 42,\n",
    "    \"DEFAULT_TEST_SIZE\": 0.2,\n",
    "    \"DEFAULT_TRAIN_SIZE\": 0.8,\n",
    "    \"N_COMPONENTS\": 100,\n",
    "}"
   ]
  },
  {
   "cell_type": "code",
   "execution_count": null,
   "id": "9d4f782f",
   "metadata": {},
   "outputs": [],
   "source": [
    "def load_data(train_path: str, test_path: str, sample_solution_path: str) -> tuple:\n",
    "    \"\"\"\n",
    "    Load the train, test, and sample solution datasets.\n",
    "\n",
    "    Args:\n",
    "        train_path (str): Path to the training dataset.\n",
    "        test_path (str): Path to the test dataset.\n",
    "        sample_solution_path (str): Path to the sample solution dataset.\n",
    "\n",
    "    Returns:\n",
    "        tuple: A tuple containing the train, test, and sample solution DataFrames.\n",
    "    \"\"\"\n",
    "    train_df = pd.read_csv(train_path)\n",
    "    test_df = pd.read_csv(test_path)\n",
    "    sample_solution_df = pd.read_csv(sample_solution_path)\n",
    "\n",
    "    return train_df, test_df, sample_solution_df"
   ]
  },
  {
   "cell_type": "code",
   "execution_count": 5,
   "id": "6ee6389a",
   "metadata": {},
   "outputs": [],
   "source": [
    "train_df, test_df, sample_solution_df = load_data(\n",
    "    train_path=CONFIG[\"train_path\"],\n",
    "    test_path=CONFIG[\"test_path\"],\n",
    "    sample_solution_path=CONFIG[\"sample_solution_path\"]\n",
    ")"
   ]
  },
  {
   "cell_type": "code",
   "execution_count": 6,
   "id": "a6ce78b6",
   "metadata": {},
   "outputs": [
    {
     "name": "stdout",
     "output_type": "stream",
     "text": [
      "(1490, 3)\n",
      "(735, 2)\n",
      "(735, 2)\n"
     ]
    }
   ],
   "source": [
    "print(train_df.shape)\n",
    "print(test_df.shape)\n",
    "print(sample_solution_df.shape)"
   ]
  },
  {
   "cell_type": "markdown",
   "id": "204b6651",
   "metadata": {},
   "source": [
    "`train_df` and `test_df` are the dataframes containing the training and test data, respectively. `sample_solution` is the dataframe containing the sample solution, matching the article IDs in the test set with the news category labels."
   ]
  },
  {
   "cell_type": "code",
   "execution_count": 7,
   "id": "ac40e6f0",
   "metadata": {},
   "outputs": [
    {
     "data": {
      "text/html": [
       "<div>\n",
       "<style scoped>\n",
       "    .dataframe tbody tr th:only-of-type {\n",
       "        vertical-align: middle;\n",
       "    }\n",
       "\n",
       "    .dataframe tbody tr th {\n",
       "        vertical-align: top;\n",
       "    }\n",
       "\n",
       "    .dataframe thead th {\n",
       "        text-align: right;\n",
       "    }\n",
       "</style>\n",
       "<table border=\"1\" class=\"dataframe\">\n",
       "  <thead>\n",
       "    <tr style=\"text-align: right;\">\n",
       "      <th></th>\n",
       "      <th>ArticleId</th>\n",
       "      <th>Text</th>\n",
       "      <th>Category</th>\n",
       "    </tr>\n",
       "  </thead>\n",
       "  <tbody>\n",
       "    <tr>\n",
       "      <th>0</th>\n",
       "      <td>1833</td>\n",
       "      <td>worldcom ex-boss launches defence lawyers defe...</td>\n",
       "      <td>business</td>\n",
       "    </tr>\n",
       "    <tr>\n",
       "      <th>1</th>\n",
       "      <td>154</td>\n",
       "      <td>german business confidence slides german busin...</td>\n",
       "      <td>business</td>\n",
       "    </tr>\n",
       "    <tr>\n",
       "      <th>2</th>\n",
       "      <td>1101</td>\n",
       "      <td>bbc poll indicates economic gloom citizens in ...</td>\n",
       "      <td>business</td>\n",
       "    </tr>\n",
       "    <tr>\n",
       "      <th>3</th>\n",
       "      <td>1976</td>\n",
       "      <td>lifestyle  governs mobile choice  faster  bett...</td>\n",
       "      <td>tech</td>\n",
       "    </tr>\n",
       "    <tr>\n",
       "      <th>4</th>\n",
       "      <td>917</td>\n",
       "      <td>enron bosses in $168m payout eighteen former e...</td>\n",
       "      <td>business</td>\n",
       "    </tr>\n",
       "  </tbody>\n",
       "</table>\n",
       "</div>"
      ],
      "text/plain": [
       "   ArticleId                                               Text  Category\n",
       "0       1833  worldcom ex-boss launches defence lawyers defe...  business\n",
       "1        154  german business confidence slides german busin...  business\n",
       "2       1101  bbc poll indicates economic gloom citizens in ...  business\n",
       "3       1976  lifestyle  governs mobile choice  faster  bett...      tech\n",
       "4        917  enron bosses in $168m payout eighteen former e...  business"
      ]
     },
     "execution_count": 7,
     "metadata": {},
     "output_type": "execute_result"
    }
   ],
   "source": [
    "train_df.head()"
   ]
  },
  {
   "cell_type": "code",
   "execution_count": 8,
   "id": "72656308",
   "metadata": {},
   "outputs": [
    {
     "data": {
      "text/html": [
       "<div>\n",
       "<style scoped>\n",
       "    .dataframe tbody tr th:only-of-type {\n",
       "        vertical-align: middle;\n",
       "    }\n",
       "\n",
       "    .dataframe tbody tr th {\n",
       "        vertical-align: top;\n",
       "    }\n",
       "\n",
       "    .dataframe thead th {\n",
       "        text-align: right;\n",
       "    }\n",
       "</style>\n",
       "<table border=\"1\" class=\"dataframe\">\n",
       "  <thead>\n",
       "    <tr style=\"text-align: right;\">\n",
       "      <th></th>\n",
       "      <th>ArticleId</th>\n",
       "      <th>Text</th>\n",
       "    </tr>\n",
       "  </thead>\n",
       "  <tbody>\n",
       "    <tr>\n",
       "      <th>0</th>\n",
       "      <td>1018</td>\n",
       "      <td>qpr keeper day heads for preston queens park r...</td>\n",
       "    </tr>\n",
       "    <tr>\n",
       "      <th>1</th>\n",
       "      <td>1319</td>\n",
       "      <td>software watching while you work software that...</td>\n",
       "    </tr>\n",
       "    <tr>\n",
       "      <th>2</th>\n",
       "      <td>1138</td>\n",
       "      <td>d arcy injury adds to ireland woe gordon d arc...</td>\n",
       "    </tr>\n",
       "    <tr>\n",
       "      <th>3</th>\n",
       "      <td>459</td>\n",
       "      <td>india s reliance family feud heats up the ongo...</td>\n",
       "    </tr>\n",
       "    <tr>\n",
       "      <th>4</th>\n",
       "      <td>1020</td>\n",
       "      <td>boro suffer morrison injury blow middlesbrough...</td>\n",
       "    </tr>\n",
       "  </tbody>\n",
       "</table>\n",
       "</div>"
      ],
      "text/plain": [
       "   ArticleId                                               Text\n",
       "0       1018  qpr keeper day heads for preston queens park r...\n",
       "1       1319  software watching while you work software that...\n",
       "2       1138  d arcy injury adds to ireland woe gordon d arc...\n",
       "3        459  india s reliance family feud heats up the ongo...\n",
       "4       1020  boro suffer morrison injury blow middlesbrough..."
      ]
     },
     "execution_count": 8,
     "metadata": {},
     "output_type": "execute_result"
    }
   ],
   "source": [
    "test_df.head()"
   ]
  },
  {
   "cell_type": "code",
   "execution_count": 9,
   "id": "57cb86eb",
   "metadata": {},
   "outputs": [
    {
     "data": {
      "text/html": [
       "<div>\n",
       "<style scoped>\n",
       "    .dataframe tbody tr th:only-of-type {\n",
       "        vertical-align: middle;\n",
       "    }\n",
       "\n",
       "    .dataframe tbody tr th {\n",
       "        vertical-align: top;\n",
       "    }\n",
       "\n",
       "    .dataframe thead th {\n",
       "        text-align: right;\n",
       "    }\n",
       "</style>\n",
       "<table border=\"1\" class=\"dataframe\">\n",
       "  <thead>\n",
       "    <tr style=\"text-align: right;\">\n",
       "      <th></th>\n",
       "      <th>ArticleId</th>\n",
       "      <th>Category</th>\n",
       "    </tr>\n",
       "  </thead>\n",
       "  <tbody>\n",
       "    <tr>\n",
       "      <th>0</th>\n",
       "      <td>1018</td>\n",
       "      <td>sport</td>\n",
       "    </tr>\n",
       "    <tr>\n",
       "      <th>1</th>\n",
       "      <td>1319</td>\n",
       "      <td>tech</td>\n",
       "    </tr>\n",
       "    <tr>\n",
       "      <th>2</th>\n",
       "      <td>1138</td>\n",
       "      <td>business</td>\n",
       "    </tr>\n",
       "    <tr>\n",
       "      <th>3</th>\n",
       "      <td>459</td>\n",
       "      <td>entertainment</td>\n",
       "    </tr>\n",
       "    <tr>\n",
       "      <th>4</th>\n",
       "      <td>1020</td>\n",
       "      <td>politics</td>\n",
       "    </tr>\n",
       "  </tbody>\n",
       "</table>\n",
       "</div>"
      ],
      "text/plain": [
       "   ArticleId       Category\n",
       "0       1018          sport\n",
       "1       1319           tech\n",
       "2       1138       business\n",
       "3        459  entertainment\n",
       "4       1020       politics"
      ]
     },
     "execution_count": 9,
     "metadata": {},
     "output_type": "execute_result"
    }
   ],
   "source": [
    "sample_solution_df.head()"
   ]
  },
  {
   "cell_type": "code",
   "execution_count": 10,
   "id": "15fd5225",
   "metadata": {},
   "outputs": [
    {
     "data": {
      "text/plain": [
       "array(['business', 'tech', 'politics', 'sport', 'entertainment'],\n",
       "      dtype=object)"
      ]
     },
     "execution_count": 10,
     "metadata": {},
     "output_type": "execute_result"
    }
   ],
   "source": [
    "train_df['Category'].unique()"
   ]
  },
  {
   "cell_type": "code",
   "execution_count": 11,
   "id": "3ae63b11",
   "metadata": {},
   "outputs": [
    {
     "data": {
      "text/html": [
       "<div>\n",
       "<style scoped>\n",
       "    .dataframe tbody tr th:only-of-type {\n",
       "        vertical-align: middle;\n",
       "    }\n",
       "\n",
       "    .dataframe tbody tr th {\n",
       "        vertical-align: top;\n",
       "    }\n",
       "\n",
       "    .dataframe thead th {\n",
       "        text-align: right;\n",
       "    }\n",
       "</style>\n",
       "<table border=\"1\" class=\"dataframe\">\n",
       "  <thead>\n",
       "    <tr style=\"text-align: right;\">\n",
       "      <th></th>\n",
       "      <th>ArticleId</th>\n",
       "    </tr>\n",
       "  </thead>\n",
       "  <tbody>\n",
       "    <tr>\n",
       "      <th>count</th>\n",
       "      <td>1490.000000</td>\n",
       "    </tr>\n",
       "    <tr>\n",
       "      <th>mean</th>\n",
       "      <td>1119.696644</td>\n",
       "    </tr>\n",
       "    <tr>\n",
       "      <th>std</th>\n",
       "      <td>641.826283</td>\n",
       "    </tr>\n",
       "    <tr>\n",
       "      <th>min</th>\n",
       "      <td>2.000000</td>\n",
       "    </tr>\n",
       "    <tr>\n",
       "      <th>25%</th>\n",
       "      <td>565.250000</td>\n",
       "    </tr>\n",
       "    <tr>\n",
       "      <th>50%</th>\n",
       "      <td>1112.500000</td>\n",
       "    </tr>\n",
       "    <tr>\n",
       "      <th>75%</th>\n",
       "      <td>1680.750000</td>\n",
       "    </tr>\n",
       "    <tr>\n",
       "      <th>max</th>\n",
       "      <td>2224.000000</td>\n",
       "    </tr>\n",
       "  </tbody>\n",
       "</table>\n",
       "</div>"
      ],
      "text/plain": [
       "         ArticleId\n",
       "count  1490.000000\n",
       "mean   1119.696644\n",
       "std     641.826283\n",
       "min       2.000000\n",
       "25%     565.250000\n",
       "50%    1112.500000\n",
       "75%    1680.750000\n",
       "max    2224.000000"
      ]
     },
     "execution_count": 11,
     "metadata": {},
     "output_type": "execute_result"
    }
   ],
   "source": [
    "train_df.describe()"
   ]
  },
  {
   "cell_type": "markdown",
   "id": "cf44dc70",
   "metadata": {},
   "source": [
    "Let's take a look to the distribution of the news categories in the training set. This will help us understand the balance of the dataset and whether we need to apply any techniques to handle class imbalance."
   ]
  },
  {
   "cell_type": "code",
   "execution_count": 12,
   "id": "4f830dd4",
   "metadata": {},
   "outputs": [
    {
     "data": {
      "application/vnd.plotly.v1+json": {
       "config": {
        "plotlyServerURL": "https://plot.ly"
       },
       "data": [
        {
         "name": "Count",
         "type": "histogram",
         "x": [
          "business",
          "business",
          "business",
          "tech",
          "business",
          "politics",
          "sport",
          "entertainment",
          "business",
          "entertainment",
          "politics",
          "entertainment",
          "business",
          "business",
          "sport",
          "sport",
          "entertainment",
          "sport",
          "sport",
          "tech",
          "sport",
          "entertainment",
          "sport",
          "sport",
          "tech",
          "business",
          "tech",
          "sport",
          "politics",
          "business",
          "tech",
          "entertainment",
          "business",
          "politics",
          "sport",
          "entertainment",
          "sport",
          "sport",
          "sport",
          "tech",
          "tech",
          "sport",
          "sport",
          "tech",
          "entertainment",
          "entertainment",
          "tech",
          "tech",
          "tech",
          "business",
          "tech",
          "sport",
          "politics",
          "sport",
          "sport",
          "entertainment",
          "business",
          "business",
          "politics",
          "sport",
          "tech",
          "business",
          "entertainment",
          "tech",
          "business",
          "sport",
          "politics",
          "politics",
          "tech",
          "tech",
          "sport",
          "tech",
          "sport",
          "sport",
          "sport",
          "business",
          "sport",
          "business",
          "entertainment",
          "business",
          "tech",
          "business",
          "politics",
          "politics",
          "sport",
          "sport",
          "politics",
          "entertainment",
          "sport",
          "sport",
          "politics",
          "tech",
          "politics",
          "sport",
          "politics",
          "business",
          "business",
          "business",
          "business",
          "sport",
          "business",
          "politics",
          "tech",
          "tech",
          "entertainment",
          "politics",
          "tech",
          "business",
          "business",
          "business",
          "business",
          "entertainment",
          "sport",
          "business",
          "business",
          "business",
          "politics",
          "business",
          "politics",
          "sport",
          "tech",
          "sport",
          "sport",
          "politics",
          "tech",
          "tech",
          "entertainment",
          "sport",
          "politics",
          "business",
          "sport",
          "business",
          "entertainment",
          "sport",
          "tech",
          "entertainment",
          "politics",
          "business",
          "sport",
          "entertainment",
          "entertainment",
          "business",
          "business",
          "sport",
          "tech",
          "politics",
          "business",
          "business",
          "sport",
          "entertainment",
          "sport",
          "sport",
          "politics",
          "politics",
          "tech",
          "business",
          "business",
          "entertainment",
          "tech",
          "entertainment",
          "politics",
          "tech",
          "entertainment",
          "sport",
          "business",
          "politics",
          "entertainment",
          "sport",
          "politics",
          "sport",
          "tech",
          "entertainment",
          "sport",
          "entertainment",
          "business",
          "business",
          "entertainment",
          "politics",
          "business",
          "sport",
          "sport",
          "tech",
          "sport",
          "business",
          "business",
          "sport",
          "business",
          "entertainment",
          "politics",
          "entertainment",
          "entertainment",
          "tech",
          "sport",
          "politics",
          "sport",
          "tech",
          "politics",
          "sport",
          "sport",
          "sport",
          "sport",
          "entertainment",
          "sport",
          "business",
          "tech",
          "business",
          "politics",
          "sport",
          "tech",
          "business",
          "business",
          "sport",
          "entertainment",
          "entertainment",
          "politics",
          "politics",
          "sport",
          "politics",
          "politics",
          "sport",
          "entertainment",
          "entertainment",
          "sport",
          "entertainment",
          "entertainment",
          "sport",
          "sport",
          "business",
          "tech",
          "entertainment",
          "politics",
          "business",
          "sport",
          "business",
          "entertainment",
          "business",
          "tech",
          "sport",
          "sport",
          "sport",
          "sport",
          "sport",
          "business",
          "sport",
          "entertainment",
          "business",
          "politics",
          "sport",
          "business",
          "politics",
          "business",
          "entertainment",
          "sport",
          "sport",
          "business",
          "tech",
          "business",
          "tech",
          "politics",
          "tech",
          "tech",
          "business",
          "politics",
          "sport",
          "entertainment",
          "entertainment",
          "business",
          "entertainment",
          "tech",
          "entertainment",
          "entertainment",
          "politics",
          "tech",
          "sport",
          "sport",
          "politics",
          "sport",
          "tech",
          "business",
          "tech",
          "business",
          "tech",
          "entertainment",
          "sport",
          "sport",
          "sport",
          "politics",
          "politics",
          "sport",
          "sport",
          "entertainment",
          "business",
          "tech",
          "sport",
          "politics",
          "tech",
          "politics",
          "politics",
          "tech",
          "tech",
          "business",
          "tech",
          "business",
          "sport",
          "entertainment",
          "business",
          "sport",
          "politics",
          "entertainment",
          "tech",
          "politics",
          "business",
          "entertainment",
          "business",
          "tech",
          "sport",
          "tech",
          "sport",
          "sport",
          "sport",
          "politics",
          "business",
          "politics",
          "entertainment",
          "sport",
          "entertainment",
          "business",
          "politics",
          "business",
          "sport",
          "entertainment",
          "sport",
          "business",
          "entertainment",
          "entertainment",
          "sport",
          "politics",
          "business",
          "politics",
          "tech",
          "entertainment",
          "entertainment",
          "entertainment",
          "tech",
          "sport",
          "business",
          "entertainment",
          "entertainment",
          "entertainment",
          "politics",
          "sport",
          "politics",
          "politics",
          "tech",
          "politics",
          "business",
          "politics",
          "business",
          "sport",
          "entertainment",
          "business",
          "business",
          "business",
          "sport",
          "sport",
          "politics",
          "politics",
          "sport",
          "tech",
          "tech",
          "sport",
          "tech",
          "entertainment",
          "politics",
          "tech",
          "politics",
          "entertainment",
          "sport",
          "business",
          "tech",
          "sport",
          "business",
          "politics",
          "entertainment",
          "politics",
          "sport",
          "tech",
          "sport",
          "business",
          "sport",
          "tech",
          "business",
          "politics",
          "business",
          "sport",
          "sport",
          "tech",
          "tech",
          "business",
          "business",
          "politics",
          "politics",
          "business",
          "entertainment",
          "business",
          "entertainment",
          "sport",
          "sport",
          "entertainment",
          "entertainment",
          "business",
          "politics",
          "business",
          "entertainment",
          "sport",
          "tech",
          "entertainment",
          "tech",
          "entertainment",
          "business",
          "tech",
          "entertainment",
          "business",
          "business",
          "business",
          "business",
          "entertainment",
          "tech",
          "tech",
          "tech",
          "entertainment",
          "tech",
          "sport",
          "entertainment",
          "politics",
          "tech",
          "business",
          "sport",
          "entertainment",
          "sport",
          "tech",
          "tech",
          "business",
          "tech",
          "sport",
          "sport",
          "sport",
          "entertainment",
          "entertainment",
          "business",
          "entertainment",
          "tech",
          "tech",
          "sport",
          "entertainment",
          "tech",
          "business",
          "politics",
          "entertainment",
          "tech",
          "politics",
          "sport",
          "sport",
          "politics",
          "politics",
          "business",
          "sport",
          "sport",
          "business",
          "entertainment",
          "entertainment",
          "politics",
          "business",
          "business",
          "business",
          "business",
          "sport",
          "business",
          "business",
          "politics",
          "politics",
          "tech",
          "entertainment",
          "politics",
          "business",
          "tech",
          "business",
          "business",
          "sport",
          "tech",
          "tech",
          "sport",
          "entertainment",
          "tech",
          "tech",
          "tech",
          "politics",
          "tech",
          "tech",
          "tech",
          "business",
          "business",
          "business",
          "tech",
          "sport",
          "business",
          "politics",
          "politics",
          "entertainment",
          "tech",
          "politics",
          "entertainment",
          "entertainment",
          "business",
          "politics",
          "sport",
          "sport",
          "sport",
          "sport",
          "politics",
          "entertainment",
          "business",
          "business",
          "politics",
          "sport",
          "entertainment",
          "entertainment",
          "sport",
          "business",
          "politics",
          "entertainment",
          "business",
          "sport",
          "tech",
          "sport",
          "sport",
          "business",
          "tech",
          "politics",
          "business",
          "tech",
          "politics",
          "politics",
          "politics",
          "sport",
          "business",
          "sport",
          "entertainment",
          "politics",
          "tech",
          "tech",
          "business",
          "tech",
          "business",
          "entertainment",
          "entertainment",
          "politics",
          "business",
          "politics",
          "business",
          "entertainment",
          "entertainment",
          "business",
          "politics",
          "business",
          "tech",
          "business",
          "business",
          "tech",
          "politics",
          "business",
          "tech",
          "business",
          "politics",
          "entertainment",
          "sport",
          "entertainment",
          "sport",
          "entertainment",
          "sport",
          "business",
          "tech",
          "tech",
          "sport",
          "sport",
          "business",
          "politics",
          "tech",
          "tech",
          "tech",
          "business",
          "sport",
          "business",
          "business",
          "business",
          "business",
          "business",
          "entertainment",
          "tech",
          "sport",
          "sport",
          "politics",
          "tech",
          "tech",
          "business",
          "tech",
          "business",
          "politics",
          "entertainment",
          "tech",
          "business",
          "business",
          "politics",
          "tech",
          "entertainment",
          "business",
          "tech",
          "entertainment",
          "entertainment",
          "sport",
          "politics",
          "sport",
          "business",
          "entertainment",
          "entertainment",
          "business",
          "politics",
          "business",
          "tech",
          "tech",
          "business",
          "entertainment",
          "tech",
          "tech",
          "sport",
          "sport",
          "entertainment",
          "sport",
          "entertainment",
          "politics",
          "entertainment",
          "tech",
          "entertainment",
          "politics",
          "politics",
          "business",
          "business",
          "tech",
          "sport",
          "sport",
          "business",
          "tech",
          "politics",
          "politics",
          "business",
          "entertainment",
          "sport",
          "sport",
          "politics",
          "tech",
          "sport",
          "sport",
          "business",
          "politics",
          "business",
          "entertainment",
          "tech",
          "politics",
          "sport",
          "sport",
          "tech",
          "politics",
          "business",
          "sport",
          "politics",
          "politics",
          "sport",
          "business",
          "tech",
          "politics",
          "business",
          "tech",
          "entertainment",
          "business",
          "tech",
          "politics",
          "tech",
          "politics",
          "entertainment",
          "sport",
          "sport",
          "business",
          "business",
          "tech",
          "sport",
          "entertainment",
          "entertainment",
          "tech",
          "politics",
          "entertainment",
          "business",
          "entertainment",
          "tech",
          "business",
          "sport",
          "business",
          "business",
          "business",
          "sport",
          "sport",
          "tech",
          "business",
          "sport",
          "politics",
          "sport",
          "entertainment",
          "business",
          "entertainment",
          "entertainment",
          "politics",
          "tech",
          "tech",
          "sport",
          "business",
          "sport",
          "sport",
          "tech",
          "entertainment",
          "business",
          "business",
          "business",
          "politics",
          "sport",
          "tech",
          "politics",
          "business",
          "tech",
          "tech",
          "sport",
          "business",
          "sport",
          "entertainment",
          "business",
          "sport",
          "tech",
          "tech",
          "entertainment",
          "business",
          "sport",
          "politics",
          "tech",
          "sport",
          "business",
          "business",
          "business",
          "politics",
          "sport",
          "tech",
          "entertainment",
          "tech",
          "tech",
          "business",
          "politics",
          "business",
          "entertainment",
          "entertainment",
          "politics",
          "sport",
          "politics",
          "business",
          "sport",
          "business",
          "politics",
          "sport",
          "tech",
          "sport",
          "tech",
          "politics",
          "sport",
          "sport",
          "tech",
          "entertainment",
          "entertainment",
          "tech",
          "entertainment",
          "sport",
          "sport",
          "tech",
          "entertainment",
          "tech",
          "entertainment",
          "entertainment",
          "sport",
          "sport",
          "sport",
          "entertainment",
          "entertainment",
          "tech",
          "sport",
          "politics",
          "entertainment",
          "business",
          "sport",
          "business",
          "business",
          "politics",
          "politics",
          "business",
          "politics",
          "politics",
          "sport",
          "politics",
          "sport",
          "sport",
          "business",
          "entertainment",
          "sport",
          "tech",
          "sport",
          "politics",
          "entertainment",
          "tech",
          "sport",
          "sport",
          "business",
          "tech",
          "tech",
          "entertainment",
          "entertainment",
          "tech",
          "entertainment",
          "politics",
          "politics",
          "sport",
          "business",
          "politics",
          "politics",
          "entertainment",
          "politics",
          "entertainment",
          "tech",
          "politics",
          "entertainment",
          "politics",
          "sport",
          "sport",
          "politics",
          "business",
          "politics",
          "tech",
          "business",
          "business",
          "sport",
          "sport",
          "tech",
          "politics",
          "sport",
          "sport",
          "tech",
          "sport",
          "politics",
          "tech",
          "entertainment",
          "tech",
          "entertainment",
          "sport",
          "politics",
          "sport",
          "entertainment",
          "tech",
          "entertainment",
          "business",
          "entertainment",
          "tech",
          "politics",
          "sport",
          "business",
          "entertainment",
          "business",
          "business",
          "entertainment",
          "sport",
          "sport",
          "entertainment",
          "politics",
          "politics",
          "business",
          "entertainment",
          "tech",
          "business",
          "politics",
          "business",
          "business",
          "sport",
          "politics",
          "business",
          "sport",
          "politics",
          "tech",
          "tech",
          "entertainment",
          "business",
          "entertainment",
          "politics",
          "sport",
          "politics",
          "entertainment",
          "politics",
          "tech",
          "business",
          "tech",
          "business",
          "politics",
          "politics",
          "tech",
          "entertainment",
          "sport",
          "politics",
          "politics",
          "politics",
          "politics",
          "politics",
          "sport",
          "business",
          "sport",
          "entertainment",
          "business",
          "tech",
          "politics",
          "sport",
          "business",
          "sport",
          "sport",
          "politics",
          "sport",
          "entertainment",
          "business",
          "entertainment",
          "entertainment",
          "tech",
          "politics",
          "entertainment",
          "tech",
          "sport",
          "politics",
          "politics",
          "business",
          "sport",
          "business",
          "tech",
          "entertainment",
          "entertainment",
          "sport",
          "politics",
          "entertainment",
          "entertainment",
          "politics",
          "business",
          "tech",
          "entertainment",
          "business",
          "business",
          "politics",
          "politics",
          "entertainment",
          "sport",
          "politics",
          "tech",
          "entertainment",
          "politics",
          "sport",
          "business",
          "sport",
          "politics",
          "sport",
          "business",
          "entertainment",
          "tech",
          "tech",
          "business",
          "sport",
          "tech",
          "politics",
          "sport",
          "politics",
          "sport",
          "sport",
          "tech",
          "politics",
          "business",
          "tech",
          "business",
          "entertainment",
          "politics",
          "sport",
          "sport",
          "business",
          "business",
          "sport",
          "business",
          "sport",
          "sport",
          "entertainment",
          "sport",
          "sport",
          "politics",
          "politics",
          "tech",
          "business",
          "politics",
          "tech",
          "entertainment",
          "business",
          "politics",
          "sport",
          "sport",
          "sport",
          "entertainment",
          "business",
          "sport",
          "sport",
          "business",
          "business",
          "politics",
          "business",
          "sport",
          "business",
          "tech",
          "politics",
          "business",
          "sport",
          "business",
          "entertainment",
          "sport",
          "entertainment",
          "entertainment",
          "entertainment",
          "business",
          "politics",
          "politics",
          "business",
          "tech",
          "sport",
          "tech",
          "politics",
          "sport",
          "politics",
          "tech",
          "politics",
          "business",
          "entertainment",
          "entertainment",
          "entertainment",
          "politics",
          "entertainment",
          "sport",
          "entertainment",
          "politics",
          "tech",
          "tech",
          "politics",
          "business",
          "tech",
          "business",
          "tech",
          "business",
          "entertainment",
          "entertainment",
          "politics",
          "sport",
          "entertainment",
          "entertainment",
          "tech",
          "tech",
          "tech",
          "business",
          "tech",
          "tech",
          "business",
          "sport",
          "tech",
          "politics",
          "entertainment",
          "business",
          "sport",
          "business",
          "entertainment",
          "sport",
          "sport",
          "sport",
          "business",
          "tech",
          "politics",
          "business",
          "politics",
          "politics",
          "politics",
          "entertainment",
          "sport",
          "politics",
          "business",
          "entertainment",
          "entertainment",
          "politics",
          "tech",
          "tech",
          "business",
          "tech",
          "sport",
          "sport",
          "entertainment",
          "sport",
          "sport",
          "sport",
          "politics",
          "tech",
          "tech",
          "politics",
          "politics",
          "business",
          "business",
          "sport",
          "tech",
          "tech",
          "sport",
          "entertainment",
          "sport",
          "entertainment",
          "business",
          "tech",
          "politics",
          "tech",
          "sport",
          "business",
          "sport",
          "business",
          "entertainment",
          "tech",
          "business",
          "sport",
          "business",
          "sport",
          "tech",
          "business",
          "business",
          "business",
          "sport",
          "business",
          "sport",
          "politics",
          "business",
          "sport",
          "politics",
          "entertainment",
          "business",
          "business",
          "politics",
          "business",
          "tech",
          "sport",
          "entertainment",
          "sport",
          "entertainment",
          "tech",
          "sport",
          "sport",
          "sport",
          "entertainment",
          "politics",
          "business",
          "politics",
          "politics",
          "sport",
          "entertainment",
          "sport",
          "business",
          "sport",
          "politics",
          "entertainment",
          "tech",
          "business",
          "business",
          "sport",
          "sport",
          "sport",
          "entertainment",
          "sport",
          "politics",
          "politics",
          "sport",
          "tech",
          "entertainment",
          "entertainment",
          "entertainment",
          "politics",
          "business",
          "tech",
          "business",
          "entertainment",
          "sport",
          "sport",
          "sport",
          "business",
          "tech",
          "business",
          "entertainment",
          "tech",
          "politics",
          "sport",
          "politics",
          "politics",
          "tech",
          "entertainment",
          "sport",
          "politics",
          "politics",
          "entertainment",
          "sport",
          "politics",
          "entertainment",
          "entertainment",
          "sport",
          "tech",
          "sport",
          "business",
          "business",
          "business",
          "sport",
          "entertainment",
          "entertainment",
          "entertainment",
          "sport",
          "tech",
          "politics",
          "entertainment",
          "politics",
          "entertainment",
          "entertainment",
          "sport",
          "sport",
          "sport",
          "entertainment",
          "politics",
          "business",
          "sport",
          "business",
          "sport",
          "politics",
          "business",
          "business",
          "business",
          "sport",
          "sport",
          "politics",
          "business",
          "entertainment",
          "business",
          "business",
          "politics",
          "politics",
          "business",
          "entertainment",
          "politics",
          "sport",
          "business",
          "tech",
          "sport",
          "sport",
          "tech",
          "business",
          "entertainment",
          "entertainment",
          "business",
          "politics",
          "business",
          "business",
          "business",
          "business",
          "sport",
          "tech",
          "sport",
          "politics",
          "business",
          "business",
          "entertainment",
          "politics",
          "sport",
          "tech",
          "business",
          "entertainment",
          "business",
          "tech",
          "entertainment",
          "sport",
          "business",
          "entertainment",
          "tech",
          "entertainment",
          "politics",
          "business",
          "sport",
          "politics",
          "tech",
          "sport",
          "politics",
          "tech",
          "business",
          "politics",
          "tech",
          "business",
          "entertainment",
          "tech",
          "business",
          "sport",
          "entertainment",
          "sport",
          "tech",
          "tech",
          "sport",
          "tech",
          "tech",
          "politics",
          "politics",
          "sport",
          "politics",
          "entertainment",
          "business",
          "entertainment",
          "politics",
          "politics",
          "sport",
          "tech",
          "business",
          "entertainment",
          "business",
          "sport",
          "entertainment",
          "entertainment",
          "politics",
          "politics",
          "entertainment",
          "business",
          "entertainment",
          "sport",
          "tech",
          "tech",
          "business",
          "sport",
          "sport",
          "entertainment",
          "entertainment",
          "business",
          "entertainment",
          "entertainment",
          "tech",
          "sport",
          "politics",
          "politics",
          "entertainment",
          "sport",
          "politics",
          "sport",
          "tech",
          "tech",
          "politics",
          "politics",
          "business",
          "tech",
          "business",
          "business",
          "tech",
          "tech",
          "sport",
          "business",
          "business",
          "entertainment",
          "business",
          "politics",
          "sport",
          "politics",
          "politics",
          "sport",
          "business",
          "business",
          "business",
          "business",
          "sport",
          "politics",
          "tech",
          "business",
          "entertainment",
          "entertainment",
          "tech",
          "entertainment",
          "entertainment",
          "business",
          "sport",
          "tech",
          "business",
          "business",
          "business",
          "sport",
          "entertainment",
          "sport",
          "politics",
          "politics",
          "sport",
          "entertainment",
          "politics",
          "tech",
          "entertainment",
          "politics",
          "entertainment",
          "sport",
          "entertainment",
          "politics",
          "politics",
          "business",
          "tech",
          "entertainment",
          "sport",
          "entertainment",
          "politics",
          "politics",
          "business",
          "entertainment",
          "politics",
          "business",
          "sport",
          "politics",
          "entertainment",
          "business",
          "politics",
          "entertainment",
          "sport",
          "sport",
          "politics",
          "tech",
          "tech",
          "tech",
          "sport",
          "tech",
          "entertainment",
          "sport",
          "entertainment",
          "business",
          "politics",
          "business",
          "sport",
          "politics",
          "business",
          "sport",
          "politics",
          "entertainment",
          "politics",
          "tech",
          "politics",
          "entertainment",
          "business",
          "entertainment",
          "entertainment",
          "tech",
          "entertainment",
          "politics",
          "tech",
          "tech",
          "business",
          "sport",
          "sport",
          "tech",
          "business",
          "sport",
          "politics",
          "sport",
          "business",
          "politics",
          "entertainment",
          "tech",
          "politics",
          "business",
          "business",
          "sport",
          "tech",
          "entertainment",
          "business",
          "entertainment",
          "entertainment",
          "business",
          "tech",
          "tech"
         ],
         "xaxis": "x",
         "yaxis": "y"
        },
        {
         "name": "Proportion",
         "type": "bar",
         "x": [
          "sport",
          "business",
          "politics",
          "entertainment",
          "tech"
         ],
         "xaxis": "x2",
         "y": {
          "bdata": "7rrgoja5zT9S6fFAS93MP+8I9hTLicc/k43EJM1zxz8+xXLi5WvGPw==",
          "dtype": "f8"
         },
         "yaxis": "y2"
        }
       ],
       "layout": {
        "annotations": [
         {
          "font": {
           "size": 16
          },
          "showarrow": false,
          "text": "Count of Categories",
          "x": 0.225,
          "xanchor": "center",
          "xref": "paper",
          "y": 1,
          "yanchor": "bottom",
          "yref": "paper"
         },
         {
          "font": {
           "size": 16
          },
          "showarrow": false,
          "text": "Proportion of Categories",
          "x": 0.775,
          "xanchor": "center",
          "xref": "paper",
          "y": 1,
          "yanchor": "bottom",
          "yref": "paper"
         }
        ],
        "template": {
         "data": {
          "bar": [
           {
            "error_x": {
             "color": "#2a3f5f"
            },
            "error_y": {
             "color": "#2a3f5f"
            },
            "marker": {
             "line": {
              "color": "#E5ECF6",
              "width": 0.5
             },
             "pattern": {
              "fillmode": "overlay",
              "size": 10,
              "solidity": 0.2
             }
            },
            "type": "bar"
           }
          ],
          "barpolar": [
           {
            "marker": {
             "line": {
              "color": "#E5ECF6",
              "width": 0.5
             },
             "pattern": {
              "fillmode": "overlay",
              "size": 10,
              "solidity": 0.2
             }
            },
            "type": "barpolar"
           }
          ],
          "carpet": [
           {
            "aaxis": {
             "endlinecolor": "#2a3f5f",
             "gridcolor": "white",
             "linecolor": "white",
             "minorgridcolor": "white",
             "startlinecolor": "#2a3f5f"
            },
            "baxis": {
             "endlinecolor": "#2a3f5f",
             "gridcolor": "white",
             "linecolor": "white",
             "minorgridcolor": "white",
             "startlinecolor": "#2a3f5f"
            },
            "type": "carpet"
           }
          ],
          "choropleth": [
           {
            "colorbar": {
             "outlinewidth": 0,
             "ticks": ""
            },
            "type": "choropleth"
           }
          ],
          "contour": [
           {
            "colorbar": {
             "outlinewidth": 0,
             "ticks": ""
            },
            "colorscale": [
             [
              0,
              "#0d0887"
             ],
             [
              0.1111111111111111,
              "#46039f"
             ],
             [
              0.2222222222222222,
              "#7201a8"
             ],
             [
              0.3333333333333333,
              "#9c179e"
             ],
             [
              0.4444444444444444,
              "#bd3786"
             ],
             [
              0.5555555555555556,
              "#d8576b"
             ],
             [
              0.6666666666666666,
              "#ed7953"
             ],
             [
              0.7777777777777778,
              "#fb9f3a"
             ],
             [
              0.8888888888888888,
              "#fdca26"
             ],
             [
              1,
              "#f0f921"
             ]
            ],
            "type": "contour"
           }
          ],
          "contourcarpet": [
           {
            "colorbar": {
             "outlinewidth": 0,
             "ticks": ""
            },
            "type": "contourcarpet"
           }
          ],
          "heatmap": [
           {
            "colorbar": {
             "outlinewidth": 0,
             "ticks": ""
            },
            "colorscale": [
             [
              0,
              "#0d0887"
             ],
             [
              0.1111111111111111,
              "#46039f"
             ],
             [
              0.2222222222222222,
              "#7201a8"
             ],
             [
              0.3333333333333333,
              "#9c179e"
             ],
             [
              0.4444444444444444,
              "#bd3786"
             ],
             [
              0.5555555555555556,
              "#d8576b"
             ],
             [
              0.6666666666666666,
              "#ed7953"
             ],
             [
              0.7777777777777778,
              "#fb9f3a"
             ],
             [
              0.8888888888888888,
              "#fdca26"
             ],
             [
              1,
              "#f0f921"
             ]
            ],
            "type": "heatmap"
           }
          ],
          "histogram": [
           {
            "marker": {
             "pattern": {
              "fillmode": "overlay",
              "size": 10,
              "solidity": 0.2
             }
            },
            "type": "histogram"
           }
          ],
          "histogram2d": [
           {
            "colorbar": {
             "outlinewidth": 0,
             "ticks": ""
            },
            "colorscale": [
             [
              0,
              "#0d0887"
             ],
             [
              0.1111111111111111,
              "#46039f"
             ],
             [
              0.2222222222222222,
              "#7201a8"
             ],
             [
              0.3333333333333333,
              "#9c179e"
             ],
             [
              0.4444444444444444,
              "#bd3786"
             ],
             [
              0.5555555555555556,
              "#d8576b"
             ],
             [
              0.6666666666666666,
              "#ed7953"
             ],
             [
              0.7777777777777778,
              "#fb9f3a"
             ],
             [
              0.8888888888888888,
              "#fdca26"
             ],
             [
              1,
              "#f0f921"
             ]
            ],
            "type": "histogram2d"
           }
          ],
          "histogram2dcontour": [
           {
            "colorbar": {
             "outlinewidth": 0,
             "ticks": ""
            },
            "colorscale": [
             [
              0,
              "#0d0887"
             ],
             [
              0.1111111111111111,
              "#46039f"
             ],
             [
              0.2222222222222222,
              "#7201a8"
             ],
             [
              0.3333333333333333,
              "#9c179e"
             ],
             [
              0.4444444444444444,
              "#bd3786"
             ],
             [
              0.5555555555555556,
              "#d8576b"
             ],
             [
              0.6666666666666666,
              "#ed7953"
             ],
             [
              0.7777777777777778,
              "#fb9f3a"
             ],
             [
              0.8888888888888888,
              "#fdca26"
             ],
             [
              1,
              "#f0f921"
             ]
            ],
            "type": "histogram2dcontour"
           }
          ],
          "mesh3d": [
           {
            "colorbar": {
             "outlinewidth": 0,
             "ticks": ""
            },
            "type": "mesh3d"
           }
          ],
          "parcoords": [
           {
            "line": {
             "colorbar": {
              "outlinewidth": 0,
              "ticks": ""
             }
            },
            "type": "parcoords"
           }
          ],
          "pie": [
           {
            "automargin": true,
            "type": "pie"
           }
          ],
          "scatter": [
           {
            "fillpattern": {
             "fillmode": "overlay",
             "size": 10,
             "solidity": 0.2
            },
            "type": "scatter"
           }
          ],
          "scatter3d": [
           {
            "line": {
             "colorbar": {
              "outlinewidth": 0,
              "ticks": ""
             }
            },
            "marker": {
             "colorbar": {
              "outlinewidth": 0,
              "ticks": ""
             }
            },
            "type": "scatter3d"
           }
          ],
          "scattercarpet": [
           {
            "marker": {
             "colorbar": {
              "outlinewidth": 0,
              "ticks": ""
             }
            },
            "type": "scattercarpet"
           }
          ],
          "scattergeo": [
           {
            "marker": {
             "colorbar": {
              "outlinewidth": 0,
              "ticks": ""
             }
            },
            "type": "scattergeo"
           }
          ],
          "scattergl": [
           {
            "marker": {
             "colorbar": {
              "outlinewidth": 0,
              "ticks": ""
             }
            },
            "type": "scattergl"
           }
          ],
          "scattermap": [
           {
            "marker": {
             "colorbar": {
              "outlinewidth": 0,
              "ticks": ""
             }
            },
            "type": "scattermap"
           }
          ],
          "scattermapbox": [
           {
            "marker": {
             "colorbar": {
              "outlinewidth": 0,
              "ticks": ""
             }
            },
            "type": "scattermapbox"
           }
          ],
          "scatterpolar": [
           {
            "marker": {
             "colorbar": {
              "outlinewidth": 0,
              "ticks": ""
             }
            },
            "type": "scatterpolar"
           }
          ],
          "scatterpolargl": [
           {
            "marker": {
             "colorbar": {
              "outlinewidth": 0,
              "ticks": ""
             }
            },
            "type": "scatterpolargl"
           }
          ],
          "scatterternary": [
           {
            "marker": {
             "colorbar": {
              "outlinewidth": 0,
              "ticks": ""
             }
            },
            "type": "scatterternary"
           }
          ],
          "surface": [
           {
            "colorbar": {
             "outlinewidth": 0,
             "ticks": ""
            },
            "colorscale": [
             [
              0,
              "#0d0887"
             ],
             [
              0.1111111111111111,
              "#46039f"
             ],
             [
              0.2222222222222222,
              "#7201a8"
             ],
             [
              0.3333333333333333,
              "#9c179e"
             ],
             [
              0.4444444444444444,
              "#bd3786"
             ],
             [
              0.5555555555555556,
              "#d8576b"
             ],
             [
              0.6666666666666666,
              "#ed7953"
             ],
             [
              0.7777777777777778,
              "#fb9f3a"
             ],
             [
              0.8888888888888888,
              "#fdca26"
             ],
             [
              1,
              "#f0f921"
             ]
            ],
            "type": "surface"
           }
          ],
          "table": [
           {
            "cells": {
             "fill": {
              "color": "#EBF0F8"
             },
             "line": {
              "color": "white"
             }
            },
            "header": {
             "fill": {
              "color": "#C8D4E3"
             },
             "line": {
              "color": "white"
             }
            },
            "type": "table"
           }
          ]
         },
         "layout": {
          "annotationdefaults": {
           "arrowcolor": "#2a3f5f",
           "arrowhead": 0,
           "arrowwidth": 1
          },
          "autotypenumbers": "strict",
          "coloraxis": {
           "colorbar": {
            "outlinewidth": 0,
            "ticks": ""
           }
          },
          "colorscale": {
           "diverging": [
            [
             0,
             "#8e0152"
            ],
            [
             0.1,
             "#c51b7d"
            ],
            [
             0.2,
             "#de77ae"
            ],
            [
             0.3,
             "#f1b6da"
            ],
            [
             0.4,
             "#fde0ef"
            ],
            [
             0.5,
             "#f7f7f7"
            ],
            [
             0.6,
             "#e6f5d0"
            ],
            [
             0.7,
             "#b8e186"
            ],
            [
             0.8,
             "#7fbc41"
            ],
            [
             0.9,
             "#4d9221"
            ],
            [
             1,
             "#276419"
            ]
           ],
           "sequential": [
            [
             0,
             "#0d0887"
            ],
            [
             0.1111111111111111,
             "#46039f"
            ],
            [
             0.2222222222222222,
             "#7201a8"
            ],
            [
             0.3333333333333333,
             "#9c179e"
            ],
            [
             0.4444444444444444,
             "#bd3786"
            ],
            [
             0.5555555555555556,
             "#d8576b"
            ],
            [
             0.6666666666666666,
             "#ed7953"
            ],
            [
             0.7777777777777778,
             "#fb9f3a"
            ],
            [
             0.8888888888888888,
             "#fdca26"
            ],
            [
             1,
             "#f0f921"
            ]
           ],
           "sequentialminus": [
            [
             0,
             "#0d0887"
            ],
            [
             0.1111111111111111,
             "#46039f"
            ],
            [
             0.2222222222222222,
             "#7201a8"
            ],
            [
             0.3333333333333333,
             "#9c179e"
            ],
            [
             0.4444444444444444,
             "#bd3786"
            ],
            [
             0.5555555555555556,
             "#d8576b"
            ],
            [
             0.6666666666666666,
             "#ed7953"
            ],
            [
             0.7777777777777778,
             "#fb9f3a"
            ],
            [
             0.8888888888888888,
             "#fdca26"
            ],
            [
             1,
             "#f0f921"
            ]
           ]
          },
          "colorway": [
           "#636efa",
           "#EF553B",
           "#00cc96",
           "#ab63fa",
           "#FFA15A",
           "#19d3f3",
           "#FF6692",
           "#B6E880",
           "#FF97FF",
           "#FECB52"
          ],
          "font": {
           "color": "#2a3f5f"
          },
          "geo": {
           "bgcolor": "white",
           "lakecolor": "white",
           "landcolor": "#E5ECF6",
           "showlakes": true,
           "showland": true,
           "subunitcolor": "white"
          },
          "hoverlabel": {
           "align": "left"
          },
          "hovermode": "closest",
          "mapbox": {
           "style": "light"
          },
          "paper_bgcolor": "white",
          "plot_bgcolor": "#E5ECF6",
          "polar": {
           "angularaxis": {
            "gridcolor": "white",
            "linecolor": "white",
            "ticks": ""
           },
           "bgcolor": "#E5ECF6",
           "radialaxis": {
            "gridcolor": "white",
            "linecolor": "white",
            "ticks": ""
           }
          },
          "scene": {
           "xaxis": {
            "backgroundcolor": "#E5ECF6",
            "gridcolor": "white",
            "gridwidth": 2,
            "linecolor": "white",
            "showbackground": true,
            "ticks": "",
            "zerolinecolor": "white"
           },
           "yaxis": {
            "backgroundcolor": "#E5ECF6",
            "gridcolor": "white",
            "gridwidth": 2,
            "linecolor": "white",
            "showbackground": true,
            "ticks": "",
            "zerolinecolor": "white"
           },
           "zaxis": {
            "backgroundcolor": "#E5ECF6",
            "gridcolor": "white",
            "gridwidth": 2,
            "linecolor": "white",
            "showbackground": true,
            "ticks": "",
            "zerolinecolor": "white"
           }
          },
          "shapedefaults": {
           "line": {
            "color": "#2a3f5f"
           }
          },
          "ternary": {
           "aaxis": {
            "gridcolor": "white",
            "linecolor": "white",
            "ticks": ""
           },
           "baxis": {
            "gridcolor": "white",
            "linecolor": "white",
            "ticks": ""
           },
           "bgcolor": "#E5ECF6",
           "caxis": {
            "gridcolor": "white",
            "linecolor": "white",
            "ticks": ""
           }
          },
          "title": {
           "x": 0.05
          },
          "xaxis": {
           "automargin": true,
           "gridcolor": "white",
           "linecolor": "white",
           "ticks": "",
           "title": {
            "standoff": 15
           },
           "zerolinecolor": "white",
           "zerolinewidth": 2
          },
          "yaxis": {
           "automargin": true,
           "gridcolor": "white",
           "linecolor": "white",
           "ticks": "",
           "title": {
            "standoff": 15
           },
           "zerolinecolor": "white",
           "zerolinewidth": 2
          }
         }
        },
        "xaxis": {
         "anchor": "y",
         "domain": [
          0,
          0.45
         ]
        },
        "xaxis2": {
         "anchor": "y2",
         "domain": [
          0.55,
          1
         ]
        },
        "yaxis": {
         "anchor": "x",
         "domain": [
          0,
          1
         ]
        },
        "yaxis2": {
         "anchor": "x2",
         "domain": [
          0,
          1
         ]
        }
       }
      }
     },
     "metadata": {},
     "output_type": "display_data"
    }
   ],
   "source": [
    "category_counts = train_df['Category'].value_counts(normalize=True)\n",
    "\n",
    "fig = make_subplots(\n",
    "    rows=1, cols=2,\n",
    "    subplot_titles=(\"Count of Categories\", \"Proportion of Categories\")\n",
    ")\n",
    "\n",
    "fig.add_trace(\n",
    "    go.Histogram(\n",
    "        x=train_df['Category'],\n",
    "        name=\"Count\"\n",
    "    ),\n",
    "    row=1, col=1\n",
    ")\n",
    "\n",
    "fig.add_trace(\n",
    "    go.Bar(\n",
    "        x=category_counts.index,\n",
    "        y=category_counts.values,\n",
    "        name=\"Proportion\"\n",
    "    ),\n",
    "    row=1, col=2\n",
    ")\n",
    "\n",
    "fig.show()"
   ]
  },
  {
   "cell_type": "markdown",
   "id": "0ec5e6a9",
   "metadata": {},
   "source": [
    "It appears that the dataset is relatively balanced, with a slight imbalance towards the 'sport' category. "
   ]
  },
  {
   "cell_type": "code",
   "execution_count": 13,
   "id": "08ac3c91",
   "metadata": {},
   "outputs": [
    {
     "name": "stdout",
     "output_type": "stream",
     "text": [
      "count     1490.000000\n",
      "mean      2233.461745\n",
      "std       1205.153358\n",
      "min        501.000000\n",
      "25%       1453.000000\n",
      "50%       1961.000000\n",
      "75%       2751.250000\n",
      "max      18387.000000\n",
      "Name: Text, dtype: float64\n"
     ]
    },
    {
     "data": {
      "application/vnd.plotly.v1+json": {
       "config": {
        "plotlyServerURL": "https://plot.ly"
       },
       "data": [
        {
         "bingroup": "x",
         "hovertemplate": "variable=Text<br>value=%{x}<br>count=%{y}<extra></extra>",
         "legendgroup": "Text",
         "marker": {
          "color": "#636efa",
          "pattern": {
           "shape": ""
          }
         },
         "name": "Text",
         "orientation": "v",
         "showlegend": true,
         "type": "histogram",
         "x": {
          "bdata": "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",
          "dtype": "i2"
         },
         "xaxis": "x",
         "yaxis": "y"
        }
       ],
       "layout": {
        "barmode": "relative",
        "legend": {
         "title": {
          "text": "variable"
         },
         "tracegroupgap": 0
        },
        "template": {
         "data": {
          "bar": [
           {
            "error_x": {
             "color": "#2a3f5f"
            },
            "error_y": {
             "color": "#2a3f5f"
            },
            "marker": {
             "line": {
              "color": "#E5ECF6",
              "width": 0.5
             },
             "pattern": {
              "fillmode": "overlay",
              "size": 10,
              "solidity": 0.2
             }
            },
            "type": "bar"
           }
          ],
          "barpolar": [
           {
            "marker": {
             "line": {
              "color": "#E5ECF6",
              "width": 0.5
             },
             "pattern": {
              "fillmode": "overlay",
              "size": 10,
              "solidity": 0.2
             }
            },
            "type": "barpolar"
           }
          ],
          "carpet": [
           {
            "aaxis": {
             "endlinecolor": "#2a3f5f",
             "gridcolor": "white",
             "linecolor": "white",
             "minorgridcolor": "white",
             "startlinecolor": "#2a3f5f"
            },
            "baxis": {
             "endlinecolor": "#2a3f5f",
             "gridcolor": "white",
             "linecolor": "white",
             "minorgridcolor": "white",
             "startlinecolor": "#2a3f5f"
            },
            "type": "carpet"
           }
          ],
          "choropleth": [
           {
            "colorbar": {
             "outlinewidth": 0,
             "ticks": ""
            },
            "type": "choropleth"
           }
          ],
          "contour": [
           {
            "colorbar": {
             "outlinewidth": 0,
             "ticks": ""
            },
            "colorscale": [
             [
              0,
              "#0d0887"
             ],
             [
              0.1111111111111111,
              "#46039f"
             ],
             [
              0.2222222222222222,
              "#7201a8"
             ],
             [
              0.3333333333333333,
              "#9c179e"
             ],
             [
              0.4444444444444444,
              "#bd3786"
             ],
             [
              0.5555555555555556,
              "#d8576b"
             ],
             [
              0.6666666666666666,
              "#ed7953"
             ],
             [
              0.7777777777777778,
              "#fb9f3a"
             ],
             [
              0.8888888888888888,
              "#fdca26"
             ],
             [
              1,
              "#f0f921"
             ]
            ],
            "type": "contour"
           }
          ],
          "contourcarpet": [
           {
            "colorbar": {
             "outlinewidth": 0,
             "ticks": ""
            },
            "type": "contourcarpet"
           }
          ],
          "heatmap": [
           {
            "colorbar": {
             "outlinewidth": 0,
             "ticks": ""
            },
            "colorscale": [
             [
              0,
              "#0d0887"
             ],
             [
              0.1111111111111111,
              "#46039f"
             ],
             [
              0.2222222222222222,
              "#7201a8"
             ],
             [
              0.3333333333333333,
              "#9c179e"
             ],
             [
              0.4444444444444444,
              "#bd3786"
             ],
             [
              0.5555555555555556,
              "#d8576b"
             ],
             [
              0.6666666666666666,
              "#ed7953"
             ],
             [
              0.7777777777777778,
              "#fb9f3a"
             ],
             [
              0.8888888888888888,
              "#fdca26"
             ],
             [
              1,
              "#f0f921"
             ]
            ],
            "type": "heatmap"
           }
          ],
          "histogram": [
           {
            "marker": {
             "pattern": {
              "fillmode": "overlay",
              "size": 10,
              "solidity": 0.2
             }
            },
            "type": "histogram"
           }
          ],
          "histogram2d": [
           {
            "colorbar": {
             "outlinewidth": 0,
             "ticks": ""
            },
            "colorscale": [
             [
              0,
              "#0d0887"
             ],
             [
              0.1111111111111111,
              "#46039f"
             ],
             [
              0.2222222222222222,
              "#7201a8"
             ],
             [
              0.3333333333333333,
              "#9c179e"
             ],
             [
              0.4444444444444444,
              "#bd3786"
             ],
             [
              0.5555555555555556,
              "#d8576b"
             ],
             [
              0.6666666666666666,
              "#ed7953"
             ],
             [
              0.7777777777777778,
              "#fb9f3a"
             ],
             [
              0.8888888888888888,
              "#fdca26"
             ],
             [
              1,
              "#f0f921"
             ]
            ],
            "type": "histogram2d"
           }
          ],
          "histogram2dcontour": [
           {
            "colorbar": {
             "outlinewidth": 0,
             "ticks": ""
            },
            "colorscale": [
             [
              0,
              "#0d0887"
             ],
             [
              0.1111111111111111,
              "#46039f"
             ],
             [
              0.2222222222222222,
              "#7201a8"
             ],
             [
              0.3333333333333333,
              "#9c179e"
             ],
             [
              0.4444444444444444,
              "#bd3786"
             ],
             [
              0.5555555555555556,
              "#d8576b"
             ],
             [
              0.6666666666666666,
              "#ed7953"
             ],
             [
              0.7777777777777778,
              "#fb9f3a"
             ],
             [
              0.8888888888888888,
              "#fdca26"
             ],
             [
              1,
              "#f0f921"
             ]
            ],
            "type": "histogram2dcontour"
           }
          ],
          "mesh3d": [
           {
            "colorbar": {
             "outlinewidth": 0,
             "ticks": ""
            },
            "type": "mesh3d"
           }
          ],
          "parcoords": [
           {
            "line": {
             "colorbar": {
              "outlinewidth": 0,
              "ticks": ""
             }
            },
            "type": "parcoords"
           }
          ],
          "pie": [
           {
            "automargin": true,
            "type": "pie"
           }
          ],
          "scatter": [
           {
            "fillpattern": {
             "fillmode": "overlay",
             "size": 10,
             "solidity": 0.2
            },
            "type": "scatter"
           }
          ],
          "scatter3d": [
           {
            "line": {
             "colorbar": {
              "outlinewidth": 0,
              "ticks": ""
             }
            },
            "marker": {
             "colorbar": {
              "outlinewidth": 0,
              "ticks": ""
             }
            },
            "type": "scatter3d"
           }
          ],
          "scattercarpet": [
           {
            "marker": {
             "colorbar": {
              "outlinewidth": 0,
              "ticks": ""
             }
            },
            "type": "scattercarpet"
           }
          ],
          "scattergeo": [
           {
            "marker": {
             "colorbar": {
              "outlinewidth": 0,
              "ticks": ""
             }
            },
            "type": "scattergeo"
           }
          ],
          "scattergl": [
           {
            "marker": {
             "colorbar": {
              "outlinewidth": 0,
              "ticks": ""
             }
            },
            "type": "scattergl"
           }
          ],
          "scattermap": [
           {
            "marker": {
             "colorbar": {
              "outlinewidth": 0,
              "ticks": ""
             }
            },
            "type": "scattermap"
           }
          ],
          "scattermapbox": [
           {
            "marker": {
             "colorbar": {
              "outlinewidth": 0,
              "ticks": ""
             }
            },
            "type": "scattermapbox"
           }
          ],
          "scatterpolar": [
           {
            "marker": {
             "colorbar": {
              "outlinewidth": 0,
              "ticks": ""
             }
            },
            "type": "scatterpolar"
           }
          ],
          "scatterpolargl": [
           {
            "marker": {
             "colorbar": {
              "outlinewidth": 0,
              "ticks": ""
             }
            },
            "type": "scatterpolargl"
           }
          ],
          "scatterternary": [
           {
            "marker": {
             "colorbar": {
              "outlinewidth": 0,
              "ticks": ""
             }
            },
            "type": "scatterternary"
           }
          ],
          "surface": [
           {
            "colorbar": {
             "outlinewidth": 0,
             "ticks": ""
            },
            "colorscale": [
             [
              0,
              "#0d0887"
             ],
             [
              0.1111111111111111,
              "#46039f"
             ],
             [
              0.2222222222222222,
              "#7201a8"
             ],
             [
              0.3333333333333333,
              "#9c179e"
             ],
             [
              0.4444444444444444,
              "#bd3786"
             ],
             [
              0.5555555555555556,
              "#d8576b"
             ],
             [
              0.6666666666666666,
              "#ed7953"
             ],
             [
              0.7777777777777778,
              "#fb9f3a"
             ],
             [
              0.8888888888888888,
              "#fdca26"
             ],
             [
              1,
              "#f0f921"
             ]
            ],
            "type": "surface"
           }
          ],
          "table": [
           {
            "cells": {
             "fill": {
              "color": "#EBF0F8"
             },
             "line": {
              "color": "white"
             }
            },
            "header": {
             "fill": {
              "color": "#C8D4E3"
             },
             "line": {
              "color": "white"
             }
            },
            "type": "table"
           }
          ]
         },
         "layout": {
          "annotationdefaults": {
           "arrowcolor": "#2a3f5f",
           "arrowhead": 0,
           "arrowwidth": 1
          },
          "autotypenumbers": "strict",
          "coloraxis": {
           "colorbar": {
            "outlinewidth": 0,
            "ticks": ""
           }
          },
          "colorscale": {
           "diverging": [
            [
             0,
             "#8e0152"
            ],
            [
             0.1,
             "#c51b7d"
            ],
            [
             0.2,
             "#de77ae"
            ],
            [
             0.3,
             "#f1b6da"
            ],
            [
             0.4,
             "#fde0ef"
            ],
            [
             0.5,
             "#f7f7f7"
            ],
            [
             0.6,
             "#e6f5d0"
            ],
            [
             0.7,
             "#b8e186"
            ],
            [
             0.8,
             "#7fbc41"
            ],
            [
             0.9,
             "#4d9221"
            ],
            [
             1,
             "#276419"
            ]
           ],
           "sequential": [
            [
             0,
             "#0d0887"
            ],
            [
             0.1111111111111111,
             "#46039f"
            ],
            [
             0.2222222222222222,
             "#7201a8"
            ],
            [
             0.3333333333333333,
             "#9c179e"
            ],
            [
             0.4444444444444444,
             "#bd3786"
            ],
            [
             0.5555555555555556,
             "#d8576b"
            ],
            [
             0.6666666666666666,
             "#ed7953"
            ],
            [
             0.7777777777777778,
             "#fb9f3a"
            ],
            [
             0.8888888888888888,
             "#fdca26"
            ],
            [
             1,
             "#f0f921"
            ]
           ],
           "sequentialminus": [
            [
             0,
             "#0d0887"
            ],
            [
             0.1111111111111111,
             "#46039f"
            ],
            [
             0.2222222222222222,
             "#7201a8"
            ],
            [
             0.3333333333333333,
             "#9c179e"
            ],
            [
             0.4444444444444444,
             "#bd3786"
            ],
            [
             0.5555555555555556,
             "#d8576b"
            ],
            [
             0.6666666666666666,
             "#ed7953"
            ],
            [
             0.7777777777777778,
             "#fb9f3a"
            ],
            [
             0.8888888888888888,
             "#fdca26"
            ],
            [
             1,
             "#f0f921"
            ]
           ]
          },
          "colorway": [
           "#636efa",
           "#EF553B",
           "#00cc96",
           "#ab63fa",
           "#FFA15A",
           "#19d3f3",
           "#FF6692",
           "#B6E880",
           "#FF97FF",
           "#FECB52"
          ],
          "font": {
           "color": "#2a3f5f"
          },
          "geo": {
           "bgcolor": "white",
           "lakecolor": "white",
           "landcolor": "#E5ECF6",
           "showlakes": true,
           "showland": true,
           "subunitcolor": "white"
          },
          "hoverlabel": {
           "align": "left"
          },
          "hovermode": "closest",
          "mapbox": {
           "style": "light"
          },
          "paper_bgcolor": "white",
          "plot_bgcolor": "#E5ECF6",
          "polar": {
           "angularaxis": {
            "gridcolor": "white",
            "linecolor": "white",
            "ticks": ""
           },
           "bgcolor": "#E5ECF6",
           "radialaxis": {
            "gridcolor": "white",
            "linecolor": "white",
            "ticks": ""
           }
          },
          "scene": {
           "xaxis": {
            "backgroundcolor": "#E5ECF6",
            "gridcolor": "white",
            "gridwidth": 2,
            "linecolor": "white",
            "showbackground": true,
            "ticks": "",
            "zerolinecolor": "white"
           },
           "yaxis": {
            "backgroundcolor": "#E5ECF6",
            "gridcolor": "white",
            "gridwidth": 2,
            "linecolor": "white",
            "showbackground": true,
            "ticks": "",
            "zerolinecolor": "white"
           },
           "zaxis": {
            "backgroundcolor": "#E5ECF6",
            "gridcolor": "white",
            "gridwidth": 2,
            "linecolor": "white",
            "showbackground": true,
            "ticks": "",
            "zerolinecolor": "white"
           }
          },
          "shapedefaults": {
           "line": {
            "color": "#2a3f5f"
           }
          },
          "ternary": {
           "aaxis": {
            "gridcolor": "white",
            "linecolor": "white",
            "ticks": ""
           },
           "baxis": {
            "gridcolor": "white",
            "linecolor": "white",
            "ticks": ""
           },
           "bgcolor": "#E5ECF6",
           "caxis": {
            "gridcolor": "white",
            "linecolor": "white",
            "ticks": ""
           }
          },
          "title": {
           "x": 0.05
          },
          "xaxis": {
           "automargin": true,
           "gridcolor": "white",
           "linecolor": "white",
           "ticks": "",
           "title": {
            "standoff": 15
           },
           "zerolinecolor": "white",
           "zerolinewidth": 2
          },
          "yaxis": {
           "automargin": true,
           "gridcolor": "white",
           "linecolor": "white",
           "ticks": "",
           "title": {
            "standoff": 15
           },
           "zerolinecolor": "white",
           "zerolinewidth": 2
          }
         }
        },
        "title": {
         "text": "Distribution of Text Lengths in Training Set"
        },
        "xaxis": {
         "anchor": "y",
         "domain": [
          0,
          1
         ],
         "title": {
          "text": "Text Length"
         }
        },
        "yaxis": {
         "anchor": "x",
         "domain": [
          0,
          1
         ],
         "title": {
          "text": "Count"
         }
        }
       }
      }
     },
     "metadata": {},
     "output_type": "display_data"
    }
   ],
   "source": [
    "# mean, min, max, and std of the length of the text in the training set\n",
    "text_length = train_df['Text'].apply(len)\n",
    "print(text_length.describe())\n",
    "\n",
    "# Visualize the distribution of text lengths in the training set\n",
    "fig = px.histogram(text_length, title='Distribution of Text Lengths in Training Set')\n",
    "fig.update_xaxes(title='Text Length')\n",
    "fig.update_yaxes(title='Count')\n",
    "fig.show()"
   ]
  },
  {
   "cell_type": "code",
   "execution_count": 14,
   "id": "84a4793e",
   "metadata": {},
   "outputs": [
    {
     "data": {
      "text/plain": [
       "0"
      ]
     },
     "execution_count": 14,
     "metadata": {},
     "output_type": "execute_result"
    }
   ],
   "source": [
    "train_df.duplicated().sum()"
   ]
  },
  {
   "cell_type": "markdown",
   "id": "7e968326",
   "metadata": {},
   "source": [
    "## Data Preprocessing\n",
    "\n",
    "I'll do some simple preprocessing steps to clean the text data. This includes:\n",
    "- Lowercasing the text\n",
    "- Removing punctuation\n",
    "- Tokenizing the text using NLTK\n",
    "\n"
   ]
  },
  {
   "cell_type": "code",
   "execution_count": 4,
   "id": "19c33b1e",
   "metadata": {},
   "outputs": [
    {
     "ename": "NameError",
     "evalue": "name 'train_df' is not defined",
     "output_type": "error",
     "traceback": [
      "\u001b[0;31m---------------------------------------------------------------------------\u001b[0m",
      "\u001b[0;31mNameError\u001b[0m                                 Traceback (most recent call last)",
      "Cell \u001b[0;32mIn[4], line 9\u001b[0m\n\u001b[1;32m      6\u001b[0m \u001b[38;5;28;01mdef\u001b[39;00m\u001b[38;5;250m \u001b[39m\u001b[38;5;21mtokenize\u001b[39m(text):\n\u001b[1;32m      7\u001b[0m     \u001b[38;5;28;01mreturn\u001b[39;00m word_tokenize(text)\n\u001b[0;32m----> 9\u001b[0m df \u001b[38;5;241m=\u001b[39m \u001b[43mtrain_df\u001b[49m\u001b[38;5;241m.\u001b[39mcopy(deep\u001b[38;5;241m=\u001b[39m\u001b[38;5;28;01mTrue\u001b[39;00m)\n\u001b[1;32m     10\u001b[0m df[\u001b[38;5;124m'\u001b[39m\u001b[38;5;124mtext\u001b[39m\u001b[38;5;124m'\u001b[39m] \u001b[38;5;241m=\u001b[39m df[\u001b[38;5;124m'\u001b[39m\u001b[38;5;124mText\u001b[39m\u001b[38;5;124m'\u001b[39m]\u001b[38;5;241m.\u001b[39mastype(\u001b[38;5;28mstr\u001b[39m) \n\u001b[1;32m     12\u001b[0m df[\u001b[38;5;124m'\u001b[39m\u001b[38;5;124mclean_text\u001b[39m\u001b[38;5;124m'\u001b[39m] \u001b[38;5;241m=\u001b[39m df[\u001b[38;5;124m'\u001b[39m\u001b[38;5;124mtext\u001b[39m\u001b[38;5;124m'\u001b[39m]\u001b[38;5;241m.\u001b[39mapply(clean_text)\n",
      "\u001b[0;31mNameError\u001b[0m: name 'train_df' is not defined"
     ]
    }
   ],
   "source": [
    "\n",
    "def clean_text(text):\n",
    "    text = text.lower()\n",
    "    text = re.sub(r'[^a-z0-9\\s]', '', text)\n",
    "    return text\n",
    "\n",
    "def tokenize(text):\n",
    "    return word_tokenize(text)\n",
    "\n",
    "df = train_df.copy(deep=True)\n",
    "df['text'] = df['Text'].astype(str) \n",
    "\n",
    "df['clean_text'] = df['text'].apply(clean_text)\n",
    "df['tokens'] = df['clean_text'].apply(tokenize)"
   ]
  },
  {
   "cell_type": "code",
   "execution_count": 16,
   "id": "74ea0240",
   "metadata": {},
   "outputs": [
    {
     "data": {
      "text/html": [
       "<div>\n",
       "<style scoped>\n",
       "    .dataframe tbody tr th:only-of-type {\n",
       "        vertical-align: middle;\n",
       "    }\n",
       "\n",
       "    .dataframe tbody tr th {\n",
       "        vertical-align: top;\n",
       "    }\n",
       "\n",
       "    .dataframe thead th {\n",
       "        text-align: right;\n",
       "    }\n",
       "</style>\n",
       "<table border=\"1\" class=\"dataframe\">\n",
       "  <thead>\n",
       "    <tr style=\"text-align: right;\">\n",
       "      <th></th>\n",
       "      <th>ArticleId</th>\n",
       "      <th>Text</th>\n",
       "      <th>Category</th>\n",
       "      <th>text</th>\n",
       "      <th>clean_text</th>\n",
       "      <th>tokens</th>\n",
       "    </tr>\n",
       "  </thead>\n",
       "  <tbody>\n",
       "    <tr>\n",
       "      <th>0</th>\n",
       "      <td>1833</td>\n",
       "      <td>worldcom ex-boss launches defence lawyers defe...</td>\n",
       "      <td>business</td>\n",
       "      <td>worldcom ex-boss launches defence lawyers defe...</td>\n",
       "      <td>worldcom exboss launches defence lawyers defen...</td>\n",
       "      <td>[worldcom, exboss, launches, defence, lawyers,...</td>\n",
       "    </tr>\n",
       "    <tr>\n",
       "      <th>1</th>\n",
       "      <td>154</td>\n",
       "      <td>german business confidence slides german busin...</td>\n",
       "      <td>business</td>\n",
       "      <td>german business confidence slides german busin...</td>\n",
       "      <td>german business confidence slides german busin...</td>\n",
       "      <td>[german, business, confidence, slides, german,...</td>\n",
       "    </tr>\n",
       "    <tr>\n",
       "      <th>2</th>\n",
       "      <td>1101</td>\n",
       "      <td>bbc poll indicates economic gloom citizens in ...</td>\n",
       "      <td>business</td>\n",
       "      <td>bbc poll indicates economic gloom citizens in ...</td>\n",
       "      <td>bbc poll indicates economic gloom citizens in ...</td>\n",
       "      <td>[bbc, poll, indicates, economic, gloom, citize...</td>\n",
       "    </tr>\n",
       "    <tr>\n",
       "      <th>3</th>\n",
       "      <td>1976</td>\n",
       "      <td>lifestyle  governs mobile choice  faster  bett...</td>\n",
       "      <td>tech</td>\n",
       "      <td>lifestyle  governs mobile choice  faster  bett...</td>\n",
       "      <td>lifestyle  governs mobile choice  faster  bett...</td>\n",
       "      <td>[lifestyle, governs, mobile, choice, faster, b...</td>\n",
       "    </tr>\n",
       "    <tr>\n",
       "      <th>4</th>\n",
       "      <td>917</td>\n",
       "      <td>enron bosses in $168m payout eighteen former e...</td>\n",
       "      <td>business</td>\n",
       "      <td>enron bosses in $168m payout eighteen former e...</td>\n",
       "      <td>enron bosses in 168m payout eighteen former en...</td>\n",
       "      <td>[enron, bosses, in, 168m, payout, eighteen, fo...</td>\n",
       "    </tr>\n",
       "    <tr>\n",
       "      <th>...</th>\n",
       "      <td>...</td>\n",
       "      <td>...</td>\n",
       "      <td>...</td>\n",
       "      <td>...</td>\n",
       "      <td>...</td>\n",
       "      <td>...</td>\n",
       "    </tr>\n",
       "    <tr>\n",
       "      <th>1485</th>\n",
       "      <td>857</td>\n",
       "      <td>double eviction from big brother model caprice...</td>\n",
       "      <td>entertainment</td>\n",
       "      <td>double eviction from big brother model caprice...</td>\n",
       "      <td>double eviction from big brother model caprice...</td>\n",
       "      <td>[double, eviction, from, big, brother, model, ...</td>\n",
       "    </tr>\n",
       "    <tr>\n",
       "      <th>1486</th>\n",
       "      <td>325</td>\n",
       "      <td>dj double act revamp chart show dj duo jk and ...</td>\n",
       "      <td>entertainment</td>\n",
       "      <td>dj double act revamp chart show dj duo jk and ...</td>\n",
       "      <td>dj double act revamp chart show dj duo jk and ...</td>\n",
       "      <td>[dj, double, act, revamp, chart, show, dj, duo...</td>\n",
       "    </tr>\n",
       "    <tr>\n",
       "      <th>1487</th>\n",
       "      <td>1590</td>\n",
       "      <td>weak dollar hits reuters revenues at media gro...</td>\n",
       "      <td>business</td>\n",
       "      <td>weak dollar hits reuters revenues at media gro...</td>\n",
       "      <td>weak dollar hits reuters revenues at media gro...</td>\n",
       "      <td>[weak, dollar, hits, reuters, revenues, at, me...</td>\n",
       "    </tr>\n",
       "    <tr>\n",
       "      <th>1488</th>\n",
       "      <td>1587</td>\n",
       "      <td>apple ipod family expands market apple has exp...</td>\n",
       "      <td>tech</td>\n",
       "      <td>apple ipod family expands market apple has exp...</td>\n",
       "      <td>apple ipod family expands market apple has exp...</td>\n",
       "      <td>[apple, ipod, family, expands, market, apple, ...</td>\n",
       "    </tr>\n",
       "    <tr>\n",
       "      <th>1489</th>\n",
       "      <td>538</td>\n",
       "      <td>santy worm makes unwelcome visit thousands of ...</td>\n",
       "      <td>tech</td>\n",
       "      <td>santy worm makes unwelcome visit thousands of ...</td>\n",
       "      <td>santy worm makes unwelcome visit thousands of ...</td>\n",
       "      <td>[santy, worm, makes, unwelcome, visit, thousan...</td>\n",
       "    </tr>\n",
       "  </tbody>\n",
       "</table>\n",
       "<p>1490 rows × 6 columns</p>\n",
       "</div>"
      ],
      "text/plain": [
       "      ArticleId                                               Text  \\\n",
       "0          1833  worldcom ex-boss launches defence lawyers defe...   \n",
       "1           154  german business confidence slides german busin...   \n",
       "2          1101  bbc poll indicates economic gloom citizens in ...   \n",
       "3          1976  lifestyle  governs mobile choice  faster  bett...   \n",
       "4           917  enron bosses in $168m payout eighteen former e...   \n",
       "...         ...                                                ...   \n",
       "1485        857  double eviction from big brother model caprice...   \n",
       "1486        325  dj double act revamp chart show dj duo jk and ...   \n",
       "1487       1590  weak dollar hits reuters revenues at media gro...   \n",
       "1488       1587  apple ipod family expands market apple has exp...   \n",
       "1489        538  santy worm makes unwelcome visit thousands of ...   \n",
       "\n",
       "           Category                                               text  \\\n",
       "0          business  worldcom ex-boss launches defence lawyers defe...   \n",
       "1          business  german business confidence slides german busin...   \n",
       "2          business  bbc poll indicates economic gloom citizens in ...   \n",
       "3              tech  lifestyle  governs mobile choice  faster  bett...   \n",
       "4          business  enron bosses in $168m payout eighteen former e...   \n",
       "...             ...                                                ...   \n",
       "1485  entertainment  double eviction from big brother model caprice...   \n",
       "1486  entertainment  dj double act revamp chart show dj duo jk and ...   \n",
       "1487       business  weak dollar hits reuters revenues at media gro...   \n",
       "1488           tech  apple ipod family expands market apple has exp...   \n",
       "1489           tech  santy worm makes unwelcome visit thousands of ...   \n",
       "\n",
       "                                             clean_text  \\\n",
       "0     worldcom exboss launches defence lawyers defen...   \n",
       "1     german business confidence slides german busin...   \n",
       "2     bbc poll indicates economic gloom citizens in ...   \n",
       "3     lifestyle  governs mobile choice  faster  bett...   \n",
       "4     enron bosses in 168m payout eighteen former en...   \n",
       "...                                                 ...   \n",
       "1485  double eviction from big brother model caprice...   \n",
       "1486  dj double act revamp chart show dj duo jk and ...   \n",
       "1487  weak dollar hits reuters revenues at media gro...   \n",
       "1488  apple ipod family expands market apple has exp...   \n",
       "1489  santy worm makes unwelcome visit thousands of ...   \n",
       "\n",
       "                                                 tokens  \n",
       "0     [worldcom, exboss, launches, defence, lawyers,...  \n",
       "1     [german, business, confidence, slides, german,...  \n",
       "2     [bbc, poll, indicates, economic, gloom, citize...  \n",
       "3     [lifestyle, governs, mobile, choice, faster, b...  \n",
       "4     [enron, bosses, in, 168m, payout, eighteen, fo...  \n",
       "...                                                 ...  \n",
       "1485  [double, eviction, from, big, brother, model, ...  \n",
       "1486  [dj, double, act, revamp, chart, show, dj, duo...  \n",
       "1487  [weak, dollar, hits, reuters, revenues, at, me...  \n",
       "1488  [apple, ipod, family, expands, market, apple, ...  \n",
       "1489  [santy, worm, makes, unwelcome, visit, thousan...  \n",
       "\n",
       "[1490 rows x 6 columns]"
      ]
     },
     "execution_count": 16,
     "metadata": {},
     "output_type": "execute_result"
    }
   ],
   "source": [
    "df"
   ]
  },
  {
   "cell_type": "markdown",
   "id": "393cf1ed",
   "metadata": {},
   "source": [
    "## Unique Tokens\n",
    "\n",
    "Let's take a look at the unique tokens in the training set after preprocessing. This will give us an idea of the vocabulary size and the diversity of the text data."
   ]
  },
  {
   "cell_type": "code",
   "execution_count": 17,
   "id": "4fc15905",
   "metadata": {},
   "outputs": [
    {
     "name": "stdout",
     "output_type": "stream",
     "text": [
      "Number of unique tokens in the training set: 27278\n"
     ]
    }
   ],
   "source": [
    "# number of unique tokens in the training set\n",
    "unique_tokens = set()\n",
    "for tokens in df['tokens']:\n",
    "    unique_tokens.update(tokens)\n",
    "\n",
    "print(f\"Number of unique tokens in the training set: {len(unique_tokens)}\")"
   ]
  },
  {
   "cell_type": "markdown",
   "id": "fd30838c",
   "metadata": {},
   "source": [
    "## Document Vectors\n",
    "\n",
    "Now, I use GloVe to convert the acquired tokens into document vectors. GloVe provides pre-trained word vectors that can be used to represent words in a continuous vector space, However, for our unsupervised learning task, we need to have vector for each document, not for each word. To achieve this, I will average the word vectors of all tokens in a document to create a single vector representation for that document."
   ]
  },
  {
   "cell_type": "code",
   "execution_count": 18,
   "id": "28b0afe3",
   "metadata": {},
   "outputs": [],
   "source": [
    "def get_document_vector(tokens, embedding_index, dim=CONFIG['N_COMPONENTS']):\n",
    "    \"\"\"\n",
    "    Get the document vector for a list of tokens using the GloVe embedding index.\n",
    "    If a token is not found in the embedding index, it is ignored.\n",
    "    If no tokens are found, a zero vector of the specified dimension is returned.\n",
    "    Args:\n",
    "        tokens (list): List of tokens (words) from the document.\n",
    "        embedding_index (dict): Dictionary mapping tokens to their GloVe vectors.\n",
    "        dim (int): Dimension of the GloVe vectors (default is 100).\n",
    "    Returns:\n",
    "        np.ndarray: A vector representing the document, averaged from the GloVe vectors of the tokens.\n",
    "        If no tokens are found in the embedding index, returns a zero vector of the specified\n",
    "    \"\"\"\n",
    "    vecs = []\n",
    "    for token in tokens:\n",
    "        if token in embedding_index:\n",
    "            vecs.append(embedding_index[token])\n",
    "    if len(vecs) > 0:\n",
    "        return np.mean(vecs, axis=0)\n",
    "    else:\n",
    "        return np.zeros(dim)\n",
    "\n",
    "df['doc_vector'] = df['tokens'].apply(lambda x: get_document_vector(x, glove_model, dim=100))"
   ]
  },
  {
   "cell_type": "code",
   "execution_count": 19,
   "id": "e0b9183f",
   "metadata": {},
   "outputs": [
    {
     "data": {
      "text/html": [
       "<div>\n",
       "<style scoped>\n",
       "    .dataframe tbody tr th:only-of-type {\n",
       "        vertical-align: middle;\n",
       "    }\n",
       "\n",
       "    .dataframe tbody tr th {\n",
       "        vertical-align: top;\n",
       "    }\n",
       "\n",
       "    .dataframe thead th {\n",
       "        text-align: right;\n",
       "    }\n",
       "</style>\n",
       "<table border=\"1\" class=\"dataframe\">\n",
       "  <thead>\n",
       "    <tr style=\"text-align: right;\">\n",
       "      <th></th>\n",
       "      <th>ArticleId</th>\n",
       "      <th>Text</th>\n",
       "      <th>Category</th>\n",
       "      <th>text</th>\n",
       "      <th>clean_text</th>\n",
       "      <th>tokens</th>\n",
       "      <th>doc_vector</th>\n",
       "    </tr>\n",
       "  </thead>\n",
       "  <tbody>\n",
       "    <tr>\n",
       "      <th>0</th>\n",
       "      <td>1833</td>\n",
       "      <td>worldcom ex-boss launches defence lawyers defe...</td>\n",
       "      <td>business</td>\n",
       "      <td>worldcom ex-boss launches defence lawyers defe...</td>\n",
       "      <td>worldcom exboss launches defence lawyers defen...</td>\n",
       "      <td>[worldcom, exboss, launches, defence, lawyers,...</td>\n",
       "      <td>[0.0881027, -0.072838455, 0.22837983, -0.15146...</td>\n",
       "    </tr>\n",
       "    <tr>\n",
       "      <th>1</th>\n",
       "      <td>154</td>\n",
       "      <td>german business confidence slides german busin...</td>\n",
       "      <td>business</td>\n",
       "      <td>german business confidence slides german busin...</td>\n",
       "      <td>german business confidence slides german busin...</td>\n",
       "      <td>[german, business, confidence, slides, german,...</td>\n",
       "      <td>[0.011770573, 0.14082459, 0.2959648, -0.077304...</td>\n",
       "    </tr>\n",
       "    <tr>\n",
       "      <th>2</th>\n",
       "      <td>1101</td>\n",
       "      <td>bbc poll indicates economic gloom citizens in ...</td>\n",
       "      <td>business</td>\n",
       "      <td>bbc poll indicates economic gloom citizens in ...</td>\n",
       "      <td>bbc poll indicates economic gloom citizens in ...</td>\n",
       "      <td>[bbc, poll, indicates, economic, gloom, citize...</td>\n",
       "      <td>[-0.055196114, 0.19540092, 0.33485386, -0.1419...</td>\n",
       "    </tr>\n",
       "    <tr>\n",
       "      <th>3</th>\n",
       "      <td>1976</td>\n",
       "      <td>lifestyle  governs mobile choice  faster  bett...</td>\n",
       "      <td>tech</td>\n",
       "      <td>lifestyle  governs mobile choice  faster  bett...</td>\n",
       "      <td>lifestyle  governs mobile choice  faster  bett...</td>\n",
       "      <td>[lifestyle, governs, mobile, choice, faster, b...</td>\n",
       "      <td>[-0.105643936, 0.13858151, 0.27540573, -0.1671...</td>\n",
       "    </tr>\n",
       "    <tr>\n",
       "      <th>4</th>\n",
       "      <td>917</td>\n",
       "      <td>enron bosses in $168m payout eighteen former e...</td>\n",
       "      <td>business</td>\n",
       "      <td>enron bosses in $168m payout eighteen former e...</td>\n",
       "      <td>enron bosses in 168m payout eighteen former en...</td>\n",
       "      <td>[enron, bosses, in, 168m, payout, eighteen, fo...</td>\n",
       "      <td>[0.11647683, 0.012706946, 0.2649862, -0.147849...</td>\n",
       "    </tr>\n",
       "    <tr>\n",
       "      <th>...</th>\n",
       "      <td>...</td>\n",
       "      <td>...</td>\n",
       "      <td>...</td>\n",
       "      <td>...</td>\n",
       "      <td>...</td>\n",
       "      <td>...</td>\n",
       "      <td>...</td>\n",
       "    </tr>\n",
       "    <tr>\n",
       "      <th>1485</th>\n",
       "      <td>857</td>\n",
       "      <td>double eviction from big brother model caprice...</td>\n",
       "      <td>entertainment</td>\n",
       "      <td>double eviction from big brother model caprice...</td>\n",
       "      <td>double eviction from big brother model caprice...</td>\n",
       "      <td>[double, eviction, from, big, brother, model, ...</td>\n",
       "      <td>[-0.058606397, 0.020778334, 0.30748582, -0.302...</td>\n",
       "    </tr>\n",
       "    <tr>\n",
       "      <th>1486</th>\n",
       "      <td>325</td>\n",
       "      <td>dj double act revamp chart show dj duo jk and ...</td>\n",
       "      <td>entertainment</td>\n",
       "      <td>dj double act revamp chart show dj duo jk and ...</td>\n",
       "      <td>dj double act revamp chart show dj duo jk and ...</td>\n",
       "      <td>[dj, double, act, revamp, chart, show, dj, duo...</td>\n",
       "      <td>[-0.1355775, 0.105269626, 0.33229253, -0.25106...</td>\n",
       "    </tr>\n",
       "    <tr>\n",
       "      <th>1487</th>\n",
       "      <td>1590</td>\n",
       "      <td>weak dollar hits reuters revenues at media gro...</td>\n",
       "      <td>business</td>\n",
       "      <td>weak dollar hits reuters revenues at media gro...</td>\n",
       "      <td>weak dollar hits reuters revenues at media gro...</td>\n",
       "      <td>[weak, dollar, hits, reuters, revenues, at, me...</td>\n",
       "      <td>[0.00079907634, 0.03381798, 0.24186508, -0.139...</td>\n",
       "    </tr>\n",
       "    <tr>\n",
       "      <th>1488</th>\n",
       "      <td>1587</td>\n",
       "      <td>apple ipod family expands market apple has exp...</td>\n",
       "      <td>tech</td>\n",
       "      <td>apple ipod family expands market apple has exp...</td>\n",
       "      <td>apple ipod family expands market apple has exp...</td>\n",
       "      <td>[apple, ipod, family, expands, market, apple, ...</td>\n",
       "      <td>[-0.050727844, 0.12790911, 0.3013645, -0.20063...</td>\n",
       "    </tr>\n",
       "    <tr>\n",
       "      <th>1489</th>\n",
       "      <td>538</td>\n",
       "      <td>santy worm makes unwelcome visit thousands of ...</td>\n",
       "      <td>tech</td>\n",
       "      <td>santy worm makes unwelcome visit thousands of ...</td>\n",
       "      <td>santy worm makes unwelcome visit thousands of ...</td>\n",
       "      <td>[santy, worm, makes, unwelcome, visit, thousan...</td>\n",
       "      <td>[-0.100868404, 0.08989337, 0.22266129, -0.2078...</td>\n",
       "    </tr>\n",
       "  </tbody>\n",
       "</table>\n",
       "<p>1490 rows × 7 columns</p>\n",
       "</div>"
      ],
      "text/plain": [
       "      ArticleId                                               Text  \\\n",
       "0          1833  worldcom ex-boss launches defence lawyers defe...   \n",
       "1           154  german business confidence slides german busin...   \n",
       "2          1101  bbc poll indicates economic gloom citizens in ...   \n",
       "3          1976  lifestyle  governs mobile choice  faster  bett...   \n",
       "4           917  enron bosses in $168m payout eighteen former e...   \n",
       "...         ...                                                ...   \n",
       "1485        857  double eviction from big brother model caprice...   \n",
       "1486        325  dj double act revamp chart show dj duo jk and ...   \n",
       "1487       1590  weak dollar hits reuters revenues at media gro...   \n",
       "1488       1587  apple ipod family expands market apple has exp...   \n",
       "1489        538  santy worm makes unwelcome visit thousands of ...   \n",
       "\n",
       "           Category                                               text  \\\n",
       "0          business  worldcom ex-boss launches defence lawyers defe...   \n",
       "1          business  german business confidence slides german busin...   \n",
       "2          business  bbc poll indicates economic gloom citizens in ...   \n",
       "3              tech  lifestyle  governs mobile choice  faster  bett...   \n",
       "4          business  enron bosses in $168m payout eighteen former e...   \n",
       "...             ...                                                ...   \n",
       "1485  entertainment  double eviction from big brother model caprice...   \n",
       "1486  entertainment  dj double act revamp chart show dj duo jk and ...   \n",
       "1487       business  weak dollar hits reuters revenues at media gro...   \n",
       "1488           tech  apple ipod family expands market apple has exp...   \n",
       "1489           tech  santy worm makes unwelcome visit thousands of ...   \n",
       "\n",
       "                                             clean_text  \\\n",
       "0     worldcom exboss launches defence lawyers defen...   \n",
       "1     german business confidence slides german busin...   \n",
       "2     bbc poll indicates economic gloom citizens in ...   \n",
       "3     lifestyle  governs mobile choice  faster  bett...   \n",
       "4     enron bosses in 168m payout eighteen former en...   \n",
       "...                                                 ...   \n",
       "1485  double eviction from big brother model caprice...   \n",
       "1486  dj double act revamp chart show dj duo jk and ...   \n",
       "1487  weak dollar hits reuters revenues at media gro...   \n",
       "1488  apple ipod family expands market apple has exp...   \n",
       "1489  santy worm makes unwelcome visit thousands of ...   \n",
       "\n",
       "                                                 tokens  \\\n",
       "0     [worldcom, exboss, launches, defence, lawyers,...   \n",
       "1     [german, business, confidence, slides, german,...   \n",
       "2     [bbc, poll, indicates, economic, gloom, citize...   \n",
       "3     [lifestyle, governs, mobile, choice, faster, b...   \n",
       "4     [enron, bosses, in, 168m, payout, eighteen, fo...   \n",
       "...                                                 ...   \n",
       "1485  [double, eviction, from, big, brother, model, ...   \n",
       "1486  [dj, double, act, revamp, chart, show, dj, duo...   \n",
       "1487  [weak, dollar, hits, reuters, revenues, at, me...   \n",
       "1488  [apple, ipod, family, expands, market, apple, ...   \n",
       "1489  [santy, worm, makes, unwelcome, visit, thousan...   \n",
       "\n",
       "                                             doc_vector  \n",
       "0     [0.0881027, -0.072838455, 0.22837983, -0.15146...  \n",
       "1     [0.011770573, 0.14082459, 0.2959648, -0.077304...  \n",
       "2     [-0.055196114, 0.19540092, 0.33485386, -0.1419...  \n",
       "3     [-0.105643936, 0.13858151, 0.27540573, -0.1671...  \n",
       "4     [0.11647683, 0.012706946, 0.2649862, -0.147849...  \n",
       "...                                                 ...  \n",
       "1485  [-0.058606397, 0.020778334, 0.30748582, -0.302...  \n",
       "1486  [-0.1355775, 0.105269626, 0.33229253, -0.25106...  \n",
       "1487  [0.00079907634, 0.03381798, 0.24186508, -0.139...  \n",
       "1488  [-0.050727844, 0.12790911, 0.3013645, -0.20063...  \n",
       "1489  [-0.100868404, 0.08989337, 0.22266129, -0.2078...  \n",
       "\n",
       "[1490 rows x 7 columns]"
      ]
     },
     "execution_count": 19,
     "metadata": {},
     "output_type": "execute_result"
    }
   ],
   "source": [
    "df"
   ]
  },
  {
   "cell_type": "markdown",
   "id": "91a9acfc",
   "metadata": {},
   "source": [
    "## Principle Component Analysis (PCA)\n",
    "\n",
    "I will use PCA to extract the most important features from the document vectors. Following plot shows the first two principal components of the document vectors. This will help us visualize the data and understand the distribution of the documents in the vector space."
   ]
  },
  {
   "cell_type": "code",
   "execution_count": 20,
   "id": "c17d3eb6",
   "metadata": {},
   "outputs": [
    {
     "name": "stdout",
     "output_type": "stream",
     "text": [
      "(1490, 100)\n"
     ]
    },
    {
     "data": {
      "application/vnd.plotly.v1+json": {
       "config": {
        "plotlyServerURL": "https://plot.ly"
       },
       "data": [
        {
         "hovertemplate": "Category=business<br>PCA Component 1=%{x}<br>PCA Component 2=%{y}<extra></extra>",
         "legendgroup": "business",
         "marker": {
          "color": "#636efa",
          "symbol": "circle"
         },
         "mode": "markers",
         "name": "business",
         "showlegend": true,
         "type": "scattergl",
         "x": {
          "bdata": "MMccPnCjCD9wOZM+LJegPrRsxD6sctE+sLX1Pqwy9z5AkvI+WjUBP9A7yT6wCqQ9NGMLP9AhVT7cn+c+pLz1PnjTkT6I3uU+wHPCPviXgj4wEKU+gLR6PirMAD9KPQc/RDfMPrwvmD6EtRo/wDD/PhxpzD6QoPo+dJPPPramDD+gWnY9pPjCPvixVr7Ek9A+kGvoPoqqHT/QxLo+ZuENP0B1/j6YnYI+pBAPP4SxzT4gOxE/3D/5PiAI6D5wzJ8+ABfwPnTm+j7Ywrg+ppQaP4iAHD9EaSE/eIuPveiKwD6osJI++Nj+PrgQxj5gzeg+YGXdPoi1aD747K8+dBLIPoBX5z4wdP0+IqMUP5Br5D44IP0+DEv6PvAMvD4m4wc/xF4HP+6vDj902Lo+LIXrPhJJBz/8a9g+SGmIPu7iDj+6FhU/CNv+PsAv9z4MV74+kKgbPqhh5T7QI4I+UOuoPhwumj5QxHK9EGHxPoC4LT7AWsY+MEyLPpRQ6D4Qs+8+xKXHPnSl6T7I6xw+QOurPjQsKz8K+gY/CI2mPhYhGj+ARgQ/pEfYPmb3Gj8apAk/5JErP6xl+T4gFsE+FKuDPoxL6T5w//o9aKjlPg4NBj9g6aw+lP60PkB9xT7oafY+2DYgPrgVtz4E3oA+kDJyPgBAjzw8htE+PgADP8h5+D78sIU+IEkVP7Tc9D5I5gM/EDKDPrgjpj7SCh4/bCwLP6Cv3T6ICyA+jAbaPiwsrj54vXg+8OTPPciHFD9ka/U+IFPsPoDwuD4OeAw/bG/mPoxfpD5kbjA/yv0hPy6GHj/W7wo/AJQ3unw37j5QMik+1MYBP5CXoD4QXoE+MHdAPlSBxz5UJJw+SOvyPpCInT7cFvg+oKnKPqTO4z7yIgc/5LzuPsidjT7MAcc+AI0wPtjL6j6A3X89dK6/Pmx5xD7YRJk+FMCMPhi20z5iczk/INLkPtDQGT/M6Zc+5swRP1QOpD4MxBg/NDISP9ijRT4AQwo+nJvlPjxB3z7gFus+fIHKPqo1Bj9QirY+EAPYPnBPKT4UbLU+uIjUPrA+lj1cNQo/5ADYPpgd7T54YOs+AI79Pg5ICD/0y9U+PKPPPogT5T7kZ9s+dJTdPrA56z7Udsg+fE2+PqRm6D4sgP8+0HHpPsDCBz8whxM/QFnUPhQjJz9I1Qk/QHrhPpgP6j4UAf8+hNwDPyCrWj5QsHE+tOrGPsR37j4QAP4+DMbuPsS5oz6k5wg/LM3hPlJUIj8S+xU/VI68PjRTwT7gyGQ+cN76PkBF3T58YxU/nDoBP6zg1j6QEQE/kPTiPtRj+j5YuPE+iMrcPtx5+T5oV88+YloFP2x5iz6c18o+QMrhPqhovz7cWQY/iG0QP3h57j5wM6I+WG7cPgA3Hj9M9Zs+kE38PVBopT5g/ao+oLHKPoBFkT7MacU+5LC6PoC61LzMqPM+GKwZP6gAYT5guL8+2CD+PkituT6g7so+TLbMPhTk/D4e3QE/1FgDPzwisD6gzwA/RKCzPpLSFD/Ee9k+wB0hvNg37D4SdwU/KCSgPjSz0z6u2QE/zOnUPhyrFz8gUs4+VJW2PmjxSD7g4wQ/uAThPnz1tj500d4+cFYePoj0HD7wZwo+uDijPrwfDz/MEqs+0LDYPoCvLT4wbfc9UN4HP6iVzD6UJQY/wI70PkYyCT/AGmS8wKCwPawnnz5we90+WJAdP2o9Dz8Yt08+OCLIPiihkz5o1sM+fE3xPhCz7z6YgNs+GCL8PqCsyT64M/8+WD23PvLKET8IreA+",
          "dtype": "f4"
         },
         "xaxis": "x",
         "y": {
          "bdata": "KHUGPiStgD4AMeI7MIECPrHAQD/gD7Q+NN+7PlhMTj7w9hU+eAdrPhBjij3AR1A+dF2dPpD2Nr60/7w+lMriPrjiBD5gLjw+RJsDP9AR2T5AbTA9ALWaOzgCIz5APLQ9BF2LPqQvij5wxlo+wApePbjR+T5A9oU8QLp1PQLODj/QasK9QJVFvtgyDj7QYb4+CJfcPpA7UL4kR6U+TFC/PmAWfD3IEzs+JBD3PpSkhj7Q0ZA91KnfPkBrwbwgMvI94EAGP8BMkT0Qnh4+xLgCP4CyBj2w/sa9wAk6vZDM6z1wfZO+wFOXvEy8sD4AoN+7qKIlPhDpuj4Oj1o/qNLtPqY3Ij8WxQQ/1NivPhwIhj44pTA+4POmPvjBsz64PQU/4NXiPlgkKD/gJVU+8BB5PgzukT5YEKk+SEFuPoBznz2EE4c+wEzLPoiBcj6gUC69YCeYPTD9pz5AzGk9qHmqPkA3Bj+21Bs/oC8gPsDYcb0ISYc+KMWBPtj2ez4IsqM+nFrLPpBnFz4wn0o+TDK0PkC9mTy4p9g+FC+7PoAq/L0AHL89IK9svdgIRj8AgA864mcXPyQ5rz58DpI+AOggvqDf7z54xyU+4CUgPaCHm70Am/y7wBTXvWKICD+Ac4s8ZN8JP+QWgr6AwPY91D3VPkBGrbyItys+eC9+PkBvgzzA81w+oNtZPaD1XD2wNqm92Or7Pjh5bT6mqxk/cIOUPUCMS70gYiU+XPuXPpiTIz/A0KY9sAELvuBpzT6IdV0+7NOkPoAoWD7o1X4+ALnKuzhDaT7gupU+KJogPkgR7z6wRga+GMAdvqAxZD7QqQw+kN3dPWi7qD5g4YK9iCIXPpzp7T4A2sg8APy5PYAqor3k5oI+eBScPkAwsLx0Kck+QECHvAROhD6ABHw8CJXGPpAFbj5A6EI9+PD8PsgdQL6gFiU9+DuNPtB6072gV0U+0BH9PaDnbD6WnQU/MHDhPfj+aj6QIqw9WHbEPpZBBz/wL9O94E4zvjB4kr2kpy0/YIHZPez4hj4g2UA+CNMnPgDzsD1gUJ89QPcBPcBJmTxw29s+AAsuPVg2fT7Yyv8+QHmMPWwIvT5YZ9Q+HgcFP5xwgD6w7Y4+WM34PiBbdz5EnB8/gIu6PACm472cZJk+MHUnvrDx1j6AbTq+QBYHPQyujz6ATSk+wPxYPZCc6j1A2aW8iAIdP2APID1gL7q9VLOWPgAmbbu4gzw+0NPrPeAgyj2A/688/OTKPuCDgD1ID8w+sGuTPgAD9D1gHJa9YDb/PfS+gj7OaAA/oJaIvUCcDT/E3+g+wOL7vGirjj7clgk/0P6zvfRRjD4wxQO+gOjOPERmlD7sLIY+UAD9PaC8Mz4UPLg+kJiPPuQLlj7sEL4+oFbivWSBgD7gY8k9eFKEPsjSlT6AZxm9YLMPvQD5xjtA9s08BJcfP7hi2z7Al6c92DQ5PphFnD5oHFc+gFRaPeDsYT0wsms+kJMHPhhqcT4w2ss+QGmtPfjOOT4gQ7c9QBN4PQTNpT7AJiw+QDTqvQBkLLzwWuO9hKrGPiCSGL7Y7G4+cH8pvthykT4Sph0/gEmpPNgye77Aaou8gEl2PUx81T40aPA+kuwAP1AzCz7QFu69YDyBvRxzkD5mmR0/cAXOPmKPJD/YlQY+gB8EPpAfBj9ggke9NPWlPgBr5z5ASUq9AIxWvMD7wz74yWA+wE1FvjjCMr4A7sw8oKU3PQCPszt4bcA+gBTdPgiyoz6sXKM++OdaPpisRz7039o+MCZSPtgZtT5o7qo+",
          "dtype": "f4"
         },
         "yaxis": "y"
        },
        {
         "hovertemplate": "Category=tech<br>PCA Component 1=%{x}<br>PCA Component 2=%{y}<extra></extra>",
         "legendgroup": "tech",
         "marker": {
          "color": "#EF553B",
          "symbol": "circle"
         },
         "mode": "markers",
         "name": "tech",
         "showlegend": true,
         "type": "scattergl",
         "x": {
          "bdata": "VMSdPpxwgT4ESt0+VBC3PphRbj5cn7E+MC7GPUBFEz6+qRE/uJrkPkDjVL0YsEE+ZEekPjA31D3oVW0+MA2kPuCHrj6AxU0+gC7LvbCk5T70jOU+gMBpPsBvlDxgHfA9uEUDP/gOHD4sOOM+sCyXPmC0nT50neA+7AvrPgxP7j6YlKw+rID8PoRn0z50neA+cPKKPoA/Cj5IuEI+wI0gPtj/xz5wMoU+8GLpPniZxj48ufk+YEyNPST7hj68oI4+bAeVPgAvWz6IIJk+gOv4PoggmT7Yz2k+9NSJPoAEdjzE5sE+mI0rPtBS6j6o3HS+sEtyPjxK3z5QbpQ+wL0mPvgDmD6Mgqs+3DG0PsyKzz74hby9ANG/PKCUIj5waKs+pEa9PsS0rD6sjJ8+aAEkvrjNkj4Ak6E9oM1TPWDInj4g/rc+YDwnPex2nj5AIbg+eB9CPtClTj5k0KU+cPKKPmBQsD50npE+cMfXvebUIz9waKs+0NBuPrh8BT74XEU+oLKavbhDzr2EDOM+uJk3PkAAgTxAyBQ+JvIUP5iHWD4okJk+ZKWYPmizfz6kzKs+8Cc9vYzqsT7wugY+/CyOPlys2T58y5w+cB58veD5iz4k+4Y+NJG7PoSriz4w07Q+sEt1Ppwx8z6YdR8+ZgEPP9TB+z58tKc+nLLwPnQuBD9wXGY+oG9yPtjwvD6MlI0+4EqnPpRarD4Qf6Q+LOe4PoQM4z6kBC6+4IeuPrygjj4Mx/A+YAZOPlBL7j4ow0A+pBW0Pvwx3j48St8+fPT6Po45AT/gVLi8hHjJPjSZsD6gm1Y9UEvuPijDQD44yRk+eNMIPsCcrD4oIT0+kNLmPXgA+z50v5Y+MDFHPuT4mz5wWvY+sPCpPqiMeD4EiK4+UFDKPngqUj7YiYY+4CgAPvxT9z7YPMo+eAD7PjhsAD9AIbg+aBQVPiT35T4AaPc9VNC0PtBcH72Exas+sKTlPqDsej1AfMo8uHwFPtDQbj5gpnY+mEXEPvDYvT7Eks4+4P9kPjjeMj74LNk+sEC5PjDiBj7IZvE+CIRdvoQauz4orLc+sGrkPgiEXb6kKBU/UDpHvUhLrz5k/9g+pBW0PvTUiT5wz8g+xEWGPqzKtz7MI7M+TBWNPgyyvz6AXLY+aC/hPijJfD4MDNc+DIOIPlBlzD3QHKI+bAQDPwAtHz4ISr4+nDHzPoAEdjwUuN8+4DF7PpwPvD7EO5U+AJOhPYx9oT6sCqg+4NNLPkDO7DxgDxk9xObBPmAHub18Ab4+fPT6Por/AT/Ywvo+8LUIP5TPsD4oyXw+cB58vWQ74j7gtBI9jAGxPjA31D0ASP86SEuvPgA8cT448a8++P5zPtggxj6w8IY9dM63PmSesj6c/5A+",
          "dtype": "f4"
         },
         "xaxis": "x",
         "y": {
          "bdata": "ONxUvtCQoz3AEfE8ECyJvQDP2jvwyFI+2H0tPmD8xL0URYI+KKsUPpACvD7kVdA+IEMhPRg3lb5Qnr29gHPmPEC8HD5IBai+IO4TPeDAo77QYsS9QOHBvIC2Ej1gFB++CN9jvrDkxb4QoBc+6Gurvijvkj7gVQ++IDBdvpg2Ez6Ac2y8oHJLvdAA8r3gVQ++cHwvvqDSYD4AJAc9qHClPqDUN75AaTW+yA+aPsAV47wQ3q09UBz4PQi3Xb6QnUk+uGViviCgaL1gDKC9WK5gPmAMoL1g38S9uAFVPqA5kT3g1+E98ETsvaBrFr3AR9o+kHKEvhj/n74QtUi+cC/EvgBiujxg8rK+sOoAPsCri7wQgpq9YGmxvUBN57wwyvM9iLgpPpBJz77wgFe+QK/pvcAGsb2YojG+cHJ7vtD6Rr7wd+u9QNFgPQCChjwozAM+WLkbPijQAj7gXjU9cHwvvvBlyz5AEsI8uDcYvuBXSz0wyvM9gBERPSgbqj4ovWI+0McxvjgDVr6AAAg+IPtNvqAqmT0QytA9cOzBPrhzvD5oNBO+KE0gvjAAJj5wkec9YBocvogvC74ABO080LCSPTDq7z3QrEO+wBRfvQAzvrsIt12+oC4pPpAlkL1YeQs+4IEFPWAcIT3oB6I+QC0DvtBQP76gOKY9UB8MPmDvD71mERQ/YHh8vaB+aT3wXPg90Du5veiYPL6osk6+mIcDvoAACD5AxqG8QLwcPpCdST6As7282BenvkAzdT1QC8E9EM6nPdDbJr4Y/5++PD6HPnCNzL3wdOm92PIPPtAdj75IMiK+QDN1PVALwT0wWQU+kIcZvgBOW7wUYIc+AJWDvcD/+7zgHIE9wNZTvTjetr7gc0i+AHJCuzA4+b1Q0N49QDbXPODgVD0gZNW9ADIJPUDDhD0AOVY8wP/7vKSrvD4ozAM+jDCYPlAZY77IMZC+0MSKvVBroj7ATws94MCjvnQmAL9w7I69KBuqPoARET0oIwU+4N7wvQAS+7ygBrg9YHWSPYBC5L0Q91a+kP/3PWBN6L5AbcY8GAutPoBIJb6gF6e+eBwJvhgLrT5UVKM+YExAvqC2t71oEDC+EM6nPbgBVT7gqGa9AAl6PHDy4z2gPLo9kAmGvojgTT7QeCQ+kK3WPVA23D2UJaU+ULTHvSix1L7gvHm9gK0gvdB+C74Uq6U+YBwhPaA5kT0gwhm9kPSQvYgMpD7AyAC+mKIxviDUsT1QOSe+ABTNOyCCjL3cI98+4NfhPQDMojwgOAE9PD6HPrhfb75g1hE9WKpQvuDne71QNtw9wBRfvWDkKr1I358+IMS+vRg3lb7gk5Y+oLa3vZiigb6A9nE9ADLbuyDOdj0YYmK+YFe7vZCiFD6AP089",
          "dtype": "f4"
         },
         "yaxis": "y"
        },
        {
         "hovertemplate": "Category=politics<br>PCA Component 1=%{x}<br>PCA Component 2=%{y}<extra></extra>",
         "legendgroup": "politics",
         "marker": {
          "color": "#00cc96",
          "symbol": "circle"
         },
         "mode": "markers",
         "name": "politics",
         "showlegend": true,
         "type": "scattergl",
         "x": {
          "bdata": "xBX2vgBnxDtkHp4+MGgpPuAOGD6YBX8+1KKwPggJUT5AtNM9uMUCPh4vhL7gwVQ9yCuwPkAI5T0A1dE8nOPCPlQKhj5sApA+rF/1PljxmD5Q0p496BRwPuDuWz4AaS8+cNWSPSC8NT0wIGG+jI6/PhDVxb0A95s8ANWiPkBTzj0mS8W+sOVDvlBvr71o6ik+aCyVPthJfD4gWgc/iHFFPqDBMb1Qb6+9EJpvPrAv0z1gCwU9IM68PjRMlD7gWFG9OOIVPnAbvT0oWds+AIwvvMQP/z7wtZc9jNK/PiCa37yomwo+SFtGvkAiND3IW2s+AEVnvOyLkz6wr54+gPn9vOBV0j4I0ts+0NFBPniiNj6IdE4+uPqlPmwdxz5AZVS9aAqKvUh2mj44ZBo+YCUfPQDA4T34nlM+wAtXPcB1+Tygxh+9QBa+POBYgj0wjPA9ENEjvhDnqD6c48I+YGvTPUSJgT6Ya3U+2EXwvdB9Az5spaQ+ALJzPjjbgj4AsgU7tEADvvjslr1ghDw+UDNIPrgscj7ggag+yL1fPjS5sD6APzo9wO+LPtDuWT74fLk+eGFfPkBmkj1Iwk8+yN9JPlC4gT7eIAs/zK+PPrzeoD6YmNi9UMf+PZB5fz5YFQu+QG/APkyihj4Un5s+aMNgPgAjXT2QA7o9oKlWPvTCjj5ANnA98H0NvQj98L2YhcA+4MoyPuw0wj6A6K09gO98PrBIyT2gVKM98GtiPqTKiT6o5y4+0He7vWTnHL6gztc9AA0pPgizqT7AF0E+AFRKO/A0SD4ifuq+lOkyvhT+lL682Jg+NBxxvvjYTj6wLM0+2A9PPiy/rD4QAzs+oHegPgCmwDvYfKe9LFDCPvjdfz4IyoI+IPxbPoDIRjzgysA+tAmBPujG2T744A++3PdQviipez4wNJY98J2vPshhXj5wF6A+KM/evUCwTb6ADwo8oERCPVDH/j1A9vs9oGyYPSBBwr34cIU+qF7rPlQsrz4g1fk9gBmXvPTskj4YD5Q+DImrPiC5ST4QxZc9NGVEvmwpiz4IPFs+wKHFPDxlFj+wmMg9ULvcPazKrj54V44+IEQ4PgADx7vAJg69AJohPqxf9T7ASqk8eDRvPnhTND5ACHs+1MU+viA50j4gvlw+NBxxvgDE7Do47l4+YJKhPiC6dD14i+m9pBBVvphirD64gE4+APebPBjaMT7AIY08wDQXPTAlTT7QvWC9GGEvPsxv8D6wZFo+WKMnPmDdEj3Q3889mBSUPiDKyr2gD2I+5FGlPoBcVz3APbS99H6kPojrLD7A6wS8AI0bPMC4Vbzg23a9EDp0PpAJCb0wC8U9uCxyPmwBrj6ANgE8oOrhPUBxI76APzo9gEzzvBS6zj4gneE9gBgCPfikCj7QzOE9RL2GPqigkj4Ij0I+gEGIu+BejLzM0tQ+nHSJPghVAD68yJs+oHoqvQ==",
          "dtype": "f4"
         },
         "xaxis": "x",
         "y": {
          "bdata": "6EB6vhB3uL74qBy+kPCHvhDcIT6Q1ui+0IFWviC21r6QAqS+gIe+vqgk3b4Yx7K+kAyhvthcsL6QScC+oJZZvohvIb7gV8G+GKLpvizGgb4gQPS+8Pq/vpDjx764TNG+2PPgvvg+br4gYQO9yHq7vmhFKL4Yw56+TJqEvsAwHT2AQrm9IJ6PvsCJsb5w0Rq+gAkgPABiL75AqI69gJXBPCAGlL3AibG+eOKevjhY3r4wbyi+gCgIvaD26r3gO62+cI/Svoj6VL5gofS90JzTvggDar6AgZC9iLNBvqj2kL6I2aG+oO44vsgZmr4AdTS+8LCwvqzMgL5Aa4S8MPWEveCSsr1gcJ89SI+fvgiYkL5wYe2+AHxiOyiIb77A3di9SHiAvvi4zb44t6i+2A62vpAJhr5ALP2+4InbvtgFxL7g2aq+IOgJvQhvN75sYwC/qKGGvphja76gllm+yPmwvnCi474QtlO+AJdNvcBLb74gALy+qGUUvoj4zL6Yy3a+WLUHvwi3r76AQpS8+Fi1vtCSRb6w25u++G+Rvrh6QL4wvOy9kLuLvdiL0r4geci+CJcGvoj6mL64zAO+CFtGvpj8kL4AGG07UJvqviA2vb5gZ4m+yJrjvhAY0r2wp8+9EMqDvtBUvL6oIM++iI2QvkB5Gb74z4u+gN+ivvB73L4w84i9mC50voBax71IsOO+gDDNvghItL5IE7m+cKCQvthiP74Qbqe+yKegvqCIbb64tdG+KMAivkAjMr44Ys2+uOXavnBok73gOc298DfIvShthb6gtpq+sL31vWClD74AIlW80CIGv9jA0r5AKOe9SKVfvqhr5r7Y5ua+6NaPvoBfvr54ibK+OMhmvugfi74gFtO+cAadvvAexb64nm+++H7qvkjUbL5oAhe+TNzGPuiVqb7YipS+oLxivhAuq77AHgq/YB9jvSjzxr5o8Ly+SJ3kvsia476orru+OOaTvojxr74gt6y9uDsovrAKnL4o2sa+CDHAvujzl74IaL6+gKW0vuDmp77w7QG/gCnYvBihsr4Q/cS+WErPvpi7Rb7wkiO+/I+Avqg9c76oJ8C+wL3svhhRyL4AL0K+aPDXvhii6b4IY7i+ONejvthvA7/ourS+wLEhvXA2tb6Ax5C+0CIGv8Cear5AZwC/mHKgvsAn2b4QIb+90M2APWi+Qb4gjI2+GMOevjjQrb6YCt6+SLiQvuAR4b4gcKu+QIo1vhhoib5gR5y96NbYvjhsrr44Y4C+4DnxvbjGkb4YRqi+kP0/vljoxL7ABnS+gCKJvBjPrb4o3l0+gF7HviiuxL5gtdy+cGDLvvjTtr5gWDe/0JJFvmAcGr1owY2+2OyWvnAwZr4wvOy9wFiwvvD7Sz4IsYi+6JyNvmisvb6IEfy++NO8vuB3h76wY+K+gM7NvhCZDr/wNdK94LOwvsAcwr4gx669AOI5uw==",
          "dtype": "f4"
         },
         "yaxis": "y"
        },
        {
         "hovertemplate": "Category=sport<br>PCA Component 1=%{x}<br>PCA Component 2=%{y}<extra></extra>",
         "legendgroup": "sport",
         "marker": {
          "color": "#ab63fa",
          "symbol": "circle"
         },
         "mode": "markers",
         "name": "sport",
         "showlegend": true,
         "type": "scattergl",
         "x": {
          "bdata": "ipffvoKVCb/+W5e+FJc5vzZ/LL9S2hW/x3I4v0oCC7+Q0nS/6LWovgj5cr7BLhO/Okq1vlBDtr4oIIi+PkDZvlZ3AL94suC9KOSXvnw+M79Kkpe++m2+vtzABb40wgm/RD1Lv/6jM7/0GmK+pC4Zv8gT/70QJsc9tqw4vy75mL6K59u+wiTEvsZI1L5GYNG+IBbCvoKxtr4QXHW+0iTMvnhKML/m0o2+xsqRvpLE9L60Ssi+chiwvqQE6b46ixG/XX5fv/Y91r54pIe+R2+Jv17IV78Stvq+LtoLv6ieAb++6cq+ctU0v6q2Lb9Wmzu/MJmqvpyNN79lLhW/ujWavkhcxL7IT+i9rJNVvpRG2b7wO+2+rHfqvtgI5b4Pqy+/BPWavrT4qr7icbO+0CBzvjKxnr48JOq+UvA0v66JDr9Slj2/fMFBvkhygb6Od36/YM0Av6JyCL9WaCe/epSUvuZJSr9ubiq/ppPLvmY6Cr+0gwq/VoHmvkWTQL9uX8i+DlafvsijKr+gHmS+LLTZvtQAWb6m38S+IjKrvq4/Dr/uFg2/vBxuvjLLHL9mMbS+GkYjv/iwuL50zsa+PP4QvzjV1L54w5C+rcE+v/Ahgr2JiA6/kVkfv2hqR75wPKC+OiSgvihg/b7/Mxq/yOQnv+Qu8b6EVaa+9Hc5v44o1L46BO++sXEAv1Rxtb7eMgy/2k8wv/7QEL8Ceg+/LWEBv4o7PL/o7JK9MuM8v0I/ur5syJ++SgLuvjCCMr3VDWm/sKeMvsy6JL7L9yu/ELW6vu7VIr+yDJC++LC4vsI5E7/UpGi+pGpDvzDGib98jAS/iSIOv24Yg7/7jIG/Es76vuo26r6QOsm+eE8kvmSdFb7iz82+1L8xvvJ/BL/csKC+TCVqv9xEFb/AHBi/XPIvvnylQr/iYf++1G1zvmxTtb7z6Vq/MiP3vnMBGL8oSR+/fl/YvtcXDr8oFci9ELR6vtiP4L7qVsy+wnDkvlV2IL+EVta+KcxKv0xZpL4q+7C+0sm1vh4mrr6ynZC+8KyMvnKkQL/WMsK+5EzCvuC64L2IhgK/pp65vlMXhb9+aBC/YAJCv/CMUb4BUAi/Lq3Zvromt74Mszy/iISEvnzH3L4CHTe/AsfdvoYQG79AKVC+Bsaev7Bb6L6a7eW+EBk2vlR/hr6Q+VS+yEdQvsgj0b5ePee+SETpvgw/+L5Meri+xAgjv5DP4b3I1BO/JrKrvliDBr44xQ6/HCJWv/Rs4r5z8jq/go2vvmBywb5g7KS+dgq6vmSs/b400ge/ji9Wv3Cnb70g/I6+ADfaPGpzv74BUAi/5NUwv/LHCb90Tp2+9gq/vuyyyL6CPpW+LqGHvnjxGL+YdJ++vLlXv+jB2718H/y+5uMPv5TP7b5AO+C+TBxXvvBFxL3yaB2/BHPYvlxZDb/YVhC/9IugvldWEr8WhKm+lpeEvvSonb4Kldi+EPLlvuYE5r47P0G/WHjUvvL14r4oQ1C/BIaWvghIh76CybS+jB/ovlVMG78P5Qu//BJKv8xzxL74Duu+DRcWv9Agc75UN5i+NNkDvipkoL74LMy+mAH9vqBRGb/gPsa+wK5tvYr6+r4u0CC/1oOUvgAykzs4IgG/kML+vjIPR78Y+l6/t7cyvzg63r6azOi+CqNVv5bpCr+qvTa/jhw5v9DGnb6Gj6m+lbEZv7C6Ab+EUC+/IkgLv3xdLL88LxO+coMIv2dKGb9HzQO/SiMFv62IOL+s8Mu+jIkov06yg758qYq+zHPEvhBScr0ls06/CAXWvh4Jvb4qmAS/stfkviC0Ej38rM2+2hYfv0Jbv77CJuO+cgaivg==",
          "dtype": "f4"
         },
         "xaxis": "x",
         "y": {
          "bdata": "EGKRvrCx6z3w1Zi+EJeHPQDgxLuw/wa+LFqzPpizY77kkfE+mJOcvviq+b6ozti+oE+2vnRpAr+gqOq+qPf+vgiJz74YCd6+bJotvxB/cD44Aru+oODsvsDuMD0A8LI5yMllPuAPBz1IHLC+iBuaPnArCr4wBWu++MuvPpiREL/IJbC+YJHwvSTSAL+Iq5++zBQYv5i/mr6Y35m+2P9mvgCX5TtI3/y+OGExvihh675whf++aAvNvohnAb9kF+M+IGahPuCo3b6QSL6+lHLrPvwkhz6Y88e+GE40PkibLj58LJQ+OD+UPvD/uT3QhOY9wK+bvmhxNT4AJFa7+HOIvmz0DL8I3Ea+IJgRv2BAd764djg+IB0ivnCkpL6QALQ+gBA6vrjCp74Y3Li+UHuwvrBDvr6gPve+lEmmPkBW+rxCAwc/uI7CvoCr773WehA/UGOMPYCp3r2A+iu9wNTZvcAl5Dy4+ko+mCusvljVur7AmAm9cF3SviSnhD6U4oc+0E2yvlAekT1skwi/QCPrPdADxb0o+bq+AC9GvpxkGL8oFx6+CLpsPoAMVr4QfAO/ELDZPfRIgL6AExk9oCE8vUCBkb4IMrq+nIaRPrDH0b0wuNW9iCUDPgwCC7903QG/eKeXvgCezjtIhia+2OENPkB98LyYori+TKHzPoyeHb9Ebyi/AIvBvihPir4o4SK+oPBivaDe1728iqU+OLMVvjAHRz6Ylaa+kPl3PsTsC79Q46O+ANnnveCZE7/0Jc4+0EIJvrByzr4AZIC8vOsSv8CzS72Qg/K+9EiAvgBxrzxMlYG+gAhJPpx/ZD/om0i+aB6PvnI7Oj+sASI/cL8IvnB7tD2Anc++WK+YviA6Er/45b6+uNzHvsD2tDzw8LG+YHE5PpA9n704xY6+gKkVvBwXzz6Az2e8kK39vjhttb4QnBk/iJyGvrhrD75gexY+AGC4OUDkKz7ItmG+UHyAvbAmob0o4Fe+YJWyvsCM3LzA+Ay/cNi3PZQSGL+4phe/SM7rvqCdqr6gVuO9oNAwPbDqsT2wghq+MPuovqADxr14uYW+sED4vT2iVj9QXqA9GNxiPoAGaL2AgJ+9oLpzvrjj076UnrI+KBrNvvisMr4oEbQ+OFHOvojyOb7A5aK9utIPP6DEWL2AqKK9iHa8vgg7or6E+gq/gDb4vsjMEL7Qdtq+qJa3vtzxgT648O6+5FaSPiBDyL2AeDY8gHkPPAwvNL9QAUy++m4WP0iGHr5AsfA9aNDxvpjn+75swCi/kNyTveC/hr7AnNM8yG3GPuihn76QLy++wPfRvtiNIr6AgJ+9wGZXPQjDV75A9kk+2PdXvtjNHr7gq7u+QJvWvHCzN75cDym/QIp/PtgHCr6gm9G9UD6Evgi1i74AYtk7YHRRPWjnH75Akm69gC05vuCAWj6Y31S++Pb4vrBaNj5IsGW+SDXNvpjFfr4YcJO+wP4yvvDs2r6M2YE+uEQWvoATuLxweQo+gBHVvgBEOr9kzQe/ABWXvkDoAT0I3Xy+2HprPqBujL3oO+K+UOmOPVB7sL4gthu/GBKsvmhb8b4Qtu6+AK4vPIAnZbygsDS+CM2dvtB7pD0g0GA+UCe/voDeGj0AnDk+oCs/vqyOxD4IQUE+HMmqPhiH4L54PyO+UH96PrCymr149WQ+QKiQPSBUEr1ADrS+8B7vPZjgkD6gA8I9cCe1vQwcuz5gU/q9ALg1OkD73jyA9c4+KLHZvqCZZD6s1Qm/MOdBPog8fL6sMgm/oG6MvZhQl75I9zE+CBF6vvCKK78AMcW+uMStvlhWGD5YBkO+AELXPfiS777o0b6+WII8vw==",
          "dtype": "f4"
         },
         "yaxis": "y"
        },
        {
         "hovertemplate": "Category=entertainment<br>PCA Component 1=%{x}<br>PCA Component 2=%{y}<extra></extra>",
         "legendgroup": "entertainment",
         "marker": {
          "color": "#FFA15A",
          "symbol": "circle"
         },
         "mode": "markers",
         "name": "entertainment",
         "showlegend": true,
         "type": "scattergl",
         "x": {
          "bdata": "NsSLvl5Gvb6wV549HB8SvrhBEr9kqUu+jNCWvqTbDr/AcV+9eDiZvQhC1r7Qlzq+AOZFvfAe7b5YD6i9rClLvvgxCL606pG+qXZGv/hsQj4+o7O+CELWviDlsj3w7xe+UA9LvtGBIr8yZiG/cAQYPmpjnb7Qy8G+cvw/v0jfMr8CzaS+lFEHvzq++r4Q2KW9blvxvljAHL9Wj8K+mlucvt5Ogr54286+kAzjPS31Db/GnY6+TpXKvij4T79gPAI9aPp5vth0Jr4KJKK+EKIJv5mGI7+y9YG+nJYIvqJx476MpBu+ZFbmvggLGr88hWG+ONdHv+yrtL4Q4u++XBdjvoK5qb5IcN++COXuvjjaOr8wgb++sgQKv/4Dvb6IIW2+0OwWPmBGLL6A5DS9erOGvvAcV75EwX++aDVBPmLDPb8i+Q2/AG49u0hmIL6Ip0K+NC+zvnjR1L6EE8O+oErEvPqBGr9Eq1G+v/cjv5qcmb5Qf4k+lOVzvngkE76y4A6/YLT2PZowk77qRJC+aJl2vm5RIb9gDha/gAYYvFZs2L7KY4a+nqSqvvg/0L4A87c8XnEFv1BQyj2W05O+SHDfvgpxq75iIKO+08QIv4CKCjxqhJy+eK7FvUS1g77IzMi+YLT2PQ6wrb6Yfri9jve9viqsGb/GTim/eHdSvvCz9T04ccO+eEGFvnSzEL6ku/6+shjOvrWtIb/UTT2+4Itfvk6ZMr+swVm+5CJOvnjYFL4snN6+gEvlvqoB8L4GpRW/bhkOv27Vsb7wHFe+SJlBv2BfI746VTa/gO2hvqAwz7wK2sq+IE+HvdLhD7/EWUi+iKWGvpBhpr1YvuW9oicJv2y4377EUsO+9kmBvtDS0L0gtg2+CLw8vhDlsj1U38y+oN6avpaUxb6Q8dW9mOOxvhhh8L6gZYy9VHgJv3jbzr4O8+q+ygYUv4CdCD7MfFG+bOX5vr4J4L4UZOG+CDwAv7y6/L5YGn2+VODJvuYFrr4AC/K8qEkdv4BL5b7oxNI+jNCWvkwghr4EjoC+9ka7vjKEjL66mZC+9OokvmxSAL4mqtu+YFoRv1ap7b5En+a+qApNv+Bx371gpXy90BWzvrgR2L50zWi+Zp02v+ocg75MwAu+impUvzroHL8OBgq/6DQOv3hMCr6eAZy+NAX6vmAQ3b5UT8K+vGH/vjIo/r6wj2q+NG8nv9bdGr+iJwm/ZOfRvqphkL6A2vc8NKQXv2Cqjj1ECRW+lOhkvkA29z2cmuG+CG4avvq4nr5QMOM95JCzvjSIrb4Ujli+C4w1v7zLGr68v9i+xho3vyxShj4Qr1G+gnbzvjzf775Een2+9Gpxvjw0S78oONy+rgjzvgy6p77waTy+jICxvgEHJL/IzMi+ZFbmviTapr6kAtG+GH9zvrisK77QlnC+BMp3vvjZD74ctKK+6JEfvqx1875Q3gC+",
          "dtype": "f4"
         },
         "xaxis": "x",
         "y": {
          "bdata": "IKQBPpp3Fz/82xQ/QLSvvbAViD1AyF89CEJLPghFTj4glDO+IP1IPj4vFD88HJI+ALSuPKAvrz3A34c98KucPoC9cLwYLhc/8J74PuS4iT5AH/E9Pi8UPyAVQr0Q3Wa+OHFEPggf7j40UfI+ZG+QPoDNKD5YOXg+On0bP8hZ5j58DMk+AKMMvODWVT6o2F6+VL8cP6BGXz2Um4O+UKxePkDmtr0Afjm7CNDJvliaWD6w8K49yPAsPqZKCz/sIYs+UPrVPrDg3r3MVo0+IJkCPeaGBD+QPoi9ePZivli83j6YqzY+VE/IPrQMoz5AsnQ9QFnyPnjCED5opGU+6E5gPrBe3T0g5eg+8EUUPuTplz5wl6Q9olwbPxBxOT4Y5k4+LLOTPnAlBb5Aqoe+YEJRvoAs7TzwGWE+gGp6vaB09T6qtw8/cGKSPtD+Hr7EpLA+kJNGPsCztT7USJA+SMxqvh5rDD8AJuW8nO+APhh1mj7k/B0/8E9GPoBiDzwYY9o+aN4LP0CQHj3AMp69IDJlPsQ+Dz+c+/c+qEREvqyUkD4Aq7a7bC+SPrDlvL3UDI0+AHyjPlizwT5EOoo+IOXoPsD66b04nEk+gCBkPtj5Fb7gdlw9HJKlPgCS6zsQLlk+aN4LP+A0fz3QVYC9RkYYP1A7Az4g1v09UOLtPbDjP7646sk+OCR5PsBATj5E5gI/aO6yPrBp7z4wtfM9QD8BPhzH1z4AVu69KOJdPpC8Lz7OMwI/EK/rvWCmij6YkqM+WFpZPnSq6z6ALO08lvwXP/CI473YWDw+UKDJveDT7D3oLIY+wDr+vcDf5bwAu5I+AFUXvMyokj4Q++I+QPg1P9iCFb4gbRk+YLM5vgApnjugkKY+sLg/PyBwhz3omwQ+EIOpPaBSHL3QPee+8GnCPTz26j4QEIU+AIQHPwB+Obvc2ec+DFy9PjA8dz6kDI4+YKntPhCrkj6MIN0+AN03PAzbAT+Aroa8lM31PvAfLD5gDgW9BE/oPhCv670YpAS+CEJLPgC8dLwoijK+UAamPgjBET6wtos+AJAWvEC0nT0UoIs+fO2XPlApMz5AZ88+iOXQPsBD4T2gaAg+4JWXPsBWmD5wavk+eKf4Phh1Ib5A6De9vKYjP6h17j6w+wI++EwjPgADdT74MlY+YBafPuhXqz7Ab6Y90OikPQBExT6Qdfg9qDQnPmSujT5A+DU/mBjJPpjQij7A4wm+wNv3PspGFT+A1Sw8+L4xvkT7qz7QfY49tvUEP3CSKT7wvES+mDhzPvAH2T5AuTY9rNr3PoDRW73Q+9o+GiEDPySHgL4APw08eOUTP7DW6z14mZA+6MFYvrSz/z4c9K8+IH4GPoCS2jwQd8I9QCt1voxw4D4QLlk+VE/IPpzSlT5gEL89sEHvvZC5qT5wLm++wBeVvoDKuLx8bYc+KJFNPiCvMT3AN4A8",
          "dtype": "f4"
         },
         "yaxis": "y"
        }
       ],
       "layout": {
        "legend": {
         "title": {
          "text": "Category"
         },
         "tracegroupgap": 0
        },
        "template": {
         "data": {
          "bar": [
           {
            "error_x": {
             "color": "#2a3f5f"
            },
            "error_y": {
             "color": "#2a3f5f"
            },
            "marker": {
             "line": {
              "color": "#E5ECF6",
              "width": 0.5
             },
             "pattern": {
              "fillmode": "overlay",
              "size": 10,
              "solidity": 0.2
             }
            },
            "type": "bar"
           }
          ],
          "barpolar": [
           {
            "marker": {
             "line": {
              "color": "#E5ECF6",
              "width": 0.5
             },
             "pattern": {
              "fillmode": "overlay",
              "size": 10,
              "solidity": 0.2
             }
            },
            "type": "barpolar"
           }
          ],
          "carpet": [
           {
            "aaxis": {
             "endlinecolor": "#2a3f5f",
             "gridcolor": "white",
             "linecolor": "white",
             "minorgridcolor": "white",
             "startlinecolor": "#2a3f5f"
            },
            "baxis": {
             "endlinecolor": "#2a3f5f",
             "gridcolor": "white",
             "linecolor": "white",
             "minorgridcolor": "white",
             "startlinecolor": "#2a3f5f"
            },
            "type": "carpet"
           }
          ],
          "choropleth": [
           {
            "colorbar": {
             "outlinewidth": 0,
             "ticks": ""
            },
            "type": "choropleth"
           }
          ],
          "contour": [
           {
            "colorbar": {
             "outlinewidth": 0,
             "ticks": ""
            },
            "colorscale": [
             [
              0,
              "#0d0887"
             ],
             [
              0.1111111111111111,
              "#46039f"
             ],
             [
              0.2222222222222222,
              "#7201a8"
             ],
             [
              0.3333333333333333,
              "#9c179e"
             ],
             [
              0.4444444444444444,
              "#bd3786"
             ],
             [
              0.5555555555555556,
              "#d8576b"
             ],
             [
              0.6666666666666666,
              "#ed7953"
             ],
             [
              0.7777777777777778,
              "#fb9f3a"
             ],
             [
              0.8888888888888888,
              "#fdca26"
             ],
             [
              1,
              "#f0f921"
             ]
            ],
            "type": "contour"
           }
          ],
          "contourcarpet": [
           {
            "colorbar": {
             "outlinewidth": 0,
             "ticks": ""
            },
            "type": "contourcarpet"
           }
          ],
          "heatmap": [
           {
            "colorbar": {
             "outlinewidth": 0,
             "ticks": ""
            },
            "colorscale": [
             [
              0,
              "#0d0887"
             ],
             [
              0.1111111111111111,
              "#46039f"
             ],
             [
              0.2222222222222222,
              "#7201a8"
             ],
             [
              0.3333333333333333,
              "#9c179e"
             ],
             [
              0.4444444444444444,
              "#bd3786"
             ],
             [
              0.5555555555555556,
              "#d8576b"
             ],
             [
              0.6666666666666666,
              "#ed7953"
             ],
             [
              0.7777777777777778,
              "#fb9f3a"
             ],
             [
              0.8888888888888888,
              "#fdca26"
             ],
             [
              1,
              "#f0f921"
             ]
            ],
            "type": "heatmap"
           }
          ],
          "histogram": [
           {
            "marker": {
             "pattern": {
              "fillmode": "overlay",
              "size": 10,
              "solidity": 0.2
             }
            },
            "type": "histogram"
           }
          ],
          "histogram2d": [
           {
            "colorbar": {
             "outlinewidth": 0,
             "ticks": ""
            },
            "colorscale": [
             [
              0,
              "#0d0887"
             ],
             [
              0.1111111111111111,
              "#46039f"
             ],
             [
              0.2222222222222222,
              "#7201a8"
             ],
             [
              0.3333333333333333,
              "#9c179e"
             ],
             [
              0.4444444444444444,
              "#bd3786"
             ],
             [
              0.5555555555555556,
              "#d8576b"
             ],
             [
              0.6666666666666666,
              "#ed7953"
             ],
             [
              0.7777777777777778,
              "#fb9f3a"
             ],
             [
              0.8888888888888888,
              "#fdca26"
             ],
             [
              1,
              "#f0f921"
             ]
            ],
            "type": "histogram2d"
           }
          ],
          "histogram2dcontour": [
           {
            "colorbar": {
             "outlinewidth": 0,
             "ticks": ""
            },
            "colorscale": [
             [
              0,
              "#0d0887"
             ],
             [
              0.1111111111111111,
              "#46039f"
             ],
             [
              0.2222222222222222,
              "#7201a8"
             ],
             [
              0.3333333333333333,
              "#9c179e"
             ],
             [
              0.4444444444444444,
              "#bd3786"
             ],
             [
              0.5555555555555556,
              "#d8576b"
             ],
             [
              0.6666666666666666,
              "#ed7953"
             ],
             [
              0.7777777777777778,
              "#fb9f3a"
             ],
             [
              0.8888888888888888,
              "#fdca26"
             ],
             [
              1,
              "#f0f921"
             ]
            ],
            "type": "histogram2dcontour"
           }
          ],
          "mesh3d": [
           {
            "colorbar": {
             "outlinewidth": 0,
             "ticks": ""
            },
            "type": "mesh3d"
           }
          ],
          "parcoords": [
           {
            "line": {
             "colorbar": {
              "outlinewidth": 0,
              "ticks": ""
             }
            },
            "type": "parcoords"
           }
          ],
          "pie": [
           {
            "automargin": true,
            "type": "pie"
           }
          ],
          "scatter": [
           {
            "fillpattern": {
             "fillmode": "overlay",
             "size": 10,
             "solidity": 0.2
            },
            "type": "scatter"
           }
          ],
          "scatter3d": [
           {
            "line": {
             "colorbar": {
              "outlinewidth": 0,
              "ticks": ""
             }
            },
            "marker": {
             "colorbar": {
              "outlinewidth": 0,
              "ticks": ""
             }
            },
            "type": "scatter3d"
           }
          ],
          "scattercarpet": [
           {
            "marker": {
             "colorbar": {
              "outlinewidth": 0,
              "ticks": ""
             }
            },
            "type": "scattercarpet"
           }
          ],
          "scattergeo": [
           {
            "marker": {
             "colorbar": {
              "outlinewidth": 0,
              "ticks": ""
             }
            },
            "type": "scattergeo"
           }
          ],
          "scattergl": [
           {
            "marker": {
             "colorbar": {
              "outlinewidth": 0,
              "ticks": ""
             }
            },
            "type": "scattergl"
           }
          ],
          "scattermap": [
           {
            "marker": {
             "colorbar": {
              "outlinewidth": 0,
              "ticks": ""
             }
            },
            "type": "scattermap"
           }
          ],
          "scattermapbox": [
           {
            "marker": {
             "colorbar": {
              "outlinewidth": 0,
              "ticks": ""
             }
            },
            "type": "scattermapbox"
           }
          ],
          "scatterpolar": [
           {
            "marker": {
             "colorbar": {
              "outlinewidth": 0,
              "ticks": ""
             }
            },
            "type": "scatterpolar"
           }
          ],
          "scatterpolargl": [
           {
            "marker": {
             "colorbar": {
              "outlinewidth": 0,
              "ticks": ""
             }
            },
            "type": "scatterpolargl"
           }
          ],
          "scatterternary": [
           {
            "marker": {
             "colorbar": {
              "outlinewidth": 0,
              "ticks": ""
             }
            },
            "type": "scatterternary"
           }
          ],
          "surface": [
           {
            "colorbar": {
             "outlinewidth": 0,
             "ticks": ""
            },
            "colorscale": [
             [
              0,
              "#0d0887"
             ],
             [
              0.1111111111111111,
              "#46039f"
             ],
             [
              0.2222222222222222,
              "#7201a8"
             ],
             [
              0.3333333333333333,
              "#9c179e"
             ],
             [
              0.4444444444444444,
              "#bd3786"
             ],
             [
              0.5555555555555556,
              "#d8576b"
             ],
             [
              0.6666666666666666,
              "#ed7953"
             ],
             [
              0.7777777777777778,
              "#fb9f3a"
             ],
             [
              0.8888888888888888,
              "#fdca26"
             ],
             [
              1,
              "#f0f921"
             ]
            ],
            "type": "surface"
           }
          ],
          "table": [
           {
            "cells": {
             "fill": {
              "color": "#EBF0F8"
             },
             "line": {
              "color": "white"
             }
            },
            "header": {
             "fill": {
              "color": "#C8D4E3"
             },
             "line": {
              "color": "white"
             }
            },
            "type": "table"
           }
          ]
         },
         "layout": {
          "annotationdefaults": {
           "arrowcolor": "#2a3f5f",
           "arrowhead": 0,
           "arrowwidth": 1
          },
          "autotypenumbers": "strict",
          "coloraxis": {
           "colorbar": {
            "outlinewidth": 0,
            "ticks": ""
           }
          },
          "colorscale": {
           "diverging": [
            [
             0,
             "#8e0152"
            ],
            [
             0.1,
             "#c51b7d"
            ],
            [
             0.2,
             "#de77ae"
            ],
            [
             0.3,
             "#f1b6da"
            ],
            [
             0.4,
             "#fde0ef"
            ],
            [
             0.5,
             "#f7f7f7"
            ],
            [
             0.6,
             "#e6f5d0"
            ],
            [
             0.7,
             "#b8e186"
            ],
            [
             0.8,
             "#7fbc41"
            ],
            [
             0.9,
             "#4d9221"
            ],
            [
             1,
             "#276419"
            ]
           ],
           "sequential": [
            [
             0,
             "#0d0887"
            ],
            [
             0.1111111111111111,
             "#46039f"
            ],
            [
             0.2222222222222222,
             "#7201a8"
            ],
            [
             0.3333333333333333,
             "#9c179e"
            ],
            [
             0.4444444444444444,
             "#bd3786"
            ],
            [
             0.5555555555555556,
             "#d8576b"
            ],
            [
             0.6666666666666666,
             "#ed7953"
            ],
            [
             0.7777777777777778,
             "#fb9f3a"
            ],
            [
             0.8888888888888888,
             "#fdca26"
            ],
            [
             1,
             "#f0f921"
            ]
           ],
           "sequentialminus": [
            [
             0,
             "#0d0887"
            ],
            [
             0.1111111111111111,
             "#46039f"
            ],
            [
             0.2222222222222222,
             "#7201a8"
            ],
            [
             0.3333333333333333,
             "#9c179e"
            ],
            [
             0.4444444444444444,
             "#bd3786"
            ],
            [
             0.5555555555555556,
             "#d8576b"
            ],
            [
             0.6666666666666666,
             "#ed7953"
            ],
            [
             0.7777777777777778,
             "#fb9f3a"
            ],
            [
             0.8888888888888888,
             "#fdca26"
            ],
            [
             1,
             "#f0f921"
            ]
           ]
          },
          "colorway": [
           "#636efa",
           "#EF553B",
           "#00cc96",
           "#ab63fa",
           "#FFA15A",
           "#19d3f3",
           "#FF6692",
           "#B6E880",
           "#FF97FF",
           "#FECB52"
          ],
          "font": {
           "color": "#2a3f5f"
          },
          "geo": {
           "bgcolor": "white",
           "lakecolor": "white",
           "landcolor": "#E5ECF6",
           "showlakes": true,
           "showland": true,
           "subunitcolor": "white"
          },
          "hoverlabel": {
           "align": "left"
          },
          "hovermode": "closest",
          "mapbox": {
           "style": "light"
          },
          "paper_bgcolor": "white",
          "plot_bgcolor": "#E5ECF6",
          "polar": {
           "angularaxis": {
            "gridcolor": "white",
            "linecolor": "white",
            "ticks": ""
           },
           "bgcolor": "#E5ECF6",
           "radialaxis": {
            "gridcolor": "white",
            "linecolor": "white",
            "ticks": ""
           }
          },
          "scene": {
           "xaxis": {
            "backgroundcolor": "#E5ECF6",
            "gridcolor": "white",
            "gridwidth": 2,
            "linecolor": "white",
            "showbackground": true,
            "ticks": "",
            "zerolinecolor": "white"
           },
           "yaxis": {
            "backgroundcolor": "#E5ECF6",
            "gridcolor": "white",
            "gridwidth": 2,
            "linecolor": "white",
            "showbackground": true,
            "ticks": "",
            "zerolinecolor": "white"
           },
           "zaxis": {
            "backgroundcolor": "#E5ECF6",
            "gridcolor": "white",
            "gridwidth": 2,
            "linecolor": "white",
            "showbackground": true,
            "ticks": "",
            "zerolinecolor": "white"
           }
          },
          "shapedefaults": {
           "line": {
            "color": "#2a3f5f"
           }
          },
          "ternary": {
           "aaxis": {
            "gridcolor": "white",
            "linecolor": "white",
            "ticks": ""
           },
           "baxis": {
            "gridcolor": "white",
            "linecolor": "white",
            "ticks": ""
           },
           "bgcolor": "#E5ECF6",
           "caxis": {
            "gridcolor": "white",
            "linecolor": "white",
            "ticks": ""
           }
          },
          "title": {
           "x": 0.05
          },
          "xaxis": {
           "automargin": true,
           "gridcolor": "white",
           "linecolor": "white",
           "ticks": "",
           "title": {
            "standoff": 15
           },
           "zerolinecolor": "white",
           "zerolinewidth": 2
          },
          "yaxis": {
           "automargin": true,
           "gridcolor": "white",
           "linecolor": "white",
           "ticks": "",
           "title": {
            "standoff": 15
           },
           "zerolinecolor": "white",
           "zerolinewidth": 2
          }
         }
        },
        "title": {
         "text": "PCA of GloVe-based Document Vectors"
        },
        "xaxis": {
         "anchor": "y",
         "domain": [
          0,
          1
         ],
         "title": {
          "text": "PCA Component 1"
         }
        },
        "yaxis": {
         "anchor": "x",
         "domain": [
          0,
          1
         ],
         "title": {
          "text": "PCA Component 2"
         }
        }
       }
      }
     },
     "metadata": {},
     "output_type": "display_data"
    }
   ],
   "source": [
    "X = np.stack(df['doc_vector'].values)\n",
    "print(X.shape)\n",
    "pca = PCA(n_components=CONFIG['N_COMPONENTS'])\n",
    "X_reduced = pca.fit_transform(X)\n",
    "\n",
    "fig = px.scatter(\n",
    "    x=X_reduced[:, 0],\n",
    "    y=X_reduced[:, 1],\n",
    "    color=df['Category'],\n",
    "    labels={'x': 'PCA Component 1', 'y': 'PCA Component 2', 'color': 'Category'},\n",
    "    title='PCA of GloVe-based Document Vectors'\n",
    ")\n",
    "fig.show()"
   ]
  },
  {
   "cell_type": "markdown",
   "id": "bba2a28b",
   "metadata": {},
   "source": [
    "## Truncated SVD\n",
    "\n",
    "For this assignment, I will use Truncated SVD (Singular Value Decomposition) to reduce the dimensionality of the document vectors. Truncated SVD is a linear dimensionality reduction technique that is particularly useful for sparse matrices, such as the document vectors we have created using GloVe.\n",
    "\n",
    "### Why not NMF?\n",
    "\n",
    "NMF (Non-negative Matrix Factorization) requires all elements of your input matrix to be ≥ 0.\n",
    "It’s designed to find additive parts-based decompositions (like how an image is built from positive pixel intensities or how a document is built from positive word counts). But your GloVe document vectors have negative values, because:\n",
    "\n",
    "Word embeddings like GloVe or Word2Vec are trained to center around zero (to better capture similarities in cosine space). So they naturally include negative numbers."
   ]
  },
  {
   "cell_type": "code",
   "execution_count": 21,
   "id": "446f4d8f",
   "metadata": {},
   "outputs": [
    {
     "name": "stdout",
     "output_type": "stream",
     "text": [
      "Document-topic matrix shape: (1490, 100)\n",
      "Topic-word matrix shape: (100, 100)\n"
     ]
    }
   ],
   "source": [
    "svd = TruncatedSVD(n_components=CONFIG['N_COMPONENTS'], random_state=CONFIG['RANDOM_STATE'])\n",
    "document_topic_matrix = svd.fit_transform(X)\n",
    "topic_word_matrix = svd.components_\n",
    "\n",
    "print(\"Document-topic matrix shape:\", document_topic_matrix.shape)\n",
    "print(\"Topic-word matrix shape:\", topic_word_matrix.shape)"
   ]
  },
  {
   "cell_type": "markdown",
   "id": "d45d83bf",
   "metadata": {},
   "source": [
    "## SVD Components of the Document Vectors\n",
    "\n",
    "following plot shows the 5 most important SVD components of the document vectors and their relationship with the news categories. This will help us understand how the document vectors are distributed in the SVD space and how they relate to the different news categories."
   ]
  },
  {
   "cell_type": "code",
   "execution_count": 22,
   "id": "421af61d",
   "metadata": {},
   "outputs": [
    {
     "data": {
      "application/vnd.plotly.v1+json": {
       "config": {
        "plotlyServerURL": "https://plot.ly"
       },
       "data": [
        {
         "diagonal": {
          "visible": false
         },
         "dimensions": [
          {
           "axis": {
            "matches": true
           },
           "label": "0",
           "values": {
            "bdata": "36BiwLJceMBo1H7AYZV4wL99ZsDXX3DAZY2AwM6sb8AZUHTAnQ57wANgg8DO8nDAazJ/wH3Wg8BodHHAA0dxwGJ2dcBVjHTAKlJywKgzV8CISnbAqzpywMcrhMAAm3nAFfxwwJSndMDu8IDAGp5+wOnoccBBmnTAxsduwAKpdsDMWHfAHDh/wEZoaMAiYmrAsXR0wCEfgMDBm2XAZ89vwHF9fsAdgmfAXftpwJcjccDXXHvA+eFrwFpke8A0Q2/A/0RrwJ+ygsB6YXLAnCN2wFRZgcBA3YDAlWdfwGdIbsBpQXzAaUGAwOBmc8A5gXPArX93wJleacBLrGLA2TiBwPilc8CjcXDAZhl4wFuLdsC+GGzAB5l7wIozcsB6ZmvA8m5ywKQ+acDsxHDAVZWAwFM/gcAqBnrA7+dlwGp1g8BC+n7AEXptwDk9d8AUTXjApfRtwHMKf8AufHjA/v9hwIVNbMCyrFPAEwyAwNhrccD1123A19BkwEbDbcAzhnrARMx9wCnVdcBPgWnAKvJrwO5RgsCCgn3AGMVywKB5gcChIILADqN7wOb2bMDWwnzA1fttwKV4aMC5GnPAqp19wIVZcsBmq3PAmPl4wJpug8CIFHrAEEt+wIRzesArHn7A1w5bwN3Ae8A99XDAduxlwGsdc8DLp3jAh0h4wBfMdsC7hHTAtgp7wGi8d8C8zX3AvbJdwHf/dsD6onLA9Ap2wIQvdMABzXjAr3tzwG2uZ8A1q23Ap2R2wF+9eMDnQH/ApIt2wNzca8CIzIHAh7p9wHtZe8AA/H/A5sKBwFbBcsAJQIHAMc9uwGcScMCEvHXAmL9/wLmsdMDGx3rAddFswNyJe8AXr3bAy0RzwGsdcMBAy3bAHopxwE19e8AheXLAavJ9wOO8aMCXpoDATkluwNcFasCP4X3AF/9lwPC7gMBu0XfAsvxwwMcHg8BNYHjArgpzwESvesCTjmnA2Mh3wIAze8CJbnLALZB8wKYscsBc+nLAO96EwKdmdcCjo3rA3pl1wPZyf8BkBXnA9mNwwMb1d8C6x3nAZbZ6wA4KasA1VHPAK1R6wBJTgcA97WzAUyGBwI7je8A7HXPAUj5uwG1/fMBOBH/ArKp4wIdldsA6pnrASMV2wIPKecBi8HvAahCCwAbodcDgiX3AtxJuwJr7fsCyv3jAkvuAwK5sfsCvMXzAXpFtwBFIb8AxEHnAq5R1wLESgMDgzXTAxaN2wEK3bMDGfIHAbsdtwHendcC/OXrA7VRrwExidsA3NnDAMVaAwNRBesCQunHAiHuCwDhUaMCTknvARsR1wG5fccBrg2zA5jR3wG7WcMAGf3jAyHl3wNTRaMDVvYDAauGCwENLccBJknnAtN5owFYQdMBoTnPAtpJ+wAB3gMCQgm3Apa9owHm7dcBitH3AfHx7wIDZc8Ay6IDAeGp5wDo9ZMBaqnTAvhaAwIWMdMAObXXASYt6wEeLf8CnlnPAvKWAwMfGfcDbpn7AYzZ4wGcjf8ATNHXAuv1zwJD+eMAZ83DAVo51wM0jfMCgioHAI2JvwKzNc8Bvg3HAPUCCwAh7e8C/i2/ApUN8wBeFesC0ZnnANFSAwMGRZcC2WmzAHbtewDVPZMCqY3rA2ySBwF+Gb8ASL3DAGVNuwH0qV8DMRVzAGh11wI9ResCNNH/AkZ53wE86e8D3GmXAoMdwwJh+ZMCO+GnAMJyAwFm6eMAk7XTAVkp1wPupcsD1hG/AKoplwDOGesB4xHzAQAqBwLgIfcCl33rAQGh9wJYLgMAVNH7A",
            "dtype": "f4"
           }
          },
          {
           "axis": {
            "matches": true
           },
           "label": "1",
           "values": {
            "bdata": "QsprPt95CD8pM3Y+TRafPlHp/D4lLOY+7QvtPnKdBD9r2Pc+kMf8Pp83pT4yd8k9xUoGP2JH4z19v/4+28EHP658kj7E0Os+FK7bPs3lyz7IN6E+3SF4PlZY4z7TQQQ/R3PdPoWnoj7UBhE/z5fpPmDn5D5WVfs+xkPePrqnFj8K+Ac9OvejPoiQK75DzfQ+7Bz4Pi6CDD8GI+I+AoQaP8Xe6j5T4aA+9NQhP3eU3T7Iygo/AjYNP/8H2T4fz60+rL4KP71L3D5XM8E+DPwhP4p9Dz8W8xI/fG2UuwvC0D4O62g+tVzlPuG81z4Bxug+8yfZPl2plT6AcvQ+yJvAPhesAT9XGg4/Bk4XP7vF6T5IIwo/xAn3Pmi4zj7JSB0/+bcTPzFdJz9Ytcg+6trZPiWT/T6ZY9o+6zqrPlds+z7Yiw8/CUQOP+eI/D4krLU+45M4Pi9q3z62jnI+f5PWPqoSvj6Twdk9gc/dPldFKT7cQ+A+cGGzPulVAD/LGe4+A8LDPt9L7z5lXFY+Qi7LPgs3HD9w5gU/cj62PiFWCT+UW+w+OIXIPr/vMj84qgE/4QM+P26/ED/Uos8+K/FPPhMVAT/7vgY+HsrdPqcU4z41np8+X5+ZPp/czj5ileI+oouWPjkpnj6qpoo+wUqjPmPOPjwhfs0+XIIDP9nZ8z6wo40+qdsPP0Q48T5EiPE+v7e+PvUMqz6UMCw/ziMLPwLk2j4PpRI+RXPpPrNQ4j6+oIg+2HqaPQMgGT+2peY+jI70PrEJ1D4ZvAI/aTnRPtounz62QSw/rEIWP8hzKj8Iw/M+6yRFOjn5AD8/BCg+dj/vPlLnqj4dV2Q+SrZnPiyXzD7F2Zc+IDT7PtZgoD43R/8+5pbcPkTf1j67CBI/Kx/aPrkirj7jvKs+Jw5kPh3DBD8JqKA8WMnuPlxYoD6KOpE+cd6gPm/FqT5d5jk/L4XsPir8GT9MDsM+TsQRPznJoD5Ltxw/t2QSP7b0dT4ybwM+rbOxPpmI2T5R+Ps+XLDLPjyR/z49o7Q+TFXkPmtXHT6wda0+SHPKPq1T3j2oghU/u93NPmjB3D6vSwY/td/jPilpCD98k+c+qA7wPqUw2z7GvtA+x5HqPpN68z5Y09U+R1e5Pv/w1j5YBPo+DVzEPgXRDz9NZwY/kRTiPl8QIj/OcQc/B1HJPvZ21z4Siuw+FpAWP4FJaz79bVI+WKXRPiO91j7zfwA/wSzvPurwtz54B/g+JIoAPwhqIj+e/xg/CHPZPvWKvj5jq2s+1FzlPvFs2j5myCE/w+/gPpweAz84AQM/jNHcPiYMBD98Cww/+zbRPriFBz/+GsA+RbUCP4MSrT6d0bk+BtzCPrpIzD7zFQg/FHgiP9tl+z60trQ+I/LCPmX1Fj+A/ak+aug6PoXZqz57R5M+r3y5Pm/3kT6EV6o+MSXIPvmTfT1EH/Y+KRARP8YTdT6U1cU+3ajxPqu8oz4HT9Y+/2G6Pjaz9D70c/8+ikUAP+x0oT45xQE/PYW2PiUhFj9qDeY+FeMIva3K2T7Saug+GVO4Prs/zT55Bgo/k+WsPojwFT+p3O8+uzmpPup4ED6UXfw+l67IPqRI5D41UAI/sj2NPlgUZj57IsY9IumBPuqNGj9lT8w+dzzxPtgsqD6IqmA+QjULP5VB1T6tjfc+P3b3PjJ/Cj8e5AI9Haa+PfpAzD7Brfw+d3UMP20GBj8hvks+ebfHPpeIlT5dpds+nx8RP8sZ7j5CMdc+qv3nPvU7wT49GAI/4cCrPvGIDj+muto+",
            "dtype": "f4"
           }
          },
          {
           "axis": {
            "matches": true
           },
           "label": "2",
           "values": {
            "bdata": "z6JMvYvc1D6XIfs9YHccPtySRD9Tw8I+FkwMP+1dFj6rBlo+GRW5PvlUtD50L7s+g8EKPy+QtrvsFLc+ci3+PuToJT5QeIU+MIMSP9bB1j34Vek8GR76vLhxqT6Mya09HrGWPi0pnz4cHPc+nyxzPnksEz9FoMK8hbPYvHFHKz+uULO8HUVpvih7uT0A4Ik+ucsOP9f4cr3QNUY+n4bRPhmfVz4ONIY9ytv6PnZsjT7Jp4E+j7jmPuZWHr0qcyC8G0wIP3rKgz4XMj4+Pn41PxB8Nj7Pd4C9seBMvoXBbj3t/9O+WYAQPjw3mz5HtR69zkDPPjiNvz772VQ/zAMrPx02Mz80zv4+Mx/xPhCPkj59FgA+HUAKPxbJlT50D8U+U/W6PnuBJz+AJG0+/DEBP15OEz87Edc+GGmMPVw5kz4SLec+QGu9PpLXSj4GPxi9QhmlOxQw1T7iyBQ+eHoqPjc8Az+mqLw+E/3IPqu8Bb3Xlj0+7O1uPehPRT6eXAE/4tgWP5E2Kj7E/i498OGLPsf2CD4Z8Bo/axviPpo1hzweR6U+59/6uop8SD8B68M9foApP6/48z2ZrYs+M2W9vQLK2T7663Y+u6KqPbM/DT7hs9c9FYTPPHlLMj/Wwsw9O3+pPsGunr5sntw9SG+1PjykJD0pXX0+KKyvPixYDD1hlbA9ILoKPoTiRT0Zdys9dmOZPnmNcT756Sc/vUXiPJqlU71CNMs+wmmkPu4gAj/Cwk67BP+LvShl4T48yds+1DDBPq2h3j2qn+U+ZBoxPnIypD5ig9Q+iP3NPvyYAz+VdVu9pdNFvj8YAT7y8Qo+zdOePrm1uz7zDAC+DIfQPXR4Iz/wd+U8xtUFPS+dsr0Fh6M+ewaSPoM8nDyQJr4+twuVPdUiPj5n5mk+VVrCPo3BaD18CSg+t4vgPi9WOb3cC8i7jCZ5PkYoEz7+y18+/lYgPlGTij5+eOY+MoFOPYNUnD7B1fo6aiYOP/h6Iz/un+G9fw/WPfaxzL2U0V8/r4nWPa0p8D5sqUs+nk0sPrwv5z044TA+yuGHPWmSab16vbQ+Ex0jPb3srT6UvgI/xmh7PuCPAT/lTtc+kXoFPzOJ8D7QcQc/CtwXPyqxOj7dqD4/TpCDPU4sjrz9c/U+rte3vej47j6Klyy+plBBvWBO/T7C0ZY+XpxJPh3Lpj5Vaoc9lakwP2rwBL3wovG8AKenPkC+RT3rNpg+jaruPaUHL7zLOgQ+im2kPipnhD25+fw+74Q8PifnRT4P3ru9aqKkPrrXxD4WZxM/s5F7vTFd6z4F+xk/ZqEJOxvF1z6ADwU/f3DevbsyRD6ymt69lQrevMS5PT4PAvQ+NbTRPu50Rj6HRP0+oSb1PSljnD7e7YA+lAZgvfpT8T44r249NQJrPjYvwj6KJUU+Z6TkPJgE77zpn1o+KEFcP6D/mD7X3pQ9z2/GPo/xjT6NQ28+nq0fPh8qZD4oFVY+J9F1PoUvyT7jdBU/g+vBPRORqj60SRY+HT12vUSx4j5nPSI+QlsqvU9z9T0QOYi793/kPgt0S761cgc+70O2vG4O2j5OlSQ/kWeePQaGHr4QJH89Dv1mPr/pnj4OErw+/cOAPt+Tezw5duK8yXqCPb0mcj6CDR4/SlnkPp644D6W09K9MTu1PU58Oj9mzA29trPyPs5VNz+P8Sq+Z4V7vURqmD7ap/E9l8YSvhpakr2R6AC7EW/DPWOndLvdgJM++omcPp5cAT9tjPQ+63bcPuI/eD7bmBg/pjzDPo0u6j7g1wE/",
            "dtype": "f4"
           }
          },
          {
           "axis": {
            "matches": true
           },
           "label": "3",
           "values": {
            "bdata": "n+0ovvi/i74Vkp29rIkivpXzdbzLFty9a3jKvQCwE77PZaC+pWwWvseIir5PL56+8Dh7vqrtBb0EV/q9p/hZvmPGjL1oOIW+iAApvYi64D0sRJ68G95QPNTBhb3OZJO9VywwvqVD8L04XKi+Qn5uvu2EGL4MVzi+pa9svuoe8b09q1O+ArDCPZxuwzyBdBq9A78gvg7Qvr6sn/Q8xM+AvtDvXb4QMpq9iHYCvqnEBL6xI9i+7nQxvl8WFr3sbU49IW1TvUQXNL6mty++akRyvgSHbr5/Iui9YzptvpF4Rb41fWg+SEKlvuOnPz3M2jC+3CbvvnObPL5F7xk9Z9f9vD5vXD0odBw828c5vmVj1LsBf3a+GdFyvt9fAT4Lj5w9+C7sPfW8t71Xm02+8o2EvvFqpr6SnAW9uKp3PUihIb7E9UO+Wg6uvaCnDD0V6XS+C64TvqNzKj1qyju+Ql+EPYia7jwl7809vSmMvjtLWb7CxAq+5MUHPcdASL7ibkW+w8CpvdQNib6FrcI8s8fHvMehFr5zPYS9WNmbvQh2pr4K2o6+XtiOvt69Bj0ouZy+fbtQvspz3D33lzO9rsb8vY436z0ObR++A+c9vkDMjr6qBZ2+cdlyvgBefL0STwi+bFNGPYAH072wVh6+NkcvvQpzXb79TOu9YC0Svj+FZb4Ep6M+ZUiLvmOhH75vf8O+nxxDPokEmrq4bNW8EL+Lvapzi75SLLS+1yE/vvw1PD7BIek8t4KRvvuG7jvxsGC+LYNYvRZMH76XAxC+Je65vpISW736fw2+gfyzvj5tI75e8/69Cpd+vhrkH70oKLY9JTyGvultJj0QPZ09l1IwvuHU4r0mRgq+BiBLvuEys77XwUy+h6WjvHtthb7ja1C9Kj0zvokSN74Dqpe+lxOoPESgUD3YEzg9C3+dvczckr63thA+fcIFvg9oo74+8Ri+9OGUvqsrIr6/rco8Rw8FvbhxqL3Njdy91kdXvozga72QWIm+U9u7vt1AV76wT529pSnWva5AMr4nDEA9Ogc7vuUWorxIbn++lsI1vqeAR76bgew9m77ZvHNKrj2wFjK9AftpvlCnuL3398M9jRzQPFFSXb7GuJy+U/mavUsIYz2ziAE+UgBnvpphvL422SO+NVohvkQkt70QQDG+xyhtvkBljr7Xd2y+VitEvtn0jL4cfUq+wD7yvTqOBb08RFm+eKfvvS3qBr0qtYO+5GHqvfXMM76WZVC+ZxzIvKOdWL4sUMO9biGePH6PGL5C2qe+ruZhvn19Eb5Y3du9RR25PefI1TwHnQW92UKLvtO2u742T4O9QQ37vTy8m71LT2++9OT6vNUDFb0/bQC+WMOQvncwcL5kZQG+hHu3vdAXqr0hNow+jsIfvsdekb7Rbge+NGwlvpo9qb1Evd6+sfkhvgwNGb66O36+D67YvZTnRT7a4Cm+d9OCvvA1Sj4/0rW9fcNavuuVWr7gVWq9q4PpvWmHZ76xXtW9yp8fvbCF8r19ZKW+tgkAPo6SB74LQTy+cBJivr5OkL4+4yq+nhksvg0Zdb5Cwqw8Lmx0vi72Jr7k57c9sSdUvkhAhb6vX3i+pMksvmwrML3NVxA99r9rPnTgkr7Nvma+GPlnvdEZJr5gXxA+uSmWvQptYj3dcia+1fM7vpk1E77iOP+99Z0Bvql7jr7AP2S+STvDvX2r772b0l++omQdvtUc8r6Nqn69eYGbvuMvZb7pYEM+8D8GvuJuRb6V1fi9qeUrvsI/mjvqrSq+EIgmvjNGPjyNLPW9",
            "dtype": "f4"
           }
          },
          {
           "axis": {
            "matches": true
           },
           "label": "4",
           "values": {
            "bdata": "01mUPkz7kL25lLM9SSaLPnUAgb5VyIS9+faJvc63jT3CY1U+idP7vTbB+ryGIM+9HS/ivbcJar5HIdQ9cVqvPQHUHr5TLaS8rtcDvhPaU71zyVa+a3iJO418Fr5hSS298efLvGjDlj17yC2+nuRWvrwWsbvC/F89TSqPPhwziDvg1LA9sNdtvvhPFD7kds+9IvQhvvgqc70NnIu+wz21vNN/gr1rZgo9x4oJvs90gLxsFEg9uFqLPWuCdj0q7rA9hzlHvukFo7vouUS+e6UIvkyyCb6uRSO9jdKDPiWTAz5i4Yi+m8g7PrA4Kb1/qnE9+Nazve4Tdz6OYFO+OMe1PYWger7j0I68HOTevCsBvb3rHxe+SP0HviAxC75uhMO9p5vQvVReOb4TK/g9t2YSvXVKrr2ivKC98a5TvTDEw70BohC+tVi5vd/X6j21F48+bE+fPqOR773a8Uw+uYNRvou2ir26G24+B8LhvQiT+z3YUFI+Q9E+PaYsJj65rwG+vrd8uxXDcj5zyIo+wGbfPGz4ib3vsya+3eoYvha1UT0DKca8x/ooPkfKVr4y/gk+KDDhvcBGwzyDZJg8YTNfvPvpWr7ADgS9LWm+vdTr8TzK/ds9JyRQPVNdMz4TxJ08Y5iHPQuvFz6jJXs+6dHDOxM/zD0o9JE90pWGvcPqhD3lm1O+i0GqPU7CuD2faBQ+rYdxvhx7C715L029E0aQvRcT5z0HhwO+uOgpPqIgmjcXaB2+A3lFPpMKC72ujcO9eDjDvYADST49qJO9q2b/PSAfIbwz10i9WHQXPReJpDwN7Ka9+lGzPvQSEb5PObO9VoPkvZtybb3PKkW9BsVNPklCPb0zN5w9ju2IPvEDkT5ANc+9E60nvtISPD6Y8S49bTI6vfo/hj4mBXm91xkSvbTMcb61zby9KYEVvpF/Aj4amBq+ndKRPg9Pl70LL8m8wzYkPIc40T2/on88XZv8u3hg8T2Z17A5KMlePYLyor1BoL0+ooosvdIaLT7OUdG9o90nOvSCIb4tbhO+uqhBPRPvBT6DJZE9hFhePQjAdD4eb7+9dr3bvQLVbL503Me9YCkWPoIfUb708Si+qFRBvogrwr0iCvu7d+uMu6WQoL2C5AO+UxBLPQkxLj7tQFy9nQMxPmI56Lye2AW8zzwdPuT5eL289f29XH46vYnnkb3kfug7r8GJviXDmTwbF289K67aPZjigb38f8G91p6uvSs6hD7apVk+UYykvarVMb5Fl748odo+vuwQU7zR0MY+HvuQuktA6LxSfEK+4Rejva+krrwOADq+ldkhPu3Q+7zdDRS9RcHtPSSGA7wwnxQ+PTOGvIK5f7xe74g7Gdwovkcggzyz1iO++rPtPWYoab3kDxg95Wi0OxiNoDzkUfC8FOAXPkZB8jv+pHc9G7aZvTVXWT7uMOM8Gn/UvURQg71CxlM9+vQovrWsOr75Q4a97b8fveWxBj26omw88XgqPieTuLzDj4K9AXcCvpp5qr0ShZA7OWsYvjmtCr5pjg4+E9+lPaOnQT2aszE8vNgcPRruYz5ACK49yJQxPnRPAb5P93G+inlMPvTKhj661q68X2tdvRG/9b2v9i+97x+RPFVJ3j73Q5o9UOYBvmO3ez3YVfS9liQwvuwisr2xR60+ZuZKPrMPij0zF8C8qtt4vp/4RL6aHZU+bdCCPtTgJ7xX4ww+Rp+YvZ2bAD72+3Q+51hAPZLPmT4xIoK+brF6PbmvAb51bSK9muqJvVZ3rj3n1si9B/Ubvj2XAL5ILAC+",
            "dtype": "f4"
           }
          }
         ],
         "hovertemplate": "color=business<br>%{xaxis.title.text}=%{x}<br>%{yaxis.title.text}=%{y}<extra></extra>",
         "legendgroup": "business",
         "marker": {
          "color": "#636efa",
          "symbol": "circle"
         },
         "name": "business",
         "showlegend": true,
         "type": "splom"
        },
        {
         "diagonal": {
          "visible": false
         },
         "dimensions": [
          {
           "axis": {
            "matches": true
           },
           "label": "0",
           "values": {
            "bdata": "2319wG+zcMBlkXfAH/V1wA3CdsD4fnLALDt0wNEkd8A7WXjAKCd4wBxbc8AEtmTAIBVywHbxgMBZam7A74h8wAXgbcBMSH3AFaZkwM6ae8CxX3zAq4JvwPoGa8ClrnvAfXd9wOz8hMB8w3fALw6BwEMkbsDvZHrApD55wI9KdcDRgoDAtIZ0wONEdcDvZHrA4QhzwPwtaMB7Ln3ATK9ywCgwgMBkc2rASdp4wFCVe8B1HmvANg5twE0QgsCkonXARaZ9wLFMeMA12G3AwSptwDXYbcADfnLAJ/ZuwDfWZcD2VHHAGRN7wIJlgMDTR2rAXu2BwDSkgMAuE3nAn4t9wHnEdMCVsIDAITN9wJ5vecD70H/Adr92wBYpdsDnnHDAt4V/wGbofcAA0X3AFhZ9wGSZfsA3gHfA1oB6wBXsdMB1sXXAgbV1wNGxdsD0b3XANx1xwPjidMDR9G3A4QhzwHrxZsAEEGDAEV1swKAuesDnnHDAq3howNqNbcD+znXAehV0wCGHdcAOAGvAX6B9wM5JasA7iHLAezd8wJocecDOZ3HAHXGAwLkCdMClSmfA53BwwCdKgMCRI3HALNdswCktcsARy3TA3Gx0wASre8BNEILA5th/wBBze8Dj8G7AY9l4wI9ib8BgVHLA9w5/wJZnhsBeNnfAvp91wBYMdMB4eGzAVhF6wJnCf8BhF3bAHfx2wDjWc8DYqX3A5a1vwA4Aa8BHwWfABeBtwKSidcCXjHnA1OJ+wPvcaMBMunzAl2N2wDOQeMA0pIDAHWdmwKHefcC5UnLAnvBwwDxefsCrT2/A+9xowEy6fMDQ6HPA+sF0wIN1gMBFFnDAT4V0wLGCcMCU5XbA6+F8wMf8gcDc8XvAKndmwOLOesDicGbAwEtywI+Ba8B1xW/Ara92wEZXbMAwnGnAsYJwwLHWbsD0b3XARFNvwETKg8AxSYDAtPt1wEz6dMCZG2nAzpp7wBPxgMCqjW/A2o1twKt4aMA1kHbAJE94wPbdbcAhEnfA37l+wMPjdcAAHXfAEjBxwCCsfsC1SXrA6xB6wOkjfsCbhYHAO3N8wOsQesBynHbAm/t1wLgxesDtH3vAl2N2wCf2bsBeInLAKqRuwJhbesAc+mzATX5wwD0jdsDgR3LA7/ZywKVvdMDhZ2HA/4BwwAo/gMC2OnrAsid0wJlif8A6V3LAj2JvwDfWZcDBKW/A0g91wHltcsDf0nfAN4B3wNOjdMAw0HnAxyV0wMRfb8C2wWLA9lRxwFh0dsA/snrAHWdmwBDwd8CNy3jAyxh6wMEcfMClb3TA3Gx0wMo1dMABIl7A+t90wHbxgMDkVnnAuDF6wBo5eMBNK3LAkYdgwBgTcsDwUXXAwix5wL27fsCRH2rA",
            "dtype": "f4"
           }
          },
          {
           "axis": {
            "matches": true
           },
           "label": "1",
           "values": {
            "bdata": "nKmBPsyPiz6sI9g+j7axPsTqYz7DH8A+szfWPVec9j0kZBQ/GrXlPtAh67w0FY8+NiasPobVmjwftn0+KK6UPn/2wT5c6Ak+usRYvX3JzD5hHdM+ySJ2PqmXOT1MVpc9TVftPur/BD1CLuU+EnJZPt0ntT6/a9A+JQLYPjS/9D7IzZI+iXT7PqwXzT6/a9A+8hKFPl5LQz6Yph8+tBA/PsZMqj4OzIw+7uTvPobktj4aHQk/U7HIPeRaOz61j5M+L+ltPmD9Qj6rdaE+aYAKP6t1oT7MkWQ+VGefPmOokj0IE80+uRcBPvm60T65mTK+kh8cPoXTuD4k+YE+MxK2PZGklz7EDYI+RqyoPv4AxT4wtx6+mCE6utkRET6DBLk+6tauPkbAhj7UyYI+FY5dvkiUeD5CLz49PZ6AuwfFlD4vW7E+3sQCPcO6mD74Xbw+WWpYPrbmVT7gvLU+8hKFPmqT3D5PcLg+RqjYvXdzIT+DBLk+ComOPlQYPD74rk4+Z/bZva93Cr4APPw+zGT1PU8jSz0/th4+QhAXP73TZD7WNpk+gJ5xPozZhT4XF8o+vAx0vQOGlD5eBhA+QcOdPnYq5j6aGZM+2aihvepoej7kWjs+oX+sPpSMcz5RPMU+epNlPibNAT9Ybjs+G0kDP483xT4nYqY+FDz2PtA8BD93Cpo+Js9UPpSRqj6N+48+k9CcPpaGoz7Hd4c+haS6PgA8/D5tdhC+f/bBPrWPkz5GOek+kxMEPjWNBD/xwiY+eQCzPvpf0D6F07g+sVcSP5SB7T4hchi9nrHXPtLckD6u00U9NY0EP/HCJj4H1CI+OzHrPUIUkz7HkmI+cUvQPbviAT+FGpM+hlIbPr7KWT4B2N8+Fo7FPm0KUT5pyc0+/97QPtzMdD5tlIg+LcTpPUMXBj9N1eA+u+IBP6B9Dj/4Xbw+Cx8/PhyIuD5cWCw94lCvPuMe2bwqCME+fcnMPgrIML1veNc8VBg8PgqJjj6Pa3g+0G+3PvCgyT4tQtA+x1lAPvQSHz4qp8o+qT7FPua+OT2YHuo+hh1ivlnSoT5a8ow+WlnOPoYdYr71ixo/LsKnvVmsnj7rocQ+eQCzPlRnnz5smMo+HqOQPv0Fsz7VfMY+h7uHPojNxT4LisE+9NLpPglogj61RgU/Fc2JPg3/PTx/BpQ+D9wCP/MsxD28uc8+Js0BP2Ookj2nv+k+FxtyPlcazT7E8Yc+Qi8+PU53pz42ZJQ+UXBKPlzCAD376gM+CBPNPt483L0/kLI+sVcSP08a9T5FSfQ+6XkAP++onz4JaII+2aihvdzP4z6jWQk+HKWtPobVmjwTmSI5WayePnfwRz5S47Y+rsKePkEOzj5E2g49QSmsPtgTpj6F+6U+",
            "dtype": "f4"
           }
          },
          {
           "axis": {
            "matches": true
           },
           "label": "2",
           "values": {
            "bdata": "MVayvv+aQL70DZW9kbaZvmNmX77QsNi8ydkuPiDUn77DjA4+oG1Evd+vvj64GrQ9xlQBvivMu740AZG+abrWvVDZIr7Wn96+wLpJvoUzCb8c84O+4fGjvoPUVr5pdaq+WCrIvgYcyL48qUq91qbvvgla6T2D0LS+ws2NvneRaL0Gsse9Dct3vif9n76D0LS+lAfavoUa/TzQO4+9dGlNPqx1iL60K/6+26paPrkdHr6dlqS+HgSqvReSgb6v/Aw9ciSivsTSfr6HG6q+1kRNvocbqr5WmZ2++kUtvJ3+Fr4AGjG+vRxSvqwIjL1dHEI+cqq8vjgujr6Kkru+9FQLv6JKaL7Cmcq+woMwPX6OD762UJo8l/s4vuLyRL42KEe+gEMTPmZSAb9PgLK+NmCzvXIge74i0ry+MJS+vgH8275FRZa+ZXiTvV97rr3zECK9Ceg3vec3YL3ch8C+lAfaviPJnD3GlMK+BkaSvob3Rr42KEe+hyyRvpHalT30C+o9JTuCvpABlr5f/hC+yPKRvpAZMb7746O97rKoPnBCiT4pxbe+TDCAvncbuLxE11y+wHGZvl0zcb7+40O+FgrqvTYEIb5vhdm+JQIuvtJFOL4XkoG+kLMVPhygEb544ia9RnLHvZ69p75eCpE+NeyCvn3JCL5ziy6+aAqAvS/oe77ffN0+UvZtvmZo/TteppG9rHk2vi98t77n7Y++NebAvl/+EL6YJRG+UNkivq/8DD3qU5a+uczPvounl77fyh09wa8BvhPyur44Lo6+IdcVvsVyYL4Y9I2+zUUQvoi+176aV6a+i6eXvt/KHT0xTKe9C4qPvlwhx71r8So92Z2RvuK0rb4n8yU77DUdvkaJ477GcIm+VwPZvk5Zer5PYza+BslyvnqJZr5Hq6e+TgXFvVu+kL7lXby+4rStvsnuPD7zECK9q2quPV8zg75Kl52+IJaZvvaSrT69WYe+hTMJv5MXEL9J55O+kdqVPYcskb4wmuW9VYmmvlI0r76aWgC+R6wGPl15lb4dPYe+pCgtvvM5Db9NWQu+5fu/PteFZr6Fn8C+JV5dvuX7vz4R6E8+6a62vtREN77IAau+wa8BvvpFLbwFzZC+RBxNvv7Har3tFpe9WOgIvz1fyzzXEMy8ghDFvewqBb7GCIe98m6+vkRQ8b743YG+8Ml+vmOBd76B8FA+nr2nvp3+Fr7yr7a+q5Bjvn+yUD4n6qG+ItK8vsa8c746RpG+ZQCFvlTllb6vlZw+ABoxvsoVtb3Q5OG9IdcVvuLu774pOOC94ITovoYqgr7sKgW+JQIuvq9bu7552YO84mq9vivMu74el4Y+1EQ3vuqC47741k++h+LKvk9VG76NFLe+sdecvmwLFLojo2C+",
            "dtype": "f4"
           }
          },
          {
           "axis": {
            "matches": true
           },
           "label": "3",
           "values": {
            "bdata": "5QOhPu1b5z4OYBw+gYOpPlgA6T5llb8+uDdLPQQO5z4PnFY+Zlq9PhiWoD6cyAU/xfZ4Pc30vz7hC1K89zHNPlRO+T77+T4+ObGyPqu9GD7EsIg+axkCP3gD4j58vdM+KbJFPky6jj5jAr8++fmuPq3wij488J8+G2z/vVN6pD68sb4+JEIlPlUiNT488J8+ZXSdPtdgiD79DNY+c3TDPo8XCj6bRbM+WMFoPlvHoD5ZCPM+3DzMPuwubz5EK9E+gkyBPj/J5z5j/Fk+3d0YP2P8WT5kmpQ+xBRmPoMQlz3SSO4+/S2OPv3z6D14xCY/VxjSPlI5YL7y7W8+J+mrPrzD9j7UlEU9aSWpPomIQT57MyA+X9FzPt2P2j74BgI/vvKGPsFHzj3fw58+6+9gPnVBvD73jcg+eUHSPiqAjT5k4PE9zyzIPpAcTz73Y5Y+OTzDPk0Y0D7/gyQ/ZXSdPu5S5T74Sps+k9llPn1bxT74BgI/m4ewPjooAz8Fs7M+ooaIPv2gQz5KTl8+hRiZPnqX4j7T7dg+pkl1Pvjh9D7sYNI9IZCLPu/L3j7tLqQ+t96ZPlwblT5EjNk+NXscPtwytj57dow+Wa6vPs1C4D7sLm8+l72HPhfxHD6BsR0+gPeXPj7Awz6wBkM+WHgjPk7bFz4AGgk/8O6jPh0RTT6Ej9M+yHm+PlWRYz7YhMU+VssSPXnwFT58bkc+eLxzPkpOXz69nBI+VE75PkQr0T7mHuE+qWIWPkc2lz4bPJA+uI/lPilWTD5SOWC+pdPyPuyiOz5jPcU+iZjdPtLAcz7+uEA+RzaXPhs8kD7uOQI/3fLxPeCVvj6g+Pg+9EDYPgZomD4Pat495MbNPjxjfz7d4zu95YvWPshSkz71kDw+WKmzPlTAuz4Y6Xk+XbimPrunuD73hcw+BmiYPi8/hT73Y5Y+QCT5Ph52Rj5cXkM+/Q2qPu6cjD7uWqM+q70YPg5NeD5THdc+OigDP5uHsD6iTRM/8WmsPoi7rT5mIaM+V8EEPQujnT7PNk++ay/rPmwHWD70VE4+QxnNPk2zXD05tMg9hgv5PUMZzT6YYYY+hkHSPlJbLD51T3c+uI/lPsQUZj50y3M+QmhoPkIduj7Csb28HqZ8PirfzD7FbZg+WOuMPhak9z62atU+UmXOPmPYCT6JZMw+eGpMPhmO4D7TX4U+PsDDPoMQlz05HK8+R6wIPnLugz75c5c+943IPrWwDj/LIVU+bKcKP4kh2T7+nE4+0kjuPshN0j69hbc+pdPyPsO/Nz7phnw+cL+CPlAO3D4WpPc+Wa6vPgeT3z5uW/0+EZu5Ps30vz5kvNY+UlssPlxmlT5NS9Q+Ue6IPiVegz6+b0c+NIufPhDG/T6f33s+",
            "dtype": "f4"
           }
          },
          {
           "axis": {
            "matches": true
           },
           "label": "4",
           "values": {
            "bdata": "7C6TvuWal75NXqi+aGQfvr/3Vr37QMq90Xk3Peatn71cDZm7Ok4TvmvRqb4ol4i+keU3PrcnlL4D7Dw+82V4vjRRi74jJR6++LiIvjeIvrt+1dG95jYAv1hkkb5vVLm9lBdMvlHJU7784RG+q9Snvprgv73Xb1++sXsTPdrnkr42P5y+M5+YvgKzXL7Xb1++CEUvvsimF77la3O+wTpcvrhQrLzV5rW+jv63vXN/xr72d7a+Ly2Bvr6AL741SwW+hyjGvlUMt77vVRO+hmirvu9VE7629T6+1GAUPhyNcj5NlZ6+6IV/vrZ85b1XSUA+ZpeMvluDBT4nIM+9Pdgjvh+Cub4Uzpa94xecvgDBU71oPT++jxQkvmHSwL7M8X++yUgzviYLnr7FQ5G+CpS2POoPPr3bD4i9W8f6vjrCVb4eA4w9oAsVvm47lb6dDla+jfgmvn5+Q77/9Ze+CEUvvhBAYb62Ml2+UEVFvpIWsr7M8X++sH9Lvv+RtL0Nz0e+pi1rvogzfr2NOO69FsWrvuq7i76596y+B66BvrZ4fb59o+89+Y8oPZ3ph74c8Ya+S8lbvnzZqr7BEau+xo7uvNTBRb43sVS+I+2nvRon+b2+gC++EdcxvpsWWL1WYPO9Xp0avrLie74ARMO9DxcnvgS3WL7WcZG+8ZWTvjqoUL4GJou+XDQUvXlqS75mxe29GW/jPVAefb4Kd4G+aZZRvo047r1k4yq+NFGLvjVLBb5LdHy+gwomPI+zVr4d/+i921CPvjueOjxbgwU+yDPbvoKmdL41U6y+2jqOvrnreb4LsTq+j7NWvh3/6L3yA2G+29tTPS38m75WaZ2+JoedvfehVb7XqTi+k9+kvr72Ub6G8Kw91umIvi45hb6hXrC9euydvpaIWr7ZOn2+PLyzvVi/pL69s62+96FVvg83aL6dDla+7XqMvioRjr5627O9cdwgvvDDVr6p/qG+N4i+u/QjkL7Euo6+/5G0vbB/S74sMSO+DGCgvtO6k77C7kO9mwAOvRJJJb4fIhA+87dJvaSGRL6cpK483BENPW6wlDtm9Fe+iGBBvtwRDT20QXu+01k9vornib56ZYS+21CPvtRgFD68CFW+dVLPvZHHtr0Mf6w9z+5zvigGyr4x6oO+n4nPvmUd5726C8O+jFvevuNSCjxymnS+44dPvoLEub7YeEW+suJ7vhyNcj72jqa+RYqIPDZsRr5+2JE82w+IvdPQq73oxZS+Dn2lvjZcjL7Vayu+TZWevtgaur2CtIy+yDPbvsUG4L1BLHK+GsIYvs8Alb5lHee9I+2nvcGPjr5VLqC+ZzxIvrcnlL7OTgi+iueJvic1NL5Dy26+O7htvjaxfr7oaYY5/Hs7vdwoTL7qoxm+",
            "dtype": "f4"
           }
          }
         ],
         "hovertemplate": "color=tech<br>%{xaxis.title.text}=%{x}<br>%{yaxis.title.text}=%{y}<extra></extra>",
         "legendgroup": "tech",
         "marker": {
          "color": "#EF553B",
          "symbol": "circle"
         },
         "name": "tech",
         "showlegend": true,
         "type": "splom"
        },
        {
         "diagonal": {
          "visible": false
         },
         "dimensions": [
          {
           "axis": {
            "matches": true
           },
           "label": "0",
           "values": {
            "bdata": "Fl9xwD0gfcDlw37AVlqBwDKda8AUFH3AqEp6wFzUecBH9nXA6y5/wLFobsBFlHjAAbaAwJmSecCpxXnA2AB7wG7NfMDi5H3AMHyFwOhFd8C2+nzAqFV/wNuae8BuDIHAe9aAwK0na8D/iHPA5/mBwAUgdMAN5njA+7p8wOl0bcDlzGnAX9l3wAsXdMAhEXrATYd3wLhgecDvb3rAxo13wFVDdMALF3TA2xCDwDyyecAv6nLAfaFtwGCZeMDtenTA8WOBwKWlfMCzVHvAJ3R6wKLKgMDavHrANaV/wIU4fcCcDXbARdVhwCFmeMByEYPAJ+N8wHRjesCmt3XAQ+5zwDGId8BpUW7A+gyAwB0jgcARf4DArYNswBoddMDpQWzAmf1wwGT9gMDGpHbA+kB3wIetd8CGcoLABKF/wJMMfMBM/n7A3zpywCZueMCe8X3ALmN0wDSFf8DYAHvAt8N7wL6ofcDEpnzA7Gh4wAtkfMD34YPAlLR2wHbpfMABr4HAVhSBwKq2acAQOHXAi/p8wIxfesAUGn3Ao0N3wBsge8AIn2vAld16wLHsf8DEUXTAw5B2wPLcecDWSHnAkY52wGdcdMDUwXbALt57wP3ZdsCMWG7AVot6wHk2esCgkW/AeEB9wBvCecAzW3/AnA94wJa9csDOpHDAGhV9wJQrg8DomWvA2TJ7wDSVacDB8n7A+XGEwO3Qg8DrwnfAjDt/wHl3d8CEXHnAngCFwBM6eMDZCIHAbHR0wHrsbMAgPYPAUJKAwPoSgMCaG37Ai9JvwKOMd8B3j3fAPLxrwDqccsDAQHfARAp7wJouecBYkHfAe/58wKZ+hMAVwoLARup7wOA0e8B0d3fACFl9wL95f8CcB4LADH2DwAMGfcDWd3zACIh9wCMvgMCXcXfAN0VYwMk0gMC0KHHAFCd7wN9dfMBCuX7ACiZtwIKlcsDcIHvAQEluwFaLesCpqnnAQdF1wLBIeMChb3fAKK10wJQye8C+AIDAiXN6wFqidsDjfnfAUr2CwGDfdsCG6YDAuPRowAiCgMAPfHzA/2N7wL9CgMBUq4HAzq54wCtFfMDoQHzA2uOBwP2ZfcC+qmzALpSAwDB8hcD2s3jA8kF8wO+JgMBGGIPAeK9xwIynfsD0iIPARAp7wKEId8DUg4PASUx7wOgsgcDGQ2nAPFNnwPQMesB6IYHADeZ4wJ2Pf8AzTHzAcPl7wGgHc8BCv3fAJeh/wHNqg8CvwnnAcz6CwHbQdsCtS3fA4D6CwDfjccA0mn7An9F9wH5odMCUwnnAn2J0wP9+fsB0j2vA4RJ9wHJldsAYwnvAY7p9wN96esCc9YfAjF96wKcddcC/6HbAbOp+wPzSdcAIn2vAnUp1wHKfb8CxMIDAUtV5wNK9fsC0BoPAMrN5wKPGfMATFn3Ah85+wHn+gcAF2XzAGCN9wIGddMCW8nXAjf5twA==",
            "dtype": "f4"
           }
          },
          {
           "axis": {
            "matches": true
           },
           "label": "1",
           "values": {
            "bdata": "BqkDvyQ8hb1pM38+W4qzPSU4RT5SaC8+pHOYPoTFET7Uhnk9LABKPW/elb7Aoa67S62GPtDUaT2kXRW9rNSpPukoVT42F1Q+61+1PugHhT5XS8O7fzAfPmwJGT6Fnpg9t9DnvJmNQT13SXC+8iqQPl2X+r05nRK9pwWFPupA+D3r8b2+HLl3vgcnBb552f09VcyMPh++Uj7UowA/Npg3PhJqdr0HJwW+9oQHPv25Fz0bQTs87OTGPv9ShT7MMsK9BBVCPe/fBD3wncU+YgKovYX72j6eoBA91C+ePjSLxb2bi709eq4evifoz7uQHhM+gcGtvZn2cj7XDZo+7G47vZVOxj74b+k+Lm/nPQg/wj0LM+A982mzPsjbuz5GDzm9ZXa8vefMVj4rstk9DUQ2vB1Ohj1+jsA9QFMXvaLVIL3ffPa9L/iqPNBDuDwYxt08O2RIvlvYhz6s1Kk+q4YWPZA/MT7dsTo+oKcVvlRykD2hS1o+wVhYPpWBOj55a7a92tp4vgpAnr1CAjA+9koAPspaRD4to4c+gRYyPmt1mD6dboM9EUB0PrL9AT7VBqY+961DPlR4nDwufyw+8kkoPpm1ZT7Vhgg/NWpVPolsiT55RPO9489dPRWAWD74FxG+vrKhPv1AVD6xkF8+I0ozPgcEIj1VZpU9vUEUPj+QMD5k1Jg94WO6vYVnzb0Fu5c+cNFfPU7Fiz4SDwQ9vhE3PgQbeT1/J7Q8rxDcPcOHZz7qsJc9+2rqvet2Hr6FDNC7dGqQPelujT4bSAs+cWyiO7wDHz60HQS/pugpvqX3oL5B8o8+8+OlvvAsEj7rGcA+/ZMRPqofYT531JM9KvSCPtVNgb1dEg6+zX6mPsv+Nz5bnyE+XzbmPZfpgb3bwaM+spIwPqkytz5HDza+sVudvebwJj7vBVw9aJaWPkAHGT6+i2Y+VBbRvVgrer4LtYC9wx2gPOPPXT1a9Ho9SioTPdbHGb4gwm8++CTiPnc6kj7JYgU9KXuwvaJjgT50r3U+359tPrI+HT5zSAO9OLgqvk7BPT4h4RQ+zB02vWORBj8EEas8qUh6PXtUkz54DFw+zMGUPRgwsr3Ulwe9DTKGPetftT7laAy9lR0tPt8QnD0UAhA+ZzBFvhbrrT486vA98+OlvoaZFr0iZ889TmyDPgKPK71bo8C9TSIlvmuQlT7hv/M9OZ0SveG1vT1coIO9h+3VvBR+Iz5x4te9eL/YPVqHwj7u1TU+Md9zPepbPry02HU9XV5bPht3A74JwRY+iDmIPo/pAjy6hBC+gOShPgnQwj2FAxI9trSIvXl1i70KbAu+vpwpPsVHzL0aZqG9ylpEPqSVqT67Bhm9ciIlPfxoSL6dboM94cCVvRDy4D7kngo9YyypvAmocz0eMgu8ppFUPr4NaT543+o9NNu2vY0fCr7B7r0+RsxLPihUqD20tpA+Q87SvA==",
            "dtype": "f4"
           }
          },
          {
           "axis": {
            "matches": true
           },
           "label": "2",
           "values": {
            "bdata": "3tQ4vpnblb5xpgg9eI4fviSJTT2LH9m+PD/mvdWS074dP6++pYCkvich3r4qwKq+eKBEviyPm75Sx6O+8voFvqOpNb0irr6+U/i6vh59Q75ULNS+DDzFvhwVp77Rl46+ZMxrvtctj77A89I9edeivumFybwJw2e+zmyEvn9TUj0asP+9oaFkvjkghr4uSP+9dtM0PU5c771KqH299ehkPZS/Uj05IIa+fbsGvl6byr75P5+9hfoqvv5n+b3pzI2+1nx3vk+wrL0RxOO8dnKVvlfzKb7q2R49VzcGvT7WCL7jl5S+PsW2vrVKe76JSdq8Hvaxvs9PVb7GJQu9IBh3PbNkbb2chui8oxNPvi69E76adsa+uZHjvUftq76z9VG94C06vlabpb5AL7K+bpejvuinJ75Exb++IuW0vuekqr5f23a+ppEUvr4aGL5Gzwa/Kilxvom+N77y+gW+2OGKvkoa2L6Kg0C+WdkqPVfaAL4CAEG+zhApvoMxoL7+Wg29MNOevujP+b5qaP88rX2IvjKcWb6iA2G+C4F7vrjQs71hfKS+6prqvIz4rL52u/u+CXafvT1wg756Oiq+9UZyvkso074J5As8sk/3vkDWAL/yV3u+GEnNvqKHqrxA8tq8PNtIvkz82L5UnoG+Sr+XvisDI76VSKi+2GmXvoV9n75zBc69MswivlHK3b3LFfu+IkSCvsM4Wb5XjbW++t6Fvkpwnb1Xe6O+J5c/vmXiPr4RWI++b54OvgYFe75lc3u+AEGcvvqqBj4mwKS8/rsFvplKc74Hdnm+8BtFvkOZqLy1xR09swnIvqBS0L6Ykcy99+7mvYCKxr5Rrq++AVZTvs6Kdr4/cIO+zUVwvuMRH75Zyb++vK8WvuWmoL5hG9+9zVXZvvhaDr6omGq9bGxqPjT/Eb5D9b6+ORg2vtreaL4IXg2/usyrvT1G2r5iiWK+C+QGvxhJzb4MCqG+XJCWvh7Dk74GN4K8uDxJvtKLk74anVO++3KBvnHtxr7Hvc6+NEaCvsYfu7475sC+PnhyvYrWZr4r+6K+N4G0vvfoQL6vaIM9pM44vlctOb7ZEsS+cEiUvrKYk77rfZG+iF2jvlP4ur4X16u+CwGAvrYS5L4ymB6+0hi/PHJWxL5fgyq+swnIvt3aV77f6+G+u7J0vhDLnL7mw6K9ey8OvCV+d721Vgm+CcNnvn2dWL5gi8S+mK2cvtR0BL+28J++zBfzvXeFY75ZhRs9T0ubvvyqvL7HcT++ntvKPUCMWr6ddpG+/EAavrfNpr5E0ha+/RhHO43gkb61nR0+dL2ivsJuzr6QysC+Nz+1voXKir6mhAK/MpxZviEfZ73stlq+OnFtvhIRZr5hfKS+1sucvnXpprsYMdG9kb94viaglr4mZK6+p83ZvmcueL5LvtO+Jpekvkdw7b5v07e8hNdcvjKa676KKPa8CyIRvQ==",
            "dtype": "f4"
           }
          },
          {
           "axis": {
            "matches": true
           },
           "label": "3",
           "values": {
            "bdata": "fJagvJ5rf74uUcu+vHGRvjO6YL0JToW+Y8SxvrhMkr4WwB++d0szvouqYL4KAwe+WkumvqTepL5Ukoa+HGakvrlcbb5FDQO+sq0uvshRxb5iWoS+G5ZEvbaUxL4GGna+spDmvt8Lir5DJoW+eHsEvow73b6tr5G+vuTOvcU9gL7YLoG9s70MvjRXrL5gr5e90IUGvv0RW758QIG+vfgEvurdvL40V6y+8QN0vobplL7bsq6+vSmzvVLj6r1BI5q+KJeyviuUab6HE4m+ri68voZJSb67A0K+AuWmvrOVlr7itpG+DnxavXxOjb48Qxm+hP2Bu91UaL6FbQa+qpfDvh9xYL5L8Yu9/Z6WvgoPdr6hZZq+t4D1vVzG970L06u+gLuqvm3NWb7KU0W+UGOZvr2Jv77iLIW+UaMXvqwrc76yHbi9va4OPhCWuL1H2cc8TLwyvkknJ74cZqS+sReIvpr4TL6E9YG8ez02vmfFj74vyLC+puzovTLJuL6LBjO+WWq5vim4b731gES+SHKhvi4WZ70jtKq+dciOvmGzr77Ncqk9jN72vaCsbb7sEUK+w4KAvu8Gib546JM7bw5ZvQGZzrySblG+R0hBvodlH7zVY7O+yWGOvnZAab7S5ZC+VBqFvvclAb4E7dq+PLEdvmlpSL65I1q+DtQlvkLeor6NIzq+gM0svhRveb5a4/i9U4X8vcWUbr68h1m+5m33vSqvrr6NpsG9goYJva0lb77ww3W+WGwhvjXp3Lzz+Ua+4aGJvrl5zr62Gpy9hlBAvnqHhb6IVMg8ZnmBvSztg74JO1u+9uuYviTHkL77AlS+9tRovnyc7L2mVkO+dRKpvjuIwL4tvYq+zYn4vapNqL4EDNi9U0lWvqqwUr5NjMq+7DKFviyijb7fdCm+8o8zvdPC4b5FKiC+ywWAvu6fqr7EXIW+OWQWvcixQr0WwrK+qfFsvslhjr5BrH6+5c1Cvu5Zcb6Zx2y+BHx7vl28XL7N98S+68myvrkdH76PVWi+7mOUve45Kb6Phom+OjQPvk/kfL5xAbG+9T+Vvor+AL5GwrO+buiNvodlkL616IC+YfC4vuQkX76KAra9cgx1vrKtLr7pM4W+SiKFvv/naL6j07K+oRtIvssOyr3HEvu99uuYvuZfFb49LxG+lHmwvklVDb4tdqO+yNM6vkVd274SjYW+ra+Rvkn8iL4u4M+9UgzWPQhxXb6xklC+TabVvFXV/r2XSoK+FVRrvnMT6L389Zm+wGayvlINub6OtBa+dMiuvb29zL5tpDq+zdSAvg7QM76aGnM8+QxSvs6lVb3ylFO+6nOVviNCcr6y1nm+LhZnvUJTLr6fZ3a+DfpFvneBlr3Ncqk9Op6ZvjTlhT5l3aS+1NY/vp5OlL5dYXi+iwQBvl1uGL4Mdo++pS0ZvuKSEb4wCmu+UsrrvksToL2XnW6+N7Ubvg==",
            "dtype": "f4"
           }
          },
          {
           "axis": {
            "matches": true
           },
           "label": "4",
           "values": {
            "bdata": "BH76uxY46z6rrUk+oUvqPg0dsT5Sb8I9nqDgPXA8fz73J0w+AP0JPl9dZT7+UsI9gWk+PqO+6j7RuYY+9ZTfPYJCuz1AEI89to+RPfYDcT50G2s+VFsAPgOQrD6gFmk9FXfLPvscVz6KGOk+6wv/vNMZ+D5cJJ4+90ZQPV8Dnj4cCNM+TGKPPrF3gz6QjUk9DGfiPXVgBD4iwnk+9LETPgugDD+xd4M+jL/cPSbKZT43J5o+xV4PPgTndj1FMJk+M3CJPkYmWz4g2108WgCbPg4uPjw7HYY+i1I/Pcf9pD6huZ0+xHdFPgDx0j74HAU+1PlpPsiV/z3/PBM+bB8NP9VhV7wF4qk9hj6iPgnxPT4DipY+e7E4PtkbrT2BpUw+346zPtPMsD3bAz8+W3irPv02sT7jjFM+5ZTtNR0D3T5QQ+09zu95PoJlRz6dKiC+d+HCPjZGvT31lN89L6ScPnGujj3pjaK8a3ceP7shjj4lAIM+00QuPpLlKj770gQ9HmBHPvUEEj00yhw+1FWIPkExiz7rkSk+SOKIPtj/Rz6QUi8+ZwQCPvy/BT4x2sg9JFEwPtw83T6cVlE+2lWDPkEfXT5r1Oo80QixPUpQGz6upbo+SIbuPYPpgT4XncQ+0R0iPsdyDj6LFjw+7xz2PILAuz52yZg+C9rsPdBCtj6E5tE9T5WUPjLWwD6oQNo9x/TMPYHtGT0ytoI+1lQxPiF6Pj7KI/c9P28vvcHDgT2AUWw9CfGJPsGxSD5d3kE+FfrnPYA8ZT7RzZs9MNC1PuisKj4PVXk+lWrPPkYW5z4I5FI+msB3PgaBbz73jhU9Ooj6PWzoGT6M5Ww+Ihl5PtC+pz4Cf4A+9fgPPv+suT6sRII96whkPqntaz6TsRE+u/PDPXhu/z3TOa8+cJpxPg9gZz77M1o+3iwqPnETIT6/3Fo+SR4sPtsPMD4P5SM+3Mr8PUiG7j2IvDo+SBxcPh3qqD5C19E9pMedPeA7iz1konk+BtanPrwGdT5cjg8+ROhHvpfToj3QPgk+9nHsPpWatbwEUJI+lZHtPsnbMD4cM+A+YzGTPhiPcD4ff6U+2xxDPsCIYz7o9Zk+7DKRO7aPkT16wOk+M7jtPW9aqT3PXHA+tj8GP1wLTbu48to9msB3Pq2yRj5ejTQ+ZNUYPiXetjz/LZg+39obP8QPhT52D1k+XCSePlkJ2T2mrLo894awvbtU+j1T/pU+oPZ5PYb5TT4z3T8+jXl0PmcfGz4aIZ4+8paNPmaG0T6Mqdw9iISVvQ4WkD44wZQ+2iQ5Pm7cyz2VRpY+ai9pPrE2HTwBGLk+HEd+PuMKiT7wHsI9QTGLPhRCPz5mUEs+KmaiPqih3z6QUi8+U7SgPl1c2b1IzYs+PUzYPpEVrT6+jTc+URsMPiVqdz1B2pI+kRYtPrBgAz48ZxY+JizcPoRSGD5YDjI9lhbdPg==",
            "dtype": "f4"
           }
          }
         ],
         "hovertemplate": "color=politics<br>%{xaxis.title.text}=%{x}<br>%{yaxis.title.text}=%{y}<extra></extra>",
         "legendgroup": "politics",
         "marker": {
          "color": "#00cc96",
          "symbol": "circle"
         },
         "name": "politics",
         "showlegend": true,
         "type": "splom"
        },
        {
         "diagonal": {
          "visible": false
         },
         "dimensions": [
          {
           "axis": {
            "matches": true
           },
           "label": "0",
           "values": {
            "bdata": "SP12wKGoZMCqTX7A1KZgwIKEYsBP33rA9llvwHfcacAy0UrAGrV+wOB4hcDnmnTABKh7wLJdf8CzQ3/A/o6CwEZjg8BwKnvAZZOGwFcVVsCpIWrAuJSAwKFvZ8Anz27AGiFJwIZqZ8Ch0HHASSpfwHytfsCswIDABjdNwIS1g8AwBoDA38N2wFTYfMCwRn7AU4SCwKg+f8D2j27AhJhywENBb8ASLIHAW2N1wE1recCg64DAjhx9wNSmf8CulFnABa9MwDZ6fsAec4DAIXMrwGKURcCVUn/AeNh4wIR8asC482jAvINSwPCgb8CRAU/AreuAwNTjYMARZXTAP/Z6wL99gcB2nnLACyh+wGf/fcDrIWbAHDp4wJjLgsBobknA2HN4wIWecsD7tHLAIut0wPhve8DDnXrAxIpHwAEubcAuP1LAArOBwA6tecDxnxjAH4VwwE1WbMDbTl/AaT93wJnUZMBgp2vAvoKAwMCpccCAqm3A2Qd+wLYuVcAQc2nA7HV5wKp7d8Dla4PAr6dxwO/HaMCcoXrAQtmEwPAgfsDFF3jAG4xpwCMXbsAQs4PAuhFtwN7/fsBDrHnA3vt2wLocecBpFH3AkclZwNJKbsCa7nPAaQ9iwLKDgMDUMYDAzcl1wBpXasAYoHLAIS5pwBwxbMBo23vA9nM6wAlcfcD/QITAlp9+wKKIccBxnXXAd65zwL6JdsC61mHAq0F5wArpScCpLXfAo89mwG7zhsBCSHLAGZB7wLQdhcD11DTApX55wC+Jf8AliGLAQ+OEwMx8dsA+voDA3v9+wIFQZcBcxoHAPVFgwBKjBsAIKnbAQH2AwClPPsB4VSfA12R6wAVqZsDD9IDAdr2EwL4dh8A8xHnAM4+BwNX8esB43HzA/aBSwEMjXsDBk3/AukJkwP+BQsDMjmzAFe+CwJxegcCyyUTA2FJ1wFlAbsA0vG3AIHx4wIEVcMCiSnnAmK15wKh5dMC9IXzArCxzwBMNa8Btr4TAbTNVwCvgg8BZeoTAqDV7wEP6fMCJKnHAUxyEwBRrVMBCzWrAzGaBwIfya8BTH2PAy0h1wOz3GsDp/GjAsL1MwHtTcsArxXDAuWN0wMs+dcBe1EbAiDCCwMcKdsDIJlHAslx+wEZresDx0nHA3RovwGWZeMAs9nzAv4J9wLDydsD8a4PAxMOAwGstfMDZ4XfAIDx/wD2HUcDihX3Aie9ewHcRbMAngnTAc9tuwOyLisAMDH7ASQNLwMZkccC2ClDA0m2CwELYe8Br6ITAaWRvwFheccC2gmXAzFphwDaFe8D7g3DANdqDwESlecArxXDAJrd0wG3AZMAZcW/AorR2wKspdcDY+HzAKnRwwGqjc8Av9IDAPx1JwJV8eMAr1nXAFxCAwGtbgMB+2G3ARYFywI6HccBw0HDA6nhvwAEvYsBqxXnAFPuDwMQ2d8DvOHjAazKCwC/qhMCS/3LAV0NvwBU2eMDM80rAf0B8wK6GfsD8T07ARct6wIbAh8AUiH7AP0x/wD9JcsDbfXnAX09dwEhhfMB+InbAI99nwCLrdMCbB4HARymAwOVkfsDuUoPAld90wKIrcMCS23vAp9V1wGXhb8DkMl/Aq/V+wPi5dcCv82TA8BluwLueUcBzxV/A46dMwI2qdsAzM23A2oZIwGERdcBrUU3ATzNlwDYMZcD1k4HAb5pawK4QVMBIuFvASz1qwNF3UcAkN2bAt+5rwCm4b8DKrGnAOYZ/wPVGY8B2DobAp4FjwDgIdMCG1YbASGF8wDUdfsDuVGDAim92wNnegsD1A2zAw+V8wFbPdcD4A2/AokVcwPpDhcDMenzAHS+GwA==",
            "dtype": "f4"
           }
          },
          {
           "axis": {
            "matches": true
           },
           "label": "1",
           "values": {
            "bdata": "34D+vpPU/L7GFMO+DU8uvxgaJL9tFie/lQ00vwhODL+6q02/cJLWvisPxL5k+CS/yhDevrO1775GCbu+L4cOv1R4Ir/sS0O+LlvyvhbwGb/PFqC+MMH2vt4gtb2Xawy/aWUkvxmnL78DqIa+lbkFv4XJPr4ERKk8B3wSv3iR4r700Qa/n7HYvszxBL9UQf++i9AEv+qk4r4Jr4m+ivTdvl3uM78j+Mi+FNCmvk2UEL+IHQK/fencvi09Eb/F9em+Vy46v0GuBL+uQLu+UeJLvzp1Lb9gLhi/7uUSv6gX+L7AobS+/t4Uv6b8L7/qXB2/UUbcvn5zKr8eoxy/piW8vryFA7/vKg6+QR2hvj5RAr9d9Ne+sF8Dv96GEL8HcgW/Yte2vlkMw76S5Mq+tFGUvsgQyL7xsQy/1bAJv1bqDb+6oBq/7DWZvh4dmr4OySO/7TwCv2a9Cb9cYBu/W++ovrPOQr+e9yS/tWj/voXxFr/1lwy/oloMv4wcJ7+IRLO+9LXBvszuM78VA7i+DG7avhTeR7471u2+SLnovnM+Lb8/bBq/0UJGvqj4Ir9dSfu+6nwivxBE5L7GE92+WNEbv993974l6Ly+cbQlv25Tfb0f+xa/9jgTvw98nr5fYdu+ALq6vsrc+L4fbyS/oG0ivzh+7r5n3dC+u9X/vj+yBr8PZyG/2Y8av+3Ex75zthi/feM5v8pEHb+jM/2+bSwPvysHF7+YcQG+4tEyv5a5B7+XgrS+ZM4Gv7a3Q77dCC2/VvemvlnFgr5K1SO/txcFv93gLb9VK8i+EETkvhMvC7/Wxaa+Of0zvwWCIL+GLRK/f70nv+CZTb+dajO/CsIMv4Ox177OwAC/vXGPvk9nnr47QPW+9FyPvhYoEb9Mqsq+JEhOv+YaCb8EaTG/owYFvrr9EL8gAP2+0zS8vqCL7b4Y4Cm/RvAIvzZAHL8j1x2/Gzvtvgn5DL9QKBa+fdOUvvoL8L7EWvG+aT7+vhqtH7+7wxG/H+0yv3+s8L5/uP++BlfkvtsD2r7eQZu+xcm7vsCYJ7/OJsG+pDP7viXCxr0Iovy+G6DMvsc7K79IrAq/hVoev7p5YL4UgA2/sH3wvlxP175cLRC/Ztm+vrqO9b66iBS/swEIvzMsLb/fi1++1dR5v8eXAL/mxQG/JdqGvouEor7/lLC+upSgvu3M8r490Aa/5iIOv/0dtb5iUOu+I6sQvzf1yL32ehu/Zz6svsFYqr6y6CK/mWwqvyyl7777nh2/dhLwvlU/8r5m8/e+MnS+vteqCL+sn/6+BIZEv6GT/L0DHpq+1qvBvUwt374UgA2/ewo4vybqBb8sgZW+hubYvsk23L43db++uZeKvvVNJL87KuK+bTYxvzEFG766Qgi/i/YnvzPrD79IXOG+ZgteviOc5b1l1iO/5b3hvlt//L6WgSG/71TnvgwNGL9a1cS+Xu++vo0D3r6d2+6+lwvwvniBBr8Qxxu/xZv2vkQuAr/b9TC/1bXAvqJQ5r5B5eq+LokLv7ZaIL9sdh6/2lA3v4Nh474Hywe/GrIOv7RRlL6I5ti+9qxevm+g077jXgi/czUFvyKEHb9/aui+3gPWvZUT/b6F3g+/sWzDvnFU2rrcgeu+1skDvw8EJL9U/E+/h4UMv7TdAL8a7u2+auouv35/FL8FdhO/fDgyv7Q1i76M3uC+pQ8Fv7vkwr5euhy/B/sKv9ayDL/fKvC9It8GvxCFHL8RVe2+J8Qgvw62Kr/zOQ6/hJYbv6Nxlr6ze96+g2Hjvsn+B75ymEG/senxvhDhBL9u2Ay/mT8Ivwrj+TzJydi+nL4MvyEOBr+Iigi/N4X9vg==",
            "dtype": "f4"
           }
          },
          {
           "axis": {
            "matches": true
           },
           "label": "2",
           "values": {
            "bdata": "QbeQvZrwdD6GsJu9GQdFPi0aAT4awkM+DL8mPwCq5r2Pyhw/9hRMvYpeWr6Ea/m9fckuvrQngr6w33++/94Ivuq5UL3qs6W++QOwvuRipj6ibqe+J52Avodk7LzDBls+aGYGPhLtVj7iUSO+7CLBPvdscTxNlcS9OleMPgQepb76eau9gL8NPbScbb4h2w6+1taXvtmjqL3+V2K+8VhJvMxAkj567Ju+5WIMvfMojb4SBHq+f64qvotyjL4NvSo/Rj2VPgFBTb7ZSlW+dIvbPfsuPD4tJ+K9De39Pl4fuz4y0f0+VAOGPuYbyz5V2Iw9LuW+vYAUuD4Btr4+J6SwvWoHpb4kaAO+fz3cvvlgmjyrRlk+eicbPsUTWz2y4YA+J8Sku4OFXL5PGH++NKRXvrKnSL7JEXq+tPcvPqoiHj71whk/aEgavoTxuT3FjfY9rCyLPkJ1Fz3b7da4gMq1PbOFeD7cwOA+fHaRvdY7dr4Q2iA+1lbRvYMAyz4ACcU+F5I/vi8C4D6T2Yu+V0qSPojgNr0gfgm+lN5CPjrjib6pmco9Jc+oPrFvJrvDb3C+eYqgPuWgNj34n8o+x5SQPv2oyL2i7We+hnOgPocFsr0G1CI+RoCGPhU00b4XBpG+UpU/vm+wXT6jbLM9/OicPkzfOT3BbHS+j+tnPuWg2b7BQKu+1qXfvVedHL6f9ck93ms2PkMGKT6oOuQ+MDayPZRr8D0ir4a+oBHnPuaARr7+aGS+PuUfPgaaw74Xeow+3NYUPU5VPb7NfOw9Vj1rvuMCQT6ZZqi+5aA2PRYzDT6Upuc8wBXHPnIahz7tDjs8sySlPBzTST/rWmM+BjzzPbK4aD7XSRe+GHrwvJBOpL60kA2+LjSLvhW/lj6ZIjS+4bmsPgVljLyBcg09Xy+KvL51hD4tkBY+9EWKvn0WXrsqVRo/3gDYvZ6UFT3KJ9A+QEqDPmtPhT71WS2++I0cPvyPwD2top89q+B2vinhGD6Dd3O+1+vUPWKil75WxJi+3bWdvl+5sL1ALT49DS/4PvCCpz19mbC69a7dvIjPIL4kMoq+h+tcPSgm0j6gWnQ+rjX1PfwnpT1Ei0M+vvFmvUdCg749n1w+h+4wvjthhbshmZ8+yOcjvgHmyT2z0mo9kqgDPwxXaT4bcEY+EHePvs3lQr5LDrq+0ZKNvsi98T3jwIa+oJMsvNyiJj5HM5C+tZnbPsdMH75FBoc+lrbPPSEw0L6tvyA+9g0hPyClj7u1O8M9OaMtvip4mr7vpLW+akewPWyDwr3zZ/Q9ALEjPwl5Vr6cmIU8Okh1vk9klz1Ei0M+sJSwPgeeQL73MNI+FV/cPJF3Tj3rwYG+DDy2PU0DZj15muO+oUUdPgwxIb2uG/w9koOPPY7otj3z4ws+RXo7Puvf1L1rQEc+myqJvQPHlD5McSM9Eb5RvgfF+z49Voe9wqgyvlBh+D3Wyjm+F9aJvaRPhr6R3y4+5rTpPX5bcz5zjwQ+AGZuvhyL4r6WF6S+/vtJvNccij4AMds80Xv4PvusOT7m6XS+PvppPjSkV77Dyci+huUgvgJMjr5SqyS+93loPptHYj4+eDQ9JJN2vvU8lT7Gea0+ufIkvjlFzDyDnqU+/dkUvYyovj5ZcN4+ToSePqq9j764NqG9zBZRPhI4ST6Q1Qc+T7qYPiXWtLzbao29/yXtPZ4qbT4gNPk93d/gPWvL0z49Ed29JgQEPlfMhz6o7fg+SbEOvhBZrD6yL1i+Ia6mPgX4Kr5pxlG++6w5Pm+MFb67Ktk+gH0SvrnOtL6TnnW+QhvLvXd8VT4r9du8U975PWXbvr0P5gS+An7Ovg==",
            "dtype": "f4"
           }
          },
          {
           "axis": {
            "matches": true
           },
           "label": "3",
           "values": {
            "bdata": "rLFPvs2fUL4Eoha+zUH+vfbIJL6TkgK+WkEpvVD1ib4AkZC+3p0nvlM/8L3l9te+Pf4Vvr3HXL5d64e+UgqhvvUj/b1hyzK+Q146viMldr6dL4++tawIvj/T+71yLxC+CRFuvlYDub38vuu+mMJivdlr6b3MYy2+g6oLvgDenr0GTRy+BQGQvRRhgr4vcHk9O/BovstLNr6kkT6+KRe/vhyHLL6g4wi+pcDWvfjnF776BV2+p2+avmCAEL6h+AW/VjJKvin+Ob77ZwY8KSmOvSGmeL7GkQi+JpjcvUpr8b30RIS+sHsWvrRRJr7Xo2i+C1hKvRHrI775Ctm+p3RDvsgyh70jm0y+mxtDvmfep72FVcE9MTievvwHdb46iEq+15LXvSNWDL4oaHK+eJuKvo0RGb5gnIS+RBvjveYgl77DaI69CY3svYNQWb74O22+zysBvhzBV74jGyy+FdU9vscOpL6PliW+jtgDvjum2L2tqd+9h76gvrFDdb73Xcm9Aa2Dvp/mT75irkW+e8TFvQ+9m752Ymq+42AKvkvVnb7Wb0m+VyXCvevGiL6jZRu+F5e2vAerZr4MjYq+95d3vtyezr1IcXS8tPTWvcDXYL5KgZS+DCkQvlF+j71n3vO90G3jvQ7zjL4Zjym+VXLLvDAwRb3MG+08Ouz8vHa0Zb67fPa9jJCcvcP5Pb4UfSG+1TTaPGW+270etEe9tgogvlkkd74/rxm+Ze/qvaVwDb6gYG++uokSvk0A6r0ZOb6+gAikvZ6SjL6VwCW+F3ZhvgjLursrzou8B6tmvizhW74MmDm+eXSKvl8dhr0X8qC9eSZuvV0cbL6Y3Oq8HRLevbNWi76b0hK+kiL5vQZQhL1FZYO+j697Pe9F5LybVOm9Gjv+vreQlb4C3Va97zGBvlItQb5YxW++4FGtvbnKm75gLQ2+urS7vXzxTL4oVw2+JSbivaYNSj7HIp29TB4YvldW4L3X4HC+6oLfvS5YLb6zVSa+0KBPviDIOr60nw6+TJ+uvfa9UL72fW++uT1fvpy3YL5EyeC+5NTXvd4r6L0v8kG+mFsCvo2Cjr0JDDe+eaQIvm5LfL6FYqi+Izdfvi3bjb7hZye+cwr4vZQhS73lWeK9DYUfvs9xN701oIO+o83mvg+/DL5llF++pVwhPQdvXr5aJg+8Ly1fvtFqCb6BwCm+mxebvtkabr5zNP+9vpwkvpF2771X+KC9chlcvXAQmL2vzZq+dfszvoAPJb6hIXm+jYNfvpiMLL6jEEe+VJqLvqUpVb52zEi+lIQ+vrqKab7Ax7K+zziEvdlipL2FYqi+y2jdvSWzP75a4IO+p3uRvr0Kgr6rlOK8xTo1vqUvBr78hYW+KNTevfqad7x/Sxa+nqYxvquggL5pTGK9Qs8Jvlpfar6AuAu+52JTvi9/ur120Lm9FILrvd/O4r3Omh2+oPnxvaMcCb6/u+O9Qaz6vUFXKL7jYyG+QREIvkALzDx0OZS+Z29ovgRXCb5ZNom+kP0qvg4Ogr2dheq92gbfvuEkfL21loq+9lWGvnibir5yHGO+9cM5vioWRr5W2g2+YX7HvXrdCr6dBL69KoljvmXh+b2kJyW+TvtKvig9h7zUPxq+gmiGvrmVIr5fDqW+WDiBvtECeb5HTPC9UD95vuRdR74Z5yK+6gBrvml9dL7c7jK+wMcmvniVgr75Kg6+JxqZvsi03b3yUre+LFDfvb0q9L3DSvY9gNQfvuEZib37sSC+LEYXvmvUMb5n8wC+4SR8vWymab7zbo6+SW9sPblemb6icKC+REQ4vtmLdj0R+YO+3730vbwMQr4wIi2+ohh+vg==",
            "dtype": "f4"
           }
          },
          {
           "axis": {
            "matches": true
           },
           "label": "4",
           "values": {
            "bdata": "BEqBvnH6jb7NY0K+u32OvoAo6b4/vqK+lxEvvnuwCb445bS+RY2WvlzIeL7jM9K+c2SIvotK0L4hIv29Ni69vrw7vL7RjKm99o7yvgblO75r/ce9cSk7vlXoaj5xlgG+YMk8vZBml77ytLa9fXHxvBy1ED5oYmY8HS1tvqUFv76LFoa+sJOgvVlS677fI4G+ddXkvlcHG73DQ4K+SStMvhjdvL4swoq9U2I3vpG1Mr5hwVm+0xEjvpLXoL6Bd6C8CgZhvnDkZL4b/D2+SFA+vaKFlL7INH2+zslLvYR3Yb7Fjvq8gUAwvs2RwL7jB3W+HyUfvqa0j76gFiS+26l/vYPGnb4cg+G8/oe2vQMwVL7WVjq9kQFsvonlob4G3t+9JMXFvar7oL5tNH6+RBrevUlOcr6W58y+xrExvuBfp73XPiK+dMCZvtSQV70p5aW+sWrHva0HBb6YgpK+e7RrvuiGV77KV4C+JKRqvmkpt74WPu6+EbylvqUl6L76MxQ+j3E2PYU7NL6QLYC+SoAcPbD71T3MCJC+RNgYvqspEb9kFdq9Vya+vWmDsL6SJj++I95+vtNsg77Vp4++ulO4vsIEZL4+lEa+pIS7vbVcNj4GS8e9fQC1vis+QL7BK+a+KUFXvigXkL7+UsG+7xNSvmucCL5dODe+GqwIvopCcb726vW+DRrLvszoU74cQJy+KTR0vsViob7J7rK9dcaXvbyKnL4KBxq8vPkCvqpV2r7nhjo9kw0jvWnAFb4M95O+Wwb5vVQmhr7XJu2+SfnAvsKmAL4aDKa+02yDvoGy9r2MlCa+fraUvs7FVz0FnVG+xBWjvshcqb7iGBc+qKYdvmU6V74J6XC+VIQVvpKRwb7m086+kmIGvgu8xL0kcXu+EjWuvqXITb45F5u+HT4aPgInHr58MrC9FA62vhSAgL5C3pW+NSJlvv0PSb62ZHa+a7f8vZN0qz3k17g9Nr7qvXrPi739LVi+KW6Tvk/+Wr6gWWG+6zGTvl18574ilbe+S0iFvm7Dg76WugM9iHzovVQPkr5rZY492NWGvvnKVj57NQS+ztsQvpiWCb5naBu+kJgbvoD4zT2OQ5K+qY0svmOtB75Wf/m9a4Y0voczDr4idAS+1viJvmo2qr7jfo266OS7vvMBab5oQ4s9hPEVvoV4Cr4LM3O+VyiDvrOME74vIYK+m9LivirAsj0MqX6+NzuFvDcoVj6kqRq+kTVWPOE2p76O6D6+As6QvIUsUb6LUpO+z1TVvso41r7bbNS+sNNGvCOQZr6aPOO9FoUfvh33IT5K/sO+S6dxvplIOr6OQ5K+qTnevE87F76/i3Y84ZZmvldY3r1ybBO+TwmWu44Ytb6CW2q+g/uJvo2ceL5XGla+otQvvg+rtL6SC6O9ddSSPfMtKz6uOra+gLLuvf5ZsD0ue0G+RJnDvqqvW72Cn669lEczvkhuRr65lPu9ueNLvod/gr6nlFu+4J8fvrwdhr2wbKC+q0kpvkS4ib7P/+i9ifyCvi4Wi74d9MK+7L/2vieo6b2up9y+8SrqvUQa3r3EcoW+GhogvsBSOL4Rb7W+kVSEvTPehL4cX/y9TRqvPL/6EL7GGLS84L1Fvvnkjz6QoW6+5MSivflbeLyf/Ni+5r2AvqtUQ77YKiq+mQi4vv5pm75fgEK+Mt+1vjcSzbzEt4++IgaavUMqtbw2OYi+h8KRvnH+kb4WieI9EKILvrOhGb5f+LQ+fPysvkUbWD0xMJC+GtiuvZf+0TyY08y+J6jpvRkFiL2o7s++pPf6vQqH1b5X4om+5Lx4vtqtv706IYK+EKtEvnpOsb430Xq+wVPBvg==",
            "dtype": "f4"
           }
          }
         ],
         "hovertemplate": "color=sport<br>%{xaxis.title.text}=%{x}<br>%{yaxis.title.text}=%{y}<extra></extra>",
         "legendgroup": "sport",
         "marker": {
          "color": "#ab63fa",
          "symbol": "circle"
         },
         "name": "sport",
         "showlegend": true,
         "type": "splom"
        },
        {
         "diagonal": {
          "visible": false
         },
         "dimensions": [
          {
           "axis": {
            "matches": true
           },
           "label": "0",
           "values": {
            "bdata": "EaJswITtWcClvHXAKSJ6wG2+ccD5BWrAC1V0wHTmZsB0OnbAgZp5wGRZY8Ch12rAgGVmwIKSZsD3XXnAPgpewJzcfsD8MVbATV9RwH0HcMCFmm3AZFljwHRYd8C3U3fAZXNvwB4UY8CWV2LALxh7wHvrZ8DmxWHAkOZWwATVVcAsbl/AbdJiwBpTZsDezHvAGfpSwPoCa8BcwYDA/vx2wJDMZsCHhXfARxR/wKtdYsDAqmjACUhrwDrdTcCYaWHAQNxjwHM1fcAoQGfAhu9pwPZ+V8AKtGnAR7R2wPapYsA7a3jAVINlwDY6V8CMz2zAr/RSwI4odcDFdmXASMdqwImZcMAgaGPAo5JZwOUqZsBndmrAGRZYwJQEbcCfXGHAL9x7wLMOdcDMmXDAjIF4wPUQe8BTDG/AzTJ5wHn/WcDGmlTA1aJuwEMPc8Av3HDAWnNowB+nZ8CIzlbAT5x/wH44WcCSpXfAioNdwBtyZsClCnPAXEVrwIF1dcAYvGTAfTJzwPbbb8ASGIDAQUdowAWgUMB+ilrAVRN7wJVccMDmAnTAPrJnwNnoesDE4l3AJARdwMJfYMBB923AIGhjwHy/csCrRmDA3xlWwEGdf8BQ52/A6wdgwPgSdcC+jW3AfTJzwHj/b8CR7WzAACFjwJ+tY8CscGXA11NpwE81gMDQ62zAlKprwHHDdcDzfl3AxThewDETY8ArA2zAdyp4wPlRXsDHcoDAFsBzwJv1cMAPT2PAeohuwOt2ZsA7zFzAb6ZiwBDrY8D1EHvAH9ZTwI8edcBD82LAXcxowKxLdMCRRnPAOA11wAw8asBi4XLAPwl4wHH9asCPjG/AkI9ZwDx5b8ARHXLAIbV9wDUrd8CPLHDAlV5ewN1IZMCFLnTA73FowIwLbMDPMIDAi9BswJ11VMDChX3ARQxWwIeFd8DnRWzANItfwJwpcsDuIWrAPgFRwIGbbcCOy2DA4JpywOUFX8CB12/Ao+NjwGkaccBe0XPAJcNOwHqIbsAgv3/AC1V0wAi/d8DZ3nfAVxBvwAJddMBt/HrA+md2wHdcc8D+yW7ACaNlwLUEacCCgWTAVlZIwBmzeMCkY33AzWRjwAKxXMDhCFnAEFRgwIh2dsB7tXjAzYBDwDOrW8AVB2bAMsBpwGjfccB5IGfA9d1pwM2PYcC4THjAMA1nwBxqYMAn9m/A331cwAOEXsCQj1nA9L1PwKfHcsBxZWzA3CxZwBI6dsCumXXAavV7wHnIdcDfV2zAgFdqwEyPccAexnrAXgFpwLgrZsC463nAlC9RwChid8B2GmnAAV1ZwCCfesCA7XnAjbhSwDHzb8Bkq27Advd+wNYKWcAIsm3A4LRpwN7WZMB7YnrAOyZvwMAkYcC+jW3AVINlwK1fc8AbqWzAsY57wBd7bsCkO3fACj1/wGiNbcBfplzAvkdkwGM2ZsA1KnPA",
            "dtype": "f4"
           }
          },
          {
           "axis": {
            "matches": true
           },
           "label": "1",
           "values": {
            "bdata": "MTV6vsf+db45feo9BhY+vgc1E79URSi+TuiSvussA7/80rK9xVyxvRQ4pr4/Jwe+JI6Nu7ZP2b7NCNi9JwTOvfj4P7568ga+RRUgv8obaD7pLaq+FDimvpj1jT3l9EG+poM1voR4DL98NAu/Y8oUPlmAhr4bap2+ALAbv9kiEr/JVmO+kGf4vpM44L7mfxG+gM6gvo9jGL9RE/K+kY6cvurEZL6y2d2+IgPWPLWU+76lRXa++TC6vjmmJb/SuvQ9f2MlvgVcXr73hoS+m68Ev7e/Ab/N6G2+o0Q0vkK+uL4gkCW+Opu/vutm+r6Ds06+rGclv9B4t77Rn9K+PWQ3vpU6pr42W7S++7vBvhPFLL8g17G+agTOvkRRrr4jJR2+AXgLPlZPSL5AgIm9M9qgvkC0e76mTWa+fFkmPsjGH789mtG++CcEPSf+OL5Mhya+ckKevjV9tr4Yhoa+NI7BvTYR9L6PGm2+wlMOv0tPcr4tkaU+zgZRvq2KJ74NY/a+iTYqPrX0jb4KBbC+bONFvsd2774Uru6+/jSCvYdIy77KgI6+sc6MvqCK6L6cH/w9zDvZvj76Tz4FrYK+Nlu0vhMQtr6hAHq+kw3bvi+WV72Mtpm+wLVEu2qojb5UNbm+iTYqPq1uq77mmJ691y2KvkDdDL9veR6/nv8qvu9eTT3wXa2+KdFmvjHEDb4dfse+tvCavl+QC78NOB2+8a9svnjtGb9kIZK+eHxCvr9AAr4zDLG+NNPovpdP0r6rzfm+/nT8vk9yhr5AtHu+KBwbvxZIPb4yFii/4kiZvt4tubyNk8O+gnLFvS7SDL81hDe+DfCWvsy78Lydqn69DlDHvhib5L7JXcC+LdyivoMo+b0p/dO9hiZMvWOEFj6ib86+2HGIvuXkwL7HYE++vAGpvvu0qL6mvLW98GbLvrLZ3b5rAc++pDj7vhlRHj7xpRy+uqervgYs0L5Z06++mCoDv2lOxr6DZ32+d0WcvgFnqL720ia9D/fovjTT6L7EW7g+TuiSvmQXlL6jvJe+CHGqvncDjr49CJq+p1w6vsodAL4O8Mu+eWYBvzUl275hZcG+j4cgv8W5+71Mfr293FGOvjTDpL7CS769j7Ydvwb/lr7UXS6+YPgdv5Eq/74UKPy+6M0Ev5hJ8L0Zx4G+S8nhvsH1s74gR8++j9fsvnWXz77msl2+GlATv4jlBb8OUMe+j+eCvs08iL7B9hg9lzbvvli11z0m3ym+Hd+RvkcxDT7dU9i+jJiivTwDmb7l5ns9v/2bvlyWhr75cHK+NRQPv80AOb7n2Lm+2lgXv+dHVz4ZD3S+F3mjvkp+676QY1q+Pu6evvn2K78aM8m+UHnjvoS9k77b0Fu+oRG8vqm+DL9UNbm+Opu/vjEZob4FaMW+F8GUvvU3Bb7LXJK+pSumvo9nA76SUWW+KEmwvVmx4r4KCAm+",
            "dtype": "f4"
           }
          },
          {
           "axis": {
            "matches": true
           },
           "label": "2",
           "values": {
            "bdata": "kqcuvNTO7D6uYhg/QhvKvfiVpTzRFeK9DhLVPR3N/j2gYYK+NsZAPtez/j5t1jA+CFJJvvEHST3pQ9k8vyGxPBywQjwmvX8+MIpXPpZ+gzw/52c917P+PleGUL4NYGi+YYDQPeqjlD6EXMg+YBY2PpVfCT34aJw9gI6/Puohhj7b3Ng9yoqivbIMVD2EkGW+k4jMPhBPIL3fot69obolPlC2Ur5UEJE8W3vYvv/GND2kO3+7GtbxPZddiD6EJ6W9DylvPmYue72B0fo9Gy97vRJYrj43b7q9W5uLvrnIpT5i5hg+w6RPPnuYQj2x46u9TSylPoLTIz6nB9c962CrPYCVoj2RjsY+vLMrOz9kGD4GUvK8brfCPobAGD6ysbc8P9CuPpmCYL7zr6a+dNmGvmBZMTzkWyM+0AN2vkkykD5ZPsk+s3qAPs0hlb7ZJtA+3RocPqqYmT6OoNQ8TmE0voFopD4bBF+9PLK0PeTLET6pPAs/GggaPnelCz1RKJ8+huLSPgzwNzseXWe9yIRCPS2qMz6myV8+hTdwvj16Sj5m0TK8G/chPnRCAT0UH5y9ZqkDPh/e5j3xuU0+kY7GPmOAFb6zUL68NrTcvHbR7L1YN+U8znZYPdR2Lj0LWwI+huLSPpjsAD6amS6+7WLvPqDs0bzBBYm8AFUCvX5sGr6HZL0+v79VPmNeIz7rvLo+n7v/PPyflT52FDy9WKu3PEi2iT4JY++7pI0PPpv3xjy8qsc+/OEpvm3jHD7b47895f1aPRZEjj5gWTE8DWStPhbaN75a/UI9Vttevq4Y0DvVxzc+xhoDvoLg2b2+9YQ+5qJAPb428j2AVYQ+1cW9PnMSPr7CzSk+kS+6vau/y73LaUs+iKgFP12ZVb4ZsIo94xqVvXsjML7ayu6+3V8KPUh0Lz6pHI8+qVWHPlQQkTw5Wag+Ukk7Pkp0ND7Ucuk97lxEPmNigD55Uz4+zXscvZVTqT5khPa9Nb6FPjvOFD4dW5C9TE4QPvzhKb4vc0W+DhLVPUvzor2740S+qfpzPsqi2j1pDbI+XmGKvZGWNjq5oBA+QcwIPtCE1j0QcpI+SBY/PTFJtj1AQfw9sQWmPTV8+bwTphk+/s2ZPoE6RL6T3yG9ETl3Pg/VaT6QK6W8t2d0Pa7rKz57lL09YxhjPuX8WD6il8k9aDSIvdX+cj6MU8A94hS8vFLQqj3Vxb0+gIxJPP/reD7Z/Ii+MOdXPrDbGT9ODRA9tzBxvTu9pz6WVA29WmLQPm7MET6Fd2++bsarPSpghj4oc4s9fihLPvvdlb1mzNs+WoCiPn4+mL4W11M9yHOiPiSLvD2ZvEY+vuFAvp9AgD5976g+2Z1DPSfBgb3Ax04+ah2OvgaTfj4LWwI+w6RPPooSnj7yiHG7HsizvSWhjz6ePmS+h3GNvijGWr5alSK87qZmvXKpUD2pTeq9",
            "dtype": "f4"
           }
          },
          {
           "axis": {
            "matches": true
           },
           "label": "3",
           "values": {
            "bdata": "XMyKPr4mhj4UbbM+Um6GPka9uT5EkTE+jEPUPv+6kj6AzyE+mxudPgxtzD7vSHE+4c0/Pu9ehj31q6I+HxbHPoherz6Dxvg+vurgPoAlCD++r3c+DG3MPqAokz40PSq9YO+wPk+5Dj9hVbw+r+z6PsRUkD6UNrA+1LwGP1Y8vj6P4AM/+mWOO+tP0T5hVE8+z7GmPhVQxT40CAA+QwHHPucRmb2bpog+/T3yPRzV1z4D7o09tZhEPmOi4D6VgfE+SYTfPlfTCD6Uxr0+2iiiPhk1pD4zcEO+A1JHPtFxxj66l6o+P7v0PmQU6T7D2qw+hMStPjtbZj7305A+K5uXPpLbYz7qLoo+c/LIPVTJFz9ogow+bIECP5m+HT4Yibw9onhpPpFHiT4JlKW8Nxa6PpIPuj6xf5E+YI/APjnR8T7QdoM+WpsTPkKruz5OHwM+wyZIPptckj4ZVVI+nViaOx3dCT+Hc2k+X0+gPr2+vD4dNs4+leo3PlT+DD6GatM+4OwWP2Gc+Dzz5pk+YVXoPtngJD/BHw8/XNBoPv+v3z6MT0k+PueQPhx2i7z5a8c+MayePs3bWT5Md6U+6i6KPmxVIz5ei68+oBi0Pr7ebz35WCY+BfuuPt9LDT5PHJs+4OwWPzBJk7yFQCA9gtjTPiz8yT79uNY+lqaBPsBPkz0d2cc+aUtqPhbblD6749Q+66MNP+kGDz8xgZ8+I3n6PnZW1T7f1yg+MrOzPhQu1z4qwtE+NPgOPqfmpD5FqNQ+kPXSPp4j/z6SD7o++KoEPwc7Wz5BGNs+/sEPPijmmT7vXu8+F23aPQXsiT5Lc7U+C+8sPtJZsT5qmBQ/gNhKP1i+Uz3SYiM+z2OWPU9DvD4IYtY+QpoQPx6+Xj6jSc0+yK+WPprGoz6lLzU+H8yIPhsLzj6IZcE+YwXyPpumiD6gVxM/+AQBP0DUST6qoLc+qk+UPhBAsT6DLQM/sPm1Ph8j2T5fWpw+x9wMP2IRdD7b55E9iIO7PjT4Dj7nOZk9jEPUPqX/tT6leWc+Kp7ePhrMrz6Y6sQ+apCTPtqIZT7gaAM/ugDrPh2AnD4vZeU+BCvePqbESz5JprU+zUrzPsegBD+0WvE+OLsMP6ABez7k8EQ+dhEHP3Zj9T663Js+q0+TPnRQtz5aa4A+MTTNPocdlT74abU+B7y5PmmukD5gDyU+e/OpPuW76T6A2Eo/r93JPrkapT5DrQ89LJoFPzrstD4aqBU+kN2zPJY8RT7Y2qM++pDLPiQHZj5cdRQ+70bfPqFx2D4hmQA+6uXlPr8rUD5q7nY+1P7VPgOx+zwlaTM+4djIPgp/gT6bL58+cJSQPjd5HD9/O6U+SPOkPgGW3z3i2RE+ygpvPRuNBD9PHJs+P7v0Ps6Duj4n64E+rp1aPmxokz6eXiI+8cOLPqUgqj54ztc+gMOkPmxTDrxIDdw+",
            "dtype": "f4"
           }
          },
          {
           "axis": {
            "matches": true
           },
           "label": "4",
           "values": {
            "bdata": "for5PjY3fz73WHs9zNqYvOh52D4yHao+Ckq6Pgw3vD6xYyY+ZKT6PUniOD5OQbk+d0o9PhP7Pz7Qd+g9CEspPn2BZr1SMJY+i4DuPrixcjlEho0+SeI4PqQXTD5IVb8+Es3KPRiR2z6tC70+ryiivb9GMT6q4iE95JztPucuUT7dKog+CqWtPmIAmj7UxEK9HBNUPuRBZz49PZo9W73aPlhV3T4/GhI++jurvcRIUj7HbI4+/aGZPjKTAj9+Xiw+xB5FPsAVED71l14+B/FiPmZdyz4pBL4+IUHNvZ0eoj2zSmc+mabIPjNCwj6YCS4+dgZkPuionT7drKI+4nqxPt+Rmz5GMiw+pKGtPTa3fj7Eakg+baykPifeoz4fw/c+eMiIvSO/9T0C8eS8KPPtvUKX3z0n6C8+u7HXPcV34D6Tl7Q+2oYlPg50uL3kEyg+pzuZPFN+SD5NU7A+vDA/PtIHhz7Z/DE+tIe0PhLGaD7jM/28WVCFO7DRjD1ecbM++MWOvSlL2j5YtpA+sY5aPd2l4z54XZg+nl5rPYgjwz7x+Ww9/SvWPulTnz6Nqz4+QUeJPoI8Sz7doiI+RjIsPlBnaT5GMTk+cCU1Ps/shD4hbRM+FI+9PrhF8z3+scA++MWOvZ+6BD77jUk+GE1nPlJhXT5sRaw+3aj1PbCpsD1VlxM8q8gePisQfj4Zng4+Mxi3Pnac2j41t0Y+T7BYPo0i8T5qO0o9ghyaPuw3Aj7Vers+qeSoPtwGuD5e/ro+08VMPlBkiz5Cl989jL7xPiBl9j0lUXE+wzvrPWyAij5KsMs+6xjRO5Ovcz5gyqg7gf7FO+NY0D0s/nI+anSvPifsnT4g4dw+uIJWPafToT3u4pA+9kllPQk2Frvyt7U+KGUiPn4neT7A8Fc9JIhTPfHYsD6rB7g9qzKDPj8aEj6LfYk+L1gkPmwUIT4SN6U+N5y7PtJXnT4Wctw+SlmGPgRaqj7Rn+w8xB3tPiOHvz6KnUs+KOTIPqnkqD6Yp+I9Ckq6PuZeiT41W0g93BvQPh+uND6ycp89/7LjPeARxj4uXqM+8rPvPhYiqz3cTQs+TlinPugYvD4ChR8+tAxIPmfJxT6/wDA+DvH7PvN3jD1csbo8KijbPmpNCD/8J+M+CEL6PmcPUz2qD20+SoKxPmgJyz2omgs+XvlaPlIJDD+ZyTY+OFaBPpGjQj5qdK8+ev7pPgEDkT5c9k4+YYvtPrv2gj0v/4c99cUVvDXpWT7UbqU+4XSFPl3GbD40nje+ibJCPtuIuT4KXrI+danmPqn9Bz5t/Lg9YyYNP9GsFb2L36s922JjPvcRnz4DPNs+wmiGPUDu0T4Zuzw+i+C4PVA4YT3Nzr+8aqeAPZQSAD/+scA+mabIPi/DyDyRkZg+dkzqPT4zIz6UmYS9JCozvayhSD5FH14+LW+LPuTABz4BQ7e9",
            "dtype": "f4"
           }
          }
         ],
         "hovertemplate": "color=entertainment<br>%{xaxis.title.text}=%{x}<br>%{yaxis.title.text}=%{y}<extra></extra>",
         "legendgroup": "entertainment",
         "marker": {
          "color": "#FFA15A",
          "symbol": "circle"
         },
         "name": "entertainment",
         "showlegend": true,
         "type": "splom"
        }
       ],
       "layout": {
        "dragmode": "select",
        "legend": {
         "title": {
          "text": "color"
         },
         "tracegroupgap": 0
        },
        "template": {
         "data": {
          "bar": [
           {
            "error_x": {
             "color": "#2a3f5f"
            },
            "error_y": {
             "color": "#2a3f5f"
            },
            "marker": {
             "line": {
              "color": "#E5ECF6",
              "width": 0.5
             },
             "pattern": {
              "fillmode": "overlay",
              "size": 10,
              "solidity": 0.2
             }
            },
            "type": "bar"
           }
          ],
          "barpolar": [
           {
            "marker": {
             "line": {
              "color": "#E5ECF6",
              "width": 0.5
             },
             "pattern": {
              "fillmode": "overlay",
              "size": 10,
              "solidity": 0.2
             }
            },
            "type": "barpolar"
           }
          ],
          "carpet": [
           {
            "aaxis": {
             "endlinecolor": "#2a3f5f",
             "gridcolor": "white",
             "linecolor": "white",
             "minorgridcolor": "white",
             "startlinecolor": "#2a3f5f"
            },
            "baxis": {
             "endlinecolor": "#2a3f5f",
             "gridcolor": "white",
             "linecolor": "white",
             "minorgridcolor": "white",
             "startlinecolor": "#2a3f5f"
            },
            "type": "carpet"
           }
          ],
          "choropleth": [
           {
            "colorbar": {
             "outlinewidth": 0,
             "ticks": ""
            },
            "type": "choropleth"
           }
          ],
          "contour": [
           {
            "colorbar": {
             "outlinewidth": 0,
             "ticks": ""
            },
            "colorscale": [
             [
              0,
              "#0d0887"
             ],
             [
              0.1111111111111111,
              "#46039f"
             ],
             [
              0.2222222222222222,
              "#7201a8"
             ],
             [
              0.3333333333333333,
              "#9c179e"
             ],
             [
              0.4444444444444444,
              "#bd3786"
             ],
             [
              0.5555555555555556,
              "#d8576b"
             ],
             [
              0.6666666666666666,
              "#ed7953"
             ],
             [
              0.7777777777777778,
              "#fb9f3a"
             ],
             [
              0.8888888888888888,
              "#fdca26"
             ],
             [
              1,
              "#f0f921"
             ]
            ],
            "type": "contour"
           }
          ],
          "contourcarpet": [
           {
            "colorbar": {
             "outlinewidth": 0,
             "ticks": ""
            },
            "type": "contourcarpet"
           }
          ],
          "heatmap": [
           {
            "colorbar": {
             "outlinewidth": 0,
             "ticks": ""
            },
            "colorscale": [
             [
              0,
              "#0d0887"
             ],
             [
              0.1111111111111111,
              "#46039f"
             ],
             [
              0.2222222222222222,
              "#7201a8"
             ],
             [
              0.3333333333333333,
              "#9c179e"
             ],
             [
              0.4444444444444444,
              "#bd3786"
             ],
             [
              0.5555555555555556,
              "#d8576b"
             ],
             [
              0.6666666666666666,
              "#ed7953"
             ],
             [
              0.7777777777777778,
              "#fb9f3a"
             ],
             [
              0.8888888888888888,
              "#fdca26"
             ],
             [
              1,
              "#f0f921"
             ]
            ],
            "type": "heatmap"
           }
          ],
          "histogram": [
           {
            "marker": {
             "pattern": {
              "fillmode": "overlay",
              "size": 10,
              "solidity": 0.2
             }
            },
            "type": "histogram"
           }
          ],
          "histogram2d": [
           {
            "colorbar": {
             "outlinewidth": 0,
             "ticks": ""
            },
            "colorscale": [
             [
              0,
              "#0d0887"
             ],
             [
              0.1111111111111111,
              "#46039f"
             ],
             [
              0.2222222222222222,
              "#7201a8"
             ],
             [
              0.3333333333333333,
              "#9c179e"
             ],
             [
              0.4444444444444444,
              "#bd3786"
             ],
             [
              0.5555555555555556,
              "#d8576b"
             ],
             [
              0.6666666666666666,
              "#ed7953"
             ],
             [
              0.7777777777777778,
              "#fb9f3a"
             ],
             [
              0.8888888888888888,
              "#fdca26"
             ],
             [
              1,
              "#f0f921"
             ]
            ],
            "type": "histogram2d"
           }
          ],
          "histogram2dcontour": [
           {
            "colorbar": {
             "outlinewidth": 0,
             "ticks": ""
            },
            "colorscale": [
             [
              0,
              "#0d0887"
             ],
             [
              0.1111111111111111,
              "#46039f"
             ],
             [
              0.2222222222222222,
              "#7201a8"
             ],
             [
              0.3333333333333333,
              "#9c179e"
             ],
             [
              0.4444444444444444,
              "#bd3786"
             ],
             [
              0.5555555555555556,
              "#d8576b"
             ],
             [
              0.6666666666666666,
              "#ed7953"
             ],
             [
              0.7777777777777778,
              "#fb9f3a"
             ],
             [
              0.8888888888888888,
              "#fdca26"
             ],
             [
              1,
              "#f0f921"
             ]
            ],
            "type": "histogram2dcontour"
           }
          ],
          "mesh3d": [
           {
            "colorbar": {
             "outlinewidth": 0,
             "ticks": ""
            },
            "type": "mesh3d"
           }
          ],
          "parcoords": [
           {
            "line": {
             "colorbar": {
              "outlinewidth": 0,
              "ticks": ""
             }
            },
            "type": "parcoords"
           }
          ],
          "pie": [
           {
            "automargin": true,
            "type": "pie"
           }
          ],
          "scatter": [
           {
            "fillpattern": {
             "fillmode": "overlay",
             "size": 10,
             "solidity": 0.2
            },
            "type": "scatter"
           }
          ],
          "scatter3d": [
           {
            "line": {
             "colorbar": {
              "outlinewidth": 0,
              "ticks": ""
             }
            },
            "marker": {
             "colorbar": {
              "outlinewidth": 0,
              "ticks": ""
             }
            },
            "type": "scatter3d"
           }
          ],
          "scattercarpet": [
           {
            "marker": {
             "colorbar": {
              "outlinewidth": 0,
              "ticks": ""
             }
            },
            "type": "scattercarpet"
           }
          ],
          "scattergeo": [
           {
            "marker": {
             "colorbar": {
              "outlinewidth": 0,
              "ticks": ""
             }
            },
            "type": "scattergeo"
           }
          ],
          "scattergl": [
           {
            "marker": {
             "colorbar": {
              "outlinewidth": 0,
              "ticks": ""
             }
            },
            "type": "scattergl"
           }
          ],
          "scattermap": [
           {
            "marker": {
             "colorbar": {
              "outlinewidth": 0,
              "ticks": ""
             }
            },
            "type": "scattermap"
           }
          ],
          "scattermapbox": [
           {
            "marker": {
             "colorbar": {
              "outlinewidth": 0,
              "ticks": ""
             }
            },
            "type": "scattermapbox"
           }
          ],
          "scatterpolar": [
           {
            "marker": {
             "colorbar": {
              "outlinewidth": 0,
              "ticks": ""
             }
            },
            "type": "scatterpolar"
           }
          ],
          "scatterpolargl": [
           {
            "marker": {
             "colorbar": {
              "outlinewidth": 0,
              "ticks": ""
             }
            },
            "type": "scatterpolargl"
           }
          ],
          "scatterternary": [
           {
            "marker": {
             "colorbar": {
              "outlinewidth": 0,
              "ticks": ""
             }
            },
            "type": "scatterternary"
           }
          ],
          "surface": [
           {
            "colorbar": {
             "outlinewidth": 0,
             "ticks": ""
            },
            "colorscale": [
             [
              0,
              "#0d0887"
             ],
             [
              0.1111111111111111,
              "#46039f"
             ],
             [
              0.2222222222222222,
              "#7201a8"
             ],
             [
              0.3333333333333333,
              "#9c179e"
             ],
             [
              0.4444444444444444,
              "#bd3786"
             ],
             [
              0.5555555555555556,
              "#d8576b"
             ],
             [
              0.6666666666666666,
              "#ed7953"
             ],
             [
              0.7777777777777778,
              "#fb9f3a"
             ],
             [
              0.8888888888888888,
              "#fdca26"
             ],
             [
              1,
              "#f0f921"
             ]
            ],
            "type": "surface"
           }
          ],
          "table": [
           {
            "cells": {
             "fill": {
              "color": "#EBF0F8"
             },
             "line": {
              "color": "white"
             }
            },
            "header": {
             "fill": {
              "color": "#C8D4E3"
             },
             "line": {
              "color": "white"
             }
            },
            "type": "table"
           }
          ]
         },
         "layout": {
          "annotationdefaults": {
           "arrowcolor": "#2a3f5f",
           "arrowhead": 0,
           "arrowwidth": 1
          },
          "autotypenumbers": "strict",
          "coloraxis": {
           "colorbar": {
            "outlinewidth": 0,
            "ticks": ""
           }
          },
          "colorscale": {
           "diverging": [
            [
             0,
             "#8e0152"
            ],
            [
             0.1,
             "#c51b7d"
            ],
            [
             0.2,
             "#de77ae"
            ],
            [
             0.3,
             "#f1b6da"
            ],
            [
             0.4,
             "#fde0ef"
            ],
            [
             0.5,
             "#f7f7f7"
            ],
            [
             0.6,
             "#e6f5d0"
            ],
            [
             0.7,
             "#b8e186"
            ],
            [
             0.8,
             "#7fbc41"
            ],
            [
             0.9,
             "#4d9221"
            ],
            [
             1,
             "#276419"
            ]
           ],
           "sequential": [
            [
             0,
             "#0d0887"
            ],
            [
             0.1111111111111111,
             "#46039f"
            ],
            [
             0.2222222222222222,
             "#7201a8"
            ],
            [
             0.3333333333333333,
             "#9c179e"
            ],
            [
             0.4444444444444444,
             "#bd3786"
            ],
            [
             0.5555555555555556,
             "#d8576b"
            ],
            [
             0.6666666666666666,
             "#ed7953"
            ],
            [
             0.7777777777777778,
             "#fb9f3a"
            ],
            [
             0.8888888888888888,
             "#fdca26"
            ],
            [
             1,
             "#f0f921"
            ]
           ],
           "sequentialminus": [
            [
             0,
             "#0d0887"
            ],
            [
             0.1111111111111111,
             "#46039f"
            ],
            [
             0.2222222222222222,
             "#7201a8"
            ],
            [
             0.3333333333333333,
             "#9c179e"
            ],
            [
             0.4444444444444444,
             "#bd3786"
            ],
            [
             0.5555555555555556,
             "#d8576b"
            ],
            [
             0.6666666666666666,
             "#ed7953"
            ],
            [
             0.7777777777777778,
             "#fb9f3a"
            ],
            [
             0.8888888888888888,
             "#fdca26"
            ],
            [
             1,
             "#f0f921"
            ]
           ]
          },
          "colorway": [
           "#636efa",
           "#EF553B",
           "#00cc96",
           "#ab63fa",
           "#FFA15A",
           "#19d3f3",
           "#FF6692",
           "#B6E880",
           "#FF97FF",
           "#FECB52"
          ],
          "font": {
           "color": "#2a3f5f"
          },
          "geo": {
           "bgcolor": "white",
           "lakecolor": "white",
           "landcolor": "#E5ECF6",
           "showlakes": true,
           "showland": true,
           "subunitcolor": "white"
          },
          "hoverlabel": {
           "align": "left"
          },
          "hovermode": "closest",
          "mapbox": {
           "style": "light"
          },
          "paper_bgcolor": "white",
          "plot_bgcolor": "#E5ECF6",
          "polar": {
           "angularaxis": {
            "gridcolor": "white",
            "linecolor": "white",
            "ticks": ""
           },
           "bgcolor": "#E5ECF6",
           "radialaxis": {
            "gridcolor": "white",
            "linecolor": "white",
            "ticks": ""
           }
          },
          "scene": {
           "xaxis": {
            "backgroundcolor": "#E5ECF6",
            "gridcolor": "white",
            "gridwidth": 2,
            "linecolor": "white",
            "showbackground": true,
            "ticks": "",
            "zerolinecolor": "white"
           },
           "yaxis": {
            "backgroundcolor": "#E5ECF6",
            "gridcolor": "white",
            "gridwidth": 2,
            "linecolor": "white",
            "showbackground": true,
            "ticks": "",
            "zerolinecolor": "white"
           },
           "zaxis": {
            "backgroundcolor": "#E5ECF6",
            "gridcolor": "white",
            "gridwidth": 2,
            "linecolor": "white",
            "showbackground": true,
            "ticks": "",
            "zerolinecolor": "white"
           }
          },
          "shapedefaults": {
           "line": {
            "color": "#2a3f5f"
           }
          },
          "ternary": {
           "aaxis": {
            "gridcolor": "white",
            "linecolor": "white",
            "ticks": ""
           },
           "baxis": {
            "gridcolor": "white",
            "linecolor": "white",
            "ticks": ""
           },
           "bgcolor": "#E5ECF6",
           "caxis": {
            "gridcolor": "white",
            "linecolor": "white",
            "ticks": ""
           }
          },
          "title": {
           "x": 0.05
          },
          "xaxis": {
           "automargin": true,
           "gridcolor": "white",
           "linecolor": "white",
           "ticks": "",
           "title": {
            "standoff": 15
           },
           "zerolinecolor": "white",
           "zerolinewidth": 2
          },
          "yaxis": {
           "automargin": true,
           "gridcolor": "white",
           "linecolor": "white",
           "ticks": "",
           "title": {
            "standoff": 15
           },
           "zerolinecolor": "white",
           "zerolinewidth": 2
          }
         }
        },
        "title": {
         "text": "SVD Components of Document Vectors"
        }
       }
      }
     },
     "metadata": {},
     "output_type": "display_data"
    }
   ],
   "source": [
    "fig = px.scatter_matrix(\n",
    "    document_topic_matrix,\n",
    "    dimensions=[0, 1, 2, 3, 4],\n",
    "    color=df['Category'],\n",
    "    labels=dict.fromkeys(range(5), 'Component'),\n",
    "    title='SVD Components of Document Vectors'\n",
    ")\n",
    "fig.update_traces(diagonal_visible=False)\n",
    "fig.show()"
   ]
  },
  {
   "cell_type": "markdown",
   "id": "0cfb15a3",
   "metadata": {},
   "source": [
    "## Training Unsupervised Learning Models"
   ]
  },
  {
   "cell_type": "markdown",
   "id": "5ee27364",
   "metadata": {},
   "source": [
    "Now, I will train unsupervised learning models on the document vectors. This includes clustering algorithms like K-Means to identify patterns and group similar documents together.\n"
   ]
  },
  {
   "cell_type": "code",
   "execution_count": 23,
   "id": "9a95720d",
   "metadata": {},
   "outputs": [],
   "source": [
    "from sklearn.model_selection import train_test_split\n",
    "X_train, X_test, y_train, y_test = train_test_split(\n",
    "    np.vstack(df['doc_vector'].values), df['Category'], test_size=CONFIG['DEFAULT_TEST_SIZE'], random_state=CONFIG['RANDOM_STATE']\n",
    ")\n"
   ]
  },
  {
   "cell_type": "markdown",
   "id": "c8b101c5",
   "metadata": {},
   "source": [
    "\n",
    "Here I employed TruncatedSVD to reduce the dimensionality of our feature space to five components. The SVD model was first fitted on the training data to learn the optimal lower-dimensional representation and then used to consistently transform both the training and test datasets. This approach helps capture the most important patterns in the data while reducing noise and computational cost. By applying dimensionality reduction, we aim to improve model performance and mitigate potential overfitting."
   ]
  },
  {
   "cell_type": "code",
   "execution_count": 24,
   "id": "cd3ec729",
   "metadata": {},
   "outputs": [],
   "source": [
    "svd = TruncatedSVD(n_components=5, random_state=CONFIG['RANDOM_STATE'])\n",
    "X_train_svd = svd.fit_transform(X_train)\n",
    "X_test_svd = svd.transform(X_test)\n"
   ]
  },
  {
   "cell_type": "markdown",
   "id": "95221335",
   "metadata": {},
   "source": [
    "Next, I applied KMeans clustering on the reduced data to explore inherent groupings. I initialized the KMeans model with the number of clusters equal to the number of unique categories in our dataset, ensuring alignment with known class distributions. The model was fitted on the transformed training data (X_train_svd) to learn cluster centroids, and then used to predict cluster assignments for both the training and test sets. This clustering step allows us to investigate how well the unsupervised groupings correspond to the original categories and potentially enhances feature engineering."
   ]
  },
  {
   "cell_type": "code",
   "execution_count": 25,
   "id": "c89aef86",
   "metadata": {},
   "outputs": [],
   "source": [
    "from sklearn.cluster import KMeans\n",
    "\n",
    "kmeans = KMeans(n_clusters=df['Category'].nunique(), random_state=CONFIG['RANDOM_STATE'])\n",
    "train_clusters = kmeans.fit_predict(X_train_svd)\n",
    "test_clusters = kmeans.predict(X_test_svd)\n"
   ]
  },
  {
   "cell_type": "markdown",
   "id": "f8882d78",
   "metadata": {},
   "source": [
    "Unsupervised learning models grouped the clusters, however, it is not yet known to us what these clusters represent in terms of the original categories. To interpret the clusters, we need to map them back to the original labels.\n",
    "\n",
    "\n",
    "To map the discovered clusters back to the actual categories, we assigned each cluster the most frequent true label (mode) among the training samples within that cluster. This was done by iterating over all clusters and building a cluster_to_label dictionary linking clusters to their majority labels. Using this mapping, we predicted the final labels for both the training and test data based on their cluster assignments. This simple post-clustering labeling strategy enables us to evaluate how well the unsupervised clustering aligns with the original supervised targets."
   ]
  },
  {
   "cell_type": "code",
   "execution_count": null,
   "id": "f5dfb341",
   "metadata": {},
   "outputs": [
    {
     "name": "stdout",
     "output_type": "stream",
     "text": [
      "{0: 'politics', 1: 'entertainment', 2: 'sport', 3: 'business', 4: 'tech'}\n",
      "1192\n"
     ]
    }
   ],
   "source": [
    "cluster_to_label = {}\n",
    "for cluster in np.unique(train_clusters):\n",
    "    mask = train_clusters == cluster\n",
    "    majority_label = pd.Series(y_train[mask]).mode()[0]\n",
    "    cluster_to_label[cluster] = majority_label\n",
    "print(cluster_to_label)\n",
    "# Predict final labels\n",
    "y_train_pred = np.array([cluster_to_label[c] for c in train_clusters])\n",
    "y_test_pred = np.array([cluster_to_label[c] for c in test_clusters])\n"
   ]
  },
  {
   "cell_type": "markdown",
   "id": "76169587",
   "metadata": {},
   "source": [
    "## Confusion Matrix\n",
    "\n",
    "Finally, I will evaluate the performance of the unsupervised learning models using a confusion matrix. The confusion matrix will show the true labels vs the predicted labels for the test set. This will help us understand how well the unsupervised learning models performed and how they relate to the original categories."
   ]
  },
  {
   "cell_type": "code",
   "execution_count": 27,
   "id": "6412d8ee",
   "metadata": {},
   "outputs": [
    {
     "name": "stdout",
     "output_type": "stream",
     "text": [
      "Train accuracy: 0.886744966442953\n",
      "Test accuracy: 0.889261744966443\n"
     ]
    },
    {
     "data": {
      "application/vnd.plotly.v1+json": {
       "config": {
        "plotlyServerURL": "https://plot.ly"
       },
       "data": [
        {
         "coloraxis": "coloraxis",
         "hovertemplate": "Predicted Category: %{x}<br>True Category: %{y}<br>Count: %{z}<extra></extra>",
         "name": "0",
         "texttemplate": "%{z}",
         "type": "heatmap",
         "x": [
          "business",
          "entertainment",
          "politics",
          "sport",
          "tech"
         ],
         "xaxis": "x",
         "y": [
          "business",
          "entertainment",
          "politics",
          "sport",
          "tech"
         ],
         "yaxis": "y",
         "z": {
          "bdata": "PwAMAAABKQEBAgEBNQABAAMDOQACAAUAMw==",
          "dtype": "i1",
          "shape": "5, 5"
         }
        }
       ],
       "layout": {
        "coloraxis": {
         "colorbar": {
          "title": {
           "text": "Count"
          }
         },
         "colorscale": [
          [
           0,
           "rgb(255,255,229)"
          ],
          [
           0.125,
           "rgb(247,252,185)"
          ],
          [
           0.25,
           "rgb(217,240,163)"
          ],
          [
           0.375,
           "rgb(173,221,142)"
          ],
          [
           0.5,
           "rgb(120,198,121)"
          ],
          [
           0.625,
           "rgb(65,171,93)"
          ],
          [
           0.75,
           "rgb(35,132,67)"
          ],
          [
           0.875,
           "rgb(0,104,55)"
          ],
          [
           1,
           "rgb(0,69,41)"
          ]
         ]
        },
        "height": 600,
        "template": {
         "data": {
          "bar": [
           {
            "error_x": {
             "color": "#2a3f5f"
            },
            "error_y": {
             "color": "#2a3f5f"
            },
            "marker": {
             "line": {
              "color": "#E5ECF6",
              "width": 0.5
             },
             "pattern": {
              "fillmode": "overlay",
              "size": 10,
              "solidity": 0.2
             }
            },
            "type": "bar"
           }
          ],
          "barpolar": [
           {
            "marker": {
             "line": {
              "color": "#E5ECF6",
              "width": 0.5
             },
             "pattern": {
              "fillmode": "overlay",
              "size": 10,
              "solidity": 0.2
             }
            },
            "type": "barpolar"
           }
          ],
          "carpet": [
           {
            "aaxis": {
             "endlinecolor": "#2a3f5f",
             "gridcolor": "white",
             "linecolor": "white",
             "minorgridcolor": "white",
             "startlinecolor": "#2a3f5f"
            },
            "baxis": {
             "endlinecolor": "#2a3f5f",
             "gridcolor": "white",
             "linecolor": "white",
             "minorgridcolor": "white",
             "startlinecolor": "#2a3f5f"
            },
            "type": "carpet"
           }
          ],
          "choropleth": [
           {
            "colorbar": {
             "outlinewidth": 0,
             "ticks": ""
            },
            "type": "choropleth"
           }
          ],
          "contour": [
           {
            "colorbar": {
             "outlinewidth": 0,
             "ticks": ""
            },
            "colorscale": [
             [
              0,
              "#0d0887"
             ],
             [
              0.1111111111111111,
              "#46039f"
             ],
             [
              0.2222222222222222,
              "#7201a8"
             ],
             [
              0.3333333333333333,
              "#9c179e"
             ],
             [
              0.4444444444444444,
              "#bd3786"
             ],
             [
              0.5555555555555556,
              "#d8576b"
             ],
             [
              0.6666666666666666,
              "#ed7953"
             ],
             [
              0.7777777777777778,
              "#fb9f3a"
             ],
             [
              0.8888888888888888,
              "#fdca26"
             ],
             [
              1,
              "#f0f921"
             ]
            ],
            "type": "contour"
           }
          ],
          "contourcarpet": [
           {
            "colorbar": {
             "outlinewidth": 0,
             "ticks": ""
            },
            "type": "contourcarpet"
           }
          ],
          "heatmap": [
           {
            "colorbar": {
             "outlinewidth": 0,
             "ticks": ""
            },
            "colorscale": [
             [
              0,
              "#0d0887"
             ],
             [
              0.1111111111111111,
              "#46039f"
             ],
             [
              0.2222222222222222,
              "#7201a8"
             ],
             [
              0.3333333333333333,
              "#9c179e"
             ],
             [
              0.4444444444444444,
              "#bd3786"
             ],
             [
              0.5555555555555556,
              "#d8576b"
             ],
             [
              0.6666666666666666,
              "#ed7953"
             ],
             [
              0.7777777777777778,
              "#fb9f3a"
             ],
             [
              0.8888888888888888,
              "#fdca26"
             ],
             [
              1,
              "#f0f921"
             ]
            ],
            "type": "heatmap"
           }
          ],
          "histogram": [
           {
            "marker": {
             "pattern": {
              "fillmode": "overlay",
              "size": 10,
              "solidity": 0.2
             }
            },
            "type": "histogram"
           }
          ],
          "histogram2d": [
           {
            "colorbar": {
             "outlinewidth": 0,
             "ticks": ""
            },
            "colorscale": [
             [
              0,
              "#0d0887"
             ],
             [
              0.1111111111111111,
              "#46039f"
             ],
             [
              0.2222222222222222,
              "#7201a8"
             ],
             [
              0.3333333333333333,
              "#9c179e"
             ],
             [
              0.4444444444444444,
              "#bd3786"
             ],
             [
              0.5555555555555556,
              "#d8576b"
             ],
             [
              0.6666666666666666,
              "#ed7953"
             ],
             [
              0.7777777777777778,
              "#fb9f3a"
             ],
             [
              0.8888888888888888,
              "#fdca26"
             ],
             [
              1,
              "#f0f921"
             ]
            ],
            "type": "histogram2d"
           }
          ],
          "histogram2dcontour": [
           {
            "colorbar": {
             "outlinewidth": 0,
             "ticks": ""
            },
            "colorscale": [
             [
              0,
              "#0d0887"
             ],
             [
              0.1111111111111111,
              "#46039f"
             ],
             [
              0.2222222222222222,
              "#7201a8"
             ],
             [
              0.3333333333333333,
              "#9c179e"
             ],
             [
              0.4444444444444444,
              "#bd3786"
             ],
             [
              0.5555555555555556,
              "#d8576b"
             ],
             [
              0.6666666666666666,
              "#ed7953"
             ],
             [
              0.7777777777777778,
              "#fb9f3a"
             ],
             [
              0.8888888888888888,
              "#fdca26"
             ],
             [
              1,
              "#f0f921"
             ]
            ],
            "type": "histogram2dcontour"
           }
          ],
          "mesh3d": [
           {
            "colorbar": {
             "outlinewidth": 0,
             "ticks": ""
            },
            "type": "mesh3d"
           }
          ],
          "parcoords": [
           {
            "line": {
             "colorbar": {
              "outlinewidth": 0,
              "ticks": ""
             }
            },
            "type": "parcoords"
           }
          ],
          "pie": [
           {
            "automargin": true,
            "type": "pie"
           }
          ],
          "scatter": [
           {
            "fillpattern": {
             "fillmode": "overlay",
             "size": 10,
             "solidity": 0.2
            },
            "type": "scatter"
           }
          ],
          "scatter3d": [
           {
            "line": {
             "colorbar": {
              "outlinewidth": 0,
              "ticks": ""
             }
            },
            "marker": {
             "colorbar": {
              "outlinewidth": 0,
              "ticks": ""
             }
            },
            "type": "scatter3d"
           }
          ],
          "scattercarpet": [
           {
            "marker": {
             "colorbar": {
              "outlinewidth": 0,
              "ticks": ""
             }
            },
            "type": "scattercarpet"
           }
          ],
          "scattergeo": [
           {
            "marker": {
             "colorbar": {
              "outlinewidth": 0,
              "ticks": ""
             }
            },
            "type": "scattergeo"
           }
          ],
          "scattergl": [
           {
            "marker": {
             "colorbar": {
              "outlinewidth": 0,
              "ticks": ""
             }
            },
            "type": "scattergl"
           }
          ],
          "scattermap": [
           {
            "marker": {
             "colorbar": {
              "outlinewidth": 0,
              "ticks": ""
             }
            },
            "type": "scattermap"
           }
          ],
          "scattermapbox": [
           {
            "marker": {
             "colorbar": {
              "outlinewidth": 0,
              "ticks": ""
             }
            },
            "type": "scattermapbox"
           }
          ],
          "scatterpolar": [
           {
            "marker": {
             "colorbar": {
              "outlinewidth": 0,
              "ticks": ""
             }
            },
            "type": "scatterpolar"
           }
          ],
          "scatterpolargl": [
           {
            "marker": {
             "colorbar": {
              "outlinewidth": 0,
              "ticks": ""
             }
            },
            "type": "scatterpolargl"
           }
          ],
          "scatterternary": [
           {
            "marker": {
             "colorbar": {
              "outlinewidth": 0,
              "ticks": ""
             }
            },
            "type": "scatterternary"
           }
          ],
          "surface": [
           {
            "colorbar": {
             "outlinewidth": 0,
             "ticks": ""
            },
            "colorscale": [
             [
              0,
              "#0d0887"
             ],
             [
              0.1111111111111111,
              "#46039f"
             ],
             [
              0.2222222222222222,
              "#7201a8"
             ],
             [
              0.3333333333333333,
              "#9c179e"
             ],
             [
              0.4444444444444444,
              "#bd3786"
             ],
             [
              0.5555555555555556,
              "#d8576b"
             ],
             [
              0.6666666666666666,
              "#ed7953"
             ],
             [
              0.7777777777777778,
              "#fb9f3a"
             ],
             [
              0.8888888888888888,
              "#fdca26"
             ],
             [
              1,
              "#f0f921"
             ]
            ],
            "type": "surface"
           }
          ],
          "table": [
           {
            "cells": {
             "fill": {
              "color": "#EBF0F8"
             },
             "line": {
              "color": "white"
             }
            },
            "header": {
             "fill": {
              "color": "#C8D4E3"
             },
             "line": {
              "color": "white"
             }
            },
            "type": "table"
           }
          ]
         },
         "layout": {
          "annotationdefaults": {
           "arrowcolor": "#2a3f5f",
           "arrowhead": 0,
           "arrowwidth": 1
          },
          "autotypenumbers": "strict",
          "coloraxis": {
           "colorbar": {
            "outlinewidth": 0,
            "ticks": ""
           }
          },
          "colorscale": {
           "diverging": [
            [
             0,
             "#8e0152"
            ],
            [
             0.1,
             "#c51b7d"
            ],
            [
             0.2,
             "#de77ae"
            ],
            [
             0.3,
             "#f1b6da"
            ],
            [
             0.4,
             "#fde0ef"
            ],
            [
             0.5,
             "#f7f7f7"
            ],
            [
             0.6,
             "#e6f5d0"
            ],
            [
             0.7,
             "#b8e186"
            ],
            [
             0.8,
             "#7fbc41"
            ],
            [
             0.9,
             "#4d9221"
            ],
            [
             1,
             "#276419"
            ]
           ],
           "sequential": [
            [
             0,
             "#0d0887"
            ],
            [
             0.1111111111111111,
             "#46039f"
            ],
            [
             0.2222222222222222,
             "#7201a8"
            ],
            [
             0.3333333333333333,
             "#9c179e"
            ],
            [
             0.4444444444444444,
             "#bd3786"
            ],
            [
             0.5555555555555556,
             "#d8576b"
            ],
            [
             0.6666666666666666,
             "#ed7953"
            ],
            [
             0.7777777777777778,
             "#fb9f3a"
            ],
            [
             0.8888888888888888,
             "#fdca26"
            ],
            [
             1,
             "#f0f921"
            ]
           ],
           "sequentialminus": [
            [
             0,
             "#0d0887"
            ],
            [
             0.1111111111111111,
             "#46039f"
            ],
            [
             0.2222222222222222,
             "#7201a8"
            ],
            [
             0.3333333333333333,
             "#9c179e"
            ],
            [
             0.4444444444444444,
             "#bd3786"
            ],
            [
             0.5555555555555556,
             "#d8576b"
            ],
            [
             0.6666666666666666,
             "#ed7953"
            ],
            [
             0.7777777777777778,
             "#fb9f3a"
            ],
            [
             0.8888888888888888,
             "#fdca26"
            ],
            [
             1,
             "#f0f921"
            ]
           ]
          },
          "colorway": [
           "#636efa",
           "#EF553B",
           "#00cc96",
           "#ab63fa",
           "#FFA15A",
           "#19d3f3",
           "#FF6692",
           "#B6E880",
           "#FF97FF",
           "#FECB52"
          ],
          "font": {
           "color": "#2a3f5f"
          },
          "geo": {
           "bgcolor": "white",
           "lakecolor": "white",
           "landcolor": "#E5ECF6",
           "showlakes": true,
           "showland": true,
           "subunitcolor": "white"
          },
          "hoverlabel": {
           "align": "left"
          },
          "hovermode": "closest",
          "mapbox": {
           "style": "light"
          },
          "paper_bgcolor": "white",
          "plot_bgcolor": "#E5ECF6",
          "polar": {
           "angularaxis": {
            "gridcolor": "white",
            "linecolor": "white",
            "ticks": ""
           },
           "bgcolor": "#E5ECF6",
           "radialaxis": {
            "gridcolor": "white",
            "linecolor": "white",
            "ticks": ""
           }
          },
          "scene": {
           "xaxis": {
            "backgroundcolor": "#E5ECF6",
            "gridcolor": "white",
            "gridwidth": 2,
            "linecolor": "white",
            "showbackground": true,
            "ticks": "",
            "zerolinecolor": "white"
           },
           "yaxis": {
            "backgroundcolor": "#E5ECF6",
            "gridcolor": "white",
            "gridwidth": 2,
            "linecolor": "white",
            "showbackground": true,
            "ticks": "",
            "zerolinecolor": "white"
           },
           "zaxis": {
            "backgroundcolor": "#E5ECF6",
            "gridcolor": "white",
            "gridwidth": 2,
            "linecolor": "white",
            "showbackground": true,
            "ticks": "",
            "zerolinecolor": "white"
           }
          },
          "shapedefaults": {
           "line": {
            "color": "#2a3f5f"
           }
          },
          "ternary": {
           "aaxis": {
            "gridcolor": "white",
            "linecolor": "white",
            "ticks": ""
           },
           "baxis": {
            "gridcolor": "white",
            "linecolor": "white",
            "ticks": ""
           },
           "bgcolor": "#E5ECF6",
           "caxis": {
            "gridcolor": "white",
            "linecolor": "white",
            "ticks": ""
           }
          },
          "title": {
           "x": 0.05
          },
          "xaxis": {
           "automargin": true,
           "gridcolor": "white",
           "linecolor": "white",
           "ticks": "",
           "title": {
            "standoff": 15
           },
           "zerolinecolor": "white",
           "zerolinewidth": 2
          },
          "yaxis": {
           "automargin": true,
           "gridcolor": "white",
           "linecolor": "white",
           "ticks": "",
           "title": {
            "standoff": 15
           },
           "zerolinecolor": "white",
           "zerolinewidth": 2
          }
         }
        },
        "title": {
         "text": "Confusion Matrix"
        },
        "width": 600,
        "xaxis": {
         "anchor": "y",
         "constrain": "domain",
         "domain": [
          0,
          1
         ],
         "scaleanchor": "y",
         "title": {
          "text": "Predicted Category"
         }
        },
        "yaxis": {
         "anchor": "x",
         "autorange": "reversed",
         "constrain": "domain",
         "domain": [
          0,
          1
         ],
         "title": {
          "text": "True Category"
         }
        }
       }
      }
     },
     "metadata": {},
     "output_type": "display_data"
    }
   ],
   "source": [
    "from sklearn.metrics import accuracy_score, confusion_matrix\n",
    "\n",
    "print(\"Train accuracy:\", accuracy_score(y_train, y_train_pred))\n",
    "print(\"Test accuracy:\", accuracy_score(y_test, y_test_pred))\n",
    "\n",
    "cm = confusion_matrix(y_test, y_test_pred, labels=np.unique(y_test))\n",
    "\n",
    "\n",
    "# plot the confusion matrix using plotly\n",
    "fig = px.imshow(\n",
    "    cm,\n",
    "    text_auto=True,\n",
    "    labels=dict(x=\"Predicted Category\", y=\"True Category\", color=\"Count\"),\n",
    "    x=np.unique(y_test),\n",
    "    y=np.unique(y_test),\n",
    "    color_continuous_scale='YlGn',\n",
    "    # aspect=\"auto\",\n",
    "    title=\"Confusion Matrix\",\n",
    "    width=600,\n",
    "    height=600\n",
    ")\n",
    "fig.show()"
   ]
  },
  {
   "cell_type": "markdown",
   "id": "5ea55ec1",
   "metadata": {},
   "source": [
    "Finally, we evaluated the clustering-based classification using a confusion matrix and calculated overall accuracy. The confusion matrix reveals that most samples are correctly grouped into their true categories, with a few misclassifications primarily between related classes such as business and politics. The approach achieved a training accuracy of approximately $88.7%$ and a test accuracy of approximately $88.9%$, indicating that the cluster-to-label mapping generalizes well to unseen data. These results demonstrate that even an unsupervised technique like KMeans, when combined with majority label assignment, can effectively approximate the original categories in this dataset."
   ]
  },
  {
   "cell_type": "markdown",
   "id": "a4d162b1",
   "metadata": {},
   "source": [
    "## Supervised Learning Models\n",
    "\n",
    "Let's train some supervised learning models on the original document vectors and evaluate their performance. There are many supervised learning algorithms that can be used for text classification, for sake of simplicity, I will use a simple logistic regression model. However, you can experiment with other algorithms like SVM, Random Forest, or XGBoost to see if you can achieve better performance."
   ]
  },
  {
   "cell_type": "code",
   "execution_count": 60,
   "id": "fd128eee",
   "metadata": {},
   "outputs": [],
   "source": [
    "from sklearn.linear_model import LogisticRegression\n",
    "clf = LogisticRegression(max_iter=1000, random_state=CONFIG['RANDOM_STATE'])\n",
    "clf.fit(X_train, y_train)\n",
    "\n",
    "# Predictions\n",
    "y_train_pred_supervised = clf.predict(X_train)\n",
    "y_test_pred_supervised= clf.predict(X_test)"
   ]
  },
  {
   "cell_type": "code",
   "execution_count": 61,
   "id": "d914f29f",
   "metadata": {},
   "outputs": [
    {
     "name": "stdout",
     "output_type": "stream",
     "text": [
      "Train accuracy: 0.9605704697986577\n",
      "Test accuracy: 0.9731543624161074\n",
      "               precision    recall  f1-score   support\n",
      "\n",
      "     business       0.96      0.99      0.97        75\n",
      "entertainment       1.00      0.96      0.98        46\n",
      "     politics       0.93      0.98      0.96        56\n",
      "        sport       1.00      1.00      1.00        63\n",
      "         tech       0.98      0.93      0.96        58\n",
      "\n",
      "     accuracy                           0.97       298\n",
      "    macro avg       0.98      0.97      0.97       298\n",
      " weighted avg       0.97      0.97      0.97       298\n",
      "\n"
     ]
    }
   ],
   "source": [
    "from sklearn.metrics import accuracy_score, classification_report\n",
    "\n",
    "print(\"Train accuracy:\", accuracy_score(y_train, y_train_pred_supervised))\n",
    "print(\"Test accuracy:\", accuracy_score(y_test, y_test_pred_supervised))\n",
    "print(classification_report(y_test, y_test_pred_supervised))"
   ]
  },
  {
   "cell_type": "markdown",
   "id": "02116a07",
   "metadata": {},
   "source": [
    "I trained a logistic regression classifier on the original document vectors to perform text classification. The model achieved impressive results, with a training accuracy of approximately $96.1%$ and a test accuracy of approximately $97.3%$, indicating excellent generalization. The detailed classification report shows consistently high precision, recall, and F1-scores across all categories, with particularly perfect scores for the sport class and very strong results for business, entertainment, politics, and tech. These findings demonstrate that even a relatively simple supervised model can effectively capture the distinctions among categories in this dataset.\n",
    "\n",
    "Following plot also shows the confusion matrix for the supervised learning model. The confusion matrix reveals that most samples are correctly classified into their true categories, with only a few misclassifications primarily between related classes such as business and politics. The model's high accuracy and strong performance across all categories indicate its effectiveness in capturing the underlying patterns in the text data."
   ]
  },
  {
   "cell_type": "code",
   "execution_count": 62,
   "id": "606c963f",
   "metadata": {},
   "outputs": [
    {
     "data": {
      "application/vnd.plotly.v1+json": {
       "config": {
        "plotlyServerURL": "https://plot.ly"
       },
       "data": [
        {
         "coloraxis": "coloraxis",
         "hovertemplate": "Predicted Category: %{x}<br>True Category: %{y}<br>Count: %{z}<extra></extra>",
         "name": "0",
         "texttemplate": "%{z}",
         "type": "heatmap",
         "x": [
          "business",
          "entertainment",
          "politics",
          "sport",
          "tech"
         ],
         "xaxis": "x",
         "y": [
          "business",
          "entertainment",
          "politics",
          "sport",
          "tech"
         ],
         "yaxis": "y",
         "z": {
          "bdata": "SgABAAABLAAAAQEANwAAAAAAPwABAAMANg==",
          "dtype": "i1",
          "shape": "5, 5"
         }
        }
       ],
       "layout": {
        "coloraxis": {
         "colorbar": {
          "title": {
           "text": "Count"
          }
         },
         "colorscale": [
          [
           0,
           "rgb(255,255,229)"
          ],
          [
           0.125,
           "rgb(247,252,185)"
          ],
          [
           0.25,
           "rgb(217,240,163)"
          ],
          [
           0.375,
           "rgb(173,221,142)"
          ],
          [
           0.5,
           "rgb(120,198,121)"
          ],
          [
           0.625,
           "rgb(65,171,93)"
          ],
          [
           0.75,
           "rgb(35,132,67)"
          ],
          [
           0.875,
           "rgb(0,104,55)"
          ],
          [
           1,
           "rgb(0,69,41)"
          ]
         ]
        },
        "height": 600,
        "template": {
         "data": {
          "bar": [
           {
            "error_x": {
             "color": "#2a3f5f"
            },
            "error_y": {
             "color": "#2a3f5f"
            },
            "marker": {
             "line": {
              "color": "#E5ECF6",
              "width": 0.5
             },
             "pattern": {
              "fillmode": "overlay",
              "size": 10,
              "solidity": 0.2
             }
            },
            "type": "bar"
           }
          ],
          "barpolar": [
           {
            "marker": {
             "line": {
              "color": "#E5ECF6",
              "width": 0.5
             },
             "pattern": {
              "fillmode": "overlay",
              "size": 10,
              "solidity": 0.2
             }
            },
            "type": "barpolar"
           }
          ],
          "carpet": [
           {
            "aaxis": {
             "endlinecolor": "#2a3f5f",
             "gridcolor": "white",
             "linecolor": "white",
             "minorgridcolor": "white",
             "startlinecolor": "#2a3f5f"
            },
            "baxis": {
             "endlinecolor": "#2a3f5f",
             "gridcolor": "white",
             "linecolor": "white",
             "minorgridcolor": "white",
             "startlinecolor": "#2a3f5f"
            },
            "type": "carpet"
           }
          ],
          "choropleth": [
           {
            "colorbar": {
             "outlinewidth": 0,
             "ticks": ""
            },
            "type": "choropleth"
           }
          ],
          "contour": [
           {
            "colorbar": {
             "outlinewidth": 0,
             "ticks": ""
            },
            "colorscale": [
             [
              0,
              "#0d0887"
             ],
             [
              0.1111111111111111,
              "#46039f"
             ],
             [
              0.2222222222222222,
              "#7201a8"
             ],
             [
              0.3333333333333333,
              "#9c179e"
             ],
             [
              0.4444444444444444,
              "#bd3786"
             ],
             [
              0.5555555555555556,
              "#d8576b"
             ],
             [
              0.6666666666666666,
              "#ed7953"
             ],
             [
              0.7777777777777778,
              "#fb9f3a"
             ],
             [
              0.8888888888888888,
              "#fdca26"
             ],
             [
              1,
              "#f0f921"
             ]
            ],
            "type": "contour"
           }
          ],
          "contourcarpet": [
           {
            "colorbar": {
             "outlinewidth": 0,
             "ticks": ""
            },
            "type": "contourcarpet"
           }
          ],
          "heatmap": [
           {
            "colorbar": {
             "outlinewidth": 0,
             "ticks": ""
            },
            "colorscale": [
             [
              0,
              "#0d0887"
             ],
             [
              0.1111111111111111,
              "#46039f"
             ],
             [
              0.2222222222222222,
              "#7201a8"
             ],
             [
              0.3333333333333333,
              "#9c179e"
             ],
             [
              0.4444444444444444,
              "#bd3786"
             ],
             [
              0.5555555555555556,
              "#d8576b"
             ],
             [
              0.6666666666666666,
              "#ed7953"
             ],
             [
              0.7777777777777778,
              "#fb9f3a"
             ],
             [
              0.8888888888888888,
              "#fdca26"
             ],
             [
              1,
              "#f0f921"
             ]
            ],
            "type": "heatmap"
           }
          ],
          "histogram": [
           {
            "marker": {
             "pattern": {
              "fillmode": "overlay",
              "size": 10,
              "solidity": 0.2
             }
            },
            "type": "histogram"
           }
          ],
          "histogram2d": [
           {
            "colorbar": {
             "outlinewidth": 0,
             "ticks": ""
            },
            "colorscale": [
             [
              0,
              "#0d0887"
             ],
             [
              0.1111111111111111,
              "#46039f"
             ],
             [
              0.2222222222222222,
              "#7201a8"
             ],
             [
              0.3333333333333333,
              "#9c179e"
             ],
             [
              0.4444444444444444,
              "#bd3786"
             ],
             [
              0.5555555555555556,
              "#d8576b"
             ],
             [
              0.6666666666666666,
              "#ed7953"
             ],
             [
              0.7777777777777778,
              "#fb9f3a"
             ],
             [
              0.8888888888888888,
              "#fdca26"
             ],
             [
              1,
              "#f0f921"
             ]
            ],
            "type": "histogram2d"
           }
          ],
          "histogram2dcontour": [
           {
            "colorbar": {
             "outlinewidth": 0,
             "ticks": ""
            },
            "colorscale": [
             [
              0,
              "#0d0887"
             ],
             [
              0.1111111111111111,
              "#46039f"
             ],
             [
              0.2222222222222222,
              "#7201a8"
             ],
             [
              0.3333333333333333,
              "#9c179e"
             ],
             [
              0.4444444444444444,
              "#bd3786"
             ],
             [
              0.5555555555555556,
              "#d8576b"
             ],
             [
              0.6666666666666666,
              "#ed7953"
             ],
             [
              0.7777777777777778,
              "#fb9f3a"
             ],
             [
              0.8888888888888888,
              "#fdca26"
             ],
             [
              1,
              "#f0f921"
             ]
            ],
            "type": "histogram2dcontour"
           }
          ],
          "mesh3d": [
           {
            "colorbar": {
             "outlinewidth": 0,
             "ticks": ""
            },
            "type": "mesh3d"
           }
          ],
          "parcoords": [
           {
            "line": {
             "colorbar": {
              "outlinewidth": 0,
              "ticks": ""
             }
            },
            "type": "parcoords"
           }
          ],
          "pie": [
           {
            "automargin": true,
            "type": "pie"
           }
          ],
          "scatter": [
           {
            "fillpattern": {
             "fillmode": "overlay",
             "size": 10,
             "solidity": 0.2
            },
            "type": "scatter"
           }
          ],
          "scatter3d": [
           {
            "line": {
             "colorbar": {
              "outlinewidth": 0,
              "ticks": ""
             }
            },
            "marker": {
             "colorbar": {
              "outlinewidth": 0,
              "ticks": ""
             }
            },
            "type": "scatter3d"
           }
          ],
          "scattercarpet": [
           {
            "marker": {
             "colorbar": {
              "outlinewidth": 0,
              "ticks": ""
             }
            },
            "type": "scattercarpet"
           }
          ],
          "scattergeo": [
           {
            "marker": {
             "colorbar": {
              "outlinewidth": 0,
              "ticks": ""
             }
            },
            "type": "scattergeo"
           }
          ],
          "scattergl": [
           {
            "marker": {
             "colorbar": {
              "outlinewidth": 0,
              "ticks": ""
             }
            },
            "type": "scattergl"
           }
          ],
          "scattermap": [
           {
            "marker": {
             "colorbar": {
              "outlinewidth": 0,
              "ticks": ""
             }
            },
            "type": "scattermap"
           }
          ],
          "scattermapbox": [
           {
            "marker": {
             "colorbar": {
              "outlinewidth": 0,
              "ticks": ""
             }
            },
            "type": "scattermapbox"
           }
          ],
          "scatterpolar": [
           {
            "marker": {
             "colorbar": {
              "outlinewidth": 0,
              "ticks": ""
             }
            },
            "type": "scatterpolar"
           }
          ],
          "scatterpolargl": [
           {
            "marker": {
             "colorbar": {
              "outlinewidth": 0,
              "ticks": ""
             }
            },
            "type": "scatterpolargl"
           }
          ],
          "scatterternary": [
           {
            "marker": {
             "colorbar": {
              "outlinewidth": 0,
              "ticks": ""
             }
            },
            "type": "scatterternary"
           }
          ],
          "surface": [
           {
            "colorbar": {
             "outlinewidth": 0,
             "ticks": ""
            },
            "colorscale": [
             [
              0,
              "#0d0887"
             ],
             [
              0.1111111111111111,
              "#46039f"
             ],
             [
              0.2222222222222222,
              "#7201a8"
             ],
             [
              0.3333333333333333,
              "#9c179e"
             ],
             [
              0.4444444444444444,
              "#bd3786"
             ],
             [
              0.5555555555555556,
              "#d8576b"
             ],
             [
              0.6666666666666666,
              "#ed7953"
             ],
             [
              0.7777777777777778,
              "#fb9f3a"
             ],
             [
              0.8888888888888888,
              "#fdca26"
             ],
             [
              1,
              "#f0f921"
             ]
            ],
            "type": "surface"
           }
          ],
          "table": [
           {
            "cells": {
             "fill": {
              "color": "#EBF0F8"
             },
             "line": {
              "color": "white"
             }
            },
            "header": {
             "fill": {
              "color": "#C8D4E3"
             },
             "line": {
              "color": "white"
             }
            },
            "type": "table"
           }
          ]
         },
         "layout": {
          "annotationdefaults": {
           "arrowcolor": "#2a3f5f",
           "arrowhead": 0,
           "arrowwidth": 1
          },
          "autotypenumbers": "strict",
          "coloraxis": {
           "colorbar": {
            "outlinewidth": 0,
            "ticks": ""
           }
          },
          "colorscale": {
           "diverging": [
            [
             0,
             "#8e0152"
            ],
            [
             0.1,
             "#c51b7d"
            ],
            [
             0.2,
             "#de77ae"
            ],
            [
             0.3,
             "#f1b6da"
            ],
            [
             0.4,
             "#fde0ef"
            ],
            [
             0.5,
             "#f7f7f7"
            ],
            [
             0.6,
             "#e6f5d0"
            ],
            [
             0.7,
             "#b8e186"
            ],
            [
             0.8,
             "#7fbc41"
            ],
            [
             0.9,
             "#4d9221"
            ],
            [
             1,
             "#276419"
            ]
           ],
           "sequential": [
            [
             0,
             "#0d0887"
            ],
            [
             0.1111111111111111,
             "#46039f"
            ],
            [
             0.2222222222222222,
             "#7201a8"
            ],
            [
             0.3333333333333333,
             "#9c179e"
            ],
            [
             0.4444444444444444,
             "#bd3786"
            ],
            [
             0.5555555555555556,
             "#d8576b"
            ],
            [
             0.6666666666666666,
             "#ed7953"
            ],
            [
             0.7777777777777778,
             "#fb9f3a"
            ],
            [
             0.8888888888888888,
             "#fdca26"
            ],
            [
             1,
             "#f0f921"
            ]
           ],
           "sequentialminus": [
            [
             0,
             "#0d0887"
            ],
            [
             0.1111111111111111,
             "#46039f"
            ],
            [
             0.2222222222222222,
             "#7201a8"
            ],
            [
             0.3333333333333333,
             "#9c179e"
            ],
            [
             0.4444444444444444,
             "#bd3786"
            ],
            [
             0.5555555555555556,
             "#d8576b"
            ],
            [
             0.6666666666666666,
             "#ed7953"
            ],
            [
             0.7777777777777778,
             "#fb9f3a"
            ],
            [
             0.8888888888888888,
             "#fdca26"
            ],
            [
             1,
             "#f0f921"
            ]
           ]
          },
          "colorway": [
           "#636efa",
           "#EF553B",
           "#00cc96",
           "#ab63fa",
           "#FFA15A",
           "#19d3f3",
           "#FF6692",
           "#B6E880",
           "#FF97FF",
           "#FECB52"
          ],
          "font": {
           "color": "#2a3f5f"
          },
          "geo": {
           "bgcolor": "white",
           "lakecolor": "white",
           "landcolor": "#E5ECF6",
           "showlakes": true,
           "showland": true,
           "subunitcolor": "white"
          },
          "hoverlabel": {
           "align": "left"
          },
          "hovermode": "closest",
          "mapbox": {
           "style": "light"
          },
          "paper_bgcolor": "white",
          "plot_bgcolor": "#E5ECF6",
          "polar": {
           "angularaxis": {
            "gridcolor": "white",
            "linecolor": "white",
            "ticks": ""
           },
           "bgcolor": "#E5ECF6",
           "radialaxis": {
            "gridcolor": "white",
            "linecolor": "white",
            "ticks": ""
           }
          },
          "scene": {
           "xaxis": {
            "backgroundcolor": "#E5ECF6",
            "gridcolor": "white",
            "gridwidth": 2,
            "linecolor": "white",
            "showbackground": true,
            "ticks": "",
            "zerolinecolor": "white"
           },
           "yaxis": {
            "backgroundcolor": "#E5ECF6",
            "gridcolor": "white",
            "gridwidth": 2,
            "linecolor": "white",
            "showbackground": true,
            "ticks": "",
            "zerolinecolor": "white"
           },
           "zaxis": {
            "backgroundcolor": "#E5ECF6",
            "gridcolor": "white",
            "gridwidth": 2,
            "linecolor": "white",
            "showbackground": true,
            "ticks": "",
            "zerolinecolor": "white"
           }
          },
          "shapedefaults": {
           "line": {
            "color": "#2a3f5f"
           }
          },
          "ternary": {
           "aaxis": {
            "gridcolor": "white",
            "linecolor": "white",
            "ticks": ""
           },
           "baxis": {
            "gridcolor": "white",
            "linecolor": "white",
            "ticks": ""
           },
           "bgcolor": "#E5ECF6",
           "caxis": {
            "gridcolor": "white",
            "linecolor": "white",
            "ticks": ""
           }
          },
          "title": {
           "x": 0.05
          },
          "xaxis": {
           "automargin": true,
           "gridcolor": "white",
           "linecolor": "white",
           "ticks": "",
           "title": {
            "standoff": 15
           },
           "zerolinecolor": "white",
           "zerolinewidth": 2
          },
          "yaxis": {
           "automargin": true,
           "gridcolor": "white",
           "linecolor": "white",
           "ticks": "",
           "title": {
            "standoff": 15
           },
           "zerolinecolor": "white",
           "zerolinewidth": 2
          }
         }
        },
        "title": {
         "text": "Confusion Matrix"
        },
        "width": 600,
        "xaxis": {
         "anchor": "y",
         "constrain": "domain",
         "domain": [
          0,
          1
         ],
         "scaleanchor": "y",
         "title": {
          "text": "Predicted Category"
         }
        },
        "yaxis": {
         "anchor": "x",
         "autorange": "reversed",
         "constrain": "domain",
         "domain": [
          0,
          1
         ],
         "title": {
          "text": "True Category"
         }
        }
       }
      }
     },
     "metadata": {},
     "output_type": "display_data"
    }
   ],
   "source": [
    "cm = confusion_matrix(y_test, y_test_pred_supervised, labels=np.unique(y_test))\n",
    "\n",
    "\n",
    "# plot the confusion matrix using plotly\n",
    "fig = px.imshow(\n",
    "    cm,\n",
    "    text_auto=True,\n",
    "    labels=dict(x=\"Predicted Category\", y=\"True Category\", color=\"Count\"),\n",
    "    x=np.unique(y_test),\n",
    "    y=np.unique(y_test),\n",
    "    color_continuous_scale='YlGn',\n",
    "    # aspect=\"auto\",\n",
    "    title=\"Confusion Matrix\",\n",
    "    width=600,\n",
    "    height=600\n",
    ")\n",
    "fig.show()"
   ]
  },
  {
   "cell_type": "markdown",
   "id": "7ccced6c",
   "metadata": {},
   "source": [
    "## Learning Curve Analysis\n",
    "\n",
    "To investigate how the amount of training data influences model performance, we trained the logistic regression classifier on progressively larger fractions of the training set, ranging from $1%$ to nearly $100%$. The results show that the test accuracy increased rapidly with the addition of more data: starting at ~$46%$ with just $1%$ of the data, surpassing $90%$ by around $5%$, and reaching over $97%$ once about $95%$ of the data was used. Beyond this point, the accuracy plateaued, indicating that the model had effectively learned the patterns in the data. This analysis highlights the significant impact of training set size on classifier performance, especially in the early stages, and confirms that our dataset is sufficiently large to achieve strong generalization.\n",
    "\n"
   ]
  },
  {
   "cell_type": "code",
   "execution_count": 63,
   "id": "7acdd499",
   "metadata": {},
   "outputs": [
    {
     "name": "stdout",
     "output_type": "stream",
     "text": [
      "Train size: 1.000% -> Test accuracy: 0.463087\n",
      "Train size: 3.000% -> Test accuracy: 0.758389\n",
      "Train size: 5.000% -> Test accuracy: 0.912752\n",
      "Train size: 8.000% -> Test accuracy: 0.932886\n",
      "Train size: 10.000% -> Test accuracy: 0.936242\n",
      "Train size: 20.000% -> Test accuracy: 0.953020\n",
      "Train size: 30.000% -> Test accuracy: 0.969799\n",
      "Train size: 40.000% -> Test accuracy: 0.969799\n",
      "Train size: 50.000% -> Test accuracy: 0.966443\n",
      "Train size: 60.000% -> Test accuracy: 0.969799\n",
      "Train size: 70.000% -> Test accuracy: 0.966443\n",
      "Train size: 80.000% -> Test accuracy: 0.966443\n",
      "Train size: 90.000% -> Test accuracy: 0.969799\n",
      "Train size: 95.000% -> Test accuracy: 0.973154\n",
      "Train size: 99.000% -> Test accuracy: 0.976510\n",
      "Train size: 99.900% -> Test accuracy: 0.976510\n",
      "Train size: 99.990% -> Test accuracy: 0.976510\n",
      "Train size: 99.999% -> Test accuracy: 0.976510\n"
     ]
    }
   ],
   "source": [
    "train_sizes = []\n",
    "accuracies = []\n",
    "train_fracs = [0.01, 0.03, 0.05, 0.08, 0.1, 0.2, 0.3, 0.4, 0.5, 0.6, 0.7, 0.8, 0.90, 0.95, 0.99, 0.999, 0.9999, 0.99999]\n",
    "\n",
    "for frac in train_fracs:\n",
    "    X_partial, _, y_partial, _ = train_test_split(X_train, y_train, train_size=frac, random_state=CONFIG['RANDOM_STATE'])\n",
    "    clf.fit(X_partial, y_partial)\n",
    "    y_test_pred = clf.predict(X_test)\n",
    "    acc = accuracy_score(y_test, y_test_pred)\n",
    "    train_sizes.append(frac * 100)  # percent\n",
    "    accuracies.append(acc)\n",
    "    print(f\"Train size: {frac*100:.3f}% -> Test accuracy: {acc:.6f}\")\n"
   ]
  },
  {
   "cell_type": "code",
   "execution_count": 64,
   "id": "68ed627e",
   "metadata": {},
   "outputs": [
    {
     "data": {
      "application/vnd.plotly.v1+json": {
       "config": {
        "plotlyServerURL": "https://plot.ly"
       },
       "data": [
        {
         "hovertemplate": "Training Data Size (%)=%{x}<br>Test Accuracy=%{y}<extra></extra>",
         "legendgroup": "",
         "line": {
          "color": "#636efa",
          "dash": "solid"
         },
         "marker": {
          "symbol": "circle"
         },
         "mode": "lines+markers",
         "name": "",
         "orientation": "v",
         "showlegend": false,
         "type": "scatter",
         "x": {
          "bdata": "AAAAAAAA8D8AAAAAAAAIQAAAAAAAABRAAAAAAAAAIEAAAAAAAAAkQAAAAAAAADRAAAAAAAAAPkAAAAAAAABEQAAAAAAAAElAAAAAAAAATkAAAAAAAIBRQAAAAAAAAFRAAAAAAACAVkAAAAAAAMBXQAAAAAAAwFhAmpmZmZn5WECPwvUoXP9YQA8tsp3v/1hA",
          "dtype": "f8"
         },
         "xaxis": "x",
         "y": {
          "bdata": "kj+vsjij3T+BoZqOuUToP8TWtwFDNe0/+fMqizPa7T8tzmj3sPXtPy4RnhQkf+4/MFTTMZcI7z8wVNMxlwjvP/15lcUZ7e4/MFTTMZcI7z/9eZXFGe3uP/15lcUZ7e4/MFTTMZcI7z9kLhGeFCTvP5cITwqSP+8/lwhPCpI/7z+XCE8Kkj/vP5cITwqSP+8/",
          "dtype": "f8"
         },
         "yaxis": "y"
        }
       ],
       "layout": {
        "height": 600,
        "legend": {
         "tracegroupgap": 0
        },
        "template": {
         "data": {
          "bar": [
           {
            "error_x": {
             "color": "#2a3f5f"
            },
            "error_y": {
             "color": "#2a3f5f"
            },
            "marker": {
             "line": {
              "color": "#E5ECF6",
              "width": 0.5
             },
             "pattern": {
              "fillmode": "overlay",
              "size": 10,
              "solidity": 0.2
             }
            },
            "type": "bar"
           }
          ],
          "barpolar": [
           {
            "marker": {
             "line": {
              "color": "#E5ECF6",
              "width": 0.5
             },
             "pattern": {
              "fillmode": "overlay",
              "size": 10,
              "solidity": 0.2
             }
            },
            "type": "barpolar"
           }
          ],
          "carpet": [
           {
            "aaxis": {
             "endlinecolor": "#2a3f5f",
             "gridcolor": "white",
             "linecolor": "white",
             "minorgridcolor": "white",
             "startlinecolor": "#2a3f5f"
            },
            "baxis": {
             "endlinecolor": "#2a3f5f",
             "gridcolor": "white",
             "linecolor": "white",
             "minorgridcolor": "white",
             "startlinecolor": "#2a3f5f"
            },
            "type": "carpet"
           }
          ],
          "choropleth": [
           {
            "colorbar": {
             "outlinewidth": 0,
             "ticks": ""
            },
            "type": "choropleth"
           }
          ],
          "contour": [
           {
            "colorbar": {
             "outlinewidth": 0,
             "ticks": ""
            },
            "colorscale": [
             [
              0,
              "#0d0887"
             ],
             [
              0.1111111111111111,
              "#46039f"
             ],
             [
              0.2222222222222222,
              "#7201a8"
             ],
             [
              0.3333333333333333,
              "#9c179e"
             ],
             [
              0.4444444444444444,
              "#bd3786"
             ],
             [
              0.5555555555555556,
              "#d8576b"
             ],
             [
              0.6666666666666666,
              "#ed7953"
             ],
             [
              0.7777777777777778,
              "#fb9f3a"
             ],
             [
              0.8888888888888888,
              "#fdca26"
             ],
             [
              1,
              "#f0f921"
             ]
            ],
            "type": "contour"
           }
          ],
          "contourcarpet": [
           {
            "colorbar": {
             "outlinewidth": 0,
             "ticks": ""
            },
            "type": "contourcarpet"
           }
          ],
          "heatmap": [
           {
            "colorbar": {
             "outlinewidth": 0,
             "ticks": ""
            },
            "colorscale": [
             [
              0,
              "#0d0887"
             ],
             [
              0.1111111111111111,
              "#46039f"
             ],
             [
              0.2222222222222222,
              "#7201a8"
             ],
             [
              0.3333333333333333,
              "#9c179e"
             ],
             [
              0.4444444444444444,
              "#bd3786"
             ],
             [
              0.5555555555555556,
              "#d8576b"
             ],
             [
              0.6666666666666666,
              "#ed7953"
             ],
             [
              0.7777777777777778,
              "#fb9f3a"
             ],
             [
              0.8888888888888888,
              "#fdca26"
             ],
             [
              1,
              "#f0f921"
             ]
            ],
            "type": "heatmap"
           }
          ],
          "histogram": [
           {
            "marker": {
             "pattern": {
              "fillmode": "overlay",
              "size": 10,
              "solidity": 0.2
             }
            },
            "type": "histogram"
           }
          ],
          "histogram2d": [
           {
            "colorbar": {
             "outlinewidth": 0,
             "ticks": ""
            },
            "colorscale": [
             [
              0,
              "#0d0887"
             ],
             [
              0.1111111111111111,
              "#46039f"
             ],
             [
              0.2222222222222222,
              "#7201a8"
             ],
             [
              0.3333333333333333,
              "#9c179e"
             ],
             [
              0.4444444444444444,
              "#bd3786"
             ],
             [
              0.5555555555555556,
              "#d8576b"
             ],
             [
              0.6666666666666666,
              "#ed7953"
             ],
             [
              0.7777777777777778,
              "#fb9f3a"
             ],
             [
              0.8888888888888888,
              "#fdca26"
             ],
             [
              1,
              "#f0f921"
             ]
            ],
            "type": "histogram2d"
           }
          ],
          "histogram2dcontour": [
           {
            "colorbar": {
             "outlinewidth": 0,
             "ticks": ""
            },
            "colorscale": [
             [
              0,
              "#0d0887"
             ],
             [
              0.1111111111111111,
              "#46039f"
             ],
             [
              0.2222222222222222,
              "#7201a8"
             ],
             [
              0.3333333333333333,
              "#9c179e"
             ],
             [
              0.4444444444444444,
              "#bd3786"
             ],
             [
              0.5555555555555556,
              "#d8576b"
             ],
             [
              0.6666666666666666,
              "#ed7953"
             ],
             [
              0.7777777777777778,
              "#fb9f3a"
             ],
             [
              0.8888888888888888,
              "#fdca26"
             ],
             [
              1,
              "#f0f921"
             ]
            ],
            "type": "histogram2dcontour"
           }
          ],
          "mesh3d": [
           {
            "colorbar": {
             "outlinewidth": 0,
             "ticks": ""
            },
            "type": "mesh3d"
           }
          ],
          "parcoords": [
           {
            "line": {
             "colorbar": {
              "outlinewidth": 0,
              "ticks": ""
             }
            },
            "type": "parcoords"
           }
          ],
          "pie": [
           {
            "automargin": true,
            "type": "pie"
           }
          ],
          "scatter": [
           {
            "fillpattern": {
             "fillmode": "overlay",
             "size": 10,
             "solidity": 0.2
            },
            "type": "scatter"
           }
          ],
          "scatter3d": [
           {
            "line": {
             "colorbar": {
              "outlinewidth": 0,
              "ticks": ""
             }
            },
            "marker": {
             "colorbar": {
              "outlinewidth": 0,
              "ticks": ""
             }
            },
            "type": "scatter3d"
           }
          ],
          "scattercarpet": [
           {
            "marker": {
             "colorbar": {
              "outlinewidth": 0,
              "ticks": ""
             }
            },
            "type": "scattercarpet"
           }
          ],
          "scattergeo": [
           {
            "marker": {
             "colorbar": {
              "outlinewidth": 0,
              "ticks": ""
             }
            },
            "type": "scattergeo"
           }
          ],
          "scattergl": [
           {
            "marker": {
             "colorbar": {
              "outlinewidth": 0,
              "ticks": ""
             }
            },
            "type": "scattergl"
           }
          ],
          "scattermap": [
           {
            "marker": {
             "colorbar": {
              "outlinewidth": 0,
              "ticks": ""
             }
            },
            "type": "scattermap"
           }
          ],
          "scattermapbox": [
           {
            "marker": {
             "colorbar": {
              "outlinewidth": 0,
              "ticks": ""
             }
            },
            "type": "scattermapbox"
           }
          ],
          "scatterpolar": [
           {
            "marker": {
             "colorbar": {
              "outlinewidth": 0,
              "ticks": ""
             }
            },
            "type": "scatterpolar"
           }
          ],
          "scatterpolargl": [
           {
            "marker": {
             "colorbar": {
              "outlinewidth": 0,
              "ticks": ""
             }
            },
            "type": "scatterpolargl"
           }
          ],
          "scatterternary": [
           {
            "marker": {
             "colorbar": {
              "outlinewidth": 0,
              "ticks": ""
             }
            },
            "type": "scatterternary"
           }
          ],
          "surface": [
           {
            "colorbar": {
             "outlinewidth": 0,
             "ticks": ""
            },
            "colorscale": [
             [
              0,
              "#0d0887"
             ],
             [
              0.1111111111111111,
              "#46039f"
             ],
             [
              0.2222222222222222,
              "#7201a8"
             ],
             [
              0.3333333333333333,
              "#9c179e"
             ],
             [
              0.4444444444444444,
              "#bd3786"
             ],
             [
              0.5555555555555556,
              "#d8576b"
             ],
             [
              0.6666666666666666,
              "#ed7953"
             ],
             [
              0.7777777777777778,
              "#fb9f3a"
             ],
             [
              0.8888888888888888,
              "#fdca26"
             ],
             [
              1,
              "#f0f921"
             ]
            ],
            "type": "surface"
           }
          ],
          "table": [
           {
            "cells": {
             "fill": {
              "color": "#EBF0F8"
             },
             "line": {
              "color": "white"
             }
            },
            "header": {
             "fill": {
              "color": "#C8D4E3"
             },
             "line": {
              "color": "white"
             }
            },
            "type": "table"
           }
          ]
         },
         "layout": {
          "annotationdefaults": {
           "arrowcolor": "#2a3f5f",
           "arrowhead": 0,
           "arrowwidth": 1
          },
          "autotypenumbers": "strict",
          "coloraxis": {
           "colorbar": {
            "outlinewidth": 0,
            "ticks": ""
           }
          },
          "colorscale": {
           "diverging": [
            [
             0,
             "#8e0152"
            ],
            [
             0.1,
             "#c51b7d"
            ],
            [
             0.2,
             "#de77ae"
            ],
            [
             0.3,
             "#f1b6da"
            ],
            [
             0.4,
             "#fde0ef"
            ],
            [
             0.5,
             "#f7f7f7"
            ],
            [
             0.6,
             "#e6f5d0"
            ],
            [
             0.7,
             "#b8e186"
            ],
            [
             0.8,
             "#7fbc41"
            ],
            [
             0.9,
             "#4d9221"
            ],
            [
             1,
             "#276419"
            ]
           ],
           "sequential": [
            [
             0,
             "#0d0887"
            ],
            [
             0.1111111111111111,
             "#46039f"
            ],
            [
             0.2222222222222222,
             "#7201a8"
            ],
            [
             0.3333333333333333,
             "#9c179e"
            ],
            [
             0.4444444444444444,
             "#bd3786"
            ],
            [
             0.5555555555555556,
             "#d8576b"
            ],
            [
             0.6666666666666666,
             "#ed7953"
            ],
            [
             0.7777777777777778,
             "#fb9f3a"
            ],
            [
             0.8888888888888888,
             "#fdca26"
            ],
            [
             1,
             "#f0f921"
            ]
           ],
           "sequentialminus": [
            [
             0,
             "#0d0887"
            ],
            [
             0.1111111111111111,
             "#46039f"
            ],
            [
             0.2222222222222222,
             "#7201a8"
            ],
            [
             0.3333333333333333,
             "#9c179e"
            ],
            [
             0.4444444444444444,
             "#bd3786"
            ],
            [
             0.5555555555555556,
             "#d8576b"
            ],
            [
             0.6666666666666666,
             "#ed7953"
            ],
            [
             0.7777777777777778,
             "#fb9f3a"
            ],
            [
             0.8888888888888888,
             "#fdca26"
            ],
            [
             1,
             "#f0f921"
            ]
           ]
          },
          "colorway": [
           "#636efa",
           "#EF553B",
           "#00cc96",
           "#ab63fa",
           "#FFA15A",
           "#19d3f3",
           "#FF6692",
           "#B6E880",
           "#FF97FF",
           "#FECB52"
          ],
          "font": {
           "color": "#2a3f5f"
          },
          "geo": {
           "bgcolor": "white",
           "lakecolor": "white",
           "landcolor": "#E5ECF6",
           "showlakes": true,
           "showland": true,
           "subunitcolor": "white"
          },
          "hoverlabel": {
           "align": "left"
          },
          "hovermode": "closest",
          "mapbox": {
           "style": "light"
          },
          "paper_bgcolor": "white",
          "plot_bgcolor": "#E5ECF6",
          "polar": {
           "angularaxis": {
            "gridcolor": "white",
            "linecolor": "white",
            "ticks": ""
           },
           "bgcolor": "#E5ECF6",
           "radialaxis": {
            "gridcolor": "white",
            "linecolor": "white",
            "ticks": ""
           }
          },
          "scene": {
           "xaxis": {
            "backgroundcolor": "#E5ECF6",
            "gridcolor": "white",
            "gridwidth": 2,
            "linecolor": "white",
            "showbackground": true,
            "ticks": "",
            "zerolinecolor": "white"
           },
           "yaxis": {
            "backgroundcolor": "#E5ECF6",
            "gridcolor": "white",
            "gridwidth": 2,
            "linecolor": "white",
            "showbackground": true,
            "ticks": "",
            "zerolinecolor": "white"
           },
           "zaxis": {
            "backgroundcolor": "#E5ECF6",
            "gridcolor": "white",
            "gridwidth": 2,
            "linecolor": "white",
            "showbackground": true,
            "ticks": "",
            "zerolinecolor": "white"
           }
          },
          "shapedefaults": {
           "line": {
            "color": "#2a3f5f"
           }
          },
          "ternary": {
           "aaxis": {
            "gridcolor": "white",
            "linecolor": "white",
            "ticks": ""
           },
           "baxis": {
            "gridcolor": "white",
            "linecolor": "white",
            "ticks": ""
           },
           "bgcolor": "#E5ECF6",
           "caxis": {
            "gridcolor": "white",
            "linecolor": "white",
            "ticks": ""
           }
          },
          "title": {
           "x": 0.05
          },
          "xaxis": {
           "automargin": true,
           "gridcolor": "white",
           "linecolor": "white",
           "ticks": "",
           "title": {
            "standoff": 15
           },
           "zerolinecolor": "white",
           "zerolinewidth": 2
          },
          "yaxis": {
           "automargin": true,
           "gridcolor": "white",
           "linecolor": "white",
           "ticks": "",
           "title": {
            "standoff": 15
           },
           "zerolinecolor": "white",
           "zerolinewidth": 2
          }
         }
        },
        "title": {
         "text": "Test Accuracy vs Training Data Size (Supervised Learning)"
        },
        "width": 800,
        "xaxis": {
         "anchor": "y",
         "domain": [
          0,
          1
         ],
         "title": {
          "text": "Training Data Size (%)"
         }
        },
        "yaxis": {
         "anchor": "x",
         "domain": [
          0,
          1
         ],
         "range": [
          0,
          1
         ],
         "title": {
          "text": "Test Accuracy"
         }
        }
       }
      }
     },
     "metadata": {},
     "output_type": "display_data"
    }
   ],
   "source": [
    "df_plot = pd.DataFrame({\n",
    "    'Train Size (%)': train_sizes,\n",
    "    'Test Accuracy': accuracies\n",
    "})\n",
    "\n",
    "fig = px.line(\n",
    "    df_plot, \n",
    "    x='Train Size (%)', \n",
    "    y='Test Accuracy', \n",
    "    markers=True,\n",
    "    title='Test Accuracy vs Training Data Size (Supervised Learning)',\n",
    "    labels={'Train Size (%)': 'Training Data Size (%)', 'Test Accuracy': 'Test Accuracy'},\n",
    "    width=800,\n",
    "    height=600\n",
    ")\n",
    "fig.update_layout(yaxis=dict(range=[0,1]))  # fix scale to [0,1]\n",
    "fig.show()"
   ]
  },
  {
   "cell_type": "markdown",
   "id": "691da67a",
   "metadata": {},
   "source": [
    "## References\n",
    "- Pennington et al. \"GloVe: Global Vectors for Word Representation.\" EMNLP 2014.\n",
    "- [sklearn documentation](https://scikit-learn.org/stable/documentation.html)\n",
    "- [NLTK documentation](https://www.nltk.org/howto/tokenize.html)\n",
    "- [DTSA 5747: Fundamentals of Natural Language Processing](https://www.colorado.edu/program/data-science/coursera/curriculum/dtsa5747)"
   ]
  },
  {
   "cell_type": "markdown",
   "id": "c2500177",
   "metadata": {},
   "source": []
  }
 ],
 "metadata": {
  "kernelspec": {
   "display_name": "csca-5632-bbc-news",
   "language": "python",
   "name": "python3"
  },
  "language_info": {
   "codemirror_mode": {
    "name": "ipython",
    "version": 3
   },
   "file_extension": ".py",
   "mimetype": "text/x-python",
   "name": "python",
   "nbconvert_exporter": "python",
   "pygments_lexer": "ipython3",
   "version": "3.10.16"
  }
 },
 "nbformat": 4,
 "nbformat_minor": 5
}
