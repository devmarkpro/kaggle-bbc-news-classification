{
 "cells": [
  {
   "cell_type": "markdown",
   "id": "90e92cf3",
   "metadata": {},
   "source": [
    "# BBC News Classification"
   ]
  },
  {
   "cell_type": "code",
   "execution_count": 1,
   "id": "e3f165d4",
   "metadata": {},
   "outputs": [],
   "source": [
    "import numpy as np\n",
    "import pandas as pd\n",
    "from plotly.subplots import make_subplots\n",
    "import plotly.graph_objects as go\n",
    "import plotly.express as px\n",
    "from gensim.downloader import load\n",
    "import nltk\n",
    "from nltk.tokenize import word_tokenize\n",
    "from nltk.corpus import stopwords\n",
    "import re\n",
    "from sklearn.decomposition import PCA\n",
    "from sklearn.decomposition import TruncatedSVD\n",
    "from sklearn.cluster import KMeans\n",
    "from sklearn.model_selection import train_test_split\n",
    "from sklearn.metrics import accuracy_score, confusion_matrix, classification_report\n",
    "from sklearn.linear_model import LogisticRegression\n"
   ]
  },
  {
   "cell_type": "markdown",
   "id": "fa0928a8",
   "metadata": {},
   "source": [
    "## GloVe\n",
    "GloVe (Global Vectors for Word Representation) is an unsupervised learning algorithm for obtaining vector representations for words. It is based on the idea that the meaning of a word can be inferred from the context in which it appears. GloVe constructs a word vector space such that the dot product of two word vectors equals the logarithm of the probability of their co-occurrence.\n",
    "\n",
    "For example, if two words like economic and finance are not appeared together in a document, algorithms like tf-idf will assign them a low similarity score, while GloVe will assign them a high similarity score based on their co-occurrence in the corpus.\n",
    "\n",
    "For more information, you can refer to the [GloVe Website](https://nlp.stanford.edu/projects/glove/)."
   ]
  },
  {
   "cell_type": "code",
   "execution_count": 2,
   "id": "de0f55bc",
   "metadata": {},
   "outputs": [],
   "source": [
    "glove_model = load(\"glove-wiki-gigaword-100\")"
   ]
  },
  {
   "cell_type": "markdown",
   "id": "2fee1eff",
   "metadata": {},
   "source": [
    "## Natural Language Toolkit (NLTK)\n",
    "\n",
    "The Natural Language Toolkit (NLTK) is a set of libraries and programs for symbolic and NLP for the Python programming language. It provides easy-to-use interfaces to over 50 corpora and lexical resources, along with a suite of text processing libraries for classification, tokenization, stemming, tagging, parsing, and semantic reasoning.\n",
    "\n",
    "In this assignment, we will use NLTK to preprocess the news articles. This includes only tokenization, however, NLTK provides many other functionalities that can be useful for NLP tasks like stemming, lemmatization, and part-of-speech tagging.\n",
    "\n",
    "### Tokenization\n",
    "Tokenization is the process of splitting a text into individual words or tokens. NLTK provides a simple way to tokenize text using the `word_tokenize` function. This function splits the text into words and punctuation, returning a list of tokens."
   ]
  },
  {
   "cell_type": "code",
   "execution_count": 3,
   "id": "334b4de1",
   "metadata": {},
   "outputs": [
    {
     "name": "stderr",
     "output_type": "stream",
     "text": [
      "[nltk_data] Downloading package punkt to /Users/mark/nltk_data...\n",
      "[nltk_data]   Package punkt is already up-to-date!\n",
      "[nltk_data] Downloading package punkt_tab to /Users/mark/nltk_data...\n",
      "[nltk_data]   Package punkt_tab is already up-to-date!\n"
     ]
    },
    {
     "data": {
      "text/plain": [
       "True"
      ]
     },
     "execution_count": 3,
     "metadata": {},
     "output_type": "execute_result"
    }
   ],
   "source": [
    "nltk.download('punkt')\n",
    "nltk.download('punkt_tab')"
   ]
  },
  {
   "cell_type": "code",
   "execution_count": 4,
   "id": "6244b883",
   "metadata": {},
   "outputs": [],
   "source": [
    "CONFIG = {\n",
    "    \"train_path\": \"./learn-ai-bbc/BBC_News_Train.csv\",\n",
    "    \"test_path\": \"./learn-ai-bbc/BBC_News_Test.csv\",\n",
    "    \"sample_solution_path\": \"./learn-ai-bbc/BBC_News_Sample_Solution.csv\",\n",
    "    \"RANDOM_STATE\": 42,\n",
    "    \"DEFAULT_TEST_SIZE\": 0.2,\n",
    "    \"DEFAULT_TRAIN_SIZE\": 0.8\n",
    "}"
   ]
  },
  {
   "cell_type": "code",
   "execution_count": 5,
   "id": "9d4f782f",
   "metadata": {},
   "outputs": [],
   "source": [
    "def load_data(train_path: str, test_path: str, sample_solution_path: str) -> tuple:\n",
    "    \"\"\"\n",
    "    Load the train, test, and sample solution datasets.\n",
    "\n",
    "    Args:\n",
    "        train_path (str): Path to the training dataset.\n",
    "        test_path (str): Path to the test dataset.\n",
    "        sample_solution_path (str): Path to the sample solution dataset.\n",
    "\n",
    "    Returns:\n",
    "        tuple: A tuple containing the train, test, and sample solution DataFrames.\n",
    "    \"\"\"\n",
    "    train_df = pd.read_csv(train_path)\n",
    "    test_df = pd.read_csv(test_path)\n",
    "    sample_solution_df = pd.read_csv(sample_solution_path)\n",
    "\n",
    "    return train_df, test_df, sample_solution_df"
   ]
  },
  {
   "cell_type": "code",
   "execution_count": 6,
   "id": "6ee6389a",
   "metadata": {},
   "outputs": [],
   "source": [
    "train_df, test_df, sample_solution_df = load_data(\n",
    "    train_path=CONFIG[\"train_path\"],\n",
    "    test_path=CONFIG[\"test_path\"],\n",
    "    sample_solution_path=CONFIG[\"sample_solution_path\"]\n",
    ")"
   ]
  },
  {
   "cell_type": "code",
   "execution_count": 7,
   "id": "a6ce78b6",
   "metadata": {},
   "outputs": [
    {
     "name": "stdout",
     "output_type": "stream",
     "text": [
      "(1490, 3)\n",
      "(735, 2)\n",
      "(735, 2)\n"
     ]
    }
   ],
   "source": [
    "print(train_df.shape)\n",
    "print(test_df.shape)\n",
    "print(sample_solution_df.shape)"
   ]
  },
  {
   "cell_type": "markdown",
   "id": "204b6651",
   "metadata": {},
   "source": [
    "`train_df` and `test_df` are the dataframes containing the training and test data, respectively. `sample_solution` is the dataframe containing the sample solution, matching the article IDs in the test set with the news category labels."
   ]
  },
  {
   "cell_type": "code",
   "execution_count": 8,
   "id": "ac40e6f0",
   "metadata": {},
   "outputs": [
    {
     "data": {
      "text/html": [
       "<div>\n",
       "<style scoped>\n",
       "    .dataframe tbody tr th:only-of-type {\n",
       "        vertical-align: middle;\n",
       "    }\n",
       "\n",
       "    .dataframe tbody tr th {\n",
       "        vertical-align: top;\n",
       "    }\n",
       "\n",
       "    .dataframe thead th {\n",
       "        text-align: right;\n",
       "    }\n",
       "</style>\n",
       "<table border=\"1\" class=\"dataframe\">\n",
       "  <thead>\n",
       "    <tr style=\"text-align: right;\">\n",
       "      <th></th>\n",
       "      <th>ArticleId</th>\n",
       "      <th>Text</th>\n",
       "      <th>Category</th>\n",
       "    </tr>\n",
       "  </thead>\n",
       "  <tbody>\n",
       "    <tr>\n",
       "      <th>0</th>\n",
       "      <td>1833</td>\n",
       "      <td>worldcom ex-boss launches defence lawyers defe...</td>\n",
       "      <td>business</td>\n",
       "    </tr>\n",
       "    <tr>\n",
       "      <th>1</th>\n",
       "      <td>154</td>\n",
       "      <td>german business confidence slides german busin...</td>\n",
       "      <td>business</td>\n",
       "    </tr>\n",
       "    <tr>\n",
       "      <th>2</th>\n",
       "      <td>1101</td>\n",
       "      <td>bbc poll indicates economic gloom citizens in ...</td>\n",
       "      <td>business</td>\n",
       "    </tr>\n",
       "    <tr>\n",
       "      <th>3</th>\n",
       "      <td>1976</td>\n",
       "      <td>lifestyle  governs mobile choice  faster  bett...</td>\n",
       "      <td>tech</td>\n",
       "    </tr>\n",
       "    <tr>\n",
       "      <th>4</th>\n",
       "      <td>917</td>\n",
       "      <td>enron bosses in $168m payout eighteen former e...</td>\n",
       "      <td>business</td>\n",
       "    </tr>\n",
       "  </tbody>\n",
       "</table>\n",
       "</div>"
      ],
      "text/plain": [
       "   ArticleId                                               Text  Category\n",
       "0       1833  worldcom ex-boss launches defence lawyers defe...  business\n",
       "1        154  german business confidence slides german busin...  business\n",
       "2       1101  bbc poll indicates economic gloom citizens in ...  business\n",
       "3       1976  lifestyle  governs mobile choice  faster  bett...      tech\n",
       "4        917  enron bosses in $168m payout eighteen former e...  business"
      ]
     },
     "execution_count": 8,
     "metadata": {},
     "output_type": "execute_result"
    }
   ],
   "source": [
    "train_df.head()"
   ]
  },
  {
   "cell_type": "code",
   "execution_count": 9,
   "id": "72656308",
   "metadata": {},
   "outputs": [
    {
     "data": {
      "text/html": [
       "<div>\n",
       "<style scoped>\n",
       "    .dataframe tbody tr th:only-of-type {\n",
       "        vertical-align: middle;\n",
       "    }\n",
       "\n",
       "    .dataframe tbody tr th {\n",
       "        vertical-align: top;\n",
       "    }\n",
       "\n",
       "    .dataframe thead th {\n",
       "        text-align: right;\n",
       "    }\n",
       "</style>\n",
       "<table border=\"1\" class=\"dataframe\">\n",
       "  <thead>\n",
       "    <tr style=\"text-align: right;\">\n",
       "      <th></th>\n",
       "      <th>ArticleId</th>\n",
       "      <th>Text</th>\n",
       "    </tr>\n",
       "  </thead>\n",
       "  <tbody>\n",
       "    <tr>\n",
       "      <th>0</th>\n",
       "      <td>1018</td>\n",
       "      <td>qpr keeper day heads for preston queens park r...</td>\n",
       "    </tr>\n",
       "    <tr>\n",
       "      <th>1</th>\n",
       "      <td>1319</td>\n",
       "      <td>software watching while you work software that...</td>\n",
       "    </tr>\n",
       "    <tr>\n",
       "      <th>2</th>\n",
       "      <td>1138</td>\n",
       "      <td>d arcy injury adds to ireland woe gordon d arc...</td>\n",
       "    </tr>\n",
       "    <tr>\n",
       "      <th>3</th>\n",
       "      <td>459</td>\n",
       "      <td>india s reliance family feud heats up the ongo...</td>\n",
       "    </tr>\n",
       "    <tr>\n",
       "      <th>4</th>\n",
       "      <td>1020</td>\n",
       "      <td>boro suffer morrison injury blow middlesbrough...</td>\n",
       "    </tr>\n",
       "  </tbody>\n",
       "</table>\n",
       "</div>"
      ],
      "text/plain": [
       "   ArticleId                                               Text\n",
       "0       1018  qpr keeper day heads for preston queens park r...\n",
       "1       1319  software watching while you work software that...\n",
       "2       1138  d arcy injury adds to ireland woe gordon d arc...\n",
       "3        459  india s reliance family feud heats up the ongo...\n",
       "4       1020  boro suffer morrison injury blow middlesbrough..."
      ]
     },
     "execution_count": 9,
     "metadata": {},
     "output_type": "execute_result"
    }
   ],
   "source": [
    "test_df.head()"
   ]
  },
  {
   "cell_type": "code",
   "execution_count": 10,
   "id": "57cb86eb",
   "metadata": {},
   "outputs": [
    {
     "data": {
      "text/html": [
       "<div>\n",
       "<style scoped>\n",
       "    .dataframe tbody tr th:only-of-type {\n",
       "        vertical-align: middle;\n",
       "    }\n",
       "\n",
       "    .dataframe tbody tr th {\n",
       "        vertical-align: top;\n",
       "    }\n",
       "\n",
       "    .dataframe thead th {\n",
       "        text-align: right;\n",
       "    }\n",
       "</style>\n",
       "<table border=\"1\" class=\"dataframe\">\n",
       "  <thead>\n",
       "    <tr style=\"text-align: right;\">\n",
       "      <th></th>\n",
       "      <th>ArticleId</th>\n",
       "      <th>Category</th>\n",
       "    </tr>\n",
       "  </thead>\n",
       "  <tbody>\n",
       "    <tr>\n",
       "      <th>0</th>\n",
       "      <td>1018</td>\n",
       "      <td>sport</td>\n",
       "    </tr>\n",
       "    <tr>\n",
       "      <th>1</th>\n",
       "      <td>1319</td>\n",
       "      <td>tech</td>\n",
       "    </tr>\n",
       "    <tr>\n",
       "      <th>2</th>\n",
       "      <td>1138</td>\n",
       "      <td>business</td>\n",
       "    </tr>\n",
       "    <tr>\n",
       "      <th>3</th>\n",
       "      <td>459</td>\n",
       "      <td>entertainment</td>\n",
       "    </tr>\n",
       "    <tr>\n",
       "      <th>4</th>\n",
       "      <td>1020</td>\n",
       "      <td>politics</td>\n",
       "    </tr>\n",
       "  </tbody>\n",
       "</table>\n",
       "</div>"
      ],
      "text/plain": [
       "   ArticleId       Category\n",
       "0       1018          sport\n",
       "1       1319           tech\n",
       "2       1138       business\n",
       "3        459  entertainment\n",
       "4       1020       politics"
      ]
     },
     "execution_count": 10,
     "metadata": {},
     "output_type": "execute_result"
    }
   ],
   "source": [
    "sample_solution_df.head()"
   ]
  },
  {
   "cell_type": "code",
   "execution_count": 11,
   "id": "15fd5225",
   "metadata": {},
   "outputs": [
    {
     "data": {
      "text/plain": [
       "array(['business', 'tech', 'politics', 'sport', 'entertainment'],\n",
       "      dtype=object)"
      ]
     },
     "execution_count": 11,
     "metadata": {},
     "output_type": "execute_result"
    }
   ],
   "source": [
    "train_df['Category'].unique()"
   ]
  },
  {
   "cell_type": "code",
   "execution_count": 12,
   "id": "3ae63b11",
   "metadata": {},
   "outputs": [
    {
     "data": {
      "text/html": [
       "<div>\n",
       "<style scoped>\n",
       "    .dataframe tbody tr th:only-of-type {\n",
       "        vertical-align: middle;\n",
       "    }\n",
       "\n",
       "    .dataframe tbody tr th {\n",
       "        vertical-align: top;\n",
       "    }\n",
       "\n",
       "    .dataframe thead th {\n",
       "        text-align: right;\n",
       "    }\n",
       "</style>\n",
       "<table border=\"1\" class=\"dataframe\">\n",
       "  <thead>\n",
       "    <tr style=\"text-align: right;\">\n",
       "      <th></th>\n",
       "      <th>ArticleId</th>\n",
       "    </tr>\n",
       "  </thead>\n",
       "  <tbody>\n",
       "    <tr>\n",
       "      <th>count</th>\n",
       "      <td>1490.000000</td>\n",
       "    </tr>\n",
       "    <tr>\n",
       "      <th>mean</th>\n",
       "      <td>1119.696644</td>\n",
       "    </tr>\n",
       "    <tr>\n",
       "      <th>std</th>\n",
       "      <td>641.826283</td>\n",
       "    </tr>\n",
       "    <tr>\n",
       "      <th>min</th>\n",
       "      <td>2.000000</td>\n",
       "    </tr>\n",
       "    <tr>\n",
       "      <th>25%</th>\n",
       "      <td>565.250000</td>\n",
       "    </tr>\n",
       "    <tr>\n",
       "      <th>50%</th>\n",
       "      <td>1112.500000</td>\n",
       "    </tr>\n",
       "    <tr>\n",
       "      <th>75%</th>\n",
       "      <td>1680.750000</td>\n",
       "    </tr>\n",
       "    <tr>\n",
       "      <th>max</th>\n",
       "      <td>2224.000000</td>\n",
       "    </tr>\n",
       "  </tbody>\n",
       "</table>\n",
       "</div>"
      ],
      "text/plain": [
       "         ArticleId\n",
       "count  1490.000000\n",
       "mean   1119.696644\n",
       "std     641.826283\n",
       "min       2.000000\n",
       "25%     565.250000\n",
       "50%    1112.500000\n",
       "75%    1680.750000\n",
       "max    2224.000000"
      ]
     },
     "execution_count": 12,
     "metadata": {},
     "output_type": "execute_result"
    }
   ],
   "source": [
    "train_df.describe()"
   ]
  },
  {
   "cell_type": "markdown",
   "id": "cf44dc70",
   "metadata": {},
   "source": [
    "Let's take a look to the distribution of the news categories in the training set. This will help us understand the balance of the dataset and whether we need to apply any techniques to handle class imbalance."
   ]
  },
  {
   "cell_type": "code",
   "execution_count": 13,
   "id": "4f830dd4",
   "metadata": {},
   "outputs": [
    {
     "data": {
      "application/vnd.plotly.v1+json": {
       "config": {
        "plotlyServerURL": "https://plot.ly"
       },
       "data": [
        {
         "name": "Count",
         "type": "histogram",
         "x": [
          "business",
          "business",
          "business",
          "tech",
          "business",
          "politics",
          "sport",
          "entertainment",
          "business",
          "entertainment",
          "politics",
          "entertainment",
          "business",
          "business",
          "sport",
          "sport",
          "entertainment",
          "sport",
          "sport",
          "tech",
          "sport",
          "entertainment",
          "sport",
          "sport",
          "tech",
          "business",
          "tech",
          "sport",
          "politics",
          "business",
          "tech",
          "entertainment",
          "business",
          "politics",
          "sport",
          "entertainment",
          "sport",
          "sport",
          "sport",
          "tech",
          "tech",
          "sport",
          "sport",
          "tech",
          "entertainment",
          "entertainment",
          "tech",
          "tech",
          "tech",
          "business",
          "tech",
          "sport",
          "politics",
          "sport",
          "sport",
          "entertainment",
          "business",
          "business",
          "politics",
          "sport",
          "tech",
          "business",
          "entertainment",
          "tech",
          "business",
          "sport",
          "politics",
          "politics",
          "tech",
          "tech",
          "sport",
          "tech",
          "sport",
          "sport",
          "sport",
          "business",
          "sport",
          "business",
          "entertainment",
          "business",
          "tech",
          "business",
          "politics",
          "politics",
          "sport",
          "sport",
          "politics",
          "entertainment",
          "sport",
          "sport",
          "politics",
          "tech",
          "politics",
          "sport",
          "politics",
          "business",
          "business",
          "business",
          "business",
          "sport",
          "business",
          "politics",
          "tech",
          "tech",
          "entertainment",
          "politics",
          "tech",
          "business",
          "business",
          "business",
          "business",
          "entertainment",
          "sport",
          "business",
          "business",
          "business",
          "politics",
          "business",
          "politics",
          "sport",
          "tech",
          "sport",
          "sport",
          "politics",
          "tech",
          "tech",
          "entertainment",
          "sport",
          "politics",
          "business",
          "sport",
          "business",
          "entertainment",
          "sport",
          "tech",
          "entertainment",
          "politics",
          "business",
          "sport",
          "entertainment",
          "entertainment",
          "business",
          "business",
          "sport",
          "tech",
          "politics",
          "business",
          "business",
          "sport",
          "entertainment",
          "sport",
          "sport",
          "politics",
          "politics",
          "tech",
          "business",
          "business",
          "entertainment",
          "tech",
          "entertainment",
          "politics",
          "tech",
          "entertainment",
          "sport",
          "business",
          "politics",
          "entertainment",
          "sport",
          "politics",
          "sport",
          "tech",
          "entertainment",
          "sport",
          "entertainment",
          "business",
          "business",
          "entertainment",
          "politics",
          "business",
          "sport",
          "sport",
          "tech",
          "sport",
          "business",
          "business",
          "sport",
          "business",
          "entertainment",
          "politics",
          "entertainment",
          "entertainment",
          "tech",
          "sport",
          "politics",
          "sport",
          "tech",
          "politics",
          "sport",
          "sport",
          "sport",
          "sport",
          "entertainment",
          "sport",
          "business",
          "tech",
          "business",
          "politics",
          "sport",
          "tech",
          "business",
          "business",
          "sport",
          "entertainment",
          "entertainment",
          "politics",
          "politics",
          "sport",
          "politics",
          "politics",
          "sport",
          "entertainment",
          "entertainment",
          "sport",
          "entertainment",
          "entertainment",
          "sport",
          "sport",
          "business",
          "tech",
          "entertainment",
          "politics",
          "business",
          "sport",
          "business",
          "entertainment",
          "business",
          "tech",
          "sport",
          "sport",
          "sport",
          "sport",
          "sport",
          "business",
          "sport",
          "entertainment",
          "business",
          "politics",
          "sport",
          "business",
          "politics",
          "business",
          "entertainment",
          "sport",
          "sport",
          "business",
          "tech",
          "business",
          "tech",
          "politics",
          "tech",
          "tech",
          "business",
          "politics",
          "sport",
          "entertainment",
          "entertainment",
          "business",
          "entertainment",
          "tech",
          "entertainment",
          "entertainment",
          "politics",
          "tech",
          "sport",
          "sport",
          "politics",
          "sport",
          "tech",
          "business",
          "tech",
          "business",
          "tech",
          "entertainment",
          "sport",
          "sport",
          "sport",
          "politics",
          "politics",
          "sport",
          "sport",
          "entertainment",
          "business",
          "tech",
          "sport",
          "politics",
          "tech",
          "politics",
          "politics",
          "tech",
          "tech",
          "business",
          "tech",
          "business",
          "sport",
          "entertainment",
          "business",
          "sport",
          "politics",
          "entertainment",
          "tech",
          "politics",
          "business",
          "entertainment",
          "business",
          "tech",
          "sport",
          "tech",
          "sport",
          "sport",
          "sport",
          "politics",
          "business",
          "politics",
          "entertainment",
          "sport",
          "entertainment",
          "business",
          "politics",
          "business",
          "sport",
          "entertainment",
          "sport",
          "business",
          "entertainment",
          "entertainment",
          "sport",
          "politics",
          "business",
          "politics",
          "tech",
          "entertainment",
          "entertainment",
          "entertainment",
          "tech",
          "sport",
          "business",
          "entertainment",
          "entertainment",
          "entertainment",
          "politics",
          "sport",
          "politics",
          "politics",
          "tech",
          "politics",
          "business",
          "politics",
          "business",
          "sport",
          "entertainment",
          "business",
          "business",
          "business",
          "sport",
          "sport",
          "politics",
          "politics",
          "sport",
          "tech",
          "tech",
          "sport",
          "tech",
          "entertainment",
          "politics",
          "tech",
          "politics",
          "entertainment",
          "sport",
          "business",
          "tech",
          "sport",
          "business",
          "politics",
          "entertainment",
          "politics",
          "sport",
          "tech",
          "sport",
          "business",
          "sport",
          "tech",
          "business",
          "politics",
          "business",
          "sport",
          "sport",
          "tech",
          "tech",
          "business",
          "business",
          "politics",
          "politics",
          "business",
          "entertainment",
          "business",
          "entertainment",
          "sport",
          "sport",
          "entertainment",
          "entertainment",
          "business",
          "politics",
          "business",
          "entertainment",
          "sport",
          "tech",
          "entertainment",
          "tech",
          "entertainment",
          "business",
          "tech",
          "entertainment",
          "business",
          "business",
          "business",
          "business",
          "entertainment",
          "tech",
          "tech",
          "tech",
          "entertainment",
          "tech",
          "sport",
          "entertainment",
          "politics",
          "tech",
          "business",
          "sport",
          "entertainment",
          "sport",
          "tech",
          "tech",
          "business",
          "tech",
          "sport",
          "sport",
          "sport",
          "entertainment",
          "entertainment",
          "business",
          "entertainment",
          "tech",
          "tech",
          "sport",
          "entertainment",
          "tech",
          "business",
          "politics",
          "entertainment",
          "tech",
          "politics",
          "sport",
          "sport",
          "politics",
          "politics",
          "business",
          "sport",
          "sport",
          "business",
          "entertainment",
          "entertainment",
          "politics",
          "business",
          "business",
          "business",
          "business",
          "sport",
          "business",
          "business",
          "politics",
          "politics",
          "tech",
          "entertainment",
          "politics",
          "business",
          "tech",
          "business",
          "business",
          "sport",
          "tech",
          "tech",
          "sport",
          "entertainment",
          "tech",
          "tech",
          "tech",
          "politics",
          "tech",
          "tech",
          "tech",
          "business",
          "business",
          "business",
          "tech",
          "sport",
          "business",
          "politics",
          "politics",
          "entertainment",
          "tech",
          "politics",
          "entertainment",
          "entertainment",
          "business",
          "politics",
          "sport",
          "sport",
          "sport",
          "sport",
          "politics",
          "entertainment",
          "business",
          "business",
          "politics",
          "sport",
          "entertainment",
          "entertainment",
          "sport",
          "business",
          "politics",
          "entertainment",
          "business",
          "sport",
          "tech",
          "sport",
          "sport",
          "business",
          "tech",
          "politics",
          "business",
          "tech",
          "politics",
          "politics",
          "politics",
          "sport",
          "business",
          "sport",
          "entertainment",
          "politics",
          "tech",
          "tech",
          "business",
          "tech",
          "business",
          "entertainment",
          "entertainment",
          "politics",
          "business",
          "politics",
          "business",
          "entertainment",
          "entertainment",
          "business",
          "politics",
          "business",
          "tech",
          "business",
          "business",
          "tech",
          "politics",
          "business",
          "tech",
          "business",
          "politics",
          "entertainment",
          "sport",
          "entertainment",
          "sport",
          "entertainment",
          "sport",
          "business",
          "tech",
          "tech",
          "sport",
          "sport",
          "business",
          "politics",
          "tech",
          "tech",
          "tech",
          "business",
          "sport",
          "business",
          "business",
          "business",
          "business",
          "business",
          "entertainment",
          "tech",
          "sport",
          "sport",
          "politics",
          "tech",
          "tech",
          "business",
          "tech",
          "business",
          "politics",
          "entertainment",
          "tech",
          "business",
          "business",
          "politics",
          "tech",
          "entertainment",
          "business",
          "tech",
          "entertainment",
          "entertainment",
          "sport",
          "politics",
          "sport",
          "business",
          "entertainment",
          "entertainment",
          "business",
          "politics",
          "business",
          "tech",
          "tech",
          "business",
          "entertainment",
          "tech",
          "tech",
          "sport",
          "sport",
          "entertainment",
          "sport",
          "entertainment",
          "politics",
          "entertainment",
          "tech",
          "entertainment",
          "politics",
          "politics",
          "business",
          "business",
          "tech",
          "sport",
          "sport",
          "business",
          "tech",
          "politics",
          "politics",
          "business",
          "entertainment",
          "sport",
          "sport",
          "politics",
          "tech",
          "sport",
          "sport",
          "business",
          "politics",
          "business",
          "entertainment",
          "tech",
          "politics",
          "sport",
          "sport",
          "tech",
          "politics",
          "business",
          "sport",
          "politics",
          "politics",
          "sport",
          "business",
          "tech",
          "politics",
          "business",
          "tech",
          "entertainment",
          "business",
          "tech",
          "politics",
          "tech",
          "politics",
          "entertainment",
          "sport",
          "sport",
          "business",
          "business",
          "tech",
          "sport",
          "entertainment",
          "entertainment",
          "tech",
          "politics",
          "entertainment",
          "business",
          "entertainment",
          "tech",
          "business",
          "sport",
          "business",
          "business",
          "business",
          "sport",
          "sport",
          "tech",
          "business",
          "sport",
          "politics",
          "sport",
          "entertainment",
          "business",
          "entertainment",
          "entertainment",
          "politics",
          "tech",
          "tech",
          "sport",
          "business",
          "sport",
          "sport",
          "tech",
          "entertainment",
          "business",
          "business",
          "business",
          "politics",
          "sport",
          "tech",
          "politics",
          "business",
          "tech",
          "tech",
          "sport",
          "business",
          "sport",
          "entertainment",
          "business",
          "sport",
          "tech",
          "tech",
          "entertainment",
          "business",
          "sport",
          "politics",
          "tech",
          "sport",
          "business",
          "business",
          "business",
          "politics",
          "sport",
          "tech",
          "entertainment",
          "tech",
          "tech",
          "business",
          "politics",
          "business",
          "entertainment",
          "entertainment",
          "politics",
          "sport",
          "politics",
          "business",
          "sport",
          "business",
          "politics",
          "sport",
          "tech",
          "sport",
          "tech",
          "politics",
          "sport",
          "sport",
          "tech",
          "entertainment",
          "entertainment",
          "tech",
          "entertainment",
          "sport",
          "sport",
          "tech",
          "entertainment",
          "tech",
          "entertainment",
          "entertainment",
          "sport",
          "sport",
          "sport",
          "entertainment",
          "entertainment",
          "tech",
          "sport",
          "politics",
          "entertainment",
          "business",
          "sport",
          "business",
          "business",
          "politics",
          "politics",
          "business",
          "politics",
          "politics",
          "sport",
          "politics",
          "sport",
          "sport",
          "business",
          "entertainment",
          "sport",
          "tech",
          "sport",
          "politics",
          "entertainment",
          "tech",
          "sport",
          "sport",
          "business",
          "tech",
          "tech",
          "entertainment",
          "entertainment",
          "tech",
          "entertainment",
          "politics",
          "politics",
          "sport",
          "business",
          "politics",
          "politics",
          "entertainment",
          "politics",
          "entertainment",
          "tech",
          "politics",
          "entertainment",
          "politics",
          "sport",
          "sport",
          "politics",
          "business",
          "politics",
          "tech",
          "business",
          "business",
          "sport",
          "sport",
          "tech",
          "politics",
          "sport",
          "sport",
          "tech",
          "sport",
          "politics",
          "tech",
          "entertainment",
          "tech",
          "entertainment",
          "sport",
          "politics",
          "sport",
          "entertainment",
          "tech",
          "entertainment",
          "business",
          "entertainment",
          "tech",
          "politics",
          "sport",
          "business",
          "entertainment",
          "business",
          "business",
          "entertainment",
          "sport",
          "sport",
          "entertainment",
          "politics",
          "politics",
          "business",
          "entertainment",
          "tech",
          "business",
          "politics",
          "business",
          "business",
          "sport",
          "politics",
          "business",
          "sport",
          "politics",
          "tech",
          "tech",
          "entertainment",
          "business",
          "entertainment",
          "politics",
          "sport",
          "politics",
          "entertainment",
          "politics",
          "tech",
          "business",
          "tech",
          "business",
          "politics",
          "politics",
          "tech",
          "entertainment",
          "sport",
          "politics",
          "politics",
          "politics",
          "politics",
          "politics",
          "sport",
          "business",
          "sport",
          "entertainment",
          "business",
          "tech",
          "politics",
          "sport",
          "business",
          "sport",
          "sport",
          "politics",
          "sport",
          "entertainment",
          "business",
          "entertainment",
          "entertainment",
          "tech",
          "politics",
          "entertainment",
          "tech",
          "sport",
          "politics",
          "politics",
          "business",
          "sport",
          "business",
          "tech",
          "entertainment",
          "entertainment",
          "sport",
          "politics",
          "entertainment",
          "entertainment",
          "politics",
          "business",
          "tech",
          "entertainment",
          "business",
          "business",
          "politics",
          "politics",
          "entertainment",
          "sport",
          "politics",
          "tech",
          "entertainment",
          "politics",
          "sport",
          "business",
          "sport",
          "politics",
          "sport",
          "business",
          "entertainment",
          "tech",
          "tech",
          "business",
          "sport",
          "tech",
          "politics",
          "sport",
          "politics",
          "sport",
          "sport",
          "tech",
          "politics",
          "business",
          "tech",
          "business",
          "entertainment",
          "politics",
          "sport",
          "sport",
          "business",
          "business",
          "sport",
          "business",
          "sport",
          "sport",
          "entertainment",
          "sport",
          "sport",
          "politics",
          "politics",
          "tech",
          "business",
          "politics",
          "tech",
          "entertainment",
          "business",
          "politics",
          "sport",
          "sport",
          "sport",
          "entertainment",
          "business",
          "sport",
          "sport",
          "business",
          "business",
          "politics",
          "business",
          "sport",
          "business",
          "tech",
          "politics",
          "business",
          "sport",
          "business",
          "entertainment",
          "sport",
          "entertainment",
          "entertainment",
          "entertainment",
          "business",
          "politics",
          "politics",
          "business",
          "tech",
          "sport",
          "tech",
          "politics",
          "sport",
          "politics",
          "tech",
          "politics",
          "business",
          "entertainment",
          "entertainment",
          "entertainment",
          "politics",
          "entertainment",
          "sport",
          "entertainment",
          "politics",
          "tech",
          "tech",
          "politics",
          "business",
          "tech",
          "business",
          "tech",
          "business",
          "entertainment",
          "entertainment",
          "politics",
          "sport",
          "entertainment",
          "entertainment",
          "tech",
          "tech",
          "tech",
          "business",
          "tech",
          "tech",
          "business",
          "sport",
          "tech",
          "politics",
          "entertainment",
          "business",
          "sport",
          "business",
          "entertainment",
          "sport",
          "sport",
          "sport",
          "business",
          "tech",
          "politics",
          "business",
          "politics",
          "politics",
          "politics",
          "entertainment",
          "sport",
          "politics",
          "business",
          "entertainment",
          "entertainment",
          "politics",
          "tech",
          "tech",
          "business",
          "tech",
          "sport",
          "sport",
          "entertainment",
          "sport",
          "sport",
          "sport",
          "politics",
          "tech",
          "tech",
          "politics",
          "politics",
          "business",
          "business",
          "sport",
          "tech",
          "tech",
          "sport",
          "entertainment",
          "sport",
          "entertainment",
          "business",
          "tech",
          "politics",
          "tech",
          "sport",
          "business",
          "sport",
          "business",
          "entertainment",
          "tech",
          "business",
          "sport",
          "business",
          "sport",
          "tech",
          "business",
          "business",
          "business",
          "sport",
          "business",
          "sport",
          "politics",
          "business",
          "sport",
          "politics",
          "entertainment",
          "business",
          "business",
          "politics",
          "business",
          "tech",
          "sport",
          "entertainment",
          "sport",
          "entertainment",
          "tech",
          "sport",
          "sport",
          "sport",
          "entertainment",
          "politics",
          "business",
          "politics",
          "politics",
          "sport",
          "entertainment",
          "sport",
          "business",
          "sport",
          "politics",
          "entertainment",
          "tech",
          "business",
          "business",
          "sport",
          "sport",
          "sport",
          "entertainment",
          "sport",
          "politics",
          "politics",
          "sport",
          "tech",
          "entertainment",
          "entertainment",
          "entertainment",
          "politics",
          "business",
          "tech",
          "business",
          "entertainment",
          "sport",
          "sport",
          "sport",
          "business",
          "tech",
          "business",
          "entertainment",
          "tech",
          "politics",
          "sport",
          "politics",
          "politics",
          "tech",
          "entertainment",
          "sport",
          "politics",
          "politics",
          "entertainment",
          "sport",
          "politics",
          "entertainment",
          "entertainment",
          "sport",
          "tech",
          "sport",
          "business",
          "business",
          "business",
          "sport",
          "entertainment",
          "entertainment",
          "entertainment",
          "sport",
          "tech",
          "politics",
          "entertainment",
          "politics",
          "entertainment",
          "entertainment",
          "sport",
          "sport",
          "sport",
          "entertainment",
          "politics",
          "business",
          "sport",
          "business",
          "sport",
          "politics",
          "business",
          "business",
          "business",
          "sport",
          "sport",
          "politics",
          "business",
          "entertainment",
          "business",
          "business",
          "politics",
          "politics",
          "business",
          "entertainment",
          "politics",
          "sport",
          "business",
          "tech",
          "sport",
          "sport",
          "tech",
          "business",
          "entertainment",
          "entertainment",
          "business",
          "politics",
          "business",
          "business",
          "business",
          "business",
          "sport",
          "tech",
          "sport",
          "politics",
          "business",
          "business",
          "entertainment",
          "politics",
          "sport",
          "tech",
          "business",
          "entertainment",
          "business",
          "tech",
          "entertainment",
          "sport",
          "business",
          "entertainment",
          "tech",
          "entertainment",
          "politics",
          "business",
          "sport",
          "politics",
          "tech",
          "sport",
          "politics",
          "tech",
          "business",
          "politics",
          "tech",
          "business",
          "entertainment",
          "tech",
          "business",
          "sport",
          "entertainment",
          "sport",
          "tech",
          "tech",
          "sport",
          "tech",
          "tech",
          "politics",
          "politics",
          "sport",
          "politics",
          "entertainment",
          "business",
          "entertainment",
          "politics",
          "politics",
          "sport",
          "tech",
          "business",
          "entertainment",
          "business",
          "sport",
          "entertainment",
          "entertainment",
          "politics",
          "politics",
          "entertainment",
          "business",
          "entertainment",
          "sport",
          "tech",
          "tech",
          "business",
          "sport",
          "sport",
          "entertainment",
          "entertainment",
          "business",
          "entertainment",
          "entertainment",
          "tech",
          "sport",
          "politics",
          "politics",
          "entertainment",
          "sport",
          "politics",
          "sport",
          "tech",
          "tech",
          "politics",
          "politics",
          "business",
          "tech",
          "business",
          "business",
          "tech",
          "tech",
          "sport",
          "business",
          "business",
          "entertainment",
          "business",
          "politics",
          "sport",
          "politics",
          "politics",
          "sport",
          "business",
          "business",
          "business",
          "business",
          "sport",
          "politics",
          "tech",
          "business",
          "entertainment",
          "entertainment",
          "tech",
          "entertainment",
          "entertainment",
          "business",
          "sport",
          "tech",
          "business",
          "business",
          "business",
          "sport",
          "entertainment",
          "sport",
          "politics",
          "politics",
          "sport",
          "entertainment",
          "politics",
          "tech",
          "entertainment",
          "politics",
          "entertainment",
          "sport",
          "entertainment",
          "politics",
          "politics",
          "business",
          "tech",
          "entertainment",
          "sport",
          "entertainment",
          "politics",
          "politics",
          "business",
          "entertainment",
          "politics",
          "business",
          "sport",
          "politics",
          "entertainment",
          "business",
          "politics",
          "entertainment",
          "sport",
          "sport",
          "politics",
          "tech",
          "tech",
          "tech",
          "sport",
          "tech",
          "entertainment",
          "sport",
          "entertainment",
          "business",
          "politics",
          "business",
          "sport",
          "politics",
          "business",
          "sport",
          "politics",
          "entertainment",
          "politics",
          "tech",
          "politics",
          "entertainment",
          "business",
          "entertainment",
          "entertainment",
          "tech",
          "entertainment",
          "politics",
          "tech",
          "tech",
          "business",
          "sport",
          "sport",
          "tech",
          "business",
          "sport",
          "politics",
          "sport",
          "business",
          "politics",
          "entertainment",
          "tech",
          "politics",
          "business",
          "business",
          "sport",
          "tech",
          "entertainment",
          "business",
          "entertainment",
          "entertainment",
          "business",
          "tech",
          "tech"
         ],
         "xaxis": "x",
         "yaxis": "y"
        },
        {
         "name": "Proportion",
         "type": "bar",
         "x": [
          "sport",
          "business",
          "politics",
          "entertainment",
          "tech"
         ],
         "xaxis": "x2",
         "y": {
          "bdata": "7rrgoja5zT9S6fFAS93MP+8I9hTLicc/k43EJM1zxz8+xXLi5WvGPw==",
          "dtype": "f8"
         },
         "yaxis": "y2"
        }
       ],
       "layout": {
        "annotations": [
         {
          "font": {
           "size": 16
          },
          "showarrow": false,
          "text": "Count of Categories",
          "x": 0.225,
          "xanchor": "center",
          "xref": "paper",
          "y": 1,
          "yanchor": "bottom",
          "yref": "paper"
         },
         {
          "font": {
           "size": 16
          },
          "showarrow": false,
          "text": "Proportion of Categories",
          "x": 0.775,
          "xanchor": "center",
          "xref": "paper",
          "y": 1,
          "yanchor": "bottom",
          "yref": "paper"
         }
        ],
        "template": {
         "data": {
          "bar": [
           {
            "error_x": {
             "color": "#2a3f5f"
            },
            "error_y": {
             "color": "#2a3f5f"
            },
            "marker": {
             "line": {
              "color": "#E5ECF6",
              "width": 0.5
             },
             "pattern": {
              "fillmode": "overlay",
              "size": 10,
              "solidity": 0.2
             }
            },
            "type": "bar"
           }
          ],
          "barpolar": [
           {
            "marker": {
             "line": {
              "color": "#E5ECF6",
              "width": 0.5
             },
             "pattern": {
              "fillmode": "overlay",
              "size": 10,
              "solidity": 0.2
             }
            },
            "type": "barpolar"
           }
          ],
          "carpet": [
           {
            "aaxis": {
             "endlinecolor": "#2a3f5f",
             "gridcolor": "white",
             "linecolor": "white",
             "minorgridcolor": "white",
             "startlinecolor": "#2a3f5f"
            },
            "baxis": {
             "endlinecolor": "#2a3f5f",
             "gridcolor": "white",
             "linecolor": "white",
             "minorgridcolor": "white",
             "startlinecolor": "#2a3f5f"
            },
            "type": "carpet"
           }
          ],
          "choropleth": [
           {
            "colorbar": {
             "outlinewidth": 0,
             "ticks": ""
            },
            "type": "choropleth"
           }
          ],
          "contour": [
           {
            "colorbar": {
             "outlinewidth": 0,
             "ticks": ""
            },
            "colorscale": [
             [
              0,
              "#0d0887"
             ],
             [
              0.1111111111111111,
              "#46039f"
             ],
             [
              0.2222222222222222,
              "#7201a8"
             ],
             [
              0.3333333333333333,
              "#9c179e"
             ],
             [
              0.4444444444444444,
              "#bd3786"
             ],
             [
              0.5555555555555556,
              "#d8576b"
             ],
             [
              0.6666666666666666,
              "#ed7953"
             ],
             [
              0.7777777777777778,
              "#fb9f3a"
             ],
             [
              0.8888888888888888,
              "#fdca26"
             ],
             [
              1,
              "#f0f921"
             ]
            ],
            "type": "contour"
           }
          ],
          "contourcarpet": [
           {
            "colorbar": {
             "outlinewidth": 0,
             "ticks": ""
            },
            "type": "contourcarpet"
           }
          ],
          "heatmap": [
           {
            "colorbar": {
             "outlinewidth": 0,
             "ticks": ""
            },
            "colorscale": [
             [
              0,
              "#0d0887"
             ],
             [
              0.1111111111111111,
              "#46039f"
             ],
             [
              0.2222222222222222,
              "#7201a8"
             ],
             [
              0.3333333333333333,
              "#9c179e"
             ],
             [
              0.4444444444444444,
              "#bd3786"
             ],
             [
              0.5555555555555556,
              "#d8576b"
             ],
             [
              0.6666666666666666,
              "#ed7953"
             ],
             [
              0.7777777777777778,
              "#fb9f3a"
             ],
             [
              0.8888888888888888,
              "#fdca26"
             ],
             [
              1,
              "#f0f921"
             ]
            ],
            "type": "heatmap"
           }
          ],
          "histogram": [
           {
            "marker": {
             "pattern": {
              "fillmode": "overlay",
              "size": 10,
              "solidity": 0.2
             }
            },
            "type": "histogram"
           }
          ],
          "histogram2d": [
           {
            "colorbar": {
             "outlinewidth": 0,
             "ticks": ""
            },
            "colorscale": [
             [
              0,
              "#0d0887"
             ],
             [
              0.1111111111111111,
              "#46039f"
             ],
             [
              0.2222222222222222,
              "#7201a8"
             ],
             [
              0.3333333333333333,
              "#9c179e"
             ],
             [
              0.4444444444444444,
              "#bd3786"
             ],
             [
              0.5555555555555556,
              "#d8576b"
             ],
             [
              0.6666666666666666,
              "#ed7953"
             ],
             [
              0.7777777777777778,
              "#fb9f3a"
             ],
             [
              0.8888888888888888,
              "#fdca26"
             ],
             [
              1,
              "#f0f921"
             ]
            ],
            "type": "histogram2d"
           }
          ],
          "histogram2dcontour": [
           {
            "colorbar": {
             "outlinewidth": 0,
             "ticks": ""
            },
            "colorscale": [
             [
              0,
              "#0d0887"
             ],
             [
              0.1111111111111111,
              "#46039f"
             ],
             [
              0.2222222222222222,
              "#7201a8"
             ],
             [
              0.3333333333333333,
              "#9c179e"
             ],
             [
              0.4444444444444444,
              "#bd3786"
             ],
             [
              0.5555555555555556,
              "#d8576b"
             ],
             [
              0.6666666666666666,
              "#ed7953"
             ],
             [
              0.7777777777777778,
              "#fb9f3a"
             ],
             [
              0.8888888888888888,
              "#fdca26"
             ],
             [
              1,
              "#f0f921"
             ]
            ],
            "type": "histogram2dcontour"
           }
          ],
          "mesh3d": [
           {
            "colorbar": {
             "outlinewidth": 0,
             "ticks": ""
            },
            "type": "mesh3d"
           }
          ],
          "parcoords": [
           {
            "line": {
             "colorbar": {
              "outlinewidth": 0,
              "ticks": ""
             }
            },
            "type": "parcoords"
           }
          ],
          "pie": [
           {
            "automargin": true,
            "type": "pie"
           }
          ],
          "scatter": [
           {
            "fillpattern": {
             "fillmode": "overlay",
             "size": 10,
             "solidity": 0.2
            },
            "type": "scatter"
           }
          ],
          "scatter3d": [
           {
            "line": {
             "colorbar": {
              "outlinewidth": 0,
              "ticks": ""
             }
            },
            "marker": {
             "colorbar": {
              "outlinewidth": 0,
              "ticks": ""
             }
            },
            "type": "scatter3d"
           }
          ],
          "scattercarpet": [
           {
            "marker": {
             "colorbar": {
              "outlinewidth": 0,
              "ticks": ""
             }
            },
            "type": "scattercarpet"
           }
          ],
          "scattergeo": [
           {
            "marker": {
             "colorbar": {
              "outlinewidth": 0,
              "ticks": ""
             }
            },
            "type": "scattergeo"
           }
          ],
          "scattergl": [
           {
            "marker": {
             "colorbar": {
              "outlinewidth": 0,
              "ticks": ""
             }
            },
            "type": "scattergl"
           }
          ],
          "scattermap": [
           {
            "marker": {
             "colorbar": {
              "outlinewidth": 0,
              "ticks": ""
             }
            },
            "type": "scattermap"
           }
          ],
          "scattermapbox": [
           {
            "marker": {
             "colorbar": {
              "outlinewidth": 0,
              "ticks": ""
             }
            },
            "type": "scattermapbox"
           }
          ],
          "scatterpolar": [
           {
            "marker": {
             "colorbar": {
              "outlinewidth": 0,
              "ticks": ""
             }
            },
            "type": "scatterpolar"
           }
          ],
          "scatterpolargl": [
           {
            "marker": {
             "colorbar": {
              "outlinewidth": 0,
              "ticks": ""
             }
            },
            "type": "scatterpolargl"
           }
          ],
          "scatterternary": [
           {
            "marker": {
             "colorbar": {
              "outlinewidth": 0,
              "ticks": ""
             }
            },
            "type": "scatterternary"
           }
          ],
          "surface": [
           {
            "colorbar": {
             "outlinewidth": 0,
             "ticks": ""
            },
            "colorscale": [
             [
              0,
              "#0d0887"
             ],
             [
              0.1111111111111111,
              "#46039f"
             ],
             [
              0.2222222222222222,
              "#7201a8"
             ],
             [
              0.3333333333333333,
              "#9c179e"
             ],
             [
              0.4444444444444444,
              "#bd3786"
             ],
             [
              0.5555555555555556,
              "#d8576b"
             ],
             [
              0.6666666666666666,
              "#ed7953"
             ],
             [
              0.7777777777777778,
              "#fb9f3a"
             ],
             [
              0.8888888888888888,
              "#fdca26"
             ],
             [
              1,
              "#f0f921"
             ]
            ],
            "type": "surface"
           }
          ],
          "table": [
           {
            "cells": {
             "fill": {
              "color": "#EBF0F8"
             },
             "line": {
              "color": "white"
             }
            },
            "header": {
             "fill": {
              "color": "#C8D4E3"
             },
             "line": {
              "color": "white"
             }
            },
            "type": "table"
           }
          ]
         },
         "layout": {
          "annotationdefaults": {
           "arrowcolor": "#2a3f5f",
           "arrowhead": 0,
           "arrowwidth": 1
          },
          "autotypenumbers": "strict",
          "coloraxis": {
           "colorbar": {
            "outlinewidth": 0,
            "ticks": ""
           }
          },
          "colorscale": {
           "diverging": [
            [
             0,
             "#8e0152"
            ],
            [
             0.1,
             "#c51b7d"
            ],
            [
             0.2,
             "#de77ae"
            ],
            [
             0.3,
             "#f1b6da"
            ],
            [
             0.4,
             "#fde0ef"
            ],
            [
             0.5,
             "#f7f7f7"
            ],
            [
             0.6,
             "#e6f5d0"
            ],
            [
             0.7,
             "#b8e186"
            ],
            [
             0.8,
             "#7fbc41"
            ],
            [
             0.9,
             "#4d9221"
            ],
            [
             1,
             "#276419"
            ]
           ],
           "sequential": [
            [
             0,
             "#0d0887"
            ],
            [
             0.1111111111111111,
             "#46039f"
            ],
            [
             0.2222222222222222,
             "#7201a8"
            ],
            [
             0.3333333333333333,
             "#9c179e"
            ],
            [
             0.4444444444444444,
             "#bd3786"
            ],
            [
             0.5555555555555556,
             "#d8576b"
            ],
            [
             0.6666666666666666,
             "#ed7953"
            ],
            [
             0.7777777777777778,
             "#fb9f3a"
            ],
            [
             0.8888888888888888,
             "#fdca26"
            ],
            [
             1,
             "#f0f921"
            ]
           ],
           "sequentialminus": [
            [
             0,
             "#0d0887"
            ],
            [
             0.1111111111111111,
             "#46039f"
            ],
            [
             0.2222222222222222,
             "#7201a8"
            ],
            [
             0.3333333333333333,
             "#9c179e"
            ],
            [
             0.4444444444444444,
             "#bd3786"
            ],
            [
             0.5555555555555556,
             "#d8576b"
            ],
            [
             0.6666666666666666,
             "#ed7953"
            ],
            [
             0.7777777777777778,
             "#fb9f3a"
            ],
            [
             0.8888888888888888,
             "#fdca26"
            ],
            [
             1,
             "#f0f921"
            ]
           ]
          },
          "colorway": [
           "#636efa",
           "#EF553B",
           "#00cc96",
           "#ab63fa",
           "#FFA15A",
           "#19d3f3",
           "#FF6692",
           "#B6E880",
           "#FF97FF",
           "#FECB52"
          ],
          "font": {
           "color": "#2a3f5f"
          },
          "geo": {
           "bgcolor": "white",
           "lakecolor": "white",
           "landcolor": "#E5ECF6",
           "showlakes": true,
           "showland": true,
           "subunitcolor": "white"
          },
          "hoverlabel": {
           "align": "left"
          },
          "hovermode": "closest",
          "mapbox": {
           "style": "light"
          },
          "paper_bgcolor": "white",
          "plot_bgcolor": "#E5ECF6",
          "polar": {
           "angularaxis": {
            "gridcolor": "white",
            "linecolor": "white",
            "ticks": ""
           },
           "bgcolor": "#E5ECF6",
           "radialaxis": {
            "gridcolor": "white",
            "linecolor": "white",
            "ticks": ""
           }
          },
          "scene": {
           "xaxis": {
            "backgroundcolor": "#E5ECF6",
            "gridcolor": "white",
            "gridwidth": 2,
            "linecolor": "white",
            "showbackground": true,
            "ticks": "",
            "zerolinecolor": "white"
           },
           "yaxis": {
            "backgroundcolor": "#E5ECF6",
            "gridcolor": "white",
            "gridwidth": 2,
            "linecolor": "white",
            "showbackground": true,
            "ticks": "",
            "zerolinecolor": "white"
           },
           "zaxis": {
            "backgroundcolor": "#E5ECF6",
            "gridcolor": "white",
            "gridwidth": 2,
            "linecolor": "white",
            "showbackground": true,
            "ticks": "",
            "zerolinecolor": "white"
           }
          },
          "shapedefaults": {
           "line": {
            "color": "#2a3f5f"
           }
          },
          "ternary": {
           "aaxis": {
            "gridcolor": "white",
            "linecolor": "white",
            "ticks": ""
           },
           "baxis": {
            "gridcolor": "white",
            "linecolor": "white",
            "ticks": ""
           },
           "bgcolor": "#E5ECF6",
           "caxis": {
            "gridcolor": "white",
            "linecolor": "white",
            "ticks": ""
           }
          },
          "title": {
           "x": 0.05
          },
          "xaxis": {
           "automargin": true,
           "gridcolor": "white",
           "linecolor": "white",
           "ticks": "",
           "title": {
            "standoff": 15
           },
           "zerolinecolor": "white",
           "zerolinewidth": 2
          },
          "yaxis": {
           "automargin": true,
           "gridcolor": "white",
           "linecolor": "white",
           "ticks": "",
           "title": {
            "standoff": 15
           },
           "zerolinecolor": "white",
           "zerolinewidth": 2
          }
         }
        },
        "xaxis": {
         "anchor": "y",
         "domain": [
          0,
          0.45
         ]
        },
        "xaxis2": {
         "anchor": "y2",
         "domain": [
          0.55,
          1
         ]
        },
        "yaxis": {
         "anchor": "x",
         "domain": [
          0,
          1
         ]
        },
        "yaxis2": {
         "anchor": "x2",
         "domain": [
          0,
          1
         ]
        }
       }
      }
     },
     "metadata": {},
     "output_type": "display_data"
    }
   ],
   "source": [
    "category_counts = train_df['Category'].value_counts(normalize=True)\n",
    "\n",
    "fig = make_subplots(\n",
    "    rows=1, cols=2,\n",
    "    subplot_titles=(\"Count of Categories\", \"Proportion of Categories\")\n",
    ")\n",
    "\n",
    "fig.add_trace(\n",
    "    go.Histogram(\n",
    "        x=train_df['Category'],\n",
    "        name=\"Count\"\n",
    "    ),\n",
    "    row=1, col=1\n",
    ")\n",
    "\n",
    "fig.add_trace(\n",
    "    go.Bar(\n",
    "        x=category_counts.index,\n",
    "        y=category_counts.values,\n",
    "        name=\"Proportion\"\n",
    "    ),\n",
    "    row=1, col=2\n",
    ")\n",
    "\n",
    "fig.show()"
   ]
  },
  {
   "cell_type": "markdown",
   "id": "0ec5e6a9",
   "metadata": {},
   "source": [
    "It appears that the dataset is relatively balanced, with a slight imbalance towards the 'sport' category. "
   ]
  },
  {
   "cell_type": "code",
   "execution_count": 14,
   "id": "08ac3c91",
   "metadata": {},
   "outputs": [
    {
     "name": "stdout",
     "output_type": "stream",
     "text": [
      "count     1490.000000\n",
      "mean      2233.461745\n",
      "std       1205.153358\n",
      "min        501.000000\n",
      "25%       1453.000000\n",
      "50%       1961.000000\n",
      "75%       2751.250000\n",
      "max      18387.000000\n",
      "Name: Text, dtype: float64\n"
     ]
    },
    {
     "data": {
      "application/vnd.plotly.v1+json": {
       "config": {
        "plotlyServerURL": "https://plot.ly"
       },
       "data": [
        {
         "bingroup": "x",
         "hovertemplate": "variable=Text<br>value=%{x}<br>count=%{y}<extra></extra>",
         "legendgroup": "Text",
         "marker": {
          "color": "#636efa",
          "pattern": {
           "shape": ""
          }
         },
         "name": "Text",
         "orientation": "v",
         "showlegend": true,
         "type": "histogram",
         "x": {
          "bdata": "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",
          "dtype": "i2"
         },
         "xaxis": "x",
         "yaxis": "y"
        }
       ],
       "layout": {
        "barmode": "relative",
        "legend": {
         "title": {
          "text": "variable"
         },
         "tracegroupgap": 0
        },
        "template": {
         "data": {
          "bar": [
           {
            "error_x": {
             "color": "#2a3f5f"
            },
            "error_y": {
             "color": "#2a3f5f"
            },
            "marker": {
             "line": {
              "color": "#E5ECF6",
              "width": 0.5
             },
             "pattern": {
              "fillmode": "overlay",
              "size": 10,
              "solidity": 0.2
             }
            },
            "type": "bar"
           }
          ],
          "barpolar": [
           {
            "marker": {
             "line": {
              "color": "#E5ECF6",
              "width": 0.5
             },
             "pattern": {
              "fillmode": "overlay",
              "size": 10,
              "solidity": 0.2
             }
            },
            "type": "barpolar"
           }
          ],
          "carpet": [
           {
            "aaxis": {
             "endlinecolor": "#2a3f5f",
             "gridcolor": "white",
             "linecolor": "white",
             "minorgridcolor": "white",
             "startlinecolor": "#2a3f5f"
            },
            "baxis": {
             "endlinecolor": "#2a3f5f",
             "gridcolor": "white",
             "linecolor": "white",
             "minorgridcolor": "white",
             "startlinecolor": "#2a3f5f"
            },
            "type": "carpet"
           }
          ],
          "choropleth": [
           {
            "colorbar": {
             "outlinewidth": 0,
             "ticks": ""
            },
            "type": "choropleth"
           }
          ],
          "contour": [
           {
            "colorbar": {
             "outlinewidth": 0,
             "ticks": ""
            },
            "colorscale": [
             [
              0,
              "#0d0887"
             ],
             [
              0.1111111111111111,
              "#46039f"
             ],
             [
              0.2222222222222222,
              "#7201a8"
             ],
             [
              0.3333333333333333,
              "#9c179e"
             ],
             [
              0.4444444444444444,
              "#bd3786"
             ],
             [
              0.5555555555555556,
              "#d8576b"
             ],
             [
              0.6666666666666666,
              "#ed7953"
             ],
             [
              0.7777777777777778,
              "#fb9f3a"
             ],
             [
              0.8888888888888888,
              "#fdca26"
             ],
             [
              1,
              "#f0f921"
             ]
            ],
            "type": "contour"
           }
          ],
          "contourcarpet": [
           {
            "colorbar": {
             "outlinewidth": 0,
             "ticks": ""
            },
            "type": "contourcarpet"
           }
          ],
          "heatmap": [
           {
            "colorbar": {
             "outlinewidth": 0,
             "ticks": ""
            },
            "colorscale": [
             [
              0,
              "#0d0887"
             ],
             [
              0.1111111111111111,
              "#46039f"
             ],
             [
              0.2222222222222222,
              "#7201a8"
             ],
             [
              0.3333333333333333,
              "#9c179e"
             ],
             [
              0.4444444444444444,
              "#bd3786"
             ],
             [
              0.5555555555555556,
              "#d8576b"
             ],
             [
              0.6666666666666666,
              "#ed7953"
             ],
             [
              0.7777777777777778,
              "#fb9f3a"
             ],
             [
              0.8888888888888888,
              "#fdca26"
             ],
             [
              1,
              "#f0f921"
             ]
            ],
            "type": "heatmap"
           }
          ],
          "histogram": [
           {
            "marker": {
             "pattern": {
              "fillmode": "overlay",
              "size": 10,
              "solidity": 0.2
             }
            },
            "type": "histogram"
           }
          ],
          "histogram2d": [
           {
            "colorbar": {
             "outlinewidth": 0,
             "ticks": ""
            },
            "colorscale": [
             [
              0,
              "#0d0887"
             ],
             [
              0.1111111111111111,
              "#46039f"
             ],
             [
              0.2222222222222222,
              "#7201a8"
             ],
             [
              0.3333333333333333,
              "#9c179e"
             ],
             [
              0.4444444444444444,
              "#bd3786"
             ],
             [
              0.5555555555555556,
              "#d8576b"
             ],
             [
              0.6666666666666666,
              "#ed7953"
             ],
             [
              0.7777777777777778,
              "#fb9f3a"
             ],
             [
              0.8888888888888888,
              "#fdca26"
             ],
             [
              1,
              "#f0f921"
             ]
            ],
            "type": "histogram2d"
           }
          ],
          "histogram2dcontour": [
           {
            "colorbar": {
             "outlinewidth": 0,
             "ticks": ""
            },
            "colorscale": [
             [
              0,
              "#0d0887"
             ],
             [
              0.1111111111111111,
              "#46039f"
             ],
             [
              0.2222222222222222,
              "#7201a8"
             ],
             [
              0.3333333333333333,
              "#9c179e"
             ],
             [
              0.4444444444444444,
              "#bd3786"
             ],
             [
              0.5555555555555556,
              "#d8576b"
             ],
             [
              0.6666666666666666,
              "#ed7953"
             ],
             [
              0.7777777777777778,
              "#fb9f3a"
             ],
             [
              0.8888888888888888,
              "#fdca26"
             ],
             [
              1,
              "#f0f921"
             ]
            ],
            "type": "histogram2dcontour"
           }
          ],
          "mesh3d": [
           {
            "colorbar": {
             "outlinewidth": 0,
             "ticks": ""
            },
            "type": "mesh3d"
           }
          ],
          "parcoords": [
           {
            "line": {
             "colorbar": {
              "outlinewidth": 0,
              "ticks": ""
             }
            },
            "type": "parcoords"
           }
          ],
          "pie": [
           {
            "automargin": true,
            "type": "pie"
           }
          ],
          "scatter": [
           {
            "fillpattern": {
             "fillmode": "overlay",
             "size": 10,
             "solidity": 0.2
            },
            "type": "scatter"
           }
          ],
          "scatter3d": [
           {
            "line": {
             "colorbar": {
              "outlinewidth": 0,
              "ticks": ""
             }
            },
            "marker": {
             "colorbar": {
              "outlinewidth": 0,
              "ticks": ""
             }
            },
            "type": "scatter3d"
           }
          ],
          "scattercarpet": [
           {
            "marker": {
             "colorbar": {
              "outlinewidth": 0,
              "ticks": ""
             }
            },
            "type": "scattercarpet"
           }
          ],
          "scattergeo": [
           {
            "marker": {
             "colorbar": {
              "outlinewidth": 0,
              "ticks": ""
             }
            },
            "type": "scattergeo"
           }
          ],
          "scattergl": [
           {
            "marker": {
             "colorbar": {
              "outlinewidth": 0,
              "ticks": ""
             }
            },
            "type": "scattergl"
           }
          ],
          "scattermap": [
           {
            "marker": {
             "colorbar": {
              "outlinewidth": 0,
              "ticks": ""
             }
            },
            "type": "scattermap"
           }
          ],
          "scattermapbox": [
           {
            "marker": {
             "colorbar": {
              "outlinewidth": 0,
              "ticks": ""
             }
            },
            "type": "scattermapbox"
           }
          ],
          "scatterpolar": [
           {
            "marker": {
             "colorbar": {
              "outlinewidth": 0,
              "ticks": ""
             }
            },
            "type": "scatterpolar"
           }
          ],
          "scatterpolargl": [
           {
            "marker": {
             "colorbar": {
              "outlinewidth": 0,
              "ticks": ""
             }
            },
            "type": "scatterpolargl"
           }
          ],
          "scatterternary": [
           {
            "marker": {
             "colorbar": {
              "outlinewidth": 0,
              "ticks": ""
             }
            },
            "type": "scatterternary"
           }
          ],
          "surface": [
           {
            "colorbar": {
             "outlinewidth": 0,
             "ticks": ""
            },
            "colorscale": [
             [
              0,
              "#0d0887"
             ],
             [
              0.1111111111111111,
              "#46039f"
             ],
             [
              0.2222222222222222,
              "#7201a8"
             ],
             [
              0.3333333333333333,
              "#9c179e"
             ],
             [
              0.4444444444444444,
              "#bd3786"
             ],
             [
              0.5555555555555556,
              "#d8576b"
             ],
             [
              0.6666666666666666,
              "#ed7953"
             ],
             [
              0.7777777777777778,
              "#fb9f3a"
             ],
             [
              0.8888888888888888,
              "#fdca26"
             ],
             [
              1,
              "#f0f921"
             ]
            ],
            "type": "surface"
           }
          ],
          "table": [
           {
            "cells": {
             "fill": {
              "color": "#EBF0F8"
             },
             "line": {
              "color": "white"
             }
            },
            "header": {
             "fill": {
              "color": "#C8D4E3"
             },
             "line": {
              "color": "white"
             }
            },
            "type": "table"
           }
          ]
         },
         "layout": {
          "annotationdefaults": {
           "arrowcolor": "#2a3f5f",
           "arrowhead": 0,
           "arrowwidth": 1
          },
          "autotypenumbers": "strict",
          "coloraxis": {
           "colorbar": {
            "outlinewidth": 0,
            "ticks": ""
           }
          },
          "colorscale": {
           "diverging": [
            [
             0,
             "#8e0152"
            ],
            [
             0.1,
             "#c51b7d"
            ],
            [
             0.2,
             "#de77ae"
            ],
            [
             0.3,
             "#f1b6da"
            ],
            [
             0.4,
             "#fde0ef"
            ],
            [
             0.5,
             "#f7f7f7"
            ],
            [
             0.6,
             "#e6f5d0"
            ],
            [
             0.7,
             "#b8e186"
            ],
            [
             0.8,
             "#7fbc41"
            ],
            [
             0.9,
             "#4d9221"
            ],
            [
             1,
             "#276419"
            ]
           ],
           "sequential": [
            [
             0,
             "#0d0887"
            ],
            [
             0.1111111111111111,
             "#46039f"
            ],
            [
             0.2222222222222222,
             "#7201a8"
            ],
            [
             0.3333333333333333,
             "#9c179e"
            ],
            [
             0.4444444444444444,
             "#bd3786"
            ],
            [
             0.5555555555555556,
             "#d8576b"
            ],
            [
             0.6666666666666666,
             "#ed7953"
            ],
            [
             0.7777777777777778,
             "#fb9f3a"
            ],
            [
             0.8888888888888888,
             "#fdca26"
            ],
            [
             1,
             "#f0f921"
            ]
           ],
           "sequentialminus": [
            [
             0,
             "#0d0887"
            ],
            [
             0.1111111111111111,
             "#46039f"
            ],
            [
             0.2222222222222222,
             "#7201a8"
            ],
            [
             0.3333333333333333,
             "#9c179e"
            ],
            [
             0.4444444444444444,
             "#bd3786"
            ],
            [
             0.5555555555555556,
             "#d8576b"
            ],
            [
             0.6666666666666666,
             "#ed7953"
            ],
            [
             0.7777777777777778,
             "#fb9f3a"
            ],
            [
             0.8888888888888888,
             "#fdca26"
            ],
            [
             1,
             "#f0f921"
            ]
           ]
          },
          "colorway": [
           "#636efa",
           "#EF553B",
           "#00cc96",
           "#ab63fa",
           "#FFA15A",
           "#19d3f3",
           "#FF6692",
           "#B6E880",
           "#FF97FF",
           "#FECB52"
          ],
          "font": {
           "color": "#2a3f5f"
          },
          "geo": {
           "bgcolor": "white",
           "lakecolor": "white",
           "landcolor": "#E5ECF6",
           "showlakes": true,
           "showland": true,
           "subunitcolor": "white"
          },
          "hoverlabel": {
           "align": "left"
          },
          "hovermode": "closest",
          "mapbox": {
           "style": "light"
          },
          "paper_bgcolor": "white",
          "plot_bgcolor": "#E5ECF6",
          "polar": {
           "angularaxis": {
            "gridcolor": "white",
            "linecolor": "white",
            "ticks": ""
           },
           "bgcolor": "#E5ECF6",
           "radialaxis": {
            "gridcolor": "white",
            "linecolor": "white",
            "ticks": ""
           }
          },
          "scene": {
           "xaxis": {
            "backgroundcolor": "#E5ECF6",
            "gridcolor": "white",
            "gridwidth": 2,
            "linecolor": "white",
            "showbackground": true,
            "ticks": "",
            "zerolinecolor": "white"
           },
           "yaxis": {
            "backgroundcolor": "#E5ECF6",
            "gridcolor": "white",
            "gridwidth": 2,
            "linecolor": "white",
            "showbackground": true,
            "ticks": "",
            "zerolinecolor": "white"
           },
           "zaxis": {
            "backgroundcolor": "#E5ECF6",
            "gridcolor": "white",
            "gridwidth": 2,
            "linecolor": "white",
            "showbackground": true,
            "ticks": "",
            "zerolinecolor": "white"
           }
          },
          "shapedefaults": {
           "line": {
            "color": "#2a3f5f"
           }
          },
          "ternary": {
           "aaxis": {
            "gridcolor": "white",
            "linecolor": "white",
            "ticks": ""
           },
           "baxis": {
            "gridcolor": "white",
            "linecolor": "white",
            "ticks": ""
           },
           "bgcolor": "#E5ECF6",
           "caxis": {
            "gridcolor": "white",
            "linecolor": "white",
            "ticks": ""
           }
          },
          "title": {
           "x": 0.05
          },
          "xaxis": {
           "automargin": true,
           "gridcolor": "white",
           "linecolor": "white",
           "ticks": "",
           "title": {
            "standoff": 15
           },
           "zerolinecolor": "white",
           "zerolinewidth": 2
          },
          "yaxis": {
           "automargin": true,
           "gridcolor": "white",
           "linecolor": "white",
           "ticks": "",
           "title": {
            "standoff": 15
           },
           "zerolinecolor": "white",
           "zerolinewidth": 2
          }
         }
        },
        "title": {
         "text": "Distribution of Text Lengths in Training Set"
        },
        "xaxis": {
         "anchor": "y",
         "domain": [
          0,
          1
         ],
         "title": {
          "text": "Text Length"
         }
        },
        "yaxis": {
         "anchor": "x",
         "domain": [
          0,
          1
         ],
         "title": {
          "text": "Count"
         }
        }
       }
      }
     },
     "metadata": {},
     "output_type": "display_data"
    }
   ],
   "source": [
    "# mean, min, max, and std of the length of the text in the training set\n",
    "text_length = train_df['Text'].apply(len)\n",
    "print(text_length.describe())\n",
    "\n",
    "# Visualize the distribution of text lengths in the training set\n",
    "fig = px.histogram(text_length, title='Distribution of Text Lengths in Training Set')\n",
    "fig.update_xaxes(title='Text Length')\n",
    "fig.update_yaxes(title='Count')\n",
    "fig.show()"
   ]
  },
  {
   "cell_type": "markdown",
   "id": "c1bf2be0",
   "metadata": {},
   "source": [
    "## Duplicated Rows\n",
    "\n",
    "Now let's check for duplicated rows in the training set. Duplicated rows can lead to biased results, so it's important to identify and handle them appropriately. Here we only care about the `text` column, as the `category` column is the target variable.\n",
    "\n"
   ]
  },
  {
   "cell_type": "code",
   "execution_count": 15,
   "id": "84a4793e",
   "metadata": {},
   "outputs": [
    {
     "data": {
      "text/plain": [
       "50"
      ]
     },
     "execution_count": 15,
     "metadata": {},
     "output_type": "execute_result"
    }
   ],
   "source": [
    "train_df[\"Text\"].duplicated().sum()"
   ]
  },
  {
   "cell_type": "markdown",
   "id": "0ded376d",
   "metadata": {},
   "source": [
    "It appears that we have 50 duplicated rows in the training set. We can remove these duplicateto ensure that our model is trained on unique data points."
   ]
  },
  {
   "cell_type": "code",
   "execution_count": 16,
   "id": "b48cd63d",
   "metadata": {},
   "outputs": [],
   "source": [
    "train_df = train_df[~train_df[\"Text\"].duplicated()]"
   ]
  },
  {
   "cell_type": "markdown",
   "id": "7e968326",
   "metadata": {},
   "source": [
    "## Data Preprocessing\n",
    "\n",
    "I'll do some simple preprocessing steps to clean the text data. This includes:\n",
    "- Lowercasing the text\n",
    "- Removing punctuation\n",
    "- Tokenizing the text using NLTK\n",
    "- Removing stop words (using NLTK's English stop words list)"
   ]
  },
  {
   "cell_type": "code",
   "execution_count": 17,
   "id": "19c33b1e",
   "metadata": {},
   "outputs": [
    {
     "name": "stderr",
     "output_type": "stream",
     "text": [
      "[nltk_data] Downloading package stopwords to /Users/mark/nltk_data...\n",
      "[nltk_data]   Package stopwords is already up-to-date!\n"
     ]
    }
   ],
   "source": [
    "\n",
    "def clean_text(text):\n",
    "    text = text.lower()\n",
    "    text = re.sub(r'[^a-z0-9\\s]', '', text)\n",
    "    return text\n",
    "\n",
    "def tokenize(text):\n",
    "    return word_tokenize(text)\n",
    "\n",
    "df = train_df.copy(deep=True)\n",
    "df['text'] = df['Text'].astype(str) \n",
    "\n",
    "df['clean_text'] = df['text'].apply(clean_text)\n",
    "\n",
    "\n",
    "# hanling stop words\n",
    "\n",
    "nltk.download('stopwords')\n",
    "stop_words = set(stopwords.words('english'))\n",
    "\n",
    "def remove_stop_words(tokens):\n",
    "    return [word for word in tokens if word not in stop_words]\n",
    "\n",
    "df['tokens'] = df['clean_text'].apply(tokenize).apply(remove_stop_words)\n",
    "\n"
   ]
  },
  {
   "cell_type": "code",
   "execution_count": 18,
   "id": "74ea0240",
   "metadata": {},
   "outputs": [
    {
     "data": {
      "text/html": [
       "<div>\n",
       "<style scoped>\n",
       "    .dataframe tbody tr th:only-of-type {\n",
       "        vertical-align: middle;\n",
       "    }\n",
       "\n",
       "    .dataframe tbody tr th {\n",
       "        vertical-align: top;\n",
       "    }\n",
       "\n",
       "    .dataframe thead th {\n",
       "        text-align: right;\n",
       "    }\n",
       "</style>\n",
       "<table border=\"1\" class=\"dataframe\">\n",
       "  <thead>\n",
       "    <tr style=\"text-align: right;\">\n",
       "      <th></th>\n",
       "      <th>ArticleId</th>\n",
       "      <th>Text</th>\n",
       "      <th>Category</th>\n",
       "      <th>text</th>\n",
       "      <th>clean_text</th>\n",
       "      <th>tokens</th>\n",
       "    </tr>\n",
       "  </thead>\n",
       "  <tbody>\n",
       "    <tr>\n",
       "      <th>0</th>\n",
       "      <td>1833</td>\n",
       "      <td>worldcom ex-boss launches defence lawyers defe...</td>\n",
       "      <td>business</td>\n",
       "      <td>worldcom ex-boss launches defence lawyers defe...</td>\n",
       "      <td>worldcom exboss launches defence lawyers defen...</td>\n",
       "      <td>[worldcom, exboss, launches, defence, lawyers,...</td>\n",
       "    </tr>\n",
       "    <tr>\n",
       "      <th>1</th>\n",
       "      <td>154</td>\n",
       "      <td>german business confidence slides german busin...</td>\n",
       "      <td>business</td>\n",
       "      <td>german business confidence slides german busin...</td>\n",
       "      <td>german business confidence slides german busin...</td>\n",
       "      <td>[german, business, confidence, slides, german,...</td>\n",
       "    </tr>\n",
       "    <tr>\n",
       "      <th>2</th>\n",
       "      <td>1101</td>\n",
       "      <td>bbc poll indicates economic gloom citizens in ...</td>\n",
       "      <td>business</td>\n",
       "      <td>bbc poll indicates economic gloom citizens in ...</td>\n",
       "      <td>bbc poll indicates economic gloom citizens in ...</td>\n",
       "      <td>[bbc, poll, indicates, economic, gloom, citize...</td>\n",
       "    </tr>\n",
       "    <tr>\n",
       "      <th>3</th>\n",
       "      <td>1976</td>\n",
       "      <td>lifestyle  governs mobile choice  faster  bett...</td>\n",
       "      <td>tech</td>\n",
       "      <td>lifestyle  governs mobile choice  faster  bett...</td>\n",
       "      <td>lifestyle  governs mobile choice  faster  bett...</td>\n",
       "      <td>[lifestyle, governs, mobile, choice, faster, b...</td>\n",
       "    </tr>\n",
       "    <tr>\n",
       "      <th>4</th>\n",
       "      <td>917</td>\n",
       "      <td>enron bosses in $168m payout eighteen former e...</td>\n",
       "      <td>business</td>\n",
       "      <td>enron bosses in $168m payout eighteen former e...</td>\n",
       "      <td>enron bosses in 168m payout eighteen former en...</td>\n",
       "      <td>[enron, bosses, 168m, payout, eighteen, former...</td>\n",
       "    </tr>\n",
       "    <tr>\n",
       "      <th>...</th>\n",
       "      <td>...</td>\n",
       "      <td>...</td>\n",
       "      <td>...</td>\n",
       "      <td>...</td>\n",
       "      <td>...</td>\n",
       "      <td>...</td>\n",
       "    </tr>\n",
       "    <tr>\n",
       "      <th>1485</th>\n",
       "      <td>857</td>\n",
       "      <td>double eviction from big brother model caprice...</td>\n",
       "      <td>entertainment</td>\n",
       "      <td>double eviction from big brother model caprice...</td>\n",
       "      <td>double eviction from big brother model caprice...</td>\n",
       "      <td>[double, eviction, big, brother, model, capric...</td>\n",
       "    </tr>\n",
       "    <tr>\n",
       "      <th>1486</th>\n",
       "      <td>325</td>\n",
       "      <td>dj double act revamp chart show dj duo jk and ...</td>\n",
       "      <td>entertainment</td>\n",
       "      <td>dj double act revamp chart show dj duo jk and ...</td>\n",
       "      <td>dj double act revamp chart show dj duo jk and ...</td>\n",
       "      <td>[dj, double, act, revamp, chart, show, dj, duo...</td>\n",
       "    </tr>\n",
       "    <tr>\n",
       "      <th>1487</th>\n",
       "      <td>1590</td>\n",
       "      <td>weak dollar hits reuters revenues at media gro...</td>\n",
       "      <td>business</td>\n",
       "      <td>weak dollar hits reuters revenues at media gro...</td>\n",
       "      <td>weak dollar hits reuters revenues at media gro...</td>\n",
       "      <td>[weak, dollar, hits, reuters, revenues, media,...</td>\n",
       "    </tr>\n",
       "    <tr>\n",
       "      <th>1488</th>\n",
       "      <td>1587</td>\n",
       "      <td>apple ipod family expands market apple has exp...</td>\n",
       "      <td>tech</td>\n",
       "      <td>apple ipod family expands market apple has exp...</td>\n",
       "      <td>apple ipod family expands market apple has exp...</td>\n",
       "      <td>[apple, ipod, family, expands, market, apple, ...</td>\n",
       "    </tr>\n",
       "    <tr>\n",
       "      <th>1489</th>\n",
       "      <td>538</td>\n",
       "      <td>santy worm makes unwelcome visit thousands of ...</td>\n",
       "      <td>tech</td>\n",
       "      <td>santy worm makes unwelcome visit thousands of ...</td>\n",
       "      <td>santy worm makes unwelcome visit thousands of ...</td>\n",
       "      <td>[santy, worm, makes, unwelcome, visit, thousan...</td>\n",
       "    </tr>\n",
       "  </tbody>\n",
       "</table>\n",
       "<p>1440 rows × 6 columns</p>\n",
       "</div>"
      ],
      "text/plain": [
       "      ArticleId                                               Text  \\\n",
       "0          1833  worldcom ex-boss launches defence lawyers defe...   \n",
       "1           154  german business confidence slides german busin...   \n",
       "2          1101  bbc poll indicates economic gloom citizens in ...   \n",
       "3          1976  lifestyle  governs mobile choice  faster  bett...   \n",
       "4           917  enron bosses in $168m payout eighteen former e...   \n",
       "...         ...                                                ...   \n",
       "1485        857  double eviction from big brother model caprice...   \n",
       "1486        325  dj double act revamp chart show dj duo jk and ...   \n",
       "1487       1590  weak dollar hits reuters revenues at media gro...   \n",
       "1488       1587  apple ipod family expands market apple has exp...   \n",
       "1489        538  santy worm makes unwelcome visit thousands of ...   \n",
       "\n",
       "           Category                                               text  \\\n",
       "0          business  worldcom ex-boss launches defence lawyers defe...   \n",
       "1          business  german business confidence slides german busin...   \n",
       "2          business  bbc poll indicates economic gloom citizens in ...   \n",
       "3              tech  lifestyle  governs mobile choice  faster  bett...   \n",
       "4          business  enron bosses in $168m payout eighteen former e...   \n",
       "...             ...                                                ...   \n",
       "1485  entertainment  double eviction from big brother model caprice...   \n",
       "1486  entertainment  dj double act revamp chart show dj duo jk and ...   \n",
       "1487       business  weak dollar hits reuters revenues at media gro...   \n",
       "1488           tech  apple ipod family expands market apple has exp...   \n",
       "1489           tech  santy worm makes unwelcome visit thousands of ...   \n",
       "\n",
       "                                             clean_text  \\\n",
       "0     worldcom exboss launches defence lawyers defen...   \n",
       "1     german business confidence slides german busin...   \n",
       "2     bbc poll indicates economic gloom citizens in ...   \n",
       "3     lifestyle  governs mobile choice  faster  bett...   \n",
       "4     enron bosses in 168m payout eighteen former en...   \n",
       "...                                                 ...   \n",
       "1485  double eviction from big brother model caprice...   \n",
       "1486  dj double act revamp chart show dj duo jk and ...   \n",
       "1487  weak dollar hits reuters revenues at media gro...   \n",
       "1488  apple ipod family expands market apple has exp...   \n",
       "1489  santy worm makes unwelcome visit thousands of ...   \n",
       "\n",
       "                                                 tokens  \n",
       "0     [worldcom, exboss, launches, defence, lawyers,...  \n",
       "1     [german, business, confidence, slides, german,...  \n",
       "2     [bbc, poll, indicates, economic, gloom, citize...  \n",
       "3     [lifestyle, governs, mobile, choice, faster, b...  \n",
       "4     [enron, bosses, 168m, payout, eighteen, former...  \n",
       "...                                                 ...  \n",
       "1485  [double, eviction, big, brother, model, capric...  \n",
       "1486  [dj, double, act, revamp, chart, show, dj, duo...  \n",
       "1487  [weak, dollar, hits, reuters, revenues, media,...  \n",
       "1488  [apple, ipod, family, expands, market, apple, ...  \n",
       "1489  [santy, worm, makes, unwelcome, visit, thousan...  \n",
       "\n",
       "[1440 rows x 6 columns]"
      ]
     },
     "execution_count": 18,
     "metadata": {},
     "output_type": "execute_result"
    }
   ],
   "source": [
    "df"
   ]
  },
  {
   "cell_type": "markdown",
   "id": "393cf1ed",
   "metadata": {},
   "source": [
    "## Unique Tokens\n",
    "\n",
    "Let's take a look at the unique tokens in the training set after preprocessing. This will give us an idea of the vocabulary size and the diversity of the text data."
   ]
  },
  {
   "cell_type": "code",
   "execution_count": 19,
   "id": "4fc15905",
   "metadata": {},
   "outputs": [
    {
     "name": "stdout",
     "output_type": "stream",
     "text": [
      "Number of unique tokens in the training set: 27132\n"
     ]
    }
   ],
   "source": [
    "# number of unique tokens in the training set\n",
    "unique_tokens = set()\n",
    "for tokens in df['tokens']:\n",
    "    unique_tokens.update(tokens)\n",
    "\n",
    "print(f\"Number of unique tokens in the training set: {len(unique_tokens)}\")"
   ]
  },
  {
   "cell_type": "markdown",
   "id": "fd30838c",
   "metadata": {},
   "source": [
    "## Document Vectors\n",
    "\n",
    "Now, I use GloVe to convert the acquired tokens into document vectors. GloVe provides pre-trained word vectors that can be used to represent words in a continuous vector space, However, for our unsupervised learning task, we need to have vector for each document, not for each word. To achieve this, I will average the word vectors of all tokens in a document to create a single vector representation for that document."
   ]
  },
  {
   "cell_type": "code",
   "execution_count": 20,
   "id": "28b0afe3",
   "metadata": {},
   "outputs": [],
   "source": [
    "def get_document_vector(tokens, embedding_index, dim):\n",
    "    \"\"\"\n",
    "    Get the document vector for a list of tokens using the GloVe embedding index.\n",
    "    If a token is not found in the embedding index, it is ignored.\n",
    "    If no tokens are found, a zero vector of the specified dimension is returned.\n",
    "    Args:\n",
    "        tokens (list): List of tokens (words) from the document.\n",
    "        embedding_index (dict): Dictionary mapping tokens to their GloVe vectors.\n",
    "        dim (int): Dimension of the GloVe vectors (default is 100).\n",
    "    Returns:\n",
    "        np.ndarray: A vector representing the document, averaged from the GloVe vectors of the tokens.\n",
    "        If no tokens are found in the embedding index, returns a zero vector of the specified\n",
    "    \"\"\"\n",
    "    vecs = []\n",
    "    for token in tokens:\n",
    "        if token in embedding_index:\n",
    "            vecs.append(embedding_index[token])\n",
    "    if len(vecs) > 0:\n",
    "        return np.mean(vecs, axis=0)\n",
    "    else:\n",
    "        return np.zeros(dim)\n",
    "\n",
    "df['doc_vector'] = df['tokens'].apply(lambda x: get_document_vector(x, glove_model, dim=100))"
   ]
  },
  {
   "cell_type": "code",
   "execution_count": 21,
   "id": "e0b9183f",
   "metadata": {},
   "outputs": [
    {
     "data": {
      "text/html": [
       "<div>\n",
       "<style scoped>\n",
       "    .dataframe tbody tr th:only-of-type {\n",
       "        vertical-align: middle;\n",
       "    }\n",
       "\n",
       "    .dataframe tbody tr th {\n",
       "        vertical-align: top;\n",
       "    }\n",
       "\n",
       "    .dataframe thead th {\n",
       "        text-align: right;\n",
       "    }\n",
       "</style>\n",
       "<table border=\"1\" class=\"dataframe\">\n",
       "  <thead>\n",
       "    <tr style=\"text-align: right;\">\n",
       "      <th></th>\n",
       "      <th>ArticleId</th>\n",
       "      <th>Text</th>\n",
       "      <th>Category</th>\n",
       "      <th>text</th>\n",
       "      <th>clean_text</th>\n",
       "      <th>tokens</th>\n",
       "      <th>doc_vector</th>\n",
       "    </tr>\n",
       "  </thead>\n",
       "  <tbody>\n",
       "    <tr>\n",
       "      <th>0</th>\n",
       "      <td>1833</td>\n",
       "      <td>worldcom ex-boss launches defence lawyers defe...</td>\n",
       "      <td>business</td>\n",
       "      <td>worldcom ex-boss launches defence lawyers defe...</td>\n",
       "      <td>worldcom exboss launches defence lawyers defen...</td>\n",
       "      <td>[worldcom, exboss, launches, defence, lawyers,...</td>\n",
       "      <td>[0.16515267, -0.15452467, 0.1337842, -0.131193...</td>\n",
       "    </tr>\n",
       "    <tr>\n",
       "      <th>1</th>\n",
       "      <td>154</td>\n",
       "      <td>german business confidence slides german busin...</td>\n",
       "      <td>business</td>\n",
       "      <td>german business confidence slides german busin...</td>\n",
       "      <td>german business confidence slides german busin...</td>\n",
       "      <td>[german, business, confidence, slides, german,...</td>\n",
       "      <td>[0.061440088, 0.19759773, 0.22805111, 0.011879...</td>\n",
       "    </tr>\n",
       "    <tr>\n",
       "      <th>2</th>\n",
       "      <td>1101</td>\n",
       "      <td>bbc poll indicates economic gloom citizens in ...</td>\n",
       "      <td>business</td>\n",
       "      <td>bbc poll indicates economic gloom citizens in ...</td>\n",
       "      <td>bbc poll indicates economic gloom citizens in ...</td>\n",
       "      <td>[bbc, poll, indicates, economic, gloom, citize...</td>\n",
       "      <td>[-0.07026437, 0.26868266, 0.28680098, -0.03784...</td>\n",
       "    </tr>\n",
       "    <tr>\n",
       "      <th>3</th>\n",
       "      <td>1976</td>\n",
       "      <td>lifestyle  governs mobile choice  faster  bett...</td>\n",
       "      <td>tech</td>\n",
       "      <td>lifestyle  governs mobile choice  faster  bett...</td>\n",
       "      <td>lifestyle  governs mobile choice  faster  bett...</td>\n",
       "      <td>[lifestyle, governs, mobile, choice, faster, b...</td>\n",
       "      <td>[-0.09686718, 0.13256855, 0.18844551, -0.06445...</td>\n",
       "    </tr>\n",
       "    <tr>\n",
       "      <th>4</th>\n",
       "      <td>917</td>\n",
       "      <td>enron bosses in $168m payout eighteen former e...</td>\n",
       "      <td>business</td>\n",
       "      <td>enron bosses in $168m payout eighteen former e...</td>\n",
       "      <td>enron bosses in 168m payout eighteen former en...</td>\n",
       "      <td>[enron, bosses, 168m, payout, eighteen, former...</td>\n",
       "      <td>[0.2517319, 0.0066601867, 0.11805693, -0.07894...</td>\n",
       "    </tr>\n",
       "    <tr>\n",
       "      <th>...</th>\n",
       "      <td>...</td>\n",
       "      <td>...</td>\n",
       "      <td>...</td>\n",
       "      <td>...</td>\n",
       "      <td>...</td>\n",
       "      <td>...</td>\n",
       "      <td>...</td>\n",
       "    </tr>\n",
       "    <tr>\n",
       "      <th>1485</th>\n",
       "      <td>857</td>\n",
       "      <td>double eviction from big brother model caprice...</td>\n",
       "      <td>entertainment</td>\n",
       "      <td>double eviction from big brother model caprice...</td>\n",
       "      <td>double eviction from big brother model caprice...</td>\n",
       "      <td>[double, eviction, big, brother, model, capric...</td>\n",
       "      <td>[-0.026056554, -0.03890627, 0.2214727, -0.3050...</td>\n",
       "    </tr>\n",
       "    <tr>\n",
       "      <th>1486</th>\n",
       "      <td>325</td>\n",
       "      <td>dj double act revamp chart show dj duo jk and ...</td>\n",
       "      <td>entertainment</td>\n",
       "      <td>dj double act revamp chart show dj duo jk and ...</td>\n",
       "      <td>dj double act revamp chart show dj duo jk and ...</td>\n",
       "      <td>[dj, double, act, revamp, chart, show, dj, duo...</td>\n",
       "      <td>[-0.14468576, 0.04549638, 0.24434878, -0.20337...</td>\n",
       "    </tr>\n",
       "    <tr>\n",
       "      <th>1487</th>\n",
       "      <td>1590</td>\n",
       "      <td>weak dollar hits reuters revenues at media gro...</td>\n",
       "      <td>business</td>\n",
       "      <td>weak dollar hits reuters revenues at media gro...</td>\n",
       "      <td>weak dollar hits reuters revenues at media gro...</td>\n",
       "      <td>[weak, dollar, hits, reuters, revenues, media,...</td>\n",
       "      <td>[0.045438945, 0.06493753, 0.14638457, -0.13248...</td>\n",
       "    </tr>\n",
       "    <tr>\n",
       "      <th>1488</th>\n",
       "      <td>1587</td>\n",
       "      <td>apple ipod family expands market apple has exp...</td>\n",
       "      <td>tech</td>\n",
       "      <td>apple ipod family expands market apple has exp...</td>\n",
       "      <td>apple ipod family expands market apple has exp...</td>\n",
       "      <td>[apple, ipod, family, expands, market, apple, ...</td>\n",
       "      <td>[-0.014821554, 0.15541618, 0.19732162, -0.1417...</td>\n",
       "    </tr>\n",
       "    <tr>\n",
       "      <th>1489</th>\n",
       "      <td>538</td>\n",
       "      <td>santy worm makes unwelcome visit thousands of ...</td>\n",
       "      <td>tech</td>\n",
       "      <td>santy worm makes unwelcome visit thousands of ...</td>\n",
       "      <td>santy worm makes unwelcome visit thousands of ...</td>\n",
       "      <td>[santy, worm, makes, unwelcome, visit, thousan...</td>\n",
       "      <td>[-0.08465319, 0.087341405, 0.069661394, -0.156...</td>\n",
       "    </tr>\n",
       "  </tbody>\n",
       "</table>\n",
       "<p>1440 rows × 7 columns</p>\n",
       "</div>"
      ],
      "text/plain": [
       "      ArticleId                                               Text  \\\n",
       "0          1833  worldcom ex-boss launches defence lawyers defe...   \n",
       "1           154  german business confidence slides german busin...   \n",
       "2          1101  bbc poll indicates economic gloom citizens in ...   \n",
       "3          1976  lifestyle  governs mobile choice  faster  bett...   \n",
       "4           917  enron bosses in $168m payout eighteen former e...   \n",
       "...         ...                                                ...   \n",
       "1485        857  double eviction from big brother model caprice...   \n",
       "1486        325  dj double act revamp chart show dj duo jk and ...   \n",
       "1487       1590  weak dollar hits reuters revenues at media gro...   \n",
       "1488       1587  apple ipod family expands market apple has exp...   \n",
       "1489        538  santy worm makes unwelcome visit thousands of ...   \n",
       "\n",
       "           Category                                               text  \\\n",
       "0          business  worldcom ex-boss launches defence lawyers defe...   \n",
       "1          business  german business confidence slides german busin...   \n",
       "2          business  bbc poll indicates economic gloom citizens in ...   \n",
       "3              tech  lifestyle  governs mobile choice  faster  bett...   \n",
       "4          business  enron bosses in $168m payout eighteen former e...   \n",
       "...             ...                                                ...   \n",
       "1485  entertainment  double eviction from big brother model caprice...   \n",
       "1486  entertainment  dj double act revamp chart show dj duo jk and ...   \n",
       "1487       business  weak dollar hits reuters revenues at media gro...   \n",
       "1488           tech  apple ipod family expands market apple has exp...   \n",
       "1489           tech  santy worm makes unwelcome visit thousands of ...   \n",
       "\n",
       "                                             clean_text  \\\n",
       "0     worldcom exboss launches defence lawyers defen...   \n",
       "1     german business confidence slides german busin...   \n",
       "2     bbc poll indicates economic gloom citizens in ...   \n",
       "3     lifestyle  governs mobile choice  faster  bett...   \n",
       "4     enron bosses in 168m payout eighteen former en...   \n",
       "...                                                 ...   \n",
       "1485  double eviction from big brother model caprice...   \n",
       "1486  dj double act revamp chart show dj duo jk and ...   \n",
       "1487  weak dollar hits reuters revenues at media gro...   \n",
       "1488  apple ipod family expands market apple has exp...   \n",
       "1489  santy worm makes unwelcome visit thousands of ...   \n",
       "\n",
       "                                                 tokens  \\\n",
       "0     [worldcom, exboss, launches, defence, lawyers,...   \n",
       "1     [german, business, confidence, slides, german,...   \n",
       "2     [bbc, poll, indicates, economic, gloom, citize...   \n",
       "3     [lifestyle, governs, mobile, choice, faster, b...   \n",
       "4     [enron, bosses, 168m, payout, eighteen, former...   \n",
       "...                                                 ...   \n",
       "1485  [double, eviction, big, brother, model, capric...   \n",
       "1486  [dj, double, act, revamp, chart, show, dj, duo...   \n",
       "1487  [weak, dollar, hits, reuters, revenues, media,...   \n",
       "1488  [apple, ipod, family, expands, market, apple, ...   \n",
       "1489  [santy, worm, makes, unwelcome, visit, thousan...   \n",
       "\n",
       "                                             doc_vector  \n",
       "0     [0.16515267, -0.15452467, 0.1337842, -0.131193...  \n",
       "1     [0.061440088, 0.19759773, 0.22805111, 0.011879...  \n",
       "2     [-0.07026437, 0.26868266, 0.28680098, -0.03784...  \n",
       "3     [-0.09686718, 0.13256855, 0.18844551, -0.06445...  \n",
       "4     [0.2517319, 0.0066601867, 0.11805693, -0.07894...  \n",
       "...                                                 ...  \n",
       "1485  [-0.026056554, -0.03890627, 0.2214727, -0.3050...  \n",
       "1486  [-0.14468576, 0.04549638, 0.24434878, -0.20337...  \n",
       "1487  [0.045438945, 0.06493753, 0.14638457, -0.13248...  \n",
       "1488  [-0.014821554, 0.15541618, 0.19732162, -0.1417...  \n",
       "1489  [-0.08465319, 0.087341405, 0.069661394, -0.156...  \n",
       "\n",
       "[1440 rows x 7 columns]"
      ]
     },
     "execution_count": 21,
     "metadata": {},
     "output_type": "execute_result"
    }
   ],
   "source": [
    "df"
   ]
  },
  {
   "cell_type": "markdown",
   "id": "91a9acfc",
   "metadata": {},
   "source": [
    "## Principle Component Analysis (PCA)\n",
    "\n",
    "I will use PCA to extract the most important features from the document vectors. Following plot shows the first two principal components of the document vectors. This will help us visualize the data and understand the distribution of the documents in the vector space."
   ]
  },
  {
   "cell_type": "code",
   "execution_count": 22,
   "id": "c17d3eb6",
   "metadata": {},
   "outputs": [
    {
     "name": "stdout",
     "output_type": "stream",
     "text": [
      "(1440, 100)\n"
     ]
    },
    {
     "data": {
      "application/vnd.plotly.v1+json": {
       "config": {
        "plotlyServerURL": "https://plot.ly"
       },
       "data": [
        {
         "hovertemplate": "Category=business<br>PCA Component 1=%{x}<br>PCA Component 2=%{y}<extra></extra>",
         "legendgroup": "business",
         "marker": {
          "color": "#636efa",
          "symbol": "circle"
         },
         "mode": "markers",
         "name": "business",
         "showlegend": true,
         "type": "scattergl",
         "x": {
          "bdata": "ZInTPrJMYD90Efw+XMEJP4hrIj+mLx4/BORFP8QUSj9UDFc/GtVOPwRqND8YFEo+Bq5aPwBgaD6KJ0E/kFxQP/wx3D7aUD0/JIscPzyivz5IVfA+uGHXPoJyPz/EgEs/lmAhP+4eBz/yf24/JoJPP9AINj94CUs/FH0mP6ZEdj+IQSA+JiIQP5jL4L06qSc/2Ck2P166cT9y9gs/ZNVpP3w2ST8c08o+EthpP+KbKT9Q6Fs/DuNYP+S2MD/QBOE+dg84P375Sj9KqQw/Yp52P271Zj/2aXw/YPHBPZ5UJT80Z7c+Gt1BP7qQHD8sYE0/Aow5P1Ql/z64rAQ/uE4iP8aOOT/6U04/nlFnP1A+Lz9Kp0Y/GGlYP6StED9cM1s/ov9dPzTmXz8iyhs/REZHP5j9XT+0uzA/jOHDPoamaD/yGmg/FMdVPyAULz9IjCc/BvqAPtbBOj/cesM+lA7/PjDz6z4ASLy8CKhHP9DOjj5UBSY/vCXnPkBnST8sXEA/ONsVPzavPz9Uj4U+TNkYP4qggD8oals/ppoLP3K8ej90wVk/8Hg1P4hSgT8YcVo/SpZ+P94+QT9mnRc/0BvaPrzaLT8Q3zk+NIo1P0gNSD/aHBc/fD0QP4AcID+iBTg/NPmvPkxuFT9U4eA+sLHmPrihgj02Qik/KmdZP8pFQz8EFqw+tzKCP8T3Rz8UC1A/KPenPvR4CD/BY4Y/UJZWP4BQNz/sPyM+IKsqP8ifET+kzLg+ZAyCPiIFWz/UQE4/hKI5P+4IIT9SIHA/PBM9P2h57T7kGoM/yAh8P57kdj/SfUc/ZBZtPsbmPD9AnV8+eMdhP9QN+z7UMbA+AG7YPmhCHz8AVwY/AmpEP9BnED/i8lA/fnYzP4i/QT90XVA/RLs/P9jWHT+uOhc/BOlLPibmJz/YQoQ9ejYoP0ZNIj8sgrc+1MUCP9KcMj9Al44/dmY3P747az/Ybuo+Op5iP9gLBT+MJmY/Vo9tPwqIiT74pqw+Urs9P3SkJj9ewz8/ylYaP3DxXj8M6eo+jtIrP8Tb8T50jgo/BjYpP9pNij7oQmM/lLw0P7T/NT/QvDo/ZjhBP4SNUj/KAys/PLYZPwiHNj9uKj8/lFIhP/jVNj+KvBQ/QD0iP4ojPD/+l14/7Mg8P66hWj/4l2I/7BU1P7xXbz+0UF4/+owkP4oqQj8q1Dg/WNhFP8j+cT5YAL0++DAhP8jjNz+gdkQ/YNsrPyw3HT+ku1g/FlU9Pzpcgj9Oimc/MMwcPzTfGz+IDtY+tKNUP0KlKz/cI1o/Rio9PwwgKz/oPE8/Mo0wP1jHTT/O1Ts/hqg1PyRaTD/eSi8/uEtNP5DN0z5W+SA/GAs8P87jFz8eQ1w/4pthP/bBLD+EU8g+KBI6PxCtdD9UBvw+4AthPlyD7z784Pc+FAwUP+gN/T7I7AQ/cPwrP3BCN72U5k4/zntrP/xgnT5C2AI/hlk5P+LsEz9a3ho/FE4SPy6mQT8YRFo/no5DP8Rb/T7Gy0Y/9PMOP6Tobz/GMBc/ILTaPHwMLD/6m1k/NPkPPwiIIz/QHzM/JkIjP7CMbT+o0jw/hAsfPxTvyz4M40k/AMotPxIPED9smjI/EMZtPogSxT5kKTU+cm8AP6h3Zj9OnBk/OlEuP2pyjT6QybI+qstQP8RVMD88ZFg/ZkhCP+abVT/ILMM9ZOGuPoQOBj9E3yw/qvtsP6xUVT++uo4+KnQhP16MAD9w2AQ/bFNEP75SLj+GPEE/sE4hP4YhRT+EfA4/1utSP7QqLD8=",
          "dtype": "f4"
         },
         "xaxis": "x",
         "y": {
          "bdata": "AIuGOxSG+j504nA+NFwrPtz8Lz6k0CY+OPGgPoiDDz4YteI+9o2lPqDdCD+6ORE/3tcUPyCAKj4AO2U++He4PjAZqz1En8E+wCUQPlJeoL5w7US9gB4Pvcwecj4IO/09TnqGPtRHHz7MPDU/rE/uPh4nlD6g9c89aEZAPmYcoj5K1Zo+XCMBvnDl+L1A2XU8zEnIPsozAT8gz3O9AHvUPvKHuj4AlyC9ZAc8PpjrHz7w+y8/mGKFPrDRXj1ECCy+NP0gPtxj1T4IFGI+nB3tPkRcwj4sWnw+aDPMPSh6KD5ige++On0DP7DREL004yw+ZCc8P3QRej6oUPs9VOl/PpBRuj2gaYY8sNPTPrAOOD2ovXU+7PjzPpz1Rr4sdyy+JnE7vjA0Uj4E33s+Rt4RPzqIKT+8qAI+Sgk/vlTlxj7w6dY+zF8aPsBHuLxQh34+ICyIPcBcfrxyjKA+YHgOvkDp/zzyB5u+xOAHP/gkgj7ITwo+9BsRvvwtPT4sfNc+gpaVPtRFqz5uMh++UDVaveDAoD54Oag+YuKIPpjfCT9aYg8/3GWtPtwcAj4Qkt4+mJC9Plj+Vb54adg9lHUZPhBZ+73w9I0+mDZrPjTGCT/MFO8+2su3PjDhgD7qj48+8OOvveCIAD0UwSU+gPV7PdhakT7QBn0+niaSPg7wkD7eOs6+0NvHPhh1Pj6c1BQ/5ulyvmD1XD1U2SQ+QDfAPbgfgj5ujis/rF6FPhtWhL6wAwK9gEzBPshgpj1Ef98+FM8QPogOjz3IGcQ+YHEgPwhT1T3+9rI+8LEbP+penj701mY+pDQ8PkBPuLzycQu+FLEHP4CyLD3typa+zCsoPsaDrz70pw4+BBEMPsg4tz44OKA+QLigPJSwnz4Y0u89qgyrPuja5z3YuBE/gOq8OzjM3L0A4Os7IO/SPcT68j56mDy+IIUXPoz9BD/2W50+Soi0PtB4Yz4AzLC7wIscPFC7+D1o6rE9zFHnPhSniT7E0GY+jM0oPzh3QD7E+K0+YMTgPcje8T7Ak+y8kFCJPgBgrLpkBbc+GIAcPvDzqz22j0G+0PQ9PSDPzLwMGQc++Dn1PnA0lz4AvTK9QLkePZRd8z4w/x0/lEGbPlDkz73A/Mw8PieLPnixED8c6cs+tJ1XPmyzVj6gpCU+0OYUPlBBGT+AB78+3r20Pkw3+z6AmsI++jWlPmCDpryQS4s+tL4jPjA+wT3o+dE+YFOvPciwsj1u46M+YHv3PJ7Xhj5gPIM+AFFKvEKegz7khJY+LJHXPqY7mz5MYpE+gOjzvYDX2DvsaUs+nAPPPhroDz/gEMo9ZAgfPrAmaD0CTZQ+AL6IvGD82Lwen7g+jIETPzZMiz5Qbos+gJYgvECWCz4AJs2+VMRcPvL5Ez+sKQc+gFcQPuS8Tz4SQzw/NrqGPszyFT7obfQ+0C/BProniL5+4oM+aEL8Powwcr4oMQw+VNTKPoiq0z6QS/o9pDR9Pswx6z4AtLE+QCmYPQSHjj6UVew+47iVvvyahz4wu2M+0HOePkiO9D7ceJo+chGGPuxKWT5gMWe9FKLYPiSEvj4geSS94B9ZPrR8pT40jdA+GrCyPiB/hjyA9f28y5zYvsh2Wz6woqg+2LBTPjwEXz5wzXa9zOpLPlhL6r2I85y9VFMaPqaduj4gYe49DkWmPlygED8wSMY9AIbxPID+Hz6YiAI+bPF7PhwaLT8gr+k8FDTCPvCffz40+3a+ZJ4HPo5Pmj4MC8w+QGIGPQhc0z7cH8A+SDC3PQgZgz4=",
          "dtype": "f4"
         },
         "yaxis": "y"
        },
        {
         "hovertemplate": "Category=tech<br>PCA Component 1=%{x}<br>PCA Component 2=%{y}<extra></extra>",
         "legendgroup": "tech",
         "marker": {
          "color": "#EF553B",
          "symbol": "circle"
         },
         "mode": "markers",
         "name": "tech",
         "showlegend": true,
         "type": "scattergl",
         "x": {
          "bdata": "YNPqPoh1mj5qJx8/xC/6Pj5ygT5khug+pCgePnBPLT3gDlk/8J4hP/jSO76IUEM+Su4GP8DwqTzImsw+TBPUPnBt3D7M9Zw+s0SYvjgMKT8kWBY/LIiqPsAxD73YJN898MA2P349mj5ceiA/3DvCPkjmxj4w3B0/JEcnP2xaNT/sruk+2v8yP8KXDT/o6LE+5LApPthfTz6IhB4+0KAAP/jooT6GOiw/lAP9PrLGKD8AeuY6GEnWPmTcyD5E+s0++Cp+PhgFzz4E0Ss/YOF3PjSEtT7MNhw+VIP2PkjZ+j2iCSE/DOLMvnZ9kj5gGyY/jCP5PrCIBT4USN4+Qv8CP7zn4j4uNxg/8aXQvnjT4L3AKXE9WA3RPlBQDj+k0Rw//CvuPqaiV76oOZM+8OObPUBorL3w6MU+HLHvPkhYzr3MGtI+8O39PtBtYT7YvpY+aIHZPshW2T64bcU+HKCpvnqjYT9iOpg+kBX1PZTeXj4xNry+UMkOPfhXKT+kRio+cIclvVDURz1wuVg/RGpbPiAI6D7gUbk+SAyFPqQV6z7wo3C+BLToPlChnD2E87o+OIIcPyREwj5gAkq+PBOoPhDqDD+0dMg+hjIFPyxWsj6cED0/gAVRPqTiST+UuDk/OD/PPgIvNj9KmkI/+GiAPpIeiT6gmAQ/GCiwPhCa1z4YB/U+tMD4PhwXAj/Ukzy+eosdP8jbhD6I8S0/LsmLPvwK3j5WASE/YBsmP5CcMD8GE0I/YG6Evg4wCz98tOE+QCChPYj0IT5I+Yw+bNTpPuzrPz7YX9k9cgE1P/hyyD6koR8+gNXVPnLULz94580+0HXPPnAV/z6I2Qs/CI5xPmx30T7AlvE9wikuP2g4FT/sgCw/wD83PbL1Ij9o8N89jNf1PlBvEr7MlNs+oG8GPXjdoL08wVI+nCH+PoiX4D4Kngs/YEKfPoR0Rz52sCQ/fBoEP+jhij2UuiI/tBj6vhiI6j5CsQ4/TOcfPyrYVz/4bpy9xH4FPwRNDj8OXgc/FH+hPvjF8D6Ifw4/eIivPlzqBj96RQI/ejAYP2QIpz6Y6xQ/tJCJPgDNuT6YGcg+LoRAPxzSCD7yUQM/LosJP9CiuT7yUQM//NrTPnxI6j4oHv4++JmKPgC+jr2AAwm9bNaKvrp6BD+Qazo/tmAxPzRxQj/Q8s4+dvAvP4Aq9bscn/o+zC8FvsjDgj7Ur+U++MWwPqbvBD8wpHc+8EP4Ptgf3T4YBME+",
          "dtype": "f4"
         },
         "xaxis": "x",
         "y": {
          "bdata": "9J0Wv4BnWr97rZK+PIkovzzjTr9b8yC/AArEvZDqZb/IEYm+sJsav1LsnL7Q+E+/+gpXvuHUML9oMi2+Hpsov+zpVL/PpeS+Mj8Zvx6JIL/uOAi/PjNdv8J/Tb+u4Uq/i3K/vh2UDr/Jlhy/gwwhv5Ay376XURi/QO9IPbq2Fb+jSRS/tBK6vt2p0L5bgCy/8sDrvigyGb/vlRS/hOGpvgP/Pr8R8qK+dY4Bv9LnZ78Xyxu/8Orxvs9BJr/WNuq+OklVvzUzE7/OIXy/F0j/vgrF4b4MZpq+5yRHv256976IoTS+2hlnvwqURb+M/FM+jwT9vvfFHL/Co1y/SjFbvmboD7+I78a+xFEcvs47x74olCq/2LZavyyprr4Jj6K+/FwVv6J7rL6s9Dm/LThTv4y0Gr9quRa/YhnLvohYOr9yvce+iFYCvxXHKL8y1zC/OSWIvzbIQ78GqjO/ciXYvhjqOb+j80C/50xev/9tFb/kuPK+JRXDvl+WBr+0mBe/MHNOv277Nb8/Ioe+58hFv+Vo0r7wpOK+zpgpv5fPK7/2Q/++8oj2vnyEQL9Ppay+JXomv+8fFr8bRBa/5CQ8v9CMr76/0qS+O0rhvqIlE7854Uy/PiJpvn/jw74cGkW+LS1avw4ZFb+8LeW+nqEFv1TSKb85lKm+zn4zv6rUFb5Ur7K+F6u0vphuAr90xJy+FVdPvxedm76kfBi/pGf5vuyzPL/WGr6+jPxTPlCiWL9dHci+bjQjv3bqOr8QTdq+cvTGvswtWr/Zkr2+3UcUv0w8Rr/pUSm/EoUhvzQ7T74fSii/3/r9vjANMb3YP2u/pSwNv0iw1r4bpz6/5QMhv5bG9r6oZRS/ilkwvyurUL/9ib++L1lev+TGob59gaa+95gov1iSpL7Nkze/wjTwvh8AQL9R7IO/BhwsvwJvNr824Ba/kDkfvXHzHr+wQR0+DGdDv1626r7aJL6+SHHnvgg/Wb4nXpy+z0WAvg2pq77kz0a/M2Chvti94r6Gcwe/hYb0vrwtHr94zui9Wdodv1Z9Mr8ySvi+xeEFvwqxTL9ECzW/KARUv4Rzvb6sREu/FyPlvsz4Lr+k+rC+qZIovwYd076k+rC+13cNv1QpeL+HN8++GeiCv3zsQr98oJe+4bI0vzoPFL8kxOu+benMvpzdFb9kXki/47VVv2IjUb8rLFG/rUMEvx49I7+PVTq/agsqvwbq1L7WpNS+FXUxv7qmQr8VkB+/",
          "dtype": "f4"
         },
         "yaxis": "y"
        },
        {
         "hovertemplate": "Category=politics<br>PCA Component 1=%{x}<br>PCA Component 2=%{y}<extra></extra>",
         "legendgroup": "politics",
         "marker": {
          "color": "#00cc96",
          "symbol": "circle"
         },
         "mode": "markers",
         "name": "politics",
         "showlegend": true,
         "type": "scattergl",
         "x": {
          "bdata": "BrQkv0wQHD5eXgg/fIetPip1gD6Qubw+/BURPzzloz4E1UI+KJpvPi4pbr4A9d+7REUTPzhBBj7wIdw9Mm4dPyTC7D4YStw+hMwtP4CcCT9Uizk+jALYPmATwD7mY40+TOlnPnxCIj42JF6+nOoDP4AmyTw4dQo+aOXZPnS7YT5h6wO/GP0qvkDzprwULog+gEX+Pk6WBD8cr1o/NB9HPth/0T2wRNE+zApKPpSudz6cr/A++H7YPvDZkD3EeqI+XiKAPhZDOz/wJ/c94AhCP9gxvj2IXR4/kLoSPRJYgD5A7xK+GD8/PuTwsD4AVRK8oqgJP5Qn7D7EOAQ+XCovPyRwET+yCZI+BvGDPpB0uz76KwQ/mLEHP6gmlb2obNk9vDjfPsAcXT68LTg+AB97PqADrj6gKhy9RDVQPvi26L0A3sO6CKIbPrgy7T1kNSO+uCL4Pgx8hj4o58g+PFCzPuDHpT1MiXk+BJL2Prxuzz7gQek+YEz9vZAJE71QmqS90AzCPqwx3D6M96k+cGAePxTlsD6urRY/4If6PbRX3z6oFMI+KrMCP2Stzz6cyEo+GHKGPvzxnz5k2PE+0CVRP9gk4j7IS+M+AI7XO8SJkz4AjdA+wPiWvDolHz9sQuw+DNDkPtBgxz5QwaY9QGL5PbAvsz4MLOM+iJ64PQCm5z3AxNS8bl0EP6Thej6WgCE/xHACPmhwtD68QRk+CGTvPdQRfD6M6PM+bn+NPhhwLr6cKD++LO9kPrKXiT7stv4+wICHPmD1TD2W24k+J3DHvna5Vr75TYa+0Lb0PujoBr7c7b4+/h0bP9BYzT6YUvY+wM2oPtr2DT+g5Kc9oE0APdpaET+I3dg+sNOqPoYMmT6I4IU9UqYgP8Qrvz467jE/9C4bviJhY76MeLo+5F4XPiTgFD8smdA+bEfuPugeJr64QEO+IKqGPCi/Mj50A5w+QEQNPkhjrT24dwA/COQwP4QIGz+iF5M+6BTHPbTS2D48H/Q+4lIYP0bzkD7E4w4+lOVnvqQO3T7w88I+IBBBPhSdZj8+epE+4vOOPhwKAz8wduY+eGW3Pqh22z0g69e8HGuAPlRELz7sceM+TFKLPox85T6g2uW9fAUiP1jLFT5gBMS8uBGEPpg9FT+IRsU9ALb5Og6IhL7Qiv4+7C2lPij4hT5wph09IJisPJiSqj4wvIy9nOliPtLqKj+Yrag+HOloPqBUez3Q24o+diwPP0DNajwEC6Q+CJnuPiAlDj6QkxS9eOYDP+gORD64X6w90K50PQB5V7zINb89JJGxPgCO0D16xpk+ujAGPyjpij243Uo++IWzvdCCyT2kfhU/tANgPhBHPz46qIA+YD3pPWBD7D549Nw+TCa5PnACNj5YgrM97BUlP1S79z6CMY0+crQJP+CUEj0=",
          "dtype": "f4"
         },
         "xaxis": "x",
         "y": {
          "bdata": "QB5lPBI/gz5Suik/gOicPoCa7bzYnG8+NIj5PiARmT6Yy9s91PIaPrBp8T3UQhs+QMzsPvCruT6y6JE+mPvnPoonqj7AhZY9tPlqPiQB7z7IloU+QLjlPDzZ3D6w36k+fowXP7yojj54scE+UA4APrAvAz9Kv6U+qNy+PQZeoz5AS6O8gOCKPWxO0T7YUZk95MU9PmTbZz4EoqA+oJgaPvCE8T4Uz8o+aHOFPkxA0j4A2fY8+J6kPTDisj4IJPE+wBenPlSEnz6YrPM+hNCVPgATfT5Qiws/0LzePsq0gz6cOBi+TJNoPrzlRD4QUpS9uuyBPqj6DD7MZP8+Li6IPoABFz0EZOM+VDXCPlwdrT6QV5U9EOsqPTSP4z7wi70+ykOLPhRBAj56RY4+eK30PtSboz60ZXs+7iaYPtAV6z1mt5u+YDx2PZiqB7608A4+UNJ1PtATlj5sjlM+AM9ZPZxKRD7Q+bo+FCHxPhhk2j2w/PQ+BPKhPliZ7j4Ephm+WIJ7PlBIzz4gxB09qG7YPpDRrj789OQ+PmTPvnCY9D3CUoI+CDCDPbicqT5o3ns+iGTfvVDaHz04fsW9nmyJPqA25j1sRAi+uJarPtyIbT6ED58+oqijPgpTmz5gHpQ9VqMdP5Bf0z1wASo+cFdDPgRDGz7QFNU+4ENvPog97j0IWHU+IBjhPEC3UT7gBLY+zPgrPrgvtz34CvI+wHXMPfjpiz1YQJs+xiupPry9Cz4gPKC9TtOKPtAvtj7Sfyc/4PsdPpA6Az48GoQ+ym8FvtDjqL022Kg+5F2EPn6Crz6CdoQ+cLJyPihYqD4AebY9ABlqPphNzT5AH+4+PjuRPjA1pD2kaeU+8AxZPcgTtj6kriE+ShkEPzzIcT74fM0+mHk+PgCa2jtEoCM/MBBtPThHrT7shN4+yGpKPgAlD70AmZ69vKT8PpDG2j0e4IM+2KA1PpA1Qz5Eb5o+NqiaPtAEcz56Xgk/2LDgPsCjmjzYGT0+nGAVPiDI8z04C8A+gIJzPZwDtj7mXbU+cGORPrzyGz7a7Qc/IGXIPqo+tD4UF2U+/pEBP36amD4gq5m8XOJuPjDCaj7uoKU+btmLPoTt9D4c/zU+QP+1Pei8Dz74sc49cHwYPhSQzj6orls+sOGmPuCXDj7uTTE/tB/GPlhk7D5YYtQ9UjUZvhSvBT4EbSI+QCnSPbhKIj68QNM+/juXPoBb1DymZqo+4hIOP/CZ0T5Q/B8+eD/8PSyD3j4oAlw+XOirPqhzHj6wYYK98KQhPsjzib3A80I+BAOfPrYOqT5iqro+yCobPuKfjz50RiY+cIN+PRrRjz5z98S+IDzjPlSDFD7yp6E+OiGsPoj5kj2A7yY+9tWQPgSmeT4sVhs+nJW7PmYfHT+gfY88ygOfPqik6T0=",
          "dtype": "f4"
         },
         "yaxis": "y"
        },
        {
         "hovertemplate": "Category=sport<br>PCA Component 1=%{x}<br>PCA Component 2=%{y}<extra></extra>",
         "legendgroup": "sport",
         "marker": {
          "color": "#ab63fa",
          "symbol": "circle"
         },
         "mode": "markers",
         "name": "sport",
         "showlegend": true,
         "type": "scattergl",
         "x": {
          "bdata": "Zitlv4W7Xr8YUOS+fw12v6ked78fWGG/u4uAv3F7Zr82MZC/tDQOvwKwKL9TP26/eNM+v8d+OL8gIg+/7ORVv5obQL9gDBC+Uo44v26Xbr9li7K+PtD+vjw2Q77Bq0C/ufCIv/hQc784SLW+xPlYv1Dvhb4Itds96vuAv3dpN7/qS06/b4kzv8lnK791wCi/s21Ev/+dGb9xBMi++1JAv9SBiL/bQ8++sYcRv4WwSb+E0A+/3uEev5j4S7+8ize/Jgybv8EXS7/Aivy+ThSwv8jGkL8ggEe/bK2Av4JxPb9suje/ehGEv34ucL9xWIi/ITQ0v2e0ib/tAXu/3EgVv0K/Kb9NL4a+ZlOvvv9IKb8HDCe/9XI7vx1ccL9O0mi/UCj8vmtzKL8hFiy/nWGmvjyAC79JPV6/WlCCvzV0fr+GvXq/6zfmvmsc0b5ARqa/Mkxkv4SiSr8nt3e/vwX9vkxvm79m25a/LJ4/v5izh79QnmK/vxhivwUqgr+6pwS/gU7wvrY8eb90FJO+GOw/v157xL6JzDe/i/7pvtNwjr9XjnS/lZqevqMJiL8Bmcy+7WR1v841Ur/wXDW/6Fdav3VxOb/3fOG+G7eEv1S0QL4WzXW/SGJiv/V7p77UQv6+3Istv57vcr/1ble/YNZgvwwoQL/Wxw+/7P50v02lHL+3Ry6/G8ZYv4tyGL+O+0S/60d/v84dQ78ep0S/5kxkv8YVhr8AC7u9RJdsvxTlfr9bLty+6Z0Sv7RQKr5+vKi/YvErv1xY475awna/luJFv0JTcb+qhBa/vhtnv47W1L6hLJW/DCyLvztwRL8UijW/RaGXv9F/mL/qjUS/qJA7v13NKr/kVdG+NjnZvk7wXr+8btu+BcNHv1B5Rb+SYaW/teNcv53DOr+T7oi+CZV/v4h/bb9Yog6/rUgxv8omh78fBky/m49iv6RFgL/k/Su/1/pqv2h4xL0HZgq/Nx5Kv7QILb+YBjW/Li15vwwsGb8gxI6/Ux84v5uJIb/bQha/xVs0v/JDyr71KBe//iOEv0KTF79igxC/0CpWvYzePr+VMCO/Lw2Ov04Ua78ar4u/TVauvqy8ab8DQR6/Ux0kv8VBgL9gFgq/k/gav/qvgL8SCy2/YvdRv3S10L7U58O/t0Avv62hRL8J0I6+LdEMv69Qwr4aZ46+Y9gkv7VdUb/qxE6/LrU4vzyfFb9WdFG/0CpWvXqGYL9+egm/IhHnvsMhdb9o2IO/EN41v3rXhb9ECyO/V09Fvy8OHr/EsBC/ZYliv9IWT7/3h5u/MGNxvUMOAL/QFiG9xJALv4jWZ7+UUEW/xkL6vtFAMb9bTSG/TirivoeWC78O7U+/dNC+vrkvmb9iOM++6Zpzv2z6eb/s/nW/aZAuvzTXrL54QES+Drh5vwpRLL8Q6TG/5zRgv7fNML/7Qoa/CxbVvvNGCr9KHAy/C3o/v2t/R78EJlC/zWuIv4glJr92kyO/UVqPv/7m3b7gaf6+JEIFv/C4O7+QhFS/lUtAv5LVnb98uQa/+udnv3lGXb/EUhy/6HrCvj3BDL8l7FG/iJtxv+ZIYL8u3/i+7CpFvuj/O79a4le/lePwvvBhHj1pumm/c4M8vy4ufL9Bw6e/FrJvv9X6R7/uDVG/uMyUv5vMdL/np4e/2PN7v1wkDL8tIDa/7pNuv1KkP78P7oS/92FsvxnFYL8spXa+gHxZv9QuP78Z1i2/fvkgvzImhL+Srle/JJRVv9Y7tL7g0E2/oIckvj4kgb8ieym/IF8Vv6TJMr9q00W/UMERvZzXSb8ww3C/IQgQv38GGb/QHBW/",
          "dtype": "f4"
         },
         "xaxis": "x",
         "y": {
          "bdata": "eMb/Plji1z4Yubk+fIfRPmxRyz5ExOg+ZD/UPmh+4D7u3g0/LL/pPrYisj5AK0E/DC2uPlDk4T4EQv4+wgBUP8g6zz7Ul6Y+Ir0JPwBZ4z5oQ8s+nvyTPjBiUD3ACr0+6CWoPuRbzT7ESCA/2DJKPiiYRz58WXw+mDZHPmBWiz58esc+2NF1PhgMCT8ogaI9qEIKP2qznT4odaA+9hIqP3KfBD84Hwk+qBpUPh55mz60scE+5ncGP9Se1T765mI/Fn2iPmg24T7ggRc9IAO0PXIqjz6wg8k+RI78PtxVwz7urg4/qG8hPlAP/z6Uw6Q+7HaKPjh37z70wF0/yDi4PghqiD6WnIc+nAJ9PuBfiT7ANUE8GB8sP7DZID/8hpQ+GiWXPqCtez6Mjuc+YKq/PgCOpT5q3AY/qIwcPgyRGD+OZYU+JODOPsyswz7g6N49uAnCPkgO1T7uxYE+wHO1PsClDD8Ezfs+WJGfPnyzqj4q46U+jp4pP1gn6j4kn6g+lC/YPl7EFT+IANg+tMuJPqD0xT607tg+MFzzPlamQj/ow/Y+JP91PvzIAz8GsIk+mkGFPriTCT8kdis/FAEUP1aWrD4MwxM+CAErPrDwZj6kJRQ/LJqfPoxhZj4Ye8M+BFF4PpKKFT8MWPQ+riGNPkADnT3Qe309ACKHvO5Epz6Qqew+BB6hPvymmD4428w+jmiHPuC73T7uPo8+SJTSPoxLjD549kA+FNqqPvA8Cz9crlg+qHPFPjzrjj7EMfM+1juNPtxm/j7IM8w+NroAPxwyfD74pZ89ZqmwPoxdyT7oMAc/gAr/vfRUlj6Md8E+GJvlPvAAC75mx7g+eAPvPgzS1T5448g+qDCOPhAXED+Am1y9HvGPPpx+tD76vEE/uM3pPrwh0j50noc+eMhXPozG/T6cbp0+uHswP6huoT5quIY+xBrFPvAz2T5wYa8+GBoUvhCaBz4sO8k+zqaTPoz8Dj8AO0g+UPnHPnzDwD7qpY8+CDD7Pvz0wj58uHM+1PLoPpzC2j4qgSc/XKqMPl72FT+cscM+wBv2PJgiVD7MF60+oJCHvLQOxD6IaL09bG/VPtpsOj+Qs8M+OFHkPsy/WT6yz60+QH54PmhgeD4Igbw+YMa/Pl5Mtz4M0ho/8BvLPvjj1j7gL189hr6uPqjDpz2IMuE+EHTgPhoioT7YvDQ/DvCrPgAJQD48zNc+wBv2PDjflz4QT+A96E1ZPujcMD+QeME+nJOVPsR+iz4CshY/KOP9PkxICj8cJu8+FKPaPoBcoz7YZBU/aLGsPqoaIz/Mi0E+FkWNPjAWzT64EBw+2PINP7r4Dz9wMvk+sJhlPUBuwz6UJ98+FHcAP+D+Lj5MOSU+tL/iPjSy7T7k+zI/5C5kPm7BjT6K/IY+rFDwPk6loz6EzlE+klyDPsAq5z70MPY+ImK5PiSPqj7oKOc+nquFPqYaoD5I0qA+aONtPlTh3z4APzw+bOPJPvDAwj5EkJQ+hEPePgQu3j4Gxao+coe1PqidZD+QIbI+MtQUP/DJ9T4EVK4+buGrPsiRyT4YCNo+KvGkPtA27j6so28++tydPnycpz5A7bY+pKagPmB26TwOvak+vLbkPtx3kj4GUys/akm3PrDo0j4EzEM+FLKrPkT8+D6UTkE+pkEFP2Avlz6A0f4+GP5DPogNxD6cDU8+3P8cP9SZaD5GnLE+jIZ5PgwOqD4AXBG7SNfnPk6qgj6kh+s+vEuyPrBrWz4cTOk+mAjOPlpPCz+A91E8ymceP/62BD9ISsw+kBedPcDZ5T5KBYo+ZhMBP/Qjyj6wZwU/",
          "dtype": "f4"
         },
         "yaxis": "y"
        },
        {
         "hovertemplate": "Category=entertainment<br>PCA Component 1=%{x}<br>PCA Component 2=%{y}<extra></extra>",
         "legendgroup": "entertainment",
         "marker": {
          "color": "#FFA15A",
          "symbol": "circle"
         },
         "mode": "markers",
         "name": "entertainment",
         "showlegend": true,
         "type": "scattergl",
         "x": {
          "bdata": "YZfBvoYE7r4YjpI9fH2xviEUM78oDCq+bU/6vmDVL7/ApAe9nF4avhSiBb+UgU++XKcQvnDwNb+AOPe9OuLLviBuwr7K09++emWMv8y6YD4sz+i+MC/FPRDfbr0qtpq+witqv07sWL9I3549YA7+vvF3DL8YuIC/qtl2v8UAAr+A4ii/juRAv84ngL4Pyx+/OYNbv1buE78zet++7DpxvgZcNL9MBxQ++iBKv5y3Pb7K+wy/qOd6vwCbwD13eL2+AWOkvr31874dl1O/WgZrv2LvUL54FCK+v7Efv2pim75pGi+/ItpWv1vQzr4Y9m2/H+snvzPsOr8JSKC+e8wMv8hdGr/3dDC/FH90v9qnBr/tjkm/WhP9vlivjr6MnyQ+NsRevkD+W73akNm+SCbxvh8exr5UY30+KTd/vxzENb9w7B29lHq9vsFekb5Kgz2/JR0Qv3GZ2b6Q38i99l05v5Nivr4waWq/2MbqviC0sz6sMfm+U1OSvmPuSr/M4QQ+bqJvvmTI6L5kOci+jSQ9v7T4YL+4IaO9tf1Dv5zn4b5lBw+/gZrdvsDzZT1yG0q/mG0hPuWK1r5dxAi/Clbrvhw/OL9ItaS9K1GovrCDMr5PexW/0SQRvyudBr90ZwO++DvbvmgYcr+kg2y/IyijviDW6z322ha/YugLv/zio74VqSe/hmMHv3sCab+necy+D5jevjArbL/oQee+mdbkvjsmlb7jCga/ilAZvxz+Nb9bG26/jxBKvz45HL8mrYq/zIQ2vvL5dr8NW8m+sMTpvc99Nb/w5/O950Q/v0YIs76SaeS+KBmfvWLaeL7tWT6/cVEIv46rsr4BxLu+iEhjvkEjkb7XTom++G3pPZANEb/YAcq+EUgEvxiYlL30UP++BaQ8vzyaPr4bJj6/HuopvwyhUb9MfSg+vT/FvsgJK7/vECO/xIM3v5rWMb83mEy/VuXcviT5Dr+hXtu+yF9Bvur1fL9ghhE/iO35vsH9v77o+/2+LcwBvxNF7b7NN7W+9G5bvuTBPr8MBTi/OV0iv2VtIb+YW4G/zp90vrpBWr5TZAq/S0X0vpzE8b5c33S/Wjynvhxokr6D7Je/j0NLv00lO78zjza/vg1tvlLc9r6IuDW/GDMfv5R55r5fVWK/FPoiv3wEkb4FSmK/N305v2LhFb9g5uG+wOv9PJ9fUL/Af3s9EhyVvi3YuL4EBy4+FT0rv9AmH74AVL++EIv4PYdkDb/rwx2/gNuFvj+Icr80C3++atE+vwtGcL/ooac+8CZNvmpcIL9C+RK/f/vMvkTSub5U04e/imYiv4wCar8/od2+QrbKvnh7xL71b1S/7h8Av7qIC7/MlbS+xLQvvq5Sm75Ka/i+s7Gcvrau5r72UJ++7I8rv21Ml74=",
          "dtype": "f4"
         },
         "xaxis": "x",
         "y": {
          "bdata": "HsHHvuTjq76mQJ6+ryjhvo8jCb/+yPW+ewUrvw8Q1r5KkrC+FzC/vqcS4L5QFvO+YPzovl74Ib4AvuC+WblFv1TI9L6sNFC/DU8uv9iBVb8d1gO/C0wXv5DSAr4gdfy+qPM0v01f4r6WMEC/nDwAvxgD3L6iQEC/VKv/viYbQr9AEWa+/KMbv/cpsL5Cmdi+kEsTvzFAgr6v/Si/sCHHvc7A2r4f+Ze+htsVvxaQGb5ZXpC+ti4ovwhRNr8voCW/LJ2HviFvDL9dTw2/Jpz/vnCEjj30Cde+pqP9vvDACb9QXT+/J6xXvwR+Hr8SHtO+QEq/vrTQ2r6clQC/0tfLvuxtkr5V8oe+SiNMv+6o/b6/TDq/rNNovqnZlb6yMkG+6In3vvCj2b1ZUwi/zIUHvyK+4L6YkCi/uxkXv/oFrL4kHim+JsMzv5hCs73cjZm+HTHAvv6W3L6IFei9hNkwv4OIub70igC/SvMIv7GQzL7dwJu+eLlPvnAwCr+MATa/WL9gvhelCr8PGiS/crZjv7w0U7+b/ue+0Ownv3Qln7632+2+YHD5vKDtO79nCxK/lJICv01bwL7YL66+nAciv36AM79o7jy+wu98vtoCIL9WXoO+8IEFv+ADO722FIy+RDXQvoH7L786YjG/Lp7ivkgsor0xALm+Zvuovpo/Ab8lyAK/GxRgvyQ7Nb9OSwu/gLZEv/sXHb/2Em6+ksgXvwZuHb++XQC/pR+zvi/38r5DUUG/BK4Qv/y/Mr+orC6/hdT+vpWyK79fgKy+tfYdv6B8Nb8IXly+89rtvpy/xr6omlK+JTALv1gmRL+uVIS/RRisvuAMr752Rx++pr4vvxG8Ib96Hia/12Qev88IG79Dkxm/1VkevzxH5b5YjtC+t8QqvzaH077yAS2//Q5Vv18MN79L8I2+nsALv8Ed8L6Erwy/IKZIv5HzGL8VwRy/KNX9vmhYTr9IwOO+TkCOvqrfKL98Uo6+RD03v9Aqx76zeBu/+1gLvxIA776cLQC//Jz5vhPxXr/8BRy/XMbwvuf7A7/Y3Cu/n0D4vvjRCb9hH0a/1tRnv5dHU7/VoTq//t7Vvqsyl76iE0q/zvY+v2zxKb8+ZfK+W2kBv+BGy76qcBy/crLCvrJj3r6iXhu/EIvevgqrdb6kPhG/ag8avyROMr9reRG/5E1EvhSYML8wL5m+YnZbvgDNK7x8MnC+uhb+vteGCr9ML56++ACVvmGMKL8NRz2/S3ajvm4yG79rZrC+riF+vkPkN7/YJ7O9qjh3vuNSEL+179W+j/fYviDJ7b4zLUm/Lbyqvju09r7j1I2+oKnqvRrmTr6zMTq/LnfQvrdz+b55r9K+Ubm6vpPCp76Guw2/OOwmv1NALb8yhCy/AAqxOou/Mr8=",
          "dtype": "f4"
         },
         "yaxis": "y"
        }
       ],
       "layout": {
        "height": 600,
        "legend": {
         "title": {
          "text": "Category"
         },
         "tracegroupgap": 0
        },
        "template": {
         "data": {
          "bar": [
           {
            "error_x": {
             "color": "#2a3f5f"
            },
            "error_y": {
             "color": "#2a3f5f"
            },
            "marker": {
             "line": {
              "color": "#E5ECF6",
              "width": 0.5
             },
             "pattern": {
              "fillmode": "overlay",
              "size": 10,
              "solidity": 0.2
             }
            },
            "type": "bar"
           }
          ],
          "barpolar": [
           {
            "marker": {
             "line": {
              "color": "#E5ECF6",
              "width": 0.5
             },
             "pattern": {
              "fillmode": "overlay",
              "size": 10,
              "solidity": 0.2
             }
            },
            "type": "barpolar"
           }
          ],
          "carpet": [
           {
            "aaxis": {
             "endlinecolor": "#2a3f5f",
             "gridcolor": "white",
             "linecolor": "white",
             "minorgridcolor": "white",
             "startlinecolor": "#2a3f5f"
            },
            "baxis": {
             "endlinecolor": "#2a3f5f",
             "gridcolor": "white",
             "linecolor": "white",
             "minorgridcolor": "white",
             "startlinecolor": "#2a3f5f"
            },
            "type": "carpet"
           }
          ],
          "choropleth": [
           {
            "colorbar": {
             "outlinewidth": 0,
             "ticks": ""
            },
            "type": "choropleth"
           }
          ],
          "contour": [
           {
            "colorbar": {
             "outlinewidth": 0,
             "ticks": ""
            },
            "colorscale": [
             [
              0,
              "#0d0887"
             ],
             [
              0.1111111111111111,
              "#46039f"
             ],
             [
              0.2222222222222222,
              "#7201a8"
             ],
             [
              0.3333333333333333,
              "#9c179e"
             ],
             [
              0.4444444444444444,
              "#bd3786"
             ],
             [
              0.5555555555555556,
              "#d8576b"
             ],
             [
              0.6666666666666666,
              "#ed7953"
             ],
             [
              0.7777777777777778,
              "#fb9f3a"
             ],
             [
              0.8888888888888888,
              "#fdca26"
             ],
             [
              1,
              "#f0f921"
             ]
            ],
            "type": "contour"
           }
          ],
          "contourcarpet": [
           {
            "colorbar": {
             "outlinewidth": 0,
             "ticks": ""
            },
            "type": "contourcarpet"
           }
          ],
          "heatmap": [
           {
            "colorbar": {
             "outlinewidth": 0,
             "ticks": ""
            },
            "colorscale": [
             [
              0,
              "#0d0887"
             ],
             [
              0.1111111111111111,
              "#46039f"
             ],
             [
              0.2222222222222222,
              "#7201a8"
             ],
             [
              0.3333333333333333,
              "#9c179e"
             ],
             [
              0.4444444444444444,
              "#bd3786"
             ],
             [
              0.5555555555555556,
              "#d8576b"
             ],
             [
              0.6666666666666666,
              "#ed7953"
             ],
             [
              0.7777777777777778,
              "#fb9f3a"
             ],
             [
              0.8888888888888888,
              "#fdca26"
             ],
             [
              1,
              "#f0f921"
             ]
            ],
            "type": "heatmap"
           }
          ],
          "histogram": [
           {
            "marker": {
             "pattern": {
              "fillmode": "overlay",
              "size": 10,
              "solidity": 0.2
             }
            },
            "type": "histogram"
           }
          ],
          "histogram2d": [
           {
            "colorbar": {
             "outlinewidth": 0,
             "ticks": ""
            },
            "colorscale": [
             [
              0,
              "#0d0887"
             ],
             [
              0.1111111111111111,
              "#46039f"
             ],
             [
              0.2222222222222222,
              "#7201a8"
             ],
             [
              0.3333333333333333,
              "#9c179e"
             ],
             [
              0.4444444444444444,
              "#bd3786"
             ],
             [
              0.5555555555555556,
              "#d8576b"
             ],
             [
              0.6666666666666666,
              "#ed7953"
             ],
             [
              0.7777777777777778,
              "#fb9f3a"
             ],
             [
              0.8888888888888888,
              "#fdca26"
             ],
             [
              1,
              "#f0f921"
             ]
            ],
            "type": "histogram2d"
           }
          ],
          "histogram2dcontour": [
           {
            "colorbar": {
             "outlinewidth": 0,
             "ticks": ""
            },
            "colorscale": [
             [
              0,
              "#0d0887"
             ],
             [
              0.1111111111111111,
              "#46039f"
             ],
             [
              0.2222222222222222,
              "#7201a8"
             ],
             [
              0.3333333333333333,
              "#9c179e"
             ],
             [
              0.4444444444444444,
              "#bd3786"
             ],
             [
              0.5555555555555556,
              "#d8576b"
             ],
             [
              0.6666666666666666,
              "#ed7953"
             ],
             [
              0.7777777777777778,
              "#fb9f3a"
             ],
             [
              0.8888888888888888,
              "#fdca26"
             ],
             [
              1,
              "#f0f921"
             ]
            ],
            "type": "histogram2dcontour"
           }
          ],
          "mesh3d": [
           {
            "colorbar": {
             "outlinewidth": 0,
             "ticks": ""
            },
            "type": "mesh3d"
           }
          ],
          "parcoords": [
           {
            "line": {
             "colorbar": {
              "outlinewidth": 0,
              "ticks": ""
             }
            },
            "type": "parcoords"
           }
          ],
          "pie": [
           {
            "automargin": true,
            "type": "pie"
           }
          ],
          "scatter": [
           {
            "fillpattern": {
             "fillmode": "overlay",
             "size": 10,
             "solidity": 0.2
            },
            "type": "scatter"
           }
          ],
          "scatter3d": [
           {
            "line": {
             "colorbar": {
              "outlinewidth": 0,
              "ticks": ""
             }
            },
            "marker": {
             "colorbar": {
              "outlinewidth": 0,
              "ticks": ""
             }
            },
            "type": "scatter3d"
           }
          ],
          "scattercarpet": [
           {
            "marker": {
             "colorbar": {
              "outlinewidth": 0,
              "ticks": ""
             }
            },
            "type": "scattercarpet"
           }
          ],
          "scattergeo": [
           {
            "marker": {
             "colorbar": {
              "outlinewidth": 0,
              "ticks": ""
             }
            },
            "type": "scattergeo"
           }
          ],
          "scattergl": [
           {
            "marker": {
             "colorbar": {
              "outlinewidth": 0,
              "ticks": ""
             }
            },
            "type": "scattergl"
           }
          ],
          "scattermap": [
           {
            "marker": {
             "colorbar": {
              "outlinewidth": 0,
              "ticks": ""
             }
            },
            "type": "scattermap"
           }
          ],
          "scattermapbox": [
           {
            "marker": {
             "colorbar": {
              "outlinewidth": 0,
              "ticks": ""
             }
            },
            "type": "scattermapbox"
           }
          ],
          "scatterpolar": [
           {
            "marker": {
             "colorbar": {
              "outlinewidth": 0,
              "ticks": ""
             }
            },
            "type": "scatterpolar"
           }
          ],
          "scatterpolargl": [
           {
            "marker": {
             "colorbar": {
              "outlinewidth": 0,
              "ticks": ""
             }
            },
            "type": "scatterpolargl"
           }
          ],
          "scatterternary": [
           {
            "marker": {
             "colorbar": {
              "outlinewidth": 0,
              "ticks": ""
             }
            },
            "type": "scatterternary"
           }
          ],
          "surface": [
           {
            "colorbar": {
             "outlinewidth": 0,
             "ticks": ""
            },
            "colorscale": [
             [
              0,
              "#0d0887"
             ],
             [
              0.1111111111111111,
              "#46039f"
             ],
             [
              0.2222222222222222,
              "#7201a8"
             ],
             [
              0.3333333333333333,
              "#9c179e"
             ],
             [
              0.4444444444444444,
              "#bd3786"
             ],
             [
              0.5555555555555556,
              "#d8576b"
             ],
             [
              0.6666666666666666,
              "#ed7953"
             ],
             [
              0.7777777777777778,
              "#fb9f3a"
             ],
             [
              0.8888888888888888,
              "#fdca26"
             ],
             [
              1,
              "#f0f921"
             ]
            ],
            "type": "surface"
           }
          ],
          "table": [
           {
            "cells": {
             "fill": {
              "color": "#EBF0F8"
             },
             "line": {
              "color": "white"
             }
            },
            "header": {
             "fill": {
              "color": "#C8D4E3"
             },
             "line": {
              "color": "white"
             }
            },
            "type": "table"
           }
          ]
         },
         "layout": {
          "annotationdefaults": {
           "arrowcolor": "#2a3f5f",
           "arrowhead": 0,
           "arrowwidth": 1
          },
          "autotypenumbers": "strict",
          "coloraxis": {
           "colorbar": {
            "outlinewidth": 0,
            "ticks": ""
           }
          },
          "colorscale": {
           "diverging": [
            [
             0,
             "#8e0152"
            ],
            [
             0.1,
             "#c51b7d"
            ],
            [
             0.2,
             "#de77ae"
            ],
            [
             0.3,
             "#f1b6da"
            ],
            [
             0.4,
             "#fde0ef"
            ],
            [
             0.5,
             "#f7f7f7"
            ],
            [
             0.6,
             "#e6f5d0"
            ],
            [
             0.7,
             "#b8e186"
            ],
            [
             0.8,
             "#7fbc41"
            ],
            [
             0.9,
             "#4d9221"
            ],
            [
             1,
             "#276419"
            ]
           ],
           "sequential": [
            [
             0,
             "#0d0887"
            ],
            [
             0.1111111111111111,
             "#46039f"
            ],
            [
             0.2222222222222222,
             "#7201a8"
            ],
            [
             0.3333333333333333,
             "#9c179e"
            ],
            [
             0.4444444444444444,
             "#bd3786"
            ],
            [
             0.5555555555555556,
             "#d8576b"
            ],
            [
             0.6666666666666666,
             "#ed7953"
            ],
            [
             0.7777777777777778,
             "#fb9f3a"
            ],
            [
             0.8888888888888888,
             "#fdca26"
            ],
            [
             1,
             "#f0f921"
            ]
           ],
           "sequentialminus": [
            [
             0,
             "#0d0887"
            ],
            [
             0.1111111111111111,
             "#46039f"
            ],
            [
             0.2222222222222222,
             "#7201a8"
            ],
            [
             0.3333333333333333,
             "#9c179e"
            ],
            [
             0.4444444444444444,
             "#bd3786"
            ],
            [
             0.5555555555555556,
             "#d8576b"
            ],
            [
             0.6666666666666666,
             "#ed7953"
            ],
            [
             0.7777777777777778,
             "#fb9f3a"
            ],
            [
             0.8888888888888888,
             "#fdca26"
            ],
            [
             1,
             "#f0f921"
            ]
           ]
          },
          "colorway": [
           "#636efa",
           "#EF553B",
           "#00cc96",
           "#ab63fa",
           "#FFA15A",
           "#19d3f3",
           "#FF6692",
           "#B6E880",
           "#FF97FF",
           "#FECB52"
          ],
          "font": {
           "color": "#2a3f5f"
          },
          "geo": {
           "bgcolor": "white",
           "lakecolor": "white",
           "landcolor": "#E5ECF6",
           "showlakes": true,
           "showland": true,
           "subunitcolor": "white"
          },
          "hoverlabel": {
           "align": "left"
          },
          "hovermode": "closest",
          "mapbox": {
           "style": "light"
          },
          "paper_bgcolor": "white",
          "plot_bgcolor": "#E5ECF6",
          "polar": {
           "angularaxis": {
            "gridcolor": "white",
            "linecolor": "white",
            "ticks": ""
           },
           "bgcolor": "#E5ECF6",
           "radialaxis": {
            "gridcolor": "white",
            "linecolor": "white",
            "ticks": ""
           }
          },
          "scene": {
           "xaxis": {
            "backgroundcolor": "#E5ECF6",
            "gridcolor": "white",
            "gridwidth": 2,
            "linecolor": "white",
            "showbackground": true,
            "ticks": "",
            "zerolinecolor": "white"
           },
           "yaxis": {
            "backgroundcolor": "#E5ECF6",
            "gridcolor": "white",
            "gridwidth": 2,
            "linecolor": "white",
            "showbackground": true,
            "ticks": "",
            "zerolinecolor": "white"
           },
           "zaxis": {
            "backgroundcolor": "#E5ECF6",
            "gridcolor": "white",
            "gridwidth": 2,
            "linecolor": "white",
            "showbackground": true,
            "ticks": "",
            "zerolinecolor": "white"
           }
          },
          "shapedefaults": {
           "line": {
            "color": "#2a3f5f"
           }
          },
          "ternary": {
           "aaxis": {
            "gridcolor": "white",
            "linecolor": "white",
            "ticks": ""
           },
           "baxis": {
            "gridcolor": "white",
            "linecolor": "white",
            "ticks": ""
           },
           "bgcolor": "#E5ECF6",
           "caxis": {
            "gridcolor": "white",
            "linecolor": "white",
            "ticks": ""
           }
          },
          "title": {
           "x": 0.05
          },
          "xaxis": {
           "automargin": true,
           "gridcolor": "white",
           "linecolor": "white",
           "ticks": "",
           "title": {
            "standoff": 15
           },
           "zerolinecolor": "white",
           "zerolinewidth": 2
          },
          "yaxis": {
           "automargin": true,
           "gridcolor": "white",
           "linecolor": "white",
           "ticks": "",
           "title": {
            "standoff": 15
           },
           "zerolinecolor": "white",
           "zerolinewidth": 2
          }
         }
        },
        "title": {
         "text": "PCA of GloVe-based Document Vectors"
        },
        "width": 800,
        "xaxis": {
         "anchor": "y",
         "domain": [
          0,
          1
         ],
         "title": {
          "text": "PCA Component 1"
         }
        },
        "yaxis": {
         "anchor": "x",
         "domain": [
          0,
          1
         ],
         "title": {
          "text": "PCA Component 2"
         }
        }
       }
      }
     },
     "metadata": {},
     "output_type": "display_data"
    }
   ],
   "source": [
    "X = np.stack(df['doc_vector'].values)\n",
    "print(X.shape)\n",
    "pca = PCA(n_components=5, random_state=CONFIG['RANDOM_STATE'])\n",
    "X_reduced = pca.fit_transform(X)\n",
    "\n",
    "fig = px.scatter(\n",
    "    x=X_reduced[:, 0],\n",
    "    y=X_reduced[:, 1],\n",
    "    color=df['Category'],\n",
    "    labels={'x': 'PCA Component 1', 'y': 'PCA Component 2', 'color': 'Category'},\n",
    "    title='PCA of GloVe-based Document Vectors',\n",
    "    width=800,\n",
    "    height=600\n",
    ")\n",
    "fig.show()"
   ]
  },
  {
   "cell_type": "markdown",
   "id": "bd22c02f",
   "metadata": {},
   "source": [
    "The plot shows the news categories in different colors, which helps us see how well the PCA has separated the categories. It appears that the PCA has done a relatively good job of separating the categories, especially for sport and entertainment. However, there is some overlap between the categories, especially for business and politics. This is expected, as the categories are not mutually exclusive and there can be some overlap in the topics covered by the news articles. This relatively good separation will help us in the next step, where we apply categories to the clusters.\n",
    "\n",
    "In practice, one news can have multiple categories, so the separation is not perfect, however, in this dataset we assume that each news article belongs to a single category. It can also impact the clustering results, as the clusters may not be well-separated if the categories are not well-separated in the vector space."
   ]
  },
  {
   "cell_type": "markdown",
   "id": "bba2a28b",
   "metadata": {},
   "source": [
    "## Truncated SVD\n",
    "\n",
    "For this assignment, I will use Truncated SVD (Singular Value Decomposition) to reduce the dimensionality of the document vectors. Truncated SVD is a linear dimensionality reduction technique that is particularly useful for sparse matrices, such as the document vectors we have created using GloVe.\n",
    "\n",
    "### Why not NMF?\n",
    "\n",
    "NMF (Non-negative Matrix Factorization) requires all elements of your input matrix to be ≥ 0.\n",
    "It’s designed to find additive parts-based decompositions (like how an image is built from positive pixel intensities or how a document is built from positive word counts). But your GloVe document vectors have negative values, because:\n",
    "\n",
    "Word embeddings like GloVe or Word2Vec are trained to center around zero (to better capture similarities in cosine space). So they naturally include negative numbers."
   ]
  },
  {
   "cell_type": "code",
   "execution_count": 23,
   "id": "446f4d8f",
   "metadata": {},
   "outputs": [
    {
     "name": "stdout",
     "output_type": "stream",
     "text": [
      "Document-topic matrix shape: (1440, 5)\n",
      "Topic-word matrix shape: (5, 100)\n"
     ]
    }
   ],
   "source": [
    "svd = TruncatedSVD(n_components=5, random_state=CONFIG['RANDOM_STATE'])\n",
    "document_topic_matrix = svd.fit_transform(X)\n",
    "topic_word_matrix = svd.components_\n",
    "\n",
    "print(\"Document-topic matrix shape:\", document_topic_matrix.shape)\n",
    "print(\"Topic-word matrix shape:\", topic_word_matrix.shape)"
   ]
  },
  {
   "cell_type": "markdown",
   "id": "d45d83bf",
   "metadata": {},
   "source": [
    "## SVD Components of the Document Vectors\n",
    "\n",
    "following plot shows the 5 most important SVD components of the document vectors and their relationship with the news categories. This will help us understand how the document vectors are distributed in the SVD space and how they relate to the different news categories."
   ]
  },
  {
   "cell_type": "code",
   "execution_count": 24,
   "id": "421af61d",
   "metadata": {},
   "outputs": [
    {
     "data": {
      "application/vnd.plotly.v1+json": {
       "config": {
        "plotlyServerURL": "https://plot.ly"
       },
       "data": [
        {
         "diagonal": {
          "visible": false
         },
         "dimensions": [
          {
           "axis": {
            "matches": true
           },
           "label": "0",
           "values": {
            "bdata": "2e8vwLdGUMBrxFHAnQBHwIj+PsD/xD/AGsdVwP5BN8AtHkjAaWNNwMWJYcBvMz/ADe9TwIECVsCFV0XAVOxAwB0oPMAzhD7Aek9AwM2ZGMAETjjA8SNEwPh8X8CT/krAdO46wNl6P8BllFnAPItUwJQRS8DvLT7A2sE1wD7LRMCobkTA1ERMwG1wNMDVkDvAsP1PwH8zVsAony7Astw9wA/nTMAgDi/AyusxwB5MO8AIyFfAhlg9wElvSsAPDDvAatQ9wOHWVcDqBDvAOFBTwP47VMDPlFLAKlopwApgNsCPwzbAHpBRwGWLS8BpQz7AogFGwJbcN8CmWjfAVJNQwPm5T8BfA0LAlHFPwLPYQcCWRzzAyGxPwBkpPsC1mDHAHSM8wJiGPsBNZ0LA21dbwMdpWMCVnFLAH44pwILsYMBPyVfAADVAwBqSRsDvNkDAt5AzwJV3T8D3XkjAz1wtwGmURcD5gRLAakBZwPz/QcAy3j7AvdYvwIO/P8A+xUvAxQ9OwKqOQMCImjTA5x42wMdkWcD1CFXAX/VBwNmzTcDZeV3APLhKwJuRTMCvKE3ABuJEwMQQP8BqqkDAOLxGwAeMP8AQJEDAlgZJwEFWXMATMUbA8yBPwNpoTsBKKk3AmIguwBuETcCurjTAKJ0zwKOyQMA3oU3AE9NKwK/IR8C/BUvAzv9MwAIFR8BNxFbALywiwMr+S8A2NUbA4stBwI+EPMDuk0XA5PI7wOQ+MMCv6T/AFUY/wN+nQcAX6lrAJMJOwDvjNcDDC1fAxflPwBpXRsADR1bAfHRcwJK7SMDDqVHAn2A+wKpNP8DKLzjAixRVwFmHScDZh0HA8Jg1wAaETMCafzvAfQ1AwFMqOcD8SkXAgyk8wMAgSsBfaEvASOlQwGzYMMBMr07AAIs2wLIhM8Azh0nA/MoywOpyWcAhFkLArHo3wDC2W8BkokfAoxFCwP0TRsCnXDbA9mFOwBd1TsD40EbAMvVSwGsPR8BW1jTAjoBcwPx6PcAID1TA3CJDwPfzWcBLDT/A7DNCwKeRP8APOUXAKZ9FwH+wL8AYnDzA2QNNwJYTUcAV8T7AB85ewHXDVMDTXk7AJSE6wFYtU8BEHFHANANMwO8tScCDB0/AiE9GwKYRVMB1sk/AUfVPwASFTsDxrErAeEE3wIr5WsDEfkrAbrxUwHI7VMAjFk/AFMNDwEHtLcBhz0bAYZtCwCo6UMBhLUvA5H43wJd9N8AdWE/A8OJDwCVHQMBfZ1HATDoxwE4oSMB1LjPA8YlawHtIUMDYKFPAfL1OwKRvQ8DfeFfA469AwN+OR8Da6EDAQFBHwPSKQ8APC0jAtOxAwLJ3MsDPUFjACWlSwDQ2NsBDbEzAkTwywASgRMC0ij3AbvtPwNT9VcBMkTrAkOEqwCTwRcBMmk/AeeVNwExWQMAm7U7AMb1TwBoGLMBr5UTAPg1XwNfcQcDySDjARQpLwHeaScDgskbAzeBLwPRZT8Agik7AOJdCwHQ2UMA+B0jAwfs+wHn2S8AY2jHAUQQ/wGg1TsD6ilPAkBk1wKusPcDDsz3ATQZRwJsGU8AqCknAR4hCwD5BTcDC9UrAc6FQwLp0NMDQZkHA+ConwNoUPMDRvUjAdixNwFnZQ8DquknA2tI/wNXVGMDNViLAHz4/wMt2SsC1c1HAPrpIwLJiWMApgCjAHsUxwF3SL8DJfCvAOttRwFBcS8CdJjbAUY5EwGX/NcD1pDrAxdQwwNRrTMDeSlPAPVJOwAHXVcCrT1fAsftbwL7cU8A=",
            "dtype": "f4"
           }
          },
          {
           "axis": {
            "matches": true
           },
           "label": "1",
           "values": {
            "bdata": "nh3tPl6eRT8oLsM+vF38PjLrGz+nJxc/pG0pP29iTj/GMkY/biQ4P01OCD9YkhY+8Nw6P5Vfyj1JwzY/FU1JP6A71T5AkjY/67sVP8QBBD8GuvQ+UeG+Pip6Gj+3CTs/5EIfPxBYAT9Yikg/6jwwP+83JD9BEUk/QJorP0zIaj9GA809Brb8PhV5yr3hvCg//5scP1DVUT8Rfhc/9Y9lP0HDMj+umeE+8mlwP23sJz+HWTg/1bZUP7YKID+Ed+E+oLkyP2u7Kz9KVwo/RYNZP1lvSz+mNmQ/RzAePlUBKj+2MsI+oRUmPyxnDT9Ff0k/9zklPyXk/j5FtAU/b6AJPwAAJD+uakg/iV1OP10pJz+hzUQ/MkA/P095Dj8zRGk/oMlgP129Wz/nwRE/x4kgP1opOj8Tixc/2kzlPm7WPj8V+UY/zAJQP7V6Iz8bRiI/1MuNPvPiJj+N4Js+BkoMP78l1D57rgY+pncjP//SZz4SLCM/sA8AP1+RRT+KGio/4Pj6PsN8Oj/Fh5Q+n7oePw8GYT9SpDw/Sn7/Pp7qYz9v/jE/EFclP7JmcT+6dEU/7vZxP+1TQD95rhA/cfS7Pn2QKj/aMw8+g7omPw4yID/4NQc/6aHtPozYCD/LDSI/3WLIPswSBD95WOg+onLwPlN1nDz7YxI/E5lGP+IHNT/FUI8+HxZwP/GYOz/pCjA/QpfUPooX7z7eWoA/5HFPP3lVND+0qKE9DRUpP7d8Hj9qRak+IlZfPlZCUz8Sqik/gZokP6IwKD+0cVA/e9MgPw390j75RGk/vlJVPxmaZz+78y0/IJtZPgGXOz9yqF8+oORBP6xW2D7NrqY+FUPhPnMbCj8iXAU/wcZAP9fwDj/cEUY/umEyP7v/Mj+edUA/MTgmP1GhKD9pxvk+EWVRPqC/MT/81VK8sKovP9qw/D7DjqU+rRMHP7YRDD+sPYc/c/cuP+4BYT9jYvM+or9QPwNP4j6LGFs/6KtRP/RyTT5gFLU+croUP5bGIj9xBSQ/By8RP/VnOj8G+t8+GOsgP2NP5z6l1Po+rlsfP2BQnz7U0mU/3ykjP692ID9/szQ/7fwXP/adNj/v3BY/qu8YP5siFz+UfSI/31kNP45nKz+2wP0+HoIUP64MHT+UY0Q/0I8mPyDMRj/djlE/iGo5P1HfSD8ioUo/YdcHP5HXIj8ZaB8/gno5P1KVjT5tH50+ECsZP6mkIT+j+C4/yUcvP/hkIj9c+kI/PZo2P29jfz90WU8/i/wmP7woCj+DO+A+4XkwP0ZCEj+v8D4/pS4rPzNeIz9hQzA/3L0mP9n3Oj8YFjY//94mP6KkRj+LZB8/luNHP/Tm4z47qvs+IBMeP0pXGz86YEg/yt5sP76cIj/Dm8c+x5YjPzcQVD8xxPY+NwKKPg0s0D4g0bs+IWr8Pobl8D4IQtU+jacNP7zpuzslpEM/4KBKP8LYjj4hwwM/+K8jP9C6/z5/KQ4/8WD+PpfLKT/yU0I/8Ek6P35iyz4nfTY/Ty8NP/ENXD/8+Bw/yHJRvLHGEj/EHT4/HbgSP2Q0Hz+KHTE/1s0HP31SUT+B5C4/0SYYP0L0mz5iuzQ/MTATP8ikFj+4Ky4/iEajPtYIwj7X+889c2LTPhqnXT+fKQs/2mslP5Thzz74geU+9lFOP4koHD9fx0M/D/wuP1FyMj/I4iM+Aqm+PgehDz8kIT4/ruNTP4brPT9S4pQ+RqUVPzgOAj9qXAU/NDhQP4dNGT8OSiM/H9ANPwmiJj8aGNs+Ju8xPyBJED8=",
            "dtype": "f4"
           }
          },
          {
           "axis": {
            "matches": true
           },
           "label": "2",
           "values": {
            "bdata": "HIQJvvop7L62dzC+qvtVvtE0PL6tCkK+aYaKvil+d74jj/S+HoaXvkdN4L6w1BK/cH4Hv7CMfb3jBIm+n4fZvt7G6b2RFd++sE4jvoXsEz5eyiA7L0xXPaESIr4iowW+dRmnvjG9R77ekiW/NVPTvs8ElL4/YDq+2Yqdvi4nsr4QR52+mt0jPt8J0D3E5ai9isezvg2W9b6C+I68TJb/vjG9sr5Bf2G92XiIvio/Wr4L0Ce/9OikvnkqVb3s8wE+kwc5vktmvr5MwYu+01bWvjZ+uL552Hi+WARmvkdDir7YNOI+8coAvxhVMT3BL3S+maM9v2gcoL7gTx6+JEJPvlhBL71tn0q9GOzIvrcTcL2gvqK+w/XlviMdNz79DV8982v8PaALf748uo++XKz8vpU1G7+w3p29hIm/PUCMmL7j2ri+YuBIvpK8azz+F6q+vUQivgsETz2Op5e+xhuBPVZupLwXuhA+uYDtvrVCg76On1i+zjA4PelPh75Bysq+4Sp0vrww276FnKE9tWHDvKyqjL7TToO+2M6HvhXkD78iA/2+BMnEvocc5r3jiOq+TfPKvtA6Iz50bwy+vPEWvrsS1j1fAo++4veAvo5j8L5SU/6+u3epvmfTV76vTIe+LQQnOmfGNL02Fnu+aSv7vWk2lb4/nl6+ojaPviIYo77Yvuw+QoHTvmcKab6O4RK/bv0dPjDLLr33YTO+ZRcMvrqjrL59YCa//ZOvvlexPD665ws9HPXXvkkbz7207Lm+jxrovWEzPr7X4ai+qwsdvyeIyL0+xaS+6IEOvzBMqr528Ue+tDF/vvY4ML1LlAI+DMT4vt0I1roHgpE+12KEvkJ1or6l8Ve+W6pivvnh6L74d7e+/82BvexHu740XgG+8OmfvkFddr614Qu/SyIKvXW1pTwjk4g972U+vu6C2b7xwlQ+Odh/vpsw5b4Epq2+KDjVvjIgjb56uma9TeJuvPAh173NwAC+SQravuJubr6/T6q+tqIXv2/lhL63qZO+GQsNvuiUyr7yL588af2Wvu8I7bwpE8i+m7JIvouZSb4zgAM+QZApvXoclD2irB++x7bOvqzIf74nQsI9BkCKvaTZ0b46+RW/AeyRvn8luj2aLSk9uTOavv4UDb/WH7e+7fdbvm33Ub5GwTa+T9+DviRSCL8bsry+0wCjvrhh4r4QkLa+yVOnvldFZL0zX4y+UCtLvhRDir3F4sq+7fEpvl7BT77Wu6q+qT2TvfayrL40d22+HEShvdONe76m9tK+UnO2vmcHh75H8W++rVgNPi6v37zPE/y9JLjsvu0BE7+uLgy+3SkxvleO8L3K+qK+a7/kvJOqU73lJYy+wYgHv4+bvb46V4O+gn3vvVDaIr5Bu8g+UTtWvoY2Cr+eeja+rgJ5vlH/Or64dTW/S119vifdUL6gpuS+EGuZvnyEZz7axZm+UHrivkrshj79NUq++NDDvo+Hz74xbQu+64J7vhg4577k456+MNK5vYrDcL6B6v++/2iKPjrjf77L1aG+efulvvso7L41Io6+CaWrvsudlL7P6eI7MRDQvviPqL51Qok9x+GPvue/m766WdC+sEievhBuvL3wmhq8pYuoPk63m745NqK+Tfglviuzi772+7Y9CztTvj6MGb2lnbq9Cgd3vrL8rr7zPAG+47GWvtKH/r77Lm2+rAD8vQEOg75rMJS+FvltvqAINL+gdMG9QkLcvoEqrr4EQms+UHWIvkYfjr5uWq6+4vtEvDT9uL4wGJu+9apCvHjkS74=",
            "dtype": "f4"
           }
          },
          {
           "axis": {
            "matches": true
           },
           "label": "3",
           "values": {
            "bdata": "NCqOvmGvFz8O9kM9WOb4vaD8hj/SNfc+BF1EP44oND79riO97RkPP65W9T5ZVPY+6VhGPzYWkD45Wow+1EL2PtVGsj6o5aI+DSxUP2ANfj6Bu8s+bwMaPWGJFz/gERc+BqLLPpn2pD5jZDc/aQ8NP3A+KT8Avi68Fyi2vkmwTT9U+gG+JO/zPIZ+lr17stc+i6hAP5GGDD3UIx8/5vj/PrwuoT5JsBI9uOBKP1N3xz49VsE95e3lPgHjyL2C5Ye9sOFSPzFGpj7tkO8+KsZoP66BuD7ux3k93r/RvpNz+7zN2fK9JqGsvfXbwT7kdi282BgBPyg+/D1n+os/JAM8P6HdgT+AgRs/G/v+Poh4BT9fqJg+62VUP4fKDz+pLyc/CnYrP95Jgj9XZro96wwZPyHETz9KAhg/t58LPkLf9j7bXic/Gu4EP+ohED4OBJ6+wLyQvjoAJz8qTS6+YPzaPvqdET+GQzU+yH4PP5oRmr4YYt28VnvLPQlvYT1yaC8/vBU1P8xawL1pHBm+vkeLPsL7dj5P6mo/5sAePxv4orzlV7Q+R0xOvqf0jT8tIqa9RWVWP/eU5T3C44Q+wprrvblxSz/YOZQ+7QloPk0f+TwxahG9gdBAvXyLFT9GhAQ+Lt2OPozK0L57cQC+drPFPj0p8L2fjTM+fCkAP+fxRzt/O9M+ZqmiPR11972zNWy+tu4hPzwXlj55nFg/JcY+PozDPb6aqO8+HldJPvAlID+PCBw+JwuMvr16KT8eXhM/QkgOPziNNr30fik/eIPwO1bfxD7FzgY/Ti+6PmVPBz9oN7A9YzEPv6Aiqz4KdqM+Jg0CP4AqDj8byNW97z+uvXd0TT9gzBG7AI9yvpgF9b4xBfQ+MYoiP+y/SL5nk7c+f6TSPYmyBb38YbM+t8nhPlr44D4X36M+lqwwP3Bad75LV2M+431LvPAxlz7WVp8+fNIUPs0SgT4nHPA++Y/JPP80Wj5X4rc8AkIJP1QpMz85gge/Eo/5Pfiqhb4O6YQ/qxotPkTTOD/qRO0+z6gjPkfVtz0HL589t/UQPq0vkL76HSc/lkVBPmMRPD9skzc/fTAnPP9DRz9DcTI/Y99UP8ikJT/BZyg/9u4vP0B/qz6y5H0/jK2vvVBVuL40JSw/NzOuvnTRCj+c2iu+RA1OvoorCT/WPwM/Oc18Pqeb1D5mDOc8lLmFP3K7t7ww6zC9NECtPr+qST7sitY+gFCfPpFeor6DBUO9iy/lPvpNxz7z+xI/xXj7Ptu6cj4O5wy/3PWwPkAx3z6T4kk/BswPPqxhCT/UoFc/jYYwvntU6T71BBg/jDSOvq5ogT6Z0qe+qM3oPImlTz75RAg/qA1JP4UDUD7UYj8/tRLZPcV07j6hWow+6liEvQUWBz/kO449MRGaPVW/zj7VACI8P/UCPgyrk74z1kk+QZyDP43Ayj7Mcsg9Aj8lP119FT/ZRLI+i55uPsLkhz4xLDo+P0q6PUMy/j4KulI/pXa3Pg883j6dNoY9WkA9PgCtMj+wnUo9AhAevouCRz2E+qC52QH8Pp2E/76APMw92Ky5vu0zJT9vZoA/qYzGvW2u+75koGU9W/mlPjvVAj8TpeM+zduoPrcW2b6Q0FG+mnmRPsheYT4gulc/IRc3P8uwIz8ZUs2+MPK2va22QT9nCVm9TY9WP5HWdT/7Rfi+SRCbviG+uj77nkc9oEKAvY5Cqr6I4z++4xfLvPmI2L7Z9SY/djSlPl39HD8XJxk/iUBnPkliST8h5hc/LnsoP90hMD8=",
            "dtype": "f4"
           }
          },
          {
           "axis": {
            "matches": true
           },
           "label": "4",
           "values": {
            "bdata": "ojsKvsRUgr6FvTy+T/mcvroLrr5DCpi+9AL/vsBeOb4h/4G+58s4vk+gqr4Y4Am+iuWDvty++z01HYa+jv7JviKAfL3O9gO+E7eQvpHb5DuDBeQ9UmRBvi3yTr4WtCA9sH0cvjhReb7Pijm+G5xHvjAFCb9y1JC9QSfJvbKd/b6Vujm+cmTAPinjU741aPK87qO6vly9yLzG4c473jOzvvI+Sb7t1tK7HRWfvsTDa76cMC6+upnLvjSy4DwuLCW95mpGvtOXlb6DtQq90UrwvqImPr3jCMQ7D7havfNWCb7jIRk/VMhVviOkQ77OFle9tfpOvl4Q7L5OAem+pzwKv9Vtmb7oiZu+/bu3vhZccr5HajM9p0/uvucQnDta7mu+mZsFvujn6759J0W+GdvJvmSX1L4k55q+8beUPVIJfr4mDFa+QnxHvo17Br7ClC2+QfChvtYLCb6Rf3S+FlIEPiJem76Dq9m+6eyTvpCvTr2ITGC+XLKivQOwn77xZbG+SdX+vlG7hr4qWbG+5GeXvdMfEr09M5G+gKFmvk6zCL7g5Eu+Amfbvdpztr51eB++ZAPkvhyEPT5LWBa+EFQ3Pghc2b0M2Y29uG9gO1Siir3DLN69Rk+3vXG6Jr/2jLC9rCZMvq3Hhj1k1l6+K0l9vrhlAr5Fe4e+G+N5vtKjDL4Gtwk+QxlOvi8bGrxAqdS90pHVvVk71r0SePG+acSpOcIn5r16FLi99WSpvq8Fpb4m8nI+iVh6vqHch77W+Ka+3EuUvuJLBr6Ik4e+VA5ovjprgb4wjnu+nuWlvoI2qL7JGSc9OvAHvnYDbDy/Asa8jV4wvg/tpb7nJIU+IogRvuFuwL6hTL69Eo4ovkQKt72DKQm+uLHSvarKHb6djJe+/cMDPfJKs765pEe+0aoZvoBwFj4Fo6O9CiRsvpdyprwvTgI8YZ5xvozaL77Jkbu9JvocvpRX4b3Vd6++fMyQPcdrjL7wOF29jdfQvrABg76jqwq+5PsYviljzL1Gjwi/jFbmvftic77mKr882uYZvjdWLr5olyy+FT4gvoBRJ77eDQO+C+WRPSO4pDwjrdq+Vw6Oviwojb6RP5G+HGSLvt67qb65G8W+BzfCvnYvEL3trse+G5Z2PDdy27yElba+Q04BvJSxhL73pPg9XIX5vQ/kg76HjFC+rpQFvub+cL7DKJK9F/qpvhAmcL2bXTW9rdGnvhkARr2jK0q+zKKnvWFZEb4l72q+8ga7vaP02L0mfdK+zUKDvMweLr4AIDS+UKq3viAtn74dzne+PLFZvHeipb46XZq+LWdXvjnpk77aGry+tobFO/ETTr2JRlO9WShyPeI4bL3eGq6+PuOPvvaWWL7rYaK+vjISvhV5m74kSle+hqTHOzsZzL7YHlw9GqRbvkQWWb6//xG+Vv1avRSgDL6FRly+P1T8vvzla734of+9Q6iFvpaot70SKyi+jnPjvbdAjr4mc9i9AV9+vpqxv749Mci+UYxYvS9dMb6jLnu9+siUPumdjL6dhBS+fy8pvkW7NL67GY69+iHavuiAoL3nQdC9ROs5vHeuib7SEM2+QXBrvrg4Qr5YPCq9RNUqvoNfmL3nqfm9fgQ1vsPfm751SpQ8UPgIu17Dar68Y8++8dltvsROdb7VIzu9rK08vkpFG784plc+OaBhvphjA7/oBBm+GomevDw2hb7q3FO+9vaKPYgqeb1gY6q+vM2TvYxLx72Udp07PQ6LvvdetL6Nfp++XiKbvsF3sr4ToIS+GHmEvvEqgL4=",
            "dtype": "f4"
           }
          }
         ],
         "hovertemplate": "color=business<br>%{xaxis.title.text}=%{x}<br>%{yaxis.title.text}=%{y}<extra></extra>",
         "legendgroup": "business",
         "marker": {
          "color": "#636efa",
          "symbol": "circle"
         },
         "name": "business",
         "showlegend": true,
         "type": "splom"
        },
        {
         "diagonal": {
          "visible": false
         },
         "dimensions": [
          {
           "axis": {
            "matches": true
           },
           "label": "0",
           "values": {
            "bdata": "oUVHwDG1L8DG30LAxxI8wH3UOMAXNTzAGB81wG27NMA411XAjkJEwIzFRcAD7C/ARO8/wGvRRsCA7DnAhshIwHFCNcDEtz/AGb0TwHDHMMABSj3AlmAxwAtPJsBIJTrARE1LwCYLSsAbjEPATztBwB9UOcAS/UTAchdHwLAKO8DRFU7A5cE9wOX7PsDUBTbAj8UqwBtQUcCSwTnAQJBJwAoSIsAmMkzAXjdDwOKzLcBYpTfAtWFNwL3kQMAOQEDAVmM3wFbIKcC5Xj7AVXY7wOaSO8C5Dy3Ao+FBwFZ5NMD9jlDAQ/I6wB1OSsD5JEfA+8pDwFcYQ8Ce7DnAHkVCwC96R8BaQTzA2lBDwHkAP8AaaD3AYi87wBGKU8CbJ0HA7eJHwAj0SMAXzkDAz6g1wFNSPMDudzfAQ+Q3wDSvM8B43TfAJm87wO7FNsBfVz3AKMk2wHCzL8DokiHAAjwfwIwjRsBhfCPA+0cwwJfPPcArOCPAuyRCwHGJKsCjwz7AF44lwBYFMcCai1TAPQQ9wGgyNcBJcE3AVSk+wGanKsCsmifAEatMwBlwMsAvOi/A0fFDwNYVN8AabDXACxdJwAG0U8A3dz/AOLgpwMZwO8DXnTjAwTc+wLpxRsAYaWDAmVtEwPowO8Ds0zjAQuM7wJePRMD0sEXAuBQ6wHyzNsDJwjnASG1DwCTHMMBIJSTAUUlEwIJ+QMBmizDAdy5FwE1jPsAiZ0nA+SRHwGZhMsB+DUrAu44swG/4O8Bl2EnAJig0wMQBNcCsWjbAkeVNwCmdMsBwKjzAwwE3wAijQsCeXEHAdbpOwEHxPcAVlSLAovpDwHP2LsBNmDDAgKE2wLTyOMBUszjA2Zk3wGyVMMDOsDzA79QnwKRIVsBtZUrA8hg8wJsPRMCGXyHAEkU+wAsKK8AkWTjAcWA7wNJoLsCpmkbAcOFGwKCBNsC16z3AWo8+wLrKQsDNND/AuopDwC2pScArC0nAklJCwLByScBi2TXAawRBwB6EQ8CixDXARo0wwBrGR8BMTznA0WsswHAHPMBj/TrAbz05wBjOO8B/qTDAcqoqwMyLP8C2UDjAeLM4wH2CSMBdRUTA67s6wJoaN8BdRUTAaONAwIqPRcAQjkDAxxYxwLG0KsCYfSHAXIszwKFlR8Ak3UHAEcRBwDSSN8DrckLAhfY9wMynI8A+TDfALMtGwCU8NMCZkzvAPyIhwKbiQ8CmhzrAg8I9wJUvTMC0BirA",
            "dtype": "f4"
           }
          },
          {
           "axis": {
            "matches": true
           },
           "label": "1",
           "values": {
            "bdata": "tYbZPkBquj6WThk/VnwBP3+XjT5lDPA+RF0rPkRRoj3520E/O3gdPzdseL5v230+RMQEP3+iqrzN/tI+sP+/Phmb8z4r55U+O4oivgmcOj/E0Rc/c0vHPnCnTT0vlwI+FmEqP25PgD4nFR0/sfK8PhQAzT6uiBk/6LoaPzaBOz9Is8o+wRI0PxfUDD8kecQ+VBZoPrL3+z1hZSg+7kHpPucZ2j5CLB4/ktDxPqEsPz9oYGI8myy3Ppd5wz44H8c+CGOOPpzS9z4P/TI/7pl6PmPUuz6QNFg+6/rzPkwTFj6sKA0/HHvLvpMSdz7gVRg/WyruPrNd0T0inuw+YWn5PtaZ0T5qOxk/Q+bwvueJCr5JD0s9hPfcPly77j6xhhk/g7nbPix7jr5n7ZE+6BLhPXLJxL1cOdQ+wcL8PvWRkL2EJdo+LCgCP1adfT573pk+6CPzPrtI+z5loAA/3xh7vv4EXz9Afs8+GLY5PspWWz4gipi+YHG9O+ruPj9pRh8+k5pFPasRuz2uM0M/oAZiPhf0+j73I5c+ziuDPqfPCj/hLDS+4wTMPs2c7z2EYdI+y3IaP6Qr0T4mejy+BhyUPuyb6z7W3ME+xBoaP/+AuD6xg0k/v2o7PoJdQz/wQRY/x9XIPiUyPD+WKEk/wA+BPs5CeD6LtPg+ULm6PpA13T72g/o+PpvpPsa+Dj83AeS932scP3Pdcj4MZj4/lWF4Plgk4D6IwBU/4FUYP63zQT+TATg/DXxavmAVED+ER8k+BtTQPSHcSD532Zg+ZzfLPtgpbz7wI+M9Roc/P2BGuT6+6wk+6/2zPt9xLT/2bQY/xObDPmyIDj/FuRw/nEGGPpTm2T5ckgY+Apg4PwssJz+08S0/ggEGPlXdCj8rFCU9WW3+PmolRr4Fngs/CpdyPM2lebw3wnQ+gn4DP2ixAT9QRQY/YSmEPmIjYz6RYiA/ms4FP9ojAz2cSSI/BocKv1Rczz4KaAM/lBIZP56PTD/IcFS9ROUAP73RCD94EBA/tNO5PuZ+4T7qJxI/W27TPp9eCz/YYwU/P2keP2/grj44EiU/OjiyPrdotD5olNc+ZyVHP9ensz1xV/c+DVcPP/Sqxj5xV/c+CFTNPoil5j7zE/c+If2qPp7sjbvoM089dl59vh0O+D7SRDk/FgUuP9SbTD+DiMo+MBQ2P7YmtD3TiQg/3V06vhI3lT5IXu4+hortPo52/j68DXs+FlX+PtnXxT5S/ek+",
            "dtype": "f4"
           }
          },
          {
           "axis": {
            "matches": true
           },
           "label": "2",
           "values": {
            "bdata": "KZUfPy0UUz/BqZE+3xgiP7BjTz+6Dh0//ZWDPRJdZz81DqE+97gcP1Au1D4dRkw/h6AkPhbKRT/2b8A90Uk3P77iTj/l4OY+9mQEP2QnAz+UdgI/sJtYPwacRT/+vkw/gazDPk/gHT/iGh4/M+0kP2eC2D4Hahg/5q2ZvQ38Cz+d7SY/NBmmPjWUxD6QxCI/sWrVPq0hNT8+sho//2+wPuw0Jz+xQ7E+yjwIP70/Uj9MKCM/7s4GP9m4LT8X1fE+P6RXP3eQ+D4pIHc/uVMAP1unzj4QzFg+85xMP9Wa9T7etlo+IVt6P7hAWD/8jnu+VX39PhS3Jz/OHlw/LXFGPlVbGz9LJrg+WCWEPoCW4D6JOTk/Hc5ZP1Kd2D4EQ5U+u6AeP/3J3D4XVDw/2r5SP9aaKz9szQ0/SBWqPi42QD+l070+0O76Po0vJz9CojQ/LoqFP/FcNz9IZRU/xf7CPl67OD81yCg/FthYP1PXHD+A+Os+H8jSPkpv0z5OayE/xstFPy1lNz+ibqI+DWdQP6c/qT5Kwv8+7YQyP4+UFj+BEfg+hYMIP+OPQT/MYow+eMIkPycDDT9rpR4/QEtLP1AR2j5yc6A+3/qrPsf5ED9Rhjo/IDSCPsHsuT6NSpY+tEZkP+lgCz9uzMc+3ZgNPz1eMz/IeLA+cu0xP+OnxD0f7KA+iv+8Pk0p5D4YWYM+nBhQP92Ymj5vtwE/RBkGP+ouQT/kPb8+/I57vqfTRz/SQMo+GFUnP8m0Nz88suo+KsS8Pj7sWz/wT6Y+YLomP7kIRT9gOy0/qrwQP/QOVz5GDzg/zOsNPxX6nbyoSk8/mLsTPyicqj55xC4/QDoeP5f36j6PrBY/wFgiP+2xPj+wS7M+8Z5XP4ptwj5lpMs+XnQiPwTX0z7/ER0/Hq4AP6hmPT/JLoY/RrcoP4JxJj9pOxc/DS5/Pd4jGz+S92S+EDdDPw++AT/3MKs+dQkTP1QZZz5Z56A+WN59PiZGtj6nT0w/JHOgPkUm5D7hCPc+QHrZPozqJD9gfhA9dXgKP3NvMj+qVu8+4/T6Pr3/Tj+ATiY/XqdIP5y5sz5GfEg/rcfHPiWuRD9lTrw+JVMhP/IjuT5lTrw+ATMOP7KrfT/gUc8+x9mAP2S5Pz+H7HY+Qa0+P+28HT9QEtY+I7PHPu0bAj+/tE8/wR5NP3svSD8keUU/k+AePwDLGz9tgTg/HcAKP2lt1z4aMs0+hpksP5FLVD9i7go/",
            "dtype": "f4"
           }
          },
          {
           "axis": {
            "matches": true
           },
           "label": "3",
           "values": {
            "bdata": "7NOpPHjRaz4R1Kg+cmthvUPl0L0NOh4+vglCPkihR74R1Ec+mXwQPqezMT8QSt4+uQOfvoYlCT0ADf6+Dx6SPmwuaz5yro++2yIFPv17Fr/LG7K9im+yPt9LVT5UWTS+MTIwvrpGCr0m0A0+1uk9vXNZhD7TLpC80hzLviUjvD5oQ8g+O+cFPldsar2B0WS+rR+EPushnT5VWwc/3FtkvqnzbL3RMKg+j3uxPtPEPD7hGGs+73WZPMnlkj4Sol4+ItKBPlfXLr5sMlY+7EuQvToqC74i3Kq+ztNQPhrONz5il8M9/DYyPZHF6TzSqwa/zpuOvkOC3L4Ft4s+eRyjvkoL/D4BxvO8fgSSPhsoAL2HdpI+FzanPfgMyD7qXLy9RNJ8PDP6lbzWkxW+VHNjvvSzej5sEUi+awiyvoQdaz4Ub3Q+DTKAPo9LUD6TAIM+DgsmPUXcyz5zGAO+sw/1vHRxej4fozG9r1arPrS33j5G0JY8ps4VvvJKPD1fmEk+px5yPjEprD7Zyi8/1Qs3P6Hz9L79y4q+tW64Pn8y4j0U3069X5lNPqBnfz7j6Mm9GSY5PTtrRL7c9BG9BjMnPcgJyT4TAVO96vNRPpPIMD7XFz+9CE3aPtLqhr1lowI+y82IPhbKuj60lo49v9dRP7EvFb7jdKQ+w4ETPv35sr78Qp69vJhXPStLKr6Ee+s9mQeCPW6N5L6H40e84+GAPru0nT5ki9G+0qsGv/Pdrz7t6TI+XaS7PfmFYT7Qc4+9NQP/vblLgD4DC4i+R0rIPqTT8D70X+i9zTq4vcLcSz5oFJg+hiMEvo8Iwr7MUoi9NqEcPovCtr0JaXk+lQhOPSZiRbufaa09R+OwPTJgoj0TRfs+zuAKP+kCtz27fYC+Us5cvWJiET9ZfW0+d0GQvtPdMD4wVxo+9KgLPm7hGT2QLrG86QlvPmWSrb0ueu2+UEuXvQD3r74HSbG9Cq7WPkH6Yb4SQUG9Wn0SPXmIDD/iVbG9yThHPr+DLbzJLB68w+kFvcKykD0XoTy+H06LvmPuFz+I6Z4+j8jEPiFr5D3a+sI+MylkPmeAwL5NAwg+vc6DPdsrcj51a/I+eSvvPG6fZr51a/I+oI6rvujqrb2xbM09ExJuPvOLJz5Y8Ao/V8/vPRmupz4y/5m+2D1tPvvIcb7y6Bo+cdWHvOkt1z7Bqcy9cH8GP7HKcL472sM9dTGjvfgcBD6XPrK+Mr4XvrktvD4s2gy9",
            "dtype": "f4"
           }
          },
          {
           "axis": {
            "matches": true
           },
           "label": "4",
           "values": {
            "bdata": "laMPP6QtHj9P+78+NDy2PizAxD4tpL8+LoWMvdtugD42HZy9t9vHPikJFD6mx2A+np0rPgwxpj62slI+anytPsfz3j7LChQ/pfboPkZ3Oz/yVuM+1OBAP65eBT+CPM4+9nofPy6M9z6/r8g+MjQsP4tbYD2V/Ak/2CegPtvz9j75WqI+MnD0Phq5FT8Uugw/OU1IPq5dpT6O4HQ+I5jFPppiIj8GUkQ9SccBP8h3RD9jt8U+5TejPq1SWT5pLAc//RUXP+sNHz8+Gj8/QSwTPxP3+T1LqSo9ztXpPrh10T6VNmo+9IuEvgde9D4HrDo+aYj1Pk2lDD8kfQo/D3S2Pu07tj7mxqM+c/M8PgXF8T5RYu4+vd0DPx4DCT744ws/HX4OP36hLT0Sv1E+0OmyPk9mOT9v/TE/F9eEPmTV6j35ggA/vZnNPlGjIT79CqY+S3wWP7tPqj7LhRo/sbyqPqwqMD8IZys/GZp6Pu5jOD7HzMM+cLDPPZ9Ruj7HTv0+7dMCP88lET+oUxs9GxAqPu6BiT4qG0w+uTSnPtpAGT+yR+E+ofTuPvn/Hz/CU4o+a2AWPzYSMD8/MQQ+BbxtPjNoBj74kWU+utaNPvwhrT5F/lY/3X0NPWpeCz/rk6c+nX3HPsIz+D7XI/k+FZIXPj6jEz4SBnQ+pPC/PuMTYD64YQs/6anpPhQzGD/QvrI+zbovP7nNPj5TSRU/XnBBPrW5nj4eMcI+B6w6PqN5Mj/vhfw+WgUiP7y0/j43/gU/B6bSPrjHyz735Gg+X4uhPtOv9z4Xpp4+gdEsP8OQlD4PbMA+MLv5PjSAlj51+VM/b/HZPllUyz5B1Ts/QN3EPu5sHz9sg5U+Tuw8P6PEPz8DJ08+gOfjPhljBD+LIqU+cHK3PrA1L727bxk/oE4bP/zKwD7+FUU+qDEPPxt5Rz8gF6A+QTZAPc333T6GBV4++Z2GPrvdKD/WSI8+9WdOvh3rlz4tgdU+qWzEPsfvUD6h2r4+/IWjPr8B+D5oPxI/9vLJPoEmiz4izjo+0n4uP5DGCz/Zrcs+YEQCP/OhhT7C4RA/DVBdP+sTkj7wqe8+N4H6PpBKyj4MxIs9j+FIP0H1yT4MxIs9NrJ+PtoJuT5GjPI+rYkdP4+/vj4wDAY+62iDPjzJoD7yAw4/39KfPkp2Mj/3zgo/yBo8PzeFnz4fTA4/nngFvAAuDT/uLsA+lgkxP+Dr9j6H9JM+OTbcPhrPgT4j5Qs/",
            "dtype": "f4"
           }
          }
         ],
         "hovertemplate": "color=tech<br>%{xaxis.title.text}=%{x}<br>%{yaxis.title.text}=%{y}<extra></extra>",
         "legendgroup": "tech",
         "marker": {
          "color": "#EF553B",
          "symbol": "circle"
         },
         "name": "tech",
         "showlegend": true,
         "type": "splom"
        },
        {
         "diagonal": {
          "visible": false
         },
         "dimensions": [
          {
           "axis": {
            "matches": true
           },
           "label": "0",
           "values": {
            "bdata": "4uE5wJrKR8CgSFTAc7RNwGwLM8CvSUXAPFdRwKckSMBUjj3A9C1KwEWiLsAlrTXA/R9PwH9EOcCkmzPAvCxRwEM4T8CLhEPAOqlVwK58RcA9bUfAg89KwGGoS8DTK1DAzi9QwJq/LsBk9T/AZvZKwAG7NMBGakjAKxlIwBuPN8A+NivAE8s5wFZoN8B5qUPAX5xEwBQYQMA3FkjAFCQ3wOCNOsALhlfA+Tw6wJlvRMAy4jPAIqk/wM4xPMDV/lDArANKwEHFSMA5PErAscpMwCCbQMCWkk7A2gtCwM4+RcBOFybA6881wBK6UsC1T0fAn2xCwLFkQsCp1TrA63xGwMF9OsCyEU3ACPFOwFzOS8D1JjXADIw3wONHNcAoLELAkghDwNnUMsCdADrAO/VCwB2OScAFOUTAwoJGwNduQsDmryzAaGwzwN2WOMDmwTTA6TVKwHMJScB0jUjAF9NIwEoyQMAGX0XAHvBVwOrtRsBzDUTA605LwBNaRsB5ziTA2UhBwJdES8AfRUvASV1UwCVsPMAsrk7AABsewKkARsA9WEjAqYA2wJMiQMAmlkXA3N0wwJtESMArwT3AiCFRwJjIP8CBDz7AOKI0wC4rRcDUCEHAPdQ1wFdVTcBRoUnApEhKwFinQ8DRXDbAgXAywH0DTMDWQE7Ak2s5wKFtOsD2dCvASfBCwAuPTsALO1XA0tUywGM/RMCwD0TArEhAwA42UsDT7EXA4lJQwHCpNsBk+i7A+LhGwKsnQ8DvxlLA7H9VwJjiNcCELj/ABjA0wO7/JsCL2TTA7EpAwJ/TQMBjD0TAa0Q/wGfjS8BXZ0/Ae31NwLlwTcAKwkvAoNM5wDW8RMAJL0zAAHREwFovTcCrNzfATlxOwMoaRsC8XE/A6Io6wL9YH8CiOE/AtG8wwGchTMCoakfAnfJLwMeaK8CbwjbAYzNEwCHoLcBWvELATQI6wC1+OMCDdkTA19JGwBJdRMC1LkvAxClFwJ1GO8AClkfA8hJPwCR3PsBYA0TAsw4twJ2eRMCz10LAZ4JCwJK6TcDoaVvAHyNFwIs6TMBiI03Ac+VPwFefRsAP8ivA8hhIwByXP8AsDkbAIq9DwFwZW8C/EzHA9eJPwFaiScAIMDzALmZPwAveTsDWMz7Ao5c0wFonLMDPmkrArrRGwOERU8DjrDrADeBKwMk2QMBuJzbAwzJOwEsHVMD5X0zAtgNHwMcjN8DhI0DAzt9XwCssP8D5GD3AUjdJwIHKQ8DbUUjAIWg8wCmMQsCYgjDAyVo3wN8AMcDo/DjAiy1MwGpWRsDmtV/AJyU7wPq9PsCJD0jAi+BGwIRVQcDWRz3AdKBSwOlTO8AkZ0rAXl1EwCxkScCWr0nAqyxNwIllTcBxlkPASH1RwGWkTsAL+DvAuDdBwBKLNsA=",
            "dtype": "f4"
           }
          },
          {
           "axis": {
            "matches": true
           },
           "label": "1",
           "values": {
            "bdata": "Eo8tv24yrT0caM4+yOaBPi1Tjj6oQp8+MlfqPtSWgD7RcyM+BDskPjKZW741yGq8YpnzPiGa6D1QJ+U9VVwCP7/buD5+hsU+JIEQP1wk8z548t49AY20Pt3JlD5VuSo+OVvcPS7nNz70z4y+V2HiPnU8cDx9ZmE93N+5PszMUz7++Pa+6j4+vpsRMb1a4F0+KUPjPvxr9z7LbUw/Z01FPgs+lT1RN4s+pww3Pg3SMj7ni/o+yA7LPhtaEz0umE4+nLoqPqc+Kj/8Juk8NJotP5PQNT13FAQ/6fLTvA1IQD4zH6C9+I89PuSUdT5uXZS9nWX7PlPn2D491cg9MakgP4mmDz9KhkE+EbkdPqjkkD7A3wc/qwMJP/6xtr3GrkE97nzDPqcwbD4o/yg+KKM5PmMVhT5QQtm9800NPhCgL779+UA9f0AmPn+m3j13QSS+CNbSPnEUPj6WqaU+LjGPPtjPHz2A0jY+hSm1PoAtsT4BAco+p7RmvkUS8r3jbyq8XQisPnJ4sD72oIE+l+UAP9mBoD6Rvfo+2qhyPkKWwz7TjZ0+v8oEPwJ1uj7VrA8+eASVPuurej4h/eo+uQQ5P42W0z5y5dk+e0tYOzSsaz6tprg+h1H3vLasCD+mrss+skO0PuqKsD73RKI9gbUKPt6qij5OK7Q+zFWMPRc6xT1nhq47PiP2PqMZEz5tDQM/OtINPl8NnT5NDKs9Y8+VPQfvDj7lkNM+4XYqPiY3NL6fMya+y9sbPgxjVD7KSsA+wd4QPrsuXz2Z1W8+m8LFvrF0Hb60mY2+HtfhPnGDQb6mSKU+urkTP2Gsnz777sk+p/9yPoAD7T4Gv2q8K2CoO0gfBj+YOqo+9cKTPiDCTz50rnQ9nJ4HPzgkoD722Rk/lhE4vkwsCb7SYn8+5Io0PrseAD9nyKk+7XrIPto4Bb77L0m+3XRwvY/lVD4d0YA+mm36PbkKmz0iJeQ+Wf8hP+x7Dj+wNEE+1BHFPPE41z6Zj9Q+kLsAP9I5gz43ZZM98NVKvhdevD5pF6o+OG4QPgZeUj/Z6AQ+LfxaPtrE2j5rwb0+veZ8Ppp0DT06ck88xSQ6PtfhCj6wY8M+9v5ePjEumT6lSs+9GNoLP9ChkT1NQke9TsooPoHP+T4doV49uvs4u48GZL6nOc0+T0R/PkL6Cz7Ql0Q8ta5jvVABmT6NrpG9JLkCPmGBED9WzG4+lgYhPgX0dD3pM2k+ipfYPoCND72TopY+5orLPrIAmj38Vuq994T8PlOAEz672OI99EVaPX3yjzsesKY9WemGPjYL9DxmZwg+m6gDP07Tzjz27wg+2DQevv+TVz18rRU/yuPKPWBNLT49vzE+qAQ+PXYhzD7V0bg+Gr2NPiJzqj3Jvw49qqEJP5RawT4h9oM+TJv8PnzbEz0=",
            "dtype": "f4"
           }
          },
          {
           "axis": {
            "matches": true
           },
           "label": "2",
           "values": {
            "bdata": "SoMwPbzxib5zNCK/2uOivqCvV72GoYG+0tzyvjnbob5Y4AS+jikQvp6XML7pjTy+GvDrvsdG3r5MHLm+Fp7jvgIimL7n87q9Ld5OvqF+Ab9cQYS+Yl6hvLXf5b77nJG+2RURv3Bpu77aXbq+XuHwvUTGFb+Hrp2+v2S3vWrqvL4H2La8tdGmvWv/5b5rZYu9lJhEvh9+h76lLry+3wpMvnddBr8rgam+pB6ivgLp1L7kCOS95ZbqvSRlxL4mEOG+rQWdvvCcqL4lVe2+Y6+avqAcfL6Tlgi/b3PhvvlDiL7+L3o9RWSYvmwHFr7C8Nc9HV+RvgyZLL7Bww2/WyqTvn8tsL2v+t6+ViKxvpbTsr6pMR6+rRrtvTS8974BK8K+M5aUvqAmUb5xsrC+IE//vhyDo74mhV6+nAqivv4iqb1imXk+gejpvWET8T3Jbzu+YoV5vtpVlb5gwVe+L/2mvIEQV75gqb++SZjhvtk03L2XvwO/uvN2vo1g5b6GH3c9+GKHvgfK0r4TxS68iGnQvgG0xr6bseG+tZCIPpZk/r3q+YK+0Z4Vvveyur4RFIq+XkE4PYi1rryU4kU9CcKFviz4Jb5LlM89LVPPvgQwe772nay+/ui5vkc6mr6h4Ke9hYgev6qi+L3my2O+IO+LvoBNDr6rmd2+ycODvur7F765Uaa+iXyGvdc3G76kjqS+E2F5vrUB4r3Difa+q7LHvZAQmzt0P6C+CbWQvqGFL74KPCE9uzOFvi/zuL7aaCG/FkCUvT0HRb6TS5e+l7gEPv1RvDuoBre++3SXvln1rr6/Epi+uJKSvtuTnb5FUpy9U3NTvv/2zr4sc+S+2uSgvnjS471hNOe+rA2Rve6Wqr6qDFa+HpsEv9Fggb5Vgc++5aJFvpFD6L04YB6/pjwWvnL2sr59eeK+Fupfvi70lbuulYY9yUb3voQdT76N5Iu+kL1mvuVJfb4eqaG+Q16rvhgki74InAW/erfgvp2Ywr1+Nk6+CjvdvdZpH76vur++yov0vRL5t75byM2+OJylvql5Jr45Zu2+ABTQvtCgtr6mQHO+cGj4voX5k76xsmO9FVtqvt1ejL5vu66+WYKWvk9u1r4JJW6+T82bveGk6r0DDvO9viD/vcUHz76OuFu+cx7CvrHzZr4xhzO/gLTFvvMQ0r7YguC9cTlgPlVTK7651Vi+xRg/vVa5EL59PMS+36yYvlt/ir1HhLu+oYAEvyUP3b6QY0O+VzLZvdOb5775dTu+Qt/MvtMpKb5chCo8JHxUvs0t7TzNa3++aJChvhx1pr643I2+HYdcvjbtlb4enyq+jBwVvRTSnb4PBbo+k87OvirSSL79Dqe+tGWqvpc+qL1SriK+aL2UvnYzVr7tZSK+GHWuvqdrH7+eSFi9U9urvjXfK74=",
            "dtype": "f4"
           }
          },
          {
           "axis": {
            "matches": true
           },
           "label": "3",
           "values": {
            "bdata": "w+1svofaa79MP4i+bYVTv1pfnb7R4y6/QK2yvgP/R78vlDe/k74TvyeFTb8N6RC/2Cb3vqOWeb9Q3D6/Gri3vr3rJb4jlvu+YtoHvySYE78+y0+/3FYKv+LOUr8Ahty+pMxVvyr9JL/szQW/+2HEvqyIJL8rCya/zkm4vjDfyr61ZyK/p0Ucv87mL79rv1K+y267vaipi76pC6++lvsovpDaLr86vKu+7s5Dvw4iCL/PDru+pJFVvuZHPL/fCiy/mnm1vrWkib2VKES/PeBXvr8apb55gRG+gkoav+qkTr+w+yS/64xNv1ckUb7SwzK/hmTmvjSYd77RXTC/rVYSvXWjKb5kVDO/ydDqvjv2Xb+cwKC+1D4FvwXS3b6RTSm/JNYVvzHTGr+ECkm/jSdEv9MfQL9YQAC/LpV0v6lkAL+wstq+O4DjvhKPAb/MfDi/fAvCvqb8PL/nCRy/6dcevl8EOb+JnwO/vZ8jv1PpyL7Mgye/56gnvvBtJL/kWA6/IRoVvtCALr8AxSC/f2XlvquWL7+rP86+vecav1TFSb6n6BC/fqorv5gWo75ptlu/LKzMvn39GL9fYi6/uVqpvYhLO78GRi+/15pTvxSXH7+5rNy+lCUIv0xT5r53Tie/VPUbv/imzb4t7x6/t1lBv/cKBr+FC2e/SOCpvugo574A5SG/EgQ5v74s374RHpm+MTxLv5bkDb9+xum+/goNv/Fq1L0fm6u+3K3dvhD6BL9MNgK/mUcGvynbBr81yxq+/g8yvg2bHb9m/Q2/OXDevhSWKb/gGRW/n+2KvnCvR78x7U6/23FRvjpCpL7XEyi/+Pw+vxitFr+ViS+/UTQrvw6Q/r4PsTC/4boKvwU+C78hCx6/FPOnvlViL78DBaG+udAAv7RbR72nGwm/0qYrv/o+176M8Qe/1uJmvzvWo75NkSu/LBUXv9B8OL+whSG/W7wxv36bLL9urg++94ugvmFD2L7LYCO/Ci4+v8vWRr98RR+/SC3OutzWC78ITje/eCEpv5oMhL6P802/NaFwvwpC9L5o5wK//wQfvzj1Ar/2VVO/aJktv8bWLr9GrCa/ESfYvgKobL9pf/C+LlAuv0Jb9b4bNxq/rTzfvmfy2L5x1Qa/YT5Cv438+b7gpNO+iFjsvpJZPL8nygG/orLqvkez+b7xOwG/j0xmvhnzQL/D3Dm/XVlrvq/pDL8cJGm+5XQ8vwX/F79naBi/U82ivm0UTb8vPvi+GxZxvTfPQb8FYBC/UHWFvtzbDL9/QSy+H5Idv2a1/r4mKWm/o5dAv4CiL78Er0+/HnyPvhjNAL9fzim/CeNGv6buPb8vaCA+kHsdv5BNRL+45lS/9p06v+lDJ7/liNm+qHZdvwEHFL9j1ES/nTFqvtAcXr+wuyy/KB+rvfdHCr8=",
            "dtype": "f4"
           }
          },
          {
           "axis": {
            "matches": true
           },
           "label": "4",
           "values": {
            "bdata": "YpBOPRV3SL54DoG+hnCxvd0Qu759wVw+bNMIvjpAtj3pOpc9Sk6WPU12DL0MNrM9HMX2ugTBVr6XXMG9RXP/vXx/w73veOE9QgEXPc/kJ75UhYy7GaJcPaghobxbK+A9XHdcvhSJeL2t8fC+AZdkPtJa4L4VHvW9cuYIPvEqcL4yzum+VuF5vWH9GL6JcTi9Mh+UvYRmir0qaIS9v4Qqvb+j9r6sl3y9qXC/PY56Or4OnBU7QEmHPT7lU76dqdy9mjhSvsWATr087BK+nlboO2pYDb4B26m9/e6UvlnvZ72xVNc9X/PYvZFwkrw2LTq9UGiOPPLokb2SHve+2rDCvS3rCD5ehBC+I6C8vdrNNjxw2gW9l796PhfwBr5gF2a+frMgPlEqrD1OgCa+QX0dviOwpz0SYpE+DhP8vfLwJTzORzG9TPuuvXM+2z76lxm+EdGEPTf1971XRxs+OA3KPR5R6L6q34++TbDLvVD3u70H4s09NGbfvV71Qr7rSaw+vMhOvoIb8b0+3MM8RCpcven/7r3AFmi9LW+pPoSihDt3j9E9z8KdPl/GRL6UYB6+dQ7/vAOPIb3tAfQ9+p86vJgZRD7eK1c+2ZEBvrtcOj5idla9B5eHvocV8LwwUFs+GTtovf9eNz7iynO+3riPvV3kGj5WlbG83re1vFuewL2uwnO+qZuyPrPibz0M+Xg85yrnvFBY4DxzqJ69v2EaPZ1+sj3zTTQ8J+PdPTcUur2QWJC9b2WUPOVabD1m3Z6+mD02PdkZx7zRaQQ+tE8nvoXA8718Mea+FokkvbuDGb6yrNI9xJixPTs/JL1evOc9qofGPcRZmjwjfIe+Q2yVvTUgID7gI5G9yhNRPt9Obr6wb9O9aa1+vY3MXD5JjWm9vBqLvm9NXr7QwX69WrkLPly9Dr6csYO8Dd9JProPg70Rmh89ws/5vY6IUj4+k727kw9kvbmWnr2CQQC+3nPQPNzfUD2FcIe9ixsPvvJ5ez5/DEA+E9zJPXxkVj5iWgc+FxfkvjwARz3Aykm8YmoSvuKS3j0zCry+Wc8tvvRBXL1QpcA9SyrKvD+MNr77vMS9JuVJPr4yu72F5nU7AggVPr+6ML5p1Ni+ufJrPnswjz30bvQ8NoBNPr6myrySEow9J4NdvkvAjr4FsuG9o4K5vU3QI752Iw8+zQ1cPvXkgT66qhW9BWYXPT3GKT5ZTE2+ffGGvbtREj4lth6+rKC4vjNuX77JguE97d8LPiM01r1sHlO+4C0vvk1qCT6hese+s8XUvWU3ez6dtwi+8MF2PfwMRb5aDVY+Fzd+vX0/jL1FTmW9XruBvtlcq70OhF4+AmiDvrCkfb6V4K+7IGsCPF7zXz4t1gU+c220Pb4Po70zHV88CZoPvqgyPL519UM+h1HKvdEjk74=",
            "dtype": "f4"
           }
          }
         ],
         "hovertemplate": "color=politics<br>%{xaxis.title.text}=%{x}<br>%{yaxis.title.text}=%{y}<extra></extra>",
         "legendgroup": "politics",
         "marker": {
          "color": "#00cc96",
          "symbol": "circle"
         },
         "name": "politics",
         "showlegend": true,
         "type": "splom"
        },
        {
         "diagonal": {
          "visible": false
         },
         "dimensions": [
          {
           "axis": {
            "matches": true
           },
           "label": "0",
           "values": {
            "bdata": "5E4+wK8oJ8DvB0fA1V0lwKw8KMDJ8UXAeMhEwC4FJMBlySLAhVZLwJlfS8DAlT7AnrM3wEoER8Bxf0DARQpOwAaXT8A03EDAhWtOwHchGsDjAS3AC3tEwNMvLMAMKTTA+rgNwGJrMMB/kznA0sAhwFcRQ8D4ikbACXoNwLEqS8A80kbAxH06wKa4Q8AZiEfAdixIwBVrPMC4lDjAE8QvwJpQNsDuVkfAcjwvwBiSMsDuNErAoOk8wNwbTcC1WzLADHIXwMSAPMDOdjnAZLjmv/jhBsBMLT/A5tw+wEnSMcD8KCzAWSEJwI2IPMDB5hHA37xCwE9CJcAuAT3ATnFGwKEXTsDVISzAgBA5wD6pQ8Br+S7AHH5EwHRaTsAzghDAxYBAwF4tK8DbdyrA7Vw/wGhSPsD99z7A7lUDwMOcL8DMER3AhMBKwKtkPcAYOZ+/pFw2wF6gO8BRAybANddAwA/uLsAU8S3A/xk7wJ8JNcAa2jDALO89wJpKIcBpezvAsUs/wM+rSMDxvVfAJBI1wN2tKMAswTzAtZlTwClNR8BDXD/Av542wCaQMMCzCk/AYdo1wAfUQcBLTUnAyIREwN9pQMBz5VDAkt4dwIDTKMDz6y/AAOQowKbsO8BT1FfAgCo7wDVTKMAEQjzAKro3wLPGJMA5iDzAVn/vv8fjN8ASQV7AmaRHwF6tNcC6WULAwVA5wEgnR8DrjCvA+P5CwKzVBsAR4zbAiuc2wOM9TsDF7ijAGJ1IwFe8TcAdxt2/g6k4wBV2M8AAJCjAc/dPwArtQcDRIkXAlQMrwHomTMBINCvAT83CvwReQcA301PA5QwNwI9V4r/wBUjAgxEswD18SMBmrVbA+7lXwKlqQMDMUELALPhLwKduQcCmwiTAkIoiwAdXV8C80iHA99MDwMKXL8BECEXAYDdIwCbGEsBiUjjAPHg2wBU4M8Cu7TvAYnkxwDI1QsDklkLAc684wEjDTMDWOCzAuc8uwMklUsABbxXApSVPwEVVTcDTPkLAlq9AwGaiNMCSU1vAg3kXwNgSL8AnwFHAeo41wHU3GMBpFkHATlbnv3JrKcBOOgHAtYE4wIn6OsC6kz/A/b0swBB1CMC0yk3AHmk/wLxDF8DZrEbArPhHwHSTK8AdAwXAh0xAwGXfOcDOTUDA1c0zwAVETcDbI03AG/RGwPYNOcDEvVXAVNcYwGIGNcDyKSjAeo41wCtmNcCkWizARDJXwD5VR8CbDiDAWA40wNk9DMCbiFHAnBM+wAsXV8CXFzTAKEw1wJxyK8APOzPA8uBDwCdpNcAAQVLAzaZAwN+mPsDNrCTAS7VIwLZtO8BndjbAKFJCwC6BPcBg4DzAP2xGwPkSC8A/Oz/AW7A1wH5PRsAp4E3A83gvwM7PNsBOBC7Adzc5wLtWNMCOoCbAm00+wDPlUsCDZDzAL91HwEHOTcD04lTA+VQ6wGAWNsCVrznAImsPwK4uSMB5w1LAk7AQwEwSPcAQCkzAT28+wEZOQMAJtj/ACydEwJurLMB5wU7AdrArwD+nL8CC0D7A8jtAwJAmQMDN80fASTk1wA5wN8AGr0TACdErwP0cNsCeySLAjExCwFh+OMAkYiTAS8cxwGJ0JcAUkSfAxuoRwMDNM8CifyrASfUKwAPnPMCB0grA7sUqwMrNIcBk90nALjAWwGISHsDLURzABKcrwPCZEsBETSLAlmoswDe9NMCgkDPANgJZwD7uL8A2pFjA3Gk5wO3SMsD/tFDAu6RCwB6ELsAUOjTAHmZQwPr3MMBLzDrAhTxFwLY3MMAVLiPAUIpRwDMeUMA3RFHA",
            "dtype": "f4"
           }
          },
          {
           "axis": {
            "matches": true
           },
           "label": "1",
           "values": {
            "bdata": "XZZ5v/wOW7+kvQq/RHpyv/P6db+pBX6/OpKOv2ZBX7/wUY6/aFstv+FnR797tYK/661Jv7RJVL+hUCK/FQh9v4whZb8sJ06+pyFdv7rEX79V6K2+RFoUv1YqG76or0m/agl0v6Guer8eo8++fYVOv+4Fpr5xzCM9YWpiv0oJVr/wFWm/6XFAv03VRL9a1kG/Z1piv/TmJr+1Mty+VN1Fv3oEkL9EtPq+p7cSv7ZtUL9x5Su/0P8uv5J6bb/r5EG/rReRv/exXL8L9Qe/NuKTv3N2fb+ozlu/2uGLv22vRL8LKTq/ZURkv0FEgr8Gm3e/b5JJv7nWiL+pFIm/m+4sv+/GSr/RBXa+yvG/vk7wP7+YlCa/2YNWv0BEi7+DeEy/tkoQvzrtJr/QLCm/eJfGvk6MG78DWnO/it1avwQfgr8nM26/CTARv4dx7b6s+nC/NOpvvzcBWr+bRHG/kU8Qv68Sn7+yF5q/jadOv+VCjb+Kvmm/76Z3v1sLfr8hcxG/jJUIv6PzjL8pj+O+9g5Ivwo5tr5T50i/Rcobv2ifn7+lwIS//f2rvs3yi7/F9gS/cUCAv5tkar8+DVa/wPh1vzd5Tb9pNxG/tOF5vw4wGL4BlXy/N6ZgvyZBvr7lqim/w7k6v6EZdL9ZK2q/v1Ftv8b7Nb/L+By/We4+v7xvJr+VwmG/0iF2v5PYH78Rb1y/R7iHvxy5X7/krES/z5p7v/CAZ788ktm9csx4vxl6kr9Qecu+c3YtvxTqjb79poy/JZ03v3kf7r4FnXW/Li5rv98UhL/RJCu/vwxmv+VjCL/f25a/f/lHv1u9Wb/QJV2/xdGKvwaUcr+4sWC/ubI7v1LQRr/RXBC/4DAVv7andb8DLfy+FJBnv7KrWr968aS/I7lUv94+Z7886lK+0EtWvzHUcr9mbCa/nYdQv/8NeL93mle/dYJtvz/Phb8zsju/BgFtvxOcE74VTiC/W0xWv+EsT7+whDK/egd+v7dRPb+C/oO/FK9cv3+nQr80ZSq/yDZKvwCd175Zgki/lL9zv9P/Gb9JsjW/JgI4vT0KKb8fWje/4zZhvwW0ab/rTmu/pjzAvus3fb8r6i+/zb0kvw3VW78Opim/udIsvwNEbL+1+Ua/cpNvv7xgyL53B7S/RUJEvyNLUb8DEqy+JpERv2/++r5HPMm+mvg/v3Q3Xb+Gg3y/EKUjv2roG7+Y40+/JgI4vecva79Pfga/mWobv9/qib/J8n2/UqY8v22qbL8DI0m/VvRYv19pSb9gLRe/ik9tvyhxTb/eVqK/Gqb3vdAtCb9m5CO+6Uwfv5/Qe78fAju/ENwYvxkyQr+tQCu/JsUAv76GG7/5gGK/rBvuvlX7iL8m7O2+HW5/v0Zmi7+nlY6/5Dkxv4xqub4cxjG+iGmFv89DMr9Maiq/t5RyvyxEWL/BX5C/p0ACvxLIKb8b1zS/6URMvzQDUb9Ijly/Qelzv695Qr/WaUe/GZqCvy1s+77Dihy/dTMVvxVHUL/DDWm/iZdZv4UPor82pie/GNdqv/J3Yb/9fi2/2Qzjvk0qH7+sj2+/BgR8v+UWbr/UgRG/nWUtvlZwRr/AS1C/yDcLv7tNEz0nu2O/NJ9Bv0hRdL/O+6i/FvZVvxEIT79M902/kHeFvxA8hL+lhG2/LoV+v86O/b4RLFW/K41Xv3NUL78z3Hm/QO5vv36eSb9Nbjm+r7dZv8WaSL8naTG/eTJNvyKBhr/+dYK/3M5iv12Otb6UeHS/I3ppvhechL8Q+y2/ANA6vzfoOL94s1S/ZRDSvSsWT79vo2e/sd41vwjWO7+Wkzq/",
            "dtype": "f4"
           }
          },
          {
           "axis": {
            "matches": true
           },
           "label": "2",
           "values": {
            "bdata": "RuLLvqQm0L6dH4i+JovAvoFds76Z5Je+RhJ3vh6O6b4tDAS/63ClvhIgVr5dhye/xNiPvrk7ob7Ty+G+Kmksv0LgYL5c9Zi+O8e/vj3c7r4uGN++Z4FSvsMF+r0VB5u+MejXvqrCpL5g9hu/oPBEvp2nHb7kbmm+VXyNvkbc+L0YRoW+Josovlyq2L7J8YI9n9jPvsTRgr7hrYy+Fsgmv0Lnz75be0G9l+g2vsSXgr5GhIi+NGPyvpCWh76ACV2/vhG1vkf8tb63jw09gX6CvqqNwb6CWpK+Jwi4vq+bob5Y0Ai/orOAvmpcvL7izcW+yFEmvvYO1r68hkS/i76Kvub0272WZ6C+Aw5uvrrDFb6wJAY9QPgPv9k6575KwsG+Q9lbvoUgaL69xfC+W0uqvkKggr6psdm+V+uMvgqUEL8SbXq+kVGOvhZzq753/9O+XCqZvvSbsL531Ha+aEqQvt/X9r4M8tK+fxtkvnW0er7mKXS+39UPv2wE2r5T+Y2+JTTDvnJn1r4Gg5G++dRWvnfo477uNq6+wkigvkLEGL9YRcG+evxSvgwx574gUBi+ov8hvpRJ2L6ZAga/uiXgvrb8cb59lq+7gUE8vjMdm760dwm/2hOKvl3tQr60PVG+pVEyvj2JDL8dtLu+8dIyvtACnr0LJLY8TtcPvigXlL7Ql3C+26sYvk5Shr54IYy+MvcHvk1Nkr52nnK+T7mYvgVXwr48pk6+3y9xvtk+tr4u8IW+qCSLvqHYQ75JkCa/EIJRvvkg/b7ZC7S+F5SsvmPgzr1Gye8872alvj5Ci74v7fC+R1oKvtA5M74GR0O+ZzH2vjA5Yb1s1mK+LBHpvkapl74IB3e+W9fevQ0z6r7bJhI+miHmvcFgfL4HTzy/PKH0vhSKTb4u87a+sPStvhB7677pAke+ojkRv+3orb5n4UC+3dWhvhw8pr58HIK+EVpjPprm8L0hCpe+QWhYvm0Z1b5S5j2+0M2qvubBab5iiqO+vfWmvg50br4BQRG+5IWzvkn21L6miea+eZaivvNdG79sflq+mVqgvVKfkL7JMHa+WcwivrAetr6lrl++KY7QvrGkI7+RFZ6+n5Dmvi3npr5/9FW+y/kVvvymkr6OYX6+5lpZvn9Yyb7nYS2/t1GQvg68ur520EQ8/FWqviNLOT2nR7K+dFafvugogL5jHwO/srLXvkvPFL6q58q+mVqgvVPDUr4y1Mi9xj0kvStGDr+sQ7++D9d6vr/5tL4Q5N6+lfHOvhDVu75DYei+G2q5vkgLnb7Z+fG+wiyqvi0ZHr/4kK69xL4svlvtkb7+iTO+2tfpvkJy+75eFua+w25wPOxTo74Po6e+IkrhvosEd76Mjqy9d2W5vvj7ob64ggS/UEQ4vimGhb4eRaS+erW0vsRQlr4WT1i+o5MOvipWjr6DPLS+JTSRvipYT76wyI2+F95Hvp3egL64s32+fLCcvigHnL6XzB28hvfqvoK1qr72uC6+7cLIvsRQqr6nalO+gh5bvtOtVL8C8VG+S1wNvzU25r4xRIq+zN6Rvouap75JF42+/D92vkVivr6wnw++yom+vsi8gL6yBLW+lS14vruVhb240Z6+LNDbvvDClL4bnBu/5hbcvuGyw754pzG+Sf3PvkdAvr6ddI++ZjbuvoWdtb4+lLi+2Pt+vrx85b5B416+l3AUv9Bjgr6OD+e+tNZQvgTigb4yTWM9KjmKvmyNQr7ajIW+GG2Jvin+bb4NLou+ZpG/vm5w8L63dS493570vs3S/L760qS+tpBLvK9l0r4TpIq+Z86uvs2yfr6Dcr++",
            "dtype": "f4"
           }
          },
          {
           "axis": {
            "matches": true
           },
           "label": "3",
           "values": {
            "bdata": "THO4PXvjtD6I7+g9YV7/PswWHT9Hbwc/aSg+P4Uhfr3/MzI/lqxuPrB6HjzOLF8+MsAru62aez1MwYi+2b4/Pkzh1j4LnqG+zi9kPk09wz61H5a++H8jvam+nb72wbE+VYhavPGuCj83nTO+uwi7Ptrjdr4Q2Se+3gWhPnvc+TxXSBI+E3OIPTACMT66zh8+7VxRPtxSRr1SVdE8b+O7PV0BGz8PcEG+AQE6Ph82xb1Dsom8tnA6veb9Dj1/yJ4+QSeTPkb/17wBuNA9XPJovQEoiD5jlTs+PfgGPzY4Aj/jSbo+hvatPtnBKD8CDhI+pcMcPai4Ez9xK8Q+8sjzvfXM5z3YVEO+DSGvvj8NpD50yaM+qi+PPuhdpj7EfwU+Lku4PWjCoT0LriE9/GiJvv2fhDz1zws+FvpOPvtfsz0zRCg/1ocBPjRL4D39zE8+1ZSEPoRqhzwOQj0+nWxZPi4Pij4HdgM/z3QtPhUwzj3yZxU/0aSTPhrZMD9y4Mg9rzOqvsDOAD/iLKm9Ji0HPrQQhb4LxvI9eHTePhd6az6SBNA9MNy3PjAdhD6ANfY8uPr/PlGUUD7LmQw/4cAJPxezpz08qgy+6GBjPn+Ixb5z8Ro+RM8CP2Pag768bKY9d+DSvcXNtD5Ygvg+xcj7PpMwST45GJg8yqCgPnBKcr4xHU4+e2amProoQL1QisA+I6f3PnfX6T7yG/A+haJLPW38dz7Nj3y+RocMPxXpmj77p6a+EOZQPq9VjL6UP7w+fX8RPj7e1D05IR4/ei00PkK6rj5tabm8HmVKPkJIgj6L7Ok+0q46PS4ASj6w3bs+oT9jPxPuXr3XqF4+EhilPtSymj0Ot1k91PMEPWkUJT7DYta9+S/PPmZffD0keY8+4rPtO53gqj6Fe4W+Vt87PqvpRz2ZIA0+0XX9PSgdLj/+vaA9qLUQPmbwED/8npc+XDZEPnD/TL6Csj4+X0D3PWBYLT46Qhw9TnWNPhEeJz2bjYM+YbxMPgd3oz2qXEK9crEOPk6/ML0UQfU+75pYPs9aj74QAro+0qLSvg1Yeb6TsBo++kSkPm0DnD7Z/AM+EB/gvT7bmD5kLa892wFqvtI1vD1vsVM8RHgmPrtgeT5xjfA9kRbtPq8fh72yXM4++VL/PuLInj2u5d29zKswvlLTu72ZDOS8PrvDPrHiUr28IY8+dy8CvgAWTbyGi58+0qLSvsGR0z7bWIY99G9WvYzLnj70J8U+4omnPd1OeD5GTng+iS2APYm+sj2jhYA8XK6NPRb2xz0RjRk/F3TdvohPrT7XNrS56TayPpjosz7SyTq+gjxNPjGL6j3fkus9BuByvQXuEL2kId4+tKxtvoVakz7ZnQg+y8ObPlIpUD6aJL8+wh5NPv+Vbj1WI7y+0soCP0lw+r0rj/g9lGKSPjm6DD6WywQ/NItevY8XJTyI4pc+QPc4vnGWhD1/ckW9LLJrPsE9xj7ca4o+MYV8PlEmD75p4Qi+BmeVvhdjiz7FTAE/iLXTPkmKNj8MP14+ZURMPpCXWz6LjC6+29JCvbFjJr6x54w+mQhePqItDj8k8/s97ZTLvqN9yz5nHIM+xSRXPIsFhb4YO+4+D8KVvVSVBz694CI/T9yoPtQCJr65pj67ogfAPprc0D5ozCU+fHMtP3iZA75reSA+cLamPeM/Fj4604Q++SKDPi80JD9LGbO+yaFPPjDr1D47v9c9d+H5Pdu6Oz7juaY9jXCIPnr5Z75wa3g++2JKvvbQMT+MdRc9v+ObPXlIqrxz9gE+mN+XPvUUMT6m00g+wt/HPuDCsj1j56Y8",
            "dtype": "f4"
           }
          },
          {
           "axis": {
            "matches": true
           },
           "label": "4",
           "values": {
            "bdata": "8L9zPuoa0z6YI4U+7GQAPlkOrz4gOzc+Vg2svSRq4D7GnJE86pyoPoQfoz6oU6Q+LaO/Pk6+BD+Ph6A+9R/2PouyzT5Ihdw9vxAWP2T1MD1aLaI++GW7PrTpj7xXr5S9buJfPdhoxD2hU4Y+RTUmvcoNIL5ybs08LJ9oPrkFFD91X4Q+NZNcPnCAGj8AYIk+MmISP+mg8D3T86g+XATWPlqOQj7mAws+P86EPsZVpT7MA6w+wV2yPkr0oz6W9fO9SHm3PbP54D7bHoQ+HI8bvZ/Vuj6La0Q+tq4wvibJlz2V29W9/M5gPuiigj7vkw8+C9tbPiPvmD2GSBU+zPA9Puj6Vz5mMzY+JXtlPnXqwzxgZRu+IKdAPs1Mkj4sBTw+aobRPT3huj48eaI+49jDPhZbpz7zGwU/U1qMPonyUj4Ic4i9v7vcPgUjSj5WQMg+Upipux5CPT7ThJ8+wUiaPkH8RD5RfWw+3kmMPrvLAD+oYAk/Ie7XPvf5cz4j45K+AoqWPs/QEztAqZ0+XPUMvfLmwz3fFIo+KO4jvO8UEz94YO89wW7QvU3A3j4vIWw+MWOPvbi7ST7ULw087iK5Ps9gaj6jo0E+jSTGPe2Y2z3UdyE+nfd9PuYxsz61e9Y+RoKuPmw2Lz7robI+ZbQBPP4ifj7IH3c+UmxkO9tdBz/Oxa8+eFG6Ps6v5z7Jfog+sJOkPVXxQj48uim91gtPPeVP4j6sdIo+hQy/vWZbCz+30gU+HuVFvSYuVz4DJCA+UHj0Pet/pD6F/7I+peKkPvSPQjwIRBk/6D8+PbZcQT66ma4+9YhjvuYsQz7476g+MEvDPOTfIL53WLk9iXCEPp3mhz4iyGM+a8MUPwKK2T4I4SY+4nYYveZCyD57Cro+BarMPtxuSz4G/0E9lG9nPvUqBD5MWgs/Z91yPlLtErvbMiI+5MWIPmdxIz5Rkkw9mcm0vh/MijzgkJc9ivYePn8yFj4xW7k+Q8ROPmoELj4QJMg+rKkIP6Q02z72PXw+FFq2PplZeL2e1RK+O4PNPqmJPT7UR+o86HwTPbT95D6zj8s94daAvWUQ5z2AGE8+YyOFPXKRrD5j70c+fC7uPihCKz57o0o+9CqrPW84CT5o2o4+d7ZbPuFOqj0RoYk+9Y3BPIi1q7zpso4+Y92iPlYWiz4Rja8+7+kVPpSuoz4yeeQ+0Az+PYREyj5nGcC96HwTPbJ2qz2RAAg7I9wLP1MjZj6vWcW9z6G2Pt7Lrz4zIPE+xz4bP53C+D5AehW91wmNPm2N/D23XGI8q14APBlxwT6Qzao+WKONvBk8+r2OAeE+Hvoyvpqckz7MOUk+89chPipDnT1aaq0+B+/nPujoDD6kHsQ+YhGAPl1q0z25Nbw+F3MTPf4GGb4KEAA+/dI/PqiA4T44iRO+0roRPiIZBT9zoDS+JnYMPngDST5nS8Q9bLVFPhStjD5356I+y/F3PSuwIz6UwXy+/bLoPl8glD7FUP8+GJq3Phv3rz6CWuU9ys2YPtvNzD4GbZG91xUWP6NuFj50kgc/ZM9vPhDjvD4tHOQ+j4iCvEH5h7ySss88kCc/Pqv6Bj6Aez69Wb1nPhLv2D1DAGY9ZnjXPQHlq71oyt8+uDeFPt2D4j7WEbg+sj3kPs8eRz41U6w+mM+TPH42xz5I0rY++J+wPd3BBjwMa6Q+Oeh/Pu2txj2TxfI9PhhnPrEhBrxS0AO/PApiPuwpV76x+s4+2o62vM0qlT2ppeY+JizUPveJMD5NalM8sIYNPwTlDD9f54U+IZnhvb45jD6j4wU+i3uEPrbfJz6vxeY+",
            "dtype": "f4"
           }
          }
         ],
         "hovertemplate": "color=sport<br>%{xaxis.title.text}=%{x}<br>%{yaxis.title.text}=%{y}<extra></extra>",
         "legendgroup": "sport",
         "marker": {
          "color": "#ab63fa",
          "symbol": "circle"
         },
         "name": "sport",
         "showlegend": true,
         "type": "splom"
        },
        {
         "diagonal": {
          "visible": false
         },
         "dimensions": [
          {
           "axis": {
            "matches": true
           },
           "label": "0",
           "values": {
            "bdata": "+pI0wPjXKsBWKE/A2IM6wOiDM8CP+irAsoQ8wHFSH8AlejvAuU5JwH18MsCtRi7ApAopwDbAIsB320zAbosMwF/uQ8CmKxPA17sRwHGKOcCl8CbACyY6wJkNPsCx2T7AkekvwDjmM8AOuT7AFJsrwOSVMcCZWR/AgSYgwGlOJsCelh/AjDwewDWOOcBzkx/AnmoxwE0pQsDg0j3AG7opwCO/OMCr6ETAe1YnwBVpNcB9IzbAm20UwC0dMsCM4ivAxzs7wB/uMMDkCSPAbxkewJtVK8BjvTTArrEywFs1RMBv6irAjtQOwAMmL8DyKybAJX8ywIoTJMBUUTLAkJgvwEueMsA52hLAgScywLaSL8AYBh7APn45wA03KcBYqU7ARVVBwGj9PMAd8U3Apl1AwOTQNMAj6j/Ay8QqwNCTIsC/zTbADp4swAXvQsC8NCXAHioywM/vH8Co00HAo9EnwLvXQMCHBB7AmwExwItgTcCBjyvAwn9EwG2ILsBfFEzA9yktwLl/SMC2jDfAchUiwKIHH8D4PT3AuPEzwEX6OcAqUSbAJyNIwJcSI8AmIRzAAZIpwIaZRcCBJCzAmVcbwKbrD8BSkUTAyn48wKNuJcAWHS/A2gUzwAtgMMAW4SfAwsxCwJStHMBkSibAwHo3wB8VSMBo2UPA4nIrwAmPOcBlhS3AmiglwPruL8BjsyjApOtAwPz4JcCXz0XAqPo0wJKJPsBMyTXAn88swHqCJ8DurhLA/NknwMK1KMBt5xvA21c4wLIMKMBOcynA0iU2wA35OcAFWzvAM4spwFAnRMBXn0bAYEQ4wOEhQsC1OyrAAJcswFLqN8ABskDAg685wMsUOsBWozTApYEawJ3ONMBonCXAwv8swDVATsDoPT7AlooTwO0rUMAwth7AEk00wD9cJMCRkUTAgJ0wwGWJGMDESTHAZvkiwDfXL8BcUSPAVJk2wAqiLMDrpTnAh0InwF3+/r/E0UXAGlkzwK1mO8ChyjzAClg9wPgDSsDLATfA3VIzwOXiLsAO1DvAkcoxwFAsN8CyXBfAjh4qwHIURsDhWyjACy8kwDVDE8DKKS7A+U04wPOTRMDFZwLA3NAhwPQCIsBa3jDAb8dDwEJ1LMDi3yzARPEtwLqZQ8Cs0iLA9cQowOD+M8Dg2xzAeScvwMwwD8C8TDPAWqcswHWlJcBnC1HAorNEwE0lSsDBREbAgGkuwFZ+P8CIuTbA6d09wEPKMMCvaiDACzk2wMk4HMBr0T3A8gIwwFJyFsDeGUHA759HwL/uH8CFOzHAZA8/wMakRsAAHSfAW1M/wIDfKMAImSrArvRFwIGqLcBUky7AmtdCwGPuMcB3wkDA1GVFwDBYOsA2xzvAzoUrwDwEIcBUfh3AXzQfwDD4N8A=",
            "dtype": "f4"
           }
          },
          {
           "axis": {
            "matches": true
           },
           "label": "1",
           "values": {
            "bdata": "VMa5vk4M2r6UU4y8lGC5vpKnL79rkM+9bBb/vgc3Gr+q8DG92eFcvn1qAr8ntiC+SaGfvcmqJr/uf0q+kcdhvqgN3b6gpo6+fGp1v159dj6Sxce+xtfcPc6Por2iw6e+4EpjvzKKWL//p5g9PCvnvtMACb/C0Gm/29Rjv0Kb3L6v3xS/2S4pvyavhr6Fcwq/LGZXv9X9Ir9lUeW+uvc5vou+N7/A1Mo9Pec7v/qQNL4y6g2/0oNZv+MgDj5UT6S+Bg+tvtzc5r5vAkK/8A9UvwkrJ75rQRO+Lf0cv1g+sb5k0yC/leguvxZjvL7qaGK/Oz4lv6oiKr+gr5O+M7kGv7N/GL+gFBG/ixRwv7XY/r7K5jG/DNwBv2h+Yb6pU5Y9EQSAvm3zn73qLgO/s7wBv5mKwL4z13Q+4Dl1v29uJL8giCO9KoelvkJ/rr4QaTC/ezYNv3Q0q74zXwy+Ju8pv2yo0b6EKlS/H/ndvprokD4Pvua+e4ywvpmuQ78oK4890XBBvgllA79W3sa+nvslv940SL+SQcq9h6pAv75U677fGv2+oMEBv4MXID4vmi+/M79wPoHq8r4kev6+5sSxvhQKEr9hVf+95bWzvgGxvr0MURG/v+QLv61RBL+7/4G9R23yvrF3Wb9P5Fy/AWehvhXDQj1cSia/TVMEv16Mo77fSyC/QLnivhkbYr9W0qu+6XLqvnFtXL/d/wS/HxzcvvPYnr5L/gS/OGkQvzjyJ79MHUq/z5I8v89LDb9YD3y/ZYYyvgfGab86RLC+sabAvT4DN7/UBg++Zfwzv2m8zb7kvQS/BrKFvbQnib5bqC2/MZb6vnk5s75XPtG+fqBcvq9Akb5Ah3y+/Ux/PimQDb9kdKS+TRLzvmY0HL79mge/OMIZv45Bjr69ACa/z08kvyIAQL/sSPU90o60vtG3Db/cCh6/wx4hv6ipKr8Qljm/gS3cvlWOAb+LL+C+SnMCvsdZR7+SMwk/bWjtvsx1yb55wgO/TF0HvzTyCr/TBbO+6JREvpeyM7+Jvzy/DykfvwiPI78KMGS/nVw0vgoih77CufO+a5rEvrz0ob6+8Gu/Bw6qvuycrr5ed32/x8Q0v7AUJb9OujC/1b+Lvik0475ZaCy/zIwYvz2GAL8QF1C/NWgVv31djL7dk0q/WmEyv7622b7Wyti+3WCSPaGhPr8ktA69b6azvrae5r69mvU9X3EjvzjvM75i2r6+dO/TPZp8Br8cIwW/M+N+vkCiWb8MwYy+SNI7v3DwT7/BDJY+e0+HvqGSCb96AQ6/7pfbvu+Z175eUoC/5xMtv4QWYL9NZMq+XQXvvmkotb4WJEu/bAIOvx5mBb8MNsi+Yfdjvn3BpL7lAAG/1nV/vrLMt75ujEi+nz4avzjVlL4=",
            "dtype": "f4"
           }
          },
          {
           "axis": {
            "matches": true
           },
           "label": "2",
           "values": {
            "bdata": "5BLGPjgXsD5JVdo+23AAP5Q8Ez8789Q+jYY6Pz3gxT50PrY+Km7uPrRl+z5tCOU+8zbOPuJDCD6xWws/ZfQmP2r3Fj84YTY/+rQhP+f0WD8RF/0+JTMVP1or7D2/4g8/jIJEP77JAj+zZUw/mQUBP23Y8T5Z6D8/BnACP65FPj8BMzA+sDoWP4nTxT5Aicw+FvghPy0iuT7+ZDc/JSM7PPs8/z7IYas+8H0aP3tvBD5isKI+/gcbP6u7Lz/djig/jLmYPu7aEz/8QA4/mF30Pk1cF77mg9w+k9kOP0XeHj/tykI/yN9GP5O5IT+ZZuY+teLRPgj/1D7DOQI/CBnVPgKNpz5l/0E+09diP/EMBD/VvTo/DCyGPi8Saz4o2JI+zqkKP3N17z1A5yw/2N0fP2+E8D6TrSw/bqAiP3/hoz4sGDI+CYg3PwOWKD4OkZ4+lxHVPjApvD6hewY+C6U2PzVu2j5a7vc+Hg8QP8Hn9j5boJ8+2YeRPowrFT9vwlI/U5MjPmKkIz/T2DM/RP5hP5uJUj87Gf0+B403P3ixuz4la+E+kTHTPSbEJz9gGAg/UyLaPvBl8D7IRKo+u5cTP1ovIT+HmlU+FReTPqtOEj9ZGpE+HHMLP6+UZT3ZSU4+xH7/PpqpLT+4VDc/Z7TvPnysAz6iovo+PM+1PmSxCT/Dpw4/7/5aP9e7RD/D8AM/iZxaPxSPIT89/aw+CJIfP1p2Lj/RuA0/BfOvPiw78z7qcTM/7NsVP0aQNz9jES0/uJcEP33dNT/btZ8+S1AfP7SjST9gUn0+yujzPpMV+z6miKE+a3gOPzfwWD/NhIk/RvucPqiNuT5Rf1c+Y145P0l7LT/ywzA/CQL6Ph7UJT+27BI//LQgPxD1CD+Clvg+cRwaP4tWCz/hDik/HlJmP22tPT8cV6Q+fyoNP5DEzj77sRg/X6lEP0f6IT/CBB0/G0YLP2qcUj9dufs+FrNjPm0dBz9Go4Y+3YE/PwBB4j7xjS8//TEfP/OSHj8GpQk/m8f4PoqcaT9mHzE/KkYGP15YGT/1TiI/bIHgPjLsIT+Cskg/97lfPxmjOz+nQ0g/E9roPlaWwT6lfjI/Y886P2RYIj/l+v0+C/gWPzfdyj4MkCU/3wHTPl5lCj/kLh0/SgLYPkt5fz5Dzgw/pL8lPxCCFj93yxo/JUwGPk/jMT9c7tg+OIeYPoqs6D1+JZA+LEsEP7hKGT+EM6s+jJudPtwJMz+VeDY/0FCePpL1FT/fUMk+GXyXPvRdLD/DTLQ9MkClPgfOCT/ZYOQ+hmr4Pu+/Dz/JwFQ/wYDcPmM5Bj8HZYs+oqFePlS2PD4kv0Q/xRwHP/B3AD9wcfg+FhbjPiyzwj4LzyA/puUhP4pgJD9tchc/ic0vvbDeQT8=",
            "dtype": "f4"
           }
          },
          {
           "axis": {
            "matches": true
           },
           "label": "3",
           "values": {
            "bdata": "i7oBvxhYMz72lRI/UruNuyQstb4Ihr++s0BgviEVr70dyL6+aPgLPubf1D6gJBu+pyC4vlpiUr47MEO8OEV+vb0UPT7a5E09osldvrAvBj50vRW+szPDvpApJb9Qxw09vVwDvpnkWb3j1to+JBLzvS4MTr0lHvS9T/ucOzNNBb4kIMu+9I0Evics6r313C4+RDGFvvt1xr2BeUe+seMrv6lex70lzZu+KQQAvm/si77zqle+fBJTvrVlS778ebk9dicavrcqB73gN2q+q4jSvVlt+L6Q4oW9ntRyPiM9xr1KqD6+OoB2vscDlr4ezMM8FK0svoM7Qb5SwYi+U4NfvvPOFD44iKq9uwbPu6fzPb6yHnA93ebRvWiOC79dVgU/jhCjvsrHl76DEvu9vS8WPaPNnD3a456+KSM7voTKprw0Nh4+nRANviAhTj5Wk4895RhPPcLoqb5M086+P0L1PZ/1hr6Hx2G+dyICvU4uKj+JUjA+ZT27vD5zSL14HRE/i03XvpCPlL52ElU9/I6Nvvqo+rwMlZO+WmkPvldahL00npW+daeVvpC6k77V4o69AIVQvT1Iojx/a7O+vjKDvbeB0r3MT9G+HkWzvej1or7D6qO9NYJVvjpZa73WOa6+75scPhliZr4TCYi++yMuvqXRi77gX6U+TvdIPIC2LLw3NS0+1PGAvh8J/r0D04S+rLzivUidFb4Wh7m5OBfGvae1h70QJr08CZLsvghGYr7H9Su+dqbjvdQehT2ppgm+BmyGvujtE74BRKK+D2Nyvns1Nb58I6m9GXSkvvAHoD7/f+M8QfDePf7Szzziktg9sV/9vs1aQ76uPZC9q1gRvR/NUb2QyQE/FZwPvrlvO76HXyW+x1a+vmTMF7/oHjK9pUMyvjBJiT545rc78N1LPolxtz0qNkU8Odoxvop1Kr5GS3w8mzFBvjftX746Y1O7JDHUvQ5EMb7AVVC+MOiDvlUlg76VL56+Est6vg7BQL7o2ZS9dKMIvUe3xz4X+ce9D77Cvvj6EL7GtK++5zV+PUpuAj4aCWu+m3VnvmPAmTyq2/W82/aYvvK+Pz0U1CO+pESXvqvHA7127i2+qMqWvur43L4E/8S+oqQQPlDqMb7tSiG+UUGbPRv2jj2CpGG+19umvhs9IDwaJk6+06mqvTBd576UeqC8algdv2MkTb44SBE/9l2LvAyHGL0Q2zs+H3+ivoJDHD4loAY66IeUvDPip72c7aS8OINzvtCEe76mtz2+vHqRPgSiO74XhoO+KBlSPcH/Wz1OoDa9e1RfviQrYL54udu9/tGiPRau7b065Bq+EL5xPss9nL43HnC+KMyJPujmh75MlEa+COL1PT48rb3DkXC+0pXIvnsjJr4yQZO+bbgSvao2nj0=",
            "dtype": "f4"
           }
          },
          {
           "axis": {
            "matches": true
           },
           "label": "4",
           "values": {
            "bdata": "soscv2VdG78F2Pe+JaS+vaWc7776Rl++/UYPv3Fv8r5dlyi94TC9vmYlHb+6afq+C09ZvnfhYr78G3G+WNoAvgoJd75FadC+GIU3vy/y/7v8ocm+Q5/dPRq6I74QcZi+Rzk/v1P+JL8l+ey9/z2hvmepFb6YXUW/ILn6vjWwyb4cZbC+vKbrvg7q/7wh6ge/e4T2vpwSDL6tsw6/E/87vqIty74dDZw9Nh4bv1h0Ab7zOOO+sqNEv9BNFL4Y4LW+41GGvkeTsb7PFLm+QJAmv3SHML7BmjY+1c2jvoxY3r4jPSW/e/IKv+3Fhb7FUs++cADnvtSE2b7iRcC+PUnmvvQz275m0ia+F+UPv2puNr7ClRO/XaHsvpsuiL7GXpq+b5FFvm3azz1vkf687FrBvntXmb5wnqI9gVQlv+hpHr/1QqK+cSnSPZ3x+r6FTpK+3gjWvp1xe76xH3G+44MMv1XWZb5JxxS/2YGwviO9wr47GYO+LUPzvq7qAr+CQkK+bjBLvsad976vNoO+3iIDv5cdJr8aS729HFcYv2TSCr48c+e+YwWDvuDubr2/3ga/kehjvpLB2L4dAKK+xJpTvrvH0r5rWa6+kJUwvhQsrL4Cpq2+n/8hv4AaTr7jE6s995D2vhlW+76JXw6/3veDvnmvJT2PA7q+bfewvkGG9r7OmO2+yDXfvnWpPr+3yiG+bOC7vrgdQb/4fqW+waoCv6yIQL5Qkje/zbfivkRv8b50tRu/iCgbvzlwCL/4D22/OtygurwN/74MAFK99Xzavii0G7/Z1Fe+wlLTvv0blL6fc+q9iaVsvkIssb4UjCq/VsgBvmGeEb/KXUS+YYNJvv5m37652fW+WsQZPrcY/741KMm9xa+1vgLYrb00KKG+T7/lvhSUyb4MJMy+2IATvwgF4b6zjLS+SYAXv/iqFr9M/yK/1QMmv/ljzb6TQRe/mvo+vZd+OL9k9fK+d3l6vn4sJr8J2Bs9roPivsRV573BqSG/Jiv3vs6Jy74oXG++HM5+vrl9Eb+O6iu/FqdKvtI+lb5UsSW/JgfvvthxZ75BlpW+CGv1vvgAwb6kAVO/73ILvvm56r3YdDq/0QUyv6gU/b4rQw+/sKmUvs9vrL46gRS/7vppvjbMo75FdvG+SMQev0Lzhb7/ra6+qCfavphcvL6F576+aQkjPc2qOL+AhPm+rrTzvseYtb3MBgW/XWcSv0vnCr/xiHG+AAl8PmQVsL7/Lii/SjeQvvz1Lr9l4Wu+YEruvlsvTb8g2Rk97G4nvuVI4r5tKOW+NisAvxvKkL6BMj+/xI3svugba76srEK9ZSmZvhYROj1D8E2/fAaAvte5ib68YFq+zbvPvk3jBz1GAv88Wa+MvXAnvb4kU+q9X9y7vkpSwbw=",
            "dtype": "f4"
           }
          }
         ],
         "hovertemplate": "color=entertainment<br>%{xaxis.title.text}=%{x}<br>%{yaxis.title.text}=%{y}<extra></extra>",
         "legendgroup": "entertainment",
         "marker": {
          "color": "#FFA15A",
          "symbol": "circle"
         },
         "name": "entertainment",
         "showlegend": true,
         "type": "splom"
        }
       ],
       "layout": {
        "dragmode": "select",
        "legend": {
         "title": {
          "text": "color"
         },
         "tracegroupgap": 0
        },
        "template": {
         "data": {
          "bar": [
           {
            "error_x": {
             "color": "#2a3f5f"
            },
            "error_y": {
             "color": "#2a3f5f"
            },
            "marker": {
             "line": {
              "color": "#E5ECF6",
              "width": 0.5
             },
             "pattern": {
              "fillmode": "overlay",
              "size": 10,
              "solidity": 0.2
             }
            },
            "type": "bar"
           }
          ],
          "barpolar": [
           {
            "marker": {
             "line": {
              "color": "#E5ECF6",
              "width": 0.5
             },
             "pattern": {
              "fillmode": "overlay",
              "size": 10,
              "solidity": 0.2
             }
            },
            "type": "barpolar"
           }
          ],
          "carpet": [
           {
            "aaxis": {
             "endlinecolor": "#2a3f5f",
             "gridcolor": "white",
             "linecolor": "white",
             "minorgridcolor": "white",
             "startlinecolor": "#2a3f5f"
            },
            "baxis": {
             "endlinecolor": "#2a3f5f",
             "gridcolor": "white",
             "linecolor": "white",
             "minorgridcolor": "white",
             "startlinecolor": "#2a3f5f"
            },
            "type": "carpet"
           }
          ],
          "choropleth": [
           {
            "colorbar": {
             "outlinewidth": 0,
             "ticks": ""
            },
            "type": "choropleth"
           }
          ],
          "contour": [
           {
            "colorbar": {
             "outlinewidth": 0,
             "ticks": ""
            },
            "colorscale": [
             [
              0,
              "#0d0887"
             ],
             [
              0.1111111111111111,
              "#46039f"
             ],
             [
              0.2222222222222222,
              "#7201a8"
             ],
             [
              0.3333333333333333,
              "#9c179e"
             ],
             [
              0.4444444444444444,
              "#bd3786"
             ],
             [
              0.5555555555555556,
              "#d8576b"
             ],
             [
              0.6666666666666666,
              "#ed7953"
             ],
             [
              0.7777777777777778,
              "#fb9f3a"
             ],
             [
              0.8888888888888888,
              "#fdca26"
             ],
             [
              1,
              "#f0f921"
             ]
            ],
            "type": "contour"
           }
          ],
          "contourcarpet": [
           {
            "colorbar": {
             "outlinewidth": 0,
             "ticks": ""
            },
            "type": "contourcarpet"
           }
          ],
          "heatmap": [
           {
            "colorbar": {
             "outlinewidth": 0,
             "ticks": ""
            },
            "colorscale": [
             [
              0,
              "#0d0887"
             ],
             [
              0.1111111111111111,
              "#46039f"
             ],
             [
              0.2222222222222222,
              "#7201a8"
             ],
             [
              0.3333333333333333,
              "#9c179e"
             ],
             [
              0.4444444444444444,
              "#bd3786"
             ],
             [
              0.5555555555555556,
              "#d8576b"
             ],
             [
              0.6666666666666666,
              "#ed7953"
             ],
             [
              0.7777777777777778,
              "#fb9f3a"
             ],
             [
              0.8888888888888888,
              "#fdca26"
             ],
             [
              1,
              "#f0f921"
             ]
            ],
            "type": "heatmap"
           }
          ],
          "histogram": [
           {
            "marker": {
             "pattern": {
              "fillmode": "overlay",
              "size": 10,
              "solidity": 0.2
             }
            },
            "type": "histogram"
           }
          ],
          "histogram2d": [
           {
            "colorbar": {
             "outlinewidth": 0,
             "ticks": ""
            },
            "colorscale": [
             [
              0,
              "#0d0887"
             ],
             [
              0.1111111111111111,
              "#46039f"
             ],
             [
              0.2222222222222222,
              "#7201a8"
             ],
             [
              0.3333333333333333,
              "#9c179e"
             ],
             [
              0.4444444444444444,
              "#bd3786"
             ],
             [
              0.5555555555555556,
              "#d8576b"
             ],
             [
              0.6666666666666666,
              "#ed7953"
             ],
             [
              0.7777777777777778,
              "#fb9f3a"
             ],
             [
              0.8888888888888888,
              "#fdca26"
             ],
             [
              1,
              "#f0f921"
             ]
            ],
            "type": "histogram2d"
           }
          ],
          "histogram2dcontour": [
           {
            "colorbar": {
             "outlinewidth": 0,
             "ticks": ""
            },
            "colorscale": [
             [
              0,
              "#0d0887"
             ],
             [
              0.1111111111111111,
              "#46039f"
             ],
             [
              0.2222222222222222,
              "#7201a8"
             ],
             [
              0.3333333333333333,
              "#9c179e"
             ],
             [
              0.4444444444444444,
              "#bd3786"
             ],
             [
              0.5555555555555556,
              "#d8576b"
             ],
             [
              0.6666666666666666,
              "#ed7953"
             ],
             [
              0.7777777777777778,
              "#fb9f3a"
             ],
             [
              0.8888888888888888,
              "#fdca26"
             ],
             [
              1,
              "#f0f921"
             ]
            ],
            "type": "histogram2dcontour"
           }
          ],
          "mesh3d": [
           {
            "colorbar": {
             "outlinewidth": 0,
             "ticks": ""
            },
            "type": "mesh3d"
           }
          ],
          "parcoords": [
           {
            "line": {
             "colorbar": {
              "outlinewidth": 0,
              "ticks": ""
             }
            },
            "type": "parcoords"
           }
          ],
          "pie": [
           {
            "automargin": true,
            "type": "pie"
           }
          ],
          "scatter": [
           {
            "fillpattern": {
             "fillmode": "overlay",
             "size": 10,
             "solidity": 0.2
            },
            "type": "scatter"
           }
          ],
          "scatter3d": [
           {
            "line": {
             "colorbar": {
              "outlinewidth": 0,
              "ticks": ""
             }
            },
            "marker": {
             "colorbar": {
              "outlinewidth": 0,
              "ticks": ""
             }
            },
            "type": "scatter3d"
           }
          ],
          "scattercarpet": [
           {
            "marker": {
             "colorbar": {
              "outlinewidth": 0,
              "ticks": ""
             }
            },
            "type": "scattercarpet"
           }
          ],
          "scattergeo": [
           {
            "marker": {
             "colorbar": {
              "outlinewidth": 0,
              "ticks": ""
             }
            },
            "type": "scattergeo"
           }
          ],
          "scattergl": [
           {
            "marker": {
             "colorbar": {
              "outlinewidth": 0,
              "ticks": ""
             }
            },
            "type": "scattergl"
           }
          ],
          "scattermap": [
           {
            "marker": {
             "colorbar": {
              "outlinewidth": 0,
              "ticks": ""
             }
            },
            "type": "scattermap"
           }
          ],
          "scattermapbox": [
           {
            "marker": {
             "colorbar": {
              "outlinewidth": 0,
              "ticks": ""
             }
            },
            "type": "scattermapbox"
           }
          ],
          "scatterpolar": [
           {
            "marker": {
             "colorbar": {
              "outlinewidth": 0,
              "ticks": ""
             }
            },
            "type": "scatterpolar"
           }
          ],
          "scatterpolargl": [
           {
            "marker": {
             "colorbar": {
              "outlinewidth": 0,
              "ticks": ""
             }
            },
            "type": "scatterpolargl"
           }
          ],
          "scatterternary": [
           {
            "marker": {
             "colorbar": {
              "outlinewidth": 0,
              "ticks": ""
             }
            },
            "type": "scatterternary"
           }
          ],
          "surface": [
           {
            "colorbar": {
             "outlinewidth": 0,
             "ticks": ""
            },
            "colorscale": [
             [
              0,
              "#0d0887"
             ],
             [
              0.1111111111111111,
              "#46039f"
             ],
             [
              0.2222222222222222,
              "#7201a8"
             ],
             [
              0.3333333333333333,
              "#9c179e"
             ],
             [
              0.4444444444444444,
              "#bd3786"
             ],
             [
              0.5555555555555556,
              "#d8576b"
             ],
             [
              0.6666666666666666,
              "#ed7953"
             ],
             [
              0.7777777777777778,
              "#fb9f3a"
             ],
             [
              0.8888888888888888,
              "#fdca26"
             ],
             [
              1,
              "#f0f921"
             ]
            ],
            "type": "surface"
           }
          ],
          "table": [
           {
            "cells": {
             "fill": {
              "color": "#EBF0F8"
             },
             "line": {
              "color": "white"
             }
            },
            "header": {
             "fill": {
              "color": "#C8D4E3"
             },
             "line": {
              "color": "white"
             }
            },
            "type": "table"
           }
          ]
         },
         "layout": {
          "annotationdefaults": {
           "arrowcolor": "#2a3f5f",
           "arrowhead": 0,
           "arrowwidth": 1
          },
          "autotypenumbers": "strict",
          "coloraxis": {
           "colorbar": {
            "outlinewidth": 0,
            "ticks": ""
           }
          },
          "colorscale": {
           "diverging": [
            [
             0,
             "#8e0152"
            ],
            [
             0.1,
             "#c51b7d"
            ],
            [
             0.2,
             "#de77ae"
            ],
            [
             0.3,
             "#f1b6da"
            ],
            [
             0.4,
             "#fde0ef"
            ],
            [
             0.5,
             "#f7f7f7"
            ],
            [
             0.6,
             "#e6f5d0"
            ],
            [
             0.7,
             "#b8e186"
            ],
            [
             0.8,
             "#7fbc41"
            ],
            [
             0.9,
             "#4d9221"
            ],
            [
             1,
             "#276419"
            ]
           ],
           "sequential": [
            [
             0,
             "#0d0887"
            ],
            [
             0.1111111111111111,
             "#46039f"
            ],
            [
             0.2222222222222222,
             "#7201a8"
            ],
            [
             0.3333333333333333,
             "#9c179e"
            ],
            [
             0.4444444444444444,
             "#bd3786"
            ],
            [
             0.5555555555555556,
             "#d8576b"
            ],
            [
             0.6666666666666666,
             "#ed7953"
            ],
            [
             0.7777777777777778,
             "#fb9f3a"
            ],
            [
             0.8888888888888888,
             "#fdca26"
            ],
            [
             1,
             "#f0f921"
            ]
           ],
           "sequentialminus": [
            [
             0,
             "#0d0887"
            ],
            [
             0.1111111111111111,
             "#46039f"
            ],
            [
             0.2222222222222222,
             "#7201a8"
            ],
            [
             0.3333333333333333,
             "#9c179e"
            ],
            [
             0.4444444444444444,
             "#bd3786"
            ],
            [
             0.5555555555555556,
             "#d8576b"
            ],
            [
             0.6666666666666666,
             "#ed7953"
            ],
            [
             0.7777777777777778,
             "#fb9f3a"
            ],
            [
             0.8888888888888888,
             "#fdca26"
            ],
            [
             1,
             "#f0f921"
            ]
           ]
          },
          "colorway": [
           "#636efa",
           "#EF553B",
           "#00cc96",
           "#ab63fa",
           "#FFA15A",
           "#19d3f3",
           "#FF6692",
           "#B6E880",
           "#FF97FF",
           "#FECB52"
          ],
          "font": {
           "color": "#2a3f5f"
          },
          "geo": {
           "bgcolor": "white",
           "lakecolor": "white",
           "landcolor": "#E5ECF6",
           "showlakes": true,
           "showland": true,
           "subunitcolor": "white"
          },
          "hoverlabel": {
           "align": "left"
          },
          "hovermode": "closest",
          "mapbox": {
           "style": "light"
          },
          "paper_bgcolor": "white",
          "plot_bgcolor": "#E5ECF6",
          "polar": {
           "angularaxis": {
            "gridcolor": "white",
            "linecolor": "white",
            "ticks": ""
           },
           "bgcolor": "#E5ECF6",
           "radialaxis": {
            "gridcolor": "white",
            "linecolor": "white",
            "ticks": ""
           }
          },
          "scene": {
           "xaxis": {
            "backgroundcolor": "#E5ECF6",
            "gridcolor": "white",
            "gridwidth": 2,
            "linecolor": "white",
            "showbackground": true,
            "ticks": "",
            "zerolinecolor": "white"
           },
           "yaxis": {
            "backgroundcolor": "#E5ECF6",
            "gridcolor": "white",
            "gridwidth": 2,
            "linecolor": "white",
            "showbackground": true,
            "ticks": "",
            "zerolinecolor": "white"
           },
           "zaxis": {
            "backgroundcolor": "#E5ECF6",
            "gridcolor": "white",
            "gridwidth": 2,
            "linecolor": "white",
            "showbackground": true,
            "ticks": "",
            "zerolinecolor": "white"
           }
          },
          "shapedefaults": {
           "line": {
            "color": "#2a3f5f"
           }
          },
          "ternary": {
           "aaxis": {
            "gridcolor": "white",
            "linecolor": "white",
            "ticks": ""
           },
           "baxis": {
            "gridcolor": "white",
            "linecolor": "white",
            "ticks": ""
           },
           "bgcolor": "#E5ECF6",
           "caxis": {
            "gridcolor": "white",
            "linecolor": "white",
            "ticks": ""
           }
          },
          "title": {
           "x": 0.05
          },
          "xaxis": {
           "automargin": true,
           "gridcolor": "white",
           "linecolor": "white",
           "ticks": "",
           "title": {
            "standoff": 15
           },
           "zerolinecolor": "white",
           "zerolinewidth": 2
          },
          "yaxis": {
           "automargin": true,
           "gridcolor": "white",
           "linecolor": "white",
           "ticks": "",
           "title": {
            "standoff": 15
           },
           "zerolinecolor": "white",
           "zerolinewidth": 2
          }
         }
        },
        "title": {
         "text": "SVD Components of Document Vectors"
        }
       }
      }
     },
     "metadata": {},
     "output_type": "display_data"
    }
   ],
   "source": [
    "fig = px.scatter_matrix(\n",
    "    document_topic_matrix,\n",
    "    dimensions=[0, 1, 2, 3, 4],\n",
    "    color=df['Category'],\n",
    "    labels=dict.fromkeys(range(5), 'Component'),\n",
    "    title='SVD Components of Document Vectors'\n",
    ")\n",
    "fig.update_traces(diagonal_visible=False)\n",
    "fig.show()"
   ]
  },
  {
   "cell_type": "markdown",
   "id": "0cfb15a3",
   "metadata": {},
   "source": [
    "## Training Unsupervised Learning Models"
   ]
  },
  {
   "cell_type": "markdown",
   "id": "5ee27364",
   "metadata": {},
   "source": [
    "Now, I will train unsupervised learning models on the document vectors. This includes clustering algorithms like K-Means to identify patterns and group similar documents together.\n"
   ]
  },
  {
   "cell_type": "code",
   "execution_count": 25,
   "id": "9a95720d",
   "metadata": {},
   "outputs": [],
   "source": [
    "\n",
    "X_train, X_test, y_train, y_test = train_test_split(\n",
    "    np.vstack(df['doc_vector'].values), df['Category'], test_size=CONFIG['DEFAULT_TEST_SIZE'], random_state=CONFIG['RANDOM_STATE']\n",
    ")\n"
   ]
  },
  {
   "cell_type": "markdown",
   "id": "c8b101c5",
   "metadata": {},
   "source": [
    "\n",
    "Here I employed TruncatedSVD to reduce the dimensionality of our feature space to five components. The SVD model was first fitted on the training data to learn the optimal lower-dimensional representation and then used to consistently transform both the training and test datasets. This approach helps capture the most important patterns in the data while reducing noise and computational cost. By applying dimensionality reduction, we aim to improve model performance and mitigate potential overfitting."
   ]
  },
  {
   "cell_type": "code",
   "execution_count": 26,
   "id": "cd3ec729",
   "metadata": {},
   "outputs": [],
   "source": [
    "svd = TruncatedSVD(n_components=5, random_state=CONFIG['RANDOM_STATE'])\n",
    "X_train_svd = svd.fit_transform(X_train)\n",
    "X_test_svd = svd.transform(X_test)\n"
   ]
  },
  {
   "cell_type": "markdown",
   "id": "95221335",
   "metadata": {},
   "source": [
    "Next, I applied KMeans clustering on the reduced data to explore inherent groupings. I initialized the KMeans model with the number of clusters equal to the number of unique categories in our dataset, ensuring alignment with known class distributions. The model was fitted on the transformed training data (X_train_svd) to learn cluster centroids, and then used to predict cluster assignments for both the training and test sets. This clustering step allows us to investigate how well the unsupervised groupings correspond to the original categories and potentially enhances feature engineering."
   ]
  },
  {
   "cell_type": "code",
   "execution_count": 27,
   "id": "c89aef86",
   "metadata": {},
   "outputs": [],
   "source": [
    "kmeans = KMeans(n_clusters=df['Category'].nunique(), random_state=CONFIG['RANDOM_STATE'])\n",
    "train_clusters = kmeans.fit_predict(X_train_svd)\n",
    "test_clusters = kmeans.predict(X_test_svd)\n"
   ]
  },
  {
   "cell_type": "markdown",
   "id": "f8882d78",
   "metadata": {},
   "source": [
    "Unsupervised learning models grouped the clusters, however, it is not yet known to us what these clusters represent in terms of the original categories. To interpret the clusters, we need to map them back to the original labels.\n",
    "\n",
    "\n",
    "To map the discovered clusters back to the actual categories, we assigned each cluster the most frequent true label (mode) among the training samples within that cluster. This was done by iterating over all clusters and building a cluster_to_label dictionary linking clusters to their majority labels. Using this mapping, we predicted the final labels for both the training and test data based on their cluster assignments. This simple post-clustering labeling strategy enables us to evaluate how well the unsupervised clustering aligns with the original supervised targets.\n",
    "\n",
    "### Mapping Clusters to Labels\n",
    "\n",
    "For mapping the clusters to labels, I used a simple approach where I get the most common label in each cluster from the training data. This is done by iterating over all clusters and building a dictionary that maps each cluster to its majority label. The majority label is determined by counting the occurrences of each label in the cluster and selecting the one with the highest count.\n",
    "\n",
    "This is a simple way to assign labels to clusters based on the training data It assumes that the clusters are well-separated and that the majority label is representative of the cluster In practice, you might want to use a more sophisticated method to assign labels to clusters For example, you could use a supervised learning algorithm to predict the labels of the clusters or use a more complex clustering algorithm that takes the labels into account"
   ]
  },
  {
   "cell_type": "code",
   "execution_count": null,
   "id": "f5dfb341",
   "metadata": {},
   "outputs": [],
   "source": [
    "def map_clusters_to_labels(tc, yt):\n",
    "    \"\"\"\n",
    "    Map clusters to labels based on the majority label in each cluster.\n",
    "    \n",
    "    Args:\n",
    "        tc (np.ndarray): Array of cluster assignments for training data.\n",
    "        yt (pd.Series): Series of true labels for training data.\n",
    "\n",
    "    Returns:\n",
    "        dict: Dictionary mapping clusters to their majority labels.\n",
    "    \"\"\"\n",
    "\n",
    "    cluster_to_label = {}\n",
    "    for cluster in np.unique(tc):\n",
    "        mask = tc == cluster # Create a mask for the current cluster\n",
    "        majority_label = pd.Series(yt[mask]).mode()[0] # Get the most common label in the cluster\n",
    "\n",
    "        cluster_to_label[cluster] = majority_label\n",
    "    return cluster_to_label\n"
   ]
  },
  {
   "cell_type": "code",
   "execution_count": null,
   "id": "ca5a1b0c",
   "metadata": {},
   "outputs": [],
   "source": [
    "cluster_to_label = map_clusters_to_labels(train_clusters, y_train)\n",
    "# Predict final labels\n",
    "y_train_pred = np.array([cluster_to_label[c] for c in train_clusters])\n",
    "y_test_pred = np.array([cluster_to_label[c] for c in test_clusters])\n",
    "\n",
    "print(\"Train accuracy:\", accuracy_score(y_train, y_train_pred))\n",
    "print(\"Test accuracy:\", accuracy_score(y_test, y_test_pred))"
   ]
  },
  {
   "cell_type": "markdown",
   "id": "76169587",
   "metadata": {},
   "source": [
    "## Confusion Matrix\n",
    "\n",
    "Finally, I will evaluate the performance of the unsupervised learning models using a confusion matrix. The confusion matrix will show the true labels vs the predicted labels for the test set. This will help us understand how well the unsupervised learning models performed and how they relate to the original categories."
   ]
  },
  {
   "cell_type": "code",
   "execution_count": null,
   "id": "6412d8ee",
   "metadata": {},
   "outputs": [
    {
     "name": "stdout",
     "output_type": "stream",
     "text": [
      "Train accuracy: 0.7517361111111112\n",
      "Test accuracy: 0.7673611111111112\n"
     ]
    },
    {
     "data": {
      "application/vnd.plotly.v1+json": {
       "config": {
        "plotlyServerURL": "https://plot.ly"
       },
       "data": [
        {
         "coloraxis": "coloraxis",
         "hovertemplate": "Predicted Category: %{x}<br>True Category: %{y}<br>Count: %{z}<extra></extra>",
         "name": "0",
         "texttemplate": "%{z}",
         "type": "heatmap",
         "x": [
          "business",
          "entertainment",
          "politics",
          "sport",
          "tech"
         ],
         "xaxis": "x",
         "y": [
          "business",
          "entertainment",
          "politics",
          "sport",
          "tech"
         ],
         "yaxis": "y",
         "z": {
          "bdata": "RQANAAACKQAAAAIAMAAAAAACPwAoAwQBAA==",
          "dtype": "i1",
          "shape": "5, 5"
         }
        }
       ],
       "layout": {
        "coloraxis": {
         "colorbar": {
          "title": {
           "text": "Count"
          }
         },
         "colorscale": [
          [
           0,
           "rgb(255,255,229)"
          ],
          [
           0.125,
           "rgb(247,252,185)"
          ],
          [
           0.25,
           "rgb(217,240,163)"
          ],
          [
           0.375,
           "rgb(173,221,142)"
          ],
          [
           0.5,
           "rgb(120,198,121)"
          ],
          [
           0.625,
           "rgb(65,171,93)"
          ],
          [
           0.75,
           "rgb(35,132,67)"
          ],
          [
           0.875,
           "rgb(0,104,55)"
          ],
          [
           1,
           "rgb(0,69,41)"
          ]
         ]
        },
        "height": 600,
        "template": {
         "data": {
          "bar": [
           {
            "error_x": {
             "color": "#2a3f5f"
            },
            "error_y": {
             "color": "#2a3f5f"
            },
            "marker": {
             "line": {
              "color": "#E5ECF6",
              "width": 0.5
             },
             "pattern": {
              "fillmode": "overlay",
              "size": 10,
              "solidity": 0.2
             }
            },
            "type": "bar"
           }
          ],
          "barpolar": [
           {
            "marker": {
             "line": {
              "color": "#E5ECF6",
              "width": 0.5
             },
             "pattern": {
              "fillmode": "overlay",
              "size": 10,
              "solidity": 0.2
             }
            },
            "type": "barpolar"
           }
          ],
          "carpet": [
           {
            "aaxis": {
             "endlinecolor": "#2a3f5f",
             "gridcolor": "white",
             "linecolor": "white",
             "minorgridcolor": "white",
             "startlinecolor": "#2a3f5f"
            },
            "baxis": {
             "endlinecolor": "#2a3f5f",
             "gridcolor": "white",
             "linecolor": "white",
             "minorgridcolor": "white",
             "startlinecolor": "#2a3f5f"
            },
            "type": "carpet"
           }
          ],
          "choropleth": [
           {
            "colorbar": {
             "outlinewidth": 0,
             "ticks": ""
            },
            "type": "choropleth"
           }
          ],
          "contour": [
           {
            "colorbar": {
             "outlinewidth": 0,
             "ticks": ""
            },
            "colorscale": [
             [
              0,
              "#0d0887"
             ],
             [
              0.1111111111111111,
              "#46039f"
             ],
             [
              0.2222222222222222,
              "#7201a8"
             ],
             [
              0.3333333333333333,
              "#9c179e"
             ],
             [
              0.4444444444444444,
              "#bd3786"
             ],
             [
              0.5555555555555556,
              "#d8576b"
             ],
             [
              0.6666666666666666,
              "#ed7953"
             ],
             [
              0.7777777777777778,
              "#fb9f3a"
             ],
             [
              0.8888888888888888,
              "#fdca26"
             ],
             [
              1,
              "#f0f921"
             ]
            ],
            "type": "contour"
           }
          ],
          "contourcarpet": [
           {
            "colorbar": {
             "outlinewidth": 0,
             "ticks": ""
            },
            "type": "contourcarpet"
           }
          ],
          "heatmap": [
           {
            "colorbar": {
             "outlinewidth": 0,
             "ticks": ""
            },
            "colorscale": [
             [
              0,
              "#0d0887"
             ],
             [
              0.1111111111111111,
              "#46039f"
             ],
             [
              0.2222222222222222,
              "#7201a8"
             ],
             [
              0.3333333333333333,
              "#9c179e"
             ],
             [
              0.4444444444444444,
              "#bd3786"
             ],
             [
              0.5555555555555556,
              "#d8576b"
             ],
             [
              0.6666666666666666,
              "#ed7953"
             ],
             [
              0.7777777777777778,
              "#fb9f3a"
             ],
             [
              0.8888888888888888,
              "#fdca26"
             ],
             [
              1,
              "#f0f921"
             ]
            ],
            "type": "heatmap"
           }
          ],
          "histogram": [
           {
            "marker": {
             "pattern": {
              "fillmode": "overlay",
              "size": 10,
              "solidity": 0.2
             }
            },
            "type": "histogram"
           }
          ],
          "histogram2d": [
           {
            "colorbar": {
             "outlinewidth": 0,
             "ticks": ""
            },
            "colorscale": [
             [
              0,
              "#0d0887"
             ],
             [
              0.1111111111111111,
              "#46039f"
             ],
             [
              0.2222222222222222,
              "#7201a8"
             ],
             [
              0.3333333333333333,
              "#9c179e"
             ],
             [
              0.4444444444444444,
              "#bd3786"
             ],
             [
              0.5555555555555556,
              "#d8576b"
             ],
             [
              0.6666666666666666,
              "#ed7953"
             ],
             [
              0.7777777777777778,
              "#fb9f3a"
             ],
             [
              0.8888888888888888,
              "#fdca26"
             ],
             [
              1,
              "#f0f921"
             ]
            ],
            "type": "histogram2d"
           }
          ],
          "histogram2dcontour": [
           {
            "colorbar": {
             "outlinewidth": 0,
             "ticks": ""
            },
            "colorscale": [
             [
              0,
              "#0d0887"
             ],
             [
              0.1111111111111111,
              "#46039f"
             ],
             [
              0.2222222222222222,
              "#7201a8"
             ],
             [
              0.3333333333333333,
              "#9c179e"
             ],
             [
              0.4444444444444444,
              "#bd3786"
             ],
             [
              0.5555555555555556,
              "#d8576b"
             ],
             [
              0.6666666666666666,
              "#ed7953"
             ],
             [
              0.7777777777777778,
              "#fb9f3a"
             ],
             [
              0.8888888888888888,
              "#fdca26"
             ],
             [
              1,
              "#f0f921"
             ]
            ],
            "type": "histogram2dcontour"
           }
          ],
          "mesh3d": [
           {
            "colorbar": {
             "outlinewidth": 0,
             "ticks": ""
            },
            "type": "mesh3d"
           }
          ],
          "parcoords": [
           {
            "line": {
             "colorbar": {
              "outlinewidth": 0,
              "ticks": ""
             }
            },
            "type": "parcoords"
           }
          ],
          "pie": [
           {
            "automargin": true,
            "type": "pie"
           }
          ],
          "scatter": [
           {
            "fillpattern": {
             "fillmode": "overlay",
             "size": 10,
             "solidity": 0.2
            },
            "type": "scatter"
           }
          ],
          "scatter3d": [
           {
            "line": {
             "colorbar": {
              "outlinewidth": 0,
              "ticks": ""
             }
            },
            "marker": {
             "colorbar": {
              "outlinewidth": 0,
              "ticks": ""
             }
            },
            "type": "scatter3d"
           }
          ],
          "scattercarpet": [
           {
            "marker": {
             "colorbar": {
              "outlinewidth": 0,
              "ticks": ""
             }
            },
            "type": "scattercarpet"
           }
          ],
          "scattergeo": [
           {
            "marker": {
             "colorbar": {
              "outlinewidth": 0,
              "ticks": ""
             }
            },
            "type": "scattergeo"
           }
          ],
          "scattergl": [
           {
            "marker": {
             "colorbar": {
              "outlinewidth": 0,
              "ticks": ""
             }
            },
            "type": "scattergl"
           }
          ],
          "scattermap": [
           {
            "marker": {
             "colorbar": {
              "outlinewidth": 0,
              "ticks": ""
             }
            },
            "type": "scattermap"
           }
          ],
          "scattermapbox": [
           {
            "marker": {
             "colorbar": {
              "outlinewidth": 0,
              "ticks": ""
             }
            },
            "type": "scattermapbox"
           }
          ],
          "scatterpolar": [
           {
            "marker": {
             "colorbar": {
              "outlinewidth": 0,
              "ticks": ""
             }
            },
            "type": "scatterpolar"
           }
          ],
          "scatterpolargl": [
           {
            "marker": {
             "colorbar": {
              "outlinewidth": 0,
              "ticks": ""
             }
            },
            "type": "scatterpolargl"
           }
          ],
          "scatterternary": [
           {
            "marker": {
             "colorbar": {
              "outlinewidth": 0,
              "ticks": ""
             }
            },
            "type": "scatterternary"
           }
          ],
          "surface": [
           {
            "colorbar": {
             "outlinewidth": 0,
             "ticks": ""
            },
            "colorscale": [
             [
              0,
              "#0d0887"
             ],
             [
              0.1111111111111111,
              "#46039f"
             ],
             [
              0.2222222222222222,
              "#7201a8"
             ],
             [
              0.3333333333333333,
              "#9c179e"
             ],
             [
              0.4444444444444444,
              "#bd3786"
             ],
             [
              0.5555555555555556,
              "#d8576b"
             ],
             [
              0.6666666666666666,
              "#ed7953"
             ],
             [
              0.7777777777777778,
              "#fb9f3a"
             ],
             [
              0.8888888888888888,
              "#fdca26"
             ],
             [
              1,
              "#f0f921"
             ]
            ],
            "type": "surface"
           }
          ],
          "table": [
           {
            "cells": {
             "fill": {
              "color": "#EBF0F8"
             },
             "line": {
              "color": "white"
             }
            },
            "header": {
             "fill": {
              "color": "#C8D4E3"
             },
             "line": {
              "color": "white"
             }
            },
            "type": "table"
           }
          ]
         },
         "layout": {
          "annotationdefaults": {
           "arrowcolor": "#2a3f5f",
           "arrowhead": 0,
           "arrowwidth": 1
          },
          "autotypenumbers": "strict",
          "coloraxis": {
           "colorbar": {
            "outlinewidth": 0,
            "ticks": ""
           }
          },
          "colorscale": {
           "diverging": [
            [
             0,
             "#8e0152"
            ],
            [
             0.1,
             "#c51b7d"
            ],
            [
             0.2,
             "#de77ae"
            ],
            [
             0.3,
             "#f1b6da"
            ],
            [
             0.4,
             "#fde0ef"
            ],
            [
             0.5,
             "#f7f7f7"
            ],
            [
             0.6,
             "#e6f5d0"
            ],
            [
             0.7,
             "#b8e186"
            ],
            [
             0.8,
             "#7fbc41"
            ],
            [
             0.9,
             "#4d9221"
            ],
            [
             1,
             "#276419"
            ]
           ],
           "sequential": [
            [
             0,
             "#0d0887"
            ],
            [
             0.1111111111111111,
             "#46039f"
            ],
            [
             0.2222222222222222,
             "#7201a8"
            ],
            [
             0.3333333333333333,
             "#9c179e"
            ],
            [
             0.4444444444444444,
             "#bd3786"
            ],
            [
             0.5555555555555556,
             "#d8576b"
            ],
            [
             0.6666666666666666,
             "#ed7953"
            ],
            [
             0.7777777777777778,
             "#fb9f3a"
            ],
            [
             0.8888888888888888,
             "#fdca26"
            ],
            [
             1,
             "#f0f921"
            ]
           ],
           "sequentialminus": [
            [
             0,
             "#0d0887"
            ],
            [
             0.1111111111111111,
             "#46039f"
            ],
            [
             0.2222222222222222,
             "#7201a8"
            ],
            [
             0.3333333333333333,
             "#9c179e"
            ],
            [
             0.4444444444444444,
             "#bd3786"
            ],
            [
             0.5555555555555556,
             "#d8576b"
            ],
            [
             0.6666666666666666,
             "#ed7953"
            ],
            [
             0.7777777777777778,
             "#fb9f3a"
            ],
            [
             0.8888888888888888,
             "#fdca26"
            ],
            [
             1,
             "#f0f921"
            ]
           ]
          },
          "colorway": [
           "#636efa",
           "#EF553B",
           "#00cc96",
           "#ab63fa",
           "#FFA15A",
           "#19d3f3",
           "#FF6692",
           "#B6E880",
           "#FF97FF",
           "#FECB52"
          ],
          "font": {
           "color": "#2a3f5f"
          },
          "geo": {
           "bgcolor": "white",
           "lakecolor": "white",
           "landcolor": "#E5ECF6",
           "showlakes": true,
           "showland": true,
           "subunitcolor": "white"
          },
          "hoverlabel": {
           "align": "left"
          },
          "hovermode": "closest",
          "mapbox": {
           "style": "light"
          },
          "paper_bgcolor": "white",
          "plot_bgcolor": "#E5ECF6",
          "polar": {
           "angularaxis": {
            "gridcolor": "white",
            "linecolor": "white",
            "ticks": ""
           },
           "bgcolor": "#E5ECF6",
           "radialaxis": {
            "gridcolor": "white",
            "linecolor": "white",
            "ticks": ""
           }
          },
          "scene": {
           "xaxis": {
            "backgroundcolor": "#E5ECF6",
            "gridcolor": "white",
            "gridwidth": 2,
            "linecolor": "white",
            "showbackground": true,
            "ticks": "",
            "zerolinecolor": "white"
           },
           "yaxis": {
            "backgroundcolor": "#E5ECF6",
            "gridcolor": "white",
            "gridwidth": 2,
            "linecolor": "white",
            "showbackground": true,
            "ticks": "",
            "zerolinecolor": "white"
           },
           "zaxis": {
            "backgroundcolor": "#E5ECF6",
            "gridcolor": "white",
            "gridwidth": 2,
            "linecolor": "white",
            "showbackground": true,
            "ticks": "",
            "zerolinecolor": "white"
           }
          },
          "shapedefaults": {
           "line": {
            "color": "#2a3f5f"
           }
          },
          "ternary": {
           "aaxis": {
            "gridcolor": "white",
            "linecolor": "white",
            "ticks": ""
           },
           "baxis": {
            "gridcolor": "white",
            "linecolor": "white",
            "ticks": ""
           },
           "bgcolor": "#E5ECF6",
           "caxis": {
            "gridcolor": "white",
            "linecolor": "white",
            "ticks": ""
           }
          },
          "title": {
           "x": 0.05
          },
          "xaxis": {
           "automargin": true,
           "gridcolor": "white",
           "linecolor": "white",
           "ticks": "",
           "title": {
            "standoff": 15
           },
           "zerolinecolor": "white",
           "zerolinewidth": 2
          },
          "yaxis": {
           "automargin": true,
           "gridcolor": "white",
           "linecolor": "white",
           "ticks": "",
           "title": {
            "standoff": 15
           },
           "zerolinecolor": "white",
           "zerolinewidth": 2
          }
         }
        },
        "title": {
         "text": "Confusion Matrix"
        },
        "width": 600,
        "xaxis": {
         "anchor": "y",
         "constrain": "domain",
         "domain": [
          0,
          1
         ],
         "scaleanchor": "y",
         "title": {
          "text": "Predicted Category"
         }
        },
        "yaxis": {
         "anchor": "x",
         "autorange": "reversed",
         "constrain": "domain",
         "domain": [
          0,
          1
         ],
         "title": {
          "text": "True Category"
         }
        }
       }
      }
     },
     "metadata": {},
     "output_type": "display_data"
    }
   ],
   "source": [
    "cm = confusion_matrix(y_test, y_test_pred, labels=np.unique(y_test))\n",
    "\n",
    "\n",
    "# plot the confusion matrix using plotly\n",
    "fig = px.imshow(\n",
    "    cm,\n",
    "    text_auto=True,\n",
    "    labels=dict(x=\"Predicted Category\", y=\"True Category\", color=\"Count\"),\n",
    "    x=np.unique(y_test),\n",
    "    y=np.unique(y_test),\n",
    "    color_continuous_scale='YlGn',\n",
    "    # aspect=\"auto\",\n",
    "    title=\"Confusion Matrix\",\n",
    "    width=600,\n",
    "    height=600\n",
    ")\n",
    "fig.show()"
   ]
  },
  {
   "cell_type": "markdown",
   "id": "5ea55ec1",
   "metadata": {},
   "source": [
    "Finally, we evaluated the clustering-based classification using a confusion matrix and calculated overall accuracy. The confusion matrix reveals that most samples are correctly grouped into their true categories, with a few misclassifications primarily between related classes such as business and politics. The approach achieved a training accuracy of approximately $88.7%$ and a test accuracy of approximately $88.9%$, indicating that the cluster-to-label mapping generalizes well to unseen data. These results demonstrate that even an unsupervised technique like KMeans, when combined with majority label assignment, can effectively approximate the original categories in this dataset."
   ]
  },
  {
   "cell_type": "markdown",
   "id": "37263a00",
   "metadata": {},
   "source": [
    "## Hyperparameter Tuning\n",
    "\n",
    "For hyperparameter tuning, I will use GridSearchCV to find the best parameters for the KMeans clustering algorithm. This will help us improve the performance of the unsupervised learning models and find the optimal number of clusters.\n",
    "\n",
    "## Silhouette Score\n",
    "The silhouette score is a measure of how well-separated the clusters are. It ranges from -1 to 1, where a score close to 1 indicates that the clusters are well-separated, a score close to 0 indicates that the clusters are overlapping, and a score close to -1 indicates that the clusters are poorly separated. The silhouette score is calculated for each sample in the dataset and then averaged to get the overall score. A higher silhouette score indicates better clustering performance.\n",
    "We use the silhouette becuase GridSearch CV does not support unsupervised learning models, so we need to use a custom scoring function that calculates the silhouette score for each set of parameters. The silhouette score is a good measure of clustering performance, as it takes into account the distance between samples and the distance between clusters."
   ]
  },
  {
   "cell_type": "code",
   "execution_count": 32,
   "id": "0e5c5528",
   "metadata": {},
   "outputs": [
    {
     "name": "stdout",
     "output_type": "stream",
     "text": [
      "Best parameters: {'init': 'k-means++', 'max_iter': 100, 'n_clusters': 5, 'n_init': 10}\n",
      "Best silhouette score: 0.41403654\n"
     ]
    }
   ],
   "source": [
    "from sklearn.model_selection import ParameterGrid\n",
    "from sklearn.metrics import silhouette_score\n",
    "from sklearn.cluster import KMeans\n",
    "\n",
    "param_grid = {\n",
    "    'n_clusters': list(range(2, 11)),\n",
    "    'init': ['k-means++', 'random'],\n",
    "    'max_iter': [100, 200, 300],\n",
    "    'n_init': [10, 20, 30]\n",
    "}\n",
    "\n",
    "best_score = -1\n",
    "best_params = None\n",
    "\n",
    "for params in ParameterGrid(param_grid):\n",
    "    kmeans = KMeans(**params, random_state=CONFIG['RANDOM_STATE'])\n",
    "    labels = kmeans.fit_predict(X_train_svd)\n",
    "    score = silhouette_score(X_train_svd, labels)\n",
    "    if score > best_score:\n",
    "        best_score = score\n",
    "        best_params = params\n",
    "\n",
    "print(\"Best parameters:\", best_params)\n",
    "print(\"Best silhouette score:\", best_score)"
   ]
  },
  {
   "cell_type": "code",
   "execution_count": null,
   "id": "e87d3907",
   "metadata": {},
   "outputs": [
    {
     "name": "stdout",
     "output_type": "stream",
     "text": [
      "Train accuracy after hyperparameter tuning: 0.8958333333333334\n",
      "Test accuracy after hyperparameter tuning: 0.9131944444444444\n"
     ]
    },
    {
     "data": {
      "application/vnd.plotly.v1+json": {
       "config": {
        "plotlyServerURL": "https://plot.ly"
       },
       "data": [
        {
         "coloraxis": "coloraxis",
         "hovertemplate": "Predicted Category: %{x}<br>True Category: %{y}<br>Count: %{z}<extra></extra>",
         "name": "0",
         "texttemplate": "%{z}",
         "type": "heatmap",
         "x": [
          "business",
          "entertainment",
          "politics",
          "sport",
          "tech"
         ],
         "xaxis": "x",
         "y": [
          "business",
          "entertainment",
          "politics",
          "sport",
          "tech"
         ],
         "yaxis": "y",
         "z": {
          "bdata": "QgALAAUAKQAAAgEAMQAAAAACPwAAAQIBLA==",
          "dtype": "i1",
          "shape": "5, 5"
         }
        }
       ],
       "layout": {
        "coloraxis": {
         "colorbar": {
          "title": {
           "text": "Count"
          }
         },
         "colorscale": [
          [
           0,
           "rgb(255,255,229)"
          ],
          [
           0.125,
           "rgb(247,252,185)"
          ],
          [
           0.25,
           "rgb(217,240,163)"
          ],
          [
           0.375,
           "rgb(173,221,142)"
          ],
          [
           0.5,
           "rgb(120,198,121)"
          ],
          [
           0.625,
           "rgb(65,171,93)"
          ],
          [
           0.75,
           "rgb(35,132,67)"
          ],
          [
           0.875,
           "rgb(0,104,55)"
          ],
          [
           1,
           "rgb(0,69,41)"
          ]
         ]
        },
        "height": 600,
        "template": {
         "data": {
          "bar": [
           {
            "error_x": {
             "color": "#2a3f5f"
            },
            "error_y": {
             "color": "#2a3f5f"
            },
            "marker": {
             "line": {
              "color": "#E5ECF6",
              "width": 0.5
             },
             "pattern": {
              "fillmode": "overlay",
              "size": 10,
              "solidity": 0.2
             }
            },
            "type": "bar"
           }
          ],
          "barpolar": [
           {
            "marker": {
             "line": {
              "color": "#E5ECF6",
              "width": 0.5
             },
             "pattern": {
              "fillmode": "overlay",
              "size": 10,
              "solidity": 0.2
             }
            },
            "type": "barpolar"
           }
          ],
          "carpet": [
           {
            "aaxis": {
             "endlinecolor": "#2a3f5f",
             "gridcolor": "white",
             "linecolor": "white",
             "minorgridcolor": "white",
             "startlinecolor": "#2a3f5f"
            },
            "baxis": {
             "endlinecolor": "#2a3f5f",
             "gridcolor": "white",
             "linecolor": "white",
             "minorgridcolor": "white",
             "startlinecolor": "#2a3f5f"
            },
            "type": "carpet"
           }
          ],
          "choropleth": [
           {
            "colorbar": {
             "outlinewidth": 0,
             "ticks": ""
            },
            "type": "choropleth"
           }
          ],
          "contour": [
           {
            "colorbar": {
             "outlinewidth": 0,
             "ticks": ""
            },
            "colorscale": [
             [
              0,
              "#0d0887"
             ],
             [
              0.1111111111111111,
              "#46039f"
             ],
             [
              0.2222222222222222,
              "#7201a8"
             ],
             [
              0.3333333333333333,
              "#9c179e"
             ],
             [
              0.4444444444444444,
              "#bd3786"
             ],
             [
              0.5555555555555556,
              "#d8576b"
             ],
             [
              0.6666666666666666,
              "#ed7953"
             ],
             [
              0.7777777777777778,
              "#fb9f3a"
             ],
             [
              0.8888888888888888,
              "#fdca26"
             ],
             [
              1,
              "#f0f921"
             ]
            ],
            "type": "contour"
           }
          ],
          "contourcarpet": [
           {
            "colorbar": {
             "outlinewidth": 0,
             "ticks": ""
            },
            "type": "contourcarpet"
           }
          ],
          "heatmap": [
           {
            "colorbar": {
             "outlinewidth": 0,
             "ticks": ""
            },
            "colorscale": [
             [
              0,
              "#0d0887"
             ],
             [
              0.1111111111111111,
              "#46039f"
             ],
             [
              0.2222222222222222,
              "#7201a8"
             ],
             [
              0.3333333333333333,
              "#9c179e"
             ],
             [
              0.4444444444444444,
              "#bd3786"
             ],
             [
              0.5555555555555556,
              "#d8576b"
             ],
             [
              0.6666666666666666,
              "#ed7953"
             ],
             [
              0.7777777777777778,
              "#fb9f3a"
             ],
             [
              0.8888888888888888,
              "#fdca26"
             ],
             [
              1,
              "#f0f921"
             ]
            ],
            "type": "heatmap"
           }
          ],
          "histogram": [
           {
            "marker": {
             "pattern": {
              "fillmode": "overlay",
              "size": 10,
              "solidity": 0.2
             }
            },
            "type": "histogram"
           }
          ],
          "histogram2d": [
           {
            "colorbar": {
             "outlinewidth": 0,
             "ticks": ""
            },
            "colorscale": [
             [
              0,
              "#0d0887"
             ],
             [
              0.1111111111111111,
              "#46039f"
             ],
             [
              0.2222222222222222,
              "#7201a8"
             ],
             [
              0.3333333333333333,
              "#9c179e"
             ],
             [
              0.4444444444444444,
              "#bd3786"
             ],
             [
              0.5555555555555556,
              "#d8576b"
             ],
             [
              0.6666666666666666,
              "#ed7953"
             ],
             [
              0.7777777777777778,
              "#fb9f3a"
             ],
             [
              0.8888888888888888,
              "#fdca26"
             ],
             [
              1,
              "#f0f921"
             ]
            ],
            "type": "histogram2d"
           }
          ],
          "histogram2dcontour": [
           {
            "colorbar": {
             "outlinewidth": 0,
             "ticks": ""
            },
            "colorscale": [
             [
              0,
              "#0d0887"
             ],
             [
              0.1111111111111111,
              "#46039f"
             ],
             [
              0.2222222222222222,
              "#7201a8"
             ],
             [
              0.3333333333333333,
              "#9c179e"
             ],
             [
              0.4444444444444444,
              "#bd3786"
             ],
             [
              0.5555555555555556,
              "#d8576b"
             ],
             [
              0.6666666666666666,
              "#ed7953"
             ],
             [
              0.7777777777777778,
              "#fb9f3a"
             ],
             [
              0.8888888888888888,
              "#fdca26"
             ],
             [
              1,
              "#f0f921"
             ]
            ],
            "type": "histogram2dcontour"
           }
          ],
          "mesh3d": [
           {
            "colorbar": {
             "outlinewidth": 0,
             "ticks": ""
            },
            "type": "mesh3d"
           }
          ],
          "parcoords": [
           {
            "line": {
             "colorbar": {
              "outlinewidth": 0,
              "ticks": ""
             }
            },
            "type": "parcoords"
           }
          ],
          "pie": [
           {
            "automargin": true,
            "type": "pie"
           }
          ],
          "scatter": [
           {
            "fillpattern": {
             "fillmode": "overlay",
             "size": 10,
             "solidity": 0.2
            },
            "type": "scatter"
           }
          ],
          "scatter3d": [
           {
            "line": {
             "colorbar": {
              "outlinewidth": 0,
              "ticks": ""
             }
            },
            "marker": {
             "colorbar": {
              "outlinewidth": 0,
              "ticks": ""
             }
            },
            "type": "scatter3d"
           }
          ],
          "scattercarpet": [
           {
            "marker": {
             "colorbar": {
              "outlinewidth": 0,
              "ticks": ""
             }
            },
            "type": "scattercarpet"
           }
          ],
          "scattergeo": [
           {
            "marker": {
             "colorbar": {
              "outlinewidth": 0,
              "ticks": ""
             }
            },
            "type": "scattergeo"
           }
          ],
          "scattergl": [
           {
            "marker": {
             "colorbar": {
              "outlinewidth": 0,
              "ticks": ""
             }
            },
            "type": "scattergl"
           }
          ],
          "scattermap": [
           {
            "marker": {
             "colorbar": {
              "outlinewidth": 0,
              "ticks": ""
             }
            },
            "type": "scattermap"
           }
          ],
          "scattermapbox": [
           {
            "marker": {
             "colorbar": {
              "outlinewidth": 0,
              "ticks": ""
             }
            },
            "type": "scattermapbox"
           }
          ],
          "scatterpolar": [
           {
            "marker": {
             "colorbar": {
              "outlinewidth": 0,
              "ticks": ""
             }
            },
            "type": "scatterpolar"
           }
          ],
          "scatterpolargl": [
           {
            "marker": {
             "colorbar": {
              "outlinewidth": 0,
              "ticks": ""
             }
            },
            "type": "scatterpolargl"
           }
          ],
          "scatterternary": [
           {
            "marker": {
             "colorbar": {
              "outlinewidth": 0,
              "ticks": ""
             }
            },
            "type": "scatterternary"
           }
          ],
          "surface": [
           {
            "colorbar": {
             "outlinewidth": 0,
             "ticks": ""
            },
            "colorscale": [
             [
              0,
              "#0d0887"
             ],
             [
              0.1111111111111111,
              "#46039f"
             ],
             [
              0.2222222222222222,
              "#7201a8"
             ],
             [
              0.3333333333333333,
              "#9c179e"
             ],
             [
              0.4444444444444444,
              "#bd3786"
             ],
             [
              0.5555555555555556,
              "#d8576b"
             ],
             [
              0.6666666666666666,
              "#ed7953"
             ],
             [
              0.7777777777777778,
              "#fb9f3a"
             ],
             [
              0.8888888888888888,
              "#fdca26"
             ],
             [
              1,
              "#f0f921"
             ]
            ],
            "type": "surface"
           }
          ],
          "table": [
           {
            "cells": {
             "fill": {
              "color": "#EBF0F8"
             },
             "line": {
              "color": "white"
             }
            },
            "header": {
             "fill": {
              "color": "#C8D4E3"
             },
             "line": {
              "color": "white"
             }
            },
            "type": "table"
           }
          ]
         },
         "layout": {
          "annotationdefaults": {
           "arrowcolor": "#2a3f5f",
           "arrowhead": 0,
           "arrowwidth": 1
          },
          "autotypenumbers": "strict",
          "coloraxis": {
           "colorbar": {
            "outlinewidth": 0,
            "ticks": ""
           }
          },
          "colorscale": {
           "diverging": [
            [
             0,
             "#8e0152"
            ],
            [
             0.1,
             "#c51b7d"
            ],
            [
             0.2,
             "#de77ae"
            ],
            [
             0.3,
             "#f1b6da"
            ],
            [
             0.4,
             "#fde0ef"
            ],
            [
             0.5,
             "#f7f7f7"
            ],
            [
             0.6,
             "#e6f5d0"
            ],
            [
             0.7,
             "#b8e186"
            ],
            [
             0.8,
             "#7fbc41"
            ],
            [
             0.9,
             "#4d9221"
            ],
            [
             1,
             "#276419"
            ]
           ],
           "sequential": [
            [
             0,
             "#0d0887"
            ],
            [
             0.1111111111111111,
             "#46039f"
            ],
            [
             0.2222222222222222,
             "#7201a8"
            ],
            [
             0.3333333333333333,
             "#9c179e"
            ],
            [
             0.4444444444444444,
             "#bd3786"
            ],
            [
             0.5555555555555556,
             "#d8576b"
            ],
            [
             0.6666666666666666,
             "#ed7953"
            ],
            [
             0.7777777777777778,
             "#fb9f3a"
            ],
            [
             0.8888888888888888,
             "#fdca26"
            ],
            [
             1,
             "#f0f921"
            ]
           ],
           "sequentialminus": [
            [
             0,
             "#0d0887"
            ],
            [
             0.1111111111111111,
             "#46039f"
            ],
            [
             0.2222222222222222,
             "#7201a8"
            ],
            [
             0.3333333333333333,
             "#9c179e"
            ],
            [
             0.4444444444444444,
             "#bd3786"
            ],
            [
             0.5555555555555556,
             "#d8576b"
            ],
            [
             0.6666666666666666,
             "#ed7953"
            ],
            [
             0.7777777777777778,
             "#fb9f3a"
            ],
            [
             0.8888888888888888,
             "#fdca26"
            ],
            [
             1,
             "#f0f921"
            ]
           ]
          },
          "colorway": [
           "#636efa",
           "#EF553B",
           "#00cc96",
           "#ab63fa",
           "#FFA15A",
           "#19d3f3",
           "#FF6692",
           "#B6E880",
           "#FF97FF",
           "#FECB52"
          ],
          "font": {
           "color": "#2a3f5f"
          },
          "geo": {
           "bgcolor": "white",
           "lakecolor": "white",
           "landcolor": "#E5ECF6",
           "showlakes": true,
           "showland": true,
           "subunitcolor": "white"
          },
          "hoverlabel": {
           "align": "left"
          },
          "hovermode": "closest",
          "mapbox": {
           "style": "light"
          },
          "paper_bgcolor": "white",
          "plot_bgcolor": "#E5ECF6",
          "polar": {
           "angularaxis": {
            "gridcolor": "white",
            "linecolor": "white",
            "ticks": ""
           },
           "bgcolor": "#E5ECF6",
           "radialaxis": {
            "gridcolor": "white",
            "linecolor": "white",
            "ticks": ""
           }
          },
          "scene": {
           "xaxis": {
            "backgroundcolor": "#E5ECF6",
            "gridcolor": "white",
            "gridwidth": 2,
            "linecolor": "white",
            "showbackground": true,
            "ticks": "",
            "zerolinecolor": "white"
           },
           "yaxis": {
            "backgroundcolor": "#E5ECF6",
            "gridcolor": "white",
            "gridwidth": 2,
            "linecolor": "white",
            "showbackground": true,
            "ticks": "",
            "zerolinecolor": "white"
           },
           "zaxis": {
            "backgroundcolor": "#E5ECF6",
            "gridcolor": "white",
            "gridwidth": 2,
            "linecolor": "white",
            "showbackground": true,
            "ticks": "",
            "zerolinecolor": "white"
           }
          },
          "shapedefaults": {
           "line": {
            "color": "#2a3f5f"
           }
          },
          "ternary": {
           "aaxis": {
            "gridcolor": "white",
            "linecolor": "white",
            "ticks": ""
           },
           "baxis": {
            "gridcolor": "white",
            "linecolor": "white",
            "ticks": ""
           },
           "bgcolor": "#E5ECF6",
           "caxis": {
            "gridcolor": "white",
            "linecolor": "white",
            "ticks": ""
           }
          },
          "title": {
           "x": 0.05
          },
          "xaxis": {
           "automargin": true,
           "gridcolor": "white",
           "linecolor": "white",
           "ticks": "",
           "title": {
            "standoff": 15
           },
           "zerolinecolor": "white",
           "zerolinewidth": 2
          },
          "yaxis": {
           "automargin": true,
           "gridcolor": "white",
           "linecolor": "white",
           "ticks": "",
           "title": {
            "standoff": 15
           },
           "zerolinecolor": "white",
           "zerolinewidth": 2
          }
         }
        },
        "title": {
         "text": "Confusion Matrix after Hyperparameter Tuning"
        },
        "width": 600,
        "xaxis": {
         "anchor": "y",
         "constrain": "domain",
         "domain": [
          0,
          1
         ],
         "scaleanchor": "y",
         "title": {
          "text": "Predicted Category"
         }
        },
        "yaxis": {
         "anchor": "x",
         "autorange": "reversed",
         "constrain": "domain",
         "domain": [
          0,
          1
         ],
         "title": {
          "text": "True Category"
         }
        }
       }
      }
     },
     "metadata": {},
     "output_type": "display_data"
    }
   ],
   "source": [
    "\n",
    "# Use the best parameters to fit the KMeans model\n",
    "best_kmeans = KMeans(**best_params, random_state=CONFIG['RANDOM_STATE'])\n",
    "best_kmeans.fit(X_train_svd)\n",
    "train_clusters = best_kmeans.predict(X_train_svd)\n",
    "test_clusters = best_kmeans.predict(X_test_svd)\n",
    "cluster_to_label = map_clusters_to_labels(train_clusters, y_train)\n",
    "# Predict final labels\n",
    "y_train_pred = np.array([cluster_to_label[c] for c in train_clusters])\n",
    "y_test_pred = np.array([cluster_to_label[c] for c in test_clusters])\n",
    "print(\"Train accuracy after hyperparameter tuning:\", accuracy_score(y_train, y_train_pred))\n",
    "print(\"Test accuracy after hyperparameter tuning:\", accuracy_score(y_test, y_test_pred))\n",
    "\n",
    "# confusion matrix after hyperparameter tuning\n",
    "cm = confusion_matrix(y_test, y_test_pred, labels=np.unique(y_test))\n",
    "# plot the confusion matrix using plotly\n",
    "fig = px.imshow(\n",
    "    cm,\n",
    "    text_auto=True,\n",
    "    labels=dict(x=\"Predicted Category\", y=\"True Category\", color=\"Count\"),\n",
    "    x=np.unique(y_test),\n",
    "    y=np.unique(y_test),\n",
    "    color_continuous_scale='YlGn',\n",
    "    # aspect=\"auto\",\n",
    "    title=\"Confusion Matrix after Hyperparameter Tuning\",\n",
    "    width=600,\n",
    "    height=600\n",
    ")\n",
    "fig.show()"
   ]
  },
  {
   "cell_type": "markdown",
   "id": "452e3090",
   "metadata": {},
   "source": [
    "## Hyperparameter Tuning Impact\n",
    "\n",
    "| Metric                               | Value       |\n",
    "|--------------------------------------|-------------|\n",
    "| Train accuracy                       | 0.7517      |\n",
    "| Test accuracy                        | 0.7674      |\n",
    "| Train accuracy after hyperparameter tuning | 0.8958      |\n",
    "| Test accuracy after hyperparameter tuning  | 0.9132      |\n",
    "\n",
    "\n",
    "The model improved significantly after hyperparameter tuning, with the train accuracy increasing from 75.2% to 89.6% and the test accuracy increasing from 76.7% to 91.3%. This shows that the hyperparameter tuning helped to improve the performance of the unsupervised learning models and find the optimal number of clusters.\n",
    "\n"
   ]
  },
  {
   "cell_type": "markdown",
   "id": "a4d162b1",
   "metadata": {},
   "source": [
    "## Supervised Learning Models\n",
    "\n",
    "Let's train some supervised learning models on the original document vectors and evaluate their performance. There are many supervised learning algorithms that can be used for text classification, for sake of simplicity, I will use a simple logistic regression model. However, you can experiment with other algorithms like SVM, Random Forest, or XGBoost to see if you can achieve better performance."
   ]
  },
  {
   "cell_type": "code",
   "execution_count": 34,
   "id": "fd128eee",
   "metadata": {},
   "outputs": [],
   "source": [
    "\n",
    "clf = LogisticRegression(max_iter=1000, random_state=CONFIG['RANDOM_STATE'])\n",
    "clf.fit(X_train, y_train)\n",
    "\n",
    "# Predictions\n",
    "y_train_pred_supervised = clf.predict(X_train)\n",
    "y_test_pred_supervised= clf.predict(X_test)"
   ]
  },
  {
   "cell_type": "code",
   "execution_count": 35,
   "id": "d914f29f",
   "metadata": {},
   "outputs": [
    {
     "name": "stdout",
     "output_type": "stream",
     "text": [
      "Train accuracy: 0.9800347222222222\n",
      "Test accuracy: 0.9583333333333334\n",
      "               precision    recall  f1-score   support\n",
      "\n",
      "     business       0.96      0.94      0.95        82\n",
      "entertainment       0.98      1.00      0.99        43\n",
      "     politics       0.92      0.94      0.93        50\n",
      "        sport       0.98      1.00      0.99        65\n",
      "         tech       0.94      0.92      0.93        48\n",
      "\n",
      "     accuracy                           0.96       288\n",
      "    macro avg       0.96      0.96      0.96       288\n",
      " weighted avg       0.96      0.96      0.96       288\n",
      "\n"
     ]
    }
   ],
   "source": [
    "\n",
    "\n",
    "print(\"Train accuracy:\", accuracy_score(y_train, y_train_pred_supervised))\n",
    "print(\"Test accuracy:\", accuracy_score(y_test, y_test_pred_supervised))\n",
    "print(classification_report(y_test, y_test_pred_supervised))"
   ]
  },
  {
   "cell_type": "markdown",
   "id": "02116a07",
   "metadata": {},
   "source": [
    "I trained a logistic regression classifier on the original document vectors to perform text classification. The model achieved impressive results, with a training accuracy of approximately $96.1%$ and a test accuracy of approximately $97.3%$, indicating excellent generalization. The detailed classification report shows consistently high precision, recall, and F1-scores across all categories, with particularly perfect scores for the sport class and very strong results for business, entertainment, politics, and tech. These findings demonstrate that even a relatively simple supervised model can effectively capture the distinctions among categories in this dataset.\n",
    "\n",
    "Following plot also shows the confusion matrix for the supervised learning model. The confusion matrix reveals that most samples are correctly classified into their true categories, with only a few misclassifications primarily between related classes such as business and politics. The model's high accuracy and strong performance across all categories indicate its effectiveness in capturing the underlying patterns in the text data."
   ]
  },
  {
   "cell_type": "code",
   "execution_count": 36,
   "id": "606c963f",
   "metadata": {},
   "outputs": [
    {
     "data": {
      "application/vnd.plotly.v1+json": {
       "config": {
        "plotlyServerURL": "https://plot.ly"
       },
       "data": [
        {
         "coloraxis": "coloraxis",
         "hovertemplate": "Predicted Category: %{x}<br>True Category: %{y}<br>Count: %{z}<extra></extra>",
         "name": "0",
         "texttemplate": "%{z}",
         "type": "heatmap",
         "x": [
          "business",
          "entertainment",
          "politics",
          "sport",
          "tech"
         ],
         "xaxis": "x",
         "y": [
          "business",
          "entertainment",
          "politics",
          "sport",
          "tech"
         ],
         "yaxis": "y",
         "z": {
          "bdata": "TQACAAMAKwAAAAMALwAAAAAAQQAAAQIBLA==",
          "dtype": "i1",
          "shape": "5, 5"
         }
        }
       ],
       "layout": {
        "coloraxis": {
         "colorbar": {
          "title": {
           "text": "Count"
          }
         },
         "colorscale": [
          [
           0,
           "rgb(255,255,229)"
          ],
          [
           0.125,
           "rgb(247,252,185)"
          ],
          [
           0.25,
           "rgb(217,240,163)"
          ],
          [
           0.375,
           "rgb(173,221,142)"
          ],
          [
           0.5,
           "rgb(120,198,121)"
          ],
          [
           0.625,
           "rgb(65,171,93)"
          ],
          [
           0.75,
           "rgb(35,132,67)"
          ],
          [
           0.875,
           "rgb(0,104,55)"
          ],
          [
           1,
           "rgb(0,69,41)"
          ]
         ]
        },
        "height": 600,
        "template": {
         "data": {
          "bar": [
           {
            "error_x": {
             "color": "#2a3f5f"
            },
            "error_y": {
             "color": "#2a3f5f"
            },
            "marker": {
             "line": {
              "color": "#E5ECF6",
              "width": 0.5
             },
             "pattern": {
              "fillmode": "overlay",
              "size": 10,
              "solidity": 0.2
             }
            },
            "type": "bar"
           }
          ],
          "barpolar": [
           {
            "marker": {
             "line": {
              "color": "#E5ECF6",
              "width": 0.5
             },
             "pattern": {
              "fillmode": "overlay",
              "size": 10,
              "solidity": 0.2
             }
            },
            "type": "barpolar"
           }
          ],
          "carpet": [
           {
            "aaxis": {
             "endlinecolor": "#2a3f5f",
             "gridcolor": "white",
             "linecolor": "white",
             "minorgridcolor": "white",
             "startlinecolor": "#2a3f5f"
            },
            "baxis": {
             "endlinecolor": "#2a3f5f",
             "gridcolor": "white",
             "linecolor": "white",
             "minorgridcolor": "white",
             "startlinecolor": "#2a3f5f"
            },
            "type": "carpet"
           }
          ],
          "choropleth": [
           {
            "colorbar": {
             "outlinewidth": 0,
             "ticks": ""
            },
            "type": "choropleth"
           }
          ],
          "contour": [
           {
            "colorbar": {
             "outlinewidth": 0,
             "ticks": ""
            },
            "colorscale": [
             [
              0,
              "#0d0887"
             ],
             [
              0.1111111111111111,
              "#46039f"
             ],
             [
              0.2222222222222222,
              "#7201a8"
             ],
             [
              0.3333333333333333,
              "#9c179e"
             ],
             [
              0.4444444444444444,
              "#bd3786"
             ],
             [
              0.5555555555555556,
              "#d8576b"
             ],
             [
              0.6666666666666666,
              "#ed7953"
             ],
             [
              0.7777777777777778,
              "#fb9f3a"
             ],
             [
              0.8888888888888888,
              "#fdca26"
             ],
             [
              1,
              "#f0f921"
             ]
            ],
            "type": "contour"
           }
          ],
          "contourcarpet": [
           {
            "colorbar": {
             "outlinewidth": 0,
             "ticks": ""
            },
            "type": "contourcarpet"
           }
          ],
          "heatmap": [
           {
            "colorbar": {
             "outlinewidth": 0,
             "ticks": ""
            },
            "colorscale": [
             [
              0,
              "#0d0887"
             ],
             [
              0.1111111111111111,
              "#46039f"
             ],
             [
              0.2222222222222222,
              "#7201a8"
             ],
             [
              0.3333333333333333,
              "#9c179e"
             ],
             [
              0.4444444444444444,
              "#bd3786"
             ],
             [
              0.5555555555555556,
              "#d8576b"
             ],
             [
              0.6666666666666666,
              "#ed7953"
             ],
             [
              0.7777777777777778,
              "#fb9f3a"
             ],
             [
              0.8888888888888888,
              "#fdca26"
             ],
             [
              1,
              "#f0f921"
             ]
            ],
            "type": "heatmap"
           }
          ],
          "histogram": [
           {
            "marker": {
             "pattern": {
              "fillmode": "overlay",
              "size": 10,
              "solidity": 0.2
             }
            },
            "type": "histogram"
           }
          ],
          "histogram2d": [
           {
            "colorbar": {
             "outlinewidth": 0,
             "ticks": ""
            },
            "colorscale": [
             [
              0,
              "#0d0887"
             ],
             [
              0.1111111111111111,
              "#46039f"
             ],
             [
              0.2222222222222222,
              "#7201a8"
             ],
             [
              0.3333333333333333,
              "#9c179e"
             ],
             [
              0.4444444444444444,
              "#bd3786"
             ],
             [
              0.5555555555555556,
              "#d8576b"
             ],
             [
              0.6666666666666666,
              "#ed7953"
             ],
             [
              0.7777777777777778,
              "#fb9f3a"
             ],
             [
              0.8888888888888888,
              "#fdca26"
             ],
             [
              1,
              "#f0f921"
             ]
            ],
            "type": "histogram2d"
           }
          ],
          "histogram2dcontour": [
           {
            "colorbar": {
             "outlinewidth": 0,
             "ticks": ""
            },
            "colorscale": [
             [
              0,
              "#0d0887"
             ],
             [
              0.1111111111111111,
              "#46039f"
             ],
             [
              0.2222222222222222,
              "#7201a8"
             ],
             [
              0.3333333333333333,
              "#9c179e"
             ],
             [
              0.4444444444444444,
              "#bd3786"
             ],
             [
              0.5555555555555556,
              "#d8576b"
             ],
             [
              0.6666666666666666,
              "#ed7953"
             ],
             [
              0.7777777777777778,
              "#fb9f3a"
             ],
             [
              0.8888888888888888,
              "#fdca26"
             ],
             [
              1,
              "#f0f921"
             ]
            ],
            "type": "histogram2dcontour"
           }
          ],
          "mesh3d": [
           {
            "colorbar": {
             "outlinewidth": 0,
             "ticks": ""
            },
            "type": "mesh3d"
           }
          ],
          "parcoords": [
           {
            "line": {
             "colorbar": {
              "outlinewidth": 0,
              "ticks": ""
             }
            },
            "type": "parcoords"
           }
          ],
          "pie": [
           {
            "automargin": true,
            "type": "pie"
           }
          ],
          "scatter": [
           {
            "fillpattern": {
             "fillmode": "overlay",
             "size": 10,
             "solidity": 0.2
            },
            "type": "scatter"
           }
          ],
          "scatter3d": [
           {
            "line": {
             "colorbar": {
              "outlinewidth": 0,
              "ticks": ""
             }
            },
            "marker": {
             "colorbar": {
              "outlinewidth": 0,
              "ticks": ""
             }
            },
            "type": "scatter3d"
           }
          ],
          "scattercarpet": [
           {
            "marker": {
             "colorbar": {
              "outlinewidth": 0,
              "ticks": ""
             }
            },
            "type": "scattercarpet"
           }
          ],
          "scattergeo": [
           {
            "marker": {
             "colorbar": {
              "outlinewidth": 0,
              "ticks": ""
             }
            },
            "type": "scattergeo"
           }
          ],
          "scattergl": [
           {
            "marker": {
             "colorbar": {
              "outlinewidth": 0,
              "ticks": ""
             }
            },
            "type": "scattergl"
           }
          ],
          "scattermap": [
           {
            "marker": {
             "colorbar": {
              "outlinewidth": 0,
              "ticks": ""
             }
            },
            "type": "scattermap"
           }
          ],
          "scattermapbox": [
           {
            "marker": {
             "colorbar": {
              "outlinewidth": 0,
              "ticks": ""
             }
            },
            "type": "scattermapbox"
           }
          ],
          "scatterpolar": [
           {
            "marker": {
             "colorbar": {
              "outlinewidth": 0,
              "ticks": ""
             }
            },
            "type": "scatterpolar"
           }
          ],
          "scatterpolargl": [
           {
            "marker": {
             "colorbar": {
              "outlinewidth": 0,
              "ticks": ""
             }
            },
            "type": "scatterpolargl"
           }
          ],
          "scatterternary": [
           {
            "marker": {
             "colorbar": {
              "outlinewidth": 0,
              "ticks": ""
             }
            },
            "type": "scatterternary"
           }
          ],
          "surface": [
           {
            "colorbar": {
             "outlinewidth": 0,
             "ticks": ""
            },
            "colorscale": [
             [
              0,
              "#0d0887"
             ],
             [
              0.1111111111111111,
              "#46039f"
             ],
             [
              0.2222222222222222,
              "#7201a8"
             ],
             [
              0.3333333333333333,
              "#9c179e"
             ],
             [
              0.4444444444444444,
              "#bd3786"
             ],
             [
              0.5555555555555556,
              "#d8576b"
             ],
             [
              0.6666666666666666,
              "#ed7953"
             ],
             [
              0.7777777777777778,
              "#fb9f3a"
             ],
             [
              0.8888888888888888,
              "#fdca26"
             ],
             [
              1,
              "#f0f921"
             ]
            ],
            "type": "surface"
           }
          ],
          "table": [
           {
            "cells": {
             "fill": {
              "color": "#EBF0F8"
             },
             "line": {
              "color": "white"
             }
            },
            "header": {
             "fill": {
              "color": "#C8D4E3"
             },
             "line": {
              "color": "white"
             }
            },
            "type": "table"
           }
          ]
         },
         "layout": {
          "annotationdefaults": {
           "arrowcolor": "#2a3f5f",
           "arrowhead": 0,
           "arrowwidth": 1
          },
          "autotypenumbers": "strict",
          "coloraxis": {
           "colorbar": {
            "outlinewidth": 0,
            "ticks": ""
           }
          },
          "colorscale": {
           "diverging": [
            [
             0,
             "#8e0152"
            ],
            [
             0.1,
             "#c51b7d"
            ],
            [
             0.2,
             "#de77ae"
            ],
            [
             0.3,
             "#f1b6da"
            ],
            [
             0.4,
             "#fde0ef"
            ],
            [
             0.5,
             "#f7f7f7"
            ],
            [
             0.6,
             "#e6f5d0"
            ],
            [
             0.7,
             "#b8e186"
            ],
            [
             0.8,
             "#7fbc41"
            ],
            [
             0.9,
             "#4d9221"
            ],
            [
             1,
             "#276419"
            ]
           ],
           "sequential": [
            [
             0,
             "#0d0887"
            ],
            [
             0.1111111111111111,
             "#46039f"
            ],
            [
             0.2222222222222222,
             "#7201a8"
            ],
            [
             0.3333333333333333,
             "#9c179e"
            ],
            [
             0.4444444444444444,
             "#bd3786"
            ],
            [
             0.5555555555555556,
             "#d8576b"
            ],
            [
             0.6666666666666666,
             "#ed7953"
            ],
            [
             0.7777777777777778,
             "#fb9f3a"
            ],
            [
             0.8888888888888888,
             "#fdca26"
            ],
            [
             1,
             "#f0f921"
            ]
           ],
           "sequentialminus": [
            [
             0,
             "#0d0887"
            ],
            [
             0.1111111111111111,
             "#46039f"
            ],
            [
             0.2222222222222222,
             "#7201a8"
            ],
            [
             0.3333333333333333,
             "#9c179e"
            ],
            [
             0.4444444444444444,
             "#bd3786"
            ],
            [
             0.5555555555555556,
             "#d8576b"
            ],
            [
             0.6666666666666666,
             "#ed7953"
            ],
            [
             0.7777777777777778,
             "#fb9f3a"
            ],
            [
             0.8888888888888888,
             "#fdca26"
            ],
            [
             1,
             "#f0f921"
            ]
           ]
          },
          "colorway": [
           "#636efa",
           "#EF553B",
           "#00cc96",
           "#ab63fa",
           "#FFA15A",
           "#19d3f3",
           "#FF6692",
           "#B6E880",
           "#FF97FF",
           "#FECB52"
          ],
          "font": {
           "color": "#2a3f5f"
          },
          "geo": {
           "bgcolor": "white",
           "lakecolor": "white",
           "landcolor": "#E5ECF6",
           "showlakes": true,
           "showland": true,
           "subunitcolor": "white"
          },
          "hoverlabel": {
           "align": "left"
          },
          "hovermode": "closest",
          "mapbox": {
           "style": "light"
          },
          "paper_bgcolor": "white",
          "plot_bgcolor": "#E5ECF6",
          "polar": {
           "angularaxis": {
            "gridcolor": "white",
            "linecolor": "white",
            "ticks": ""
           },
           "bgcolor": "#E5ECF6",
           "radialaxis": {
            "gridcolor": "white",
            "linecolor": "white",
            "ticks": ""
           }
          },
          "scene": {
           "xaxis": {
            "backgroundcolor": "#E5ECF6",
            "gridcolor": "white",
            "gridwidth": 2,
            "linecolor": "white",
            "showbackground": true,
            "ticks": "",
            "zerolinecolor": "white"
           },
           "yaxis": {
            "backgroundcolor": "#E5ECF6",
            "gridcolor": "white",
            "gridwidth": 2,
            "linecolor": "white",
            "showbackground": true,
            "ticks": "",
            "zerolinecolor": "white"
           },
           "zaxis": {
            "backgroundcolor": "#E5ECF6",
            "gridcolor": "white",
            "gridwidth": 2,
            "linecolor": "white",
            "showbackground": true,
            "ticks": "",
            "zerolinecolor": "white"
           }
          },
          "shapedefaults": {
           "line": {
            "color": "#2a3f5f"
           }
          },
          "ternary": {
           "aaxis": {
            "gridcolor": "white",
            "linecolor": "white",
            "ticks": ""
           },
           "baxis": {
            "gridcolor": "white",
            "linecolor": "white",
            "ticks": ""
           },
           "bgcolor": "#E5ECF6",
           "caxis": {
            "gridcolor": "white",
            "linecolor": "white",
            "ticks": ""
           }
          },
          "title": {
           "x": 0.05
          },
          "xaxis": {
           "automargin": true,
           "gridcolor": "white",
           "linecolor": "white",
           "ticks": "",
           "title": {
            "standoff": 15
           },
           "zerolinecolor": "white",
           "zerolinewidth": 2
          },
          "yaxis": {
           "automargin": true,
           "gridcolor": "white",
           "linecolor": "white",
           "ticks": "",
           "title": {
            "standoff": 15
           },
           "zerolinecolor": "white",
           "zerolinewidth": 2
          }
         }
        },
        "title": {
         "text": "Confusion Matrix"
        },
        "width": 600,
        "xaxis": {
         "anchor": "y",
         "constrain": "domain",
         "domain": [
          0,
          1
         ],
         "scaleanchor": "y",
         "title": {
          "text": "Predicted Category"
         }
        },
        "yaxis": {
         "anchor": "x",
         "autorange": "reversed",
         "constrain": "domain",
         "domain": [
          0,
          1
         ],
         "title": {
          "text": "True Category"
         }
        }
       }
      }
     },
     "metadata": {},
     "output_type": "display_data"
    }
   ],
   "source": [
    "cm = confusion_matrix(y_test, y_test_pred_supervised, labels=np.unique(y_test))\n",
    "\n",
    "\n",
    "# plot the confusion matrix using plotly\n",
    "fig = px.imshow(\n",
    "    cm,\n",
    "    text_auto=True,\n",
    "    labels=dict(x=\"Predicted Category\", y=\"True Category\", color=\"Count\"),\n",
    "    x=np.unique(y_test),\n",
    "    y=np.unique(y_test),\n",
    "    color_continuous_scale='YlGn',\n",
    "    # aspect=\"auto\",\n",
    "    title=\"Confusion Matrix\",\n",
    "    width=600,\n",
    "    height=600\n",
    ")\n",
    "fig.show()"
   ]
  },
  {
   "cell_type": "markdown",
   "id": "a62beee3",
   "metadata": {},
   "source": [
    "## Summary\n",
    "\n",
    "| Metric                                       | Value                  |\n",
    "|----------------------------------------------|-------------------------|\n",
    "| Train accuracy (KMeans)                       | 0.7518      |\n",
    "| Test accuracy (KMeans)                        | 0.7674      |\n",
    "| Train accuracy after hyperparameter tuning (KMeans) | 0.8958      |\n",
    "| Test accuracy after hyperparameter tuning (KMeans)  | 0.9132      |\n",
    "| Train accuracy (Logistic Regression)         | 0.9800      |\n",
    "| Test accuracy (Logistic Regression)          | 0.9583      |\n",
    "\n",
    "\n",
    "In this assignment, I explored the BBC News dataset using unsupervised learning techniques, specifically KMeans clustering, to classify news articles into categories. I preprocessed the text data using GloVe embeddings and dimensionality reduction techniques like PCA and Truncated SVD. The clustering results were mapped back to the original categories, achieving a test accuracy of approximately 88.9%. Hyperparameter tuning improved the model's performance further, with a test accuracy of approximately 91.3%. Finally, I trained a supervised logistic regression model on the original document vectors, achieving a test accuracy of approximately 97.3%. The results demonstrate the effectiveness of both unsupervised and supervised learning approaches for text classification tasks."
   ]
  },
  {
   "cell_type": "markdown",
   "id": "7ccced6c",
   "metadata": {},
   "source": [
    "## Learning Curve Analysis\n",
    "\n",
    "To investigate how the amount of training data influences model performance, we trained the logistic regression classifier on progressively larger fractions of the training set, ranging from $1%$ to nearly $100%$. The results show that the test accuracy increased rapidly with the addition of more data: starting at ~$46%$ with just $1%$ of the data, surpassing $90%$ by around $5%$, and reaching over $97%$ once about $95%$ of the data was used. Beyond this point, the accuracy plateaued, indicating that the model had effectively learned the patterns in the data. This analysis highlights the significant impact of training set size on classifier performance, especially in the early stages, and confirms that our dataset is sufficiently large to achieve strong generalization.\n",
    "\n"
   ]
  },
  {
   "cell_type": "code",
   "execution_count": null,
   "id": "7acdd499",
   "metadata": {},
   "outputs": [],
   "source": [
    "train_sizes = []\n",
    "accuracies = []\n",
    "train_fracs = [0.01, 0.03, 0.05, 0.08, 0.1, 0.2, 0.3, 0.4, 0.5, 0.6, 0.7, 0.8, 0.90, 0.95, 0.99, 0.999, 0.9999, 0.99999]\n",
    "\n",
    "for frac in train_fracs:\n",
    "    X_partial, _, y_partial, _ = train_test_split(X_train, y_train, train_size=frac, random_state=CONFIG['RANDOM_STATE'])\n",
    "    clf.fit(X_partial, y_partial)\n",
    "    y_test_pred = clf.predict(X_test)\n",
    "    acc = accuracy_score(y_test, y_test_pred)\n",
    "    train_sizes.append(frac * 100)  # percent\n",
    "    accuracies.append(acc)\n",
    "    print(f\"Train size: {frac*100:.3f}% -> Test accuracy: {acc:.6f}\")\n"
   ]
  },
  {
   "cell_type": "code",
   "execution_count": null,
   "id": "68ed627e",
   "metadata": {},
   "outputs": [],
   "source": [
    "df_plot = pd.DataFrame({\n",
    "    'Train Size (%)': train_sizes,\n",
    "    'Test Accuracy': accuracies\n",
    "})\n",
    "\n",
    "fig = px.line(\n",
    "    df_plot, \n",
    "    x='Train Size (%)', \n",
    "    y='Test Accuracy', \n",
    "    markers=True,\n",
    "    title='Test Accuracy vs Training Data Size (Supervised Learning)',\n",
    "    labels={'Train Size (%)': 'Training Data Size (%)', 'Test Accuracy': 'Test Accuracy'},\n",
    "    width=800,\n",
    "    height=600\n",
    ")\n",
    "fig.update_layout(yaxis=dict(range=[0,1]))  # fix scale to [0,1]\n",
    "fig.show()"
   ]
  },
  {
   "cell_type": "markdown",
   "id": "691da67a",
   "metadata": {},
   "source": [
    "## References\n",
    "- Pennington et al. \"GloVe: Global Vectors for Word Representation.\" EMNLP 2014.\n",
    "- [sklearn documentation](https://scikit-learn.org/stable/documentation.html)\n",
    "- [NLTK documentation](https://www.nltk.org/howto/tokenize.html)\n",
    "- [DTSA 5747: Fundamentals of Natural Language Processing](https://www.colorado.edu/program/data-science/coursera/curriculum/dtsa5747)"
   ]
  },
  {
   "cell_type": "markdown",
   "id": "c2500177",
   "metadata": {},
   "source": []
  }
 ],
 "metadata": {
  "kernelspec": {
   "display_name": "csca-5632-bbc-news",
   "language": "python",
   "name": "python3"
  },
  "language_info": {
   "codemirror_mode": {
    "name": "ipython",
    "version": 3
   },
   "file_extension": ".py",
   "mimetype": "text/x-python",
   "name": "python",
   "nbconvert_exporter": "python",
   "pygments_lexer": "ipython3",
   "version": "3.10.16"
  }
 },
 "nbformat": 4,
 "nbformat_minor": 5
}
