{
 "cells": [
  {
   "cell_type": "code",
   "execution_count": 1,
   "id": "e3f165d4",
   "metadata": {},
   "outputs": [],
   "source": [
    "import numpy as np\n",
    "import pandas as pd\n",
    "from plotly.subplots import make_subplots\n",
    "import plotly.graph_objects as go\n",
    "import plotly.express as px\n",
    "from gensim.downloader import load\n",
    "import nltk\n",
    "from nltk.tokenize import word_tokenize\n",
    "import re\n",
    "from sklearn.decomposition import PCA\n",
    "from sklearn.decomposition import TruncatedSVD"
   ]
  },
  {
   "cell_type": "markdown",
   "id": "fa0928a8",
   "metadata": {},
   "source": [
    "## GloVe\n",
    "GloVe (Global Vectors for Word Representation) is an unsupervised learning algorithm for obtaining vector representations for words. It is based on the idea that the meaning of a word can be inferred from the context in which it appears. GloVe constructs a word vector space such that the dot product of two word vectors equals the logarithm of the probability of their co-occurrence.\n",
    "\n",
    "For example, if two words like economic and finance are not appeared together in a document, algorithms like tf-idf will assign them a low similarity score, while GloVe will assign them a high similarity score based on their co-occurrence in the corpus.\n",
    "\n",
    "For more information, you can refer to the [GloVe Website](https://nlp.stanford.edu/projects/glove/)."
   ]
  },
  {
   "cell_type": "code",
   "execution_count": 2,
   "id": "de0f55bc",
   "metadata": {},
   "outputs": [],
   "source": [
    "glove_model = load(\"glove-wiki-gigaword-100\")"
   ]
  },
  {
   "cell_type": "markdown",
   "id": "2fee1eff",
   "metadata": {},
   "source": [
    "## Natural Language Toolkit (NLTK)\n",
    "\n",
    "The Natural Language Toolkit (NLTK) is a set of libraries and programs for symbolic and NLP for the Python programming language. It provides easy-to-use interfaces to over 50 corpora and lexical resources, along with a suite of text processing libraries for classification, tokenization, stemming, tagging, parsing, and semantic reasoning.\n",
    "\n",
    "In this assignment, we will use NLTK to preprocess the news articles. This includes only tokenization, however, NLTK provides many other functionalities that can be useful for NLP tasks like stemming, lemmatization, and part-of-speech tagging.\n",
    "\n",
    "### Tokenization\n",
    "Tokenization is the process of splitting a text into individual words or tokens. NLTK provides a simple way to tokenize text using the `word_tokenize` function. This function splits the text into words and punctuation, returning a list of tokens."
   ]
  },
  {
   "cell_type": "code",
   "execution_count": 3,
   "id": "334b4de1",
   "metadata": {},
   "outputs": [
    {
     "name": "stderr",
     "output_type": "stream",
     "text": [
      "[nltk_data] Downloading package punkt to /Users/mark/nltk_data...\n",
      "[nltk_data]   Package punkt is already up-to-date!\n",
      "[nltk_data] Downloading package punkt_tab to /Users/mark/nltk_data...\n",
      "[nltk_data]   Package punkt_tab is already up-to-date!\n"
     ]
    },
    {
     "data": {
      "text/plain": [
       "True"
      ]
     },
     "execution_count": 3,
     "metadata": {},
     "output_type": "execute_result"
    }
   ],
   "source": [
    "nltk.download('punkt')\n",
    "nltk.download('punkt_tab')"
   ]
  },
  {
   "cell_type": "code",
   "execution_count": 4,
   "id": "6244b883",
   "metadata": {},
   "outputs": [],
   "source": [
    "CONFIG = {\n",
    "    \"train_path\": \"./learn-ai-bbc/BBC_News_Train.csv\",\n",
    "    \"test_path\": \"./learn-ai-bbc/BBC_News_Test.csv\",\n",
    "    \"sample_solution_path\": \"./learn-ai-bbc/BBC_News_Sample_Solution.csv\",\n",
    "    \"RANDOM_STATE\": 42,\n",
    "    \"DEFAULT_TEST_SIZE\": 0.2,\n",
    "    \"DEFAULT_TRAIN_SIZE\": 0.8\n",
    "}"
   ]
  },
  {
   "cell_type": "code",
   "execution_count": 5,
   "id": "9d4f782f",
   "metadata": {},
   "outputs": [],
   "source": [
    "def load_data(train_path: str, test_path: str, sample_solution_path: str) -> tuple:\n",
    "    \"\"\"\n",
    "    Load the train, test, and sample solution datasets.\n",
    "\n",
    "    Args:\n",
    "        train_path (str): Path to the training dataset.\n",
    "        test_path (str): Path to the test dataset.\n",
    "        sample_solution_path (str): Path to the sample solution dataset.\n",
    "\n",
    "    Returns:\n",
    "        tuple: A tuple containing the train, test, and sample solution DataFrames.\n",
    "    \"\"\"\n",
    "    train_df = pd.read_csv(train_path)\n",
    "    test_df = pd.read_csv(test_path)\n",
    "    sample_solution_df = pd.read_csv(sample_solution_path)\n",
    "\n",
    "    return train_df, test_df, sample_solution_df"
   ]
  },
  {
   "cell_type": "code",
   "execution_count": 6,
   "id": "6ee6389a",
   "metadata": {},
   "outputs": [],
   "source": [
    "train_df, test_df, sample_solution_df = load_data(\n",
    "    train_path=CONFIG[\"train_path\"],\n",
    "    test_path=CONFIG[\"test_path\"],\n",
    "    sample_solution_path=CONFIG[\"sample_solution_path\"]\n",
    ")"
   ]
  },
  {
   "cell_type": "code",
   "execution_count": 7,
   "id": "a6ce78b6",
   "metadata": {},
   "outputs": [
    {
     "name": "stdout",
     "output_type": "stream",
     "text": [
      "(1490, 3)\n",
      "(735, 2)\n",
      "(735, 2)\n"
     ]
    }
   ],
   "source": [
    "print(train_df.shape)\n",
    "print(test_df.shape)\n",
    "print(sample_solution_df.shape)"
   ]
  },
  {
   "cell_type": "markdown",
   "id": "204b6651",
   "metadata": {},
   "source": [
    "`train_df` and `test_df` are the dataframes containing the training and test data, respectively. `sample_solution` is the dataframe containing the sample solution, matching the article IDs in the test set with the news category labels."
   ]
  },
  {
   "cell_type": "code",
   "execution_count": 8,
   "id": "ac40e6f0",
   "metadata": {},
   "outputs": [
    {
     "data": {
      "text/html": [
       "<div>\n",
       "<style scoped>\n",
       "    .dataframe tbody tr th:only-of-type {\n",
       "        vertical-align: middle;\n",
       "    }\n",
       "\n",
       "    .dataframe tbody tr th {\n",
       "        vertical-align: top;\n",
       "    }\n",
       "\n",
       "    .dataframe thead th {\n",
       "        text-align: right;\n",
       "    }\n",
       "</style>\n",
       "<table border=\"1\" class=\"dataframe\">\n",
       "  <thead>\n",
       "    <tr style=\"text-align: right;\">\n",
       "      <th></th>\n",
       "      <th>ArticleId</th>\n",
       "      <th>Text</th>\n",
       "      <th>Category</th>\n",
       "    </tr>\n",
       "  </thead>\n",
       "  <tbody>\n",
       "    <tr>\n",
       "      <th>0</th>\n",
       "      <td>1833</td>\n",
       "      <td>worldcom ex-boss launches defence lawyers defe...</td>\n",
       "      <td>business</td>\n",
       "    </tr>\n",
       "    <tr>\n",
       "      <th>1</th>\n",
       "      <td>154</td>\n",
       "      <td>german business confidence slides german busin...</td>\n",
       "      <td>business</td>\n",
       "    </tr>\n",
       "    <tr>\n",
       "      <th>2</th>\n",
       "      <td>1101</td>\n",
       "      <td>bbc poll indicates economic gloom citizens in ...</td>\n",
       "      <td>business</td>\n",
       "    </tr>\n",
       "    <tr>\n",
       "      <th>3</th>\n",
       "      <td>1976</td>\n",
       "      <td>lifestyle  governs mobile choice  faster  bett...</td>\n",
       "      <td>tech</td>\n",
       "    </tr>\n",
       "    <tr>\n",
       "      <th>4</th>\n",
       "      <td>917</td>\n",
       "      <td>enron bosses in $168m payout eighteen former e...</td>\n",
       "      <td>business</td>\n",
       "    </tr>\n",
       "  </tbody>\n",
       "</table>\n",
       "</div>"
      ],
      "text/plain": [
       "   ArticleId                                               Text  Category\n",
       "0       1833  worldcom ex-boss launches defence lawyers defe...  business\n",
       "1        154  german business confidence slides german busin...  business\n",
       "2       1101  bbc poll indicates economic gloom citizens in ...  business\n",
       "3       1976  lifestyle  governs mobile choice  faster  bett...      tech\n",
       "4        917  enron bosses in $168m payout eighteen former e...  business"
      ]
     },
     "execution_count": 8,
     "metadata": {},
     "output_type": "execute_result"
    }
   ],
   "source": [
    "train_df.head()"
   ]
  },
  {
   "cell_type": "code",
   "execution_count": 9,
   "id": "72656308",
   "metadata": {},
   "outputs": [
    {
     "data": {
      "text/html": [
       "<div>\n",
       "<style scoped>\n",
       "    .dataframe tbody tr th:only-of-type {\n",
       "        vertical-align: middle;\n",
       "    }\n",
       "\n",
       "    .dataframe tbody tr th {\n",
       "        vertical-align: top;\n",
       "    }\n",
       "\n",
       "    .dataframe thead th {\n",
       "        text-align: right;\n",
       "    }\n",
       "</style>\n",
       "<table border=\"1\" class=\"dataframe\">\n",
       "  <thead>\n",
       "    <tr style=\"text-align: right;\">\n",
       "      <th></th>\n",
       "      <th>ArticleId</th>\n",
       "      <th>Text</th>\n",
       "    </tr>\n",
       "  </thead>\n",
       "  <tbody>\n",
       "    <tr>\n",
       "      <th>0</th>\n",
       "      <td>1018</td>\n",
       "      <td>qpr keeper day heads for preston queens park r...</td>\n",
       "    </tr>\n",
       "    <tr>\n",
       "      <th>1</th>\n",
       "      <td>1319</td>\n",
       "      <td>software watching while you work software that...</td>\n",
       "    </tr>\n",
       "    <tr>\n",
       "      <th>2</th>\n",
       "      <td>1138</td>\n",
       "      <td>d arcy injury adds to ireland woe gordon d arc...</td>\n",
       "    </tr>\n",
       "    <tr>\n",
       "      <th>3</th>\n",
       "      <td>459</td>\n",
       "      <td>india s reliance family feud heats up the ongo...</td>\n",
       "    </tr>\n",
       "    <tr>\n",
       "      <th>4</th>\n",
       "      <td>1020</td>\n",
       "      <td>boro suffer morrison injury blow middlesbrough...</td>\n",
       "    </tr>\n",
       "  </tbody>\n",
       "</table>\n",
       "</div>"
      ],
      "text/plain": [
       "   ArticleId                                               Text\n",
       "0       1018  qpr keeper day heads for preston queens park r...\n",
       "1       1319  software watching while you work software that...\n",
       "2       1138  d arcy injury adds to ireland woe gordon d arc...\n",
       "3        459  india s reliance family feud heats up the ongo...\n",
       "4       1020  boro suffer morrison injury blow middlesbrough..."
      ]
     },
     "execution_count": 9,
     "metadata": {},
     "output_type": "execute_result"
    }
   ],
   "source": [
    "test_df.head()"
   ]
  },
  {
   "cell_type": "code",
   "execution_count": 10,
   "id": "57cb86eb",
   "metadata": {},
   "outputs": [
    {
     "data": {
      "text/html": [
       "<div>\n",
       "<style scoped>\n",
       "    .dataframe tbody tr th:only-of-type {\n",
       "        vertical-align: middle;\n",
       "    }\n",
       "\n",
       "    .dataframe tbody tr th {\n",
       "        vertical-align: top;\n",
       "    }\n",
       "\n",
       "    .dataframe thead th {\n",
       "        text-align: right;\n",
       "    }\n",
       "</style>\n",
       "<table border=\"1\" class=\"dataframe\">\n",
       "  <thead>\n",
       "    <tr style=\"text-align: right;\">\n",
       "      <th></th>\n",
       "      <th>ArticleId</th>\n",
       "      <th>Category</th>\n",
       "    </tr>\n",
       "  </thead>\n",
       "  <tbody>\n",
       "    <tr>\n",
       "      <th>0</th>\n",
       "      <td>1018</td>\n",
       "      <td>sport</td>\n",
       "    </tr>\n",
       "    <tr>\n",
       "      <th>1</th>\n",
       "      <td>1319</td>\n",
       "      <td>tech</td>\n",
       "    </tr>\n",
       "    <tr>\n",
       "      <th>2</th>\n",
       "      <td>1138</td>\n",
       "      <td>business</td>\n",
       "    </tr>\n",
       "    <tr>\n",
       "      <th>3</th>\n",
       "      <td>459</td>\n",
       "      <td>entertainment</td>\n",
       "    </tr>\n",
       "    <tr>\n",
       "      <th>4</th>\n",
       "      <td>1020</td>\n",
       "      <td>politics</td>\n",
       "    </tr>\n",
       "  </tbody>\n",
       "</table>\n",
       "</div>"
      ],
      "text/plain": [
       "   ArticleId       Category\n",
       "0       1018          sport\n",
       "1       1319           tech\n",
       "2       1138       business\n",
       "3        459  entertainment\n",
       "4       1020       politics"
      ]
     },
     "execution_count": 10,
     "metadata": {},
     "output_type": "execute_result"
    }
   ],
   "source": [
    "sample_solution_df.head()"
   ]
  },
  {
   "cell_type": "code",
   "execution_count": 11,
   "id": "15fd5225",
   "metadata": {},
   "outputs": [
    {
     "data": {
      "text/plain": [
       "array(['business', 'tech', 'politics', 'sport', 'entertainment'],\n",
       "      dtype=object)"
      ]
     },
     "execution_count": 11,
     "metadata": {},
     "output_type": "execute_result"
    }
   ],
   "source": [
    "train_df['Category'].unique()"
   ]
  },
  {
   "cell_type": "code",
   "execution_count": 12,
   "id": "3ae63b11",
   "metadata": {},
   "outputs": [
    {
     "data": {
      "text/html": [
       "<div>\n",
       "<style scoped>\n",
       "    .dataframe tbody tr th:only-of-type {\n",
       "        vertical-align: middle;\n",
       "    }\n",
       "\n",
       "    .dataframe tbody tr th {\n",
       "        vertical-align: top;\n",
       "    }\n",
       "\n",
       "    .dataframe thead th {\n",
       "        text-align: right;\n",
       "    }\n",
       "</style>\n",
       "<table border=\"1\" class=\"dataframe\">\n",
       "  <thead>\n",
       "    <tr style=\"text-align: right;\">\n",
       "      <th></th>\n",
       "      <th>ArticleId</th>\n",
       "    </tr>\n",
       "  </thead>\n",
       "  <tbody>\n",
       "    <tr>\n",
       "      <th>count</th>\n",
       "      <td>1490.000000</td>\n",
       "    </tr>\n",
       "    <tr>\n",
       "      <th>mean</th>\n",
       "      <td>1119.696644</td>\n",
       "    </tr>\n",
       "    <tr>\n",
       "      <th>std</th>\n",
       "      <td>641.826283</td>\n",
       "    </tr>\n",
       "    <tr>\n",
       "      <th>min</th>\n",
       "      <td>2.000000</td>\n",
       "    </tr>\n",
       "    <tr>\n",
       "      <th>25%</th>\n",
       "      <td>565.250000</td>\n",
       "    </tr>\n",
       "    <tr>\n",
       "      <th>50%</th>\n",
       "      <td>1112.500000</td>\n",
       "    </tr>\n",
       "    <tr>\n",
       "      <th>75%</th>\n",
       "      <td>1680.750000</td>\n",
       "    </tr>\n",
       "    <tr>\n",
       "      <th>max</th>\n",
       "      <td>2224.000000</td>\n",
       "    </tr>\n",
       "  </tbody>\n",
       "</table>\n",
       "</div>"
      ],
      "text/plain": [
       "         ArticleId\n",
       "count  1490.000000\n",
       "mean   1119.696644\n",
       "std     641.826283\n",
       "min       2.000000\n",
       "25%     565.250000\n",
       "50%    1112.500000\n",
       "75%    1680.750000\n",
       "max    2224.000000"
      ]
     },
     "execution_count": 12,
     "metadata": {},
     "output_type": "execute_result"
    }
   ],
   "source": [
    "train_df.describe()"
   ]
  },
  {
   "cell_type": "markdown",
   "id": "cf44dc70",
   "metadata": {},
   "source": [
    "Let's take a look to the distribution of the news categories in the training set. This will help us understand the balance of the dataset and whether we need to apply any techniques to handle class imbalance."
   ]
  },
  {
   "cell_type": "code",
   "execution_count": 13,
   "id": "4f830dd4",
   "metadata": {},
   "outputs": [
    {
     "data": {
      "application/vnd.plotly.v1+json": {
       "config": {
        "plotlyServerURL": "https://plot.ly"
       },
       "data": [
        {
         "name": "Count",
         "type": "histogram",
         "x": [
          "business",
          "business",
          "business",
          "tech",
          "business",
          "politics",
          "sport",
          "entertainment",
          "business",
          "entertainment",
          "politics",
          "entertainment",
          "business",
          "business",
          "sport",
          "sport",
          "entertainment",
          "sport",
          "sport",
          "tech",
          "sport",
          "entertainment",
          "sport",
          "sport",
          "tech",
          "business",
          "tech",
          "sport",
          "politics",
          "business",
          "tech",
          "entertainment",
          "business",
          "politics",
          "sport",
          "entertainment",
          "sport",
          "sport",
          "sport",
          "tech",
          "tech",
          "sport",
          "sport",
          "tech",
          "entertainment",
          "entertainment",
          "tech",
          "tech",
          "tech",
          "business",
          "tech",
          "sport",
          "politics",
          "sport",
          "sport",
          "entertainment",
          "business",
          "business",
          "politics",
          "sport",
          "tech",
          "business",
          "entertainment",
          "tech",
          "business",
          "sport",
          "politics",
          "politics",
          "tech",
          "tech",
          "sport",
          "tech",
          "sport",
          "sport",
          "sport",
          "business",
          "sport",
          "business",
          "entertainment",
          "business",
          "tech",
          "business",
          "politics",
          "politics",
          "sport",
          "sport",
          "politics",
          "entertainment",
          "sport",
          "sport",
          "politics",
          "tech",
          "politics",
          "sport",
          "politics",
          "business",
          "business",
          "business",
          "business",
          "sport",
          "business",
          "politics",
          "tech",
          "tech",
          "entertainment",
          "politics",
          "tech",
          "business",
          "business",
          "business",
          "business",
          "entertainment",
          "sport",
          "business",
          "business",
          "business",
          "politics",
          "business",
          "politics",
          "sport",
          "tech",
          "sport",
          "sport",
          "politics",
          "tech",
          "tech",
          "entertainment",
          "sport",
          "politics",
          "business",
          "sport",
          "business",
          "entertainment",
          "sport",
          "tech",
          "entertainment",
          "politics",
          "business",
          "sport",
          "entertainment",
          "entertainment",
          "business",
          "business",
          "sport",
          "tech",
          "politics",
          "business",
          "business",
          "sport",
          "entertainment",
          "sport",
          "sport",
          "politics",
          "politics",
          "tech",
          "business",
          "business",
          "entertainment",
          "tech",
          "entertainment",
          "politics",
          "tech",
          "entertainment",
          "sport",
          "business",
          "politics",
          "entertainment",
          "sport",
          "politics",
          "sport",
          "tech",
          "entertainment",
          "sport",
          "entertainment",
          "business",
          "business",
          "entertainment",
          "politics",
          "business",
          "sport",
          "sport",
          "tech",
          "sport",
          "business",
          "business",
          "sport",
          "business",
          "entertainment",
          "politics",
          "entertainment",
          "entertainment",
          "tech",
          "sport",
          "politics",
          "sport",
          "tech",
          "politics",
          "sport",
          "sport",
          "sport",
          "sport",
          "entertainment",
          "sport",
          "business",
          "tech",
          "business",
          "politics",
          "sport",
          "tech",
          "business",
          "business",
          "sport",
          "entertainment",
          "entertainment",
          "politics",
          "politics",
          "sport",
          "politics",
          "politics",
          "sport",
          "entertainment",
          "entertainment",
          "sport",
          "entertainment",
          "entertainment",
          "sport",
          "sport",
          "business",
          "tech",
          "entertainment",
          "politics",
          "business",
          "sport",
          "business",
          "entertainment",
          "business",
          "tech",
          "sport",
          "sport",
          "sport",
          "sport",
          "sport",
          "business",
          "sport",
          "entertainment",
          "business",
          "politics",
          "sport",
          "business",
          "politics",
          "business",
          "entertainment",
          "sport",
          "sport",
          "business",
          "tech",
          "business",
          "tech",
          "politics",
          "tech",
          "tech",
          "business",
          "politics",
          "sport",
          "entertainment",
          "entertainment",
          "business",
          "entertainment",
          "tech",
          "entertainment",
          "entertainment",
          "politics",
          "tech",
          "sport",
          "sport",
          "politics",
          "sport",
          "tech",
          "business",
          "tech",
          "business",
          "tech",
          "entertainment",
          "sport",
          "sport",
          "sport",
          "politics",
          "politics",
          "sport",
          "sport",
          "entertainment",
          "business",
          "tech",
          "sport",
          "politics",
          "tech",
          "politics",
          "politics",
          "tech",
          "tech",
          "business",
          "tech",
          "business",
          "sport",
          "entertainment",
          "business",
          "sport",
          "politics",
          "entertainment",
          "tech",
          "politics",
          "business",
          "entertainment",
          "business",
          "tech",
          "sport",
          "tech",
          "sport",
          "sport",
          "sport",
          "politics",
          "business",
          "politics",
          "entertainment",
          "sport",
          "entertainment",
          "business",
          "politics",
          "business",
          "sport",
          "entertainment",
          "sport",
          "business",
          "entertainment",
          "entertainment",
          "sport",
          "politics",
          "business",
          "politics",
          "tech",
          "entertainment",
          "entertainment",
          "entertainment",
          "tech",
          "sport",
          "business",
          "entertainment",
          "entertainment",
          "entertainment",
          "politics",
          "sport",
          "politics",
          "politics",
          "tech",
          "politics",
          "business",
          "politics",
          "business",
          "sport",
          "entertainment",
          "business",
          "business",
          "business",
          "sport",
          "sport",
          "politics",
          "politics",
          "sport",
          "tech",
          "tech",
          "sport",
          "tech",
          "entertainment",
          "politics",
          "tech",
          "politics",
          "entertainment",
          "sport",
          "business",
          "tech",
          "sport",
          "business",
          "politics",
          "entertainment",
          "politics",
          "sport",
          "tech",
          "sport",
          "business",
          "sport",
          "tech",
          "business",
          "politics",
          "business",
          "sport",
          "sport",
          "tech",
          "tech",
          "business",
          "business",
          "politics",
          "politics",
          "business",
          "entertainment",
          "business",
          "entertainment",
          "sport",
          "sport",
          "entertainment",
          "entertainment",
          "business",
          "politics",
          "business",
          "entertainment",
          "sport",
          "tech",
          "entertainment",
          "tech",
          "entertainment",
          "business",
          "tech",
          "entertainment",
          "business",
          "business",
          "business",
          "business",
          "entertainment",
          "tech",
          "tech",
          "tech",
          "entertainment",
          "tech",
          "sport",
          "entertainment",
          "politics",
          "tech",
          "business",
          "sport",
          "entertainment",
          "sport",
          "tech",
          "tech",
          "business",
          "tech",
          "sport",
          "sport",
          "sport",
          "entertainment",
          "entertainment",
          "business",
          "entertainment",
          "tech",
          "tech",
          "sport",
          "entertainment",
          "tech",
          "business",
          "politics",
          "entertainment",
          "tech",
          "politics",
          "sport",
          "sport",
          "politics",
          "politics",
          "business",
          "sport",
          "sport",
          "business",
          "entertainment",
          "entertainment",
          "politics",
          "business",
          "business",
          "business",
          "business",
          "sport",
          "business",
          "business",
          "politics",
          "politics",
          "tech",
          "entertainment",
          "politics",
          "business",
          "tech",
          "business",
          "business",
          "sport",
          "tech",
          "tech",
          "sport",
          "entertainment",
          "tech",
          "tech",
          "tech",
          "politics",
          "tech",
          "tech",
          "tech",
          "business",
          "business",
          "business",
          "tech",
          "sport",
          "business",
          "politics",
          "politics",
          "entertainment",
          "tech",
          "politics",
          "entertainment",
          "entertainment",
          "business",
          "politics",
          "sport",
          "sport",
          "sport",
          "sport",
          "politics",
          "entertainment",
          "business",
          "business",
          "politics",
          "sport",
          "entertainment",
          "entertainment",
          "sport",
          "business",
          "politics",
          "entertainment",
          "business",
          "sport",
          "tech",
          "sport",
          "sport",
          "business",
          "tech",
          "politics",
          "business",
          "tech",
          "politics",
          "politics",
          "politics",
          "sport",
          "business",
          "sport",
          "entertainment",
          "politics",
          "tech",
          "tech",
          "business",
          "tech",
          "business",
          "entertainment",
          "entertainment",
          "politics",
          "business",
          "politics",
          "business",
          "entertainment",
          "entertainment",
          "business",
          "politics",
          "business",
          "tech",
          "business",
          "business",
          "tech",
          "politics",
          "business",
          "tech",
          "business",
          "politics",
          "entertainment",
          "sport",
          "entertainment",
          "sport",
          "entertainment",
          "sport",
          "business",
          "tech",
          "tech",
          "sport",
          "sport",
          "business",
          "politics",
          "tech",
          "tech",
          "tech",
          "business",
          "sport",
          "business",
          "business",
          "business",
          "business",
          "business",
          "entertainment",
          "tech",
          "sport",
          "sport",
          "politics",
          "tech",
          "tech",
          "business",
          "tech",
          "business",
          "politics",
          "entertainment",
          "tech",
          "business",
          "business",
          "politics",
          "tech",
          "entertainment",
          "business",
          "tech",
          "entertainment",
          "entertainment",
          "sport",
          "politics",
          "sport",
          "business",
          "entertainment",
          "entertainment",
          "business",
          "politics",
          "business",
          "tech",
          "tech",
          "business",
          "entertainment",
          "tech",
          "tech",
          "sport",
          "sport",
          "entertainment",
          "sport",
          "entertainment",
          "politics",
          "entertainment",
          "tech",
          "entertainment",
          "politics",
          "politics",
          "business",
          "business",
          "tech",
          "sport",
          "sport",
          "business",
          "tech",
          "politics",
          "politics",
          "business",
          "entertainment",
          "sport",
          "sport",
          "politics",
          "tech",
          "sport",
          "sport",
          "business",
          "politics",
          "business",
          "entertainment",
          "tech",
          "politics",
          "sport",
          "sport",
          "tech",
          "politics",
          "business",
          "sport",
          "politics",
          "politics",
          "sport",
          "business",
          "tech",
          "politics",
          "business",
          "tech",
          "entertainment",
          "business",
          "tech",
          "politics",
          "tech",
          "politics",
          "entertainment",
          "sport",
          "sport",
          "business",
          "business",
          "tech",
          "sport",
          "entertainment",
          "entertainment",
          "tech",
          "politics",
          "entertainment",
          "business",
          "entertainment",
          "tech",
          "business",
          "sport",
          "business",
          "business",
          "business",
          "sport",
          "sport",
          "tech",
          "business",
          "sport",
          "politics",
          "sport",
          "entertainment",
          "business",
          "entertainment",
          "entertainment",
          "politics",
          "tech",
          "tech",
          "sport",
          "business",
          "sport",
          "sport",
          "tech",
          "entertainment",
          "business",
          "business",
          "business",
          "politics",
          "sport",
          "tech",
          "politics",
          "business",
          "tech",
          "tech",
          "sport",
          "business",
          "sport",
          "entertainment",
          "business",
          "sport",
          "tech",
          "tech",
          "entertainment",
          "business",
          "sport",
          "politics",
          "tech",
          "sport",
          "business",
          "business",
          "business",
          "politics",
          "sport",
          "tech",
          "entertainment",
          "tech",
          "tech",
          "business",
          "politics",
          "business",
          "entertainment",
          "entertainment",
          "politics",
          "sport",
          "politics",
          "business",
          "sport",
          "business",
          "politics",
          "sport",
          "tech",
          "sport",
          "tech",
          "politics",
          "sport",
          "sport",
          "tech",
          "entertainment",
          "entertainment",
          "tech",
          "entertainment",
          "sport",
          "sport",
          "tech",
          "entertainment",
          "tech",
          "entertainment",
          "entertainment",
          "sport",
          "sport",
          "sport",
          "entertainment",
          "entertainment",
          "tech",
          "sport",
          "politics",
          "entertainment",
          "business",
          "sport",
          "business",
          "business",
          "politics",
          "politics",
          "business",
          "politics",
          "politics",
          "sport",
          "politics",
          "sport",
          "sport",
          "business",
          "entertainment",
          "sport",
          "tech",
          "sport",
          "politics",
          "entertainment",
          "tech",
          "sport",
          "sport",
          "business",
          "tech",
          "tech",
          "entertainment",
          "entertainment",
          "tech",
          "entertainment",
          "politics",
          "politics",
          "sport",
          "business",
          "politics",
          "politics",
          "entertainment",
          "politics",
          "entertainment",
          "tech",
          "politics",
          "entertainment",
          "politics",
          "sport",
          "sport",
          "politics",
          "business",
          "politics",
          "tech",
          "business",
          "business",
          "sport",
          "sport",
          "tech",
          "politics",
          "sport",
          "sport",
          "tech",
          "sport",
          "politics",
          "tech",
          "entertainment",
          "tech",
          "entertainment",
          "sport",
          "politics",
          "sport",
          "entertainment",
          "tech",
          "entertainment",
          "business",
          "entertainment",
          "tech",
          "politics",
          "sport",
          "business",
          "entertainment",
          "business",
          "business",
          "entertainment",
          "sport",
          "sport",
          "entertainment",
          "politics",
          "politics",
          "business",
          "entertainment",
          "tech",
          "business",
          "politics",
          "business",
          "business",
          "sport",
          "politics",
          "business",
          "sport",
          "politics",
          "tech",
          "tech",
          "entertainment",
          "business",
          "entertainment",
          "politics",
          "sport",
          "politics",
          "entertainment",
          "politics",
          "tech",
          "business",
          "tech",
          "business",
          "politics",
          "politics",
          "tech",
          "entertainment",
          "sport",
          "politics",
          "politics",
          "politics",
          "politics",
          "politics",
          "sport",
          "business",
          "sport",
          "entertainment",
          "business",
          "tech",
          "politics",
          "sport",
          "business",
          "sport",
          "sport",
          "politics",
          "sport",
          "entertainment",
          "business",
          "entertainment",
          "entertainment",
          "tech",
          "politics",
          "entertainment",
          "tech",
          "sport",
          "politics",
          "politics",
          "business",
          "sport",
          "business",
          "tech",
          "entertainment",
          "entertainment",
          "sport",
          "politics",
          "entertainment",
          "entertainment",
          "politics",
          "business",
          "tech",
          "entertainment",
          "business",
          "business",
          "politics",
          "politics",
          "entertainment",
          "sport",
          "politics",
          "tech",
          "entertainment",
          "politics",
          "sport",
          "business",
          "sport",
          "politics",
          "sport",
          "business",
          "entertainment",
          "tech",
          "tech",
          "business",
          "sport",
          "tech",
          "politics",
          "sport",
          "politics",
          "sport",
          "sport",
          "tech",
          "politics",
          "business",
          "tech",
          "business",
          "entertainment",
          "politics",
          "sport",
          "sport",
          "business",
          "business",
          "sport",
          "business",
          "sport",
          "sport",
          "entertainment",
          "sport",
          "sport",
          "politics",
          "politics",
          "tech",
          "business",
          "politics",
          "tech",
          "entertainment",
          "business",
          "politics",
          "sport",
          "sport",
          "sport",
          "entertainment",
          "business",
          "sport",
          "sport",
          "business",
          "business",
          "politics",
          "business",
          "sport",
          "business",
          "tech",
          "politics",
          "business",
          "sport",
          "business",
          "entertainment",
          "sport",
          "entertainment",
          "entertainment",
          "entertainment",
          "business",
          "politics",
          "politics",
          "business",
          "tech",
          "sport",
          "tech",
          "politics",
          "sport",
          "politics",
          "tech",
          "politics",
          "business",
          "entertainment",
          "entertainment",
          "entertainment",
          "politics",
          "entertainment",
          "sport",
          "entertainment",
          "politics",
          "tech",
          "tech",
          "politics",
          "business",
          "tech",
          "business",
          "tech",
          "business",
          "entertainment",
          "entertainment",
          "politics",
          "sport",
          "entertainment",
          "entertainment",
          "tech",
          "tech",
          "tech",
          "business",
          "tech",
          "tech",
          "business",
          "sport",
          "tech",
          "politics",
          "entertainment",
          "business",
          "sport",
          "business",
          "entertainment",
          "sport",
          "sport",
          "sport",
          "business",
          "tech",
          "politics",
          "business",
          "politics",
          "politics",
          "politics",
          "entertainment",
          "sport",
          "politics",
          "business",
          "entertainment",
          "entertainment",
          "politics",
          "tech",
          "tech",
          "business",
          "tech",
          "sport",
          "sport",
          "entertainment",
          "sport",
          "sport",
          "sport",
          "politics",
          "tech",
          "tech",
          "politics",
          "politics",
          "business",
          "business",
          "sport",
          "tech",
          "tech",
          "sport",
          "entertainment",
          "sport",
          "entertainment",
          "business",
          "tech",
          "politics",
          "tech",
          "sport",
          "business",
          "sport",
          "business",
          "entertainment",
          "tech",
          "business",
          "sport",
          "business",
          "sport",
          "tech",
          "business",
          "business",
          "business",
          "sport",
          "business",
          "sport",
          "politics",
          "business",
          "sport",
          "politics",
          "entertainment",
          "business",
          "business",
          "politics",
          "business",
          "tech",
          "sport",
          "entertainment",
          "sport",
          "entertainment",
          "tech",
          "sport",
          "sport",
          "sport",
          "entertainment",
          "politics",
          "business",
          "politics",
          "politics",
          "sport",
          "entertainment",
          "sport",
          "business",
          "sport",
          "politics",
          "entertainment",
          "tech",
          "business",
          "business",
          "sport",
          "sport",
          "sport",
          "entertainment",
          "sport",
          "politics",
          "politics",
          "sport",
          "tech",
          "entertainment",
          "entertainment",
          "entertainment",
          "politics",
          "business",
          "tech",
          "business",
          "entertainment",
          "sport",
          "sport",
          "sport",
          "business",
          "tech",
          "business",
          "entertainment",
          "tech",
          "politics",
          "sport",
          "politics",
          "politics",
          "tech",
          "entertainment",
          "sport",
          "politics",
          "politics",
          "entertainment",
          "sport",
          "politics",
          "entertainment",
          "entertainment",
          "sport",
          "tech",
          "sport",
          "business",
          "business",
          "business",
          "sport",
          "entertainment",
          "entertainment",
          "entertainment",
          "sport",
          "tech",
          "politics",
          "entertainment",
          "politics",
          "entertainment",
          "entertainment",
          "sport",
          "sport",
          "sport",
          "entertainment",
          "politics",
          "business",
          "sport",
          "business",
          "sport",
          "politics",
          "business",
          "business",
          "business",
          "sport",
          "sport",
          "politics",
          "business",
          "entertainment",
          "business",
          "business",
          "politics",
          "politics",
          "business",
          "entertainment",
          "politics",
          "sport",
          "business",
          "tech",
          "sport",
          "sport",
          "tech",
          "business",
          "entertainment",
          "entertainment",
          "business",
          "politics",
          "business",
          "business",
          "business",
          "business",
          "sport",
          "tech",
          "sport",
          "politics",
          "business",
          "business",
          "entertainment",
          "politics",
          "sport",
          "tech",
          "business",
          "entertainment",
          "business",
          "tech",
          "entertainment",
          "sport",
          "business",
          "entertainment",
          "tech",
          "entertainment",
          "politics",
          "business",
          "sport",
          "politics",
          "tech",
          "sport",
          "politics",
          "tech",
          "business",
          "politics",
          "tech",
          "business",
          "entertainment",
          "tech",
          "business",
          "sport",
          "entertainment",
          "sport",
          "tech",
          "tech",
          "sport",
          "tech",
          "tech",
          "politics",
          "politics",
          "sport",
          "politics",
          "entertainment",
          "business",
          "entertainment",
          "politics",
          "politics",
          "sport",
          "tech",
          "business",
          "entertainment",
          "business",
          "sport",
          "entertainment",
          "entertainment",
          "politics",
          "politics",
          "entertainment",
          "business",
          "entertainment",
          "sport",
          "tech",
          "tech",
          "business",
          "sport",
          "sport",
          "entertainment",
          "entertainment",
          "business",
          "entertainment",
          "entertainment",
          "tech",
          "sport",
          "politics",
          "politics",
          "entertainment",
          "sport",
          "politics",
          "sport",
          "tech",
          "tech",
          "politics",
          "politics",
          "business",
          "tech",
          "business",
          "business",
          "tech",
          "tech",
          "sport",
          "business",
          "business",
          "entertainment",
          "business",
          "politics",
          "sport",
          "politics",
          "politics",
          "sport",
          "business",
          "business",
          "business",
          "business",
          "sport",
          "politics",
          "tech",
          "business",
          "entertainment",
          "entertainment",
          "tech",
          "entertainment",
          "entertainment",
          "business",
          "sport",
          "tech",
          "business",
          "business",
          "business",
          "sport",
          "entertainment",
          "sport",
          "politics",
          "politics",
          "sport",
          "entertainment",
          "politics",
          "tech",
          "entertainment",
          "politics",
          "entertainment",
          "sport",
          "entertainment",
          "politics",
          "politics",
          "business",
          "tech",
          "entertainment",
          "sport",
          "entertainment",
          "politics",
          "politics",
          "business",
          "entertainment",
          "politics",
          "business",
          "sport",
          "politics",
          "entertainment",
          "business",
          "politics",
          "entertainment",
          "sport",
          "sport",
          "politics",
          "tech",
          "tech",
          "tech",
          "sport",
          "tech",
          "entertainment",
          "sport",
          "entertainment",
          "business",
          "politics",
          "business",
          "sport",
          "politics",
          "business",
          "sport",
          "politics",
          "entertainment",
          "politics",
          "tech",
          "politics",
          "entertainment",
          "business",
          "entertainment",
          "entertainment",
          "tech",
          "entertainment",
          "politics",
          "tech",
          "tech",
          "business",
          "sport",
          "sport",
          "tech",
          "business",
          "sport",
          "politics",
          "sport",
          "business",
          "politics",
          "entertainment",
          "tech",
          "politics",
          "business",
          "business",
          "sport",
          "tech",
          "entertainment",
          "business",
          "entertainment",
          "entertainment",
          "business",
          "tech",
          "tech"
         ],
         "xaxis": "x",
         "yaxis": "y"
        },
        {
         "name": "Proportion",
         "type": "bar",
         "x": [
          "sport",
          "business",
          "politics",
          "entertainment",
          "tech"
         ],
         "xaxis": "x2",
         "y": {
          "bdata": "7rrgoja5zT9S6fFAS93MP+8I9hTLicc/k43EJM1zxz8+xXLi5WvGPw==",
          "dtype": "f8"
         },
         "yaxis": "y2"
        }
       ],
       "layout": {
        "annotations": [
         {
          "font": {
           "size": 16
          },
          "showarrow": false,
          "text": "Count of Categories",
          "x": 0.225,
          "xanchor": "center",
          "xref": "paper",
          "y": 1,
          "yanchor": "bottom",
          "yref": "paper"
         },
         {
          "font": {
           "size": 16
          },
          "showarrow": false,
          "text": "Proportion of Categories",
          "x": 0.775,
          "xanchor": "center",
          "xref": "paper",
          "y": 1,
          "yanchor": "bottom",
          "yref": "paper"
         }
        ],
        "template": {
         "data": {
          "bar": [
           {
            "error_x": {
             "color": "#2a3f5f"
            },
            "error_y": {
             "color": "#2a3f5f"
            },
            "marker": {
             "line": {
              "color": "#E5ECF6",
              "width": 0.5
             },
             "pattern": {
              "fillmode": "overlay",
              "size": 10,
              "solidity": 0.2
             }
            },
            "type": "bar"
           }
          ],
          "barpolar": [
           {
            "marker": {
             "line": {
              "color": "#E5ECF6",
              "width": 0.5
             },
             "pattern": {
              "fillmode": "overlay",
              "size": 10,
              "solidity": 0.2
             }
            },
            "type": "barpolar"
           }
          ],
          "carpet": [
           {
            "aaxis": {
             "endlinecolor": "#2a3f5f",
             "gridcolor": "white",
             "linecolor": "white",
             "minorgridcolor": "white",
             "startlinecolor": "#2a3f5f"
            },
            "baxis": {
             "endlinecolor": "#2a3f5f",
             "gridcolor": "white",
             "linecolor": "white",
             "minorgridcolor": "white",
             "startlinecolor": "#2a3f5f"
            },
            "type": "carpet"
           }
          ],
          "choropleth": [
           {
            "colorbar": {
             "outlinewidth": 0,
             "ticks": ""
            },
            "type": "choropleth"
           }
          ],
          "contour": [
           {
            "colorbar": {
             "outlinewidth": 0,
             "ticks": ""
            },
            "colorscale": [
             [
              0,
              "#0d0887"
             ],
             [
              0.1111111111111111,
              "#46039f"
             ],
             [
              0.2222222222222222,
              "#7201a8"
             ],
             [
              0.3333333333333333,
              "#9c179e"
             ],
             [
              0.4444444444444444,
              "#bd3786"
             ],
             [
              0.5555555555555556,
              "#d8576b"
             ],
             [
              0.6666666666666666,
              "#ed7953"
             ],
             [
              0.7777777777777778,
              "#fb9f3a"
             ],
             [
              0.8888888888888888,
              "#fdca26"
             ],
             [
              1,
              "#f0f921"
             ]
            ],
            "type": "contour"
           }
          ],
          "contourcarpet": [
           {
            "colorbar": {
             "outlinewidth": 0,
             "ticks": ""
            },
            "type": "contourcarpet"
           }
          ],
          "heatmap": [
           {
            "colorbar": {
             "outlinewidth": 0,
             "ticks": ""
            },
            "colorscale": [
             [
              0,
              "#0d0887"
             ],
             [
              0.1111111111111111,
              "#46039f"
             ],
             [
              0.2222222222222222,
              "#7201a8"
             ],
             [
              0.3333333333333333,
              "#9c179e"
             ],
             [
              0.4444444444444444,
              "#bd3786"
             ],
             [
              0.5555555555555556,
              "#d8576b"
             ],
             [
              0.6666666666666666,
              "#ed7953"
             ],
             [
              0.7777777777777778,
              "#fb9f3a"
             ],
             [
              0.8888888888888888,
              "#fdca26"
             ],
             [
              1,
              "#f0f921"
             ]
            ],
            "type": "heatmap"
           }
          ],
          "histogram": [
           {
            "marker": {
             "pattern": {
              "fillmode": "overlay",
              "size": 10,
              "solidity": 0.2
             }
            },
            "type": "histogram"
           }
          ],
          "histogram2d": [
           {
            "colorbar": {
             "outlinewidth": 0,
             "ticks": ""
            },
            "colorscale": [
             [
              0,
              "#0d0887"
             ],
             [
              0.1111111111111111,
              "#46039f"
             ],
             [
              0.2222222222222222,
              "#7201a8"
             ],
             [
              0.3333333333333333,
              "#9c179e"
             ],
             [
              0.4444444444444444,
              "#bd3786"
             ],
             [
              0.5555555555555556,
              "#d8576b"
             ],
             [
              0.6666666666666666,
              "#ed7953"
             ],
             [
              0.7777777777777778,
              "#fb9f3a"
             ],
             [
              0.8888888888888888,
              "#fdca26"
             ],
             [
              1,
              "#f0f921"
             ]
            ],
            "type": "histogram2d"
           }
          ],
          "histogram2dcontour": [
           {
            "colorbar": {
             "outlinewidth": 0,
             "ticks": ""
            },
            "colorscale": [
             [
              0,
              "#0d0887"
             ],
             [
              0.1111111111111111,
              "#46039f"
             ],
             [
              0.2222222222222222,
              "#7201a8"
             ],
             [
              0.3333333333333333,
              "#9c179e"
             ],
             [
              0.4444444444444444,
              "#bd3786"
             ],
             [
              0.5555555555555556,
              "#d8576b"
             ],
             [
              0.6666666666666666,
              "#ed7953"
             ],
             [
              0.7777777777777778,
              "#fb9f3a"
             ],
             [
              0.8888888888888888,
              "#fdca26"
             ],
             [
              1,
              "#f0f921"
             ]
            ],
            "type": "histogram2dcontour"
           }
          ],
          "mesh3d": [
           {
            "colorbar": {
             "outlinewidth": 0,
             "ticks": ""
            },
            "type": "mesh3d"
           }
          ],
          "parcoords": [
           {
            "line": {
             "colorbar": {
              "outlinewidth": 0,
              "ticks": ""
             }
            },
            "type": "parcoords"
           }
          ],
          "pie": [
           {
            "automargin": true,
            "type": "pie"
           }
          ],
          "scatter": [
           {
            "fillpattern": {
             "fillmode": "overlay",
             "size": 10,
             "solidity": 0.2
            },
            "type": "scatter"
           }
          ],
          "scatter3d": [
           {
            "line": {
             "colorbar": {
              "outlinewidth": 0,
              "ticks": ""
             }
            },
            "marker": {
             "colorbar": {
              "outlinewidth": 0,
              "ticks": ""
             }
            },
            "type": "scatter3d"
           }
          ],
          "scattercarpet": [
           {
            "marker": {
             "colorbar": {
              "outlinewidth": 0,
              "ticks": ""
             }
            },
            "type": "scattercarpet"
           }
          ],
          "scattergeo": [
           {
            "marker": {
             "colorbar": {
              "outlinewidth": 0,
              "ticks": ""
             }
            },
            "type": "scattergeo"
           }
          ],
          "scattergl": [
           {
            "marker": {
             "colorbar": {
              "outlinewidth": 0,
              "ticks": ""
             }
            },
            "type": "scattergl"
           }
          ],
          "scattermap": [
           {
            "marker": {
             "colorbar": {
              "outlinewidth": 0,
              "ticks": ""
             }
            },
            "type": "scattermap"
           }
          ],
          "scattermapbox": [
           {
            "marker": {
             "colorbar": {
              "outlinewidth": 0,
              "ticks": ""
             }
            },
            "type": "scattermapbox"
           }
          ],
          "scatterpolar": [
           {
            "marker": {
             "colorbar": {
              "outlinewidth": 0,
              "ticks": ""
             }
            },
            "type": "scatterpolar"
           }
          ],
          "scatterpolargl": [
           {
            "marker": {
             "colorbar": {
              "outlinewidth": 0,
              "ticks": ""
             }
            },
            "type": "scatterpolargl"
           }
          ],
          "scatterternary": [
           {
            "marker": {
             "colorbar": {
              "outlinewidth": 0,
              "ticks": ""
             }
            },
            "type": "scatterternary"
           }
          ],
          "surface": [
           {
            "colorbar": {
             "outlinewidth": 0,
             "ticks": ""
            },
            "colorscale": [
             [
              0,
              "#0d0887"
             ],
             [
              0.1111111111111111,
              "#46039f"
             ],
             [
              0.2222222222222222,
              "#7201a8"
             ],
             [
              0.3333333333333333,
              "#9c179e"
             ],
             [
              0.4444444444444444,
              "#bd3786"
             ],
             [
              0.5555555555555556,
              "#d8576b"
             ],
             [
              0.6666666666666666,
              "#ed7953"
             ],
             [
              0.7777777777777778,
              "#fb9f3a"
             ],
             [
              0.8888888888888888,
              "#fdca26"
             ],
             [
              1,
              "#f0f921"
             ]
            ],
            "type": "surface"
           }
          ],
          "table": [
           {
            "cells": {
             "fill": {
              "color": "#EBF0F8"
             },
             "line": {
              "color": "white"
             }
            },
            "header": {
             "fill": {
              "color": "#C8D4E3"
             },
             "line": {
              "color": "white"
             }
            },
            "type": "table"
           }
          ]
         },
         "layout": {
          "annotationdefaults": {
           "arrowcolor": "#2a3f5f",
           "arrowhead": 0,
           "arrowwidth": 1
          },
          "autotypenumbers": "strict",
          "coloraxis": {
           "colorbar": {
            "outlinewidth": 0,
            "ticks": ""
           }
          },
          "colorscale": {
           "diverging": [
            [
             0,
             "#8e0152"
            ],
            [
             0.1,
             "#c51b7d"
            ],
            [
             0.2,
             "#de77ae"
            ],
            [
             0.3,
             "#f1b6da"
            ],
            [
             0.4,
             "#fde0ef"
            ],
            [
             0.5,
             "#f7f7f7"
            ],
            [
             0.6,
             "#e6f5d0"
            ],
            [
             0.7,
             "#b8e186"
            ],
            [
             0.8,
             "#7fbc41"
            ],
            [
             0.9,
             "#4d9221"
            ],
            [
             1,
             "#276419"
            ]
           ],
           "sequential": [
            [
             0,
             "#0d0887"
            ],
            [
             0.1111111111111111,
             "#46039f"
            ],
            [
             0.2222222222222222,
             "#7201a8"
            ],
            [
             0.3333333333333333,
             "#9c179e"
            ],
            [
             0.4444444444444444,
             "#bd3786"
            ],
            [
             0.5555555555555556,
             "#d8576b"
            ],
            [
             0.6666666666666666,
             "#ed7953"
            ],
            [
             0.7777777777777778,
             "#fb9f3a"
            ],
            [
             0.8888888888888888,
             "#fdca26"
            ],
            [
             1,
             "#f0f921"
            ]
           ],
           "sequentialminus": [
            [
             0,
             "#0d0887"
            ],
            [
             0.1111111111111111,
             "#46039f"
            ],
            [
             0.2222222222222222,
             "#7201a8"
            ],
            [
             0.3333333333333333,
             "#9c179e"
            ],
            [
             0.4444444444444444,
             "#bd3786"
            ],
            [
             0.5555555555555556,
             "#d8576b"
            ],
            [
             0.6666666666666666,
             "#ed7953"
            ],
            [
             0.7777777777777778,
             "#fb9f3a"
            ],
            [
             0.8888888888888888,
             "#fdca26"
            ],
            [
             1,
             "#f0f921"
            ]
           ]
          },
          "colorway": [
           "#636efa",
           "#EF553B",
           "#00cc96",
           "#ab63fa",
           "#FFA15A",
           "#19d3f3",
           "#FF6692",
           "#B6E880",
           "#FF97FF",
           "#FECB52"
          ],
          "font": {
           "color": "#2a3f5f"
          },
          "geo": {
           "bgcolor": "white",
           "lakecolor": "white",
           "landcolor": "#E5ECF6",
           "showlakes": true,
           "showland": true,
           "subunitcolor": "white"
          },
          "hoverlabel": {
           "align": "left"
          },
          "hovermode": "closest",
          "mapbox": {
           "style": "light"
          },
          "paper_bgcolor": "white",
          "plot_bgcolor": "#E5ECF6",
          "polar": {
           "angularaxis": {
            "gridcolor": "white",
            "linecolor": "white",
            "ticks": ""
           },
           "bgcolor": "#E5ECF6",
           "radialaxis": {
            "gridcolor": "white",
            "linecolor": "white",
            "ticks": ""
           }
          },
          "scene": {
           "xaxis": {
            "backgroundcolor": "#E5ECF6",
            "gridcolor": "white",
            "gridwidth": 2,
            "linecolor": "white",
            "showbackground": true,
            "ticks": "",
            "zerolinecolor": "white"
           },
           "yaxis": {
            "backgroundcolor": "#E5ECF6",
            "gridcolor": "white",
            "gridwidth": 2,
            "linecolor": "white",
            "showbackground": true,
            "ticks": "",
            "zerolinecolor": "white"
           },
           "zaxis": {
            "backgroundcolor": "#E5ECF6",
            "gridcolor": "white",
            "gridwidth": 2,
            "linecolor": "white",
            "showbackground": true,
            "ticks": "",
            "zerolinecolor": "white"
           }
          },
          "shapedefaults": {
           "line": {
            "color": "#2a3f5f"
           }
          },
          "ternary": {
           "aaxis": {
            "gridcolor": "white",
            "linecolor": "white",
            "ticks": ""
           },
           "baxis": {
            "gridcolor": "white",
            "linecolor": "white",
            "ticks": ""
           },
           "bgcolor": "#E5ECF6",
           "caxis": {
            "gridcolor": "white",
            "linecolor": "white",
            "ticks": ""
           }
          },
          "title": {
           "x": 0.05
          },
          "xaxis": {
           "automargin": true,
           "gridcolor": "white",
           "linecolor": "white",
           "ticks": "",
           "title": {
            "standoff": 15
           },
           "zerolinecolor": "white",
           "zerolinewidth": 2
          },
          "yaxis": {
           "automargin": true,
           "gridcolor": "white",
           "linecolor": "white",
           "ticks": "",
           "title": {
            "standoff": 15
           },
           "zerolinecolor": "white",
           "zerolinewidth": 2
          }
         }
        },
        "xaxis": {
         "anchor": "y",
         "domain": [
          0,
          0.45
         ]
        },
        "xaxis2": {
         "anchor": "y2",
         "domain": [
          0.55,
          1
         ]
        },
        "yaxis": {
         "anchor": "x",
         "domain": [
          0,
          1
         ]
        },
        "yaxis2": {
         "anchor": "x2",
         "domain": [
          0,
          1
         ]
        }
       }
      }
     },
     "metadata": {},
     "output_type": "display_data"
    }
   ],
   "source": [
    "category_counts = train_df['Category'].value_counts(normalize=True)\n",
    "\n",
    "fig = make_subplots(\n",
    "    rows=1, cols=2,\n",
    "    subplot_titles=(\"Count of Categories\", \"Proportion of Categories\")\n",
    ")\n",
    "\n",
    "fig.add_trace(\n",
    "    go.Histogram(\n",
    "        x=train_df['Category'],\n",
    "        name=\"Count\"\n",
    "    ),\n",
    "    row=1, col=1\n",
    ")\n",
    "\n",
    "fig.add_trace(\n",
    "    go.Bar(\n",
    "        x=category_counts.index,\n",
    "        y=category_counts.values,\n",
    "        name=\"Proportion\"\n",
    "    ),\n",
    "    row=1, col=2\n",
    ")\n",
    "\n",
    "fig.show()"
   ]
  },
  {
   "cell_type": "markdown",
   "id": "0ec5e6a9",
   "metadata": {},
   "source": [
    "It appears that the dataset is relatively balanced, with a slight imbalance towards the 'sport' category. "
   ]
  },
  {
   "cell_type": "code",
   "execution_count": 14,
   "id": "08ac3c91",
   "metadata": {},
   "outputs": [
    {
     "name": "stdout",
     "output_type": "stream",
     "text": [
      "count     1490.000000\n",
      "mean      2233.461745\n",
      "std       1205.153358\n",
      "min        501.000000\n",
      "25%       1453.000000\n",
      "50%       1961.000000\n",
      "75%       2751.250000\n",
      "max      18387.000000\n",
      "Name: Text, dtype: float64\n"
     ]
    },
    {
     "data": {
      "application/vnd.plotly.v1+json": {
       "config": {
        "plotlyServerURL": "https://plot.ly"
       },
       "data": [
        {
         "bingroup": "x",
         "hovertemplate": "variable=Text<br>value=%{x}<br>count=%{y}<extra></extra>",
         "legendgroup": "Text",
         "marker": {
          "color": "#636efa",
          "pattern": {
           "shape": ""
          }
         },
         "name": "Text",
         "orientation": "v",
         "showlegend": true,
         "type": "histogram",
         "x": {
          "bdata": "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",
          "dtype": "i2"
         },
         "xaxis": "x",
         "yaxis": "y"
        }
       ],
       "layout": {
        "barmode": "relative",
        "legend": {
         "title": {
          "text": "variable"
         },
         "tracegroupgap": 0
        },
        "template": {
         "data": {
          "bar": [
           {
            "error_x": {
             "color": "#2a3f5f"
            },
            "error_y": {
             "color": "#2a3f5f"
            },
            "marker": {
             "line": {
              "color": "#E5ECF6",
              "width": 0.5
             },
             "pattern": {
              "fillmode": "overlay",
              "size": 10,
              "solidity": 0.2
             }
            },
            "type": "bar"
           }
          ],
          "barpolar": [
           {
            "marker": {
             "line": {
              "color": "#E5ECF6",
              "width": 0.5
             },
             "pattern": {
              "fillmode": "overlay",
              "size": 10,
              "solidity": 0.2
             }
            },
            "type": "barpolar"
           }
          ],
          "carpet": [
           {
            "aaxis": {
             "endlinecolor": "#2a3f5f",
             "gridcolor": "white",
             "linecolor": "white",
             "minorgridcolor": "white",
             "startlinecolor": "#2a3f5f"
            },
            "baxis": {
             "endlinecolor": "#2a3f5f",
             "gridcolor": "white",
             "linecolor": "white",
             "minorgridcolor": "white",
             "startlinecolor": "#2a3f5f"
            },
            "type": "carpet"
           }
          ],
          "choropleth": [
           {
            "colorbar": {
             "outlinewidth": 0,
             "ticks": ""
            },
            "type": "choropleth"
           }
          ],
          "contour": [
           {
            "colorbar": {
             "outlinewidth": 0,
             "ticks": ""
            },
            "colorscale": [
             [
              0,
              "#0d0887"
             ],
             [
              0.1111111111111111,
              "#46039f"
             ],
             [
              0.2222222222222222,
              "#7201a8"
             ],
             [
              0.3333333333333333,
              "#9c179e"
             ],
             [
              0.4444444444444444,
              "#bd3786"
             ],
             [
              0.5555555555555556,
              "#d8576b"
             ],
             [
              0.6666666666666666,
              "#ed7953"
             ],
             [
              0.7777777777777778,
              "#fb9f3a"
             ],
             [
              0.8888888888888888,
              "#fdca26"
             ],
             [
              1,
              "#f0f921"
             ]
            ],
            "type": "contour"
           }
          ],
          "contourcarpet": [
           {
            "colorbar": {
             "outlinewidth": 0,
             "ticks": ""
            },
            "type": "contourcarpet"
           }
          ],
          "heatmap": [
           {
            "colorbar": {
             "outlinewidth": 0,
             "ticks": ""
            },
            "colorscale": [
             [
              0,
              "#0d0887"
             ],
             [
              0.1111111111111111,
              "#46039f"
             ],
             [
              0.2222222222222222,
              "#7201a8"
             ],
             [
              0.3333333333333333,
              "#9c179e"
             ],
             [
              0.4444444444444444,
              "#bd3786"
             ],
             [
              0.5555555555555556,
              "#d8576b"
             ],
             [
              0.6666666666666666,
              "#ed7953"
             ],
             [
              0.7777777777777778,
              "#fb9f3a"
             ],
             [
              0.8888888888888888,
              "#fdca26"
             ],
             [
              1,
              "#f0f921"
             ]
            ],
            "type": "heatmap"
           }
          ],
          "histogram": [
           {
            "marker": {
             "pattern": {
              "fillmode": "overlay",
              "size": 10,
              "solidity": 0.2
             }
            },
            "type": "histogram"
           }
          ],
          "histogram2d": [
           {
            "colorbar": {
             "outlinewidth": 0,
             "ticks": ""
            },
            "colorscale": [
             [
              0,
              "#0d0887"
             ],
             [
              0.1111111111111111,
              "#46039f"
             ],
             [
              0.2222222222222222,
              "#7201a8"
             ],
             [
              0.3333333333333333,
              "#9c179e"
             ],
             [
              0.4444444444444444,
              "#bd3786"
             ],
             [
              0.5555555555555556,
              "#d8576b"
             ],
             [
              0.6666666666666666,
              "#ed7953"
             ],
             [
              0.7777777777777778,
              "#fb9f3a"
             ],
             [
              0.8888888888888888,
              "#fdca26"
             ],
             [
              1,
              "#f0f921"
             ]
            ],
            "type": "histogram2d"
           }
          ],
          "histogram2dcontour": [
           {
            "colorbar": {
             "outlinewidth": 0,
             "ticks": ""
            },
            "colorscale": [
             [
              0,
              "#0d0887"
             ],
             [
              0.1111111111111111,
              "#46039f"
             ],
             [
              0.2222222222222222,
              "#7201a8"
             ],
             [
              0.3333333333333333,
              "#9c179e"
             ],
             [
              0.4444444444444444,
              "#bd3786"
             ],
             [
              0.5555555555555556,
              "#d8576b"
             ],
             [
              0.6666666666666666,
              "#ed7953"
             ],
             [
              0.7777777777777778,
              "#fb9f3a"
             ],
             [
              0.8888888888888888,
              "#fdca26"
             ],
             [
              1,
              "#f0f921"
             ]
            ],
            "type": "histogram2dcontour"
           }
          ],
          "mesh3d": [
           {
            "colorbar": {
             "outlinewidth": 0,
             "ticks": ""
            },
            "type": "mesh3d"
           }
          ],
          "parcoords": [
           {
            "line": {
             "colorbar": {
              "outlinewidth": 0,
              "ticks": ""
             }
            },
            "type": "parcoords"
           }
          ],
          "pie": [
           {
            "automargin": true,
            "type": "pie"
           }
          ],
          "scatter": [
           {
            "fillpattern": {
             "fillmode": "overlay",
             "size": 10,
             "solidity": 0.2
            },
            "type": "scatter"
           }
          ],
          "scatter3d": [
           {
            "line": {
             "colorbar": {
              "outlinewidth": 0,
              "ticks": ""
             }
            },
            "marker": {
             "colorbar": {
              "outlinewidth": 0,
              "ticks": ""
             }
            },
            "type": "scatter3d"
           }
          ],
          "scattercarpet": [
           {
            "marker": {
             "colorbar": {
              "outlinewidth": 0,
              "ticks": ""
             }
            },
            "type": "scattercarpet"
           }
          ],
          "scattergeo": [
           {
            "marker": {
             "colorbar": {
              "outlinewidth": 0,
              "ticks": ""
             }
            },
            "type": "scattergeo"
           }
          ],
          "scattergl": [
           {
            "marker": {
             "colorbar": {
              "outlinewidth": 0,
              "ticks": ""
             }
            },
            "type": "scattergl"
           }
          ],
          "scattermap": [
           {
            "marker": {
             "colorbar": {
              "outlinewidth": 0,
              "ticks": ""
             }
            },
            "type": "scattermap"
           }
          ],
          "scattermapbox": [
           {
            "marker": {
             "colorbar": {
              "outlinewidth": 0,
              "ticks": ""
             }
            },
            "type": "scattermapbox"
           }
          ],
          "scatterpolar": [
           {
            "marker": {
             "colorbar": {
              "outlinewidth": 0,
              "ticks": ""
             }
            },
            "type": "scatterpolar"
           }
          ],
          "scatterpolargl": [
           {
            "marker": {
             "colorbar": {
              "outlinewidth": 0,
              "ticks": ""
             }
            },
            "type": "scatterpolargl"
           }
          ],
          "scatterternary": [
           {
            "marker": {
             "colorbar": {
              "outlinewidth": 0,
              "ticks": ""
             }
            },
            "type": "scatterternary"
           }
          ],
          "surface": [
           {
            "colorbar": {
             "outlinewidth": 0,
             "ticks": ""
            },
            "colorscale": [
             [
              0,
              "#0d0887"
             ],
             [
              0.1111111111111111,
              "#46039f"
             ],
             [
              0.2222222222222222,
              "#7201a8"
             ],
             [
              0.3333333333333333,
              "#9c179e"
             ],
             [
              0.4444444444444444,
              "#bd3786"
             ],
             [
              0.5555555555555556,
              "#d8576b"
             ],
             [
              0.6666666666666666,
              "#ed7953"
             ],
             [
              0.7777777777777778,
              "#fb9f3a"
             ],
             [
              0.8888888888888888,
              "#fdca26"
             ],
             [
              1,
              "#f0f921"
             ]
            ],
            "type": "surface"
           }
          ],
          "table": [
           {
            "cells": {
             "fill": {
              "color": "#EBF0F8"
             },
             "line": {
              "color": "white"
             }
            },
            "header": {
             "fill": {
              "color": "#C8D4E3"
             },
             "line": {
              "color": "white"
             }
            },
            "type": "table"
           }
          ]
         },
         "layout": {
          "annotationdefaults": {
           "arrowcolor": "#2a3f5f",
           "arrowhead": 0,
           "arrowwidth": 1
          },
          "autotypenumbers": "strict",
          "coloraxis": {
           "colorbar": {
            "outlinewidth": 0,
            "ticks": ""
           }
          },
          "colorscale": {
           "diverging": [
            [
             0,
             "#8e0152"
            ],
            [
             0.1,
             "#c51b7d"
            ],
            [
             0.2,
             "#de77ae"
            ],
            [
             0.3,
             "#f1b6da"
            ],
            [
             0.4,
             "#fde0ef"
            ],
            [
             0.5,
             "#f7f7f7"
            ],
            [
             0.6,
             "#e6f5d0"
            ],
            [
             0.7,
             "#b8e186"
            ],
            [
             0.8,
             "#7fbc41"
            ],
            [
             0.9,
             "#4d9221"
            ],
            [
             1,
             "#276419"
            ]
           ],
           "sequential": [
            [
             0,
             "#0d0887"
            ],
            [
             0.1111111111111111,
             "#46039f"
            ],
            [
             0.2222222222222222,
             "#7201a8"
            ],
            [
             0.3333333333333333,
             "#9c179e"
            ],
            [
             0.4444444444444444,
             "#bd3786"
            ],
            [
             0.5555555555555556,
             "#d8576b"
            ],
            [
             0.6666666666666666,
             "#ed7953"
            ],
            [
             0.7777777777777778,
             "#fb9f3a"
            ],
            [
             0.8888888888888888,
             "#fdca26"
            ],
            [
             1,
             "#f0f921"
            ]
           ],
           "sequentialminus": [
            [
             0,
             "#0d0887"
            ],
            [
             0.1111111111111111,
             "#46039f"
            ],
            [
             0.2222222222222222,
             "#7201a8"
            ],
            [
             0.3333333333333333,
             "#9c179e"
            ],
            [
             0.4444444444444444,
             "#bd3786"
            ],
            [
             0.5555555555555556,
             "#d8576b"
            ],
            [
             0.6666666666666666,
             "#ed7953"
            ],
            [
             0.7777777777777778,
             "#fb9f3a"
            ],
            [
             0.8888888888888888,
             "#fdca26"
            ],
            [
             1,
             "#f0f921"
            ]
           ]
          },
          "colorway": [
           "#636efa",
           "#EF553B",
           "#00cc96",
           "#ab63fa",
           "#FFA15A",
           "#19d3f3",
           "#FF6692",
           "#B6E880",
           "#FF97FF",
           "#FECB52"
          ],
          "font": {
           "color": "#2a3f5f"
          },
          "geo": {
           "bgcolor": "white",
           "lakecolor": "white",
           "landcolor": "#E5ECF6",
           "showlakes": true,
           "showland": true,
           "subunitcolor": "white"
          },
          "hoverlabel": {
           "align": "left"
          },
          "hovermode": "closest",
          "mapbox": {
           "style": "light"
          },
          "paper_bgcolor": "white",
          "plot_bgcolor": "#E5ECF6",
          "polar": {
           "angularaxis": {
            "gridcolor": "white",
            "linecolor": "white",
            "ticks": ""
           },
           "bgcolor": "#E5ECF6",
           "radialaxis": {
            "gridcolor": "white",
            "linecolor": "white",
            "ticks": ""
           }
          },
          "scene": {
           "xaxis": {
            "backgroundcolor": "#E5ECF6",
            "gridcolor": "white",
            "gridwidth": 2,
            "linecolor": "white",
            "showbackground": true,
            "ticks": "",
            "zerolinecolor": "white"
           },
           "yaxis": {
            "backgroundcolor": "#E5ECF6",
            "gridcolor": "white",
            "gridwidth": 2,
            "linecolor": "white",
            "showbackground": true,
            "ticks": "",
            "zerolinecolor": "white"
           },
           "zaxis": {
            "backgroundcolor": "#E5ECF6",
            "gridcolor": "white",
            "gridwidth": 2,
            "linecolor": "white",
            "showbackground": true,
            "ticks": "",
            "zerolinecolor": "white"
           }
          },
          "shapedefaults": {
           "line": {
            "color": "#2a3f5f"
           }
          },
          "ternary": {
           "aaxis": {
            "gridcolor": "white",
            "linecolor": "white",
            "ticks": ""
           },
           "baxis": {
            "gridcolor": "white",
            "linecolor": "white",
            "ticks": ""
           },
           "bgcolor": "#E5ECF6",
           "caxis": {
            "gridcolor": "white",
            "linecolor": "white",
            "ticks": ""
           }
          },
          "title": {
           "x": 0.05
          },
          "xaxis": {
           "automargin": true,
           "gridcolor": "white",
           "linecolor": "white",
           "ticks": "",
           "title": {
            "standoff": 15
           },
           "zerolinecolor": "white",
           "zerolinewidth": 2
          },
          "yaxis": {
           "automargin": true,
           "gridcolor": "white",
           "linecolor": "white",
           "ticks": "",
           "title": {
            "standoff": 15
           },
           "zerolinecolor": "white",
           "zerolinewidth": 2
          }
         }
        },
        "title": {
         "text": "Distribution of Text Lengths in Training Set"
        },
        "xaxis": {
         "anchor": "y",
         "domain": [
          0,
          1
         ],
         "title": {
          "text": "Text Length"
         }
        },
        "yaxis": {
         "anchor": "x",
         "domain": [
          0,
          1
         ],
         "title": {
          "text": "Count"
         }
        }
       }
      }
     },
     "metadata": {},
     "output_type": "display_data"
    }
   ],
   "source": [
    "# mean, min, max, and std of the length of the text in the training set\n",
    "text_length = train_df['Text'].apply(len)\n",
    "print(text_length.describe())\n",
    "\n",
    "# Visualize the distribution of text lengths in the training set\n",
    "fig = px.histogram(text_length, title='Distribution of Text Lengths in Training Set')\n",
    "fig.update_xaxes(title='Text Length')\n",
    "fig.update_yaxes(title='Count')\n",
    "fig.show()"
   ]
  },
  {
   "cell_type": "code",
   "execution_count": 15,
   "id": "84a4793e",
   "metadata": {},
   "outputs": [
    {
     "data": {
      "text/plain": [
       "0"
      ]
     },
     "execution_count": 15,
     "metadata": {},
     "output_type": "execute_result"
    }
   ],
   "source": [
    "train_df.duplicated().sum()"
   ]
  },
  {
   "cell_type": "markdown",
   "id": "7e968326",
   "metadata": {},
   "source": [
    "## Data Preprocessing\n",
    "\n",
    "I'll do some simple preprocessing steps to clean the text data. This includes:\n",
    "- Lowercasing the text\n",
    "- Removing punctuation\n",
    "- Tokenizing the text using NLTK\n",
    "\n"
   ]
  },
  {
   "cell_type": "code",
   "execution_count": 16,
   "id": "19c33b1e",
   "metadata": {},
   "outputs": [],
   "source": [
    "\n",
    "def clean_text(text):\n",
    "    text = text.lower()\n",
    "    text = re.sub(r'[^a-z0-9\\s]', '', text)\n",
    "    return text\n",
    "\n",
    "def tokenize(text):\n",
    "    return word_tokenize(text)\n",
    "\n",
    "df = train_df.copy(deep=True)\n",
    "df['text'] = df['Text'].astype(str) \n",
    "\n",
    "df['clean_text'] = df['text'].apply(clean_text)\n",
    "df['tokens'] = df['clean_text'].apply(tokenize)"
   ]
  },
  {
   "cell_type": "code",
   "execution_count": 17,
   "id": "74ea0240",
   "metadata": {},
   "outputs": [
    {
     "data": {
      "text/html": [
       "<div>\n",
       "<style scoped>\n",
       "    .dataframe tbody tr th:only-of-type {\n",
       "        vertical-align: middle;\n",
       "    }\n",
       "\n",
       "    .dataframe tbody tr th {\n",
       "        vertical-align: top;\n",
       "    }\n",
       "\n",
       "    .dataframe thead th {\n",
       "        text-align: right;\n",
       "    }\n",
       "</style>\n",
       "<table border=\"1\" class=\"dataframe\">\n",
       "  <thead>\n",
       "    <tr style=\"text-align: right;\">\n",
       "      <th></th>\n",
       "      <th>ArticleId</th>\n",
       "      <th>Text</th>\n",
       "      <th>Category</th>\n",
       "      <th>text</th>\n",
       "      <th>clean_text</th>\n",
       "      <th>tokens</th>\n",
       "    </tr>\n",
       "  </thead>\n",
       "  <tbody>\n",
       "    <tr>\n",
       "      <th>0</th>\n",
       "      <td>1833</td>\n",
       "      <td>worldcom ex-boss launches defence lawyers defe...</td>\n",
       "      <td>business</td>\n",
       "      <td>worldcom ex-boss launches defence lawyers defe...</td>\n",
       "      <td>worldcom exboss launches defence lawyers defen...</td>\n",
       "      <td>[worldcom, exboss, launches, defence, lawyers,...</td>\n",
       "    </tr>\n",
       "    <tr>\n",
       "      <th>1</th>\n",
       "      <td>154</td>\n",
       "      <td>german business confidence slides german busin...</td>\n",
       "      <td>business</td>\n",
       "      <td>german business confidence slides german busin...</td>\n",
       "      <td>german business confidence slides german busin...</td>\n",
       "      <td>[german, business, confidence, slides, german,...</td>\n",
       "    </tr>\n",
       "    <tr>\n",
       "      <th>2</th>\n",
       "      <td>1101</td>\n",
       "      <td>bbc poll indicates economic gloom citizens in ...</td>\n",
       "      <td>business</td>\n",
       "      <td>bbc poll indicates economic gloom citizens in ...</td>\n",
       "      <td>bbc poll indicates economic gloom citizens in ...</td>\n",
       "      <td>[bbc, poll, indicates, economic, gloom, citize...</td>\n",
       "    </tr>\n",
       "    <tr>\n",
       "      <th>3</th>\n",
       "      <td>1976</td>\n",
       "      <td>lifestyle  governs mobile choice  faster  bett...</td>\n",
       "      <td>tech</td>\n",
       "      <td>lifestyle  governs mobile choice  faster  bett...</td>\n",
       "      <td>lifestyle  governs mobile choice  faster  bett...</td>\n",
       "      <td>[lifestyle, governs, mobile, choice, faster, b...</td>\n",
       "    </tr>\n",
       "    <tr>\n",
       "      <th>4</th>\n",
       "      <td>917</td>\n",
       "      <td>enron bosses in $168m payout eighteen former e...</td>\n",
       "      <td>business</td>\n",
       "      <td>enron bosses in $168m payout eighteen former e...</td>\n",
       "      <td>enron bosses in 168m payout eighteen former en...</td>\n",
       "      <td>[enron, bosses, in, 168m, payout, eighteen, fo...</td>\n",
       "    </tr>\n",
       "    <tr>\n",
       "      <th>...</th>\n",
       "      <td>...</td>\n",
       "      <td>...</td>\n",
       "      <td>...</td>\n",
       "      <td>...</td>\n",
       "      <td>...</td>\n",
       "      <td>...</td>\n",
       "    </tr>\n",
       "    <tr>\n",
       "      <th>1485</th>\n",
       "      <td>857</td>\n",
       "      <td>double eviction from big brother model caprice...</td>\n",
       "      <td>entertainment</td>\n",
       "      <td>double eviction from big brother model caprice...</td>\n",
       "      <td>double eviction from big brother model caprice...</td>\n",
       "      <td>[double, eviction, from, big, brother, model, ...</td>\n",
       "    </tr>\n",
       "    <tr>\n",
       "      <th>1486</th>\n",
       "      <td>325</td>\n",
       "      <td>dj double act revamp chart show dj duo jk and ...</td>\n",
       "      <td>entertainment</td>\n",
       "      <td>dj double act revamp chart show dj duo jk and ...</td>\n",
       "      <td>dj double act revamp chart show dj duo jk and ...</td>\n",
       "      <td>[dj, double, act, revamp, chart, show, dj, duo...</td>\n",
       "    </tr>\n",
       "    <tr>\n",
       "      <th>1487</th>\n",
       "      <td>1590</td>\n",
       "      <td>weak dollar hits reuters revenues at media gro...</td>\n",
       "      <td>business</td>\n",
       "      <td>weak dollar hits reuters revenues at media gro...</td>\n",
       "      <td>weak dollar hits reuters revenues at media gro...</td>\n",
       "      <td>[weak, dollar, hits, reuters, revenues, at, me...</td>\n",
       "    </tr>\n",
       "    <tr>\n",
       "      <th>1488</th>\n",
       "      <td>1587</td>\n",
       "      <td>apple ipod family expands market apple has exp...</td>\n",
       "      <td>tech</td>\n",
       "      <td>apple ipod family expands market apple has exp...</td>\n",
       "      <td>apple ipod family expands market apple has exp...</td>\n",
       "      <td>[apple, ipod, family, expands, market, apple, ...</td>\n",
       "    </tr>\n",
       "    <tr>\n",
       "      <th>1489</th>\n",
       "      <td>538</td>\n",
       "      <td>santy worm makes unwelcome visit thousands of ...</td>\n",
       "      <td>tech</td>\n",
       "      <td>santy worm makes unwelcome visit thousands of ...</td>\n",
       "      <td>santy worm makes unwelcome visit thousands of ...</td>\n",
       "      <td>[santy, worm, makes, unwelcome, visit, thousan...</td>\n",
       "    </tr>\n",
       "  </tbody>\n",
       "</table>\n",
       "<p>1490 rows × 6 columns</p>\n",
       "</div>"
      ],
      "text/plain": [
       "      ArticleId                                               Text  \\\n",
       "0          1833  worldcom ex-boss launches defence lawyers defe...   \n",
       "1           154  german business confidence slides german busin...   \n",
       "2          1101  bbc poll indicates economic gloom citizens in ...   \n",
       "3          1976  lifestyle  governs mobile choice  faster  bett...   \n",
       "4           917  enron bosses in $168m payout eighteen former e...   \n",
       "...         ...                                                ...   \n",
       "1485        857  double eviction from big brother model caprice...   \n",
       "1486        325  dj double act revamp chart show dj duo jk and ...   \n",
       "1487       1590  weak dollar hits reuters revenues at media gro...   \n",
       "1488       1587  apple ipod family expands market apple has exp...   \n",
       "1489        538  santy worm makes unwelcome visit thousands of ...   \n",
       "\n",
       "           Category                                               text  \\\n",
       "0          business  worldcom ex-boss launches defence lawyers defe...   \n",
       "1          business  german business confidence slides german busin...   \n",
       "2          business  bbc poll indicates economic gloom citizens in ...   \n",
       "3              tech  lifestyle  governs mobile choice  faster  bett...   \n",
       "4          business  enron bosses in $168m payout eighteen former e...   \n",
       "...             ...                                                ...   \n",
       "1485  entertainment  double eviction from big brother model caprice...   \n",
       "1486  entertainment  dj double act revamp chart show dj duo jk and ...   \n",
       "1487       business  weak dollar hits reuters revenues at media gro...   \n",
       "1488           tech  apple ipod family expands market apple has exp...   \n",
       "1489           tech  santy worm makes unwelcome visit thousands of ...   \n",
       "\n",
       "                                             clean_text  \\\n",
       "0     worldcom exboss launches defence lawyers defen...   \n",
       "1     german business confidence slides german busin...   \n",
       "2     bbc poll indicates economic gloom citizens in ...   \n",
       "3     lifestyle  governs mobile choice  faster  bett...   \n",
       "4     enron bosses in 168m payout eighteen former en...   \n",
       "...                                                 ...   \n",
       "1485  double eviction from big brother model caprice...   \n",
       "1486  dj double act revamp chart show dj duo jk and ...   \n",
       "1487  weak dollar hits reuters revenues at media gro...   \n",
       "1488  apple ipod family expands market apple has exp...   \n",
       "1489  santy worm makes unwelcome visit thousands of ...   \n",
       "\n",
       "                                                 tokens  \n",
       "0     [worldcom, exboss, launches, defence, lawyers,...  \n",
       "1     [german, business, confidence, slides, german,...  \n",
       "2     [bbc, poll, indicates, economic, gloom, citize...  \n",
       "3     [lifestyle, governs, mobile, choice, faster, b...  \n",
       "4     [enron, bosses, in, 168m, payout, eighteen, fo...  \n",
       "...                                                 ...  \n",
       "1485  [double, eviction, from, big, brother, model, ...  \n",
       "1486  [dj, double, act, revamp, chart, show, dj, duo...  \n",
       "1487  [weak, dollar, hits, reuters, revenues, at, me...  \n",
       "1488  [apple, ipod, family, expands, market, apple, ...  \n",
       "1489  [santy, worm, makes, unwelcome, visit, thousan...  \n",
       "\n",
       "[1490 rows x 6 columns]"
      ]
     },
     "execution_count": 17,
     "metadata": {},
     "output_type": "execute_result"
    }
   ],
   "source": [
    "df"
   ]
  },
  {
   "cell_type": "markdown",
   "id": "393cf1ed",
   "metadata": {},
   "source": [
    "## Unique Tokens\n",
    "\n",
    "Let's take a look at the unique tokens in the training set after preprocessing. This will give us an idea of the vocabulary size and the diversity of the text data."
   ]
  },
  {
   "cell_type": "code",
   "execution_count": 18,
   "id": "4fc15905",
   "metadata": {},
   "outputs": [
    {
     "name": "stdout",
     "output_type": "stream",
     "text": [
      "Number of unique tokens in the training set: 27278\n"
     ]
    }
   ],
   "source": [
    "# number of unique tokens in the training set\n",
    "unique_tokens = set()\n",
    "for tokens in df['tokens']:\n",
    "    unique_tokens.update(tokens)\n",
    "\n",
    "print(f\"Number of unique tokens in the training set: {len(unique_tokens)}\")"
   ]
  },
  {
   "cell_type": "markdown",
   "id": "fd30838c",
   "metadata": {},
   "source": [
    "## Document Vectors\n",
    "\n",
    "Now, I use GloVe to convert the acquired tokens into document vectors. GloVe provides pre-trained word vectors that can be used to represent words in a continuous vector space, However, for our unsupervised learning task, we need to have vector for each document, not for each word. To achieve this, I will average the word vectors of all tokens in a document to create a single vector representation for that document."
   ]
  },
  {
   "cell_type": "code",
   "execution_count": 19,
   "id": "28b0afe3",
   "metadata": {},
   "outputs": [],
   "source": [
    "def get_document_vector(tokens, embedding_index, dim):\n",
    "    \"\"\"\n",
    "    Get the document vector for a list of tokens using the GloVe embedding index.\n",
    "    If a token is not found in the embedding index, it is ignored.\n",
    "    If no tokens are found, a zero vector of the specified dimension is returned.\n",
    "    Args:\n",
    "        tokens (list): List of tokens (words) from the document.\n",
    "        embedding_index (dict): Dictionary mapping tokens to their GloVe vectors.\n",
    "        dim (int): Dimension of the GloVe vectors (default is 100).\n",
    "    Returns:\n",
    "        np.ndarray: A vector representing the document, averaged from the GloVe vectors of the tokens.\n",
    "        If no tokens are found in the embedding index, returns a zero vector of the specified\n",
    "    \"\"\"\n",
    "    vecs = []\n",
    "    for token in tokens:\n",
    "        if token in embedding_index:\n",
    "            vecs.append(embedding_index[token])\n",
    "    if len(vecs) > 0:\n",
    "        return np.mean(vecs, axis=0)\n",
    "    else:\n",
    "        return np.zeros(dim)\n",
    "\n",
    "df['doc_vector'] = df['tokens'].apply(lambda x: get_document_vector(x, glove_model, dim=100))"
   ]
  },
  {
   "cell_type": "code",
   "execution_count": 20,
   "id": "e0b9183f",
   "metadata": {},
   "outputs": [
    {
     "data": {
      "text/html": [
       "<div>\n",
       "<style scoped>\n",
       "    .dataframe tbody tr th:only-of-type {\n",
       "        vertical-align: middle;\n",
       "    }\n",
       "\n",
       "    .dataframe tbody tr th {\n",
       "        vertical-align: top;\n",
       "    }\n",
       "\n",
       "    .dataframe thead th {\n",
       "        text-align: right;\n",
       "    }\n",
       "</style>\n",
       "<table border=\"1\" class=\"dataframe\">\n",
       "  <thead>\n",
       "    <tr style=\"text-align: right;\">\n",
       "      <th></th>\n",
       "      <th>ArticleId</th>\n",
       "      <th>Text</th>\n",
       "      <th>Category</th>\n",
       "      <th>text</th>\n",
       "      <th>clean_text</th>\n",
       "      <th>tokens</th>\n",
       "      <th>doc_vector</th>\n",
       "    </tr>\n",
       "  </thead>\n",
       "  <tbody>\n",
       "    <tr>\n",
       "      <th>0</th>\n",
       "      <td>1833</td>\n",
       "      <td>worldcom ex-boss launches defence lawyers defe...</td>\n",
       "      <td>business</td>\n",
       "      <td>worldcom ex-boss launches defence lawyers defe...</td>\n",
       "      <td>worldcom exboss launches defence lawyers defen...</td>\n",
       "      <td>[worldcom, exboss, launches, defence, lawyers,...</td>\n",
       "      <td>[0.0881027, -0.072838455, 0.22837983, -0.15146...</td>\n",
       "    </tr>\n",
       "    <tr>\n",
       "      <th>1</th>\n",
       "      <td>154</td>\n",
       "      <td>german business confidence slides german busin...</td>\n",
       "      <td>business</td>\n",
       "      <td>german business confidence slides german busin...</td>\n",
       "      <td>german business confidence slides german busin...</td>\n",
       "      <td>[german, business, confidence, slides, german,...</td>\n",
       "      <td>[0.011770573, 0.14082459, 0.2959648, -0.077304...</td>\n",
       "    </tr>\n",
       "    <tr>\n",
       "      <th>2</th>\n",
       "      <td>1101</td>\n",
       "      <td>bbc poll indicates economic gloom citizens in ...</td>\n",
       "      <td>business</td>\n",
       "      <td>bbc poll indicates economic gloom citizens in ...</td>\n",
       "      <td>bbc poll indicates economic gloom citizens in ...</td>\n",
       "      <td>[bbc, poll, indicates, economic, gloom, citize...</td>\n",
       "      <td>[-0.055196114, 0.19540092, 0.33485386, -0.1419...</td>\n",
       "    </tr>\n",
       "    <tr>\n",
       "      <th>3</th>\n",
       "      <td>1976</td>\n",
       "      <td>lifestyle  governs mobile choice  faster  bett...</td>\n",
       "      <td>tech</td>\n",
       "      <td>lifestyle  governs mobile choice  faster  bett...</td>\n",
       "      <td>lifestyle  governs mobile choice  faster  bett...</td>\n",
       "      <td>[lifestyle, governs, mobile, choice, faster, b...</td>\n",
       "      <td>[-0.105643936, 0.13858151, 0.27540573, -0.1671...</td>\n",
       "    </tr>\n",
       "    <tr>\n",
       "      <th>4</th>\n",
       "      <td>917</td>\n",
       "      <td>enron bosses in $168m payout eighteen former e...</td>\n",
       "      <td>business</td>\n",
       "      <td>enron bosses in $168m payout eighteen former e...</td>\n",
       "      <td>enron bosses in 168m payout eighteen former en...</td>\n",
       "      <td>[enron, bosses, in, 168m, payout, eighteen, fo...</td>\n",
       "      <td>[0.11647683, 0.012706946, 0.2649862, -0.147849...</td>\n",
       "    </tr>\n",
       "    <tr>\n",
       "      <th>...</th>\n",
       "      <td>...</td>\n",
       "      <td>...</td>\n",
       "      <td>...</td>\n",
       "      <td>...</td>\n",
       "      <td>...</td>\n",
       "      <td>...</td>\n",
       "      <td>...</td>\n",
       "    </tr>\n",
       "    <tr>\n",
       "      <th>1485</th>\n",
       "      <td>857</td>\n",
       "      <td>double eviction from big brother model caprice...</td>\n",
       "      <td>entertainment</td>\n",
       "      <td>double eviction from big brother model caprice...</td>\n",
       "      <td>double eviction from big brother model caprice...</td>\n",
       "      <td>[double, eviction, from, big, brother, model, ...</td>\n",
       "      <td>[-0.058606397, 0.020778334, 0.30748582, -0.302...</td>\n",
       "    </tr>\n",
       "    <tr>\n",
       "      <th>1486</th>\n",
       "      <td>325</td>\n",
       "      <td>dj double act revamp chart show dj duo jk and ...</td>\n",
       "      <td>entertainment</td>\n",
       "      <td>dj double act revamp chart show dj duo jk and ...</td>\n",
       "      <td>dj double act revamp chart show dj duo jk and ...</td>\n",
       "      <td>[dj, double, act, revamp, chart, show, dj, duo...</td>\n",
       "      <td>[-0.1355775, 0.105269626, 0.33229253, -0.25106...</td>\n",
       "    </tr>\n",
       "    <tr>\n",
       "      <th>1487</th>\n",
       "      <td>1590</td>\n",
       "      <td>weak dollar hits reuters revenues at media gro...</td>\n",
       "      <td>business</td>\n",
       "      <td>weak dollar hits reuters revenues at media gro...</td>\n",
       "      <td>weak dollar hits reuters revenues at media gro...</td>\n",
       "      <td>[weak, dollar, hits, reuters, revenues, at, me...</td>\n",
       "      <td>[0.00079907634, 0.03381798, 0.24186508, -0.139...</td>\n",
       "    </tr>\n",
       "    <tr>\n",
       "      <th>1488</th>\n",
       "      <td>1587</td>\n",
       "      <td>apple ipod family expands market apple has exp...</td>\n",
       "      <td>tech</td>\n",
       "      <td>apple ipod family expands market apple has exp...</td>\n",
       "      <td>apple ipod family expands market apple has exp...</td>\n",
       "      <td>[apple, ipod, family, expands, market, apple, ...</td>\n",
       "      <td>[-0.050727844, 0.12790911, 0.3013645, -0.20063...</td>\n",
       "    </tr>\n",
       "    <tr>\n",
       "      <th>1489</th>\n",
       "      <td>538</td>\n",
       "      <td>santy worm makes unwelcome visit thousands of ...</td>\n",
       "      <td>tech</td>\n",
       "      <td>santy worm makes unwelcome visit thousands of ...</td>\n",
       "      <td>santy worm makes unwelcome visit thousands of ...</td>\n",
       "      <td>[santy, worm, makes, unwelcome, visit, thousan...</td>\n",
       "      <td>[-0.100868404, 0.08989337, 0.22266129, -0.2078...</td>\n",
       "    </tr>\n",
       "  </tbody>\n",
       "</table>\n",
       "<p>1490 rows × 7 columns</p>\n",
       "</div>"
      ],
      "text/plain": [
       "      ArticleId                                               Text  \\\n",
       "0          1833  worldcom ex-boss launches defence lawyers defe...   \n",
       "1           154  german business confidence slides german busin...   \n",
       "2          1101  bbc poll indicates economic gloom citizens in ...   \n",
       "3          1976  lifestyle  governs mobile choice  faster  bett...   \n",
       "4           917  enron bosses in $168m payout eighteen former e...   \n",
       "...         ...                                                ...   \n",
       "1485        857  double eviction from big brother model caprice...   \n",
       "1486        325  dj double act revamp chart show dj duo jk and ...   \n",
       "1487       1590  weak dollar hits reuters revenues at media gro...   \n",
       "1488       1587  apple ipod family expands market apple has exp...   \n",
       "1489        538  santy worm makes unwelcome visit thousands of ...   \n",
       "\n",
       "           Category                                               text  \\\n",
       "0          business  worldcom ex-boss launches defence lawyers defe...   \n",
       "1          business  german business confidence slides german busin...   \n",
       "2          business  bbc poll indicates economic gloom citizens in ...   \n",
       "3              tech  lifestyle  governs mobile choice  faster  bett...   \n",
       "4          business  enron bosses in $168m payout eighteen former e...   \n",
       "...             ...                                                ...   \n",
       "1485  entertainment  double eviction from big brother model caprice...   \n",
       "1486  entertainment  dj double act revamp chart show dj duo jk and ...   \n",
       "1487       business  weak dollar hits reuters revenues at media gro...   \n",
       "1488           tech  apple ipod family expands market apple has exp...   \n",
       "1489           tech  santy worm makes unwelcome visit thousands of ...   \n",
       "\n",
       "                                             clean_text  \\\n",
       "0     worldcom exboss launches defence lawyers defen...   \n",
       "1     german business confidence slides german busin...   \n",
       "2     bbc poll indicates economic gloom citizens in ...   \n",
       "3     lifestyle  governs mobile choice  faster  bett...   \n",
       "4     enron bosses in 168m payout eighteen former en...   \n",
       "...                                                 ...   \n",
       "1485  double eviction from big brother model caprice...   \n",
       "1486  dj double act revamp chart show dj duo jk and ...   \n",
       "1487  weak dollar hits reuters revenues at media gro...   \n",
       "1488  apple ipod family expands market apple has exp...   \n",
       "1489  santy worm makes unwelcome visit thousands of ...   \n",
       "\n",
       "                                                 tokens  \\\n",
       "0     [worldcom, exboss, launches, defence, lawyers,...   \n",
       "1     [german, business, confidence, slides, german,...   \n",
       "2     [bbc, poll, indicates, economic, gloom, citize...   \n",
       "3     [lifestyle, governs, mobile, choice, faster, b...   \n",
       "4     [enron, bosses, in, 168m, payout, eighteen, fo...   \n",
       "...                                                 ...   \n",
       "1485  [double, eviction, from, big, brother, model, ...   \n",
       "1486  [dj, double, act, revamp, chart, show, dj, duo...   \n",
       "1487  [weak, dollar, hits, reuters, revenues, at, me...   \n",
       "1488  [apple, ipod, family, expands, market, apple, ...   \n",
       "1489  [santy, worm, makes, unwelcome, visit, thousan...   \n",
       "\n",
       "                                             doc_vector  \n",
       "0     [0.0881027, -0.072838455, 0.22837983, -0.15146...  \n",
       "1     [0.011770573, 0.14082459, 0.2959648, -0.077304...  \n",
       "2     [-0.055196114, 0.19540092, 0.33485386, -0.1419...  \n",
       "3     [-0.105643936, 0.13858151, 0.27540573, -0.1671...  \n",
       "4     [0.11647683, 0.012706946, 0.2649862, -0.147849...  \n",
       "...                                                 ...  \n",
       "1485  [-0.058606397, 0.020778334, 0.30748582, -0.302...  \n",
       "1486  [-0.1355775, 0.105269626, 0.33229253, -0.25106...  \n",
       "1487  [0.00079907634, 0.03381798, 0.24186508, -0.139...  \n",
       "1488  [-0.050727844, 0.12790911, 0.3013645, -0.20063...  \n",
       "1489  [-0.100868404, 0.08989337, 0.22266129, -0.2078...  \n",
       "\n",
       "[1490 rows x 7 columns]"
      ]
     },
     "execution_count": 20,
     "metadata": {},
     "output_type": "execute_result"
    }
   ],
   "source": [
    "df"
   ]
  },
  {
   "cell_type": "markdown",
   "id": "91a9acfc",
   "metadata": {},
   "source": [
    "## Principle Component Analysis (PCA)\n",
    "\n",
    "I will use PCA to extract the most important features from the document vectors. Following plot shows the first two principal components of the document vectors. This will help us visualize the data and understand the distribution of the documents in the vector space."
   ]
  },
  {
   "cell_type": "code",
   "execution_count": 34,
   "id": "c17d3eb6",
   "metadata": {},
   "outputs": [
    {
     "name": "stdout",
     "output_type": "stream",
     "text": [
      "(1490, 100)\n"
     ]
    },
    {
     "data": {
      "application/vnd.plotly.v1+json": {
       "config": {
        "plotlyServerURL": "https://plot.ly"
       },
       "data": [
        {
         "hovertemplate": "Category=business<br>PCA Component 1=%{x}<br>PCA Component 2=%{y}<extra></extra>",
         "legendgroup": "business",
         "marker": {
          "color": "#636efa",
          "symbol": "circle"
         },
         "mode": "markers",
         "name": "business",
         "showlegend": true,
         "type": "scattergl",
         "x": {
          "bdata": "MMccPnCjCD9wOZM+LJegPrRsxD6sctE+sLX1Pqwy9z5AkvI+WjUBP9A7yT6wCqQ9NGMLP9AhVT7cn+c+pLz1PnjTkT6I3uU+wHPCPviXgj4wEKU+gLR6PirMAD9KPQc/RDfMPrwvmD6EtRo/wDD/PhxpzD6QoPo+dJPPPramDD+gWnY9pPjCPvixVr7Ek9A+kGvoPoqqHT/QxLo+ZuENP0B1/j6YnYI+pBAPP4SxzT4gOxE/3D/5PiAI6D5wzJ8+ABfwPnTm+j7Ywrg+ppQaP4iAHD9EaSE/eIuPveiKwD6osJI++Nj+PrgQxj5gzeg+YGXdPoi1aD747K8+dBLIPoBX5z4wdP0+IqMUP5Br5D44IP0+DEv6PvAMvD4m4wc/xF4HP+6vDj902Lo+LIXrPhJJBz/8a9g+SGmIPu7iDj+6FhU/CNv+PsAv9z4MV74+kKgbPqhh5T7QI4I+UOuoPhwumj5QxHK9EGHxPoC4LT7AWsY+MEyLPpRQ6D4Qs+8+xKXHPnSl6T7I6xw+QOurPjQsKz8K+gY/CI2mPhYhGj+ARgQ/pEfYPmb3Gj8apAk/5JErP6xl+T4gFsE+FKuDPoxL6T5w//o9aKjlPg4NBj9g6aw+lP60PkB9xT7oafY+2DYgPrgVtz4E3oA+kDJyPgBAjzw8htE+PgADP8h5+D78sIU+IEkVP7Tc9D5I5gM/EDKDPrgjpj7SCh4/bCwLP6Cv3T6ICyA+jAbaPiwsrj54vXg+8OTPPciHFD9ka/U+IFPsPoDwuD4OeAw/bG/mPoxfpD5kbjA/yv0hPy6GHj/W7wo/AJQ3unw37j5QMik+1MYBP5CXoD4QXoE+MHdAPlSBxz5UJJw+SOvyPpCInT7cFvg+oKnKPqTO4z7yIgc/5LzuPsidjT7MAcc+AI0wPtjL6j6A3X89dK6/Pmx5xD7YRJk+FMCMPhi20z5iczk/INLkPtDQGT/M6Zc+5swRP1QOpD4MxBg/NDISP9ijRT4AQwo+nJvlPjxB3z7gFus+fIHKPqo1Bj9QirY+EAPYPnBPKT4UbLU+uIjUPrA+lj1cNQo/5ADYPpgd7T54YOs+AI79Pg5ICD/0y9U+PKPPPogT5T7kZ9s+dJTdPrA56z7Udsg+fE2+PqRm6D4sgP8+0HHpPsDCBz8whxM/QFnUPhQjJz9I1Qk/QHrhPpgP6j4UAf8+hNwDPyCrWj5QsHE+tOrGPsR37j4QAP4+DMbuPsS5oz6k5wg/LM3hPlJUIj8S+xU/VI68PjRTwT7gyGQ+cN76PkBF3T58YxU/nDoBP6zg1j6QEQE/kPTiPtRj+j5YuPE+iMrcPtx5+T5oV88+YloFP2x5iz6c18o+QMrhPqhovz7cWQY/iG0QP3h57j5wM6I+WG7cPgA3Hj9M9Zs+kE38PVBopT5g/ao+oLHKPoBFkT7MacU+5LC6PoC61LzMqPM+GKwZP6gAYT5guL8+2CD+PkituT6g7so+TLbMPhTk/D4e3QE/1FgDPzwisD6gzwA/RKCzPpLSFD/Ee9k+wB0hvNg37D4SdwU/KCSgPjSz0z6u2QE/zOnUPhyrFz8gUs4+VJW2PmjxSD7g4wQ/uAThPnz1tj500d4+cFYePoj0HD7wZwo+uDijPrwfDz/MEqs+0LDYPoCvLT4wbfc9UN4HP6iVzD6UJQY/wI70PkYyCT/AGmS8wKCwPawnnz5we90+WJAdP2o9Dz8Yt08+OCLIPiihkz5o1sM+fE3xPhCz7z6YgNs+GCL8PqCsyT64M/8+WD23PvLKET8IreA+",
          "dtype": "f4"
         },
         "xaxis": "x",
         "y": {
          "bdata": "KHUGPiStgD4AMeI7MIECPrHAQD/gD7Q+NN+7PlhMTj7w9hU+eAdrPhBjij3AR1A+dF2dPpD2Nr60/7w+lMriPrjiBD5gLjw+RJsDP9AR2T5AbTA9ALWaOzgCIz5APLQ9BF2LPqQvij5wxlo+wApePbjR+T5A9oU8QLp1PQLODj/QasK9QJVFvtgyDj7QYb4+CJfcPpA7UL4kR6U+TFC/PmAWfD3IEzs+JBD3PpSkhj7Q0ZA91KnfPkBrwbwgMvI94EAGP8BMkT0Qnh4+xLgCP4CyBj2w/sa9wAk6vZDM6z1wfZO+wFOXvEy8sD4AoN+7qKIlPhDpuj4Oj1o/qNLtPqY3Ij8WxQQ/1NivPhwIhj44pTA+4POmPvjBsz64PQU/4NXiPlgkKD/gJVU+8BB5PgzukT5YEKk+SEFuPoBznz2EE4c+wEzLPoiBcj6gUC69YCeYPTD9pz5AzGk9qHmqPkA3Bj+21Bs/oC8gPsDYcb0ISYc+KMWBPtj2ez4IsqM+nFrLPpBnFz4wn0o+TDK0PkC9mTy4p9g+FC+7PoAq/L0AHL89IK9svdgIRj8AgA864mcXPyQ5rz58DpI+AOggvqDf7z54xyU+4CUgPaCHm70Am/y7wBTXvWKICD+Ac4s8ZN8JP+QWgr6AwPY91D3VPkBGrbyItys+eC9+PkBvgzzA81w+oNtZPaD1XD2wNqm92Or7Pjh5bT6mqxk/cIOUPUCMS70gYiU+XPuXPpiTIz/A0KY9sAELvuBpzT6IdV0+7NOkPoAoWD7o1X4+ALnKuzhDaT7gupU+KJogPkgR7z6wRga+GMAdvqAxZD7QqQw+kN3dPWi7qD5g4YK9iCIXPpzp7T4A2sg8APy5PYAqor3k5oI+eBScPkAwsLx0Kck+QECHvAROhD6ABHw8CJXGPpAFbj5A6EI9+PD8PsgdQL6gFiU9+DuNPtB6072gV0U+0BH9PaDnbD6WnQU/MHDhPfj+aj6QIqw9WHbEPpZBBz/wL9O94E4zvjB4kr2kpy0/YIHZPez4hj4g2UA+CNMnPgDzsD1gUJ89QPcBPcBJmTxw29s+AAsuPVg2fT7Yyv8+QHmMPWwIvT5YZ9Q+HgcFP5xwgD6w7Y4+WM34PiBbdz5EnB8/gIu6PACm472cZJk+MHUnvrDx1j6AbTq+QBYHPQyujz6ATSk+wPxYPZCc6j1A2aW8iAIdP2APID1gL7q9VLOWPgAmbbu4gzw+0NPrPeAgyj2A/688/OTKPuCDgD1ID8w+sGuTPgAD9D1gHJa9YDb/PfS+gj7OaAA/oJaIvUCcDT/E3+g+wOL7vGirjj7clgk/0P6zvfRRjD4wxQO+gOjOPERmlD7sLIY+UAD9PaC8Mz4UPLg+kJiPPuQLlj7sEL4+oFbivWSBgD7gY8k9eFKEPsjSlT6AZxm9YLMPvQD5xjtA9s08BJcfP7hi2z7Al6c92DQ5PphFnD5oHFc+gFRaPeDsYT0wsms+kJMHPhhqcT4w2ss+QGmtPfjOOT4gQ7c9QBN4PQTNpT7AJiw+QDTqvQBkLLzwWuO9hKrGPiCSGL7Y7G4+cH8pvthykT4Sph0/gEmpPNgye77Aaou8gEl2PUx81T40aPA+kuwAP1AzCz7QFu69YDyBvRxzkD5mmR0/cAXOPmKPJD/YlQY+gB8EPpAfBj9ggke9NPWlPgBr5z5ASUq9AIxWvMD7wz74yWA+wE1FvjjCMr4A7sw8oKU3PQCPszt4bcA+gBTdPgiyoz6sXKM++OdaPpisRz7039o+MCZSPtgZtT5o7qo+",
          "dtype": "f4"
         },
         "yaxis": "y"
        },
        {
         "hovertemplate": "Category=tech<br>PCA Component 1=%{x}<br>PCA Component 2=%{y}<extra></extra>",
         "legendgroup": "tech",
         "marker": {
          "color": "#EF553B",
          "symbol": "circle"
         },
         "mode": "markers",
         "name": "tech",
         "showlegend": true,
         "type": "scattergl",
         "x": {
          "bdata": "VMSdPpxwgT4ESt0+VBC3PphRbj5cn7E+MC7GPUBFEz6+qRE/uJrkPkDjVL0YsEE+ZEekPjA31D3oVW0+MA2kPuCHrj6AxU0+gC7LvbCk5T70jOU+gMBpPsBvlDxgHfA9uEUDP/gOHD4sOOM+sCyXPmC0nT50neA+7AvrPgxP7j6YlKw+rID8PoRn0z50neA+cPKKPoA/Cj5IuEI+wI0gPtj/xz5wMoU+8GLpPniZxj48ufk+YEyNPST7hj68oI4+bAeVPgAvWz6IIJk+gOv4PoggmT7Yz2k+9NSJPoAEdjzE5sE+mI0rPtBS6j6o3HS+sEtyPjxK3z5QbpQ+wL0mPvgDmD6Mgqs+3DG0PsyKzz74hby9ANG/PKCUIj5waKs+pEa9PsS0rD6sjJ8+aAEkvrjNkj4Ak6E9oM1TPWDInj4g/rc+YDwnPex2nj5AIbg+eB9CPtClTj5k0KU+cPKKPmBQsD50npE+cMfXvebUIz9waKs+0NBuPrh8BT74XEU+oLKavbhDzr2EDOM+uJk3PkAAgTxAyBQ+JvIUP5iHWD4okJk+ZKWYPmizfz6kzKs+8Cc9vYzqsT7wugY+/CyOPlys2T58y5w+cB58veD5iz4k+4Y+NJG7PoSriz4w07Q+sEt1Ppwx8z6YdR8+ZgEPP9TB+z58tKc+nLLwPnQuBD9wXGY+oG9yPtjwvD6MlI0+4EqnPpRarD4Qf6Q+LOe4PoQM4z6kBC6+4IeuPrygjj4Mx/A+YAZOPlBL7j4ow0A+pBW0Pvwx3j48St8+fPT6Po45AT/gVLi8hHjJPjSZsD6gm1Y9UEvuPijDQD44yRk+eNMIPsCcrD4oIT0+kNLmPXgA+z50v5Y+MDFHPuT4mz5wWvY+sPCpPqiMeD4EiK4+UFDKPngqUj7YiYY+4CgAPvxT9z7YPMo+eAD7PjhsAD9AIbg+aBQVPiT35T4AaPc9VNC0PtBcH72Exas+sKTlPqDsej1AfMo8uHwFPtDQbj5gpnY+mEXEPvDYvT7Eks4+4P9kPjjeMj74LNk+sEC5PjDiBj7IZvE+CIRdvoQauz4orLc+sGrkPgiEXb6kKBU/UDpHvUhLrz5k/9g+pBW0PvTUiT5wz8g+xEWGPqzKtz7MI7M+TBWNPgyyvz6AXLY+aC/hPijJfD4MDNc+DIOIPlBlzD3QHKI+bAQDPwAtHz4ISr4+nDHzPoAEdjwUuN8+4DF7PpwPvD7EO5U+AJOhPYx9oT6sCqg+4NNLPkDO7DxgDxk9xObBPmAHub18Ab4+fPT6Por/AT/Ywvo+8LUIP5TPsD4oyXw+cB58vWQ74j7gtBI9jAGxPjA31D0ASP86SEuvPgA8cT448a8++P5zPtggxj6w8IY9dM63PmSesj6c/5A+",
          "dtype": "f4"
         },
         "xaxis": "x",
         "y": {
          "bdata": "ONxUvtCQoz3AEfE8ECyJvQDP2jvwyFI+2H0tPmD8xL0URYI+KKsUPpACvD7kVdA+IEMhPRg3lb5Qnr29gHPmPEC8HD5IBai+IO4TPeDAo77QYsS9QOHBvIC2Ej1gFB++CN9jvrDkxb4QoBc+6Gurvijvkj7gVQ++IDBdvpg2Ez6Ac2y8oHJLvdAA8r3gVQ++cHwvvqDSYD4AJAc9qHClPqDUN75AaTW+yA+aPsAV47wQ3q09UBz4PQi3Xb6QnUk+uGViviCgaL1gDKC9WK5gPmAMoL1g38S9uAFVPqA5kT3g1+E98ETsvaBrFr3AR9o+kHKEvhj/n74QtUi+cC/EvgBiujxg8rK+sOoAPsCri7wQgpq9YGmxvUBN57wwyvM9iLgpPpBJz77wgFe+QK/pvcAGsb2YojG+cHJ7vtD6Rr7wd+u9QNFgPQCChjwozAM+WLkbPijQAj7gXjU9cHwvvvBlyz5AEsI8uDcYvuBXSz0wyvM9gBERPSgbqj4ovWI+0McxvjgDVr6AAAg+IPtNvqAqmT0QytA9cOzBPrhzvD5oNBO+KE0gvjAAJj5wkec9YBocvogvC74ABO080LCSPTDq7z3QrEO+wBRfvQAzvrsIt12+oC4pPpAlkL1YeQs+4IEFPWAcIT3oB6I+QC0DvtBQP76gOKY9UB8MPmDvD71mERQ/YHh8vaB+aT3wXPg90Du5veiYPL6osk6+mIcDvoAACD5AxqG8QLwcPpCdST6As7282BenvkAzdT1QC8E9EM6nPdDbJr4Y/5++PD6HPnCNzL3wdOm92PIPPtAdj75IMiK+QDN1PVALwT0wWQU+kIcZvgBOW7wUYIc+AJWDvcD/+7zgHIE9wNZTvTjetr7gc0i+AHJCuzA4+b1Q0N49QDbXPODgVD0gZNW9ADIJPUDDhD0AOVY8wP/7vKSrvD4ozAM+jDCYPlAZY77IMZC+0MSKvVBroj7ATws94MCjvnQmAL9w7I69KBuqPoARET0oIwU+4N7wvQAS+7ygBrg9YHWSPYBC5L0Q91a+kP/3PWBN6L5AbcY8GAutPoBIJb6gF6e+eBwJvhgLrT5UVKM+YExAvqC2t71oEDC+EM6nPbgBVT7gqGa9AAl6PHDy4z2gPLo9kAmGvojgTT7QeCQ+kK3WPVA23D2UJaU+ULTHvSix1L7gvHm9gK0gvdB+C74Uq6U+YBwhPaA5kT0gwhm9kPSQvYgMpD7AyAC+mKIxviDUsT1QOSe+ABTNOyCCjL3cI98+4NfhPQDMojwgOAE9PD6HPrhfb75g1hE9WKpQvuDne71QNtw9wBRfvWDkKr1I358+IMS+vRg3lb7gk5Y+oLa3vZiigb6A9nE9ADLbuyDOdj0YYmK+YFe7vZCiFD6AP089",
          "dtype": "f4"
         },
         "yaxis": "y"
        },
        {
         "hovertemplate": "Category=politics<br>PCA Component 1=%{x}<br>PCA Component 2=%{y}<extra></extra>",
         "legendgroup": "politics",
         "marker": {
          "color": "#00cc96",
          "symbol": "circle"
         },
         "mode": "markers",
         "name": "politics",
         "showlegend": true,
         "type": "scattergl",
         "x": {
          "bdata": "xBX2vgBnxDtkHp4+MGgpPuAOGD6YBX8+1KKwPggJUT5AtNM9uMUCPh4vhL7gwVQ9yCuwPkAI5T0A1dE8nOPCPlQKhj5sApA+rF/1PljxmD5Q0p496BRwPuDuWz4AaS8+cNWSPSC8NT0wIGG+jI6/PhDVxb0A95s8ANWiPkBTzj0mS8W+sOVDvlBvr71o6ik+aCyVPthJfD4gWgc/iHFFPqDBMb1Qb6+9EJpvPrAv0z1gCwU9IM68PjRMlD7gWFG9OOIVPnAbvT0oWds+AIwvvMQP/z7wtZc9jNK/PiCa37yomwo+SFtGvkAiND3IW2s+AEVnvOyLkz6wr54+gPn9vOBV0j4I0ts+0NFBPniiNj6IdE4+uPqlPmwdxz5AZVS9aAqKvUh2mj44ZBo+YCUfPQDA4T34nlM+wAtXPcB1+Tygxh+9QBa+POBYgj0wjPA9ENEjvhDnqD6c48I+YGvTPUSJgT6Ya3U+2EXwvdB9Az5spaQ+ALJzPjjbgj4AsgU7tEADvvjslr1ghDw+UDNIPrgscj7ggag+yL1fPjS5sD6APzo9wO+LPtDuWT74fLk+eGFfPkBmkj1Iwk8+yN9JPlC4gT7eIAs/zK+PPrzeoD6YmNi9UMf+PZB5fz5YFQu+QG/APkyihj4Un5s+aMNgPgAjXT2QA7o9oKlWPvTCjj5ANnA98H0NvQj98L2YhcA+4MoyPuw0wj6A6K09gO98PrBIyT2gVKM98GtiPqTKiT6o5y4+0He7vWTnHL6gztc9AA0pPgizqT7AF0E+AFRKO/A0SD4ifuq+lOkyvhT+lL682Jg+NBxxvvjYTj6wLM0+2A9PPiy/rD4QAzs+oHegPgCmwDvYfKe9LFDCPvjdfz4IyoI+IPxbPoDIRjzgysA+tAmBPujG2T744A++3PdQviipez4wNJY98J2vPshhXj5wF6A+KM/evUCwTb6ADwo8oERCPVDH/j1A9vs9oGyYPSBBwr34cIU+qF7rPlQsrz4g1fk9gBmXvPTskj4YD5Q+DImrPiC5ST4QxZc9NGVEvmwpiz4IPFs+wKHFPDxlFj+wmMg9ULvcPazKrj54V44+IEQ4PgADx7vAJg69AJohPqxf9T7ASqk8eDRvPnhTND5ACHs+1MU+viA50j4gvlw+NBxxvgDE7Do47l4+YJKhPiC6dD14i+m9pBBVvphirD64gE4+APebPBjaMT7AIY08wDQXPTAlTT7QvWC9GGEvPsxv8D6wZFo+WKMnPmDdEj3Q3889mBSUPiDKyr2gD2I+5FGlPoBcVz3APbS99H6kPojrLD7A6wS8AI0bPMC4Vbzg23a9EDp0PpAJCb0wC8U9uCxyPmwBrj6ANgE8oOrhPUBxI76APzo9gEzzvBS6zj4gneE9gBgCPfikCj7QzOE9RL2GPqigkj4Ij0I+gEGIu+BejLzM0tQ+nHSJPghVAD68yJs+oHoqvQ==",
          "dtype": "f4"
         },
         "xaxis": "x",
         "y": {
          "bdata": "6EB6vhB3uL74qBy+kPCHvhDcIT6Q1ui+0IFWviC21r6QAqS+gIe+vqgk3b4Yx7K+kAyhvthcsL6QScC+oJZZvohvIb7gV8G+GKLpvizGgb4gQPS+8Pq/vpDjx764TNG+2PPgvvg+br4gYQO9yHq7vmhFKL4Yw56+TJqEvsAwHT2AQrm9IJ6PvsCJsb5w0Rq+gAkgPABiL75AqI69gJXBPCAGlL3AibG+eOKevjhY3r4wbyi+gCgIvaD26r3gO62+cI/Svoj6VL5gofS90JzTvggDar6AgZC9iLNBvqj2kL6I2aG+oO44vsgZmr4AdTS+8LCwvqzMgL5Aa4S8MPWEveCSsr1gcJ89SI+fvgiYkL5wYe2+AHxiOyiIb77A3di9SHiAvvi4zb44t6i+2A62vpAJhr5ALP2+4InbvtgFxL7g2aq+IOgJvQhvN75sYwC/qKGGvphja76gllm+yPmwvnCi474QtlO+AJdNvcBLb74gALy+qGUUvoj4zL6Yy3a+WLUHvwi3r76AQpS8+Fi1vtCSRb6w25u++G+Rvrh6QL4wvOy9kLuLvdiL0r4geci+CJcGvoj6mL64zAO+CFtGvpj8kL4AGG07UJvqviA2vb5gZ4m+yJrjvhAY0r2wp8+9EMqDvtBUvL6oIM++iI2QvkB5Gb74z4u+gN+ivvB73L4w84i9mC50voBax71IsOO+gDDNvghItL5IE7m+cKCQvthiP74Qbqe+yKegvqCIbb64tdG+KMAivkAjMr44Ys2+uOXavnBok73gOc298DfIvShthb6gtpq+sL31vWClD74AIlW80CIGv9jA0r5AKOe9SKVfvqhr5r7Y5ua+6NaPvoBfvr54ibK+OMhmvugfi74gFtO+cAadvvAexb64nm+++H7qvkjUbL5oAhe+TNzGPuiVqb7YipS+oLxivhAuq77AHgq/YB9jvSjzxr5o8Ly+SJ3kvsia476orru+OOaTvojxr74gt6y9uDsovrAKnL4o2sa+CDHAvujzl74IaL6+gKW0vuDmp77w7QG/gCnYvBihsr4Q/cS+WErPvpi7Rb7wkiO+/I+Avqg9c76oJ8C+wL3svhhRyL4AL0K+aPDXvhii6b4IY7i+ONejvthvA7/ourS+wLEhvXA2tb6Ax5C+0CIGv8Cear5AZwC/mHKgvsAn2b4QIb+90M2APWi+Qb4gjI2+GMOevjjQrb6YCt6+SLiQvuAR4b4gcKu+QIo1vhhoib5gR5y96NbYvjhsrr44Y4C+4DnxvbjGkb4YRqi+kP0/vljoxL7ABnS+gCKJvBjPrb4o3l0+gF7HviiuxL5gtdy+cGDLvvjTtr5gWDe/0JJFvmAcGr1owY2+2OyWvnAwZr4wvOy9wFiwvvD7Sz4IsYi+6JyNvmisvb6IEfy++NO8vuB3h76wY+K+gM7NvhCZDr/wNdK94LOwvsAcwr4gx669AOI5uw==",
          "dtype": "f4"
         },
         "yaxis": "y"
        },
        {
         "hovertemplate": "Category=sport<br>PCA Component 1=%{x}<br>PCA Component 2=%{y}<extra></extra>",
         "legendgroup": "sport",
         "marker": {
          "color": "#ab63fa",
          "symbol": "circle"
         },
         "mode": "markers",
         "name": "sport",
         "showlegend": true,
         "type": "scattergl",
         "x": {
          "bdata": "ipffvoKVCb/+W5e+FJc5vzZ/LL9S2hW/x3I4v0oCC7+Q0nS/6LWovgj5cr7BLhO/Okq1vlBDtr4oIIi+PkDZvlZ3AL94suC9KOSXvnw+M79Kkpe++m2+vtzABb40wgm/RD1Lv/6jM7/0GmK+pC4Zv8gT/70QJsc9tqw4vy75mL6K59u+wiTEvsZI1L5GYNG+IBbCvoKxtr4QXHW+0iTMvnhKML/m0o2+xsqRvpLE9L60Ssi+chiwvqQE6b46ixG/XX5fv/Y91r54pIe+R2+Jv17IV78Stvq+LtoLv6ieAb++6cq+ctU0v6q2Lb9Wmzu/MJmqvpyNN79lLhW/ujWavkhcxL7IT+i9rJNVvpRG2b7wO+2+rHfqvtgI5b4Pqy+/BPWavrT4qr7icbO+0CBzvjKxnr48JOq+UvA0v66JDr9Slj2/fMFBvkhygb6Od36/YM0Av6JyCL9WaCe/epSUvuZJSr9ubiq/ppPLvmY6Cr+0gwq/VoHmvkWTQL9uX8i+DlafvsijKr+gHmS+LLTZvtQAWb6m38S+IjKrvq4/Dr/uFg2/vBxuvjLLHL9mMbS+GkYjv/iwuL50zsa+PP4QvzjV1L54w5C+rcE+v/Ahgr2JiA6/kVkfv2hqR75wPKC+OiSgvihg/b7/Mxq/yOQnv+Qu8b6EVaa+9Hc5v44o1L46BO++sXEAv1Rxtb7eMgy/2k8wv/7QEL8Ceg+/LWEBv4o7PL/o7JK9MuM8v0I/ur5syJ++SgLuvjCCMr3VDWm/sKeMvsy6JL7L9yu/ELW6vu7VIr+yDJC++LC4vsI5E7/UpGi+pGpDvzDGib98jAS/iSIOv24Yg7/7jIG/Es76vuo26r6QOsm+eE8kvmSdFb7iz82+1L8xvvJ/BL/csKC+TCVqv9xEFb/AHBi/XPIvvnylQr/iYf++1G1zvmxTtb7z6Vq/MiP3vnMBGL8oSR+/fl/YvtcXDr8oFci9ELR6vtiP4L7qVsy+wnDkvlV2IL+EVta+KcxKv0xZpL4q+7C+0sm1vh4mrr6ynZC+8KyMvnKkQL/WMsK+5EzCvuC64L2IhgK/pp65vlMXhb9+aBC/YAJCv/CMUb4BUAi/Lq3Zvromt74Mszy/iISEvnzH3L4CHTe/AsfdvoYQG79AKVC+Bsaev7Bb6L6a7eW+EBk2vlR/hr6Q+VS+yEdQvsgj0b5ePee+SETpvgw/+L5Meri+xAgjv5DP4b3I1BO/JrKrvliDBr44xQ6/HCJWv/Rs4r5z8jq/go2vvmBywb5g7KS+dgq6vmSs/b400ge/ji9Wv3Cnb70g/I6+ADfaPGpzv74BUAi/5NUwv/LHCb90Tp2+9gq/vuyyyL6CPpW+LqGHvnjxGL+YdJ++vLlXv+jB2718H/y+5uMPv5TP7b5AO+C+TBxXvvBFxL3yaB2/BHPYvlxZDb/YVhC/9IugvldWEr8WhKm+lpeEvvSonb4Kldi+EPLlvuYE5r47P0G/WHjUvvL14r4oQ1C/BIaWvghIh76CybS+jB/ovlVMG78P5Qu//BJKv8xzxL74Duu+DRcWv9Agc75UN5i+NNkDvipkoL74LMy+mAH9vqBRGb/gPsa+wK5tvYr6+r4u0CC/1oOUvgAykzs4IgG/kML+vjIPR78Y+l6/t7cyvzg63r6azOi+CqNVv5bpCr+qvTa/jhw5v9DGnb6Gj6m+lbEZv7C6Ab+EUC+/IkgLv3xdLL88LxO+coMIv2dKGb9HzQO/SiMFv62IOL+s8Mu+jIkov06yg758qYq+zHPEvhBScr0ls06/CAXWvh4Jvb4qmAS/stfkviC0Ej38rM2+2hYfv0Jbv77CJuO+cgaivg==",
          "dtype": "f4"
         },
         "xaxis": "x",
         "y": {
          "bdata": "EGKRvrCx6z3w1Zi+EJeHPQDgxLuw/wa+LFqzPpizY77kkfE+mJOcvviq+b6ozti+oE+2vnRpAr+gqOq+qPf+vgiJz74YCd6+bJotvxB/cD44Aru+oODsvsDuMD0A8LI5yMllPuAPBz1IHLC+iBuaPnArCr4wBWu++MuvPpiREL/IJbC+YJHwvSTSAL+Iq5++zBQYv5i/mr6Y35m+2P9mvgCX5TtI3/y+OGExvihh675whf++aAvNvohnAb9kF+M+IGahPuCo3b6QSL6+lHLrPvwkhz6Y88e+GE40PkibLj58LJQ+OD+UPvD/uT3QhOY9wK+bvmhxNT4AJFa7+HOIvmz0DL8I3Ea+IJgRv2BAd764djg+IB0ivnCkpL6QALQ+gBA6vrjCp74Y3Li+UHuwvrBDvr6gPve+lEmmPkBW+rxCAwc/uI7CvoCr773WehA/UGOMPYCp3r2A+iu9wNTZvcAl5Dy4+ko+mCusvljVur7AmAm9cF3SviSnhD6U4oc+0E2yvlAekT1skwi/QCPrPdADxb0o+bq+AC9GvpxkGL8oFx6+CLpsPoAMVr4QfAO/ELDZPfRIgL6AExk9oCE8vUCBkb4IMrq+nIaRPrDH0b0wuNW9iCUDPgwCC7903QG/eKeXvgCezjtIhia+2OENPkB98LyYori+TKHzPoyeHb9Ebyi/AIvBvihPir4o4SK+oPBivaDe1728iqU+OLMVvjAHRz6Ylaa+kPl3PsTsC79Q46O+ANnnveCZE7/0Jc4+0EIJvrByzr4AZIC8vOsSv8CzS72Qg/K+9EiAvgBxrzxMlYG+gAhJPpx/ZD/om0i+aB6PvnI7Oj+sASI/cL8IvnB7tD2Anc++WK+YviA6Er/45b6+uNzHvsD2tDzw8LG+YHE5PpA9n704xY6+gKkVvBwXzz6Az2e8kK39vjhttb4QnBk/iJyGvrhrD75gexY+AGC4OUDkKz7ItmG+UHyAvbAmob0o4Fe+YJWyvsCM3LzA+Ay/cNi3PZQSGL+4phe/SM7rvqCdqr6gVuO9oNAwPbDqsT2wghq+MPuovqADxr14uYW+sED4vT2iVj9QXqA9GNxiPoAGaL2AgJ+9oLpzvrjj076UnrI+KBrNvvisMr4oEbQ+OFHOvojyOb7A5aK9utIPP6DEWL2AqKK9iHa8vgg7or6E+gq/gDb4vsjMEL7Qdtq+qJa3vtzxgT648O6+5FaSPiBDyL2AeDY8gHkPPAwvNL9QAUy++m4WP0iGHr5AsfA9aNDxvpjn+75swCi/kNyTveC/hr7AnNM8yG3GPuihn76QLy++wPfRvtiNIr6AgJ+9wGZXPQjDV75A9kk+2PdXvtjNHr7gq7u+QJvWvHCzN75cDym/QIp/PtgHCr6gm9G9UD6Evgi1i74AYtk7YHRRPWjnH75Akm69gC05vuCAWj6Y31S++Pb4vrBaNj5IsGW+SDXNvpjFfr4YcJO+wP4yvvDs2r6M2YE+uEQWvoATuLxweQo+gBHVvgBEOr9kzQe/ABWXvkDoAT0I3Xy+2HprPqBujL3oO+K+UOmOPVB7sL4gthu/GBKsvmhb8b4Qtu6+AK4vPIAnZbygsDS+CM2dvtB7pD0g0GA+UCe/voDeGj0AnDk+oCs/vqyOxD4IQUE+HMmqPhiH4L54PyO+UH96PrCymr149WQ+QKiQPSBUEr1ADrS+8B7vPZjgkD6gA8I9cCe1vQwcuz5gU/q9ALg1OkD73jyA9c4+KLHZvqCZZD6s1Qm/MOdBPog8fL6sMgm/oG6MvZhQl75I9zE+CBF6vvCKK78AMcW+uMStvlhWGD5YBkO+AELXPfiS777o0b6+WII8vw==",
          "dtype": "f4"
         },
         "yaxis": "y"
        },
        {
         "hovertemplate": "Category=entertainment<br>PCA Component 1=%{x}<br>PCA Component 2=%{y}<extra></extra>",
         "legendgroup": "entertainment",
         "marker": {
          "color": "#FFA15A",
          "symbol": "circle"
         },
         "mode": "markers",
         "name": "entertainment",
         "showlegend": true,
         "type": "scattergl",
         "x": {
          "bdata": "NsSLvl5Gvb6wV549HB8SvrhBEr9kqUu+jNCWvqTbDr/AcV+9eDiZvQhC1r7Qlzq+AOZFvfAe7b5YD6i9rClLvvgxCL606pG+qXZGv/hsQj4+o7O+CELWviDlsj3w7xe+UA9LvtGBIr8yZiG/cAQYPmpjnb7Qy8G+cvw/v0jfMr8CzaS+lFEHvzq++r4Q2KW9blvxvljAHL9Wj8K+mlucvt5Ogr54286+kAzjPS31Db/GnY6+TpXKvij4T79gPAI9aPp5vth0Jr4KJKK+EKIJv5mGI7+y9YG+nJYIvqJx476MpBu+ZFbmvggLGr88hWG+ONdHv+yrtL4Q4u++XBdjvoK5qb5IcN++COXuvjjaOr8wgb++sgQKv/4Dvb6IIW2+0OwWPmBGLL6A5DS9erOGvvAcV75EwX++aDVBPmLDPb8i+Q2/AG49u0hmIL6Ip0K+NC+zvnjR1L6EE8O+oErEvPqBGr9Eq1G+v/cjv5qcmb5Qf4k+lOVzvngkE76y4A6/YLT2PZowk77qRJC+aJl2vm5RIb9gDha/gAYYvFZs2L7KY4a+nqSqvvg/0L4A87c8XnEFv1BQyj2W05O+SHDfvgpxq75iIKO+08QIv4CKCjxqhJy+eK7FvUS1g77IzMi+YLT2PQ6wrb6Yfri9jve9viqsGb/GTim/eHdSvvCz9T04ccO+eEGFvnSzEL6ku/6+shjOvrWtIb/UTT2+4Itfvk6ZMr+swVm+5CJOvnjYFL4snN6+gEvlvqoB8L4GpRW/bhkOv27Vsb7wHFe+SJlBv2BfI746VTa/gO2hvqAwz7wK2sq+IE+HvdLhD7/EWUi+iKWGvpBhpr1YvuW9oicJv2y4377EUsO+9kmBvtDS0L0gtg2+CLw8vhDlsj1U38y+oN6avpaUxb6Q8dW9mOOxvhhh8L6gZYy9VHgJv3jbzr4O8+q+ygYUv4CdCD7MfFG+bOX5vr4J4L4UZOG+CDwAv7y6/L5YGn2+VODJvuYFrr4AC/K8qEkdv4BL5b7oxNI+jNCWvkwghr4EjoC+9ka7vjKEjL66mZC+9OokvmxSAL4mqtu+YFoRv1ap7b5En+a+qApNv+Bx371gpXy90BWzvrgR2L50zWi+Zp02v+ocg75MwAu+impUvzroHL8OBgq/6DQOv3hMCr6eAZy+NAX6vmAQ3b5UT8K+vGH/vjIo/r6wj2q+NG8nv9bdGr+iJwm/ZOfRvqphkL6A2vc8NKQXv2Cqjj1ECRW+lOhkvkA29z2cmuG+CG4avvq4nr5QMOM95JCzvjSIrb4Ujli+C4w1v7zLGr68v9i+xho3vyxShj4Qr1G+gnbzvjzf775Een2+9Gpxvjw0S78oONy+rgjzvgy6p77waTy+jICxvgEHJL/IzMi+ZFbmviTapr6kAtG+GH9zvrisK77QlnC+BMp3vvjZD74ctKK+6JEfvqx1875Q3gC+",
          "dtype": "f4"
         },
         "xaxis": "x",
         "y": {
          "bdata": "IKQBPpp3Fz/82xQ/QLSvvbAViD1AyF89CEJLPghFTj4glDO+IP1IPj4vFD88HJI+ALSuPKAvrz3A34c98KucPoC9cLwYLhc/8J74PuS4iT5AH/E9Pi8UPyAVQr0Q3Wa+OHFEPggf7j40UfI+ZG+QPoDNKD5YOXg+On0bP8hZ5j58DMk+AKMMvODWVT6o2F6+VL8cP6BGXz2Um4O+UKxePkDmtr0Afjm7CNDJvliaWD6w8K49yPAsPqZKCz/sIYs+UPrVPrDg3r3MVo0+IJkCPeaGBD+QPoi9ePZivli83j6YqzY+VE/IPrQMoz5AsnQ9QFnyPnjCED5opGU+6E5gPrBe3T0g5eg+8EUUPuTplz5wl6Q9olwbPxBxOT4Y5k4+LLOTPnAlBb5Aqoe+YEJRvoAs7TzwGWE+gGp6vaB09T6qtw8/cGKSPtD+Hr7EpLA+kJNGPsCztT7USJA+SMxqvh5rDD8AJuW8nO+APhh1mj7k/B0/8E9GPoBiDzwYY9o+aN4LP0CQHj3AMp69IDJlPsQ+Dz+c+/c+qEREvqyUkD4Aq7a7bC+SPrDlvL3UDI0+AHyjPlizwT5EOoo+IOXoPsD66b04nEk+gCBkPtj5Fb7gdlw9HJKlPgCS6zsQLlk+aN4LP+A0fz3QVYC9RkYYP1A7Az4g1v09UOLtPbDjP7646sk+OCR5PsBATj5E5gI/aO6yPrBp7z4wtfM9QD8BPhzH1z4AVu69KOJdPpC8Lz7OMwI/EK/rvWCmij6YkqM+WFpZPnSq6z6ALO08lvwXP/CI473YWDw+UKDJveDT7D3oLIY+wDr+vcDf5bwAu5I+AFUXvMyokj4Q++I+QPg1P9iCFb4gbRk+YLM5vgApnjugkKY+sLg/PyBwhz3omwQ+EIOpPaBSHL3QPee+8GnCPTz26j4QEIU+AIQHPwB+Obvc2ec+DFy9PjA8dz6kDI4+YKntPhCrkj6MIN0+AN03PAzbAT+Aroa8lM31PvAfLD5gDgW9BE/oPhCv670YpAS+CEJLPgC8dLwoijK+UAamPgjBET6wtos+AJAWvEC0nT0UoIs+fO2XPlApMz5AZ88+iOXQPsBD4T2gaAg+4JWXPsBWmD5wavk+eKf4Phh1Ib5A6De9vKYjP6h17j6w+wI++EwjPgADdT74MlY+YBafPuhXqz7Ab6Y90OikPQBExT6Qdfg9qDQnPmSujT5A+DU/mBjJPpjQij7A4wm+wNv3PspGFT+A1Sw8+L4xvkT7qz7QfY49tvUEP3CSKT7wvES+mDhzPvAH2T5AuTY9rNr3PoDRW73Q+9o+GiEDPySHgL4APw08eOUTP7DW6z14mZA+6MFYvrSz/z4c9K8+IH4GPoCS2jwQd8I9QCt1voxw4D4QLlk+VE/IPpzSlT5gEL89sEHvvZC5qT5wLm++wBeVvoDKuLx8bYc+KJFNPiCvMT3AN4A8",
          "dtype": "f4"
         },
         "yaxis": "y"
        }
       ],
       "layout": {
        "height": 600,
        "legend": {
         "title": {
          "text": "Category"
         },
         "tracegroupgap": 0
        },
        "template": {
         "data": {
          "bar": [
           {
            "error_x": {
             "color": "#2a3f5f"
            },
            "error_y": {
             "color": "#2a3f5f"
            },
            "marker": {
             "line": {
              "color": "#E5ECF6",
              "width": 0.5
             },
             "pattern": {
              "fillmode": "overlay",
              "size": 10,
              "solidity": 0.2
             }
            },
            "type": "bar"
           }
          ],
          "barpolar": [
           {
            "marker": {
             "line": {
              "color": "#E5ECF6",
              "width": 0.5
             },
             "pattern": {
              "fillmode": "overlay",
              "size": 10,
              "solidity": 0.2
             }
            },
            "type": "barpolar"
           }
          ],
          "carpet": [
           {
            "aaxis": {
             "endlinecolor": "#2a3f5f",
             "gridcolor": "white",
             "linecolor": "white",
             "minorgridcolor": "white",
             "startlinecolor": "#2a3f5f"
            },
            "baxis": {
             "endlinecolor": "#2a3f5f",
             "gridcolor": "white",
             "linecolor": "white",
             "minorgridcolor": "white",
             "startlinecolor": "#2a3f5f"
            },
            "type": "carpet"
           }
          ],
          "choropleth": [
           {
            "colorbar": {
             "outlinewidth": 0,
             "ticks": ""
            },
            "type": "choropleth"
           }
          ],
          "contour": [
           {
            "colorbar": {
             "outlinewidth": 0,
             "ticks": ""
            },
            "colorscale": [
             [
              0,
              "#0d0887"
             ],
             [
              0.1111111111111111,
              "#46039f"
             ],
             [
              0.2222222222222222,
              "#7201a8"
             ],
             [
              0.3333333333333333,
              "#9c179e"
             ],
             [
              0.4444444444444444,
              "#bd3786"
             ],
             [
              0.5555555555555556,
              "#d8576b"
             ],
             [
              0.6666666666666666,
              "#ed7953"
             ],
             [
              0.7777777777777778,
              "#fb9f3a"
             ],
             [
              0.8888888888888888,
              "#fdca26"
             ],
             [
              1,
              "#f0f921"
             ]
            ],
            "type": "contour"
           }
          ],
          "contourcarpet": [
           {
            "colorbar": {
             "outlinewidth": 0,
             "ticks": ""
            },
            "type": "contourcarpet"
           }
          ],
          "heatmap": [
           {
            "colorbar": {
             "outlinewidth": 0,
             "ticks": ""
            },
            "colorscale": [
             [
              0,
              "#0d0887"
             ],
             [
              0.1111111111111111,
              "#46039f"
             ],
             [
              0.2222222222222222,
              "#7201a8"
             ],
             [
              0.3333333333333333,
              "#9c179e"
             ],
             [
              0.4444444444444444,
              "#bd3786"
             ],
             [
              0.5555555555555556,
              "#d8576b"
             ],
             [
              0.6666666666666666,
              "#ed7953"
             ],
             [
              0.7777777777777778,
              "#fb9f3a"
             ],
             [
              0.8888888888888888,
              "#fdca26"
             ],
             [
              1,
              "#f0f921"
             ]
            ],
            "type": "heatmap"
           }
          ],
          "histogram": [
           {
            "marker": {
             "pattern": {
              "fillmode": "overlay",
              "size": 10,
              "solidity": 0.2
             }
            },
            "type": "histogram"
           }
          ],
          "histogram2d": [
           {
            "colorbar": {
             "outlinewidth": 0,
             "ticks": ""
            },
            "colorscale": [
             [
              0,
              "#0d0887"
             ],
             [
              0.1111111111111111,
              "#46039f"
             ],
             [
              0.2222222222222222,
              "#7201a8"
             ],
             [
              0.3333333333333333,
              "#9c179e"
             ],
             [
              0.4444444444444444,
              "#bd3786"
             ],
             [
              0.5555555555555556,
              "#d8576b"
             ],
             [
              0.6666666666666666,
              "#ed7953"
             ],
             [
              0.7777777777777778,
              "#fb9f3a"
             ],
             [
              0.8888888888888888,
              "#fdca26"
             ],
             [
              1,
              "#f0f921"
             ]
            ],
            "type": "histogram2d"
           }
          ],
          "histogram2dcontour": [
           {
            "colorbar": {
             "outlinewidth": 0,
             "ticks": ""
            },
            "colorscale": [
             [
              0,
              "#0d0887"
             ],
             [
              0.1111111111111111,
              "#46039f"
             ],
             [
              0.2222222222222222,
              "#7201a8"
             ],
             [
              0.3333333333333333,
              "#9c179e"
             ],
             [
              0.4444444444444444,
              "#bd3786"
             ],
             [
              0.5555555555555556,
              "#d8576b"
             ],
             [
              0.6666666666666666,
              "#ed7953"
             ],
             [
              0.7777777777777778,
              "#fb9f3a"
             ],
             [
              0.8888888888888888,
              "#fdca26"
             ],
             [
              1,
              "#f0f921"
             ]
            ],
            "type": "histogram2dcontour"
           }
          ],
          "mesh3d": [
           {
            "colorbar": {
             "outlinewidth": 0,
             "ticks": ""
            },
            "type": "mesh3d"
           }
          ],
          "parcoords": [
           {
            "line": {
             "colorbar": {
              "outlinewidth": 0,
              "ticks": ""
             }
            },
            "type": "parcoords"
           }
          ],
          "pie": [
           {
            "automargin": true,
            "type": "pie"
           }
          ],
          "scatter": [
           {
            "fillpattern": {
             "fillmode": "overlay",
             "size": 10,
             "solidity": 0.2
            },
            "type": "scatter"
           }
          ],
          "scatter3d": [
           {
            "line": {
             "colorbar": {
              "outlinewidth": 0,
              "ticks": ""
             }
            },
            "marker": {
             "colorbar": {
              "outlinewidth": 0,
              "ticks": ""
             }
            },
            "type": "scatter3d"
           }
          ],
          "scattercarpet": [
           {
            "marker": {
             "colorbar": {
              "outlinewidth": 0,
              "ticks": ""
             }
            },
            "type": "scattercarpet"
           }
          ],
          "scattergeo": [
           {
            "marker": {
             "colorbar": {
              "outlinewidth": 0,
              "ticks": ""
             }
            },
            "type": "scattergeo"
           }
          ],
          "scattergl": [
           {
            "marker": {
             "colorbar": {
              "outlinewidth": 0,
              "ticks": ""
             }
            },
            "type": "scattergl"
           }
          ],
          "scattermap": [
           {
            "marker": {
             "colorbar": {
              "outlinewidth": 0,
              "ticks": ""
             }
            },
            "type": "scattermap"
           }
          ],
          "scattermapbox": [
           {
            "marker": {
             "colorbar": {
              "outlinewidth": 0,
              "ticks": ""
             }
            },
            "type": "scattermapbox"
           }
          ],
          "scatterpolar": [
           {
            "marker": {
             "colorbar": {
              "outlinewidth": 0,
              "ticks": ""
             }
            },
            "type": "scatterpolar"
           }
          ],
          "scatterpolargl": [
           {
            "marker": {
             "colorbar": {
              "outlinewidth": 0,
              "ticks": ""
             }
            },
            "type": "scatterpolargl"
           }
          ],
          "scatterternary": [
           {
            "marker": {
             "colorbar": {
              "outlinewidth": 0,
              "ticks": ""
             }
            },
            "type": "scatterternary"
           }
          ],
          "surface": [
           {
            "colorbar": {
             "outlinewidth": 0,
             "ticks": ""
            },
            "colorscale": [
             [
              0,
              "#0d0887"
             ],
             [
              0.1111111111111111,
              "#46039f"
             ],
             [
              0.2222222222222222,
              "#7201a8"
             ],
             [
              0.3333333333333333,
              "#9c179e"
             ],
             [
              0.4444444444444444,
              "#bd3786"
             ],
             [
              0.5555555555555556,
              "#d8576b"
             ],
             [
              0.6666666666666666,
              "#ed7953"
             ],
             [
              0.7777777777777778,
              "#fb9f3a"
             ],
             [
              0.8888888888888888,
              "#fdca26"
             ],
             [
              1,
              "#f0f921"
             ]
            ],
            "type": "surface"
           }
          ],
          "table": [
           {
            "cells": {
             "fill": {
              "color": "#EBF0F8"
             },
             "line": {
              "color": "white"
             }
            },
            "header": {
             "fill": {
              "color": "#C8D4E3"
             },
             "line": {
              "color": "white"
             }
            },
            "type": "table"
           }
          ]
         },
         "layout": {
          "annotationdefaults": {
           "arrowcolor": "#2a3f5f",
           "arrowhead": 0,
           "arrowwidth": 1
          },
          "autotypenumbers": "strict",
          "coloraxis": {
           "colorbar": {
            "outlinewidth": 0,
            "ticks": ""
           }
          },
          "colorscale": {
           "diverging": [
            [
             0,
             "#8e0152"
            ],
            [
             0.1,
             "#c51b7d"
            ],
            [
             0.2,
             "#de77ae"
            ],
            [
             0.3,
             "#f1b6da"
            ],
            [
             0.4,
             "#fde0ef"
            ],
            [
             0.5,
             "#f7f7f7"
            ],
            [
             0.6,
             "#e6f5d0"
            ],
            [
             0.7,
             "#b8e186"
            ],
            [
             0.8,
             "#7fbc41"
            ],
            [
             0.9,
             "#4d9221"
            ],
            [
             1,
             "#276419"
            ]
           ],
           "sequential": [
            [
             0,
             "#0d0887"
            ],
            [
             0.1111111111111111,
             "#46039f"
            ],
            [
             0.2222222222222222,
             "#7201a8"
            ],
            [
             0.3333333333333333,
             "#9c179e"
            ],
            [
             0.4444444444444444,
             "#bd3786"
            ],
            [
             0.5555555555555556,
             "#d8576b"
            ],
            [
             0.6666666666666666,
             "#ed7953"
            ],
            [
             0.7777777777777778,
             "#fb9f3a"
            ],
            [
             0.8888888888888888,
             "#fdca26"
            ],
            [
             1,
             "#f0f921"
            ]
           ],
           "sequentialminus": [
            [
             0,
             "#0d0887"
            ],
            [
             0.1111111111111111,
             "#46039f"
            ],
            [
             0.2222222222222222,
             "#7201a8"
            ],
            [
             0.3333333333333333,
             "#9c179e"
            ],
            [
             0.4444444444444444,
             "#bd3786"
            ],
            [
             0.5555555555555556,
             "#d8576b"
            ],
            [
             0.6666666666666666,
             "#ed7953"
            ],
            [
             0.7777777777777778,
             "#fb9f3a"
            ],
            [
             0.8888888888888888,
             "#fdca26"
            ],
            [
             1,
             "#f0f921"
            ]
           ]
          },
          "colorway": [
           "#636efa",
           "#EF553B",
           "#00cc96",
           "#ab63fa",
           "#FFA15A",
           "#19d3f3",
           "#FF6692",
           "#B6E880",
           "#FF97FF",
           "#FECB52"
          ],
          "font": {
           "color": "#2a3f5f"
          },
          "geo": {
           "bgcolor": "white",
           "lakecolor": "white",
           "landcolor": "#E5ECF6",
           "showlakes": true,
           "showland": true,
           "subunitcolor": "white"
          },
          "hoverlabel": {
           "align": "left"
          },
          "hovermode": "closest",
          "mapbox": {
           "style": "light"
          },
          "paper_bgcolor": "white",
          "plot_bgcolor": "#E5ECF6",
          "polar": {
           "angularaxis": {
            "gridcolor": "white",
            "linecolor": "white",
            "ticks": ""
           },
           "bgcolor": "#E5ECF6",
           "radialaxis": {
            "gridcolor": "white",
            "linecolor": "white",
            "ticks": ""
           }
          },
          "scene": {
           "xaxis": {
            "backgroundcolor": "#E5ECF6",
            "gridcolor": "white",
            "gridwidth": 2,
            "linecolor": "white",
            "showbackground": true,
            "ticks": "",
            "zerolinecolor": "white"
           },
           "yaxis": {
            "backgroundcolor": "#E5ECF6",
            "gridcolor": "white",
            "gridwidth": 2,
            "linecolor": "white",
            "showbackground": true,
            "ticks": "",
            "zerolinecolor": "white"
           },
           "zaxis": {
            "backgroundcolor": "#E5ECF6",
            "gridcolor": "white",
            "gridwidth": 2,
            "linecolor": "white",
            "showbackground": true,
            "ticks": "",
            "zerolinecolor": "white"
           }
          },
          "shapedefaults": {
           "line": {
            "color": "#2a3f5f"
           }
          },
          "ternary": {
           "aaxis": {
            "gridcolor": "white",
            "linecolor": "white",
            "ticks": ""
           },
           "baxis": {
            "gridcolor": "white",
            "linecolor": "white",
            "ticks": ""
           },
           "bgcolor": "#E5ECF6",
           "caxis": {
            "gridcolor": "white",
            "linecolor": "white",
            "ticks": ""
           }
          },
          "title": {
           "x": 0.05
          },
          "xaxis": {
           "automargin": true,
           "gridcolor": "white",
           "linecolor": "white",
           "ticks": "",
           "title": {
            "standoff": 15
           },
           "zerolinecolor": "white",
           "zerolinewidth": 2
          },
          "yaxis": {
           "automargin": true,
           "gridcolor": "white",
           "linecolor": "white",
           "ticks": "",
           "title": {
            "standoff": 15
           },
           "zerolinecolor": "white",
           "zerolinewidth": 2
          }
         }
        },
        "title": {
         "text": "PCA of GloVe-based Document Vectors"
        },
        "width": 800,
        "xaxis": {
         "anchor": "y",
         "domain": [
          0,
          1
         ],
         "title": {
          "text": "PCA Component 1"
         }
        },
        "yaxis": {
         "anchor": "x",
         "domain": [
          0,
          1
         ],
         "title": {
          "text": "PCA Component 2"
         }
        }
       }
      }
     },
     "metadata": {},
     "output_type": "display_data"
    }
   ],
   "source": [
    "X = np.stack(df['doc_vector'].values)\n",
    "print(X.shape)\n",
    "pca = PCA(n_components=5, random_state=CONFIG['RANDOM_STATE'])\n",
    "X_reduced = pca.fit_transform(X)\n",
    "\n",
    "fig = px.scatter(\n",
    "    x=X_reduced[:, 0],\n",
    "    y=X_reduced[:, 1],\n",
    "    color=df['Category'],\n",
    "    labels={'x': 'PCA Component 1', 'y': 'PCA Component 2', 'color': 'Category'},\n",
    "    title='PCA of GloVe-based Document Vectors',\n",
    "    width=800,\n",
    "    height=600\n",
    ")\n",
    "fig.show()"
   ]
  },
  {
   "cell_type": "markdown",
   "id": "bba2a28b",
   "metadata": {},
   "source": [
    "## Truncated SVD\n",
    "\n",
    "For this assignment, I will use Truncated SVD (Singular Value Decomposition) to reduce the dimensionality of the document vectors. Truncated SVD is a linear dimensionality reduction technique that is particularly useful for sparse matrices, such as the document vectors we have created using GloVe.\n",
    "\n",
    "### Why not NMF?\n",
    "\n",
    "NMF (Non-negative Matrix Factorization) requires all elements of your input matrix to be ≥ 0.\n",
    "It’s designed to find additive parts-based decompositions (like how an image is built from positive pixel intensities or how a document is built from positive word counts). But your GloVe document vectors have negative values, because:\n",
    "\n",
    "Word embeddings like GloVe or Word2Vec are trained to center around zero (to better capture similarities in cosine space). So they naturally include negative numbers."
   ]
  },
  {
   "cell_type": "code",
   "execution_count": 22,
   "id": "446f4d8f",
   "metadata": {},
   "outputs": [
    {
     "name": "stdout",
     "output_type": "stream",
     "text": [
      "Document-topic matrix shape: (1490, 5)\n",
      "Topic-word matrix shape: (5, 100)\n"
     ]
    }
   ],
   "source": [
    "svd = TruncatedSVD(n_components=5, random_state=CONFIG['RANDOM_STATE'])\n",
    "document_topic_matrix = svd.fit_transform(X)\n",
    "topic_word_matrix = svd.components_\n",
    "\n",
    "print(\"Document-topic matrix shape:\", document_topic_matrix.shape)\n",
    "print(\"Topic-word matrix shape:\", topic_word_matrix.shape)"
   ]
  },
  {
   "cell_type": "markdown",
   "id": "d45d83bf",
   "metadata": {},
   "source": [
    "## SVD Components of the Document Vectors\n",
    "\n",
    "following plot shows the 5 most important SVD components of the document vectors and their relationship with the news categories. This will help us understand how the document vectors are distributed in the SVD space and how they relate to the different news categories."
   ]
  },
  {
   "cell_type": "code",
   "execution_count": 23,
   "id": "421af61d",
   "metadata": {},
   "outputs": [
    {
     "data": {
      "application/vnd.plotly.v1+json": {
       "config": {
        "plotlyServerURL": "https://plot.ly"
       },
       "data": [
        {
         "diagonal": {
          "visible": false
         },
         "dimensions": [
          {
           "axis": {
            "matches": true
           },
           "label": "0",
           "values": {
            "bdata": "3KBiwKtceMBj1H7AW5V4wLp9ZsDSX3DAYo2AwMesb8ATUHTAlQ57wAFgg8DJ8nDAZDJ/wHrWg8BhdHHAAEdxwF12dcBQjHTAJlJywKQzV8CESnbApTpywMQrhMD6mnnAD/xwwI+ndMDq8IDAFZ5+wOXoccA8mnTAwMduwP2odsDIWHfAGDh/wD9oaMAeYmrArnR0wB0fgMC+m2XAYM9vwGx9fsAXgmfAWPtpwJMjccDSXHvA8uFrwFRke8AwQ2/A+0RrwJ2ygsB0YXLAlSN2wFBZgcA93YDAkGdfwGFIbsBjQXzAZ0GAwNtmc8A0gXPApn93wJReacBFrGLA1ziBwPKlc8CfcXDAYBl4wFSLdsC4GGzAAJl7wIQzcsBzZmvA7G5ywKA+acDnxHDAUpWAwE8/gcAmBnrA7OdlwGd1g8A8+n7AC3ptwDE9d8APTXjAn/RtwG0Kf8AmfHjA+v9hwIFNbMCtrFPAEAyAwNRrccDv123A1NBkwELDbcAwhnrAP8x9wCXVdcBKgWnAJfJrwOpRgsB7gn3AE8VywJx5gcCdIILACaN7wOL2bMDRwnzA0fttwKB4aMC2GnPAo519wIBZcsBgq3PAk/l4wJdug8CBFHrAC0t+wH5zesAkHn7A0g5bwNjAe8A39XDAcOxlwGQdc8DEp3jAg0h4wBLMdsC1hHTAsAp7wGG8d8C2zX3AubJdwHH/dsD0onLA7gp2wIAvdMD9zHjAqntzwGmuZ8Awq23AomR2wFq9eMDiQH/AoIt2wNjca8CGzIHAgrp9wHVZe8D2+3/A48KBwFDBcsAGQIHALM9uwGIScMB/vHXAkr9/wLGsdMDAx3rAcdFswNeJe8APr3bAxERzwGcdcMA4y3bAGYpxwEl9e8AbeXLAZPJ9wN+8aMCUpoDATEluwNMFasCJ4X3AEv9lwO27gMBn0XfArPxwwMQHg8BGYHjAqgpzwECvesCOjmnA0Mh3wHkze8CCbnLAKJB8wKEscsBV+nLAON6EwKNmdcCeo3rA2Jl1wPFyf8BgBXnA8WNwwMH1d8C0x3nAYLZ6wAgKasAvVHPAI1R6wA9TgcA37WzATyGBwIjje8A1HXPATD5uwGd/fMBJBH/AqKp4wINldsA0pnrAQsV2wH3KecBc8HvAaRCCwP7ndcDaiX3AsRJuwJP7fsCuv3jAjvuAwKhsfsCsMXzAWZFtwAxIb8AtEHnAppR1wK4SgMDYzXTAv6N2wD23bMDEfIHAZ8dtwHKndcC4OXrA51RrwEdidsAzNnDALlaAwM1BesCMunHAhHuCwDJUaMCQknvAP8R1wGlfccBng2zA4DR3wGjWcMACf3jAwnl3wM7RaMDRvYDAZ+GCwD5LccBEknnAsN5owFAQdMBjTnPAsJJ+wP12gMCLgm3AoK9owHS7dcBdtH3Ad3x7wHrZc8Av6IDAcWp5wDc9ZMBVqnTAvBaAwH+MdMAIbXXAQ4t6wEGLf8CilnPAuqWAwMDGfcDVpn7AXDZ4wGIjf8APNHXAtf1zwIr+eMAU83DAUI51wMgjfMCdioHAH2JvwKXNc8Brg3HAO0CCwAJ7e8C3i2/AoEN8wBSFesCtZnnAMFSAwLuRZcCxWmzAF7tewDBPZMCmY3rA2CSBwFuGb8ANL3DAElNuwHUqV8DJRVzAEx11wIZResCGNH/AiZ53wEg6e8DzGmXAm8dwwJN+ZMCL+GnALZyAwFK6eMAf7XTAUkp1wPWpcsDvhG/AI4plwDCGesB1xHzAPQqBwLEIfcCg33rAO2h9wJMLgMAQNH7A",
            "dtype": "f4"
           }
          },
          {
           "axis": {
            "matches": true
           },
           "label": "1",
           "values": {
            "bdata": "O8prPul5CD88M3Y+UBafPm7p/D45LOY+AgztPnmdBD972Pc+qMf8PrM3pT5pd8k90koGP2lH4z2Ov/4+5sEHP7l8kj7T0Os+K67bPtLlyz7LN6E+4SF4PmdY4z7YQQQ/V3PdPpCnoj7hBhE/35fpPnbn5D5bVfs+x0PePsenFj/+9wc9PPejPpGQK75OzfQ+Bh34PjCCDD8RI+I+C4QaP9Te6j5W4aA+A9UhP4iU3T7Qygo/DDYNPwoI2T4hz60+t74KP8xL3D5iM8E+HfwhP5B9Dz8Z8xI/a3CUuxPC0D4B62g+wlzlPvG81z4Gxug+BijZPmyplT6kcvQ+5JvAPiWsAT9jGg4/E04XP8zF6T5NIwo/2wn3Pna4zj7SSB0/ArgTPz5dJz9ntcg+A9vZPj+T/T6rY9o+8DqrPmZs+z7jiw8/E0QOP/eI/D4lrLU+3pM4PkJq3z7IjnI+i5PWPr4Svj6+wdk9k8/dPl1FKT7gQ+A+dWGzPu1VAD/hGe4+HcLDPudL7z5lXFY+TC7LPhQ3HD+A5gU/iD62PiVWCT+lW+w+OYXIPtbvMj88qgE/8gM+P3W/ED/kos8+KfFPPh0VAT8JvwY+KcrdPrgU4z4+np8+Y5+ZPr7czj5uleI+r4uWPjQpnj6xpoo+0UqjPiPOPjwzfs0+ZYIDP97Z8z61o40+sNsPP0s48T5PiPE+0re+PgENqz6lMCw/0SMLPwPk2j4lpRI+U3PpPsdQ4j7EoIg+zHqaPREgGT/JpeY+n470PrcJ1D4kvAI/eznRPucunz7AQSw/tkIWP9ZzKj8Qw/M+ugpFOj35AD9RBCg+ij/vPmXnqj4cV2Q+U7ZnPkWXzD7G2Zc+KDT7PtZgoD5FR/8+9ZbcPkjf1j7ECBI/NR/aPsIirj7vvKs+RA5kPiDDBD+AqKA8bMnuPmBYoD6OOpE+eN6gPnrFqT5o5jk/OIXsPjP8GT9fDsM+VMQRP0rJoD5Stxw/xWQSP+T0dT4kbwM+t7OxPp2I2T5z+Ps+ZbDLPlaR/z5Jo7Q+XFXkPnRXHT62da0+UHPKPpVT3j2xghU/wt3NPnnB3D68SwY/xd/jPjVpCD+Rk+c+vg7wPr4w2z7gvtA+4ZHqPpt68z5109U+TVe5Pgbx1j5wBPo+C1zEPhLRDz9OZwY/lhTiPnAQIj/XcQc/EFHJPgl31z4fiuw+J5AWP4tJaz4AblI+ZqXRPim91j78fwA/yizvPunwtz6FB/g+KYoAPw9qIj+u/xg/FHPZPgKLvj5aq2s+5lzlPgZt2j51yCE/yO/gPqQeAz9HAQM/lNHcPjIMBD+ICww/ATfRPr2FBz8CG8A+R7UCP4wSrT610bk+G9zCPsNIzD4AFgg/GngiP+1l+z7CtrQ+JPLCPnP1Fj+G/ak+dOg6PpjZqz6HR5M+s3y5Pm/3kT6OV6o+VSXIPkWUfT1NH/Y+NBARP+ATdT6h1cU+7ajxPre8oz4WT9Y+CWK6Pk2z9D4QdP8+kUUAP/t0oT4+xQE/QIW2PjEhFj92DeY+N+MIvbrK2T7Yaug+LFO4Prk/zT6BBgo/mOWsPpXwFT/G3O8+uzmpPuh4ED6fXfw+qK7IPrJI5D4+UAI/vD2NPksUZj5+IsY9LOmBPu+NGj+AT8w+jzzxPugsqD59qmA+RDULP7FB1T6xjfc+Vnb3PkJ/Cj/T4wI9E6a+PQlBzD7Frfw+eXUMP28GBj8pvks+gLfHPpuIlT5vpds+ph8RP+EZ7j5XMdc+vv3nPgI8wT5IGAI/9sCrPv6IDj+5uto+",
            "dtype": "f4"
           }
          },
          {
           "axis": {
            "matches": true
           },
           "label": "2",
           "values": {
            "bdata": "L6JMvavc1D6sIfs9YnccPtSSRD9Vw8I+FkwMP/JdFj7xBlo+LhW5Ph9VtD6nL7s+lcEKP12PtrvtFLc+fi3+PvboJT5leIU+LIMSP3XB1j1zVek88R76vLNxqT6Jya09J7GWPjUpnz5KHPc+2SxzPn8sEz/9n8K8ILLYvG5HKz8LT7O8SkVpvhx7uT3334k+vMsOP2z3cr2fNUY+sobRPkmfVz4hNIY93Nv6PnpsjT79p4E+orjmPihXHr1TdSC8G0wIP4nKgz45Mj4+S341Pzd8Nj7Od4C9ceBMvvDBbj0dANS+nIAQPiU3mz7ltB69DEHPPkONvz742VQ/xwMrPxQ2Mz8izv4+Oh/xPvyOkj6pFgA+KUAKP/vIlT5VD8U+KvW6Pn2BJz+uJG0+ETIBP29OEz84Edc+wGiMPWY5kz4tLec+PGu9PmLXSj5mPhi9ERylOwQw1T4IyRQ+TXoqPi88Az+CqLw+KP3IPuW7Bb3alj0+Xe1uPQZQRT6rXAE/49gWP8M2Kj50/i496uGLPtb2CD4a8Bo/ahviPqk3hzw5R6U+kL76uoR8SD+A68M9foApP0L48z2TrYs+FGW9venJ2T4g7HY+/aKqPe4/DT6FtNc9IIbPPHlLMj/swsw9JX+pPrqunr6gntw9T2+1Pi6lJD0zXX0+N6yvPqNYDD2WlLA9XroKPrniRT2YeCs9SWOZPmSNcT766Sc/MEXiPOikU711NMs+y2mkPtwgAj9Eyk67Wv6LvRVl4T5byds+zDDBPuuh3j2xn+U+wRoxPmgypD5ig9Q+s/3NPvyYAz+JdVu9XtNFvi4YAT7I8Qo+59OePq61uz4VDQC+RYfQPXl4Iz+EeOU8AtYFPX6csr0Ph6M+dAaSPhM+nDyGJr4+6QuVPeYiPj6k5mk+QlrCPs/AaD1qCSg+sIvgPg1VOb3jE8i7nSZ5Pp8oEz78y18+N1cgPlyTij5weOY+DIFOPYNUnD710vo6cyYOP/16Iz9Zn+G9ShDWPcGxzL2d0V8/w4nWPcUp8D5ZqUs+vE0sPq0v5z1q4TA+BOKHPXqRab1SvbQ+wBwjPaXsrT6PvgI/Aml7PumPAT/YTtc+iHoFP0mJ8D7icQc/B9wXPwWxOj7TqD4/o5CDPb4pjrwQdPU+m9e3vdj47j50lyy+/k9BvX5O/T7Z0ZY+cpxJPj3Lpj6Paoc9mKkwP5LwBL39oPG8A6enPvK9RT0MN5g+rKruPQ4GL7zoOgQ+hG2kPmVnhD21+fw+xoQ8PkHnRT5u3bu9haKkPszXxD4bZxM/qJJ7vR5d6z4F+xk/iK0JO07F1z54DwU/hHDevbIyRD5kmt69YgvevMO5PT4iAvQ+WrTRPhR1Rj6RRP0+kSb1PSNjnD6m7YA+NAZgvShU8T6Fr249WgJrPjMvwj4EJkU+X6XkPCkE77wXoFo+K0FcP4T/mD4A35Q97m/GPmPxjT6LQ28+va0fPj8qZD4iFVY+MdF1PpEvyT7odBU/T+vBPSGRqj4IShY+yz12vU6x4j57PSI+RVoqvbxz9T3KNoi7CYDkPuVzS76Gcgc+iEK2vHoO2j5GlSQ/z2eePcaFHr6hJH89MP1mPrvpnj4FErw+y8OAPkKYezy7dOK8s3qCPdkmcj51DR4/SlnkPpK44D5I09K9PTu1PVN8Oj8lzA29wbPyPtxVNz9R8Sq+HYV7vVFqmD4TqPE9h8YSviRZkr3Y7AC7nm/DPVycdLu4gJM+/ImcPqtcAT9ujPQ+/3bcPtI/eD7gmBg/vzzDPn8u6j7n1wE/",
            "dtype": "f4"
           }
          },
          {
           "axis": {
            "matches": true
           },
           "label": "3",
           "values": {
            "bdata": "h+0ovsi/i77FkZ29S4kivobpdbwbFty9TnfKvdKvE76gZaC+W2wWvp6Iir4lL56+cDh7vpjuBb38Vfq9CfhZvmPGjL1GOIW+h/4ovZi64D38RZ68UdtQPGfBhb3QZJO9EiwwvudC8L0EXKi+LX5uvkiEGL4MVzi+gq9svlQd8b08q1O+Ba/CPc9vwzyscxq9dL4gviTQvr5+n/Q8ic+AvrHvXb4NMpq9IHYCvlzEBL6II9i+YHQxvqMWFr0Sbk49ZGtTvQgXNL6oty++uENyvumGbr7NIui9iTptvm54Rb52fGg+JUKlvhCpPz3Z2jC+qibvvtOaPL5u8hk9xdD9vGNxXD0jfRw8Xsc5voRb1LsCf3a+itByvhdgAT7Sj5w9ry/sPbq7t70Um02+sI2Evqdqpr4WmwW9iap3PR2hIb5c9UO+sw2uvcOoDD3y6HS+1a0TvhJ1Kj0byju+H1+EPQGf7jxv8M09jimMvjBLWb5exAq+EcYHPXVASL5nbkW+g7+pvacNib4qr8I8QcXHvLahFr5xPIS9h9ibvQd2pr7h2Y6+VdiOvozABj0SuZy+1rpQvgN03D29ljO9B8f8vSk46z3MbB++A+c9vjHMjr6VBZ2+aNlyvlFafL33Tgi+B1VGPRkI071pVh6+CkYvvfFyXb5uTOu9DC0Svi+FZb72pqM+TkiLvlChH75hf8O+wBxDPr3kmbp3Z9W8O7+Lvatzi74kLLS+WyE/voE2PD6WIOk8sIKRvluV7juRsGC+vYFYvdZLH74fAxC+/O25vikRW72Zfw2+QvyzvqRsI77I8/69Fpd+vgbkH71eKLY9AzyGvkdvJj2lPJ09YVIwvonT4r0WRgq+0B9Lvtcys76IwUy+faSjvGZthb73aVC9LD0zvjESN77qqZe+8xaoPHmfUD0kFDg9RX6dvc/ckr6IthA+AsIFvgVoo74R8Ri+0+GUvkMrIr78sco8Mw8FvdBwqL3Yjdy9LUdXvubda72EWIm+Ttu7vuZAV77bTZ29gSnWvVZAMr5xDEA9AQc7vpwVorwDbn++fsI1vp6AR75Sguw9J7/ZvLlKrj3QFDK9n/ppvoymuL2b+MM9zx/QPOdRXb55uJy+//eavdgIYz1kiQE+PgBnvo1hvL7D2CO+O1ohviQjt71bQDG+sChtvgFljr6Yd2y+NCtEvrX0jL4XfUq+oj3yvXqOBb08RFm+sqbvvUrqBr0NtYO+xGHqvcrMM747ZVC+/xnIvLqdWL4UT8O97yGePEiPGL4u2qe+WuZhvh59Eb5t3Nu99hy5PQjN1TzvmgW9ykKLvpm2u74JToO9ZA37vee7m71jT2++feX6vCgDFb24bAC+LMOQviwwcL77ZAG+I3u3vUkXqr1INow+o8IfvoNekb7Nbge+3WslvsQ8qb0hvd6+yPkhvvUMGb51O36+QKzYvdHnRT7C4Cm+UtOCvgo2Sj7e0bW9YsNavqSVWr4TVWq93YLpvfqGZ76EXdW92Z8fvRqF8r1rZKW+dgkAPi6SB77AQDy+bBJivqxOkL5Q4yq+FRksviQZdb6cw6w8Imx0vtP1Jr7p6Lc9eCdUvkxAhb6rX3i+dcksvo0qML1VWRA9P8BrPk/gkr7Mvma+ZPlnvYgZJr72XxA++SiWvd1uYj3Ncia+nfM7vrA0E74BOf+9o50Bvkt7jr7XP2S+NDvDvdSq771f0l++3WQdvtkc8r4Eqn69YoGbvrQvZb70YEM+fj8GvmduRb6d1Pi9SOUrvgNLmjtPrSq+x4cmvtNLPjycK/W9",
            "dtype": "f4"
           }
          },
          {
           "axis": {
            "matches": true
           },
           "label": "4",
           "values": {
            "bdata": "6lmUPvz6kL15lLM9kSaLPj4Agb6mx4S9e/aJvYq4jT00ZFU+GNP7vdO/+rxTH8+9WC7ivZAJar6sIdQ9PluvPdvTHr5NK6S8J9cDvtvZU70ByVa+qIqJO298Fr7mSC296+TLvBfElj0ryC2+kuRWvm0Ysbvl/V89hiqPPm1CiDsu1bA9yNdtvhVQFD67ds+9GfQhvskoc73+m4u+mzq1vBx/gr2vZwo9jIoJvplzgLyUFkg9h1uLPT2Cdj247bA9OjlHvqr1ortGuUS+TqUIvtKxCb6xQyO9q9KDPoqTAz5F4Yi+5sg7Pg84Kb39q3E9zNazvQYUdz5mYFO+/8e1PUyger4Iz468neLevJMAvb17Hxe+ef0HvjwxC76rg8O9cpvQvSteOb7CK/g942USvZNKrr1GvKC9y61TvajDw728oRC+Xli5vYDY6j35F48+oE+fPkeR772+8Uw+X4NRvi+2ir0HHG4+mcHhvf+S+z0IUVI+F9I+PRMtJj5xrwG+RqV8u6jDcj6XyIo+/WbfPMX3ib3Nsya+B+sYvlC2UT2vJ8a8v/ooPg/KVr78/gk+hDDhvcdGwzxHZZg8MjBfvPLpWr4zDQS9NWi+vZ3u8TyM/ts9HyZQPZpdMz7Sw508ZZiHPfWuFz4bJns+z97DO4s/zD2e9JE9vZWGveHqhD1OnFO+qUKqPVbCuD27aBQ+TIdxvnR6C729Lk29bkSQvaMU5z11hgO+HOkpPhM1nzfoZx2+CnlFPgAJC70vjcO9ZzfDvYoDST7kp5O9xWb/PaAdIbxp1ki9VHYXPSCKpDx+66a9E1KzPuASEb5SObO9RIPkvbpybb2bKkW9jMVNPrJBPb3IN5w91u2IPiIEkT5rNM+9Ha0nvkwTPD7O8C494jA6vUVAhj5TA3m9dRgSvZ3Mcb5Dzry944AVvsF/Aj4HmBq+ztKRPqFOl73zLMm8WzckPGA50T1Ypn88wKX8u6tg8T26OrE5nspePRHyor2CoL0+fYksvUwbLT4UUdG9+xsoOraCIb44bhO+96hBPXbvBT6dJZE9P1pePTzAdD7ibr+95LzbvdzUbL7+28e9kSkWPh8fUb4U8ii+ZFRBvjwrwr3bC/u7oOGMuziRoL0z5AO+VRBLPS4xLj7rP1y9wwMxPqk46Lxy0AW8GD0dPgb5eL1o9f29PXw6vYrnkb3xh+g7gsGJvhHGmTxlFm89z67aPWPigb2pf8G9QZ6uvVI6hD4kplk+u4ykvY7VMb5hmL48k9o+vjoTU7z60MY+ZsWQul8+6LxHfEK+1BajvcCmrrzc/zm+udkhPljS+7wZDhS9h8HtPbuDA7yznxQ+fS+GvLu6f7wG8Yg7/9sovjUggzzC1iO+p7TtPdwmab35Dxg9aW60O/yNoDx7UvC8XuAXPnhH8ju0pnc9C7aZvYRXWT5IMuM8FX/Uvd9Pg714x1M9vfQovmSsOr5BQ4a9OMAfvQezBj36oGw8bHkqPqOSuLw2j4K97XYCvvx4qr2ciZA7QGsYvgGtCr6Wjg4+ZN+lPUaoQT3jtzE8N9kcPZbuYz4UCa495pQxPkZPAb5B93G+/nlMPvfKhj7P1a68BWtdvde99b109i+95yKRPIlJ3j6IRJo9/OUBviK3ez2+VfS9wiQwvoUisr2tR60+zuZKPlYQij1+GMC8Wtt4vq/4RL64HZU+g9CCPmPgJ7wH5Aw+RZ6YvS2cAD5h/HQ+H1lAPa7PmT4FIoK+obF6PXGvAb4gbCK9qOmJvd12rj3B1si9FPUbvvaWAL4OLAC+",
            "dtype": "f4"
           }
          }
         ],
         "hovertemplate": "color=business<br>%{xaxis.title.text}=%{x}<br>%{yaxis.title.text}=%{y}<extra></extra>",
         "legendgroup": "business",
         "marker": {
          "color": "#636efa",
          "symbol": "circle"
         },
         "name": "business",
         "showlegend": true,
         "type": "splom"
        },
        {
         "diagonal": {
          "visible": false
         },
         "dimensions": [
          {
           "axis": {
            "matches": true
           },
           "label": "0",
           "values": {
            "bdata": "1X19wGqzcMBekXfAGvV1wAnCdsD0fnLAJTt0wM0kd8A1WXjAIid4wBZbc8D/tWTAGhVywHTxgMBUam7A6Ih8wADgbcBISH3AD6ZkwMmae8CsX3zApoJvwPMGa8CgrnvAeXd9wOj8hMB3w3fALA6BwD4kbsDrZHrAnj55wIlKdcDOgoDAsIZ0wN5EdcDrZHrA2whzwPgtaMB1Ln3ASK9ywCYwgMBgc2rAQtp4wEyVe8BvHmvAMQ5twEoQgsCfonXAQKZ9wK1MeMAx2G3AvCptwDHYbcD7fXLAH/ZuwDDWZcDxVHHAFBN7wIBlgMDPR2rAW+2BwDGkgMApE3nAmYt9wHLEdMCSsIDAHDN9wJhvecD20H/Abb92wBEpdsDknHDAsoV/wGDofcD60H3AERZ9wF6ZfsAugHfA0IB6wBLsdMBxsXXAfbV1wMmxdsDvb3XAMh1xwPXidMDN9G3A2whzwHfxZsAAEGDAC11swJouesDknHDApnhowNONbcD5znXAcxV0wBuHdcAJAGvAWKB9wMlJasA3iHLAdTd8wJIcecDKZ3HAG3GAwLQCdMCfSmfA4XBwwCVKgMCLI3HAJ9dswCUtcsALy3TA1Wx0wP6qe8BKEILA4Nh/wAlze8Dg8G7AXtl4wIlib8BXVHLA8g5/wJNnhsBZNnfAuZ91wA8MdMB0eGzAURF6wJTCf8BdF3bAF/x2wDPWc8DTqX3A361vwAkAa8BCwWfAAOBtwJ+idcCSjHnAz+J+wPfcaMBFunzAk2N2wC2QeMAxpIDAGGdmwJrefcCyUnLAmvBwwDZefsCkT2/A99xowEW6fMDI6HPA9MF0wIB1gMBBFnDAS4V0wK2CcMCP5XbA5OF8wMT8gcDW8XvAJHdmwNzOesDecGbAu0tywImBa8BvxW/Ap692wD9XbMAqnGnArYJwwKvWbsDvb3XAQFNvwEHKg8AtSYDAsPt1wEb6dMCTG2nAyZp7wBHxgMCkjW/A041twKZ4aMAukHbAHU94wPDdbcAdEnfA2bl+wL7jdcD7HHfACzBxwBqsfsCuSXrA5BB6wOQjfsCZhYHANXN8wOQQesBtnHbAk/t1wLQxesDkH3vAk2N2wB/2bsBaInLAJKRuwJRbesAX+mzAR35wwDgjdsDbR3LA6fZywKFvdMDcZ2HA+IBwwAg/gMCsOnrAqSd0wJNif8A0V3LAiWJvwDDWZcC9KW/AzA91wHVtcsDY0nfALoB3wM2jdMAs0HnAwSV0wL9fb8CywWLA8VRxwFN0dsA4snrAGGdmwArwd8CHy3jAxhh6wLscfMChb3TA1Wx0wMM1dMD8IV7A8990wHTxgMDfVnnAtDF6wBY5eMBGK3LAjYdgwBMTcsDpUXXAvCx5wLe7fsCMH2rA",
            "dtype": "f4"
           }
          },
          {
           "axis": {
            "matches": true
           },
           "label": "1",
           "values": {
            "bdata": "l6mBPsyPiz6zI9g+jbaxPsfqYz7IH8A+zTfWPU2c9j0pZBQ/JbXlPoYg67w+FY8+OCasPu3UmjwNtn0+K66UPoL2wT5B6Ak+28RYvXTJzD5fHdM+tyJ2PpGXOT0kVpc9SFftPqf/BD1KLuU++3FZPukntT68a9A+JALYPjW/9D7GzZI+iHT7PqYXzT68a9A+5xKFPm9LQz6dph8+xxA/PsJMqj4EzIw+/eTvPojktj4aHQk/WLHIPeJaOz68j5M+JeltPl39Qj6odaE+aoAKP6h1oT7GkWQ+VWefPkOokj0NE80+uhcBPgC70T6mmTK+gR8cPoDTuD4f+YE++xG2PZGklz6+DYI+TayoPgMBxT4ktx6+kSk6utoRET6FBLk++tauPjnAhj7TyYI+Fo5dvkGUeD77Lj49W6CAu/7ElD4tW7E+vMQCPcm6mD4AXrw+X2pYPrjmVT7dvLU+5xKFPnST3D5KcLg+W6jYvXhzIT+FBLk+CImOPl0YPD4Er04+hfbZvcp3Cr4DPPw+rmT1PQcjSz1Bth4+TBAXP+HTZD7PNpk+fZ5xPpbZhT4ZF8o+8Ax0vQWGlD5YBhA+Q8OdPncq5j6RGZM+3aihvfJoej7iWjs+q3+sPpeMcz5UPMU+epNlPiPNAT92bjs+GkkDP5Q3xT4qYqY+Hjz2PtA8BD+KCpo+J89UPpqRqj6O+48+ldCcPpOGoz7Gd4c+hKS6PgM8/D53dhC+gvbBPryPkz5FOek+gBMEPjSNBD8GwyY+fQCzPvZf0D6A07g+sFcSP5OB7T43chi9oLHXPsrckD6A00U9NI0EPwbDJj4I1CI+EjHrPUkUkz7XkmI+cUvQPbjiAT+KGpM+hFIbPrjKWT4B2N8+EI7FPmwKUT5qyc0+/t7QPtXMdD5mlIg+NcTpPUMXBj9I1eA+uOIBP6h9Dj8AXrw+Fx8/Ph2IuD4lWCw93FCvPhIe2bwoCME+dMnMPnbIML0EeNc8XRg8PgiJjj6Ra3g+0W+3PuygyT4tQtA+zVlAPuMSHz4lp8o+rD7FPmK+OT2cHuo+Zx1ivlnSoT5V8ow+WlnOPmcdYr4AjBo/WMKnvVmsnj7nocQ+fQCzPlVnnz5nmMo+H6OQPgUGsz7UfMY+e7uHPpLNxT4RisE+/NLpPgpogj65RgU/Ds2JPoz9PTx9BpQ+D9wCP/UsxD3Juc8+I80BP0Ookj2lv+k+CxtyPmYazT7C8Yc++y4+PU53pz4yZJQ+UXBKPjrCAD0Z6wM+DRPNPu883L1CkLI+sFcSP0sa9T5MSfQ+5XkAP+6onz4KaII+3aihvdnP4z6sWQk+FqWtPu3UmjyG+CI5WayePmPwRz5U47Y+pMKePkcOzj4G2g49PymsPtwTpj6D+6U+",
            "dtype": "f4"
           }
          },
          {
           "axis": {
            "matches": true
           },
           "label": "2",
           "values": {
            "bdata": "ZlayvpKbQL5iDpW9zLaZvvtmX76itNi8sNkuPmrUn75sjA4+r29Evbuvvj6CGbQ94VQBvmjMu743AZG+ZbvWve/ZIr72n96+LbtJvpMzCb9Q84O+MvKjvgvVVr6sdaq+fCrIvjEcyL43q0q9DKfvvmVZ6T240LS+us2NvjqTaL30sse9T8t3vkn9n7640LS+xgfavp8X/TzIPI+9AGlNPs51iL71K/6+japaPiEeHr7ulqS+CgWqvUGSgb6Q+gw9pCSivlHTfr6tG6q+lUVNvq0bqr6OmZ2+xkotvK/+Fr6VGjG+Jx1Svg0JjL2bG0I+rqq8viAujr6zkru+EVULvzRLaL7Smcq+K4IwPdKOD77DT5o8z/s4vmfzRL7aKEe+H0MTPnNSAb+CgLK+rGCzvfoge75l0ry+bpS+vi/8275jRZa+WHmTve57rr2NEiK97uk3vd85YL1EiMC+xgfavv3HnD36lMK+K0aSvhn4Rr7aKEe+vSyRvljZlT0yC+o9UTuCvrABlr6y/hC++PKRvhEaMb4A5aO9x7KoPipCiT5Dxbe+hTCAvu8fuLyo11y+7XGZvsAzcb515EO+jgrqvakEIb6ghdm+jQIuvldGOL5BkoG+LbMVPmWgEb5v4ya9/3LHvdq9p75BCpE+VOyCvsLJCL4njC6+RwuAvYboe76ifN0+2vZtvldf/Ttmp5G9znk2vk98t74I7o++ZubAvrL+EL66JRG+79kivpD6DD02VJa+2szPvrynl759yR09W7ABvj3yur4gLo6+s9cVvhlzYL5S9I2+U0YQvre+1765V6a+vKeXvn3JHT11Tae9JIqPvk4ix7057yo9HJ6Rvhi1rb5z6iU7ZTYdvm+J477McIm+mgPZvq5Zer6QYza+c8lyvu+JZr5wq6e+IQbFvZi+kL4nXry+GLWtvm7uPD6NEiK9kWmuPYUzg75nl52+X5aZvs6SrT71WYe+kzMJv6gXEL+L55O+WNmVPb0skb6dm+W9jYmmvoo0r74MWwC+MKwGPpN5lb4JPYe+Riktvgc6Db+gWQu+p/u/PvmFZr6an8C+YF5dvqf7vz6s508+KK+2vhVFN77yAau+W7ABvsZKLbwwzZC+jRxNvg/Kar0FF5e9bugIvzFbyzzdE8y8QRHFvYgrBb7aCYe9L2++vlZQ8b433oG+Q8p+vu6Bd74l8FA+2r2nvq/+Fr4ssLa+2ZBjvjCyUD5h6qG+ZdK8vmy9c75kRpG+vACFvpXllb6SlZw+lRoxvqsWtb3P5eG9s9cVvgnv777yOOC9EIXovssqgr6IKwW+jQIuvvxbu74K3oO8Gmu9vmjMu77mloY+FUU3vh6D476C10++suLKvqNVG76xFLe+59ecvlSwFLpvo2C+",
            "dtype": "f4"
           }
          },
          {
           "axis": {
            "matches": true
           },
           "label": "3",
           "values": {
            "bdata": "iQOhPqxb5z6sXxw+P4OpPioA6T5Olb8+bDhLPckN5z4znFY+TFq9PiqWoD6VyAU/hPZ4PW/0vz7QD1K8xDHNPhVO+T5H+T4+97CyPvm8GD6OsIg+NRkCPzID4j43vdM+ebFFPvW5jj5IAr8+jPmuPrLwij7o758+1mz/vSJ6pD6Esb4+kEElPsMhNT7o758+DXSdPr5giD7ODNY+dHTDPjgXCj4fRbM+d8FoPhfHoD70B/M+qzzMPmMubz41K9E+IkyBPurI5z7Z+1k+td0YP9n7WT4XmpQ+0hRmPlkQlz2NSO4+vC2OPo/z6D2PxCY/ARjSPps5YL5i7W8+t+irPmvD9j5ukkU9RSWpPkmIQT5NMyA+/tBzPpCP2j7aBgI/vvKGPvZFzj2Ew58+u+9gPkJBvD6vjcg+CkHSPsx/jT6v3/E9qyzIPi8cTz7SY5Y+IDzDPiYY0D7RgyQ/DXSdPtlS5T6lSps+DNllPi5bxT7aBgI/VoewPjQoAz/3srM+YYaIPougQz76TV8+KxiZPjWX4j6e7dg+wkl1Pvzh9D4kYNI9+o+LPsnL3j6uLqQ+bd6ZPg0blT76i9k+BXscPqQytj4ddow+Ma6vPqFC4D5jLm8+mb2HPtPwHD5GsR0+XPeXPuK/wz7cBkM+2HcjPuzaFz7hGQk/vu6jPpwQTT6fj9M+m3m+PiaRYz64hMU+w8oSPdLvFT7lbUc+1btzPvpNXz5ZnBI+FU75PjUr0T6ZHuE+JWIWPvw1lz4PPJA+fY/lPrFVTD6bOWC+Y9PyPmmiOz4PPcU+TJjdPhPAcz5quEA+/DWXPg88kD7XOQI/G/LxPaSVvj58+Pg+vUDYPrJnmD6kad49p8bNPnVifz4R5Tu9gYvWPn5Skz6hkDw+CqmzPhXAuz5r6Hk+P7imPmenuD6Shcw+smeYPi8/hT7SY5Y+JCT5PoJ1Rj7dXUM+uA2qPgadjD6bWqM++bwYPhxMeD4CHdc+NCgDP1aHsD6NTRM/l2msPjG7rT5EIaM+yMEEPcqinT4KN0++RC/rPogGWD7HVE4+ehnNPi6yXD3gssg9mAr5PXoZzT6UYYY+NEHSPt1aLD7JTnc+fY/lPtIUZj7mynM+42doPisduj5dsr28P6V8PvvezD6hbZg+H+uMPu2j9z58atU+4WTOPsPXCT5FZMw+9GlMPseN4D7XX4U+4r/DPlkQlz3ZG68+AqwIPnjugz7Gc5c+r43IPp6wDj8kIVU+RKcKPzMh2T4ynU4+jUjuPqpN0j6Ihbc+Y9PyPgy/Nz6Ghnw+Eb+CPgQO3D7to/c+Ma6vPqqS3z5CW/0+v5q5Pm/0vz50vNY+3VosPgBmlT4SS9Q+++2IPu5dgz5Eb0c++YqfPvTF/T4x33s+",
            "dtype": "f4"
           }
          },
          {
           "axis": {
            "matches": true
           },
           "label": "4",
           "values": {
            "bdata": "Ey+Tvhqbl75jXqi+lmQfvoj4Vr2RQcq9r3o3PYyun73CHpm7rU4TvofRqb5yl4i+aOU3PtEnlL4A7Dw+SGZ4vnhRi76BJR6+9biIvnecvrtz1dG97jYAv2dkkb69VLm98RdMvoXJU75w4hG+0NSnvoDhv730b1++vH0TPdnnkr5VP5y+Vp+YvmazXL70b1++VUUvvrymF74sbHO+9zpcvqpTrLzn5rW+J/+3vY9/xr4beLa+Oy2BvqeAL757SwW+byjGvncMt747VhO+yWirvjtWE77E9T6+oGAUPhyNcj6blZ6+24V/vgl95b3FSEA+o5eMvt2DBT76IM+9XtgjvkyCub6ZzZa96hecvsjAU71jPT++3BQkvoPSwL5Y8n++NkkzvjQLnr7qQ5G+6ZS2PAkQPr0AEIi9fMf6vmDCVb5eA4w9tQsVvnE7lb7kDla+BfkmvoR+Q75I9pe+VUUvvlxAYb4tM12+PUVFvoQWsr5Y8n++OoBLvouRtL0+z0e+lS1rvqYzfr0mOe69FcWrvvS7i77F96y+F66Bvvh4fb4to+891Y4oPbHph75q8Ya+UMlbvp/Zqr7QEau+lI/uvB3CRb5csVS+pe2nvVoo+b2ngC++fNcxvl8WWL3sX/O9pZ0avifje77pQ8O9Khcnviu3WL7jcZG+8JWTvnCoUL4PJou++TQUvcpqS766xe29b2/jPa4efb4Pd4G+zZZRviY57r0f4yq+eFGLvntLBb6sdHy+hgYmPPGzVr5u/+i9ElGPvv+cOjzdgwU+EzTbvoimdL4tU6y+KzuOvhzseb4rsTq+8bNWvm7/6L0kBGG+tdtTPU78m757aZ2+0IedvQKiVb7FqTi+tN+kvg/3Ub5K8aw9JeqIvkU5hb6BX7C9rOydvvaIWr7rOn2+VbyzvYG/pL7gs62+AqJVvkU3aL7kDla+DnuMvk4Rjr6727O9ntwgviPEVr6x/qG+d5y+uwkkkL7huo6+i5G0vTqAS76TMSO+QmCgvgO7k76A70O9OQAOvXdJJb61IhA+4LpJvbSGRL7DpK48zhENPXKjlDtz9Fe+lWBBvs4RDT3nQXu+MFo9vqHnib6eZYS+ElGPvqBgFD7zCFW+/VLPvRHItr1kf6w9+u5zvjgGyr5c6oO+4YnPvhke5730C8O+ulvevu1PCjztmnS+G4hPvsLEub4neUW+J+N7vhyNcj4jj6a+KoeIPIVsRr7v1JE8ABCIvSLTq73xxZS+Jn2lvlRcjL7Aayu+m5WeviYbur2dtIy+EzTbvvYG4L1MLHK+JsIYvgwBlb4ZHue9pe2nvf2Pjr56LqC+1DxIvtEnlL7GTgi+oeeJvno1NL7ly26+qrhtvpqxfr5FgIU5/nw7vQUpTL6QpBm+",
            "dtype": "f4"
           }
          }
         ],
         "hovertemplate": "color=tech<br>%{xaxis.title.text}=%{x}<br>%{yaxis.title.text}=%{y}<extra></extra>",
         "legendgroup": "tech",
         "marker": {
          "color": "#EF553B",
          "symbol": "circle"
         },
         "name": "tech",
         "showlegend": true,
         "type": "splom"
        },
        {
         "diagonal": {
          "visible": false
         },
         "dimensions": [
          {
           "axis": {
            "matches": true
           },
           "label": "0",
           "values": {
            "bdata": "EF9xwDggfcDhw37AU1qBwC2da8AOFH3Aokp6wFbUecA/9nXA5C5/wK1obsBAlHjA/rWAwJWSecCkxXnA0gB7wGnNfMDd5H3ALnyFwOBFd8Cy+nzAo1V/wNaae8BrDIHAeNaAwKcna8D6iHPA5PmBwAAgdMAH5njA97p8wOR0bcDfzGnAWNl3wAgXdMAaEXrASYd3wLFgecDpb3rAv413wE9DdMAIF3TA2RCDwDWyecAm6nLAd6FtwFuZeMDpenTA7WOBwKKlfMCtVHvAInR6wJ7KgMDUvHrAL6V/wIA4fcCXDXbAP9VhwBxmeMBvEYPAIeN8wG5jesCgt3XAPe5zwCqId8BiUW7A9wyAwBojgcAOf4DAqINswBQddMDjQWzAk/1wwGD9gMDApHbA9EB3wICtd8CEcoLA/qB/wI8MfMBF/n7A2jpywCJueMCX8X3AK2N0wC+Ff8DSAHvAsMN7wLeofcC9pnzA52h4wAVkfMD14YPAjrR2wG7pfMD+roHAUxSBwKK2acAIOHXAgvp8wIZfesAOGn3AnEN3wBUge8ADn2vAjt16wKvsf8C+UXTAvZB2wOvcecDPSHnAi452wGFcdMDPwXbAKt57wPjZdsCFWG7AUIt6wHM2esCbkW/Ac0B9wBbCecAsW3/Alw94wJK9csDIpHDAFBV9wJErg8DimWvA0zJ7wC+VacC88n7A9nGEwOjQg8DlwnfAiDt/wHV3d8B/XHnAmwCFwA46eMDVCIHAZ3R0wHTsbMAcPYPATpKAwPcSgMCVG37AhNJvwJ6Md8Buj3fAOLxrwDKccsC6QHfAQAp7wJIuecBRkHfAeP58wKN+hMARwoLAPup7wNo0e8Bwd3fAAll9wLp5f8CYB4LAC32DwP4FfcDNd3zAAYh9wB8vgMCScXfAMkVYwMc0gMCwKHHADCd7wNldfMA7uX7AByZtwHylcsDXIHvAOkluwFCLesCjqnnAOtF1wKtIeMCcb3fAJK10wI8ye8C8AIDAhHN6wFKidsDefnfATr2CwFvfdsCD6YDAs/RowAWCgMAJfHzA+GN7wL1CgMBQq4HAxa54wCJFfMDhQHzA1+OBwPiZfcC5qmzAK5SAwC58hcDys3jA7EF8wO2JgMBDGIPAc69xwIanfsDxiIPAQAp7wJ0Id8DRg4PAREx7wOUsgcDBQ2nANVNnwPAMesB4IYHAB+Z4wJWPf8AtTHzAavl7wGIHc8A+v3fAHeh/wHBqg8CpwnnAcT6CwHHQdsCnS3fA3T6CwDLjccAumn7Al9F9wHlodMCPwnnAmmJ0wPp+fsBwj2vA3BJ9wGxldsASwnvAXbp9wNx6esCY9YfAhl96wKIddcC26HbAZep+wPfSdcADn2vAmEp1wGyfb8CuMIDATNV5wM29fsCwBoPALbN5wJ7GfMAMFn3AgM5+wHb+gcAB2XzAEiN9wHuddMCR8nXAh/5twA==",
            "dtype": "f4"
           }
          },
          {
           "axis": {
            "matches": true
           },
           "label": "1",
           "values": {
            "bdata": "DakDv1o8hb1wM38+S4qzPS04RT5AaC8+pXOYPm/FET6ihnk91P9JPYDelb63pK67R62GPoHUaT0IXhW9rdSpPu0oVT4hF1Q+5F+1PuUHhT4zT8O7dDAfPl0JGT5dnpg9PNHnvFeNQT1pSXC+7iqQPl+X+r1ZnRK9pAWFPgFB+D3z8b2+Krl3vhAnBb582f09XcyMPh2+Uj7XowA/Opg3Phxqdr0QJwW+/IQHPrK5Fz0VQTs87+TGPgBThT7wMsK9whRCPeTfBD35ncU+iwKovYb72j7EoBA92S+ePkKLxb2Bi709lq4evofrz7uWHhM+qsGtvZT2cj7ZDZo+DW87vZtOxj4EcOk+G2/nPfQ+wj3jMuA99WmzPsbbuz48Dzm9g3a8vdvMVj7/sdk9jUU2vANOhj1hjsA9j1MXvfjVIL31fPa9SviqPG9DuDwAxd08VGRIvlvYhz6t1Kk+V4YWPXY/MT7ZsTo+n6cVvkxykD2bS1o+vFhYPoeBOj6Ga7a9+dp4vkJAnr1KAjA+60oAPsZaRD4po4c+eRYyPm51mD5xboM9GkB0PqH9AT7KBqY+/a1DPrZ3nDwtfyw+70koPoq1ZT7Yhgg/GGpVPoFsiT6qRPO9Xc9dPSKAWD4AGBG+u7KhPuZAVD6okF8+EkozPgMEIj01ZpU9skEUPi+QMD5c1Jg9AmS6vZJnzb37upc+NtFfPUvFiz65DgQ9qhE3PiEbeT0HJ7Q8nBDcPcGHZz7MsJc9CGvqvfR2Hr7aDdC7VWqQPfNujT4kSAs+2GuiO7QDHz67HQS/vegpvqr3oL5J8o8+AuSlvtgsEj7xGcA+/pMRPpIfYT5R1JM9KPSCPgZOgb1tEg6+zH6mPsn+Nz5FnyE+WjbmPcvpgb3dwaM+nJIwPqsytz5IDza+l1udveXwJj6IBVw9ZZaWPj4HGT6ei2Y+VBbRvXsrer4ytYC9ohygPF3PXT0D9Ho9EioTPfDHGb4lwm8++STiPnE6kj6TYgU9Q3uwvZtjgT5fr3U+1p9tPqU+HT7TSAO9PbgqvkjBPT4O4RQ+Tx42vWeRBj//EKs8m0h6PXpUkz5kDFw+psGUPUIwsr0TmAe98TGGPeRftT4jaQy9iR0tPq0QnD0LAhA+bzBFvhHrrT416vA9AuSlvsCZFr31Zs89S2yDPmKPK715o8C9XCIlvnCQlT7Tv/M9WZ0Svcq1vT1voIO95O3VvPR9Iz6b4te9Zb/YPViHwj771TU+wt5zPaZdPryC2HU9aV5bPix3A77+wBY+hjmIPpPnAjzFhBC+g+ShPvLPwj2hAxI967SIvcB1i70dbAu+rpwpPvFHzL1MZqG9xlpEPqmVqT7OBhm9LCIlPRZpSL5xboM9HsGVvRry4D7Ingo9zCypvNuncz1UNAu8mZFUPq8NaT5P3+o9VNu2va8fCr7J7r0+O8xLPu5TqD25tpA+c87SvA==",
            "dtype": "f4"
           }
          },
          {
           "axis": {
            "matches": true
           },
           "label": "2",
           "values": {
            "bdata": "vtQ4vnXblb4aqAg9JI4fvgyJTT1oH9m+nT7mvbSS074RP6++jICkvgEh3r4bwKq+JaBEvgKPm74tx6O+p/oFvruoNb0Yrr6+Sfi6vsB8Q74zLNS+DjzFvugUp76xl46+58trvrMtj76A9NI9ddeivtOBybyvwme+xmyEvntUUj31r/+9daFkvgcghr4iSP+9vdM0Pfpb771dp329SelkPVDBUj0HIIa+SrsGvjmbyr4mP5+9kPoqvuBn+b29zI2+cXx3vuivrL0uwuO8QHKVvkPzKb6a2h49BTYGveHVCL7Cl5S+LsW2vmRKe76cSNq8JfaxvqNPVb6VJQu95hl3PRJkbb3Ihui8XRNPvvi8E75ydsa+rJHjvULtq7439FG9eS06vkKbpb4mL7K+P5ejvninJ74mxb++C+W0vsOkqr5B23a+4pEUvq0aGL5Kzwa/9Shxvmu+N76n+gW+seGKvjUa2L6Wg0C+MdoqPQbaAL6j/0C+vRApvlExoL5JWg299dKevt3P+b6jaf88hX2IvjmcWb5TA2G+zYB7vgrQs71ufKS+iZrqvGz4rL5lu/u+kHWfvRlwg76eOiq++UZyvlYo076y5Qs8nE/3vkrWAL+CV3u+7EjNviqGqrxu79q8CNtIvj782L4gnoG+N7+Xvv0CI754SKi+xWmXvl99n74gBc69/csivs3J3b3KFfu+GESCvpM4Wb5EjbW+8t6FvpZvnb1Pe6O+LZc/vjjiPr7uV4++P54Ovv0Ee74yc3u+3kCcvlWrBj7fv6S8zrsFvlZKc77/dXm+3BtFvsWWqLxOxh09gAnIvnhS0L5Gkcy9iO7mvXqKxr48rq++qFVTvlqKdr4VcIO+vEVwvpARH75Ryb++jK8WvsmmoL6JGt+9rlXZvsFaDr7ul2q9dWxqPr7+Eb4t9b6+Chg2vn3eaL72XQ2/osyrvTFG2r79iGK+9+MGv+xIzb7uCaG+QJCWvvnCk75TNYK8jTxJvruLk76qnFO+x3KBvmHtxr6wvc6+NkaCvrAfu74W5sC+0HdyvU7WZr7++qK+DoG0vvPoQL6HaYM9V844vhItOb64EsS+PUiUvo+Yk77jfZG+Z12jvkn4ur7u1qu+6wCAvpgS5L7Plx6+lBq/PHJWxL5Igyq+gAnIvrTaV77T6+G+XrJ0vgDLnL4Jw6K9nisOvHd8d71xVgm+r8JnvjydWL5Ti8S+p62cvsZ0BL+X8J++4hfzvWqFY745hhs9M0ubvu+qvL51cT++YNzKPcyLWr6NdpG+8EAavnnNpr4I0ha+lSNHO3Tgkb6rnR0+Wb2ivrtuzr51ysC+Ez+1vl/Kir6VhAK/OZxZvqseZ72mtlq+B3FtvvsQZr5ufKS+p8ucvgL1prtXMNG9Xr94vgCglr4FZK6+ns3ZvkEueL4lvtO+EZekvjVw7b750be8Cddcviya677VJva8SSERvQ==",
            "dtype": "f4"
           }
          },
          {
           "axis": {
            "matches": true
           },
           "label": "3",
           "values": {
            "bdata": "65igvK5rf74UUcu+rHGRvt24YL1EToW+bMSxvuZMkr5iwB++zkszvvSqYL5nAwe+cEumvq3epL5wkoa+LWakvsZcbb63DQO+Iq4uvs9Rxb6RWoS+7pdEvcqUxL5gGna+sJDmvvwLir4PJoW+8nsEvms73b63r5G+YuXOvZ09gL6bLoG9z70MvkVXrL6zr5e9u4UGvhUSW751QIG+jfgEvrHdvL5FV6y+CwR0vrHplL7Rsq6+9CmzvY3j6r1VI5q+PJeyviKUab6OE4m+wS68vsZJSb5+A0K+DeWmvq+Vlr7ztpG+XH1avXxOjb4yQxm+OgiCuwtVaL5zbQa+dZfDvjtxYL428Yu9A5+WvhsPdr7FZZq+vYD1vQvH970B06u+fLuqvsPNWb4kVEW+Z2OZvryJv74LLYW+xKMXvsQrc74bHri9sq4OPjKWuL3g0sc8WLwyvnsnJ74tZqS+vReIvhP5TL7M94G8BD02vmjFj74zyLC+5ezovVPJuL6UBjO+emq5vqm6b73fgES+WnKhvncWZ701tKq+gciOvmKzr74scqk9c972vfisbb6GEkK+xYKAvvYGib5A5ZM74g5ZvTiczryXblG+z0hBvl9uH7zhY7O+BmKOvkJAab615ZC+ZxqFvnMmAb4Y7dq+mrEdvmJpSL7xI1q+X9Qlvlfeor6YIzq+js0svvVueb505Pi91IX8vQyVbr71h1m+Xm73vSivrr46p8G9xYcJvdglb75PxHW+VGwhvrLq3Lwk+ka+CqKJvpF5zr7BGpy9fVBAvpCHhb6kUsg8YnmBvRHtg77UOlu+J+yYvkzHkL4bA1S+CtVovkud7L3tVkO+ghKpvkeIwL5CvYq+Por4vaNNqL7RDNi9YUlWvvawUr5WjMq+JzOFvjaijb66dCm+No4zvdTC4b6hKiC+2gWAvgagqr4NXYW+R2QWvYOzQr0rwrK+RPJsvgZijr6IrH6+Is5Cvhxacb6Tx2y+Pnx7vrW8XL7d98S++smyvgMeH74IVmi+9mSUvV86Kb7Fhom+/jMPvqLkfL6LAbG+CUCVvqb+AL4ZwrO+deiNvpBlkL7W6IC+gPC4vhclX77eAra93wx1viKuLr70M4W+ayKFvn7oaL6q07K+SRtIvtIPyr38Evu9J+yYvgRgFb6wLxG+s3mwvrNVDb4jdqO+XNM6vjdd274XjYW+t6+RvmT8iL4t4c+9RgvWPaRxXb7iklC+Y6fVvLrV/r2ESoK+UlRrvigU6L0A9pm+mWayvk8Nub7htBa+Dsmuvd69zL5xpDq+vtSAvlPQM754IHM8PQ1SvvanVb02lVO+DHSVvktCcr5M13m+dxZnvTpTLr68Z3a+JvpFvmSBlr0scqk9Up6ZviLlhT5f3aS+29Y/vrFOlL6wYXi+BgUBvqtuGL44do+++C0ZvmmTEb4jCmu+Scrrvk8UoL2cnW6++7Qbvg==",
            "dtype": "f4"
           }
          },
          {
           "axis": {
            "matches": true
           },
           "label": "4",
           "values": {
            "bdata": "dnn6uxA46z70rUk+f0vqPmIdsT7Rb8I9DKHgPbk8fz4qKEw+O/0JPkpdZT5LU8I9imk+PvG+6j4VuoY+jpXfPfJCuz2OEI89lpCRPXIEcT6UG2s+T1sAPgmQrD5RF2k9DXfLPmsdVz6/GOk+igr/vO8Z+D5yJJ4+lEdQPY4Dnj4xCNM+SWKPPrp3gz7vjkk9aGfiPR9hBD5xwnk+P7ITPjGgDD+6d4M+j7/cPYTKZT5GJ5o+BV8PPqnndj1SMJk+PHCJPiImWz7m3108bACbPus4PjxIHYY+glM/Pef9pD6nuZ0+cXdFPinx0j5ZHQU+C/ppPuCW/z0pPRM+kR8NP/9YV7w/4qk9zT6iPo/xPT4aipY++bE4PlkcrT35pUw+6o6zPlvNsD1JBD8+bHirPhQ3sT6kjFM+B1LgNSED3T6LQ+09J/B5PqRlRz5sKiC+iOHCPrtGvT2Old89M6ScPq+ujj3Ci6K8iHceP/ghjj5GAIM+Q0UuPuPlKj6c1AQ9919HPqYFEj3Cyhw+AFaIPmIxiz5Nkik+YuKIPgEASD6eUi8+sgQCPirABT4828g9jlEwPuo83T68VlE+51WDPl8fXT6+1+o8wgixPXFQGz7Dpbo+r4buPXTpgT5FncQ+Vh4iPgJzDj7JFjw+XR72PJbAuz5xyZg+YtrsPfpCtj6C59E9cZWUPl3WwD6RQdo9jfXMPfvvGT2GtoI+MVUxPuJ5Pj5CJPc9UG4vvUbEgT0sUmw9LvGJPs6xSD5x3kE+KfvnPc48ZT5mzps9UdC1PhetKj4ZVXk+wmrPPpIW5z7441I+7cB3PlGBbz4qkBU9Con6PbjoGT7Z5Ww+WBl5PtW+pz4mf4A+aPkPPvysuT7bRII93QhkPtHtaz6QsRE+PPTDPYBv/z0COq8+tJpxPlRgZz49NFo+FS0qPsETIT603Fo+hR4sPsIPMD5a5SM+xsr8Pa+G7j3evDo+ahxcPiDqqD4e2NE9xcidPew8iz1xonk+M9anPtUGdT5vjg8+1edHvqPToj0PPwk+AHLsPgmXtbw4UJI+opHtPhbcMD42M+A+ejGTPluPcD4wf6U+JB1DPrOIYz7v9Zk+XTyRO5aQkT2CwOk+KbntPapaqT0rXXA+5j8GP+TvTLuW89o97cB3PreyRj67jTQ+xNUYPiHgtjwMLpg+2dobP80PhT7hD1k+ciSePgoK2T3arro8RoewvWxV+j1O/pU+ffd5Pcf5TT5b3T8+GXp0Pm8fGz4uIZ4+OJeNPnSG0T4Tqtw98IOVvR0WkD4rwZQ+MCU5PnTcyz2qRpY+iy9pPgg4HTwHGLk+U0d+PuAKiT7fHsI9YjGLPlhCPz5mUEs+MmaiPnWh3z6eUi8+dLSgPuJc2b1bzYs+K0zYPqgVrT76jTc+jhsMPp9qdz1O2pI+yhYtPstgAz5mZxY+AyzcPrZSGD6pEDI9wBbdPg==",
            "dtype": "f4"
           }
          }
         ],
         "hovertemplate": "color=politics<br>%{xaxis.title.text}=%{x}<br>%{yaxis.title.text}=%{y}<extra></extra>",
         "legendgroup": "politics",
         "marker": {
          "color": "#00cc96",
          "symbol": "circle"
         },
         "name": "politics",
         "showlegend": true,
         "type": "splom"
        },
        {
         "diagonal": {
          "visible": false
         },
         "dimensions": [
          {
           "axis": {
            "matches": true
           },
           "label": "0",
           "values": {
            "bdata": "Q/12wJ2oZMCjTX7A0KZgwHyEYsBK33rA71lvwHLcacAu0UrAErV+wN54hcDhmnTA/6d7wKxdf8CuQ3/A+46CwERjg8BpKnvAYpOGwFMVVsCkIWrAtZSAwJtvZ8Akz27AFiFJwIFqZ8Cc0HHAQypfwHetfsCpwIDAAjdNwIK1g8AsBoDA2MN2wFDYfMCnRn7AUISCwKI+f8Dxj27Af5hywD5Bb8AQLIHAV2N1wEZrecCd64DAhxx9wM+mf8ColFnAAK9MwC96fsAbc4DAG3MrwF+URcCOUn/AdNh4wH58asCv82jAuoNSwOugb8CMAU/Aq+uAwM7jYMAMZXTAOfZ6wLt9gcBxnnLABih+wF//fcDnIWbAGDp4wJXLgsBlbknA1HN4wICecsD2tHLAHOt0wPNve8C+nXrAwIpHwP4tbcApP1LA/7KBwAetecDtnxjAGIVwwElWbMDYTl/AZD93wJXUZMBap2vAuoKAwLypccB5qm3A0wd+wLEuVcAMc2nA5nV5wKR7d8Dia4PAqadxwOrHaMCXoXrAP9mEwOwgfsC/F3jAE4xpwB0XbsANs4PAsxFtwNj/fsA/rHnA2ft2wLUcecBkFH3AjMlZwM9KbsCU7nPAYg9iwK+DgMDRMYDAyMl1wBJXasAUoHLAGy5pwBYxbMBh23vA83M6wARcfcD8QITAkZ9+wJuIccBrnXXAc65zwLiJdsC01mHAp0F5wAbpScCjLXfAoM9mwGvzhsA7SHLAFJB7wLAdhcDu1DTAoX55wCqJf8AgiGLAQOOEwMZ8dsA7voDA2P9+wHtQZcBZxoHAN1FgwA6jBsACKnbAPX2AwCVPPsB1VSfA0WR6wABqZsC/9IDAdL2EwLwdh8A2xHnAL4+BwNL8esBz3HzA+KBSwDwjXsC7k3/AtEJkwPyBQsDHjmzAEu+CwJlegcCuyUTA1VJ1wFRAbsAuvG3AHXx4wHwVcMCdSnnAkq15wKN5dMC2IXzApixzwAwNa8Bqr4TAZjNVwCjgg8BWeoTAoTV7wD36fMCDKnHAURyEwA9rVMA7zWrAymaBwILya8BOH2PAxkh1wOr3GsDj/GjArL1MwHRTcsAlxXDAtGN0wMY+dcBY1EbAhTCCwMIKdsDDJlHArFx+wEBresDt0nHA2xovwGCZeMAn9nzAuYJ9wKvydsD4a4PAwcOAwGQtfMDV4XfAGDx/wDmHUcDZhX3Ag+9ewHERbMAhgnTAbttuwOqLisAHDH7AQwNLwL9kccCxClDAz22CwD3Ye8Bn6ITAZmRvwFVeccCwgmXAx1phwDGFe8D0g3DAMtqDwD6lecAlxXDAIbd0wGbAZMAVcW/AnrR2wKUpdcDU+HzAJnRwwGKjc8At9IDAOx1JwI98eMAk1nXAFRCAwGpbgMB22G3AQYFywIiHccBs0HDA43hvwPsuYsBjxXnAEPuDwL42d8DnOHjAaDKCwCzqhMCO/3LAUkNvwA82eMDI80rAekB8wKaGfsD4T07AP8t6wITAh8AOiH7AO0x/wDlJcsDUfXnAW09dwENhfMB4InbAH99nwBzrdMCWB4HARCmAwN5kfsDsUoPAkd90wJwrcMCM23vAn9V1wGDhb8DgMl/ApvV+wPK5dcCr82TA7BluwLieUcBrxV/A3qdMwIWqdsAtM23A1oZIwFwRdcBmUU3ASjNlwDAMZcDyk4HAa5pawKgQVMBEuFvARj1qwM13UcAfN2bAs+5rwCO4b8DFrGnAMYZ/wPFGY8ByDobAooFjwDQIdMCE1YbAQ2F8wC4dfsDrVGDAhG92wNfegsDwA2zAvOV8wE/PdcDzA2/AnUVcwPdDhcDHenzAGS+GwA==",
            "dtype": "f4"
           }
          },
          {
           "axis": {
            "matches": true
           },
           "label": "1",
           "values": {
            "bdata": "5ID+vo3U/L7MFMO+Dk8uvx4aJL9vFie/iA00vxBODL+zq02/aZLWvi0PxL5r+CS/zxDevsK1775MCbu+MocOv1l4Ir8DTEO+NFvyvhjwGb/kFqC+QcH2vt4gtb2Vawy/bGUkvxSnL78NqIa+kLkFv4fJPr7dQ6k8BHwSv4qR4r770Qa/orHYvtnxBL9YQf++ktAEv++k4r4Pr4m+l/TdvlzuM78x+Mi+HtCmvlWUEL+RHQK/iuncvjI9Eb+z9em+US46v0muBL+2QLu+VOJLvz51Lb9mLhi/7OUSv50X+L6mobS+/d4Uv6T8L7/wXB2/YEbcvn1zKr8foxy/pyW8vsmFA7/7Kg6+TB2hvjpRAr9a9Ne+sF8Dv+SGEL8EcgW/aNe2vmQMw76g5Mq+xFGUvtkQyL77sQy/2bAJv1rqDb+2oBq/9jWZvh4dmr4PySO/7TwCv2u9Cb9jYBu/Vu+ovrLOQr+b9yS/uWj/vorxFr/1lwy/ploMv4gcJ791RLO+BbbBvsjuM78kA7i+/m3avhreR75F1u2+Qrnovn0+Lb8/bBq/v0JGvq34Ir9nSfu+6Xwivw9E5L64E92+WNEbv+V3974y6Ly+cLQlv4lTfb0h+xa/+DgTvx18nr5nYdu+Cbq6vs3c+L4hbyS/oW0ivzt+7r5z3dC+vtX/vkmyBr8ZZyG/4o8av/bEx750thi/feM5v81EHb+iM/2+bSwPvy0HF7+6cQG+39Eyv565B7+hgrS+ZM4Gv823Q77cCC2/UvemvmfFgr5N1SO/vBcFv+DgLb9pK8i+D0Tkvg8vC7/Zxaa+O/0zvwmCIL+MLRK/hL0nv9iZTb+YajO/CMIMv4ex177SwAC/xHGPvmRnnr5KQPW+AF2PvhkoEb9Xqsq+J0hOv+kaCb8JaTG/qQYFvrr9EL8gAP2+2zS8vqeL7b4R4Cm/SfAIvzxAHL8l1x2/ITvtvgr5DL9aKBa+etOUvvsL8L7HWvG+dD7+vh6tH7/CwxG/Ie0yv5Gs8L6RuP++ElfkvuYD2r7YQZu+scm7vseYJ7/RJsG+qDP7vlvCxr0dovy+IqDMvso7K79HrAq/h1oev7F5YL4UgA2/vH3wvm1P175cLRC/a9m+vsGO9b63iBS/vwEIvzYsLb/wi1++0NR5v8OXAL/nxQG/LtqGvpSEor4MlbC+xpSgvujM8r5F0Aa/5yIOvwEetb5vUOu+IKsQv1L1yL32ehu/Zz6svtFYqr636CK/jWwqvzSl777/nh2/gBLwvmY/8r518/e+NHS+vtyqCL+vn/6+/YVEv9iT/L0GHpq+A6zBvU8t374UgA2/dwo4vzHqBb8ogZW+hebYvsk23L5Kdb++tpeKvvVNJL9SKuK+czYxvzIFG766Qgi/ifYnvzPrD79MXOG+aQtevjic5b1j1iO/6b3hvlB//L6egSG/9FTnvgcNGL9e1cS+bO++vpMD3r6o2+6+oAvwvoCBBr8Rxxu/ypv2vjwuAr/j9TC/37XAvrdQ5r5Y5eq+NYkLv7daIL9sdh6/2lA3v4Nh474Kywe/GbIOv8RRlL6X5ti+/6xevneg077oXgi/dDUFvyOEHb+Aaui++APWvZIT/b6C3g+/vGzDvgtZ2rrXgeu+4MkDvw8EJL9R/E+/h4UMv7ndAL8b7u2+bOouv3x/FL8HdhO/fDgyv7Q1i76T3uC+qg8Fv77kwr5muhy/BfsKv9KyDL8LK/C9IN8Gvw2FHL8NVe2+KMQgvwm2Kr/7OQ6/g5Ybv7Vxlr65e96+g2Hjvtz+B75smEG/v+nxvhrhBL972Ay/nT8Iv1fj+TzOydi+n74MvygOBr+Pigi/SYX9vg==",
            "dtype": "f4"
           }
          },
          {
           "axis": {
            "matches": true
           },
           "label": "2",
           "values": {
            "bdata": "i7aQvRHxdD76r5u9ewdFPpsaAT5wwkM+Hr8mP/qo5r28yhw/xBNMvVNeWr4aavm9MMkuvoMngr5I33++fN4Ivoq4UL3Qs6W+ygOwvh1jpj5ubqe+BZ2Avh9j7LwTB1s+4WYGPmftVj4/USO+BiPBPnxvcTwJlcS9aVeMPuwdpb5Reau9VMANPTicbb4c2w6+n9aXvkKjqL24V2K+T09JvAFBkj5e7Ju+LmIMvckojb6uA3q+Cq4qvmByjL5DvSo/fz2VPq5ATb7KSlW+FIzbPYQvPD6iJuK9N+39PoIfuz5n0f0+hAOGPiEcyz5G2Yw96+S+vbsUuD5etr4+gKOwvVUHpb7oZwO+XD3cvn9imjyiRlk+BSgbPrAVWz3r4YA+D72kuz6FXL7mF3++xqNXvm6nSL5OEXq+//cvPi4jHj4Dwxk/NEgavknyuT3djvY90CyLPuB2Fz0F2tO4Hcu1PVyGeD4NweA+7HWRvYw7dr5q2iA+tVXRvckAyz4VCcU+o5E/vmQC4D5s2Yu+c0qSPvreNr25fQm+4N5CPvLiib6Dmso9O8+oPj9RJruAb3C+joqgPnyiNj03oMo+DZWQPo2oyL2P7We+tHOgPvsEsr2S1CI+e4CGPgM00b75BZG+G5U/vu6wXT5xbbM9F+mcPgjgOT22bHS+uutnPrWg2b6eQKu+TKXfvf+cHL5o9sk9+ms2PpgGKT7BOuQ+zTayPXls8D0Gr4a+0RHnPpeARr6uaGS+j+UfPvSZw75teow+ctcUPfJUPb6ufew97zxrvh4DQT6EZqi+fKI2PYAzDT5Rqec8BRbHPpYahz6REjs8tCalPETTST8wW2M+ijzzPSu5aD6LSRe+gXjwvHtOpL5DkA2+MzSLviy/lj5VIjS+TLqsPqJgjLyYcw091CyKvPl1hD6QkBY+3kWKvi/2XbtHVRo/YgDYvTiWFT37J9A+W0qDPltPhT7dWS2+NI4cPn6QwD18o589bOB2vovhGD4qd3O+yezUPTail74yxJi+wrWdvqm4sL2iLj49Py/4PgCEpz0+RbC6Ba3dvFjPIL72MYq+gexcPVAm0j4MW3Q+Vzb1PbIopT3Zi0M+E/BmvQtCg76jn1w+T+4wvi9bhbtJmZ8+eucjvoPmyT0x1Go9z6gDP1lXaT5+cEY+EXePvmnlQr5DDrq+pZKNvmu+8T22wIa+QYssvEqjJj4iM5C+65nbPp5MH75lBoc+0rbPPQ0w0L5AwCA+DQ4hP66aj7urPMM916Itvv13mr7EpLW+PkiwPaOCwr27aPQ9ILEjP8N4Vr4vnYU8H0h1vrpklz3Zi0M+2ZSwPqWdQL4kMdI+vWLcPBd5Tj3kwYG+mzy2PcsEZj1EmuO++kUdPuMwIb1YHPw9WoSPPXbptj0g5As+fXo7Pljf1L3JQEc+5SmJvRzHlD5RciM9zb1RvjjF+z6qVYe9jKgyvvRh+D2Yyjm+edWJvXtPhr723y4+cLXpPY1bcz4HkAQ+nmVuvvyK4r5gF6S+KfdJvP8cij4UNNs8Pnz4Ph+tOT5t6XS+vfppPsajV76Uyci+RuUgvthLjr4IqyS+MHpoPvBHYj4JeTQ95JJ2vhk9lT7xea0+ZvIkviFFzDyrnqU+LdgUvb6ovj7BcN4+jYSePnC9j741NqG9WhdRPns4ST7u1Qc+mLqYPhbTtLw6ao29uSbtPQorbT7ZNPk98ODgPZPL0z5MEN29awQEPoLMhz6l7fg+9bAOvjBZrD5ZL1i+Ta6mPsX3Kr4sxlG+H605PheMFb4BK9k+fH0Svn3OtL4RnnW+nBrLvWF8VT698du88975Pafavr3E5QS+yX3Ovg==",
            "dtype": "f4"
           }
          },
          {
           "axis": {
            "matches": true
           },
           "label": "3",
           "values": {
            "bdata": "BbJPvsCfUL5Voha++EH+vVLJJL6vkgK+Lz8pvXT1ib7XkJC+OJ4nvlRA8L0n99e+sv4VvmbIXL6a64e+kgqhvtMk/b3kyzK+Jl86vvwkdr7nL4++QK0IvivT+71eLxC+9xBuvo4Dub0ov+u+KcFivaZr6b3qYy2+a6oLvn3fnr1nTRy+OQGQvXBhgr5xbnk9/vBovvtLNr4hkj6+SBe/viCHLL4p5Ai+IMHWvYToF76DBl2+1W+avgKBEL5p+AW/JjJKvq3+Ob4uYAY89CiOvSemeL4vkgi+OpfcveBq8b2sRIS+hHsWvqNRJr73o2i+JVlKvfLqI77aCtm+33RDvkQ0h71lm0y+SBxDvtbep73XVcE9ODievjIIdb79h0q+GZPXvaxWDL62aHK+rpuKvhQSGb66nIS+IRvjvd4gl769Z4697I3svYFQWb4gPG2+nCsBvjvBV75nGyy+LtU9vr8OpL5AliW+6tgDvnyn2L0mqt+9wr6gvrBDdb7jXMm9Hq2DvlLmT776rkW+wsPFvRa9m77fYmq+22AKvrHVnb7Zb0m+1yTCvRfHiL4mZhu+JZa2vDSrZr7ujIq++Jd3voyfzr08eXS8IvTWvb3XYL5FgZS+HSkQvsd/j73o3/O9sG7jvQzzjL5jjym+YnHLvJ0wRb3TF+088+r8vEC1Zb6Cfva9oZGcvTH6Pb5EfSG+JzTaPLO+272Pske9rgogvnMkd760rxm+xO7qvU1xDb7tYG++rYkSvpEB6r0ZOb6+rQikvdqSjL7swCW+tnZhvkbKurv104u8NKtmvinhW75AmDm+YHSKvq4chr2E8qC9ySduvdQbbL6M2eq8KRLeva1Wi74J0xK++SL5vX9RhL2JZYO+ka17PV9E5LyKVem9CTv+vtqQlb5Q3la97DGBviQtQb5GxW++QFOtvdfKm77/LA2+cLW7vZ/xTL70Vg2+zSXivfgNSj5HI529Qx4YvllW4L3w4HC+FYTfvTtYLb5DVia+9KBPvufIOr5poA6+hqCuvVC+UL7yfW++Qz1fvsm3YL5ByeC+jtXXvR0s6L2q8kG+tVsCvsuBjr3rCze+eaQIvk1LfL6DYqi+ZTdfvmXbjb6wZye+Ogv4vV0iS71RWeK9goUfvtdyN70zoIO+dc3mvge/DL4ulF++pFohPWlvXr57MQ+8xi1fvuFqCb4awSm+zRebvqEabr6jNf+9TZwkvsN2770g+KC9IRlcvQQSmL2zzZq+uPozvroPJb7CIXm+HIRfvk+NLL51EUe+S5qLvvIpVb53zEi+BYQ+vvCKab7nx7K+8jmEvRpjpL2DYqi+KmjdvYWzP74Z4IO+vnuRvsAKgr5rmOK8sDo1vvwvBr5khoW+StTevb+fd7yLSxa+vKYxvsSggL5DTGK9B88JvmZfar6juAu+GGNTvnV+ur3K0Lm9R4PrvfzN4r0Imx2+bPrxvbwcCb57vOO92qz6vdNXKL7gYyG+VREIvq0MzDyDOZS+5m9ovttXCb6gNom+4f0qvgoOgr1ahuq9wQbfvp0kfL0Nl4q+4lWGvq6bir4tHWO+S8Q5vrQWRr7d2g2+AX7HvYvdCr7dBL69g4ljvhvh+b1MJyW+sPtKvv07h7yjPxq+mGiGvkCVIr5RDqW+QDiBvmYDeb7HTPC9YD95vuddR74Z5yK+9ABrvn99dL4q7zK+rscmvl2Vgr4VKw6+ORqZvme03b0EU7e+NVDfvYIq9L1TTPY9/dQfvhcZib2JsiC+9kUXvqvUMb4A9AC+nSR8vbCmab7mbo6+AW5sPSRfmb7vcKC+pUQ4vkOMdj01+YO+9L30vT0NQr6XIi2+dRl+vg==",
            "dtype": "f4"
           }
          },
          {
           "axis": {
            "matches": true
           },
           "label": "4",
           "values": {
            "bdata": "6kmBvlX6jb5sY0K+tn2OvlYo6b4zvqK+bBEvvl2wCb4q5bS+J42WvirIeL7OM9K+aWSIvntK0L7KIf29DC69vpo7vL53jKm92o7yvubkO774/Me9Xyk7vknoaj47lgG+1Mk8vXhml77MtLa9+XDxvCe1ED7oZWY8+yxtvocFv76FFoa+BJOgvT1S677XI4G+WNXkvrgFG72iQ4K+FCtMvgXdvL7nwYq982E3vne1Mr5nwVm+chEjvo7XoL64d6C87wVhvjjkZL4I/D2+d1A+vYSFlL7CNH2+dslLvUZ3Yb7rjfq8U0AwvqGRwL68B3W+8yQfvoW0j74AFiS+Sqp/vX/Gnb51guG8z4e2vdgvVL5AVzq9OAFsvmnlob463t+9BMXFvaT7oL5zNH6+/RnevQZOcr5658y+vrExvnNfp72/PiK+R8CZvheQV70t5aW+8WnHvW4HBb6MgpK+krRrvtyGV76wV4C+5KNqvmMpt77rPe6+5Lulvnkl6L73MxQ+onE2PX07NL51LYC+a4EcPQX81T2zCJC+HdgYvqUpEb9ZFdq9xCW+vU2DsL4nJj++Ct5+vq9sg77Gp4++nlO4vo4EZL5hlEa+S4S7veBcNj6MSse9WAC1vkw+QL7DK+a+J0FXvh8XkL7YUsG+5RNSvj6cCL5XODe+8qsIvm1Ccb7d6vW++RnLvujoU778P5y+LzR0vrdiob6v7rK9JcaXvaaKnL5wBxq8g/kCvpBV2r7Thjo9Fw0jvSnAFb7v9pO+xAX5vS0mhr6xJu2+O/nAvqamAL4uDKa+r2yDvvex9r1flCa+S7aUvpfEVz32nFG+oxWjvoJcqb7gGBc+c6Ydvg06V77I6HC+G4QVvnqRwb7M086+fWIGvry7xL0PcXu+0zSuvljITb4jF5u+PT4aPu8mHr7LMbC99g22vgmAgL5C3pW+TSJlvgQQSb5nZHa+BLf8vd90qz3717g9tb3qvdTOi73hLVi+Em6Tvu39Wr6BWWG+2TGTvlR8574Blbe+VkiFvlPDg76cugM9WnzovU0Pkr7kZY49xtWGvujKVj5jNQS+tNsQvomWCb42aBu+Zpgbvrf4zT19Q5K+W40svk2tB75sf/m9WIY0vkMzDr4ZdAS+vfiJvl02qr40b426qeS7vsoBab5QRIs9dvEVvmt4Cr71MnO+TiiDvp+ME74yIYK+cdLivo7Asj39qH6+2zqFvCUoVj5DqRq+yDdWPMg2p75V6D6+osyQvGMsUb5vUpO+sVTVvr041r7LbNS+YMtGvP2PZr56POO9SIUfviP3IT4j/sO+Q6dxvo1IOr59Q5K+yjfevEY7F77kiXY8uJZmvoVX3r1tbBO+Mv+Vu20Ytb4+W2q+e/uJvjyceL4DGla+RtQvvvGqtL6dC6O9YdSSPR4uKz6NOra+cbLuvRBasD0Ve0G+JpnDvkivW70xn669gkczvuRtRr6rlPu9ouNLvop/gr6zlFu+yp8fvocdhr2WbKC+qUkpvhe4ib6J/+i9bPyCvhQWi77+88K+qr/2viKo6b2Tp9y+jirqvf0Z3r27coW+yRkgvrFSOL7ubrW+z1OEvRnehL78Xvy97xuvPIr6EL6PF7S8qb1FvgLljz5LoW6+fMSivW1beLx3/Ni+3r2AvqlUQ769Kiq+kAi4vsdpm75RgEK+A9+1vrIQzbyyt4++xgWavZ0ntbwoOYi+bMKRvmT+kb5DieI96qELvnmhGb53+LQ+YvysvvIaWD0hMJC+B9iuvS0A0jx+08y+IqjpvXwEiL2E7s++k/f6veSG1b5E4om+hLx4vp2tv70tIYK+LatEvlZOsb4x0Xq+oVPBvg==",
            "dtype": "f4"
           }
          }
         ],
         "hovertemplate": "color=sport<br>%{xaxis.title.text}=%{x}<br>%{yaxis.title.text}=%{y}<extra></extra>",
         "legendgroup": "sport",
         "marker": {
          "color": "#ab63fa",
          "symbol": "circle"
         },
         "name": "sport",
         "showlegend": true,
         "type": "splom"
        },
        {
         "diagonal": {
          "visible": false
         },
         "dimensions": [
          {
           "axis": {
            "matches": true
           },
           "label": "0",
           "values": {
            "bdata": "C6JswIDtWcCgvHXAJSJ6wGi+ccDzBWrAB1V0wG3mZsBtOnbAepp5wGBZY8Cd12rAeWVmwHySZsDxXXnAOApewJbcfsD4MVbASF9RwHkHcMB9mm3AYFljwG5Yd8CvU3fAYHNvwBgUY8CQV2LAJxh7wHTrZ8DgxWHAjOZWwP7UVcAobl/AaNJiwBJTZsDazHvAFfpSwPUCa8BYwYDA9vx2wI3MZsCBhXfAQxR/wKhdYsC6qmjAA0hrwDbdTcCSaWHAO9xjwGw1fcAiQGfAge9pwPJ+V8AHtGnAP7R2wO+pYsA0a3jAT4NlwDI6V8CFz2zAqvRSwIoodcDCdmXAQcdqwISZcMAZaGPAnpJZwN4qZsBidmrAFRZYwJAEbcCZXGHAJNx7wK4OdcDGmXDAhYF4wPEQe8BLDG/AyDJ5wHT/WcC/mlTAz6JuwD0Pc8Ao3HDAVXNowBmnZ8CDzlbASpx/wHg4WcCLpXfAhoNdwBZyZsCfCnPAWEVrwHx1dcASvGTAdTJzwPPbb8APGIDAPUdowACgUMB6ilrAUBN7wI9ccMDdAnTAObJnwNToesC+4l3AHwRdwMFfYMA9923AGWhjwHe/csCmRmDA3BlWwDydf8BJ52/A5QdgwPMSdcC3jW3AdTJzwHP/b8CM7WzA+yBjwJutY8ClcGXA01NpwEw1gMDL62zAj6prwGzDdcDvfl3AwDhewCwTY8AlA2zAcyp4wPRRXsDEcoDAD8BzwJb1cMAKT2PAdohuwOh2ZsA3zFzAbKZiwAvrY8DxEHvAG9ZTwIkedcA982LAV8xowKhLdMCKRnPAMA11wAc8asBd4XLAOwl4wGn9asCKjG/AjI9ZwDd5b8AMHXLAHbV9wDArd8CKLHDAj15ewNpIZMCBLnTA6XFowIYLbMDMMIDAhtBswJl1VMC7hX3AQgxWwIGFd8DjRWzAL4tfwJkpcsDpIWrAOwFRwHqbbcCLy2DA3JpywOMFX8B812/Am+NjwGMaccBa0XPAIcNOwHaIbsAYv3/AB1V0wAG/d8DV3nfAVhBvwPtcdMBo/HrA9md2wHFcc8D5yW7ABKNlwLEEacB+gWTAUlZIwBSzeMChY33AymRjwP2wXMDdCFnAC1RgwIN2dsB0tXjAyoBDwDGrW8AQB2bALMBpwGPfccB1IGfA8d1pwMqPYcCwTHjAKw1nwBhqYMAk9m/A2X1cwP6DXsCMj1nA7b1PwKLHcsBqZWzA1yxZwA06dsCnmXXAZvV7wHTIdcDaV2zAe1dqwEWPccAaxnrAWAFpwLIrZsC063nAjy9RwCFid8ByGmnA/VxZwBmfesB57XnAirhSwCnzb8Bfq27Abfd+wNIKWcADsm3A27RpwNjWZMB2YnrANyZvwLskYcC3jW3AT4NlwKlfc8AXqWzAqo57wBF7bsCgO3fABD1/wGKNbcBcplzAuUdkwF42ZsAvKnPA",
            "dtype": "f4"
           }
          },
          {
           "axis": {
            "matches": true
           },
           "label": "1",
           "values": {
            "bdata": "RDV6vqL+db6Rfeo9AxY+vgw1E79hRSi+SOiSvu4sA78j07K9pFyxvQk4pr45Jwe+BY+Nu7pP2b7CCNi9HQTOvfv4P75s8ga+SBUgv9UbaD7mLaq+CTimvpL1jT0B9UG+rIM1vn94DL92NAu/e8oUPliAhr4gap2++68bv9UiEr/PVmO+nGf4vpU44L7pfxG+eM6gvpBjGL9ZE/K+jI6cvhHFZL662d2+bwLWPLyU+760RXa+8zC6vjamJb/WuvQ9eGMlvgtcXr7vhoS+oK8Ev7O/Ab/V6G2+rUQ0vkG+uL4fkCW+Ppu/vvJm+r6Is06+qGclv814t77Yn9K+MmQ3vpU6pr4rW7S+A7zBvhbFLL8i17G+YATOvkRRrr4aJR2+IHgLPm9PSL52gIm9Pdqgvjy0e76dTWa+clkmPsfGH78wmtG+bCgEPTX+OL4thya+aUKevip9tr4ahoa+SY7BvTER9L6XGm2+wFMOv0NPcr5EkaU+xwZRvqeKJ74MY/a+rzYqPrz0jb4PBbC+buNFvsp2774Rru6+HzWCvXtIy77KgI6+sM6Mvp2K6L6SH/w9yTvZvkr6Tz7+rIK+K1u0vhkQtr6eAHq+lg3bvl6WV72Ptpm+A7ZEu2Oojb5YNbm+rzYqPrFuq77xmJ69yy2KvkDdDL9xeR6/ov8qvtZeTT3lXa2+HdFmvi/EDb4Ofse+tvCavl+QC78VOB2+569svnbtGb9kIZK+c3xCvr1AAr4lDLG+R9PovpdP0r6uzfm+BHX8vjxyhr48tHu+JxwbvxxIPb44Fii/60iZvtgtubyHk8O+mXLFvTLSDL8ghDe+EvCWvoi78LxMqn69CVDHvimb5L7FXcC+N9yivoQo+b0D/dO92iVMvVmEFj6ub86+23GIvu/kwL7sYE++ugGpvvq0qL6IvLW96mbLvrrZ3b5iAc++pDj7vi9RHj7vpRy+uqervgMs0L5V06++mioDv2FOxr6dZ32+akWcvv5mqL740ia9HvfovkfT6L7FW7g+SOiSvmkXlL6ovJe+AnGqvmwDjr4pCJq+rVw6vsUdAL4P8Mu+eGYBvzAl275eZcG+kIcgv9O5+71Cfr293VGOvjzDpL6QS769j7YdvxD/lr7YXS6+X/gdv4Mq/74hKPy+6s0Ev5RJ8L0dx4G+R8nhvrj1s74fR8++nNfsvm+Xz77nsl2+HFATv4flBb8JUMe+lOeCvsc8iL6C9hg9mzbvvrC11z0l3ym+Jd+RvmYxDT7iU9i+WpiivT4Dmb7K5ns9vP2bvlqWhr79cHK+MxQPv9gAOb7g2Lm+2VgXv+BHVz4eD3S+EnmjvlF+675+Y1q+Ru6evvX2K78aM8m+T3njvoS9k77E0Fu+rRG8vqm+DL9YNbm+Ppu/vikZob4GaMW+GsGUvuA3Bb7OXJK+syumvptnA76LUWW+JkmwvWGx4r4UCAm+",
            "dtype": "f4"
           }
          },
          {
           "axis": {
            "matches": true
           },
           "label": "2",
           "values": {
            "bdata": "26wuvK/O7D6TYhg/8BvKvfySpTw5FuK9EBHVPX7M/j22YYK+2MVAPpyz/j4k1jA+VVJJvgYIST1PQdk8aB2xPF6pQjx5vH8+x4lXPhV5gzxG5mc9nLP+PrCGUL7/X2i+q3/QPZ6jlD5WXMg+wBU2Pk9eCT03aJw9PI6/Pr8hhj6S29g9pIqivcwKVD3RkGW+b4jMPoxQIL0Xo969LLolPi62Ur7GDZE8d3vYvi7FND2jPn+7l9XxPWRdiD64KKW9nihvPi8ve72o0Po9gzB7vfZXrj61brq9fJuLvoTIpT755Rg+MqRPPluWQj2E5Ku9MSylPlHTIz4ZB9c9QmCrPf2Uoj1rjsY+rbArO6JjGD61VPK8K7fCPm7AGD7AsLc8GtCuPuuCYL7ur6a+qdmGvlBSMTykWyM+XgR2vgsykD4/Psk+m3qAPgUilb7UJtA+qxocPoqYmT6zntQ8YmE0vjVopD4hBV+9pLG0PYLLET6HPAs/2QcaPrikCz0WKJ8+NeLSPofwNzt+Xme9h4JCPYSpMz7+yF8+4Tdwvsd5Sj7U1DK8zPYhPvpCAT32H5y9H6kDPoDd5j2UuU0+a47GPpKAFb6UVL68bLfcvJzR7L0xNuU8InVYPS52Lj28WgI+NeLSPqvsAD6rmS6+u2LvPvbv0bx1CYm8NlYCvaVsGr5UZL0+eL9VPhVeIz6svLo+uLb/PLmflT79FTy9Kae3PBK2iT4/aO+7NY0PPpXzxjx9qsc+IuIpvg/jHD7w4r89EfxaPcRDjj5QUjE8zmOtPlDaN76k+0I9ettevvcL0Dtdxzc+8xoDvg/h2b2I9YQ+lKJAPcY18j0qVYQ+aMW9PnQSPr6ZzSk+ni+6vafAy71NaUs+YagFP7KZVb42r4o9jxuVvdcjML72yu6+rV4KPd1zLz5rHI8+bVWHPsYNkTznWKg+w0g7PvhzND7ecek9r1xEPjZigD7vUj4+TH0cvVhTqT4Mhfa94L2FPubNFD5lW5C9700QPiLiKb5ac0W+EBHVPQL0or3+40S+JfpzPveh2j01DbI+EGKKvZxNNjopoBA+wssIPh6E1j3PcZI+sxQ/PYlItj1YQPw9jQSmPfGA+bxupRk+tM2ZPs06RL5m4CG9djh3PpbUaT7qLaW8iWZ0PULrKz7bk7099BdjPqT8WD7blsk9ITWIvXz+cj4pU8A98Be8vFbPqj1oxb0+LIVJPKnreD7k/Ii+mOZXPpbbGT+lDBA9tzBxvRW9pz7dVQ29FWLQPi3MET65d2++ScWrPexfhj7acos9BShLPorelb1FzNs+LICiPow+mL5e1lM9lXOiPqOKvD1IvEY+EuJAvk1AgD5c76g+gJxDPXHBgb2Sx04+cB2OvoGSfj68WgI+MqRPPlASnj7xmXG7msizvf6gjz7RPmS+s3GNvpnGWr5JnSK8jahmveCpUD2iTuq9",
            "dtype": "f4"
           }
          },
          {
           "axis": {
            "matches": true
           },
           "label": "3",
           "values": {
            "bdata": "hMyKPhsnhj5wbbM+PG6GPmm9uT5OkTE+uEPUPiu7kj4/zyE+vxudPmVtzD5jSXE+w80/Pjhfhj3+q6I+LRbHPn1erz7Axvg+BevgPn0lCD/yr3c+ZW3MPpAokz6IPSq9b++wPne5Dj/CVbw+u+z6PtRUkD6iNrA+Br0GP5I8vj6h4AM/g2mOOwNQ0T4DVE8+HbKmPhxQxT4NCAA+fQHHPvERmb2lpog+wDzyPTDV1z4l7o09DJlEPrKi4D6XgfE+fYTfPlHTCD63xr0+3CiiPnE1pD4YcEO+jVFHPghyxj7ql6o+hLv0PowU6T7B2qw+ysStPp9bZj4d1JA+UpuXPtrbYz4vL4o+g/LIPWbJFz9xgow+loECP/i+HT7Bibw97XhpPm9HiT6al6W8ABa6PpcPuj7Rf5E+Po/APo3R8T4qd4M+v5sTPgiruz7kHwM++CZIPtVckj5UVVI+JFSaOz3dCT+Oc2k+i0+gPue+vD5nNs4+xeo3Plv+DD7YatM+9+wWPxme+Dz75pk+Z1XoPvrgJD/fHw8/GtBoPjyw3z6ET0k+eueQPqZ0i7z6a8c+VqyePhXcWT5xd6U+Ly+KPmRVIz5ii68+ohi0Pt3ebz0IWSY+NfuuPvhLDT6EHJs+9+wWP1VHk7z2PyA94NjTPjj8yT4UudY+nKaBPnJPkz1S2cc+xktqPkTblD7949Q+/aMNPxMHDz85gZ8+OXn6PsJW1T7d1yg+YrOzPigu1z6DwtE+MvgOPuDmpD5wqNQ+pfXSPuIj/z6XD7o+KqsEP9k6Wz5XGNs+wcEPPj3mmT4tX+8+vmzaPQnsiT5uc7U+Ee8sPupZsT6KmBQ/rNhKP/m9Uz1FYyM+emOWPUBDvD4+YtY+aZoQP8+9Xj7JSc0+wq+WPpTGoz4SLzU+JcyIPlYLzj62ZcE+oAXyPqWmiD7AVxM/DAUBP4rUST7WoLc+4E+UPk9AsT6kLQM/vfm1PnMj2T5OWpw+8dwMP8gRdD7s55E9vIO7PjL4Dj6TOZk9uEPUPqv/tT5heWc+cZ7ePjnMrz7O6sQ+ZpCTPhqJZT73aAM/+ADrPjGAnD5nZeU+KCvePv/ESz5pprU+6ErzPtOgBD/bWvE+YbsMP18Bez7P8EQ+nBEHP8tj9T7e3Js+10+TPo9Qtz54a4A+bzTNPqodlT4JarU+Dby5PsWukD6NDyU+i/OpPgG86T6s2Eo/1t3JPvsapT5qrA89TpoFP5jstD4jqBU+idyzPBc9RT7q2qM+SZHLPmYHZj7idBQ+EkffPuhx2D5kmQA+MOblPrsrUD4A73Y+M//VPrWt+zwwaTM+JNnIPil/gT7bL58+UpSQPlh5HD+/O6U+V/OkPuKV3z0Z2hE+UglvPUSNBD+EHJs+hLv0PvyDuj4864E+n51aPqBokz5AXiI+vcOLPpAgqj6Hztc+jMOkPm9RDrwlDdw+",
            "dtype": "f4"
           }
          },
          {
           "axis": {
            "matches": true
           },
           "label": "4",
           "values": {
            "bdata": "bIr5PuE2fz5WV3s9ANqYvNZ52D4lHao+9Um6PjI3vD6PYyY+3qP6PWfiOD4+Qbk+Wko9Pt76Pz7cdug9N0spPlmBZr1eMJY+SYDuPq64cTlbho0+Z+I4PkAXTD4yVb8+a8zKPfeQ2z6DC70+gyiivWFGMT7i4SE90JztPqUuUT66Kog+96StPksAmj5GxEK9vBJUPpRBZz6mPZo9gL3aPnlV3T5VGhI+hzurvWZIUj7mbI4+/aGZPhOTAj+jXSw+Sx5FPvYVED6/l14+vvBiPjldyz5BBL4++kDNvTYeoj0hSmc+cabIPh5Cwj5ACS4+swVkPrmonT7jrKI+znqxPuSRmz4IMiw+VqGtPQ63fj7Sakg+NaykPg7eoz4Hw/c+dsiIvbG+9T0/8+S83/PtvUWX3z345y8+2LHXPad34D5el7Q+44YlPld0uL3OEyg+zjqZPCN+SD4/U7A+NzE/PrIHhz6x/DE+joe0PuDFaD7pNP28kFCFOwbRjD1KcbM+eMaOvVNL2j5CtpA+3o1aPaKl4z5EXZg+F15rPVgjwz68+Gw97SvWPvFTnz7Hqj4+HkeJPkk8Sz6eoiI+CDIsPlRnaT5xMTk+FSU1PqDshD4fbRM+3469Pk9F8z3pscA+eMaOvaC6BD4ijkk+hkxnPuFgXT5KRaw+paf1PYOpsD2OlRM8scgePicQfj78nQ4+3Re3Plqc2j4ht0Y+GrBYPmci8T6CO0o9VxyaPoo3Aj6Ters+q+SoPuoGuD5J/ro+d8VMPkFkiz5Fl989M77xPktk9j3dUHE+XTvrPViAij78r8s+6hHROzCvcz4czag7QPLFOwJZ0D2L/XI+GXSvPhLsnT5R4dw+uINWPfbToT2X4pA+OUhlPSEwFrvtt7U+VmUiPssmeT637lc90odTPbzYsD5TB7g9ejKDPlUaEj6afYk+61ckPs8TIT77NqU+Dpy7PrdXnT7Pcdw+QlmGPvlZqj7knew8ix3tPjyHvz54nUs+F+TIPqvkqD5mp+I99Um6PrBeiT64W0g9pBvQPuGtND67cp89gLLjPb8Rxj7+XaM+nrPvPuAhqz3YTQs+9lenPhoZvD6jhB8+tgxIPkDJxT7BwDA+0fD7Pm53jD2Drro83ifbPlFNCD/nJ+M+B0L6PgMOUz17D20+MIKxPv8Iyz2amgs++PhaPj0JDD/SyTY+QFaBPl+jQj4ZdK8+Yf7pPtoCkT4T9k4+KovtPuf1gj2H/oc9yMMVvETpWT6mbqU+rXSFPmDGbD4znje+jrJCPraIuT4RXrI+SKnmPpr9Bz4g/Lg9WiYNP9qsFb1H36s9dmJjPhMSnz7cO9s+oGiGPfXt0T7Rujw+8t+4PTs4YT1Az7+8U6eAPXkSAD/pscA+cabIPm3DyDyPkZg+ukzqPdoyIz67mYS9tSozvaOhSD7fHl4+RW+LPs/ABz6wQ7e9",
            "dtype": "f4"
           }
          }
         ],
         "hovertemplate": "color=entertainment<br>%{xaxis.title.text}=%{x}<br>%{yaxis.title.text}=%{y}<extra></extra>",
         "legendgroup": "entertainment",
         "marker": {
          "color": "#FFA15A",
          "symbol": "circle"
         },
         "name": "entertainment",
         "showlegend": true,
         "type": "splom"
        }
       ],
       "layout": {
        "dragmode": "select",
        "legend": {
         "title": {
          "text": "color"
         },
         "tracegroupgap": 0
        },
        "template": {
         "data": {
          "bar": [
           {
            "error_x": {
             "color": "#2a3f5f"
            },
            "error_y": {
             "color": "#2a3f5f"
            },
            "marker": {
             "line": {
              "color": "#E5ECF6",
              "width": 0.5
             },
             "pattern": {
              "fillmode": "overlay",
              "size": 10,
              "solidity": 0.2
             }
            },
            "type": "bar"
           }
          ],
          "barpolar": [
           {
            "marker": {
             "line": {
              "color": "#E5ECF6",
              "width": 0.5
             },
             "pattern": {
              "fillmode": "overlay",
              "size": 10,
              "solidity": 0.2
             }
            },
            "type": "barpolar"
           }
          ],
          "carpet": [
           {
            "aaxis": {
             "endlinecolor": "#2a3f5f",
             "gridcolor": "white",
             "linecolor": "white",
             "minorgridcolor": "white",
             "startlinecolor": "#2a3f5f"
            },
            "baxis": {
             "endlinecolor": "#2a3f5f",
             "gridcolor": "white",
             "linecolor": "white",
             "minorgridcolor": "white",
             "startlinecolor": "#2a3f5f"
            },
            "type": "carpet"
           }
          ],
          "choropleth": [
           {
            "colorbar": {
             "outlinewidth": 0,
             "ticks": ""
            },
            "type": "choropleth"
           }
          ],
          "contour": [
           {
            "colorbar": {
             "outlinewidth": 0,
             "ticks": ""
            },
            "colorscale": [
             [
              0,
              "#0d0887"
             ],
             [
              0.1111111111111111,
              "#46039f"
             ],
             [
              0.2222222222222222,
              "#7201a8"
             ],
             [
              0.3333333333333333,
              "#9c179e"
             ],
             [
              0.4444444444444444,
              "#bd3786"
             ],
             [
              0.5555555555555556,
              "#d8576b"
             ],
             [
              0.6666666666666666,
              "#ed7953"
             ],
             [
              0.7777777777777778,
              "#fb9f3a"
             ],
             [
              0.8888888888888888,
              "#fdca26"
             ],
             [
              1,
              "#f0f921"
             ]
            ],
            "type": "contour"
           }
          ],
          "contourcarpet": [
           {
            "colorbar": {
             "outlinewidth": 0,
             "ticks": ""
            },
            "type": "contourcarpet"
           }
          ],
          "heatmap": [
           {
            "colorbar": {
             "outlinewidth": 0,
             "ticks": ""
            },
            "colorscale": [
             [
              0,
              "#0d0887"
             ],
             [
              0.1111111111111111,
              "#46039f"
             ],
             [
              0.2222222222222222,
              "#7201a8"
             ],
             [
              0.3333333333333333,
              "#9c179e"
             ],
             [
              0.4444444444444444,
              "#bd3786"
             ],
             [
              0.5555555555555556,
              "#d8576b"
             ],
             [
              0.6666666666666666,
              "#ed7953"
             ],
             [
              0.7777777777777778,
              "#fb9f3a"
             ],
             [
              0.8888888888888888,
              "#fdca26"
             ],
             [
              1,
              "#f0f921"
             ]
            ],
            "type": "heatmap"
           }
          ],
          "histogram": [
           {
            "marker": {
             "pattern": {
              "fillmode": "overlay",
              "size": 10,
              "solidity": 0.2
             }
            },
            "type": "histogram"
           }
          ],
          "histogram2d": [
           {
            "colorbar": {
             "outlinewidth": 0,
             "ticks": ""
            },
            "colorscale": [
             [
              0,
              "#0d0887"
             ],
             [
              0.1111111111111111,
              "#46039f"
             ],
             [
              0.2222222222222222,
              "#7201a8"
             ],
             [
              0.3333333333333333,
              "#9c179e"
             ],
             [
              0.4444444444444444,
              "#bd3786"
             ],
             [
              0.5555555555555556,
              "#d8576b"
             ],
             [
              0.6666666666666666,
              "#ed7953"
             ],
             [
              0.7777777777777778,
              "#fb9f3a"
             ],
             [
              0.8888888888888888,
              "#fdca26"
             ],
             [
              1,
              "#f0f921"
             ]
            ],
            "type": "histogram2d"
           }
          ],
          "histogram2dcontour": [
           {
            "colorbar": {
             "outlinewidth": 0,
             "ticks": ""
            },
            "colorscale": [
             [
              0,
              "#0d0887"
             ],
             [
              0.1111111111111111,
              "#46039f"
             ],
             [
              0.2222222222222222,
              "#7201a8"
             ],
             [
              0.3333333333333333,
              "#9c179e"
             ],
             [
              0.4444444444444444,
              "#bd3786"
             ],
             [
              0.5555555555555556,
              "#d8576b"
             ],
             [
              0.6666666666666666,
              "#ed7953"
             ],
             [
              0.7777777777777778,
              "#fb9f3a"
             ],
             [
              0.8888888888888888,
              "#fdca26"
             ],
             [
              1,
              "#f0f921"
             ]
            ],
            "type": "histogram2dcontour"
           }
          ],
          "mesh3d": [
           {
            "colorbar": {
             "outlinewidth": 0,
             "ticks": ""
            },
            "type": "mesh3d"
           }
          ],
          "parcoords": [
           {
            "line": {
             "colorbar": {
              "outlinewidth": 0,
              "ticks": ""
             }
            },
            "type": "parcoords"
           }
          ],
          "pie": [
           {
            "automargin": true,
            "type": "pie"
           }
          ],
          "scatter": [
           {
            "fillpattern": {
             "fillmode": "overlay",
             "size": 10,
             "solidity": 0.2
            },
            "type": "scatter"
           }
          ],
          "scatter3d": [
           {
            "line": {
             "colorbar": {
              "outlinewidth": 0,
              "ticks": ""
             }
            },
            "marker": {
             "colorbar": {
              "outlinewidth": 0,
              "ticks": ""
             }
            },
            "type": "scatter3d"
           }
          ],
          "scattercarpet": [
           {
            "marker": {
             "colorbar": {
              "outlinewidth": 0,
              "ticks": ""
             }
            },
            "type": "scattercarpet"
           }
          ],
          "scattergeo": [
           {
            "marker": {
             "colorbar": {
              "outlinewidth": 0,
              "ticks": ""
             }
            },
            "type": "scattergeo"
           }
          ],
          "scattergl": [
           {
            "marker": {
             "colorbar": {
              "outlinewidth": 0,
              "ticks": ""
             }
            },
            "type": "scattergl"
           }
          ],
          "scattermap": [
           {
            "marker": {
             "colorbar": {
              "outlinewidth": 0,
              "ticks": ""
             }
            },
            "type": "scattermap"
           }
          ],
          "scattermapbox": [
           {
            "marker": {
             "colorbar": {
              "outlinewidth": 0,
              "ticks": ""
             }
            },
            "type": "scattermapbox"
           }
          ],
          "scatterpolar": [
           {
            "marker": {
             "colorbar": {
              "outlinewidth": 0,
              "ticks": ""
             }
            },
            "type": "scatterpolar"
           }
          ],
          "scatterpolargl": [
           {
            "marker": {
             "colorbar": {
              "outlinewidth": 0,
              "ticks": ""
             }
            },
            "type": "scatterpolargl"
           }
          ],
          "scatterternary": [
           {
            "marker": {
             "colorbar": {
              "outlinewidth": 0,
              "ticks": ""
             }
            },
            "type": "scatterternary"
           }
          ],
          "surface": [
           {
            "colorbar": {
             "outlinewidth": 0,
             "ticks": ""
            },
            "colorscale": [
             [
              0,
              "#0d0887"
             ],
             [
              0.1111111111111111,
              "#46039f"
             ],
             [
              0.2222222222222222,
              "#7201a8"
             ],
             [
              0.3333333333333333,
              "#9c179e"
             ],
             [
              0.4444444444444444,
              "#bd3786"
             ],
             [
              0.5555555555555556,
              "#d8576b"
             ],
             [
              0.6666666666666666,
              "#ed7953"
             ],
             [
              0.7777777777777778,
              "#fb9f3a"
             ],
             [
              0.8888888888888888,
              "#fdca26"
             ],
             [
              1,
              "#f0f921"
             ]
            ],
            "type": "surface"
           }
          ],
          "table": [
           {
            "cells": {
             "fill": {
              "color": "#EBF0F8"
             },
             "line": {
              "color": "white"
             }
            },
            "header": {
             "fill": {
              "color": "#C8D4E3"
             },
             "line": {
              "color": "white"
             }
            },
            "type": "table"
           }
          ]
         },
         "layout": {
          "annotationdefaults": {
           "arrowcolor": "#2a3f5f",
           "arrowhead": 0,
           "arrowwidth": 1
          },
          "autotypenumbers": "strict",
          "coloraxis": {
           "colorbar": {
            "outlinewidth": 0,
            "ticks": ""
           }
          },
          "colorscale": {
           "diverging": [
            [
             0,
             "#8e0152"
            ],
            [
             0.1,
             "#c51b7d"
            ],
            [
             0.2,
             "#de77ae"
            ],
            [
             0.3,
             "#f1b6da"
            ],
            [
             0.4,
             "#fde0ef"
            ],
            [
             0.5,
             "#f7f7f7"
            ],
            [
             0.6,
             "#e6f5d0"
            ],
            [
             0.7,
             "#b8e186"
            ],
            [
             0.8,
             "#7fbc41"
            ],
            [
             0.9,
             "#4d9221"
            ],
            [
             1,
             "#276419"
            ]
           ],
           "sequential": [
            [
             0,
             "#0d0887"
            ],
            [
             0.1111111111111111,
             "#46039f"
            ],
            [
             0.2222222222222222,
             "#7201a8"
            ],
            [
             0.3333333333333333,
             "#9c179e"
            ],
            [
             0.4444444444444444,
             "#bd3786"
            ],
            [
             0.5555555555555556,
             "#d8576b"
            ],
            [
             0.6666666666666666,
             "#ed7953"
            ],
            [
             0.7777777777777778,
             "#fb9f3a"
            ],
            [
             0.8888888888888888,
             "#fdca26"
            ],
            [
             1,
             "#f0f921"
            ]
           ],
           "sequentialminus": [
            [
             0,
             "#0d0887"
            ],
            [
             0.1111111111111111,
             "#46039f"
            ],
            [
             0.2222222222222222,
             "#7201a8"
            ],
            [
             0.3333333333333333,
             "#9c179e"
            ],
            [
             0.4444444444444444,
             "#bd3786"
            ],
            [
             0.5555555555555556,
             "#d8576b"
            ],
            [
             0.6666666666666666,
             "#ed7953"
            ],
            [
             0.7777777777777778,
             "#fb9f3a"
            ],
            [
             0.8888888888888888,
             "#fdca26"
            ],
            [
             1,
             "#f0f921"
            ]
           ]
          },
          "colorway": [
           "#636efa",
           "#EF553B",
           "#00cc96",
           "#ab63fa",
           "#FFA15A",
           "#19d3f3",
           "#FF6692",
           "#B6E880",
           "#FF97FF",
           "#FECB52"
          ],
          "font": {
           "color": "#2a3f5f"
          },
          "geo": {
           "bgcolor": "white",
           "lakecolor": "white",
           "landcolor": "#E5ECF6",
           "showlakes": true,
           "showland": true,
           "subunitcolor": "white"
          },
          "hoverlabel": {
           "align": "left"
          },
          "hovermode": "closest",
          "mapbox": {
           "style": "light"
          },
          "paper_bgcolor": "white",
          "plot_bgcolor": "#E5ECF6",
          "polar": {
           "angularaxis": {
            "gridcolor": "white",
            "linecolor": "white",
            "ticks": ""
           },
           "bgcolor": "#E5ECF6",
           "radialaxis": {
            "gridcolor": "white",
            "linecolor": "white",
            "ticks": ""
           }
          },
          "scene": {
           "xaxis": {
            "backgroundcolor": "#E5ECF6",
            "gridcolor": "white",
            "gridwidth": 2,
            "linecolor": "white",
            "showbackground": true,
            "ticks": "",
            "zerolinecolor": "white"
           },
           "yaxis": {
            "backgroundcolor": "#E5ECF6",
            "gridcolor": "white",
            "gridwidth": 2,
            "linecolor": "white",
            "showbackground": true,
            "ticks": "",
            "zerolinecolor": "white"
           },
           "zaxis": {
            "backgroundcolor": "#E5ECF6",
            "gridcolor": "white",
            "gridwidth": 2,
            "linecolor": "white",
            "showbackground": true,
            "ticks": "",
            "zerolinecolor": "white"
           }
          },
          "shapedefaults": {
           "line": {
            "color": "#2a3f5f"
           }
          },
          "ternary": {
           "aaxis": {
            "gridcolor": "white",
            "linecolor": "white",
            "ticks": ""
           },
           "baxis": {
            "gridcolor": "white",
            "linecolor": "white",
            "ticks": ""
           },
           "bgcolor": "#E5ECF6",
           "caxis": {
            "gridcolor": "white",
            "linecolor": "white",
            "ticks": ""
           }
          },
          "title": {
           "x": 0.05
          },
          "xaxis": {
           "automargin": true,
           "gridcolor": "white",
           "linecolor": "white",
           "ticks": "",
           "title": {
            "standoff": 15
           },
           "zerolinecolor": "white",
           "zerolinewidth": 2
          },
          "yaxis": {
           "automargin": true,
           "gridcolor": "white",
           "linecolor": "white",
           "ticks": "",
           "title": {
            "standoff": 15
           },
           "zerolinecolor": "white",
           "zerolinewidth": 2
          }
         }
        },
        "title": {
         "text": "SVD Components of Document Vectors"
        }
       }
      }
     },
     "metadata": {},
     "output_type": "display_data"
    }
   ],
   "source": [
    "fig = px.scatter_matrix(\n",
    "    document_topic_matrix,\n",
    "    dimensions=[0, 1, 2, 3, 4],\n",
    "    color=df['Category'],\n",
    "    labels=dict.fromkeys(range(5), 'Component'),\n",
    "    title='SVD Components of Document Vectors'\n",
    ")\n",
    "fig.update_traces(diagonal_visible=False)\n",
    "fig.show()"
   ]
  },
  {
   "cell_type": "markdown",
   "id": "0cfb15a3",
   "metadata": {},
   "source": [
    "## Training Unsupervised Learning Models"
   ]
  },
  {
   "cell_type": "markdown",
   "id": "5ee27364",
   "metadata": {},
   "source": [
    "Now, I will train unsupervised learning models on the document vectors. This includes clustering algorithms like K-Means to identify patterns and group similar documents together.\n"
   ]
  },
  {
   "cell_type": "code",
   "execution_count": 24,
   "id": "9a95720d",
   "metadata": {},
   "outputs": [],
   "source": [
    "from sklearn.model_selection import train_test_split\n",
    "X_train, X_test, y_train, y_test = train_test_split(\n",
    "    np.vstack(df['doc_vector'].values), df['Category'], test_size=CONFIG['DEFAULT_TEST_SIZE'], random_state=CONFIG['RANDOM_STATE']\n",
    ")\n"
   ]
  },
  {
   "cell_type": "markdown",
   "id": "c8b101c5",
   "metadata": {},
   "source": [
    "\n",
    "Here I employed TruncatedSVD to reduce the dimensionality of our feature space to five components. The SVD model was first fitted on the training data to learn the optimal lower-dimensional representation and then used to consistently transform both the training and test datasets. This approach helps capture the most important patterns in the data while reducing noise and computational cost. By applying dimensionality reduction, we aim to improve model performance and mitigate potential overfitting."
   ]
  },
  {
   "cell_type": "code",
   "execution_count": 25,
   "id": "cd3ec729",
   "metadata": {},
   "outputs": [],
   "source": [
    "svd = TruncatedSVD(n_components=5, random_state=CONFIG['RANDOM_STATE'])\n",
    "X_train_svd = svd.fit_transform(X_train)\n",
    "X_test_svd = svd.transform(X_test)\n"
   ]
  },
  {
   "cell_type": "markdown",
   "id": "95221335",
   "metadata": {},
   "source": [
    "Next, I applied KMeans clustering on the reduced data to explore inherent groupings. I initialized the KMeans model with the number of clusters equal to the number of unique categories in our dataset, ensuring alignment with known class distributions. The model was fitted on the transformed training data (X_train_svd) to learn cluster centroids, and then used to predict cluster assignments for both the training and test sets. This clustering step allows us to investigate how well the unsupervised groupings correspond to the original categories and potentially enhances feature engineering."
   ]
  },
  {
   "cell_type": "code",
   "execution_count": 26,
   "id": "c89aef86",
   "metadata": {},
   "outputs": [],
   "source": [
    "from sklearn.cluster import KMeans\n",
    "\n",
    "kmeans = KMeans(n_clusters=df['Category'].nunique(), random_state=CONFIG['RANDOM_STATE'])\n",
    "train_clusters = kmeans.fit_predict(X_train_svd)\n",
    "test_clusters = kmeans.predict(X_test_svd)\n"
   ]
  },
  {
   "cell_type": "markdown",
   "id": "f8882d78",
   "metadata": {},
   "source": [
    "Unsupervised learning models grouped the clusters, however, it is not yet known to us what these clusters represent in terms of the original categories. To interpret the clusters, we need to map them back to the original labels.\n",
    "\n",
    "\n",
    "To map the discovered clusters back to the actual categories, we assigned each cluster the most frequent true label (mode) among the training samples within that cluster. This was done by iterating over all clusters and building a cluster_to_label dictionary linking clusters to their majority labels. Using this mapping, we predicted the final labels for both the training and test data based on their cluster assignments. This simple post-clustering labeling strategy enables us to evaluate how well the unsupervised clustering aligns with the original supervised targets."
   ]
  },
  {
   "cell_type": "code",
   "execution_count": 27,
   "id": "f5dfb341",
   "metadata": {},
   "outputs": [
    {
     "name": "stdout",
     "output_type": "stream",
     "text": [
      "{0: 'politics', 1: 'entertainment', 2: 'sport', 3: 'business', 4: 'tech'}\n"
     ]
    }
   ],
   "source": [
    "cluster_to_label = {}\n",
    "for cluster in np.unique(train_clusters):\n",
    "    mask = train_clusters == cluster\n",
    "    majority_label = pd.Series(y_train[mask]).mode()[0]\n",
    "    cluster_to_label[cluster] = majority_label\n",
    "print(cluster_to_label)\n",
    "# Predict final labels\n",
    "y_train_pred = np.array([cluster_to_label[c] for c in train_clusters])\n",
    "y_test_pred = np.array([cluster_to_label[c] for c in test_clusters])\n"
   ]
  },
  {
   "cell_type": "markdown",
   "id": "76169587",
   "metadata": {},
   "source": [
    "## Confusion Matrix\n",
    "\n",
    "Finally, I will evaluate the performance of the unsupervised learning models using a confusion matrix. The confusion matrix will show the true labels vs the predicted labels for the test set. This will help us understand how well the unsupervised learning models performed and how they relate to the original categories."
   ]
  },
  {
   "cell_type": "code",
   "execution_count": 28,
   "id": "6412d8ee",
   "metadata": {},
   "outputs": [
    {
     "name": "stdout",
     "output_type": "stream",
     "text": [
      "Train accuracy: 0.886744966442953\n",
      "Test accuracy: 0.889261744966443\n"
     ]
    },
    {
     "data": {
      "application/vnd.plotly.v1+json": {
       "config": {
        "plotlyServerURL": "https://plot.ly"
       },
       "data": [
        {
         "coloraxis": "coloraxis",
         "hovertemplate": "Predicted Category: %{x}<br>True Category: %{y}<br>Count: %{z}<extra></extra>",
         "name": "0",
         "texttemplate": "%{z}",
         "type": "heatmap",
         "x": [
          "business",
          "entertainment",
          "politics",
          "sport",
          "tech"
         ],
         "xaxis": "x",
         "y": [
          "business",
          "entertainment",
          "politics",
          "sport",
          "tech"
         ],
         "yaxis": "y",
         "z": {
          "bdata": "PwAMAAABKQEBAgEBNQABAAMDOQACAAUAMw==",
          "dtype": "i1",
          "shape": "5, 5"
         }
        }
       ],
       "layout": {
        "coloraxis": {
         "colorbar": {
          "title": {
           "text": "Count"
          }
         },
         "colorscale": [
          [
           0,
           "rgb(255,255,229)"
          ],
          [
           0.125,
           "rgb(247,252,185)"
          ],
          [
           0.25,
           "rgb(217,240,163)"
          ],
          [
           0.375,
           "rgb(173,221,142)"
          ],
          [
           0.5,
           "rgb(120,198,121)"
          ],
          [
           0.625,
           "rgb(65,171,93)"
          ],
          [
           0.75,
           "rgb(35,132,67)"
          ],
          [
           0.875,
           "rgb(0,104,55)"
          ],
          [
           1,
           "rgb(0,69,41)"
          ]
         ]
        },
        "height": 600,
        "template": {
         "data": {
          "bar": [
           {
            "error_x": {
             "color": "#2a3f5f"
            },
            "error_y": {
             "color": "#2a3f5f"
            },
            "marker": {
             "line": {
              "color": "#E5ECF6",
              "width": 0.5
             },
             "pattern": {
              "fillmode": "overlay",
              "size": 10,
              "solidity": 0.2
             }
            },
            "type": "bar"
           }
          ],
          "barpolar": [
           {
            "marker": {
             "line": {
              "color": "#E5ECF6",
              "width": 0.5
             },
             "pattern": {
              "fillmode": "overlay",
              "size": 10,
              "solidity": 0.2
             }
            },
            "type": "barpolar"
           }
          ],
          "carpet": [
           {
            "aaxis": {
             "endlinecolor": "#2a3f5f",
             "gridcolor": "white",
             "linecolor": "white",
             "minorgridcolor": "white",
             "startlinecolor": "#2a3f5f"
            },
            "baxis": {
             "endlinecolor": "#2a3f5f",
             "gridcolor": "white",
             "linecolor": "white",
             "minorgridcolor": "white",
             "startlinecolor": "#2a3f5f"
            },
            "type": "carpet"
           }
          ],
          "choropleth": [
           {
            "colorbar": {
             "outlinewidth": 0,
             "ticks": ""
            },
            "type": "choropleth"
           }
          ],
          "contour": [
           {
            "colorbar": {
             "outlinewidth": 0,
             "ticks": ""
            },
            "colorscale": [
             [
              0,
              "#0d0887"
             ],
             [
              0.1111111111111111,
              "#46039f"
             ],
             [
              0.2222222222222222,
              "#7201a8"
             ],
             [
              0.3333333333333333,
              "#9c179e"
             ],
             [
              0.4444444444444444,
              "#bd3786"
             ],
             [
              0.5555555555555556,
              "#d8576b"
             ],
             [
              0.6666666666666666,
              "#ed7953"
             ],
             [
              0.7777777777777778,
              "#fb9f3a"
             ],
             [
              0.8888888888888888,
              "#fdca26"
             ],
             [
              1,
              "#f0f921"
             ]
            ],
            "type": "contour"
           }
          ],
          "contourcarpet": [
           {
            "colorbar": {
             "outlinewidth": 0,
             "ticks": ""
            },
            "type": "contourcarpet"
           }
          ],
          "heatmap": [
           {
            "colorbar": {
             "outlinewidth": 0,
             "ticks": ""
            },
            "colorscale": [
             [
              0,
              "#0d0887"
             ],
             [
              0.1111111111111111,
              "#46039f"
             ],
             [
              0.2222222222222222,
              "#7201a8"
             ],
             [
              0.3333333333333333,
              "#9c179e"
             ],
             [
              0.4444444444444444,
              "#bd3786"
             ],
             [
              0.5555555555555556,
              "#d8576b"
             ],
             [
              0.6666666666666666,
              "#ed7953"
             ],
             [
              0.7777777777777778,
              "#fb9f3a"
             ],
             [
              0.8888888888888888,
              "#fdca26"
             ],
             [
              1,
              "#f0f921"
             ]
            ],
            "type": "heatmap"
           }
          ],
          "histogram": [
           {
            "marker": {
             "pattern": {
              "fillmode": "overlay",
              "size": 10,
              "solidity": 0.2
             }
            },
            "type": "histogram"
           }
          ],
          "histogram2d": [
           {
            "colorbar": {
             "outlinewidth": 0,
             "ticks": ""
            },
            "colorscale": [
             [
              0,
              "#0d0887"
             ],
             [
              0.1111111111111111,
              "#46039f"
             ],
             [
              0.2222222222222222,
              "#7201a8"
             ],
             [
              0.3333333333333333,
              "#9c179e"
             ],
             [
              0.4444444444444444,
              "#bd3786"
             ],
             [
              0.5555555555555556,
              "#d8576b"
             ],
             [
              0.6666666666666666,
              "#ed7953"
             ],
             [
              0.7777777777777778,
              "#fb9f3a"
             ],
             [
              0.8888888888888888,
              "#fdca26"
             ],
             [
              1,
              "#f0f921"
             ]
            ],
            "type": "histogram2d"
           }
          ],
          "histogram2dcontour": [
           {
            "colorbar": {
             "outlinewidth": 0,
             "ticks": ""
            },
            "colorscale": [
             [
              0,
              "#0d0887"
             ],
             [
              0.1111111111111111,
              "#46039f"
             ],
             [
              0.2222222222222222,
              "#7201a8"
             ],
             [
              0.3333333333333333,
              "#9c179e"
             ],
             [
              0.4444444444444444,
              "#bd3786"
             ],
             [
              0.5555555555555556,
              "#d8576b"
             ],
             [
              0.6666666666666666,
              "#ed7953"
             ],
             [
              0.7777777777777778,
              "#fb9f3a"
             ],
             [
              0.8888888888888888,
              "#fdca26"
             ],
             [
              1,
              "#f0f921"
             ]
            ],
            "type": "histogram2dcontour"
           }
          ],
          "mesh3d": [
           {
            "colorbar": {
             "outlinewidth": 0,
             "ticks": ""
            },
            "type": "mesh3d"
           }
          ],
          "parcoords": [
           {
            "line": {
             "colorbar": {
              "outlinewidth": 0,
              "ticks": ""
             }
            },
            "type": "parcoords"
           }
          ],
          "pie": [
           {
            "automargin": true,
            "type": "pie"
           }
          ],
          "scatter": [
           {
            "fillpattern": {
             "fillmode": "overlay",
             "size": 10,
             "solidity": 0.2
            },
            "type": "scatter"
           }
          ],
          "scatter3d": [
           {
            "line": {
             "colorbar": {
              "outlinewidth": 0,
              "ticks": ""
             }
            },
            "marker": {
             "colorbar": {
              "outlinewidth": 0,
              "ticks": ""
             }
            },
            "type": "scatter3d"
           }
          ],
          "scattercarpet": [
           {
            "marker": {
             "colorbar": {
              "outlinewidth": 0,
              "ticks": ""
             }
            },
            "type": "scattercarpet"
           }
          ],
          "scattergeo": [
           {
            "marker": {
             "colorbar": {
              "outlinewidth": 0,
              "ticks": ""
             }
            },
            "type": "scattergeo"
           }
          ],
          "scattergl": [
           {
            "marker": {
             "colorbar": {
              "outlinewidth": 0,
              "ticks": ""
             }
            },
            "type": "scattergl"
           }
          ],
          "scattermap": [
           {
            "marker": {
             "colorbar": {
              "outlinewidth": 0,
              "ticks": ""
             }
            },
            "type": "scattermap"
           }
          ],
          "scattermapbox": [
           {
            "marker": {
             "colorbar": {
              "outlinewidth": 0,
              "ticks": ""
             }
            },
            "type": "scattermapbox"
           }
          ],
          "scatterpolar": [
           {
            "marker": {
             "colorbar": {
              "outlinewidth": 0,
              "ticks": ""
             }
            },
            "type": "scatterpolar"
           }
          ],
          "scatterpolargl": [
           {
            "marker": {
             "colorbar": {
              "outlinewidth": 0,
              "ticks": ""
             }
            },
            "type": "scatterpolargl"
           }
          ],
          "scatterternary": [
           {
            "marker": {
             "colorbar": {
              "outlinewidth": 0,
              "ticks": ""
             }
            },
            "type": "scatterternary"
           }
          ],
          "surface": [
           {
            "colorbar": {
             "outlinewidth": 0,
             "ticks": ""
            },
            "colorscale": [
             [
              0,
              "#0d0887"
             ],
             [
              0.1111111111111111,
              "#46039f"
             ],
             [
              0.2222222222222222,
              "#7201a8"
             ],
             [
              0.3333333333333333,
              "#9c179e"
             ],
             [
              0.4444444444444444,
              "#bd3786"
             ],
             [
              0.5555555555555556,
              "#d8576b"
             ],
             [
              0.6666666666666666,
              "#ed7953"
             ],
             [
              0.7777777777777778,
              "#fb9f3a"
             ],
             [
              0.8888888888888888,
              "#fdca26"
             ],
             [
              1,
              "#f0f921"
             ]
            ],
            "type": "surface"
           }
          ],
          "table": [
           {
            "cells": {
             "fill": {
              "color": "#EBF0F8"
             },
             "line": {
              "color": "white"
             }
            },
            "header": {
             "fill": {
              "color": "#C8D4E3"
             },
             "line": {
              "color": "white"
             }
            },
            "type": "table"
           }
          ]
         },
         "layout": {
          "annotationdefaults": {
           "arrowcolor": "#2a3f5f",
           "arrowhead": 0,
           "arrowwidth": 1
          },
          "autotypenumbers": "strict",
          "coloraxis": {
           "colorbar": {
            "outlinewidth": 0,
            "ticks": ""
           }
          },
          "colorscale": {
           "diverging": [
            [
             0,
             "#8e0152"
            ],
            [
             0.1,
             "#c51b7d"
            ],
            [
             0.2,
             "#de77ae"
            ],
            [
             0.3,
             "#f1b6da"
            ],
            [
             0.4,
             "#fde0ef"
            ],
            [
             0.5,
             "#f7f7f7"
            ],
            [
             0.6,
             "#e6f5d0"
            ],
            [
             0.7,
             "#b8e186"
            ],
            [
             0.8,
             "#7fbc41"
            ],
            [
             0.9,
             "#4d9221"
            ],
            [
             1,
             "#276419"
            ]
           ],
           "sequential": [
            [
             0,
             "#0d0887"
            ],
            [
             0.1111111111111111,
             "#46039f"
            ],
            [
             0.2222222222222222,
             "#7201a8"
            ],
            [
             0.3333333333333333,
             "#9c179e"
            ],
            [
             0.4444444444444444,
             "#bd3786"
            ],
            [
             0.5555555555555556,
             "#d8576b"
            ],
            [
             0.6666666666666666,
             "#ed7953"
            ],
            [
             0.7777777777777778,
             "#fb9f3a"
            ],
            [
             0.8888888888888888,
             "#fdca26"
            ],
            [
             1,
             "#f0f921"
            ]
           ],
           "sequentialminus": [
            [
             0,
             "#0d0887"
            ],
            [
             0.1111111111111111,
             "#46039f"
            ],
            [
             0.2222222222222222,
             "#7201a8"
            ],
            [
             0.3333333333333333,
             "#9c179e"
            ],
            [
             0.4444444444444444,
             "#bd3786"
            ],
            [
             0.5555555555555556,
             "#d8576b"
            ],
            [
             0.6666666666666666,
             "#ed7953"
            ],
            [
             0.7777777777777778,
             "#fb9f3a"
            ],
            [
             0.8888888888888888,
             "#fdca26"
            ],
            [
             1,
             "#f0f921"
            ]
           ]
          },
          "colorway": [
           "#636efa",
           "#EF553B",
           "#00cc96",
           "#ab63fa",
           "#FFA15A",
           "#19d3f3",
           "#FF6692",
           "#B6E880",
           "#FF97FF",
           "#FECB52"
          ],
          "font": {
           "color": "#2a3f5f"
          },
          "geo": {
           "bgcolor": "white",
           "lakecolor": "white",
           "landcolor": "#E5ECF6",
           "showlakes": true,
           "showland": true,
           "subunitcolor": "white"
          },
          "hoverlabel": {
           "align": "left"
          },
          "hovermode": "closest",
          "mapbox": {
           "style": "light"
          },
          "paper_bgcolor": "white",
          "plot_bgcolor": "#E5ECF6",
          "polar": {
           "angularaxis": {
            "gridcolor": "white",
            "linecolor": "white",
            "ticks": ""
           },
           "bgcolor": "#E5ECF6",
           "radialaxis": {
            "gridcolor": "white",
            "linecolor": "white",
            "ticks": ""
           }
          },
          "scene": {
           "xaxis": {
            "backgroundcolor": "#E5ECF6",
            "gridcolor": "white",
            "gridwidth": 2,
            "linecolor": "white",
            "showbackground": true,
            "ticks": "",
            "zerolinecolor": "white"
           },
           "yaxis": {
            "backgroundcolor": "#E5ECF6",
            "gridcolor": "white",
            "gridwidth": 2,
            "linecolor": "white",
            "showbackground": true,
            "ticks": "",
            "zerolinecolor": "white"
           },
           "zaxis": {
            "backgroundcolor": "#E5ECF6",
            "gridcolor": "white",
            "gridwidth": 2,
            "linecolor": "white",
            "showbackground": true,
            "ticks": "",
            "zerolinecolor": "white"
           }
          },
          "shapedefaults": {
           "line": {
            "color": "#2a3f5f"
           }
          },
          "ternary": {
           "aaxis": {
            "gridcolor": "white",
            "linecolor": "white",
            "ticks": ""
           },
           "baxis": {
            "gridcolor": "white",
            "linecolor": "white",
            "ticks": ""
           },
           "bgcolor": "#E5ECF6",
           "caxis": {
            "gridcolor": "white",
            "linecolor": "white",
            "ticks": ""
           }
          },
          "title": {
           "x": 0.05
          },
          "xaxis": {
           "automargin": true,
           "gridcolor": "white",
           "linecolor": "white",
           "ticks": "",
           "title": {
            "standoff": 15
           },
           "zerolinecolor": "white",
           "zerolinewidth": 2
          },
          "yaxis": {
           "automargin": true,
           "gridcolor": "white",
           "linecolor": "white",
           "ticks": "",
           "title": {
            "standoff": 15
           },
           "zerolinecolor": "white",
           "zerolinewidth": 2
          }
         }
        },
        "title": {
         "text": "Confusion Matrix"
        },
        "width": 600,
        "xaxis": {
         "anchor": "y",
         "constrain": "domain",
         "domain": [
          0,
          1
         ],
         "scaleanchor": "y",
         "title": {
          "text": "Predicted Category"
         }
        },
        "yaxis": {
         "anchor": "x",
         "autorange": "reversed",
         "constrain": "domain",
         "domain": [
          0,
          1
         ],
         "title": {
          "text": "True Category"
         }
        }
       }
      }
     },
     "metadata": {},
     "output_type": "display_data"
    }
   ],
   "source": [
    "from sklearn.metrics import accuracy_score, confusion_matrix\n",
    "\n",
    "print(\"Train accuracy:\", accuracy_score(y_train, y_train_pred))\n",
    "print(\"Test accuracy:\", accuracy_score(y_test, y_test_pred))\n",
    "\n",
    "cm = confusion_matrix(y_test, y_test_pred, labels=np.unique(y_test))\n",
    "\n",
    "\n",
    "# plot the confusion matrix using plotly\n",
    "fig = px.imshow(\n",
    "    cm,\n",
    "    text_auto=True,\n",
    "    labels=dict(x=\"Predicted Category\", y=\"True Category\", color=\"Count\"),\n",
    "    x=np.unique(y_test),\n",
    "    y=np.unique(y_test),\n",
    "    color_continuous_scale='YlGn',\n",
    "    # aspect=\"auto\",\n",
    "    title=\"Confusion Matrix\",\n",
    "    width=600,\n",
    "    height=600\n",
    ")\n",
    "fig.show()"
   ]
  },
  {
   "cell_type": "markdown",
   "id": "5ea55ec1",
   "metadata": {},
   "source": [
    "Finally, we evaluated the clustering-based classification using a confusion matrix and calculated overall accuracy. The confusion matrix reveals that most samples are correctly grouped into their true categories, with a few misclassifications primarily between related classes such as business and politics. The approach achieved a training accuracy of approximately $88.7%$ and a test accuracy of approximately $88.9%$, indicating that the cluster-to-label mapping generalizes well to unseen data. These results demonstrate that even an unsupervised technique like KMeans, when combined with majority label assignment, can effectively approximate the original categories in this dataset."
   ]
  },
  {
   "cell_type": "markdown",
   "id": "a4d162b1",
   "metadata": {},
   "source": [
    "## Supervised Learning Models\n",
    "\n",
    "Let's train some supervised learning models on the original document vectors and evaluate their performance. There are many supervised learning algorithms that can be used for text classification, for sake of simplicity, I will use a simple logistic regression model. However, you can experiment with other algorithms like SVM, Random Forest, or XGBoost to see if you can achieve better performance."
   ]
  },
  {
   "cell_type": "code",
   "execution_count": 29,
   "id": "fd128eee",
   "metadata": {},
   "outputs": [],
   "source": [
    "from sklearn.linear_model import LogisticRegression\n",
    "clf = LogisticRegression(max_iter=1000, random_state=CONFIG['RANDOM_STATE'])\n",
    "clf.fit(X_train, y_train)\n",
    "\n",
    "# Predictions\n",
    "y_train_pred_supervised = clf.predict(X_train)\n",
    "y_test_pred_supervised= clf.predict(X_test)"
   ]
  },
  {
   "cell_type": "code",
   "execution_count": 30,
   "id": "d914f29f",
   "metadata": {},
   "outputs": [
    {
     "name": "stdout",
     "output_type": "stream",
     "text": [
      "Train accuracy: 0.9605704697986577\n",
      "Test accuracy: 0.9731543624161074\n",
      "               precision    recall  f1-score   support\n",
      "\n",
      "     business       0.96      0.99      0.97        75\n",
      "entertainment       1.00      0.96      0.98        46\n",
      "     politics       0.93      0.98      0.96        56\n",
      "        sport       1.00      1.00      1.00        63\n",
      "         tech       0.98      0.93      0.96        58\n",
      "\n",
      "     accuracy                           0.97       298\n",
      "    macro avg       0.98      0.97      0.97       298\n",
      " weighted avg       0.97      0.97      0.97       298\n",
      "\n"
     ]
    }
   ],
   "source": [
    "from sklearn.metrics import accuracy_score, classification_report\n",
    "\n",
    "print(\"Train accuracy:\", accuracy_score(y_train, y_train_pred_supervised))\n",
    "print(\"Test accuracy:\", accuracy_score(y_test, y_test_pred_supervised))\n",
    "print(classification_report(y_test, y_test_pred_supervised))"
   ]
  },
  {
   "cell_type": "markdown",
   "id": "02116a07",
   "metadata": {},
   "source": [
    "I trained a logistic regression classifier on the original document vectors to perform text classification. The model achieved impressive results, with a training accuracy of approximately $96.1%$ and a test accuracy of approximately $97.3%$, indicating excellent generalization. The detailed classification report shows consistently high precision, recall, and F1-scores across all categories, with particularly perfect scores for the sport class and very strong results for business, entertainment, politics, and tech. These findings demonstrate that even a relatively simple supervised model can effectively capture the distinctions among categories in this dataset.\n",
    "\n",
    "Following plot also shows the confusion matrix for the supervised learning model. The confusion matrix reveals that most samples are correctly classified into their true categories, with only a few misclassifications primarily between related classes such as business and politics. The model's high accuracy and strong performance across all categories indicate its effectiveness in capturing the underlying patterns in the text data."
   ]
  },
  {
   "cell_type": "code",
   "execution_count": 31,
   "id": "606c963f",
   "metadata": {},
   "outputs": [
    {
     "data": {
      "application/vnd.plotly.v1+json": {
       "config": {
        "plotlyServerURL": "https://plot.ly"
       },
       "data": [
        {
         "coloraxis": "coloraxis",
         "hovertemplate": "Predicted Category: %{x}<br>True Category: %{y}<br>Count: %{z}<extra></extra>",
         "name": "0",
         "texttemplate": "%{z}",
         "type": "heatmap",
         "x": [
          "business",
          "entertainment",
          "politics",
          "sport",
          "tech"
         ],
         "xaxis": "x",
         "y": [
          "business",
          "entertainment",
          "politics",
          "sport",
          "tech"
         ],
         "yaxis": "y",
         "z": {
          "bdata": "SgABAAABLAAAAQEANwAAAAAAPwABAAMANg==",
          "dtype": "i1",
          "shape": "5, 5"
         }
        }
       ],
       "layout": {
        "coloraxis": {
         "colorbar": {
          "title": {
           "text": "Count"
          }
         },
         "colorscale": [
          [
           0,
           "rgb(255,255,229)"
          ],
          [
           0.125,
           "rgb(247,252,185)"
          ],
          [
           0.25,
           "rgb(217,240,163)"
          ],
          [
           0.375,
           "rgb(173,221,142)"
          ],
          [
           0.5,
           "rgb(120,198,121)"
          ],
          [
           0.625,
           "rgb(65,171,93)"
          ],
          [
           0.75,
           "rgb(35,132,67)"
          ],
          [
           0.875,
           "rgb(0,104,55)"
          ],
          [
           1,
           "rgb(0,69,41)"
          ]
         ]
        },
        "height": 600,
        "template": {
         "data": {
          "bar": [
           {
            "error_x": {
             "color": "#2a3f5f"
            },
            "error_y": {
             "color": "#2a3f5f"
            },
            "marker": {
             "line": {
              "color": "#E5ECF6",
              "width": 0.5
             },
             "pattern": {
              "fillmode": "overlay",
              "size": 10,
              "solidity": 0.2
             }
            },
            "type": "bar"
           }
          ],
          "barpolar": [
           {
            "marker": {
             "line": {
              "color": "#E5ECF6",
              "width": 0.5
             },
             "pattern": {
              "fillmode": "overlay",
              "size": 10,
              "solidity": 0.2
             }
            },
            "type": "barpolar"
           }
          ],
          "carpet": [
           {
            "aaxis": {
             "endlinecolor": "#2a3f5f",
             "gridcolor": "white",
             "linecolor": "white",
             "minorgridcolor": "white",
             "startlinecolor": "#2a3f5f"
            },
            "baxis": {
             "endlinecolor": "#2a3f5f",
             "gridcolor": "white",
             "linecolor": "white",
             "minorgridcolor": "white",
             "startlinecolor": "#2a3f5f"
            },
            "type": "carpet"
           }
          ],
          "choropleth": [
           {
            "colorbar": {
             "outlinewidth": 0,
             "ticks": ""
            },
            "type": "choropleth"
           }
          ],
          "contour": [
           {
            "colorbar": {
             "outlinewidth": 0,
             "ticks": ""
            },
            "colorscale": [
             [
              0,
              "#0d0887"
             ],
             [
              0.1111111111111111,
              "#46039f"
             ],
             [
              0.2222222222222222,
              "#7201a8"
             ],
             [
              0.3333333333333333,
              "#9c179e"
             ],
             [
              0.4444444444444444,
              "#bd3786"
             ],
             [
              0.5555555555555556,
              "#d8576b"
             ],
             [
              0.6666666666666666,
              "#ed7953"
             ],
             [
              0.7777777777777778,
              "#fb9f3a"
             ],
             [
              0.8888888888888888,
              "#fdca26"
             ],
             [
              1,
              "#f0f921"
             ]
            ],
            "type": "contour"
           }
          ],
          "contourcarpet": [
           {
            "colorbar": {
             "outlinewidth": 0,
             "ticks": ""
            },
            "type": "contourcarpet"
           }
          ],
          "heatmap": [
           {
            "colorbar": {
             "outlinewidth": 0,
             "ticks": ""
            },
            "colorscale": [
             [
              0,
              "#0d0887"
             ],
             [
              0.1111111111111111,
              "#46039f"
             ],
             [
              0.2222222222222222,
              "#7201a8"
             ],
             [
              0.3333333333333333,
              "#9c179e"
             ],
             [
              0.4444444444444444,
              "#bd3786"
             ],
             [
              0.5555555555555556,
              "#d8576b"
             ],
             [
              0.6666666666666666,
              "#ed7953"
             ],
             [
              0.7777777777777778,
              "#fb9f3a"
             ],
             [
              0.8888888888888888,
              "#fdca26"
             ],
             [
              1,
              "#f0f921"
             ]
            ],
            "type": "heatmap"
           }
          ],
          "histogram": [
           {
            "marker": {
             "pattern": {
              "fillmode": "overlay",
              "size": 10,
              "solidity": 0.2
             }
            },
            "type": "histogram"
           }
          ],
          "histogram2d": [
           {
            "colorbar": {
             "outlinewidth": 0,
             "ticks": ""
            },
            "colorscale": [
             [
              0,
              "#0d0887"
             ],
             [
              0.1111111111111111,
              "#46039f"
             ],
             [
              0.2222222222222222,
              "#7201a8"
             ],
             [
              0.3333333333333333,
              "#9c179e"
             ],
             [
              0.4444444444444444,
              "#bd3786"
             ],
             [
              0.5555555555555556,
              "#d8576b"
             ],
             [
              0.6666666666666666,
              "#ed7953"
             ],
             [
              0.7777777777777778,
              "#fb9f3a"
             ],
             [
              0.8888888888888888,
              "#fdca26"
             ],
             [
              1,
              "#f0f921"
             ]
            ],
            "type": "histogram2d"
           }
          ],
          "histogram2dcontour": [
           {
            "colorbar": {
             "outlinewidth": 0,
             "ticks": ""
            },
            "colorscale": [
             [
              0,
              "#0d0887"
             ],
             [
              0.1111111111111111,
              "#46039f"
             ],
             [
              0.2222222222222222,
              "#7201a8"
             ],
             [
              0.3333333333333333,
              "#9c179e"
             ],
             [
              0.4444444444444444,
              "#bd3786"
             ],
             [
              0.5555555555555556,
              "#d8576b"
             ],
             [
              0.6666666666666666,
              "#ed7953"
             ],
             [
              0.7777777777777778,
              "#fb9f3a"
             ],
             [
              0.8888888888888888,
              "#fdca26"
             ],
             [
              1,
              "#f0f921"
             ]
            ],
            "type": "histogram2dcontour"
           }
          ],
          "mesh3d": [
           {
            "colorbar": {
             "outlinewidth": 0,
             "ticks": ""
            },
            "type": "mesh3d"
           }
          ],
          "parcoords": [
           {
            "line": {
             "colorbar": {
              "outlinewidth": 0,
              "ticks": ""
             }
            },
            "type": "parcoords"
           }
          ],
          "pie": [
           {
            "automargin": true,
            "type": "pie"
           }
          ],
          "scatter": [
           {
            "fillpattern": {
             "fillmode": "overlay",
             "size": 10,
             "solidity": 0.2
            },
            "type": "scatter"
           }
          ],
          "scatter3d": [
           {
            "line": {
             "colorbar": {
              "outlinewidth": 0,
              "ticks": ""
             }
            },
            "marker": {
             "colorbar": {
              "outlinewidth": 0,
              "ticks": ""
             }
            },
            "type": "scatter3d"
           }
          ],
          "scattercarpet": [
           {
            "marker": {
             "colorbar": {
              "outlinewidth": 0,
              "ticks": ""
             }
            },
            "type": "scattercarpet"
           }
          ],
          "scattergeo": [
           {
            "marker": {
             "colorbar": {
              "outlinewidth": 0,
              "ticks": ""
             }
            },
            "type": "scattergeo"
           }
          ],
          "scattergl": [
           {
            "marker": {
             "colorbar": {
              "outlinewidth": 0,
              "ticks": ""
             }
            },
            "type": "scattergl"
           }
          ],
          "scattermap": [
           {
            "marker": {
             "colorbar": {
              "outlinewidth": 0,
              "ticks": ""
             }
            },
            "type": "scattermap"
           }
          ],
          "scattermapbox": [
           {
            "marker": {
             "colorbar": {
              "outlinewidth": 0,
              "ticks": ""
             }
            },
            "type": "scattermapbox"
           }
          ],
          "scatterpolar": [
           {
            "marker": {
             "colorbar": {
              "outlinewidth": 0,
              "ticks": ""
             }
            },
            "type": "scatterpolar"
           }
          ],
          "scatterpolargl": [
           {
            "marker": {
             "colorbar": {
              "outlinewidth": 0,
              "ticks": ""
             }
            },
            "type": "scatterpolargl"
           }
          ],
          "scatterternary": [
           {
            "marker": {
             "colorbar": {
              "outlinewidth": 0,
              "ticks": ""
             }
            },
            "type": "scatterternary"
           }
          ],
          "surface": [
           {
            "colorbar": {
             "outlinewidth": 0,
             "ticks": ""
            },
            "colorscale": [
             [
              0,
              "#0d0887"
             ],
             [
              0.1111111111111111,
              "#46039f"
             ],
             [
              0.2222222222222222,
              "#7201a8"
             ],
             [
              0.3333333333333333,
              "#9c179e"
             ],
             [
              0.4444444444444444,
              "#bd3786"
             ],
             [
              0.5555555555555556,
              "#d8576b"
             ],
             [
              0.6666666666666666,
              "#ed7953"
             ],
             [
              0.7777777777777778,
              "#fb9f3a"
             ],
             [
              0.8888888888888888,
              "#fdca26"
             ],
             [
              1,
              "#f0f921"
             ]
            ],
            "type": "surface"
           }
          ],
          "table": [
           {
            "cells": {
             "fill": {
              "color": "#EBF0F8"
             },
             "line": {
              "color": "white"
             }
            },
            "header": {
             "fill": {
              "color": "#C8D4E3"
             },
             "line": {
              "color": "white"
             }
            },
            "type": "table"
           }
          ]
         },
         "layout": {
          "annotationdefaults": {
           "arrowcolor": "#2a3f5f",
           "arrowhead": 0,
           "arrowwidth": 1
          },
          "autotypenumbers": "strict",
          "coloraxis": {
           "colorbar": {
            "outlinewidth": 0,
            "ticks": ""
           }
          },
          "colorscale": {
           "diverging": [
            [
             0,
             "#8e0152"
            ],
            [
             0.1,
             "#c51b7d"
            ],
            [
             0.2,
             "#de77ae"
            ],
            [
             0.3,
             "#f1b6da"
            ],
            [
             0.4,
             "#fde0ef"
            ],
            [
             0.5,
             "#f7f7f7"
            ],
            [
             0.6,
             "#e6f5d0"
            ],
            [
             0.7,
             "#b8e186"
            ],
            [
             0.8,
             "#7fbc41"
            ],
            [
             0.9,
             "#4d9221"
            ],
            [
             1,
             "#276419"
            ]
           ],
           "sequential": [
            [
             0,
             "#0d0887"
            ],
            [
             0.1111111111111111,
             "#46039f"
            ],
            [
             0.2222222222222222,
             "#7201a8"
            ],
            [
             0.3333333333333333,
             "#9c179e"
            ],
            [
             0.4444444444444444,
             "#bd3786"
            ],
            [
             0.5555555555555556,
             "#d8576b"
            ],
            [
             0.6666666666666666,
             "#ed7953"
            ],
            [
             0.7777777777777778,
             "#fb9f3a"
            ],
            [
             0.8888888888888888,
             "#fdca26"
            ],
            [
             1,
             "#f0f921"
            ]
           ],
           "sequentialminus": [
            [
             0,
             "#0d0887"
            ],
            [
             0.1111111111111111,
             "#46039f"
            ],
            [
             0.2222222222222222,
             "#7201a8"
            ],
            [
             0.3333333333333333,
             "#9c179e"
            ],
            [
             0.4444444444444444,
             "#bd3786"
            ],
            [
             0.5555555555555556,
             "#d8576b"
            ],
            [
             0.6666666666666666,
             "#ed7953"
            ],
            [
             0.7777777777777778,
             "#fb9f3a"
            ],
            [
             0.8888888888888888,
             "#fdca26"
            ],
            [
             1,
             "#f0f921"
            ]
           ]
          },
          "colorway": [
           "#636efa",
           "#EF553B",
           "#00cc96",
           "#ab63fa",
           "#FFA15A",
           "#19d3f3",
           "#FF6692",
           "#B6E880",
           "#FF97FF",
           "#FECB52"
          ],
          "font": {
           "color": "#2a3f5f"
          },
          "geo": {
           "bgcolor": "white",
           "lakecolor": "white",
           "landcolor": "#E5ECF6",
           "showlakes": true,
           "showland": true,
           "subunitcolor": "white"
          },
          "hoverlabel": {
           "align": "left"
          },
          "hovermode": "closest",
          "mapbox": {
           "style": "light"
          },
          "paper_bgcolor": "white",
          "plot_bgcolor": "#E5ECF6",
          "polar": {
           "angularaxis": {
            "gridcolor": "white",
            "linecolor": "white",
            "ticks": ""
           },
           "bgcolor": "#E5ECF6",
           "radialaxis": {
            "gridcolor": "white",
            "linecolor": "white",
            "ticks": ""
           }
          },
          "scene": {
           "xaxis": {
            "backgroundcolor": "#E5ECF6",
            "gridcolor": "white",
            "gridwidth": 2,
            "linecolor": "white",
            "showbackground": true,
            "ticks": "",
            "zerolinecolor": "white"
           },
           "yaxis": {
            "backgroundcolor": "#E5ECF6",
            "gridcolor": "white",
            "gridwidth": 2,
            "linecolor": "white",
            "showbackground": true,
            "ticks": "",
            "zerolinecolor": "white"
           },
           "zaxis": {
            "backgroundcolor": "#E5ECF6",
            "gridcolor": "white",
            "gridwidth": 2,
            "linecolor": "white",
            "showbackground": true,
            "ticks": "",
            "zerolinecolor": "white"
           }
          },
          "shapedefaults": {
           "line": {
            "color": "#2a3f5f"
           }
          },
          "ternary": {
           "aaxis": {
            "gridcolor": "white",
            "linecolor": "white",
            "ticks": ""
           },
           "baxis": {
            "gridcolor": "white",
            "linecolor": "white",
            "ticks": ""
           },
           "bgcolor": "#E5ECF6",
           "caxis": {
            "gridcolor": "white",
            "linecolor": "white",
            "ticks": ""
           }
          },
          "title": {
           "x": 0.05
          },
          "xaxis": {
           "automargin": true,
           "gridcolor": "white",
           "linecolor": "white",
           "ticks": "",
           "title": {
            "standoff": 15
           },
           "zerolinecolor": "white",
           "zerolinewidth": 2
          },
          "yaxis": {
           "automargin": true,
           "gridcolor": "white",
           "linecolor": "white",
           "ticks": "",
           "title": {
            "standoff": 15
           },
           "zerolinecolor": "white",
           "zerolinewidth": 2
          }
         }
        },
        "title": {
         "text": "Confusion Matrix"
        },
        "width": 600,
        "xaxis": {
         "anchor": "y",
         "constrain": "domain",
         "domain": [
          0,
          1
         ],
         "scaleanchor": "y",
         "title": {
          "text": "Predicted Category"
         }
        },
        "yaxis": {
         "anchor": "x",
         "autorange": "reversed",
         "constrain": "domain",
         "domain": [
          0,
          1
         ],
         "title": {
          "text": "True Category"
         }
        }
       }
      }
     },
     "metadata": {},
     "output_type": "display_data"
    }
   ],
   "source": [
    "cm = confusion_matrix(y_test, y_test_pred_supervised, labels=np.unique(y_test))\n",
    "\n",
    "\n",
    "# plot the confusion matrix using plotly\n",
    "fig = px.imshow(\n",
    "    cm,\n",
    "    text_auto=True,\n",
    "    labels=dict(x=\"Predicted Category\", y=\"True Category\", color=\"Count\"),\n",
    "    x=np.unique(y_test),\n",
    "    y=np.unique(y_test),\n",
    "    color_continuous_scale='YlGn',\n",
    "    # aspect=\"auto\",\n",
    "    title=\"Confusion Matrix\",\n",
    "    width=600,\n",
    "    height=600\n",
    ")\n",
    "fig.show()"
   ]
  },
  {
   "cell_type": "markdown",
   "id": "7ccced6c",
   "metadata": {},
   "source": [
    "## Learning Curve Analysis\n",
    "\n",
    "To investigate how the amount of training data influences model performance, we trained the logistic regression classifier on progressively larger fractions of the training set, ranging from $1%$ to nearly $100%$. The results show that the test accuracy increased rapidly with the addition of more data: starting at ~$46%$ with just $1%$ of the data, surpassing $90%$ by around $5%$, and reaching over $97%$ once about $95%$ of the data was used. Beyond this point, the accuracy plateaued, indicating that the model had effectively learned the patterns in the data. This analysis highlights the significant impact of training set size on classifier performance, especially in the early stages, and confirms that our dataset is sufficiently large to achieve strong generalization.\n",
    "\n"
   ]
  },
  {
   "cell_type": "code",
   "execution_count": 32,
   "id": "7acdd499",
   "metadata": {},
   "outputs": [
    {
     "name": "stdout",
     "output_type": "stream",
     "text": [
      "Train size: 1.000% -> Test accuracy: 0.463087\n",
      "Train size: 3.000% -> Test accuracy: 0.758389\n",
      "Train size: 5.000% -> Test accuracy: 0.912752\n",
      "Train size: 8.000% -> Test accuracy: 0.932886\n",
      "Train size: 10.000% -> Test accuracy: 0.936242\n",
      "Train size: 20.000% -> Test accuracy: 0.953020\n",
      "Train size: 30.000% -> Test accuracy: 0.969799\n",
      "Train size: 40.000% -> Test accuracy: 0.969799\n",
      "Train size: 50.000% -> Test accuracy: 0.966443\n",
      "Train size: 60.000% -> Test accuracy: 0.969799\n",
      "Train size: 70.000% -> Test accuracy: 0.966443\n",
      "Train size: 80.000% -> Test accuracy: 0.966443\n",
      "Train size: 90.000% -> Test accuracy: 0.969799\n",
      "Train size: 95.000% -> Test accuracy: 0.973154\n",
      "Train size: 99.000% -> Test accuracy: 0.976510\n",
      "Train size: 99.900% -> Test accuracy: 0.976510\n",
      "Train size: 99.990% -> Test accuracy: 0.976510\n",
      "Train size: 99.999% -> Test accuracy: 0.976510\n"
     ]
    }
   ],
   "source": [
    "train_sizes = []\n",
    "accuracies = []\n",
    "train_fracs = [0.01, 0.03, 0.05, 0.08, 0.1, 0.2, 0.3, 0.4, 0.5, 0.6, 0.7, 0.8, 0.90, 0.95, 0.99, 0.999, 0.9999, 0.99999]\n",
    "\n",
    "for frac in train_fracs:\n",
    "    X_partial, _, y_partial, _ = train_test_split(X_train, y_train, train_size=frac, random_state=CONFIG['RANDOM_STATE'])\n",
    "    clf.fit(X_partial, y_partial)\n",
    "    y_test_pred = clf.predict(X_test)\n",
    "    acc = accuracy_score(y_test, y_test_pred)\n",
    "    train_sizes.append(frac * 100)  # percent\n",
    "    accuracies.append(acc)\n",
    "    print(f\"Train size: {frac*100:.3f}% -> Test accuracy: {acc:.6f}\")\n"
   ]
  },
  {
   "cell_type": "code",
   "execution_count": 33,
   "id": "68ed627e",
   "metadata": {},
   "outputs": [
    {
     "data": {
      "application/vnd.plotly.v1+json": {
       "config": {
        "plotlyServerURL": "https://plot.ly"
       },
       "data": [
        {
         "hovertemplate": "Training Data Size (%)=%{x}<br>Test Accuracy=%{y}<extra></extra>",
         "legendgroup": "",
         "line": {
          "color": "#636efa",
          "dash": "solid"
         },
         "marker": {
          "symbol": "circle"
         },
         "mode": "lines+markers",
         "name": "",
         "orientation": "v",
         "showlegend": false,
         "type": "scatter",
         "x": {
          "bdata": "AAAAAAAA8D8AAAAAAAAIQAAAAAAAABRAAAAAAAAAIEAAAAAAAAAkQAAAAAAAADRAAAAAAAAAPkAAAAAAAABEQAAAAAAAAElAAAAAAAAATkAAAAAAAIBRQAAAAAAAAFRAAAAAAACAVkAAAAAAAMBXQAAAAAAAwFhAmpmZmZn5WECPwvUoXP9YQA8tsp3v/1hA",
          "dtype": "f8"
         },
         "xaxis": "x",
         "y": {
          "bdata": "kj+vsjij3T+BoZqOuUToP8TWtwFDNe0/+fMqizPa7T8tzmj3sPXtPy4RnhQkf+4/MFTTMZcI7z8wVNMxlwjvP/15lcUZ7e4/MFTTMZcI7z/9eZXFGe3uP/15lcUZ7e4/MFTTMZcI7z9kLhGeFCTvP5cITwqSP+8/lwhPCpI/7z+XCE8Kkj/vP5cITwqSP+8/",
          "dtype": "f8"
         },
         "yaxis": "y"
        }
       ],
       "layout": {
        "height": 600,
        "legend": {
         "tracegroupgap": 0
        },
        "template": {
         "data": {
          "bar": [
           {
            "error_x": {
             "color": "#2a3f5f"
            },
            "error_y": {
             "color": "#2a3f5f"
            },
            "marker": {
             "line": {
              "color": "#E5ECF6",
              "width": 0.5
             },
             "pattern": {
              "fillmode": "overlay",
              "size": 10,
              "solidity": 0.2
             }
            },
            "type": "bar"
           }
          ],
          "barpolar": [
           {
            "marker": {
             "line": {
              "color": "#E5ECF6",
              "width": 0.5
             },
             "pattern": {
              "fillmode": "overlay",
              "size": 10,
              "solidity": 0.2
             }
            },
            "type": "barpolar"
           }
          ],
          "carpet": [
           {
            "aaxis": {
             "endlinecolor": "#2a3f5f",
             "gridcolor": "white",
             "linecolor": "white",
             "minorgridcolor": "white",
             "startlinecolor": "#2a3f5f"
            },
            "baxis": {
             "endlinecolor": "#2a3f5f",
             "gridcolor": "white",
             "linecolor": "white",
             "minorgridcolor": "white",
             "startlinecolor": "#2a3f5f"
            },
            "type": "carpet"
           }
          ],
          "choropleth": [
           {
            "colorbar": {
             "outlinewidth": 0,
             "ticks": ""
            },
            "type": "choropleth"
           }
          ],
          "contour": [
           {
            "colorbar": {
             "outlinewidth": 0,
             "ticks": ""
            },
            "colorscale": [
             [
              0,
              "#0d0887"
             ],
             [
              0.1111111111111111,
              "#46039f"
             ],
             [
              0.2222222222222222,
              "#7201a8"
             ],
             [
              0.3333333333333333,
              "#9c179e"
             ],
             [
              0.4444444444444444,
              "#bd3786"
             ],
             [
              0.5555555555555556,
              "#d8576b"
             ],
             [
              0.6666666666666666,
              "#ed7953"
             ],
             [
              0.7777777777777778,
              "#fb9f3a"
             ],
             [
              0.8888888888888888,
              "#fdca26"
             ],
             [
              1,
              "#f0f921"
             ]
            ],
            "type": "contour"
           }
          ],
          "contourcarpet": [
           {
            "colorbar": {
             "outlinewidth": 0,
             "ticks": ""
            },
            "type": "contourcarpet"
           }
          ],
          "heatmap": [
           {
            "colorbar": {
             "outlinewidth": 0,
             "ticks": ""
            },
            "colorscale": [
             [
              0,
              "#0d0887"
             ],
             [
              0.1111111111111111,
              "#46039f"
             ],
             [
              0.2222222222222222,
              "#7201a8"
             ],
             [
              0.3333333333333333,
              "#9c179e"
             ],
             [
              0.4444444444444444,
              "#bd3786"
             ],
             [
              0.5555555555555556,
              "#d8576b"
             ],
             [
              0.6666666666666666,
              "#ed7953"
             ],
             [
              0.7777777777777778,
              "#fb9f3a"
             ],
             [
              0.8888888888888888,
              "#fdca26"
             ],
             [
              1,
              "#f0f921"
             ]
            ],
            "type": "heatmap"
           }
          ],
          "histogram": [
           {
            "marker": {
             "pattern": {
              "fillmode": "overlay",
              "size": 10,
              "solidity": 0.2
             }
            },
            "type": "histogram"
           }
          ],
          "histogram2d": [
           {
            "colorbar": {
             "outlinewidth": 0,
             "ticks": ""
            },
            "colorscale": [
             [
              0,
              "#0d0887"
             ],
             [
              0.1111111111111111,
              "#46039f"
             ],
             [
              0.2222222222222222,
              "#7201a8"
             ],
             [
              0.3333333333333333,
              "#9c179e"
             ],
             [
              0.4444444444444444,
              "#bd3786"
             ],
             [
              0.5555555555555556,
              "#d8576b"
             ],
             [
              0.6666666666666666,
              "#ed7953"
             ],
             [
              0.7777777777777778,
              "#fb9f3a"
             ],
             [
              0.8888888888888888,
              "#fdca26"
             ],
             [
              1,
              "#f0f921"
             ]
            ],
            "type": "histogram2d"
           }
          ],
          "histogram2dcontour": [
           {
            "colorbar": {
             "outlinewidth": 0,
             "ticks": ""
            },
            "colorscale": [
             [
              0,
              "#0d0887"
             ],
             [
              0.1111111111111111,
              "#46039f"
             ],
             [
              0.2222222222222222,
              "#7201a8"
             ],
             [
              0.3333333333333333,
              "#9c179e"
             ],
             [
              0.4444444444444444,
              "#bd3786"
             ],
             [
              0.5555555555555556,
              "#d8576b"
             ],
             [
              0.6666666666666666,
              "#ed7953"
             ],
             [
              0.7777777777777778,
              "#fb9f3a"
             ],
             [
              0.8888888888888888,
              "#fdca26"
             ],
             [
              1,
              "#f0f921"
             ]
            ],
            "type": "histogram2dcontour"
           }
          ],
          "mesh3d": [
           {
            "colorbar": {
             "outlinewidth": 0,
             "ticks": ""
            },
            "type": "mesh3d"
           }
          ],
          "parcoords": [
           {
            "line": {
             "colorbar": {
              "outlinewidth": 0,
              "ticks": ""
             }
            },
            "type": "parcoords"
           }
          ],
          "pie": [
           {
            "automargin": true,
            "type": "pie"
           }
          ],
          "scatter": [
           {
            "fillpattern": {
             "fillmode": "overlay",
             "size": 10,
             "solidity": 0.2
            },
            "type": "scatter"
           }
          ],
          "scatter3d": [
           {
            "line": {
             "colorbar": {
              "outlinewidth": 0,
              "ticks": ""
             }
            },
            "marker": {
             "colorbar": {
              "outlinewidth": 0,
              "ticks": ""
             }
            },
            "type": "scatter3d"
           }
          ],
          "scattercarpet": [
           {
            "marker": {
             "colorbar": {
              "outlinewidth": 0,
              "ticks": ""
             }
            },
            "type": "scattercarpet"
           }
          ],
          "scattergeo": [
           {
            "marker": {
             "colorbar": {
              "outlinewidth": 0,
              "ticks": ""
             }
            },
            "type": "scattergeo"
           }
          ],
          "scattergl": [
           {
            "marker": {
             "colorbar": {
              "outlinewidth": 0,
              "ticks": ""
             }
            },
            "type": "scattergl"
           }
          ],
          "scattermap": [
           {
            "marker": {
             "colorbar": {
              "outlinewidth": 0,
              "ticks": ""
             }
            },
            "type": "scattermap"
           }
          ],
          "scattermapbox": [
           {
            "marker": {
             "colorbar": {
              "outlinewidth": 0,
              "ticks": ""
             }
            },
            "type": "scattermapbox"
           }
          ],
          "scatterpolar": [
           {
            "marker": {
             "colorbar": {
              "outlinewidth": 0,
              "ticks": ""
             }
            },
            "type": "scatterpolar"
           }
          ],
          "scatterpolargl": [
           {
            "marker": {
             "colorbar": {
              "outlinewidth": 0,
              "ticks": ""
             }
            },
            "type": "scatterpolargl"
           }
          ],
          "scatterternary": [
           {
            "marker": {
             "colorbar": {
              "outlinewidth": 0,
              "ticks": ""
             }
            },
            "type": "scatterternary"
           }
          ],
          "surface": [
           {
            "colorbar": {
             "outlinewidth": 0,
             "ticks": ""
            },
            "colorscale": [
             [
              0,
              "#0d0887"
             ],
             [
              0.1111111111111111,
              "#46039f"
             ],
             [
              0.2222222222222222,
              "#7201a8"
             ],
             [
              0.3333333333333333,
              "#9c179e"
             ],
             [
              0.4444444444444444,
              "#bd3786"
             ],
             [
              0.5555555555555556,
              "#d8576b"
             ],
             [
              0.6666666666666666,
              "#ed7953"
             ],
             [
              0.7777777777777778,
              "#fb9f3a"
             ],
             [
              0.8888888888888888,
              "#fdca26"
             ],
             [
              1,
              "#f0f921"
             ]
            ],
            "type": "surface"
           }
          ],
          "table": [
           {
            "cells": {
             "fill": {
              "color": "#EBF0F8"
             },
             "line": {
              "color": "white"
             }
            },
            "header": {
             "fill": {
              "color": "#C8D4E3"
             },
             "line": {
              "color": "white"
             }
            },
            "type": "table"
           }
          ]
         },
         "layout": {
          "annotationdefaults": {
           "arrowcolor": "#2a3f5f",
           "arrowhead": 0,
           "arrowwidth": 1
          },
          "autotypenumbers": "strict",
          "coloraxis": {
           "colorbar": {
            "outlinewidth": 0,
            "ticks": ""
           }
          },
          "colorscale": {
           "diverging": [
            [
             0,
             "#8e0152"
            ],
            [
             0.1,
             "#c51b7d"
            ],
            [
             0.2,
             "#de77ae"
            ],
            [
             0.3,
             "#f1b6da"
            ],
            [
             0.4,
             "#fde0ef"
            ],
            [
             0.5,
             "#f7f7f7"
            ],
            [
             0.6,
             "#e6f5d0"
            ],
            [
             0.7,
             "#b8e186"
            ],
            [
             0.8,
             "#7fbc41"
            ],
            [
             0.9,
             "#4d9221"
            ],
            [
             1,
             "#276419"
            ]
           ],
           "sequential": [
            [
             0,
             "#0d0887"
            ],
            [
             0.1111111111111111,
             "#46039f"
            ],
            [
             0.2222222222222222,
             "#7201a8"
            ],
            [
             0.3333333333333333,
             "#9c179e"
            ],
            [
             0.4444444444444444,
             "#bd3786"
            ],
            [
             0.5555555555555556,
             "#d8576b"
            ],
            [
             0.6666666666666666,
             "#ed7953"
            ],
            [
             0.7777777777777778,
             "#fb9f3a"
            ],
            [
             0.8888888888888888,
             "#fdca26"
            ],
            [
             1,
             "#f0f921"
            ]
           ],
           "sequentialminus": [
            [
             0,
             "#0d0887"
            ],
            [
             0.1111111111111111,
             "#46039f"
            ],
            [
             0.2222222222222222,
             "#7201a8"
            ],
            [
             0.3333333333333333,
             "#9c179e"
            ],
            [
             0.4444444444444444,
             "#bd3786"
            ],
            [
             0.5555555555555556,
             "#d8576b"
            ],
            [
             0.6666666666666666,
             "#ed7953"
            ],
            [
             0.7777777777777778,
             "#fb9f3a"
            ],
            [
             0.8888888888888888,
             "#fdca26"
            ],
            [
             1,
             "#f0f921"
            ]
           ]
          },
          "colorway": [
           "#636efa",
           "#EF553B",
           "#00cc96",
           "#ab63fa",
           "#FFA15A",
           "#19d3f3",
           "#FF6692",
           "#B6E880",
           "#FF97FF",
           "#FECB52"
          ],
          "font": {
           "color": "#2a3f5f"
          },
          "geo": {
           "bgcolor": "white",
           "lakecolor": "white",
           "landcolor": "#E5ECF6",
           "showlakes": true,
           "showland": true,
           "subunitcolor": "white"
          },
          "hoverlabel": {
           "align": "left"
          },
          "hovermode": "closest",
          "mapbox": {
           "style": "light"
          },
          "paper_bgcolor": "white",
          "plot_bgcolor": "#E5ECF6",
          "polar": {
           "angularaxis": {
            "gridcolor": "white",
            "linecolor": "white",
            "ticks": ""
           },
           "bgcolor": "#E5ECF6",
           "radialaxis": {
            "gridcolor": "white",
            "linecolor": "white",
            "ticks": ""
           }
          },
          "scene": {
           "xaxis": {
            "backgroundcolor": "#E5ECF6",
            "gridcolor": "white",
            "gridwidth": 2,
            "linecolor": "white",
            "showbackground": true,
            "ticks": "",
            "zerolinecolor": "white"
           },
           "yaxis": {
            "backgroundcolor": "#E5ECF6",
            "gridcolor": "white",
            "gridwidth": 2,
            "linecolor": "white",
            "showbackground": true,
            "ticks": "",
            "zerolinecolor": "white"
           },
           "zaxis": {
            "backgroundcolor": "#E5ECF6",
            "gridcolor": "white",
            "gridwidth": 2,
            "linecolor": "white",
            "showbackground": true,
            "ticks": "",
            "zerolinecolor": "white"
           }
          },
          "shapedefaults": {
           "line": {
            "color": "#2a3f5f"
           }
          },
          "ternary": {
           "aaxis": {
            "gridcolor": "white",
            "linecolor": "white",
            "ticks": ""
           },
           "baxis": {
            "gridcolor": "white",
            "linecolor": "white",
            "ticks": ""
           },
           "bgcolor": "#E5ECF6",
           "caxis": {
            "gridcolor": "white",
            "linecolor": "white",
            "ticks": ""
           }
          },
          "title": {
           "x": 0.05
          },
          "xaxis": {
           "automargin": true,
           "gridcolor": "white",
           "linecolor": "white",
           "ticks": "",
           "title": {
            "standoff": 15
           },
           "zerolinecolor": "white",
           "zerolinewidth": 2
          },
          "yaxis": {
           "automargin": true,
           "gridcolor": "white",
           "linecolor": "white",
           "ticks": "",
           "title": {
            "standoff": 15
           },
           "zerolinecolor": "white",
           "zerolinewidth": 2
          }
         }
        },
        "title": {
         "text": "Test Accuracy vs Training Data Size (Supervised Learning)"
        },
        "width": 800,
        "xaxis": {
         "anchor": "y",
         "domain": [
          0,
          1
         ],
         "title": {
          "text": "Training Data Size (%)"
         }
        },
        "yaxis": {
         "anchor": "x",
         "domain": [
          0,
          1
         ],
         "range": [
          0,
          1
         ],
         "title": {
          "text": "Test Accuracy"
         }
        }
       }
      }
     },
     "metadata": {},
     "output_type": "display_data"
    }
   ],
   "source": [
    "df_plot = pd.DataFrame({\n",
    "    'Train Size (%)': train_sizes,\n",
    "    'Test Accuracy': accuracies\n",
    "})\n",
    "\n",
    "fig = px.line(\n",
    "    df_plot, \n",
    "    x='Train Size (%)', \n",
    "    y='Test Accuracy', \n",
    "    markers=True,\n",
    "    title='Test Accuracy vs Training Data Size (Supervised Learning)',\n",
    "    labels={'Train Size (%)': 'Training Data Size (%)', 'Test Accuracy': 'Test Accuracy'},\n",
    "    width=800,\n",
    "    height=600\n",
    ")\n",
    "fig.update_layout(yaxis=dict(range=[0,1]))  # fix scale to [0,1]\n",
    "fig.show()"
   ]
  },
  {
   "cell_type": "markdown",
   "id": "691da67a",
   "metadata": {},
   "source": [
    "## References\n",
    "- Pennington et al. \"GloVe: Global Vectors for Word Representation.\" EMNLP 2014.\n",
    "- [sklearn documentation](https://scikit-learn.org/stable/documentation.html)\n",
    "- [NLTK documentation](https://www.nltk.org/howto/tokenize.html)\n",
    "- [DTSA 5747: Fundamentals of Natural Language Processing](https://www.colorado.edu/program/data-science/coursera/curriculum/dtsa5747)"
   ]
  },
  {
   "cell_type": "markdown",
   "id": "c2500177",
   "metadata": {},
   "source": []
  }
 ],
 "metadata": {
  "kernelspec": {
   "display_name": "csca-5632-bbc-news",
   "language": "python",
   "name": "python3"
  },
  "language_info": {
   "codemirror_mode": {
    "name": "ipython",
    "version": 3
   },
   "file_extension": ".py",
   "mimetype": "text/x-python",
   "name": "python",
   "nbconvert_exporter": "python",
   "pygments_lexer": "ipython3",
   "version": "3.10.16"
  }
 },
 "nbformat": 4,
 "nbformat_minor": 5
}
